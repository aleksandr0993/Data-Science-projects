{
 "cells": [
  {
   "cell_type": "code",
   "execution_count": 3,
   "metadata": {},
   "outputs": [],
   "source": [
    "import pandas as pd\n",
    "import numpy as np\n",
    "from statsmodels.tsa.seasonal import seasonal_decompose\n",
    "from sklearn.model_selection import train_test_split\n",
    "from sklearn.metrics import mean_squared_error\n",
    "from sklearn.linear_model import LinearRegression\n",
    "from lightgbm import LGBMRegressor\n",
    "from sklearn.model_selection import GridSearchCV\n",
    "from sklearn.model_selection import TimeSeriesSplit\n",
    "from pandas.plotting import autocorrelation_plot\n",
    "import matplotlib\n",
    "from matplotlib import pyplot\n",
    "import statsmodels.api as sm\n",
    "from statsmodels.iolib.table import SimpleTable\n",
    "from sklearn.metrics import r2_score\n",
    "import ml_metrics as metrics"
   ]
  },
  {
   "cell_type": "markdown",
   "metadata": {
    "toc": true
   },
   "source": [
    "<h1>Содержание<span class=\"tocSkip\"></span></h1>\n",
    "</font></a></span></li></ul></li><li><span><a href=\"#Подготовка\" data-toc-modified-id=\"Подготовка-1\"><span class=\"toc-item-num\">1&nbsp;&nbsp;</span>Подготовка</a></span></li><li><span><a href=\"#Анализ\" data-toc-modified-id=\"Анализ-2\"><span class=\"toc-item-num\">2&nbsp;&nbsp;</span>Анализ</a></span></li><li><span><a href=\"#Обучение\" data-toc-modified-id=\"Обучение-3\"><span class=\"toc-item-num\">3&nbsp;&nbsp;</span>Обучение</a></span></li><li><span><a href=\"#Тестирование\" data-toc-modified-id=\"Тестирование-4\"><span class=\"toc-item-num\">4&nbsp;&nbsp;</span>Тестирование</a></span></li><li><span><a href=\"#Вывод:-данные-просемплированы-и-проанализированы.-Обучены-разные-модели.-Удалось-достичь-RMSE-ниже-48.\" data-toc-modified-id=\"Вывод:-данные-просемплированы-и-проанализированы.-Обучены-разные-модели.-Удалось-достичь-RMSE-ниже-48.-5\"><span class=\"toc-item-num\">5&nbsp;&nbsp;</span>Вывод: данные просемплированы и проанализированы. Обучены разные модели. Удалось достичь RMSE ниже 48.</a></span></li><li><span><a href=\"#Чек-лист-проверки\" data-toc-modified-id=\"Чек-лист-проверки-6\"><span class=\"toc-item-num\">6&nbsp;&nbsp;</span>Чек-лист проверки</a></span></li></ul></div>"
   ]
  },
  {
   "cell_type": "markdown",
   "metadata": {},
   "source": [
    "#  Прогнозирование заказов такси"
   ]
  },
  {
   "cell_type": "markdown",
   "metadata": {},
   "source": [
    "Компания «Чётенькое такси» собрала исторические данные о заказах такси в аэропортах. Чтобы привлекать больше водителей в период пиковой нагрузки, нужно спрогнозировать количество заказов такси на следующий час. Постройте модель для такого предсказания.\n",
    "\n",
    "Значение метрики *RMSE* на тестовой выборке должно быть не больше 48.\n",
    "\n",
    "Вам нужно:\n",
    "\n",
    "1. Загрузить данные и выполнить их ресемплирование по одному часу.\n",
    "2. Проанализировать данные.\n",
    "3. Обучить разные модели с различными гиперпараметрами. Сделать тестовую выборку размером 10% от исходных данных.\n",
    "4. Проверить данные на тестовой выборке и сделать выводы.\n",
    "\n",
    "\n",
    "Данные лежат в файле `taxi.csv`. Количество заказов находится в столбце `num_orders` (от англ. *number of orders*, «число заказов»)."
   ]
  },
  {
   "cell_type": "markdown",
   "metadata": {},
   "source": [
    "## Подготовка"
   ]
  },
  {
   "cell_type": "code",
   "execution_count": 4,
   "metadata": {},
   "outputs": [
    {
     "data": {
      "text/html": [
       "<div>\n",
       "<style scoped>\n",
       "    .dataframe tbody tr th:only-of-type {\n",
       "        vertical-align: middle;\n",
       "    }\n",
       "\n",
       "    .dataframe tbody tr th {\n",
       "        vertical-align: top;\n",
       "    }\n",
       "\n",
       "    .dataframe thead th {\n",
       "        text-align: right;\n",
       "    }\n",
       "</style>\n",
       "<table border=\"1\" class=\"dataframe\">\n",
       "  <thead>\n",
       "    <tr style=\"text-align: right;\">\n",
       "      <th></th>\n",
       "      <th>num_orders</th>\n",
       "    </tr>\n",
       "    <tr>\n",
       "      <th>datetime</th>\n",
       "      <th></th>\n",
       "    </tr>\n",
       "  </thead>\n",
       "  <tbody>\n",
       "    <tr>\n",
       "      <td>2018-03-01 00:00:00</td>\n",
       "      <td>9</td>\n",
       "    </tr>\n",
       "    <tr>\n",
       "      <td>2018-03-01 00:10:00</td>\n",
       "      <td>14</td>\n",
       "    </tr>\n",
       "    <tr>\n",
       "      <td>2018-03-01 00:20:00</td>\n",
       "      <td>28</td>\n",
       "    </tr>\n",
       "    <tr>\n",
       "      <td>2018-03-01 00:30:00</td>\n",
       "      <td>20</td>\n",
       "    </tr>\n",
       "    <tr>\n",
       "      <td>2018-03-01 00:40:00</td>\n",
       "      <td>32</td>\n",
       "    </tr>\n",
       "  </tbody>\n",
       "</table>\n",
       "</div>"
      ],
      "text/plain": [
       "                     num_orders\n",
       "datetime                       \n",
       "2018-03-01 00:00:00           9\n",
       "2018-03-01 00:10:00          14\n",
       "2018-03-01 00:20:00          28\n",
       "2018-03-01 00:30:00          20\n",
       "2018-03-01 00:40:00          32"
      ]
     },
     "execution_count": 4,
     "metadata": {},
     "output_type": "execute_result"
    }
   ],
   "source": [
    "df = pd.read_csv('/datasets/taxi.csv', index_col=[0], parse_dates=[0])\n",
    "df.head()"
   ]
  },
  {
   "cell_type": "code",
   "execution_count": 5,
   "metadata": {},
   "outputs": [
    {
     "name": "stdout",
     "output_type": "stream",
     "text": [
      "<class 'pandas.core.frame.DataFrame'>\n",
      "DatetimeIndex: 26496 entries, 2018-03-01 00:00:00 to 2018-08-31 23:50:00\n",
      "Data columns (total 1 columns):\n",
      "num_orders    26496 non-null int64\n",
      "dtypes: int64(1)\n",
      "memory usage: 414.0 KB\n"
     ]
    }
   ],
   "source": [
    "df.info()"
   ]
  },
  {
   "cell_type": "code",
   "execution_count": 6,
   "metadata": {},
   "outputs": [
    {
     "data": {
      "text/html": [
       "<div>\n",
       "<style scoped>\n",
       "    .dataframe tbody tr th:only-of-type {\n",
       "        vertical-align: middle;\n",
       "    }\n",
       "\n",
       "    .dataframe tbody tr th {\n",
       "        vertical-align: top;\n",
       "    }\n",
       "\n",
       "    .dataframe thead th {\n",
       "        text-align: right;\n",
       "    }\n",
       "</style>\n",
       "<table border=\"1\" class=\"dataframe\">\n",
       "  <thead>\n",
       "    <tr style=\"text-align: right;\">\n",
       "      <th></th>\n",
       "      <th>num_orders</th>\n",
       "    </tr>\n",
       "  </thead>\n",
       "  <tbody>\n",
       "    <tr>\n",
       "      <td>count</td>\n",
       "      <td>26496.000000</td>\n",
       "    </tr>\n",
       "    <tr>\n",
       "      <td>mean</td>\n",
       "      <td>14.070463</td>\n",
       "    </tr>\n",
       "    <tr>\n",
       "      <td>std</td>\n",
       "      <td>9.211330</td>\n",
       "    </tr>\n",
       "    <tr>\n",
       "      <td>min</td>\n",
       "      <td>0.000000</td>\n",
       "    </tr>\n",
       "    <tr>\n",
       "      <td>25%</td>\n",
       "      <td>8.000000</td>\n",
       "    </tr>\n",
       "    <tr>\n",
       "      <td>50%</td>\n",
       "      <td>13.000000</td>\n",
       "    </tr>\n",
       "    <tr>\n",
       "      <td>75%</td>\n",
       "      <td>19.000000</td>\n",
       "    </tr>\n",
       "    <tr>\n",
       "      <td>max</td>\n",
       "      <td>119.000000</td>\n",
       "    </tr>\n",
       "  </tbody>\n",
       "</table>\n",
       "</div>"
      ],
      "text/plain": [
       "         num_orders\n",
       "count  26496.000000\n",
       "mean      14.070463\n",
       "std        9.211330\n",
       "min        0.000000\n",
       "25%        8.000000\n",
       "50%       13.000000\n",
       "75%       19.000000\n",
       "max      119.000000"
      ]
     },
     "execution_count": 6,
     "metadata": {},
     "output_type": "execute_result"
    }
   ],
   "source": [
    "df.describe()"
   ]
  },
  {
   "cell_type": "code",
   "execution_count": 7,
   "metadata": {},
   "outputs": [
    {
     "data": {
      "text/html": [
       "<div>\n",
       "<style scoped>\n",
       "    .dataframe tbody tr th:only-of-type {\n",
       "        vertical-align: middle;\n",
       "    }\n",
       "\n",
       "    .dataframe tbody tr th {\n",
       "        vertical-align: top;\n",
       "    }\n",
       "\n",
       "    .dataframe thead th {\n",
       "        text-align: right;\n",
       "    }\n",
       "</style>\n",
       "<table border=\"1\" class=\"dataframe\">\n",
       "  <thead>\n",
       "    <tr style=\"text-align: right;\">\n",
       "      <th></th>\n",
       "      <th>num_orders</th>\n",
       "    </tr>\n",
       "    <tr>\n",
       "      <th>datetime</th>\n",
       "      <th></th>\n",
       "    </tr>\n",
       "  </thead>\n",
       "  <tbody>\n",
       "    <tr>\n",
       "      <td>2018-03-01 00:00:00</td>\n",
       "      <td>124</td>\n",
       "    </tr>\n",
       "    <tr>\n",
       "      <td>2018-03-01 01:00:00</td>\n",
       "      <td>85</td>\n",
       "    </tr>\n",
       "    <tr>\n",
       "      <td>2018-03-01 02:00:00</td>\n",
       "      <td>71</td>\n",
       "    </tr>\n",
       "    <tr>\n",
       "      <td>2018-03-01 03:00:00</td>\n",
       "      <td>66</td>\n",
       "    </tr>\n",
       "    <tr>\n",
       "      <td>2018-03-01 04:00:00</td>\n",
       "      <td>43</td>\n",
       "    </tr>\n",
       "    <tr>\n",
       "      <td>...</td>\n",
       "      <td>...</td>\n",
       "    </tr>\n",
       "    <tr>\n",
       "      <td>2018-08-31 19:00:00</td>\n",
       "      <td>136</td>\n",
       "    </tr>\n",
       "    <tr>\n",
       "      <td>2018-08-31 20:00:00</td>\n",
       "      <td>154</td>\n",
       "    </tr>\n",
       "    <tr>\n",
       "      <td>2018-08-31 21:00:00</td>\n",
       "      <td>159</td>\n",
       "    </tr>\n",
       "    <tr>\n",
       "      <td>2018-08-31 22:00:00</td>\n",
       "      <td>223</td>\n",
       "    </tr>\n",
       "    <tr>\n",
       "      <td>2018-08-31 23:00:00</td>\n",
       "      <td>205</td>\n",
       "    </tr>\n",
       "  </tbody>\n",
       "</table>\n",
       "<p>4416 rows × 1 columns</p>\n",
       "</div>"
      ],
      "text/plain": [
       "                     num_orders\n",
       "datetime                       \n",
       "2018-03-01 00:00:00         124\n",
       "2018-03-01 01:00:00          85\n",
       "2018-03-01 02:00:00          71\n",
       "2018-03-01 03:00:00          66\n",
       "2018-03-01 04:00:00          43\n",
       "...                         ...\n",
       "2018-08-31 19:00:00         136\n",
       "2018-08-31 20:00:00         154\n",
       "2018-08-31 21:00:00         159\n",
       "2018-08-31 22:00:00         223\n",
       "2018-08-31 23:00:00         205\n",
       "\n",
       "[4416 rows x 1 columns]"
      ]
     },
     "execution_count": 7,
     "metadata": {},
     "output_type": "execute_result"
    }
   ],
   "source": [
    "df = df.resample('1H').sum()\n",
    "df"
   ]
  },
  {
   "cell_type": "code",
   "execution_count": 8,
   "metadata": {},
   "outputs": [
    {
     "data": {
      "text/plain": [
       "array([[<matplotlib.axes._subplots.AxesSubplot object at 0x7fe0a8eac610>]],\n",
       "      dtype=object)"
      ]
     },
     "execution_count": 8,
     "metadata": {},
     "output_type": "execute_result"
    },
    {
     "data": {
      "image/png": "[encoded data removed]",
      "text/plain": [
       "<Figure size 432x288 with 1 Axes>"
      ]
     },
     "metadata": {
      "needs_background": "light"
     },
     "output_type": "display_data"
    }
   ],
   "source": [
    "df.hist()"
   ]
  },
  {
   "cell_type": "markdown",
   "metadata": {},
   "source": [
    " Найдем коэффициент вариации: у нас относительно небольшой разброс целевого признака"
   ]
  },
  {
   "cell_type": "code",
   "execution_count": 9,
   "metadata": {},
   "outputs": [
    {
     "name": "stdout",
     "output_type": "stream",
     "text": [
      "V = 0.533314\n"
     ]
    }
   ],
   "source": [
    "print ('V = %f' % (df.std()/df.mean()))"
   ]
  },
  {
   "cell_type": "code",
   "execution_count": 10,
   "metadata": {},
   "outputs": [
    {
     "data": {
      "text/plain": [
       "True"
      ]
     },
     "execution_count": 10,
     "metadata": {},
     "output_type": "execute_result"
    }
   ],
   "source": [
    "df.index.is_monotonic"
   ]
  },
  {
   "cell_type": "markdown",
   "metadata": {},
   "source": [
    "## Анализ"
   ]
  },
  {
   "cell_type": "code",
   "execution_count": 11,
   "metadata": {},
   "outputs": [
    {
     "data": {
      "text/html": [
       "<table class=\"simpletable\">\n",
       "<tr>\n",
       "          <th>JB</th>         <th>p-value</th>        <th>skew</th>            <th>kurtosis</th>     \n",
       "</tr>\n",
       "<tr>\n",
       "  <td>3644.4335517264863</td>   <td>0.0</td>   <td>1.1885516779344458</td> <td>6.762457138757449</td>\n",
       "</tr>\n",
       "</table>"
      ],
      "text/plain": [
       "<class 'statsmodels.iolib.table.SimpleTable'>"
      ]
     },
     "execution_count": 11,
     "metadata": {},
     "output_type": "execute_result"
    }
   ],
   "source": [
    "row =  [u'JB', u'p-value', u'skew', u'kurtosis']\n",
    "jb_test = sm.stats.stattools.jarque_bera(df['num_orders'])\n",
    "SimpleTable(np.vstack([jb_test]), row)"
   ]
  },
  {
   "cell_type": "markdown",
   "metadata": {},
   "source": [
    "Для проверки проверки стационарности давайте проведем обобщенный тест Дикки-Фуллера на наличие единичных корней"
   ]
  },
  {
   "cell_type": "code",
   "execution_count": 12,
   "metadata": {},
   "outputs": [
    {
     "name": "stdout",
     "output_type": "stream",
     "text": [
      "adf:  -3.068924289027949\n",
      "p-value:  0.02894005140261345\n",
      "Critical values:  {'1%': -3.431842162413052, '5%': -2.8621993540813637, '10%': -2.567120978470452}\n",
      "единичных корней нет, ряд стационарен\n"
     ]
    }
   ],
   "source": [
    "test = sm.tsa.adfuller(df['num_orders'])\n",
    "print ('adf: ', test[0] )\n",
    "print ('p-value: ', test[1])\n",
    "print('Critical values: ', test[4])\n",
    "if test[0]> test[4]['5%']: \n",
    "    print ('есть единичные корни, ряд не стационарен')\n",
    "else:\n",
    "    print ('единичных корней нет, ряд стационарен')"
   ]
  },
  {
   "cell_type": "code",
   "execution_count": 13,
   "metadata": {},
   "outputs": [
    {
     "name": "stdout",
     "output_type": "stream",
     "text": [
      "p-value:  0.9587910561476498\n"
     ]
    }
   ],
   "source": [
    "dif = df.diff(periods=1).dropna()\n",
    "m = dif['num_orders'].index[len(dif['num_orders'].index)//2+1]\n",
    "r1 = sm.stats.DescrStatsW(dif['num_orders'][m:])\n",
    "r2 = sm.stats.DescrStatsW(dif['num_orders'][:m])\n",
    "print ('p-value: ', sm.stats.CompareMeans(r1,r2).ttest_ind()[1])"
   ]
  },
  {
   "cell_type": "code",
   "execution_count": 14,
   "metadata": {},
   "outputs": [
    {
     "data": {
      "text/plain": [
       "<matplotlib.axes._subplots.AxesSubplot at 0x7fe0a4532c10>"
      ]
     },
     "execution_count": 14,
     "metadata": {},
     "output_type": "execute_result"
    },
    {
     "data": {
      "image/png": "[encoded data removed]",
      "text/plain": [
       "<Figure size 720x504 with 1 Axes>"
      ]
     },
     "metadata": {
      "needs_background": "light"
     },
     "output_type": "display_data"
    }
   ],
   "source": [
    "dif.plot(figsize=(10,7))"
   ]
  },
  {
   "cell_type": "code",
   "execution_count": 15,
   "metadata": {},
   "outputs": [
    {
     "data": {
      "text/plain": [
       "<matplotlib.axes._subplots.AxesSubplot at 0x7fe0a43e2e10>"
      ]
     },
     "execution_count": 15,
     "metadata": {},
     "output_type": "execute_result"
    },
    {
     "data": {
      "image/png": "[encoded data removed]",
      "text/plain": [
       "<Figure size 720x504 with 1 Axes>"
      ]
     },
     "metadata": {
      "needs_background": "light"
     },
     "output_type": "display_data"
    }
   ],
   "source": [
    "df.rolling(500).sum().plot(figsize = [10,7])"
   ]
  },
  {
   "cell_type": "code",
   "execution_count": 16,
   "metadata": {},
   "outputs": [
    {
     "data": {
      "image/png": "[encoded data removed]",
      "text/plain": [
       "<Figure size 432x288 with 1 Axes>"
      ]
     },
     "metadata": {
      "needs_background": "light"
     },
     "output_type": "display_data"
    },
    {
     "data": {
      "text/plain": [
       "<Figure size 720x504 with 0 Axes>"
      ]
     },
     "metadata": {},
     "output_type": "display_data"
    }
   ],
   "source": [
    "autocorrelation_plot(df)\n",
    "pyplot.figure(figsize=(10,7))\n",
    "pyplot.show()"
   ]
  },
  {
   "cell_type": "markdown",
   "metadata": {},
   "source": [
    "\n",
    "<div class=\"alert alert-block alert-info\">\n",
    "<b>Совет: </b> Сам график желательно было сделать шире.\n",
    "</div>"
   ]
  },
  {
   "cell_type": "code",
   "execution_count": 17,
   "metadata": {},
   "outputs": [],
   "source": [
    "#df = df.resample('1H').sum()"
   ]
  },
  {
   "cell_type": "code",
   "execution_count": 18,
   "metadata": {},
   "outputs": [
    {
     "data": {
      "text/plain": [
       "<matplotlib.axes._subplots.AxesSubplot at 0x7fe0a430f4d0>"
      ]
     },
     "execution_count": 18,
     "metadata": {},
     "output_type": "execute_result"
    },
    {
     "data": {
      "image/png": "[encoded data removed]",
      "text/plain": [
       "<Figure size 720x504 with 1 Axes>"
      ]
     },
     "metadata": {
      "needs_background": "light"
     },
     "output_type": "display_data"
    }
   ],
   "source": [
    "decomposed = seasonal_decompose(df)\n",
    "decomposed.trend.plot(figsize = [10,7])"
   ]
  },
  {
   "cell_type": "code",
   "execution_count": 19,
   "metadata": {},
   "outputs": [
    {
     "data": {
      "text/plain": [
       "<matplotlib.axes._subplots.AxesSubplot at 0x7fe0a4211d50>"
      ]
     },
     "execution_count": 19,
     "metadata": {},
     "output_type": "execute_result"
    },
    {
     "data": {
      "image/png": "[encoded data removed]",
      "text/plain": [
       "<Figure size 720x504 with 1 Axes>"
      ]
     },
     "metadata": {
      "needs_background": "light"
     },
     "output_type": "display_data"
    }
   ],
   "source": [
    "decomposed.seasonal['2018-03-01 00:00:00':'2018-03-02 23:00:00'].plot(figsize = [10,7])"
   ]
  },
  {
   "cell_type": "code",
   "execution_count": 20,
   "metadata": {},
   "outputs": [
    {
     "data": {
      "text/plain": [
       "<matplotlib.axes._subplots.AxesSubplot at 0x7fe0a4117610>"
      ]
     },
     "execution_count": 20,
     "metadata": {},
     "output_type": "execute_result"
    },
    {
     "data": {
      "image/png": "[encoded data removed]",
      "text/plain": [
       "<Figure size 720x504 with 1 Axes>"
      ]
     },
     "metadata": {
      "needs_background": "light"
     },
     "output_type": "display_data"
    }
   ],
   "source": [
    "decomposed.resid.plot(figsize = [10,7])"
   ]
  },
  {
   "cell_type": "code",
   "execution_count": 22,
   "metadata": {},
   "outputs": [
    {
     "data": {
      "text/plain": [
       "<matplotlib.axes._subplots.AxesSubplot at 0x7fe0a3fb1b10>"
      ]
     },
     "execution_count": 22,
     "metadata": {},
     "output_type": "execute_result"
    },
    {
     "data": {
      "image/png": "[encoded data removed]",
      "text/plain": [
       "<Figure size 720x504 with 1 Axes>"
      ]
     },
     "metadata": {
      "needs_background": "light"
     },
     "output_type": "display_data"
    }
   ],
   "source": [
    "df.shift(fill_value=0).rolling(100).sum().plot(figsize = [10,7])"
   ]
  },
  {
   "cell_type": "code",
   "execution_count": 23,
   "metadata": {},
   "outputs": [
    {
     "data": {
      "text/plain": [
       "<matplotlib.axes._subplots.AxesSubplot at 0x7fe09bbdf3d0>"
      ]
     },
     "execution_count": 23,
     "metadata": {},
     "output_type": "execute_result"
    },
    {
     "data": {
      "image/png": "[encoded data removed]",
      "text/plain": [
       "<Figure size 720x504 with 1 Axes>"
      ]
     },
     "metadata": {
      "needs_background": "light"
     },
     "output_type": "display_data"
    }
   ],
   "source": [
    "\n",
    "dif['mean'] = dif['num_orders'].rolling(50).mean()\n",
    "dif['std'] = dif['num_orders'].rolling(50).std()\n",
    "dif.plot(figsize = [10,7])"
   ]
  },
  {
   "cell_type": "markdown",
   "metadata": {},
   "source": [
    "## ARIMA"
   ]
  },
  {
   "cell_type": "code",
   "execution_count": 24,
   "metadata": {},
   "outputs": [
    {
     "data": {
      "image/png": "[encoded data removed]",
      "text/plain": [
       "<Figure size 1080x504 with 2 Axes>"
      ]
     },
     "execution_count": 24,
     "metadata": {},
     "output_type": "execute_result"
    }
   ],
   "source": [
    "from matplotlib import figure\n",
    "fig = figure.Figure( figsize =(15,7) )\n",
    "ax1 = fig.add_subplot(211)\n",
    "sm.graphics.tsa.plot_acf(dif['num_orders'].values.squeeze(), lags=25, ax=ax1)\n",
    "ax2 = fig.add_subplot(212)\n",
    "sm.graphics.tsa.plot_pacf(dif['num_orders'], lags=25, ax=ax2)"
   ]
  },
  {
   "cell_type": "code",
   "execution_count": 25,
   "metadata": {},
   "outputs": [
    {
     "name": "stdout",
     "output_type": "stream",
     "text": [
      "2018-03-01 00:00:00 2018-08-13 13:00:00\n",
      "2018-08-13 14:00:00 2018-08-31 23:00:00\n"
     ]
    }
   ],
   "source": [
    "train, test = train_test_split(df, shuffle=False, test_size=0.1)\n",
    "\n",
    "print(train.index.min(), train.index.max())\n",
    "print(test.index.min(), test.index.max())\n"
   ]
  },
  {
   "cell_type": "code",
   "execution_count": 26,
   "metadata": {},
   "outputs": [],
   "source": [
    "#src_data_model = otg[:'2013-05-26']\n",
    "model = sm.tsa.ARIMA(df, order=(1,1,1), freq='H').fit(full_output=False, disp=0)"
   ]
  },
  {
   "cell_type": "code",
   "execution_count": 27,
   "metadata": {},
   "outputs": [
    {
     "data": {
      "text/html": [
       "<table class=\"simpletable\">\n",
       "<caption>ARIMA Model Results</caption>\n",
       "<tr>\n",
       "  <th>Dep. Variable:</th>   <td>D.num_orders</td>   <th>  No. Observations:  </th>    <td>4415</td>   \n",
       "</tr>\n",
       "<tr>\n",
       "  <th>Model:</th>          <td>ARIMA(1, 1, 1)</td>  <th>  Log Likelihood     </th> <td>-21754.255</td>\n",
       "</tr>\n",
       "<tr>\n",
       "  <th>Method:</th>             <td>css-mle</td>     <th>  S.D. of innovations</th>   <td>33.382</td>  \n",
       "</tr>\n",
       "<tr>\n",
       "  <th>Date:</th>          <td>Fri, 24 Dec 2021</td> <th>  AIC                </th>  <td>43516.511</td>\n",
       "</tr>\n",
       "<tr>\n",
       "  <th>Time:</th>              <td>07:36:10</td>     <th>  BIC                </th>  <td>43542.082</td>\n",
       "</tr>\n",
       "<tr>\n",
       "  <th>Sample:</th>           <td>03-01-2018</td>    <th>  HQIC               </th>  <td>43525.530</td>\n",
       "</tr>\n",
       "<tr>\n",
       "  <th></th>                 <td>- 08-31-2018</td>   <th>                     </th>      <td> </td>    \n",
       "</tr>\n",
       "</table>\n",
       "<table class=\"simpletable\">\n",
       "<tr>\n",
       "           <td></td>             <th>coef</th>     <th>std err</th>      <th>z</th>      <th>P>|z|</th>  <th>[0.025</th>    <th>0.975]</th>  \n",
       "</tr>\n",
       "<tr>\n",
       "  <th>const</th>              <td>    0.0222</td> <td>    0.006</td> <td>    3.886</td> <td> 0.000</td> <td>    0.011</td> <td>    0.033</td>\n",
       "</tr>\n",
       "<tr>\n",
       "  <th>ar.L1.D.num_orders</th> <td>    0.4548</td> <td>    0.014</td> <td>   33.542</td> <td> 0.000</td> <td>    0.428</td> <td>    0.481</td>\n",
       "</tr>\n",
       "<tr>\n",
       "  <th>ma.L1.D.num_orders</th> <td>   -0.9941</td> <td>    0.001</td> <td> -698.387</td> <td> 0.000</td> <td>   -0.997</td> <td>   -0.991</td>\n",
       "</tr>\n",
       "</table>\n",
       "<table class=\"simpletable\">\n",
       "<caption>Roots</caption>\n",
       "<tr>\n",
       "    <td></td>   <th>            Real</th>  <th>         Imaginary</th> <th>         Modulus</th>  <th>        Frequency</th>\n",
       "</tr>\n",
       "<tr>\n",
       "  <th>AR.1</th> <td>           2.1987</td> <td>          +0.0000j</td> <td>           2.1987</td> <td>           0.0000</td>\n",
       "</tr>\n",
       "<tr>\n",
       "  <th>MA.1</th> <td>           1.0060</td> <td>          +0.0000j</td> <td>           1.0060</td> <td>           0.0000</td>\n",
       "</tr>\n",
       "</table>"
      ],
      "text/plain": [
       "<class 'statsmodels.iolib.summary.Summary'>\n",
       "\"\"\"\n",
       "                             ARIMA Model Results                              \n",
       "==============================================================================\n",
       "Dep. Variable:           D.num_orders   No. Observations:                 4415\n",
       "Model:                 ARIMA(1, 1, 1)   Log Likelihood              -21754.255\n",
       "Method:                       css-mle   S.D. of innovations             33.382\n",
       "Date:                Fri, 24 Dec 2021   AIC                          43516.511\n",
       "Time:                        07:36:10   BIC                          43542.082\n",
       "Sample:                    03-01-2018   HQIC                         43525.530\n",
       "                         - 08-31-2018                                         \n",
       "======================================================================================\n",
       "                         coef    std err          z      P>|z|      [0.025      0.975]\n",
       "--------------------------------------------------------------------------------------\n",
       "const                  0.0222      0.006      3.886      0.000       0.011       0.033\n",
       "ar.L1.D.num_orders     0.4548      0.014     33.542      0.000       0.428       0.481\n",
       "ma.L1.D.num_orders    -0.9941      0.001   -698.387      0.000      -0.997      -0.991\n",
       "                                    Roots                                    \n",
       "=============================================================================\n",
       "                  Real          Imaginary           Modulus         Frequency\n",
       "-----------------------------------------------------------------------------\n",
       "AR.1            2.1987           +0.0000j            2.1987            0.0000\n",
       "MA.1            1.0060           +0.0000j            1.0060            0.0000\n",
       "-----------------------------------------------------------------------------\n",
       "\"\"\""
      ]
     },
     "execution_count": 27,
     "metadata": {},
     "output_type": "execute_result"
    }
   ],
   "source": [
    "model.summary()"
   ]
  },
  {
   "cell_type": "code",
   "execution_count": 28,
   "metadata": {
    "scrolled": true
   },
   "outputs": [
    {
     "name": "stderr",
     "output_type": "stream",
     "text": [
      "/opt/conda/lib/python3.7/site-packages/statsmodels/tsa/stattools.py:541: FutureWarning: fft=True will become the default in a future version of statsmodels. To suppress this warning, explicitly set fft=False.\n",
      "  warnings.warn(msg, FutureWarning)\n"
     ]
    },
    {
     "data": {
      "text/html": [
       "<div>\n",
       "<style scoped>\n",
       "    .dataframe tbody tr th:only-of-type {\n",
       "        vertical-align: middle;\n",
       "    }\n",
       "\n",
       "    .dataframe tbody tr th {\n",
       "        vertical-align: top;\n",
       "    }\n",
       "\n",
       "    .dataframe thead th {\n",
       "        text-align: right;\n",
       "    }\n",
       "</style>\n",
       "<table border=\"1\" class=\"dataframe\">\n",
       "  <thead>\n",
       "    <tr style=\"text-align: right;\">\n",
       "      <th></th>\n",
       "      <th>Q-stat</th>\n",
       "      <th>p-value</th>\n",
       "    </tr>\n",
       "  </thead>\n",
       "  <tbody>\n",
       "    <tr>\n",
       "      <td>0</td>\n",
       "      <td>0.453949</td>\n",
       "      <td>5.004658e-01</td>\n",
       "    </tr>\n",
       "    <tr>\n",
       "      <td>1</td>\n",
       "      <td>23.958103</td>\n",
       "      <td>6.274280e-06</td>\n",
       "    </tr>\n",
       "    <tr>\n",
       "      <td>2</td>\n",
       "      <td>36.446497</td>\n",
       "      <td>6.025208e-08</td>\n",
       "    </tr>\n",
       "    <tr>\n",
       "      <td>3</td>\n",
       "      <td>62.839667</td>\n",
       "      <td>7.334163e-13</td>\n",
       "    </tr>\n",
       "    <tr>\n",
       "      <td>4</td>\n",
       "      <td>81.307382</td>\n",
       "      <td>4.469546e-16</td>\n",
       "    </tr>\n",
       "    <tr>\n",
       "      <td>5</td>\n",
       "      <td>106.549075</td>\n",
       "      <td>1.075157e-20</td>\n",
       "    </tr>\n",
       "    <tr>\n",
       "      <td>6</td>\n",
       "      <td>108.359463</td>\n",
       "      <td>2.009941e-20</td>\n",
       "    </tr>\n",
       "    <tr>\n",
       "      <td>7</td>\n",
       "      <td>118.999395</td>\n",
       "      <td>5.334306e-22</td>\n",
       "    </tr>\n",
       "    <tr>\n",
       "      <td>8</td>\n",
       "      <td>129.021325</td>\n",
       "      <td>1.884830e-23</td>\n",
       "    </tr>\n",
       "    <tr>\n",
       "      <td>9</td>\n",
       "      <td>153.996896</td>\n",
       "      <td>5.604888e-28</td>\n",
       "    </tr>\n",
       "    <tr>\n",
       "      <td>10</td>\n",
       "      <td>160.516794</td>\n",
       "      <td>1.047852e-28</td>\n",
       "    </tr>\n",
       "    <tr>\n",
       "      <td>11</td>\n",
       "      <td>167.900013</td>\n",
       "      <td>1.283002e-29</td>\n",
       "    </tr>\n",
       "    <tr>\n",
       "      <td>12</td>\n",
       "      <td>172.606258</td>\n",
       "      <td>5.447482e-30</td>\n",
       "    </tr>\n",
       "    <tr>\n",
       "      <td>13</td>\n",
       "      <td>184.608682</td>\n",
       "      <td>7.509006e-32</td>\n",
       "    </tr>\n",
       "    <tr>\n",
       "      <td>14</td>\n",
       "      <td>217.094505</td>\n",
       "      <td>6.989867e-38</td>\n",
       "    </tr>\n",
       "    <tr>\n",
       "      <td>15</td>\n",
       "      <td>220.379868</td>\n",
       "      <td>5.833209e-38</td>\n",
       "    </tr>\n",
       "    <tr>\n",
       "      <td>16</td>\n",
       "      <td>220.416651</td>\n",
       "      <td>2.171964e-37</td>\n",
       "    </tr>\n",
       "    <tr>\n",
       "      <td>17</td>\n",
       "      <td>247.740128</td>\n",
       "      <td>2.348909e-42</td>\n",
       "    </tr>\n",
       "    <tr>\n",
       "      <td>18</td>\n",
       "      <td>282.774853</td>\n",
       "      <td>6.680682e-49</td>\n",
       "    </tr>\n",
       "    <tr>\n",
       "      <td>19</td>\n",
       "      <td>303.129781</td>\n",
       "      <td>1.854494e-52</td>\n",
       "    </tr>\n",
       "    <tr>\n",
       "      <td>20</td>\n",
       "      <td>346.415228</td>\n",
       "      <td>1.031062e-60</td>\n",
       "    </tr>\n",
       "    <tr>\n",
       "      <td>21</td>\n",
       "      <td>355.352890</td>\n",
       "      <td>6.275396e-62</td>\n",
       "    </tr>\n",
       "    <tr>\n",
       "      <td>22</td>\n",
       "      <td>451.745900</td>\n",
       "      <td>3.674924e-81</td>\n",
       "    </tr>\n",
       "    <tr>\n",
       "      <td>23</td>\n",
       "      <td>1280.945940</td>\n",
       "      <td>1.330418e-255</td>\n",
       "    </tr>\n",
       "    <tr>\n",
       "      <td>24</td>\n",
       "      <td>1365.071618</td>\n",
       "      <td>1.101671e-272</td>\n",
       "    </tr>\n",
       "    <tr>\n",
       "      <td>25</td>\n",
       "      <td>1373.797940</td>\n",
       "      <td>1.131326e-273</td>\n",
       "    </tr>\n",
       "    <tr>\n",
       "      <td>26</td>\n",
       "      <td>1406.438536</td>\n",
       "      <td>9.099781e-280</td>\n",
       "    </tr>\n",
       "    <tr>\n",
       "      <td>27</td>\n",
       "      <td>1468.452899</td>\n",
       "      <td>3.969741e-292</td>\n",
       "    </tr>\n",
       "    <tr>\n",
       "      <td>28</td>\n",
       "      <td>1481.706490</td>\n",
       "      <td>4.339269e-294</td>\n",
       "    </tr>\n",
       "    <tr>\n",
       "      <td>29</td>\n",
       "      <td>1513.098578</td>\n",
       "      <td>6.400770e-300</td>\n",
       "    </tr>\n",
       "    <tr>\n",
       "      <td>30</td>\n",
       "      <td>1514.085394</td>\n",
       "      <td>2.827038e-299</td>\n",
       "    </tr>\n",
       "    <tr>\n",
       "      <td>31</td>\n",
       "      <td>1517.225425</td>\n",
       "      <td>4.277093e-299</td>\n",
       "    </tr>\n",
       "    <tr>\n",
       "      <td>32</td>\n",
       "      <td>1542.062472</td>\n",
       "      <td>1.543992e-303</td>\n",
       "    </tr>\n",
       "    <tr>\n",
       "      <td>33</td>\n",
       "      <td>1554.823296</td>\n",
       "      <td>2.056970e-305</td>\n",
       "    </tr>\n",
       "    <tr>\n",
       "      <td>34</td>\n",
       "      <td>1555.492461</td>\n",
       "      <td>1.010598e-304</td>\n",
       "    </tr>\n",
       "    <tr>\n",
       "      <td>35</td>\n",
       "      <td>1555.921035</td>\n",
       "      <td>5.505956e-304</td>\n",
       "    </tr>\n",
       "    <tr>\n",
       "      <td>36</td>\n",
       "      <td>1557.436253</td>\n",
       "      <td>1.739156e-303</td>\n",
       "    </tr>\n",
       "    <tr>\n",
       "      <td>37</td>\n",
       "      <td>1584.959610</td>\n",
       "      <td>1.643635e-308</td>\n",
       "    </tr>\n",
       "    <tr>\n",
       "      <td>38</td>\n",
       "      <td>1601.752192</td>\n",
       "      <td>2.932008e-311</td>\n",
       "    </tr>\n",
       "    <tr>\n",
       "      <td>39</td>\n",
       "      <td>1602.506830</td>\n",
       "      <td>1.309199e-310</td>\n",
       "    </tr>\n",
       "  </tbody>\n",
       "</table>\n",
       "</div>"
      ],
      "text/plain": [
       "         Q-stat        p-value\n",
       "0      0.453949   5.004658e-01\n",
       "1     23.958103   6.274280e-06\n",
       "2     36.446497   6.025208e-08\n",
       "3     62.839667   7.334163e-13\n",
       "4     81.307382   4.469546e-16\n",
       "5    106.549075   1.075157e-20\n",
       "6    108.359463   2.009941e-20\n",
       "7    118.999395   5.334306e-22\n",
       "8    129.021325   1.884830e-23\n",
       "9    153.996896   5.604888e-28\n",
       "10   160.516794   1.047852e-28\n",
       "11   167.900013   1.283002e-29\n",
       "12   172.606258   5.447482e-30\n",
       "13   184.608682   7.509006e-32\n",
       "14   217.094505   6.989867e-38\n",
       "15   220.379868   5.833209e-38\n",
       "16   220.416651   2.171964e-37\n",
       "17   247.740128   2.348909e-42\n",
       "18   282.774853   6.680682e-49\n",
       "19   303.129781   1.854494e-52\n",
       "20   346.415228   1.031062e-60\n",
       "21   355.352890   6.275396e-62\n",
       "22   451.745900   3.674924e-81\n",
       "23  1280.945940  1.330418e-255\n",
       "24  1365.071618  1.101671e-272\n",
       "25  1373.797940  1.131326e-273\n",
       "26  1406.438536  9.099781e-280\n",
       "27  1468.452899  3.969741e-292\n",
       "28  1481.706490  4.339269e-294\n",
       "29  1513.098578  6.400770e-300\n",
       "30  1514.085394  2.827038e-299\n",
       "31  1517.225425  4.277093e-299\n",
       "32  1542.062472  1.543992e-303\n",
       "33  1554.823296  2.056970e-305\n",
       "34  1555.492461  1.010598e-304\n",
       "35  1555.921035  5.505956e-304\n",
       "36  1557.436253  1.739156e-303\n",
       "37  1584.959610  1.643635e-308\n",
       "38  1601.752192  2.932008e-311\n",
       "39  1602.506830  1.309199e-310"
      ]
     },
     "execution_count": 28,
     "metadata": {},
     "output_type": "execute_result"
    }
   ],
   "source": [
    "q_test = sm.tsa.stattools.acf(model.resid, qstat=True) #свойство resid, хранит остатки модели, qstat=True, означает что применяем указынный тест к коэф-ам\n",
    "pd.DataFrame({'Q-stat':q_test[1], 'p-value':q_test[2]})"
   ]
  },
  {
   "cell_type": "code",
   "execution_count": 29,
   "metadata": {},
   "outputs": [
    {
     "name": "stdout",
     "output_type": "stream",
     "text": [
      "R^2: 0.24\n"
     ]
    }
   ],
   "source": [
    "pred = model.predict('2018-08-13','2018-08-31', typ='levels')\n",
    "trn = df['2018-08-13':]\n",
    "r2 = r2_score(trn, pred)\n",
    "print ('R^2: %1.2f' % r2)"
   ]
  },
  {
   "cell_type": "code",
   "execution_count": 30,
   "metadata": {},
   "outputs": [
    {
     "data": {
      "text/plain": [
       "66.9057885135973"
      ]
     },
     "execution_count": 30,
     "metadata": {},
     "output_type": "execute_result"
    }
   ],
   "source": [
    "metrics.rmse(trn,pred)"
   ]
  },
  {
   "cell_type": "code",
   "execution_count": 31,
   "metadata": {},
   "outputs": [
    {
     "data": {
      "text/plain": [
       "50.85037791446233"
      ]
     },
     "execution_count": 31,
     "metadata": {},
     "output_type": "execute_result"
    }
   ],
   "source": [
    "metrics.mae(trn,pred)"
   ]
  },
  {
   "cell_type": "code",
   "execution_count": 32,
   "metadata": {},
   "outputs": [
    {
     "data": {
      "text/plain": [
       "<matplotlib.axes._subplots.AxesSubplot at 0x7fe09b95f410>"
      ]
     },
     "execution_count": 32,
     "metadata": {},
     "output_type": "execute_result"
    },
    {
     "data": {
      "image/png": "[encoded data removed]",
      "text/plain": [
       "<Figure size 1080x576 with 1 Axes>"
      ]
     },
     "metadata": {
      "needs_background": "light"
     },
     "output_type": "display_data"
    }
   ],
   "source": [
    "df['2018-07-01':].rolling(100).sum().plot(figsize=(15,8))\n",
    "pred.rolling(100).sum().plot(style='r--')"
   ]
  },
  {
   "cell_type": "markdown",
   "metadata": {},
   "source": [
    "## Обучение с помощью Линейной регрессии"
   ]
  },
  {
   "cell_type": "markdown",
   "metadata": {},
   "source": [
    "Предсказание константной моделью"
   ]
  },
  {
   "cell_type": "code",
   "execution_count": 33,
   "metadata": {},
   "outputs": [
    {
     "name": "stdout",
     "output_type": "stream",
     "text": [
      "Среднее количество заказов такси: 139.55656108597285\n",
      "RMSE: 87.15277582981295\n"
     ]
    }
   ],
   "source": [
    "print(\"Среднее количество заказов такси:\", test['num_orders'].mean())\n",
    "\n",
    "pred_median = [train['num_orders'].median() for i in test['num_orders']]\n",
    "print(\"RMSE:\", mean_squared_error(test['num_orders'], pred_median)**0.5)"
   ]
  },
  {
   "cell_type": "markdown",
   "metadata": {},
   "source": [
    "Предсказание предыдущим значением"
   ]
  },
  {
   "cell_type": "code",
   "execution_count": 34,
   "metadata": {},
   "outputs": [
    {
     "name": "stdout",
     "output_type": "stream",
     "text": [
      "RMSE: 58.856486242815066\n"
     ]
    }
   ],
   "source": [
    "pred_previous = test['num_orders'].shift()\n",
    "pred_previous.iloc[0] = train['num_orders'].iloc[-1]\n",
    "print(\"RMSE:\", mean_squared_error(test['num_orders'], pred_previous)**0.5)"
   ]
  },
  {
   "cell_type": "code",
   "execution_count": 35,
   "metadata": {},
   "outputs": [],
   "source": [
    "def make_features(data, max_lag, rolling_mean_size):\n",
    "    frame = data.copy()\n",
    "    frame['hour'] = frame.index.hour\n",
    "    frame['month'] = frame.index.month\n",
    "    frame['day'] = frame.index.day\n",
    "    frame['dayofweek'] = frame.index.dayofweek\n",
    "   \n",
    "    for lag in range(1, max_lag + 1):\n",
    "        frame['lag_{}'.format(lag)] = frame['num_orders'].shift(lag)\n",
    "    frame['rolling_mean'] = frame['num_orders'].shift().rolling(rolling_mean_size).mean()\n",
    "    return(frame)"
   ]
  },
  {
   "cell_type": "code",
   "execution_count": 36,
   "metadata": {},
   "outputs": [
    {
     "name": "stdout",
     "output_type": "stream",
     "text": [
      "RMSE обучающей выборки: 30.500374252442192\n",
      "RMSE тестовой выборки:  52.574506853736914\n"
     ]
    },
    {
     "name": "stderr",
     "output_type": "stream",
     "text": [
      "/home/jovyan/.local/lib/python3.7/site-packages/sklearn/linear_model/_base.py:145: FutureWarning: 'normalize' was deprecated in version 1.0 and will be removed in 1.2.\n",
      "If you wish to scale the data, use Pipeline with a StandardScaler in a preprocessing stage. To reproduce the previous behavior:\n",
      "\n",
      "from sklearn.pipeline import make_pipeline\n",
      "\n",
      "model = make_pipeline(StandardScaler(with_mean=False), LinearRegression())\n",
      "\n",
      "If you wish to pass a sample_weight parameter, you need to pass it as a fit parameter to each step of the pipeline as follows:\n",
      "\n",
      "kwargs = {s[0] + '__sample_weight': sample_weight for s in model.steps}\n",
      "model.fit(X, y, **kwargs)\n",
      "\n",
      "\n",
      "  FutureWarning,\n"
     ]
    }
   ],
   "source": [
    "frame = make_features(df, 4, 4)\n",
    "train, test = train_test_split(frame, shuffle=False, test_size=0.1)\n",
    "train = train.dropna()\n",
    "\n",
    "X_train = train.drop(['num_orders'], axis=1)\n",
    "y_train = train['num_orders']\n",
    "X_test = test.drop(['num_orders'], axis=1)\n",
    "y_test = test['num_orders']\n",
    "model = LinearRegression(normalize=True)\n",
    "model.fit(X_train, y_train)\n",
    "pred = model.predict(X_test)\n",
    "print(\"RMSE обучающей выборки:\", mean_squared_error(y_train, model.predict(X_train))**0.5)\n",
    "print(\"RMSE тестовой выборки: \", mean_squared_error(y_test, pred)**0.5)"
   ]
  },
  {
   "cell_type": "markdown",
   "metadata": {},
   "source": [
    "## Тестирование"
   ]
  },
  {
   "cell_type": "code",
   "execution_count": 37,
   "metadata": {},
   "outputs": [
    {
     "data": {
      "text/plain": [
       "((3970, 10), (442, 10))"
      ]
     },
     "execution_count": 37,
     "metadata": {},
     "output_type": "execute_result"
    }
   ],
   "source": [
    "train.shape, test.shape"
   ]
  },
  {
   "cell_type": "code",
   "execution_count": 38,
   "metadata": {},
   "outputs": [
    {
     "name": "stdout",
     "output_type": "stream",
     "text": [
      "442\n"
     ]
    }
   ],
   "source": [
    "print(frame.shape[0]//10+1)"
   ]
  },
  {
   "cell_type": "code",
   "execution_count": 39,
   "metadata": {
    "scrolled": true
   },
   "outputs": [],
   "source": [
    "ts_cv = TimeSeriesSplit(\n",
    "    n_splits=5,\n",
    "    test_size=frame.shape[0]//10+1\n",
    ")"
   ]
  },
  {
   "cell_type": "code",
   "execution_count": 40,
   "metadata": {},
   "outputs": [
    {
     "data": {
      "text/plain": [
       "((3970, 10), (442, 10))"
      ]
     },
     "execution_count": 40,
     "metadata": {},
     "output_type": "execute_result"
    }
   ],
   "source": [
    "train.shape, test.shape"
   ]
  },
  {
   "cell_type": "code",
   "execution_count": 41,
   "metadata": {},
   "outputs": [],
   "source": [
    "def score_(model, X_train, X_test, y_train, y_test, early_stopping_rounds, metric):  \n",
    "    eval_set = [(X_test, y_test)]\n",
    "\n",
    "    model.fit(\n",
    "        X_train,\n",
    "        y_train,\n",
    "        eval_set=eval_set,\n",
    "        early_stopping_rounds=early_stopping_rounds,\n",
    "        eval_metric=metric)\n",
    "    preds = model.predict(X_test)\n",
    "    pred_labels = np.rint(preds)\n",
    "    accuracy = mean_squared_error(y_test, pred_labels)\n",
    "    return (accuracy**0.5)"
   ]
  },
  {
   "cell_type": "code",
   "execution_count": 42,
   "metadata": {},
   "outputs": [
    {
     "name": "stdout",
     "output_type": "stream",
     "text": [
      "[1]\tvalid_0's rmse: 81.2465\tvalid_0's l2: 6600.99\n",
      "Training until validation scores don't improve for 100 rounds\n",
      "[2]\tvalid_0's rmse: 78.0685\tvalid_0's l2: 6094.69\n",
      "[3]\tvalid_0's rmse: 75.5343\tvalid_0's l2: 5705.43\n",
      "[4]\tvalid_0's rmse: 72.6105\tvalid_0's l2: 5272.28\n",
      "[5]\tvalid_0's rmse: 70.1014\tvalid_0's l2: 4914.2\n",
      "[6]\tvalid_0's rmse: 68.0492\tvalid_0's l2: 4630.7\n",
      "[7]\tvalid_0's rmse: 66.2015\tvalid_0's l2: 4382.64\n",
      "[8]\tvalid_0's rmse: 64.6859\tvalid_0's l2: 4184.27\n",
      "[9]\tvalid_0's rmse: 62.9712\tvalid_0's l2: 3965.38\n",
      "[10]\tvalid_0's rmse: 61.7451\tvalid_0's l2: 3812.46\n",
      "[11]\tvalid_0's rmse: 60.3496\tvalid_0's l2: 3642.08\n",
      "[12]\tvalid_0's rmse: 59.2538\tvalid_0's l2: 3511.01\n",
      "[13]\tvalid_0's rmse: 57.8596\tvalid_0's l2: 3347.74\n",
      "[14]\tvalid_0's rmse: 57.0734\tvalid_0's l2: 3257.38\n",
      "[15]\tvalid_0's rmse: 56.2565\tvalid_0's l2: 3164.8\n",
      "[16]\tvalid_0's rmse: 55.5432\tvalid_0's l2: 3085.05\n",
      "[17]\tvalid_0's rmse: 54.4455\tvalid_0's l2: 2964.31\n",
      "[18]\tvalid_0's rmse: 53.8322\tvalid_0's l2: 2897.91\n",
      "[19]\tvalid_0's rmse: 53.3343\tvalid_0's l2: 2844.55\n",
      "[20]\tvalid_0's rmse: 52.5045\tvalid_0's l2: 2756.73\n",
      "[21]\tvalid_0's rmse: 52.0749\tvalid_0's l2: 2711.8\n",
      "[22]\tvalid_0's rmse: 51.3398\tvalid_0's l2: 2635.78\n",
      "[23]\tvalid_0's rmse: 50.5694\tvalid_0's l2: 2557.27\n",
      "[24]\tvalid_0's rmse: 50.2063\tvalid_0's l2: 2520.67\n",
      "[25]\tvalid_0's rmse: 49.438\tvalid_0's l2: 2444.11\n",
      "[26]\tvalid_0's rmse: 49.0292\tvalid_0's l2: 2403.86\n",
      "[27]\tvalid_0's rmse: 48.5606\tvalid_0's l2: 2358.13\n",
      "[28]\tvalid_0's rmse: 48.0907\tvalid_0's l2: 2312.72\n",
      "[29]\tvalid_0's rmse: 48.0777\tvalid_0's l2: 2311.47\n",
      "[30]\tvalid_0's rmse: 47.8734\tvalid_0's l2: 2291.86\n",
      "[31]\tvalid_0's rmse: 47.4133\tvalid_0's l2: 2248.03\n",
      "[32]\tvalid_0's rmse: 47.2427\tvalid_0's l2: 2231.87\n",
      "[33]\tvalid_0's rmse: 47.133\tvalid_0's l2: 2221.52\n",
      "[34]\tvalid_0's rmse: 46.8651\tvalid_0's l2: 2196.33\n",
      "[35]\tvalid_0's rmse: 46.7383\tvalid_0's l2: 2184.47\n",
      "[36]\tvalid_0's rmse: 46.5628\tvalid_0's l2: 2168.09\n",
      "[37]\tvalid_0's rmse: 46.4444\tvalid_0's l2: 2157.09\n",
      "[38]\tvalid_0's rmse: 46.3587\tvalid_0's l2: 2149.13\n",
      "[39]\tvalid_0's rmse: 46.1937\tvalid_0's l2: 2133.86\n",
      "[40]\tvalid_0's rmse: 45.7708\tvalid_0's l2: 2094.97\n",
      "[41]\tvalid_0's rmse: 45.7488\tvalid_0's l2: 2092.95\n",
      "[42]\tvalid_0's rmse: 45.3356\tvalid_0's l2: 2055.32\n",
      "[43]\tvalid_0's rmse: 45.2813\tvalid_0's l2: 2050.39\n",
      "[44]\tvalid_0's rmse: 45.2362\tvalid_0's l2: 2046.32\n",
      "[45]\tvalid_0's rmse: 45.1765\tvalid_0's l2: 2040.92\n",
      "[46]\tvalid_0's rmse: 45.1433\tvalid_0's l2: 2037.92\n",
      "[47]\tvalid_0's rmse: 45.0766\tvalid_0's l2: 2031.9\n",
      "[48]\tvalid_0's rmse: 44.994\tvalid_0's l2: 2024.46\n",
      "[49]\tvalid_0's rmse: 44.9683\tvalid_0's l2: 2022.15\n",
      "[50]\tvalid_0's rmse: 44.8478\tvalid_0's l2: 2011.32\n",
      "[51]\tvalid_0's rmse: 44.8013\tvalid_0's l2: 2007.16\n",
      "[52]\tvalid_0's rmse: 44.7819\tvalid_0's l2: 2005.42\n",
      "[53]\tvalid_0's rmse: 44.7204\tvalid_0's l2: 1999.91\n",
      "[54]\tvalid_0's rmse: 44.7255\tvalid_0's l2: 2000.37\n",
      "[55]\tvalid_0's rmse: 44.637\tvalid_0's l2: 1992.46\n",
      "[56]\tvalid_0's rmse: 44.6907\tvalid_0's l2: 1997.26\n",
      "[57]\tvalid_0's rmse: 44.7417\tvalid_0's l2: 2001.82\n",
      "[58]\tvalid_0's rmse: 44.7378\tvalid_0's l2: 2001.47\n",
      "[59]\tvalid_0's rmse: 44.7588\tvalid_0's l2: 2003.35\n",
      "[60]\tvalid_0's rmse: 44.8235\tvalid_0's l2: 2009.14\n",
      "[61]\tvalid_0's rmse: 44.9899\tvalid_0's l2: 2024.1\n",
      "[62]\tvalid_0's rmse: 44.9974\tvalid_0's l2: 2024.77\n",
      "[63]\tvalid_0's rmse: 45.0393\tvalid_0's l2: 2028.54\n",
      "[64]\tvalid_0's rmse: 45.0926\tvalid_0's l2: 2033.34\n",
      "[65]\tvalid_0's rmse: 45.1109\tvalid_0's l2: 2034.99\n",
      "[66]\tvalid_0's rmse: 45.1148\tvalid_0's l2: 2035.34\n",
      "[67]\tvalid_0's rmse: 45.0628\tvalid_0's l2: 2030.65\n",
      "[68]\tvalid_0's rmse: 44.9993\tvalid_0's l2: 2024.93\n",
      "[69]\tvalid_0's rmse: 44.9986\tvalid_0's l2: 2024.87\n",
      "[70]\tvalid_0's rmse: 45.046\tvalid_0's l2: 2029.14\n",
      "[71]\tvalid_0's rmse: 45.0858\tvalid_0's l2: 2032.73\n",
      "[72]\tvalid_0's rmse: 45.0847\tvalid_0's l2: 2032.63\n",
      "[73]\tvalid_0's rmse: 45.0614\tvalid_0's l2: 2030.53\n",
      "[74]\tvalid_0's rmse: 45.0682\tvalid_0's l2: 2031.15\n",
      "[75]\tvalid_0's rmse: 45.1049\tvalid_0's l2: 2034.45\n",
      "[76]\tvalid_0's rmse: 45.2553\tvalid_0's l2: 2048.04\n",
      "[77]\tvalid_0's rmse: 45.2257\tvalid_0's l2: 2045.36\n",
      "[78]\tvalid_0's rmse: 45.0985\tvalid_0's l2: 2033.88\n",
      "[79]\tvalid_0's rmse: 45.2039\tvalid_0's l2: 2043.4\n",
      "[80]\tvalid_0's rmse: 45.2309\tvalid_0's l2: 2045.84\n",
      "[81]\tvalid_0's rmse: 45.1637\tvalid_0's l2: 2039.76\n",
      "[82]\tvalid_0's rmse: 45.0692\tvalid_0's l2: 2031.23\n",
      "[83]\tvalid_0's rmse: 45.0735\tvalid_0's l2: 2031.62\n",
      "[84]\tvalid_0's rmse: 45.106\tvalid_0's l2: 2034.55\n",
      "[85]\tvalid_0's rmse: 45.1006\tvalid_0's l2: 2034.06\n",
      "[86]\tvalid_0's rmse: 45.1044\tvalid_0's l2: 2034.41\n",
      "[87]\tvalid_0's rmse: 45.0897\tvalid_0's l2: 2033.08\n",
      "[88]\tvalid_0's rmse: 45.0259\tvalid_0's l2: 2027.33\n",
      "[89]\tvalid_0's rmse: 44.996\tvalid_0's l2: 2024.64\n",
      "[90]\tvalid_0's rmse: 45.0098\tvalid_0's l2: 2025.88\n",
      "[91]\tvalid_0's rmse: 45.0287\tvalid_0's l2: 2027.58\n",
      "[92]\tvalid_0's rmse: 45.0303\tvalid_0's l2: 2027.73\n",
      "[93]\tvalid_0's rmse: 45.0296\tvalid_0's l2: 2027.66\n",
      "[94]\tvalid_0's rmse: 45.1015\tvalid_0's l2: 2034.15\n",
      "[95]\tvalid_0's rmse: 45.068\tvalid_0's l2: 2031.12\n",
      "[96]\tvalid_0's rmse: 45.0646\tvalid_0's l2: 2030.81\n",
      "[97]\tvalid_0's rmse: 45.0871\tvalid_0's l2: 2032.84\n",
      "[98]\tvalid_0's rmse: 45.0827\tvalid_0's l2: 2032.45\n",
      "[99]\tvalid_0's rmse: 45.1173\tvalid_0's l2: 2035.57\n",
      "[100]\tvalid_0's rmse: 45.0421\tvalid_0's l2: 2028.79\n",
      "[101]\tvalid_0's rmse: 45.0793\tvalid_0's l2: 2032.14\n",
      "[102]\tvalid_0's rmse: 45.1743\tvalid_0's l2: 2040.72\n",
      "[103]\tvalid_0's rmse: 45.1895\tvalid_0's l2: 2042.09\n",
      "[104]\tvalid_0's rmse: 45.1716\tvalid_0's l2: 2040.48\n",
      "[105]\tvalid_0's rmse: 45.202\tvalid_0's l2: 2043.22\n",
      "[106]\tvalid_0's rmse: 45.2535\tvalid_0's l2: 2047.87\n",
      "[107]\tvalid_0's rmse: 45.2775\tvalid_0's l2: 2050.05\n",
      "[108]\tvalid_0's rmse: 45.2736\tvalid_0's l2: 2049.7\n",
      "[109]\tvalid_0's rmse: 45.2585\tvalid_0's l2: 2048.33\n",
      "[110]\tvalid_0's rmse: 45.2273\tvalid_0's l2: 2045.51\n",
      "[111]\tvalid_0's rmse: 45.2653\tvalid_0's l2: 2048.94\n",
      "[112]\tvalid_0's rmse: 45.2951\tvalid_0's l2: 2051.65\n",
      "[113]\tvalid_0's rmse: 45.2932\tvalid_0's l2: 2051.47\n",
      "[114]\tvalid_0's rmse: 45.3189\tvalid_0's l2: 2053.8\n",
      "[115]\tvalid_0's rmse: 45.3498\tvalid_0's l2: 2056.6\n",
      "[116]\tvalid_0's rmse: 45.3334\tvalid_0's l2: 2055.11\n",
      "[117]\tvalid_0's rmse: 45.3691\tvalid_0's l2: 2058.35\n",
      "[118]\tvalid_0's rmse: 45.3743\tvalid_0's l2: 2058.83\n",
      "[119]\tvalid_0's rmse: 45.3281\tvalid_0's l2: 2054.64\n",
      "[120]\tvalid_0's rmse: 45.4109\tvalid_0's l2: 2062.15\n",
      "[121]\tvalid_0's rmse: 45.4177\tvalid_0's l2: 2062.77\n",
      "[122]\tvalid_0's rmse: 45.4239\tvalid_0's l2: 2063.33\n",
      "[123]\tvalid_0's rmse: 45.4797\tvalid_0's l2: 2068.4\n",
      "[124]\tvalid_0's rmse: 45.4267\tvalid_0's l2: 2063.59\n",
      "[125]\tvalid_0's rmse: 45.4004\tvalid_0's l2: 2061.2\n",
      "[126]\tvalid_0's rmse: 45.3973\tvalid_0's l2: 2060.92\n",
      "[127]\tvalid_0's rmse: 45.4149\tvalid_0's l2: 2062.51\n",
      "[128]\tvalid_0's rmse: 45.4176\tvalid_0's l2: 2062.76\n",
      "[129]\tvalid_0's rmse: 45.4694\tvalid_0's l2: 2067.47\n",
      "[130]\tvalid_0's rmse: 45.4103\tvalid_0's l2: 2062.09\n",
      "[131]\tvalid_0's rmse: 45.4778\tvalid_0's l2: 2068.23\n",
      "[132]\tvalid_0's rmse: 45.4577\tvalid_0's l2: 2066.4\n",
      "[133]\tvalid_0's rmse: 45.3446\tvalid_0's l2: 2056.13\n",
      "[134]\tvalid_0's rmse: 45.3906\tvalid_0's l2: 2060.31\n",
      "[135]\tvalid_0's rmse: 45.4288\tvalid_0's l2: 2063.77\n",
      "[136]\tvalid_0's rmse: 45.41\tvalid_0's l2: 2062.07\n",
      "[137]\tvalid_0's rmse: 45.4208\tvalid_0's l2: 2063.05\n",
      "[138]\tvalid_0's rmse: 45.4512\tvalid_0's l2: 2065.81\n",
      "[139]\tvalid_0's rmse: 45.4876\tvalid_0's l2: 2069.12\n",
      "[140]\tvalid_0's rmse: 45.5184\tvalid_0's l2: 2071.93\n",
      "[141]\tvalid_0's rmse: 45.5417\tvalid_0's l2: 2074.04\n",
      "[142]\tvalid_0's rmse: 45.5405\tvalid_0's l2: 2073.93\n",
      "[143]\tvalid_0's rmse: 45.535\tvalid_0's l2: 2073.43\n",
      "[144]\tvalid_0's rmse: 45.5358\tvalid_0's l2: 2073.51\n",
      "[145]\tvalid_0's rmse: 45.5543\tvalid_0's l2: 2075.2\n",
      "[146]\tvalid_0's rmse: 45.6126\tvalid_0's l2: 2080.5\n",
      "[147]\tvalid_0's rmse: 45.5831\tvalid_0's l2: 2077.82\n",
      "[148]\tvalid_0's rmse: 45.4946\tvalid_0's l2: 2069.76\n",
      "[149]\tvalid_0's rmse: 45.497\tvalid_0's l2: 2069.98\n",
      "[150]\tvalid_0's rmse: 45.5377\tvalid_0's l2: 2073.68\n",
      "[151]\tvalid_0's rmse: 45.5424\tvalid_0's l2: 2074.11\n",
      "[152]\tvalid_0's rmse: 45.585\tvalid_0's l2: 2077.99\n",
      "[153]\tvalid_0's rmse: 45.5994\tvalid_0's l2: 2079.31\n",
      "[154]\tvalid_0's rmse: 45.6563\tvalid_0's l2: 2084.49\n",
      "[155]\tvalid_0's rmse: 45.6452\tvalid_0's l2: 2083.49\n",
      "Early stopping, best iteration is:\n",
      "[55]\tvalid_0's rmse: 44.637\tvalid_0's l2: 1992.46\n",
      "CPU times: user 3.16 s, sys: 45.1 ms, total: 3.2 s\n",
      "Wall time: 3.21 s\n"
     ]
    },
    {
     "data": {
      "text/plain": [
       "44.6161355062416"
      ]
     },
     "execution_count": 42,
     "metadata": {},
     "output_type": "execute_result"
    }
   ],
   "source": [
    "%%time\n",
    "model = LGBMRegressor(n_estimators=1000, random_state=12345, n_jobs=-1)\n",
    "score_(model, X_train, X_test, y_train, y_test, 100, 'rmse')"
   ]
  },
  {
   "cell_type": "code",
   "execution_count": 43,
   "metadata": {},
   "outputs": [],
   "source": [
    "def eval(model, params):\n",
    "    grid = GridSearchCV(model, param_grid=params, scoring='neg_mean_squared_error', n_jobs=-1, cv=ts_cv)\n",
    "    grid.fit(X_train, y_train)\n",
    "    pred = grid.predict(X_test)                                                   \n",
    "    accuracy = mean_squared_error(y_test, pred)\n",
    "    accuracy**0.5\n",
    "    print('RMSE', (accuracy**0.5))\n",
    "    print(grid.best_params_)"
   ]
  },
  {
   "cell_type": "code",
   "execution_count": 44,
   "metadata": {
    "scrolled": true
   },
   "outputs": [
    {
     "name": "stdout",
     "output_type": "stream",
     "text": [
      "RMSE 45.04210854822016\n",
      "{'learning_rate': 0.1}\n",
      "CPU times: user 27.2 s, sys: 351 ms, total: 27.6 s\n",
      "Wall time: 27.9 s\n"
     ]
    }
   ],
   "source": [
    "%%time\n",
    "model = LGBMRegressor(n_estimators=100, random_state=12345, n_jobs=-1)\n",
    "eval(model, {'learning_rate':np.arange(0.1, 1, 0.2)})"
   ]
  },
  {
   "cell_type": "code",
   "execution_count": 45,
   "metadata": {},
   "outputs": [
    {
     "name": "stdout",
     "output_type": "stream",
     "text": [
      "RMSE 45.06721877278898\n",
      "{'reg_lambda': 2}\n",
      "CPU times: user 1min 3s, sys: 971 ms, total: 1min 4s\n",
      "Wall time: 1min 4s\n"
     ]
    }
   ],
   "source": [
    "%%time\n",
    "model = LGBMRegressor(n_estimators=100, random_state=12345, learning_rate=0.1, n_jobs=-1)\n",
    "eval(model, {'reg_lambda':np.arange(0, 20, 2)})"
   ]
  },
  {
   "cell_type": "code",
   "execution_count": 46,
   "metadata": {},
   "outputs": [
    {
     "name": "stdout",
     "output_type": "stream",
     "text": [
      "RMSE 45.663327377973225\n",
      "{'reg_alpha': 6}\n",
      "CPU times: user 1min 4s, sys: 803 ms, total: 1min 5s\n",
      "Wall time: 1min 6s\n"
     ]
    }
   ],
   "source": [
    "%%time\n",
    "model = LGBMRegressor(random_state=12345, learning_rate=0.3, n_jobs=-1, reg_lambda=2, n_estimators=100)\n",
    "eval(model, {'reg_alpha':np.arange(0, 20, 2)})"
   ]
  },
  {
   "cell_type": "code",
   "execution_count": 47,
   "metadata": {},
   "outputs": [
    {
     "name": "stdout",
     "output_type": "stream",
     "text": [
      "RMSE 44.605469503184395\n",
      "{'n_estimators': 100}\n",
      "CPU times: user 22.5 s, sys: 405 ms, total: 22.9 s\n",
      "Wall time: 23.2 s\n"
     ]
    }
   ],
   "source": [
    "%%time\n",
    "model = LGBMRegressor(random_state=12345, learning_rate=0.3, n_jobs=-1, reg_lambda=2, reg_alpha =10)\n",
    "eval(model, {'n_estimators':[100,300]})"
   ]
  },
  {
   "cell_type": "markdown",
   "metadata": {},
   "source": [
    "## Вывод: данные просемплированы и проанализированы. Обучены разные модели. Удалось достичь RMSE ниже 48. "
   ]
  },
  {
   "cell_type": "code",
   "execution_count": null,
   "metadata": {},
   "outputs": [],
   "source": []
  }
 ],
 "metadata": {
  "ExecuteTimeLog": [
   {
    "duration": 810,
    "start_time": "2021-12-20T16:19:51.253Z"
   },
   {
    "duration": 65,
    "start_time": "2021-12-20T16:20:33.733Z"
   },
   {
    "duration": 12,
    "start_time": "2021-12-20T16:27:21.064Z"
   },
   {
    "duration": 53,
    "start_time": "2021-12-20T16:27:31.848Z"
   },
   {
    "duration": 8,
    "start_time": "2021-12-20T16:27:32.593Z"
   },
   {
    "duration": 27,
    "start_time": "2021-12-20T16:28:02.721Z"
   },
   {
    "duration": 15,
    "start_time": "2021-12-20T16:28:16.751Z"
   },
   {
    "duration": 25,
    "start_time": "2021-12-20T16:28:24.842Z"
   },
   {
    "duration": 10,
    "start_time": "2021-12-20T16:47:36.330Z"
   },
   {
    "duration": 6,
    "start_time": "2021-12-20T16:47:55.383Z"
   },
   {
    "duration": 381,
    "start_time": "2021-12-20T16:49:29.128Z"
   },
   {
    "duration": 41,
    "start_time": "2021-12-20T16:50:07.559Z"
   },
   {
    "duration": 19,
    "start_time": "2021-12-20T16:51:29.287Z"
   },
   {
    "duration": 7,
    "start_time": "2021-12-20T16:52:28.009Z"
   },
   {
    "duration": 15,
    "start_time": "2021-12-20T16:52:46.229Z"
   },
   {
    "duration": 1110,
    "start_time": "2021-12-20T16:56:58.844Z"
   },
   {
    "duration": 1011,
    "start_time": "2021-12-20T16:57:13.532Z"
   },
   {
    "duration": 904,
    "start_time": "2021-12-20T16:57:19.234Z"
   },
   {
    "duration": 1082,
    "start_time": "2021-12-20T16:57:27.202Z"
   },
   {
    "duration": 869,
    "start_time": "2021-12-20T16:57:37.279Z"
   },
   {
    "duration": 1373,
    "start_time": "2021-12-20T16:57:45.660Z"
   },
   {
    "duration": 282,
    "start_time": "2021-12-20T16:59:06.160Z"
   },
   {
    "duration": 770,
    "start_time": "2021-12-20T16:59:19.512Z"
   },
   {
    "duration": 487,
    "start_time": "2021-12-20T17:05:14.132Z"
   },
   {
    "duration": 4,
    "start_time": "2021-12-20T17:05:37.413Z"
   },
   {
    "duration": 275,
    "start_time": "2021-12-20T17:05:45.967Z"
   },
   {
    "duration": 299,
    "start_time": "2021-12-20T17:06:08.570Z"
   },
   {
    "duration": 281,
    "start_time": "2021-12-20T17:06:15.182Z"
   },
   {
    "duration": 879,
    "start_time": "2021-12-20T17:13:02.720Z"
   },
   {
    "duration": 13,
    "start_time": "2021-12-20T17:14:00.649Z"
   },
   {
    "duration": 8,
    "start_time": "2021-12-20T17:14:00.929Z"
   },
   {
    "duration": 504,
    "start_time": "2021-12-20T17:20:15.915Z"
   },
   {
    "duration": 480,
    "start_time": "2021-12-20T17:23:43.471Z"
   },
   {
    "duration": 510,
    "start_time": "2021-12-20T17:23:52.431Z"
   },
   {
    "duration": 290,
    "start_time": "2021-12-20T17:25:19.030Z"
   },
   {
    "duration": 278,
    "start_time": "2021-12-20T17:25:50.080Z"
   },
   {
    "duration": 479,
    "start_time": "2021-12-20T17:26:13.801Z"
   },
   {
    "duration": 483,
    "start_time": "2021-12-20T17:27:10.199Z"
   },
   {
    "duration": 835,
    "start_time": "2021-12-20T17:27:40.950Z"
   },
   {
    "duration": 13,
    "start_time": "2021-12-20T17:31:56.800Z"
   },
   {
    "duration": 13,
    "start_time": "2021-12-20T17:39:09.272Z"
   },
   {
    "duration": 12,
    "start_time": "2021-12-20T17:39:25.219Z"
   },
   {
    "duration": 472,
    "start_time": "2021-12-20T17:40:26.640Z"
   },
   {
    "duration": 448,
    "start_time": "2021-12-20T17:41:00.222Z"
   },
   {
    "duration": 848,
    "start_time": "2021-12-20T17:41:25.319Z"
   },
   {
    "duration": 452,
    "start_time": "2021-12-20T17:41:32.999Z"
   },
   {
    "duration": 91,
    "start_time": "2021-12-20T17:41:55.139Z"
   },
   {
    "duration": 459,
    "start_time": "2021-12-20T17:42:01.079Z"
   },
   {
    "duration": 8895,
    "start_time": "2021-12-20T17:49:45.139Z"
   },
   {
    "duration": 670,
    "start_time": "2021-12-20T17:51:30.887Z"
   },
   {
    "duration": 84,
    "start_time": "2021-12-20T17:52:40.373Z"
   },
   {
    "duration": 365,
    "start_time": "2021-12-20T17:53:31.200Z"
   },
   {
    "duration": 8,
    "start_time": "2021-12-20T17:53:38.420Z"
   },
   {
    "duration": 5,
    "start_time": "2021-12-20T17:54:39.661Z"
   },
   {
    "duration": 14,
    "start_time": "2021-12-20T17:56:07.953Z"
   },
   {
    "duration": 528,
    "start_time": "2021-12-20T17:56:51.142Z"
   },
   {
    "duration": 8,
    "start_time": "2021-12-20T17:56:52.572Z"
   },
   {
    "duration": 15,
    "start_time": "2021-12-20T17:56:53.732Z"
   },
   {
    "duration": 54,
    "start_time": "2021-12-20T17:57:07.613Z"
   },
   {
    "duration": 2253,
    "start_time": "2021-12-20T17:57:18.962Z"
   },
   {
    "duration": 52,
    "start_time": "2021-12-20T17:57:32.392Z"
   },
   {
    "duration": 177,
    "start_time": "2021-12-20T17:57:32.582Z"
   },
   {
    "duration": 352,
    "start_time": "2021-12-20T17:57:32.763Z"
   },
   {
    "duration": 278,
    "start_time": "2021-12-20T17:57:33.119Z"
   },
   {
    "duration": 271,
    "start_time": "2021-12-20T17:57:33.400Z"
   },
   {
    "duration": 1216,
    "start_time": "2021-12-20T17:57:33.674Z"
   },
   {
    "duration": 11,
    "start_time": "2021-12-20T17:57:34.893Z"
   },
   {
    "duration": 813,
    "start_time": "2021-12-20T17:57:34.906Z"
   },
   {
    "duration": 497,
    "start_time": "2021-12-20T17:57:35.722Z"
   },
   {
    "duration": 479,
    "start_time": "2021-12-20T17:57:36.221Z"
   },
   {
    "duration": 12,
    "start_time": "2021-12-20T17:57:36.703Z"
   },
   {
    "duration": 656,
    "start_time": "2021-12-20T17:57:36.718Z"
   },
   {
    "duration": 644,
    "start_time": "2021-12-20T17:57:37.377Z"
   },
   {
    "duration": 8,
    "start_time": "2021-12-20T17:57:43.863Z"
   },
   {
    "duration": 19,
    "start_time": "2021-12-20T17:57:44.421Z"
   },
   {
    "duration": 5,
    "start_time": "2021-12-20T18:02:17.010Z"
   },
   {
    "duration": 18,
    "start_time": "2021-12-20T18:02:57.289Z"
   },
   {
    "duration": 7,
    "start_time": "2021-12-20T18:04:22.220Z"
   },
   {
    "duration": 7,
    "start_time": "2021-12-20T18:09:09.067Z"
   },
   {
    "duration": 7,
    "start_time": "2021-12-20T18:09:19.468Z"
   },
   {
    "duration": 6,
    "start_time": "2021-12-20T18:09:48.230Z"
   },
   {
    "duration": 16,
    "start_time": "2021-12-20T18:09:55.410Z"
   },
   {
    "duration": 14,
    "start_time": "2021-12-20T18:10:18.360Z"
   },
   {
    "duration": 4,
    "start_time": "2021-12-20T18:11:10.920Z"
   },
   {
    "duration": 24,
    "start_time": "2021-12-20T18:11:45.007Z"
   },
   {
    "duration": 325,
    "start_time": "2021-12-20T18:13:47.369Z"
   },
   {
    "duration": 8303,
    "start_time": "2021-12-20T18:13:56.041Z"
   },
   {
    "duration": 27,
    "start_time": "2021-12-20T18:14:28.494Z"
   },
   {
    "duration": 23,
    "start_time": "2021-12-20T18:16:15.408Z"
   },
   {
    "duration": 1853,
    "start_time": "2021-12-20T18:16:46.563Z"
   },
   {
    "duration": 69,
    "start_time": "2021-12-20T18:16:48.419Z"
   },
   {
    "duration": 136,
    "start_time": "2021-12-20T18:16:48.491Z"
   },
   {
    "duration": 228,
    "start_time": "2021-12-20T18:16:48.630Z"
   },
   {
    "duration": 205,
    "start_time": "2021-12-20T18:16:48.861Z"
   },
   {
    "duration": 382,
    "start_time": "2021-12-20T18:16:49.068Z"
   },
   {
    "duration": 1343,
    "start_time": "2021-12-20T18:16:49.453Z"
   },
   {
    "duration": 11,
    "start_time": "2021-12-20T18:16:50.800Z"
   },
   {
    "duration": 694,
    "start_time": "2021-12-20T18:16:50.814Z"
   },
   {
    "duration": 756,
    "start_time": "2021-12-20T18:16:51.511Z"
   },
   {
    "duration": 636,
    "start_time": "2021-12-20T18:16:52.270Z"
   },
   {
    "duration": 14,
    "start_time": "2021-12-20T18:16:52.908Z"
   },
   {
    "duration": 692,
    "start_time": "2021-12-20T18:16:52.925Z"
   },
   {
    "duration": 540,
    "start_time": "2021-12-20T18:16:53.620Z"
   },
   {
    "duration": 8,
    "start_time": "2021-12-20T18:16:54.163Z"
   },
   {
    "duration": 262,
    "start_time": "2021-12-20T18:16:54.174Z"
   },
   {
    "duration": 657,
    "start_time": "2021-12-20T18:16:54.438Z"
   },
   {
    "duration": -90,
    "start_time": "2021-12-20T18:16:55.188Z"
   },
   {
    "duration": 8,
    "start_time": "2021-12-20T18:17:30.942Z"
   },
   {
    "duration": 30,
    "start_time": "2021-12-20T18:17:31.840Z"
   },
   {
    "duration": 29,
    "start_time": "2021-12-20T18:17:57.513Z"
   },
   {
    "duration": 34,
    "start_time": "2021-12-20T18:18:08.367Z"
   },
   {
    "duration": 70,
    "start_time": "2021-12-20T18:19:54.383Z"
   },
   {
    "duration": 9,
    "start_time": "2021-12-20T18:20:22.011Z"
   },
   {
    "duration": 28,
    "start_time": "2021-12-20T18:40:52.179Z"
   },
   {
    "duration": 30,
    "start_time": "2021-12-20T18:41:00.631Z"
   },
   {
    "duration": 14,
    "start_time": "2021-12-20T18:41:31.869Z"
   },
   {
    "duration": 2752,
    "start_time": "2021-12-20T18:41:39.558Z"
   },
   {
    "duration": 75,
    "start_time": "2021-12-20T18:41:42.313Z"
   },
   {
    "duration": 106,
    "start_time": "2021-12-20T18:41:42.392Z"
   },
   {
    "duration": 178,
    "start_time": "2021-12-20T18:41:42.501Z"
   },
   {
    "duration": 224,
    "start_time": "2021-12-20T18:41:42.681Z"
   },
   {
    "duration": 227,
    "start_time": "2021-12-20T18:41:42.908Z"
   },
   {
    "duration": 1178,
    "start_time": "2021-12-20T18:41:43.137Z"
   },
   {
    "duration": 13,
    "start_time": "2021-12-20T18:41:44.319Z"
   },
   {
    "duration": 822,
    "start_time": "2021-12-20T18:41:44.336Z"
   },
   {
    "duration": 531,
    "start_time": "2021-12-20T18:41:45.168Z"
   },
   {
    "duration": 518,
    "start_time": "2021-12-20T18:41:45.702Z"
   },
   {
    "duration": 14,
    "start_time": "2021-12-20T18:41:46.223Z"
   },
   {
    "duration": 649,
    "start_time": "2021-12-20T18:41:46.239Z"
   },
   {
    "duration": 630,
    "start_time": "2021-12-20T18:41:46.890Z"
   },
   {
    "duration": 9,
    "start_time": "2021-12-20T18:41:47.522Z"
   },
   {
    "duration": 337,
    "start_time": "2021-12-20T18:41:47.533Z"
   },
   {
    "duration": 7,
    "start_time": "2021-12-20T18:41:47.873Z"
   },
   {
    "duration": 226,
    "start_time": "2021-12-20T18:41:47.882Z"
   },
   {
    "duration": 203,
    "start_time": "2021-12-20T18:41:48.110Z"
   },
   {
    "duration": 427,
    "start_time": "2021-12-20T18:43:32.673Z"
   },
   {
    "duration": 321,
    "start_time": "2021-12-20T18:43:43.383Z"
   },
   {
    "duration": 427,
    "start_time": "2021-12-20T18:43:55.233Z"
   },
   {
    "duration": 311,
    "start_time": "2021-12-20T18:44:15.693Z"
   },
   {
    "duration": 540,
    "start_time": "2021-12-20T18:45:55.743Z"
   },
   {
    "duration": 1028,
    "start_time": "2021-12-20T18:46:39.033Z"
   },
   {
    "duration": 4,
    "start_time": "2021-12-20T18:46:53.163Z"
   },
   {
    "duration": 556,
    "start_time": "2021-12-20T18:46:54.673Z"
   },
   {
    "duration": 286,
    "start_time": "2021-12-20T18:46:55.233Z"
   },
   {
    "duration": 265,
    "start_time": "2021-12-20T18:46:55.523Z"
   },
   {
    "duration": 173,
    "start_time": "2021-12-20T18:46:55.791Z"
   },
   {
    "duration": 447,
    "start_time": "2021-12-20T18:46:55.968Z"
   },
   {
    "duration": 1109,
    "start_time": "2021-12-20T18:46:56.417Z"
   },
   {
    "duration": 16,
    "start_time": "2021-12-20T18:46:57.530Z"
   },
   {
    "duration": 597,
    "start_time": "2021-12-20T18:46:57.549Z"
   },
   {
    "duration": 354,
    "start_time": "2021-12-20T18:46:58.148Z"
   },
   {
    "duration": 548,
    "start_time": "2021-12-20T18:46:58.506Z"
   },
   {
    "duration": 19,
    "start_time": "2021-12-20T18:46:59.057Z"
   },
   {
    "duration": 485,
    "start_time": "2021-12-20T18:46:59.664Z"
   },
   {
    "duration": 777,
    "start_time": "2021-12-20T18:47:01.363Z"
   },
   {
    "duration": 1079,
    "start_time": "2021-12-20T18:47:26.814Z"
   },
   {
    "duration": 604,
    "start_time": "2021-12-20T18:47:36.593Z"
   },
   {
    "duration": 609,
    "start_time": "2021-12-20T18:47:42.448Z"
   },
   {
    "duration": 612,
    "start_time": "2021-12-20T18:47:53.382Z"
   },
   {
    "duration": 653,
    "start_time": "2021-12-20T18:48:09.021Z"
   },
   {
    "duration": 779,
    "start_time": "2021-12-20T18:48:37.633Z"
   },
   {
    "duration": 772,
    "start_time": "2021-12-20T18:49:05.297Z"
   },
   {
    "duration": 779,
    "start_time": "2021-12-20T18:49:14.991Z"
   },
   {
    "duration": 9,
    "start_time": "2021-12-20T18:49:28.454Z"
   },
   {
    "duration": 188,
    "start_time": "2021-12-20T18:49:29.043Z"
   },
   {
    "duration": 7,
    "start_time": "2021-12-20T18:49:29.613Z"
   },
   {
    "duration": 36,
    "start_time": "2021-12-20T18:49:30.047Z"
   },
   {
    "duration": 9,
    "start_time": "2021-12-20T18:49:32.063Z"
   },
   {
    "duration": 16,
    "start_time": "2021-12-20T18:50:04.302Z"
   },
   {
    "duration": 33,
    "start_time": "2021-12-20T18:50:31.211Z"
   },
   {
    "duration": 319,
    "start_time": "2021-12-20T18:53:32.174Z"
   },
   {
    "duration": 293,
    "start_time": "2021-12-20T18:54:38.826Z"
   },
   {
    "duration": 31,
    "start_time": "2021-12-20T18:54:56.451Z"
   },
   {
    "duration": 659,
    "start_time": "2021-12-20T18:55:02.334Z"
   },
   {
    "duration": 611,
    "start_time": "2021-12-20T19:04:42.924Z"
   },
   {
    "duration": 7,
    "start_time": "2021-12-20T19:06:46.139Z"
   },
   {
    "duration": 124429,
    "start_time": "2021-12-20T19:07:32.356Z"
   },
   {
    "duration": 525,
    "start_time": "2021-12-20T19:20:56.964Z"
   },
   {
    "duration": 825,
    "start_time": "2021-12-20T19:21:24.053Z"
   },
   {
    "duration": 7796,
    "start_time": "2021-12-20T19:22:53.693Z"
   },
   {
    "duration": 6311,
    "start_time": "2021-12-20T19:23:19.384Z"
   },
   {
    "duration": 26,
    "start_time": "2021-12-20T19:24:12.145Z"
   },
   {
    "duration": 201,
    "start_time": "2021-12-20T19:24:25.693Z"
   },
   {
    "duration": 6855,
    "start_time": "2021-12-20T19:24:39.813Z"
   },
   {
    "duration": 50918,
    "start_time": "2021-12-20T19:25:50.059Z"
   },
   {
    "duration": 19,
    "start_time": "2021-12-20T19:27:31.804Z"
   },
   {
    "duration": 6,
    "start_time": "2021-12-20T19:27:32.063Z"
   },
   {
    "duration": 183177,
    "start_time": "2021-12-20T19:27:37.193Z"
   },
   {
    "duration": 36795,
    "start_time": "2021-12-20T19:32:55.672Z"
   },
   {
    "duration": 39,
    "start_time": "2021-12-20T19:39:06.981Z"
   },
   {
    "duration": 67,
    "start_time": "2021-12-20T19:39:21.752Z"
   },
   {
    "duration": 79,
    "start_time": "2021-12-20T19:39:48.246Z"
   },
   {
    "duration": 61,
    "start_time": "2021-12-20T19:40:16.940Z"
   },
   {
    "duration": 1584,
    "start_time": "2021-12-20T19:42:00.923Z"
   },
   {
    "duration": 68,
    "start_time": "2021-12-20T19:42:02.510Z"
   },
   {
    "duration": 132,
    "start_time": "2021-12-20T19:42:02.580Z"
   },
   {
    "duration": 162,
    "start_time": "2021-12-20T19:42:02.715Z"
   },
   {
    "duration": 137,
    "start_time": "2021-12-20T19:42:02.881Z"
   },
   {
    "duration": 162,
    "start_time": "2021-12-20T19:42:03.021Z"
   },
   {
    "duration": 1159,
    "start_time": "2021-12-20T19:42:03.187Z"
   },
   {
    "duration": 18,
    "start_time": "2021-12-20T19:42:04.349Z"
   },
   {
    "duration": 921,
    "start_time": "2021-12-20T19:42:04.369Z"
   },
   {
    "duration": 338,
    "start_time": "2021-12-20T19:42:05.292Z"
   },
   {
    "duration": 516,
    "start_time": "2021-12-20T19:42:05.633Z"
   },
   {
    "duration": 25,
    "start_time": "2021-12-20T19:42:06.151Z"
   },
   {
    "duration": 641,
    "start_time": "2021-12-20T19:42:06.179Z"
   },
   {
    "duration": 631,
    "start_time": "2021-12-20T19:42:06.822Z"
   },
   {
    "duration": 18,
    "start_time": "2021-12-20T19:42:07.456Z"
   },
   {
    "duration": 435,
    "start_time": "2021-12-20T19:42:07.476Z"
   },
   {
    "duration": 8,
    "start_time": "2021-12-20T19:42:07.914Z"
   },
   {
    "duration": 198,
    "start_time": "2021-12-20T19:42:07.925Z"
   },
   {
    "duration": 242,
    "start_time": "2021-12-20T19:42:08.125Z"
   },
   {
    "duration": 30898,
    "start_time": "2021-12-20T19:42:08.371Z"
   },
   {
    "duration": 143,
    "start_time": "2021-12-20T19:42:39.272Z"
   },
   {
    "duration": 95,
    "start_time": "2021-12-20T19:42:39.420Z"
   },
   {
    "duration": 8367,
    "start_time": "2021-12-20T19:42:39.518Z"
   },
   {
    "duration": 47683,
    "start_time": "2021-12-20T19:44:38.093Z"
   },
   {
    "duration": 35229,
    "start_time": "2021-12-20T19:46:27.042Z"
   },
   {
    "duration": 99,
    "start_time": "2021-12-20T19:47:02.275Z"
   },
   {
    "duration": 1374,
    "start_time": "2021-12-20T19:49:16.215Z"
   },
   {
    "duration": 65,
    "start_time": "2021-12-20T19:49:17.594Z"
   },
   {
    "duration": 185,
    "start_time": "2021-12-20T19:49:17.662Z"
   },
   {
    "duration": 218,
    "start_time": "2021-12-20T19:49:17.849Z"
   },
   {
    "duration": 277,
    "start_time": "2021-12-20T19:49:18.070Z"
   },
   {
    "duration": 237,
    "start_time": "2021-12-20T19:49:18.349Z"
   },
   {
    "duration": 1161,
    "start_time": "2021-12-20T19:49:18.590Z"
   },
   {
    "duration": 16,
    "start_time": "2021-12-20T19:49:19.754Z"
   },
   {
    "duration": 878,
    "start_time": "2021-12-20T19:49:19.772Z"
   },
   {
    "duration": 343,
    "start_time": "2021-12-20T19:49:20.652Z"
   },
   {
    "duration": 522,
    "start_time": "2021-12-20T19:49:20.998Z"
   },
   {
    "duration": 14,
    "start_time": "2021-12-20T19:49:21.523Z"
   },
   {
    "duration": 790,
    "start_time": "2021-12-20T19:49:21.540Z"
   },
   {
    "duration": 606,
    "start_time": "2021-12-20T19:49:22.332Z"
   },
   {
    "duration": 8,
    "start_time": "2021-12-20T19:49:22.941Z"
   },
   {
    "duration": 379,
    "start_time": "2021-12-20T19:49:22.967Z"
   },
   {
    "duration": 97,
    "start_time": "2021-12-20T19:49:23.348Z"
   },
   {
    "duration": 309,
    "start_time": "2021-12-20T19:49:23.448Z"
   },
   {
    "duration": 308,
    "start_time": "2021-12-20T19:49:23.760Z"
   },
   {
    "duration": 6801,
    "start_time": "2021-12-20T19:49:24.072Z"
   },
   {
    "duration": 13,
    "start_time": "2021-12-20T19:49:30.877Z"
   },
   {
    "duration": 161,
    "start_time": "2021-12-20T19:49:30.970Z"
   },
   {
    "duration": 4038,
    "start_time": "2021-12-20T19:49:31.133Z"
   },
   {
    "duration": 7761,
    "start_time": "2021-12-20T19:56:01.912Z"
   },
   {
    "duration": 1506,
    "start_time": "2021-12-20T19:57:06.582Z"
   },
   {
    "duration": 66,
    "start_time": "2021-12-20T19:57:08.092Z"
   },
   {
    "duration": 229,
    "start_time": "2021-12-20T19:57:08.161Z"
   },
   {
    "duration": 317,
    "start_time": "2021-12-20T19:57:08.393Z"
   },
   {
    "duration": 282,
    "start_time": "2021-12-20T19:57:08.712Z"
   },
   {
    "duration": 207,
    "start_time": "2021-12-20T19:57:08.997Z"
   },
   {
    "duration": 1251,
    "start_time": "2021-12-20T19:57:09.207Z"
   },
   {
    "duration": 17,
    "start_time": "2021-12-20T19:57:10.461Z"
   },
   {
    "duration": 740,
    "start_time": "2021-12-20T19:57:10.481Z"
   },
   {
    "duration": 365,
    "start_time": "2021-12-20T19:57:11.224Z"
   },
   {
    "duration": 504,
    "start_time": "2021-12-20T19:57:11.591Z"
   },
   {
    "duration": 13,
    "start_time": "2021-12-20T19:57:12.098Z"
   },
   {
    "duration": 678,
    "start_time": "2021-12-20T19:57:12.114Z"
   },
   {
    "duration": 623,
    "start_time": "2021-12-20T19:57:12.795Z"
   },
   {
    "duration": 9,
    "start_time": "2021-12-20T19:57:13.421Z"
   },
   {
    "duration": 504,
    "start_time": "2021-12-20T19:57:13.433Z"
   },
   {
    "duration": 228,
    "start_time": "2021-12-20T19:57:13.939Z"
   },
   {
    "duration": 318,
    "start_time": "2021-12-20T19:57:14.172Z"
   },
   {
    "duration": 285,
    "start_time": "2021-12-20T19:57:14.493Z"
   },
   {
    "duration": 7285,
    "start_time": "2021-12-20T19:57:14.782Z"
   },
   {
    "duration": 10,
    "start_time": "2021-12-20T19:57:22.070Z"
   },
   {
    "duration": 291,
    "start_time": "2021-12-20T19:57:22.088Z"
   },
   {
    "duration": 4592,
    "start_time": "2021-12-20T19:57:22.381Z"
   },
   {
    "duration": 55640,
    "start_time": "2021-12-20T19:58:07.737Z"
   },
   {
    "duration": 1411,
    "start_time": "2021-12-20T20:00:28.991Z"
   },
   {
    "duration": 65,
    "start_time": "2021-12-20T20:00:30.406Z"
   },
   {
    "duration": 162,
    "start_time": "2021-12-20T20:00:30.473Z"
   },
   {
    "duration": 281,
    "start_time": "2021-12-20T20:00:30.638Z"
   },
   {
    "duration": 281,
    "start_time": "2021-12-20T20:00:30.921Z"
   },
   {
    "duration": 321,
    "start_time": "2021-12-20T20:00:31.205Z"
   },
   {
    "duration": 1209,
    "start_time": "2021-12-20T20:00:31.529Z"
   },
   {
    "duration": 27,
    "start_time": "2021-12-20T20:00:32.742Z"
   },
   {
    "duration": 853,
    "start_time": "2021-12-20T20:00:32.772Z"
   },
   {
    "duration": 369,
    "start_time": "2021-12-20T20:00:33.627Z"
   },
   {
    "duration": 547,
    "start_time": "2021-12-20T20:00:33.999Z"
   },
   {
    "duration": 23,
    "start_time": "2021-12-20T20:00:34.548Z"
   },
   {
    "duration": 776,
    "start_time": "2021-12-20T20:00:34.574Z"
   },
   {
    "duration": 652,
    "start_time": "2021-12-20T20:00:35.352Z"
   },
   {
    "duration": 10,
    "start_time": "2021-12-20T20:00:36.008Z"
   },
   {
    "duration": 480,
    "start_time": "2021-12-20T20:00:36.020Z"
   },
   {
    "duration": 247,
    "start_time": "2021-12-20T20:00:36.503Z"
   },
   {
    "duration": 361,
    "start_time": "2021-12-20T20:00:36.754Z"
   },
   {
    "duration": 261,
    "start_time": "2021-12-20T20:00:37.118Z"
   },
   {
    "duration": 61386,
    "start_time": "2021-12-20T20:00:37.383Z"
   },
   {
    "duration": 105,
    "start_time": "2021-12-20T20:01:38.773Z"
   },
   {
    "duration": 158,
    "start_time": "2021-12-20T20:01:38.882Z"
   },
   {
    "duration": 5937,
    "start_time": "2021-12-20T20:01:39.042Z"
   },
   {
    "duration": 1560,
    "start_time": "2021-12-20T20:05:57.836Z"
   },
   {
    "duration": 66,
    "start_time": "2021-12-20T20:05:59.398Z"
   },
   {
    "duration": 286,
    "start_time": "2021-12-20T20:05:59.467Z"
   },
   {
    "duration": 308,
    "start_time": "2021-12-20T20:05:59.757Z"
   },
   {
    "duration": 344,
    "start_time": "2021-12-20T20:06:00.068Z"
   },
   {
    "duration": 321,
    "start_time": "2021-12-20T20:06:00.415Z"
   },
   {
    "duration": 1368,
    "start_time": "2021-12-20T20:06:00.739Z"
   },
   {
    "duration": 11,
    "start_time": "2021-12-20T20:06:02.110Z"
   },
   {
    "duration": 963,
    "start_time": "2021-12-20T20:06:02.124Z"
   },
   {
    "duration": 361,
    "start_time": "2021-12-20T20:06:03.090Z"
   },
   {
    "duration": 633,
    "start_time": "2021-12-20T20:06:03.453Z"
   },
   {
    "duration": 14,
    "start_time": "2021-12-20T20:06:04.089Z"
   },
   {
    "duration": 807,
    "start_time": "2021-12-20T20:06:04.106Z"
   },
   {
    "duration": 635,
    "start_time": "2021-12-20T20:06:04.915Z"
   },
   {
    "duration": 16,
    "start_time": "2021-12-20T20:06:05.552Z"
   },
   {
    "duration": 415,
    "start_time": "2021-12-20T20:06:05.571Z"
   },
   {
    "duration": 26,
    "start_time": "2021-12-20T20:06:05.988Z"
   },
   {
    "duration": 621,
    "start_time": "2021-12-20T20:06:06.016Z"
   },
   {
    "duration": -119,
    "start_time": "2021-12-20T20:06:06.758Z"
   },
   {
    "duration": -168,
    "start_time": "2021-12-20T20:06:06.809Z"
   },
   {
    "duration": -174,
    "start_time": "2021-12-20T20:06:06.816Z"
   },
   {
    "duration": -175,
    "start_time": "2021-12-20T20:06:06.818Z"
   },
   {
    "duration": -174,
    "start_time": "2021-12-20T20:06:06.819Z"
   },
   {
    "duration": 22,
    "start_time": "2021-12-20T20:07:57.342Z"
   },
   {
    "duration": 27,
    "start_time": "2021-12-20T20:07:59.039Z"
   },
   {
    "duration": 61494,
    "start_time": "2021-12-20T20:08:01.581Z"
   },
   {
    "duration": 15,
    "start_time": "2021-12-20T20:09:03.169Z"
   },
   {
    "duration": 238,
    "start_time": "2021-12-20T20:09:03.187Z"
   },
   {
    "duration": 4858,
    "start_time": "2021-12-20T20:09:03.428Z"
   },
   {
    "duration": 42,
    "start_time": "2021-12-20T20:11:15.832Z"
   },
   {
    "duration": 55258,
    "start_time": "2021-12-20T20:12:04.322Z"
   },
   {
    "duration": 6,
    "start_time": "2021-12-20T20:15:06.060Z"
   },
   {
    "duration": 563,
    "start_time": "2021-12-20T20:15:06.180Z"
   },
   {
    "duration": 5,
    "start_time": "2021-12-20T20:15:32.010Z"
   },
   {
    "duration": 5,
    "start_time": "2021-12-20T20:15:41.266Z"
   },
   {
    "duration": 39589,
    "start_time": "2021-12-20T20:15:41.403Z"
   },
   {
    "duration": 5,
    "start_time": "2021-12-20T20:16:53.103Z"
   },
   {
    "duration": 42216,
    "start_time": "2021-12-20T20:16:55.651Z"
   },
   {
    "duration": 66588,
    "start_time": "2021-12-20T20:18:58.390Z"
   },
   {
    "duration": 101660,
    "start_time": "2021-12-20T20:22:19.213Z"
   },
   {
    "duration": 199425,
    "start_time": "2021-12-20T20:24:23.961Z"
   },
   {
    "duration": 502,
    "start_time": "2021-12-21T15:28:13.001Z"
   },
   {
    "duration": 409,
    "start_time": "2021-12-21T15:28:20.956Z"
   },
   {
    "duration": 1595,
    "start_time": "2021-12-21T15:28:28.385Z"
   },
   {
    "duration": 75,
    "start_time": "2021-12-21T15:28:29.983Z"
   },
   {
    "duration": 9,
    "start_time": "2021-12-21T15:28:30.061Z"
   },
   {
    "duration": 17,
    "start_time": "2021-12-21T15:28:30.073Z"
   },
   {
    "duration": 35,
    "start_time": "2021-12-21T15:28:30.093Z"
   },
   {
    "duration": 28,
    "start_time": "2021-12-21T15:28:30.130Z"
   },
   {
    "duration": 995,
    "start_time": "2021-12-21T15:28:30.161Z"
   },
   {
    "duration": 11,
    "start_time": "2021-12-21T15:28:31.160Z"
   },
   {
    "duration": 555,
    "start_time": "2021-12-21T15:28:31.174Z"
   },
   {
    "duration": 329,
    "start_time": "2021-12-21T15:28:31.732Z"
   },
   {
    "duration": 603,
    "start_time": "2021-12-21T15:28:32.064Z"
   },
   {
    "duration": 13,
    "start_time": "2021-12-21T15:28:32.669Z"
   },
   {
    "duration": 478,
    "start_time": "2021-12-21T15:28:32.684Z"
   },
   {
    "duration": 616,
    "start_time": "2021-12-21T15:28:33.164Z"
   },
   {
    "duration": 8,
    "start_time": "2021-12-21T15:28:33.783Z"
   },
   {
    "duration": 210,
    "start_time": "2021-12-21T15:28:33.794Z"
   },
   {
    "duration": 11,
    "start_time": "2021-12-21T15:28:34.017Z"
   },
   {
    "duration": 27,
    "start_time": "2021-12-21T15:28:34.032Z"
   },
   {
    "duration": 5,
    "start_time": "2021-12-21T15:28:34.062Z"
   },
   {
    "duration": 65561,
    "start_time": "2021-12-21T15:28:34.070Z"
   },
   {
    "duration": 95,
    "start_time": "2021-12-21T15:29:39.634Z"
   },
   {
    "duration": 6,
    "start_time": "2021-12-21T15:29:39.731Z"
   },
   {
    "duration": 277980,
    "start_time": "2021-12-21T15:29:39.742Z"
   },
   {
    "duration": 7,
    "start_time": "2021-12-21T15:34:17.725Z"
   },
   {
    "duration": 377703,
    "start_time": "2021-12-21T15:34:17.738Z"
   },
   {
    "duration": 36790,
    "start_time": "2021-12-21T15:40:35.443Z"
   },
   {
    "duration": 72589,
    "start_time": "2021-12-21T15:41:12.236Z"
   },
   {
    "duration": 1273,
    "start_time": "2021-12-21T16:13:36.097Z"
   },
   {
    "duration": 984,
    "start_time": "2021-12-21T16:14:14.286Z"
   },
   {
    "duration": 4,
    "start_time": "2021-12-21T16:16:50.587Z"
   },
   {
    "duration": 66,
    "start_time": "2021-12-21T16:16:52.066Z"
   },
   {
    "duration": 8,
    "start_time": "2021-12-21T16:16:52.766Z"
   },
   {
    "duration": 17,
    "start_time": "2021-12-21T16:16:53.193Z"
   },
   {
    "duration": 6,
    "start_time": "2021-12-21T16:16:53.446Z"
   },
   {
    "duration": 17,
    "start_time": "2021-12-21T16:16:54.105Z"
   },
   {
    "duration": 981,
    "start_time": "2021-12-21T16:16:55.196Z"
   },
   {
    "duration": 10,
    "start_time": "2021-12-21T16:18:09.137Z"
   },
   {
    "duration": 529,
    "start_time": "2021-12-21T16:18:09.446Z"
   },
   {
    "duration": 375,
    "start_time": "2021-12-21T16:18:10.846Z"
   },
   {
    "duration": 451,
    "start_time": "2021-12-21T16:18:11.826Z"
   },
   {
    "duration": 600,
    "start_time": "2021-12-21T16:20:49.417Z"
   },
   {
    "duration": 506,
    "start_time": "2021-12-21T16:20:58.804Z"
   },
   {
    "duration": 751,
    "start_time": "2021-12-21T16:21:05.946Z"
   },
   {
    "duration": 49,
    "start_time": "2021-12-21T16:42:55.177Z"
   },
   {
    "duration": 8,
    "start_time": "2021-12-21T16:42:55.507Z"
   },
   {
    "duration": 17,
    "start_time": "2021-12-21T16:42:55.685Z"
   },
   {
    "duration": 6,
    "start_time": "2021-12-21T16:42:55.966Z"
   },
   {
    "duration": 17,
    "start_time": "2021-12-21T16:42:56.116Z"
   },
   {
    "duration": 877,
    "start_time": "2021-12-21T16:42:56.496Z"
   },
   {
    "duration": 11,
    "start_time": "2021-12-21T16:42:57.376Z"
   },
   {
    "duration": 567,
    "start_time": "2021-12-21T16:42:57.390Z"
   },
   {
    "duration": 577,
    "start_time": "2021-12-21T16:42:57.961Z"
   },
   {
    "duration": 633,
    "start_time": "2021-12-21T16:42:58.542Z"
   },
   {
    "duration": 12,
    "start_time": "2021-12-21T16:42:59.178Z"
   },
   {
    "duration": 711,
    "start_time": "2021-12-21T16:42:59.193Z"
   },
   {
    "duration": 768,
    "start_time": "2021-12-21T16:42:59.908Z"
   },
   {
    "duration": 769,
    "start_time": "2021-12-21T16:44:05.295Z"
   },
   {
    "duration": 8,
    "start_time": "2021-12-21T16:44:24.046Z"
   },
   {
    "duration": 165,
    "start_time": "2021-12-21T16:44:25.496Z"
   },
   {
    "duration": 7,
    "start_time": "2021-12-21T16:44:33.576Z"
   },
   {
    "duration": 25,
    "start_time": "2021-12-21T16:44:37.627Z"
   },
   {
    "duration": 8,
    "start_time": "2021-12-21T16:44:54.597Z"
   },
   {
    "duration": 65463,
    "start_time": "2021-12-21T16:45:05.566Z"
   },
   {
    "duration": 92,
    "start_time": "2021-12-21T16:53:17.636Z"
   },
   {
    "duration": 101,
    "start_time": "2021-12-21T16:53:27.326Z"
   },
   {
    "duration": 165,
    "start_time": "2021-12-21T16:53:46.958Z"
   },
   {
    "duration": 150,
    "start_time": "2021-12-21T16:54:06.077Z"
   },
   {
    "duration": 33,
    "start_time": "2021-12-21T16:54:45.767Z"
   },
   {
    "duration": 37,
    "start_time": "2021-12-21T16:54:56.157Z"
   },
   {
    "duration": 4,
    "start_time": "2021-12-21T17:03:11.746Z"
   },
   {
    "duration": 6,
    "start_time": "2021-12-21T17:18:35.935Z"
   },
   {
    "duration": 262,
    "start_time": "2021-12-21T17:23:23.843Z"
   },
   {
    "duration": 335,
    "start_time": "2021-12-21T17:29:19.785Z"
   },
   {
    "duration": 6,
    "start_time": "2021-12-21T17:31:51.598Z"
   },
   {
    "duration": 5,
    "start_time": "2021-12-21T17:31:57.190Z"
   },
   {
    "duration": 6,
    "start_time": "2021-12-21T17:32:12.701Z"
   },
   {
    "duration": 267,
    "start_time": "2021-12-21T17:32:31.537Z"
   },
   {
    "duration": 314,
    "start_time": "2021-12-21T17:32:45.866Z"
   },
   {
    "duration": 409,
    "start_time": "2021-12-21T17:34:43.385Z"
   },
   {
    "duration": 2311,
    "start_time": "2021-12-21T17:35:04.209Z"
   },
   {
    "duration": 9640,
    "start_time": "2021-12-21T17:36:04.417Z"
   },
   {
    "duration": 4274,
    "start_time": "2021-12-21T17:36:18.209Z"
   },
   {
    "duration": 264,
    "start_time": "2021-12-21T17:36:23.912Z"
   },
   {
    "duration": 1576,
    "start_time": "2021-12-21T17:36:36.586Z"
   },
   {
    "duration": 84,
    "start_time": "2021-12-21T17:36:38.165Z"
   },
   {
    "duration": 9,
    "start_time": "2021-12-21T17:36:38.252Z"
   },
   {
    "duration": 23,
    "start_time": "2021-12-21T17:36:38.265Z"
   },
   {
    "duration": 7,
    "start_time": "2021-12-21T17:36:38.318Z"
   },
   {
    "duration": 28,
    "start_time": "2021-12-21T17:36:38.328Z"
   },
   {
    "duration": 1560,
    "start_time": "2021-12-21T17:36:38.359Z"
   },
   {
    "duration": 13,
    "start_time": "2021-12-21T17:36:39.923Z"
   },
   {
    "duration": 738,
    "start_time": "2021-12-21T17:36:39.941Z"
   },
   {
    "duration": 501,
    "start_time": "2021-12-21T17:36:40.684Z"
   },
   {
    "duration": 703,
    "start_time": "2021-12-21T17:36:41.188Z"
   },
   {
    "duration": 24,
    "start_time": "2021-12-21T17:36:41.894Z"
   },
   {
    "duration": 626,
    "start_time": "2021-12-21T17:36:41.921Z"
   },
   {
    "duration": 787,
    "start_time": "2021-12-21T17:36:42.550Z"
   },
   {
    "duration": 9,
    "start_time": "2021-12-21T17:36:43.341Z"
   },
   {
    "duration": 1459,
    "start_time": "2021-12-21T17:36:43.354Z"
   },
   {
    "duration": 922,
    "start_time": "2021-12-21T17:36:44.816Z"
   },
   {
    "duration": 861,
    "start_time": "2021-12-21T17:36:45.741Z"
   },
   {
    "duration": -147,
    "start_time": "2021-12-21T17:36:46.752Z"
   },
   {
    "duration": -166,
    "start_time": "2021-12-21T17:36:46.774Z"
   },
   {
    "duration": -170,
    "start_time": "2021-12-21T17:36:46.780Z"
   },
   {
    "duration": -189,
    "start_time": "2021-12-21T17:36:46.801Z"
   },
   {
    "duration": -207,
    "start_time": "2021-12-21T17:36:46.821Z"
   },
   {
    "duration": -211,
    "start_time": "2021-12-21T17:36:46.827Z"
   },
   {
    "duration": -240,
    "start_time": "2021-12-21T17:36:46.858Z"
   },
   {
    "duration": -243,
    "start_time": "2021-12-21T17:36:46.864Z"
   },
   {
    "duration": -257,
    "start_time": "2021-12-21T17:36:46.880Z"
   },
   {
    "duration": -272,
    "start_time": "2021-12-21T17:36:46.897Z"
   },
   {
    "duration": 504,
    "start_time": "2021-12-21T17:37:43.515Z"
   },
   {
    "duration": 6,
    "start_time": "2021-12-21T17:38:34.426Z"
   },
   {
    "duration": 269,
    "start_time": "2021-12-21T17:38:39.804Z"
   },
   {
    "duration": 3918,
    "start_time": "2021-12-21T17:38:41.026Z"
   },
   {
    "duration": 6,
    "start_time": "2021-12-21T17:38:44.948Z"
   },
   {
    "duration": 15,
    "start_time": "2021-12-21T17:39:27.857Z"
   },
   {
    "duration": 15,
    "start_time": "2021-12-21T17:39:38.226Z"
   },
   {
    "duration": 188,
    "start_time": "2021-12-21T17:39:54.912Z"
   },
   {
    "duration": 7,
    "start_time": "2021-12-21T17:39:55.677Z"
   },
   {
    "duration": 447,
    "start_time": "2021-12-21T17:39:56.904Z"
   },
   {
    "duration": 16,
    "start_time": "2021-12-21T17:41:04.993Z"
   },
   {
    "duration": 8,
    "start_time": "2021-12-21T17:41:16.769Z"
   },
   {
    "duration": 5,
    "start_time": "2021-12-21T17:44:43.806Z"
   },
   {
    "duration": 283,
    "start_time": "2021-12-21T17:44:52.264Z"
   },
   {
    "duration": 4,
    "start_time": "2021-12-21T17:45:01.378Z"
   },
   {
    "duration": 252,
    "start_time": "2021-12-21T17:47:39.087Z"
   },
   {
    "duration": 283,
    "start_time": "2021-12-21T17:47:48.038Z"
   },
   {
    "duration": 6,
    "start_time": "2021-12-21T17:48:12.629Z"
   },
   {
    "duration": 277,
    "start_time": "2021-12-21T17:48:15.537Z"
   },
   {
    "duration": 108,
    "start_time": "2021-12-21T17:48:28.112Z"
   },
   {
    "duration": 5,
    "start_time": "2021-12-21T17:49:11.142Z"
   },
   {
    "duration": 6,
    "start_time": "2021-12-21T17:49:31.415Z"
   },
   {
    "duration": 437,
    "start_time": "2021-12-21T17:49:33.916Z"
   },
   {
    "duration": 274,
    "start_time": "2021-12-21T17:51:37.349Z"
   },
   {
    "duration": 237,
    "start_time": "2021-12-21T17:52:16.389Z"
   },
   {
    "duration": 24,
    "start_time": "2021-12-21T17:52:34.753Z"
   },
   {
    "duration": 21,
    "start_time": "2021-12-21T17:52:46.197Z"
   },
   {
    "duration": 5,
    "start_time": "2021-12-21T17:53:15.267Z"
   },
   {
    "duration": 269,
    "start_time": "2021-12-21T17:53:33.602Z"
   },
   {
    "duration": 283,
    "start_time": "2021-12-21T17:58:04.374Z"
   },
   {
    "duration": 6,
    "start_time": "2021-12-21T17:58:12.957Z"
   },
   {
    "duration": 254,
    "start_time": "2021-12-21T17:58:56.276Z"
   },
   {
    "duration": 75,
    "start_time": "2021-12-21T17:59:31.436Z"
   },
   {
    "duration": 322,
    "start_time": "2021-12-21T18:01:11.239Z"
   },
   {
    "duration": 260,
    "start_time": "2021-12-21T18:01:35.847Z"
   },
   {
    "duration": 299,
    "start_time": "2021-12-21T18:02:00.845Z"
   },
   {
    "duration": 6,
    "start_time": "2021-12-21T20:15:35.387Z"
   },
   {
    "duration": 341,
    "start_time": "2021-12-21T20:16:44.398Z"
   },
   {
    "duration": 1501,
    "start_time": "2021-12-21T20:16:59.778Z"
   },
   {
    "duration": 5,
    "start_time": "2021-12-21T20:17:18.054Z"
   },
   {
    "duration": 276,
    "start_time": "2021-12-21T20:17:19.645Z"
   },
   {
    "duration": 342,
    "start_time": "2021-12-21T20:17:39.788Z"
   },
   {
    "duration": 1320,
    "start_time": "2021-12-21T20:17:50.293Z"
   },
   {
    "duration": 69,
    "start_time": "2021-12-21T20:17:51.623Z"
   },
   {
    "duration": 8,
    "start_time": "2021-12-21T20:17:51.695Z"
   },
   {
    "duration": 24,
    "start_time": "2021-12-21T20:17:51.706Z"
   },
   {
    "duration": 4,
    "start_time": "2021-12-21T20:17:51.733Z"
   },
   {
    "duration": 28,
    "start_time": "2021-12-21T20:17:51.740Z"
   },
   {
    "duration": 988,
    "start_time": "2021-12-21T20:17:51.770Z"
   },
   {
    "duration": 11,
    "start_time": "2021-12-21T20:17:52.762Z"
   },
   {
    "duration": 630,
    "start_time": "2021-12-21T20:17:52.776Z"
   },
   {
    "duration": 388,
    "start_time": "2021-12-21T20:17:53.409Z"
   },
   {
    "duration": 550,
    "start_time": "2021-12-21T20:17:53.799Z"
   },
   {
    "duration": 13,
    "start_time": "2021-12-21T20:17:54.351Z"
   },
   {
    "duration": 518,
    "start_time": "2021-12-21T20:17:54.366Z"
   },
   {
    "duration": 643,
    "start_time": "2021-12-21T20:17:54.886Z"
   },
   {
    "duration": 8,
    "start_time": "2021-12-21T20:17:55.531Z"
   },
   {
    "duration": 175,
    "start_time": "2021-12-21T20:17:55.541Z"
   },
   {
    "duration": 7,
    "start_time": "2021-12-21T20:17:55.719Z"
   },
   {
    "duration": 9,
    "start_time": "2021-12-21T20:17:55.728Z"
   },
   {
    "duration": 38,
    "start_time": "2021-12-21T20:17:55.739Z"
   },
   {
    "duration": 508,
    "start_time": "2021-12-21T20:17:55.780Z"
   },
   {
    "duration": -117,
    "start_time": "2021-12-21T20:17:56.408Z"
   },
   {
    "duration": -123,
    "start_time": "2021-12-21T20:17:56.415Z"
   },
   {
    "duration": -124,
    "start_time": "2021-12-21T20:17:56.417Z"
   },
   {
    "duration": -130,
    "start_time": "2021-12-21T20:17:56.425Z"
   },
   {
    "duration": -131,
    "start_time": "2021-12-21T20:17:56.427Z"
   },
   {
    "duration": -146,
    "start_time": "2021-12-21T20:17:56.443Z"
   },
   {
    "duration": -166,
    "start_time": "2021-12-21T20:17:56.465Z"
   },
   {
    "duration": -168,
    "start_time": "2021-12-21T20:17:56.468Z"
   },
   {
    "duration": -171,
    "start_time": "2021-12-21T20:17:56.473Z"
   },
   {
    "duration": 5,
    "start_time": "2021-12-21T20:19:46.835Z"
   },
   {
    "duration": 1906,
    "start_time": "2021-12-21T20:19:47.033Z"
   },
   {
    "duration": 1904,
    "start_time": "2021-12-21T20:20:10.131Z"
   },
   {
    "duration": 2809,
    "start_time": "2021-12-21T20:20:24.921Z"
   },
   {
    "duration": 6,
    "start_time": "2021-12-21T20:20:37.984Z"
   },
   {
    "duration": 463,
    "start_time": "2021-12-21T20:20:41.434Z"
   },
   {
    "duration": 313,
    "start_time": "2021-12-21T20:20:51.901Z"
   },
   {
    "duration": 13333,
    "start_time": "2021-12-21T20:20:56.905Z"
   },
   {
    "duration": -413,
    "start_time": "2021-12-21T20:21:10.934Z"
   },
   {
    "duration": 466,
    "start_time": "2021-12-21T20:21:14.203Z"
   },
   {
    "duration": 276,
    "start_time": "2021-12-21T20:21:21.057Z"
   },
   {
    "duration": 266,
    "start_time": "2021-12-21T20:21:25.271Z"
   },
   {
    "duration": 5,
    "start_time": "2021-12-21T20:21:42.432Z"
   },
   {
    "duration": 267,
    "start_time": "2021-12-21T20:21:50.563Z"
   },
   {
    "duration": 339,
    "start_time": "2021-12-21T20:21:57.869Z"
   },
   {
    "duration": 1498,
    "start_time": "2021-12-21T20:22:05.830Z"
   },
   {
    "duration": 88,
    "start_time": "2021-12-21T20:22:07.332Z"
   },
   {
    "duration": 9,
    "start_time": "2021-12-21T20:22:07.425Z"
   },
   {
    "duration": 19,
    "start_time": "2021-12-21T20:22:07.438Z"
   },
   {
    "duration": 6,
    "start_time": "2021-12-21T20:22:07.460Z"
   },
   {
    "duration": 63,
    "start_time": "2021-12-21T20:22:07.469Z"
   },
   {
    "duration": 1153,
    "start_time": "2021-12-21T20:22:07.536Z"
   },
   {
    "duration": 11,
    "start_time": "2021-12-21T20:22:08.692Z"
   },
   {
    "duration": 599,
    "start_time": "2021-12-21T20:22:08.724Z"
   },
   {
    "duration": 393,
    "start_time": "2021-12-21T20:22:09.326Z"
   },
   {
    "duration": 594,
    "start_time": "2021-12-21T20:22:09.724Z"
   },
   {
    "duration": 14,
    "start_time": "2021-12-21T20:22:10.324Z"
   },
   {
    "duration": 530,
    "start_time": "2021-12-21T20:22:10.340Z"
   },
   {
    "duration": 758,
    "start_time": "2021-12-21T20:22:10.874Z"
   },
   {
    "duration": 10,
    "start_time": "2021-12-21T20:22:11.635Z"
   },
   {
    "duration": 187,
    "start_time": "2021-12-21T20:22:11.648Z"
   },
   {
    "duration": 9,
    "start_time": "2021-12-21T20:22:11.837Z"
   },
   {
    "duration": 21,
    "start_time": "2021-12-21T20:22:11.848Z"
   },
   {
    "duration": 51,
    "start_time": "2021-12-21T20:22:11.872Z"
   },
   {
    "duration": 460,
    "start_time": "2021-12-21T20:22:11.926Z"
   },
   {
    "duration": -376,
    "start_time": "2021-12-21T20:22:12.766Z"
   },
   {
    "duration": -382,
    "start_time": "2021-12-21T20:22:12.774Z"
   },
   {
    "duration": -382,
    "start_time": "2021-12-21T20:22:12.776Z"
   },
   {
    "duration": -386,
    "start_time": "2021-12-21T20:22:12.783Z"
   },
   {
    "duration": -407,
    "start_time": "2021-12-21T20:22:12.806Z"
   },
   {
    "duration": -406,
    "start_time": "2021-12-21T20:22:12.807Z"
   },
   {
    "duration": -406,
    "start_time": "2021-12-21T20:22:12.809Z"
   },
   {
    "duration": -404,
    "start_time": "2021-12-21T20:22:12.810Z"
   },
   {
    "duration": -404,
    "start_time": "2021-12-21T20:22:12.812Z"
   },
   {
    "duration": 4,
    "start_time": "2021-12-21T20:22:21.029Z"
   },
   {
    "duration": 5,
    "start_time": "2021-12-21T20:22:30.908Z"
   },
   {
    "duration": 2892,
    "start_time": "2021-12-21T20:22:33.849Z"
   },
   {
    "duration": 5,
    "start_time": "2021-12-21T20:22:38.659Z"
   },
   {
    "duration": 503,
    "start_time": "2021-12-21T20:22:40.947Z"
   },
   {
    "duration": 4,
    "start_time": "2021-12-21T20:23:19.789Z"
   },
   {
    "duration": 5,
    "start_time": "2021-12-21T20:23:40.268Z"
   },
   {
    "duration": 5,
    "start_time": "2021-12-21T20:23:43.230Z"
   },
   {
    "duration": 29133,
    "start_time": "2021-12-21T20:23:46.699Z"
   },
   {
    "duration": 39339,
    "start_time": "2021-12-21T20:25:10.487Z"
   },
   {
    "duration": 60935,
    "start_time": "2021-12-21T20:26:01.808Z"
   },
   {
    "duration": 388,
    "start_time": "2021-12-22T17:21:57.004Z"
   },
   {
    "duration": 248,
    "start_time": "2021-12-22T17:22:48.584Z"
   },
   {
    "duration": 1142,
    "start_time": "2021-12-22T17:22:58.527Z"
   },
   {
    "duration": 47,
    "start_time": "2021-12-22T17:22:59.671Z"
   },
   {
    "duration": 6,
    "start_time": "2021-12-22T17:22:59.720Z"
   },
   {
    "duration": 13,
    "start_time": "2021-12-22T17:22:59.728Z"
   },
   {
    "duration": 4,
    "start_time": "2021-12-22T17:22:59.743Z"
   },
   {
    "duration": 14,
    "start_time": "2021-12-22T17:22:59.761Z"
   },
   {
    "duration": 739,
    "start_time": "2021-12-22T17:22:59.777Z"
   },
   {
    "duration": 8,
    "start_time": "2021-12-22T17:23:00.518Z"
   },
   {
    "duration": 397,
    "start_time": "2021-12-22T17:23:00.528Z"
   },
   {
    "duration": 254,
    "start_time": "2021-12-22T17:23:00.927Z"
   },
   {
    "duration": 438,
    "start_time": "2021-12-22T17:23:01.183Z"
   },
   {
    "duration": 10,
    "start_time": "2021-12-22T17:23:01.624Z"
   },
   {
    "duration": 342,
    "start_time": "2021-12-22T17:23:01.636Z"
   },
   {
    "duration": 433,
    "start_time": "2021-12-22T17:23:01.980Z"
   },
   {
    "duration": 5,
    "start_time": "2021-12-22T17:23:02.415Z"
   },
   {
    "duration": 108,
    "start_time": "2021-12-22T17:23:02.422Z"
   },
   {
    "duration": 6,
    "start_time": "2021-12-22T17:23:02.531Z"
   },
   {
    "duration": 14,
    "start_time": "2021-12-22T17:23:02.538Z"
   },
   {
    "duration": 32,
    "start_time": "2021-12-22T17:23:02.553Z"
   },
   {
    "duration": 7039,
    "start_time": "2021-12-22T17:23:02.587Z"
   },
   {
    "duration": 358,
    "start_time": "2021-12-22T17:23:09.629Z"
   },
   {
    "duration": -208,
    "start_time": "2021-12-22T17:23:10.198Z"
   },
   {
    "duration": -209,
    "start_time": "2021-12-22T17:23:10.200Z"
   },
   {
    "duration": -209,
    "start_time": "2021-12-22T17:23:10.202Z"
   },
   {
    "duration": -209,
    "start_time": "2021-12-22T17:23:10.204Z"
   },
   {
    "duration": -209,
    "start_time": "2021-12-22T17:23:10.205Z"
   },
   {
    "duration": -209,
    "start_time": "2021-12-22T17:23:10.207Z"
   },
   {
    "duration": 4,
    "start_time": "2021-12-22T17:37:23.594Z"
   },
   {
    "duration": 1103,
    "start_time": "2021-12-22T17:37:58.353Z"
   },
   {
    "duration": 47,
    "start_time": "2021-12-22T17:37:59.458Z"
   },
   {
    "duration": 6,
    "start_time": "2021-12-22T17:37:59.507Z"
   },
   {
    "duration": 16,
    "start_time": "2021-12-22T17:37:59.515Z"
   },
   {
    "duration": 3,
    "start_time": "2021-12-22T17:37:59.533Z"
   },
   {
    "duration": 24,
    "start_time": "2021-12-22T17:37:59.538Z"
   },
   {
    "duration": 727,
    "start_time": "2021-12-22T17:37:59.563Z"
   },
   {
    "duration": 10,
    "start_time": "2021-12-22T17:38:00.291Z"
   },
   {
    "duration": 387,
    "start_time": "2021-12-22T17:38:00.303Z"
   },
   {
    "duration": 256,
    "start_time": "2021-12-22T17:38:00.692Z"
   },
   {
    "duration": 379,
    "start_time": "2021-12-22T17:38:00.950Z"
   },
   {
    "duration": 8,
    "start_time": "2021-12-22T17:38:01.331Z"
   },
   {
    "duration": 334,
    "start_time": "2021-12-22T17:38:01.341Z"
   },
   {
    "duration": 459,
    "start_time": "2021-12-22T17:38:01.676Z"
   },
   {
    "duration": 7,
    "start_time": "2021-12-22T17:38:02.137Z"
   },
   {
    "duration": 111,
    "start_time": "2021-12-22T17:38:02.145Z"
   },
   {
    "duration": 6,
    "start_time": "2021-12-22T17:38:02.258Z"
   },
   {
    "duration": 8,
    "start_time": "2021-12-22T17:38:02.265Z"
   },
   {
    "duration": 35,
    "start_time": "2021-12-22T17:38:02.274Z"
   },
   {
    "duration": 2703,
    "start_time": "2021-12-22T17:38:02.311Z"
   },
   {
    "duration": 369,
    "start_time": "2021-12-22T17:38:05.016Z"
   },
   {
    "duration": -319,
    "start_time": "2021-12-22T17:38:05.706Z"
   },
   {
    "duration": -320,
    "start_time": "2021-12-22T17:38:05.708Z"
   },
   {
    "duration": -374,
    "start_time": "2021-12-22T17:38:05.764Z"
   },
   {
    "duration": -382,
    "start_time": "2021-12-22T17:38:05.773Z"
   },
   {
    "duration": -382,
    "start_time": "2021-12-22T17:38:05.775Z"
   },
   {
    "duration": -383,
    "start_time": "2021-12-22T17:38:05.777Z"
   },
   {
    "duration": 12,
    "start_time": "2021-12-22T17:39:09.822Z"
   },
   {
    "duration": 253,
    "start_time": "2021-12-22T17:39:17.852Z"
   },
   {
    "duration": 275,
    "start_time": "2021-12-22T17:39:59.850Z"
   },
   {
    "duration": 255,
    "start_time": "2021-12-22T17:40:44.190Z"
   },
   {
    "duration": 264,
    "start_time": "2021-12-22T17:40:55.182Z"
   },
   {
    "duration": 261,
    "start_time": "2021-12-22T17:41:14.461Z"
   },
   {
    "duration": 416,
    "start_time": "2021-12-22T17:41:34.562Z"
   },
   {
    "duration": 15,
    "start_time": "2021-12-22T17:42:04.672Z"
   },
   {
    "duration": 623,
    "start_time": "2021-12-22T17:42:46.892Z"
   },
   {
    "duration": 4,
    "start_time": "2021-12-22T17:44:01.342Z"
   },
   {
    "duration": 914,
    "start_time": "2021-12-22T17:44:28.212Z"
   },
   {
    "duration": 4,
    "start_time": "2021-12-22T17:44:49.822Z"
   },
   {
    "duration": 457,
    "start_time": "2021-12-22T17:44:57.852Z"
   },
   {
    "duration": 296,
    "start_time": "2021-12-22T17:47:14.884Z"
   },
   {
    "duration": 248,
    "start_time": "2021-12-22T17:47:48.302Z"
   },
   {
    "duration": 501,
    "start_time": "2021-12-22T17:48:46.373Z"
   },
   {
    "duration": 498,
    "start_time": "2021-12-22T17:49:10.082Z"
   },
   {
    "duration": 554,
    "start_time": "2021-12-22T17:49:36.473Z"
   },
   {
    "duration": 364,
    "start_time": "2021-12-22T17:49:56.523Z"
   },
   {
    "duration": 540,
    "start_time": "2021-12-22T17:51:12.362Z"
   },
   {
    "duration": 608,
    "start_time": "2021-12-22T17:51:32.352Z"
   },
   {
    "duration": 377,
    "start_time": "2021-12-22T17:51:41.891Z"
   },
   {
    "duration": 521,
    "start_time": "2021-12-22T17:51:52.112Z"
   },
   {
    "duration": 4,
    "start_time": "2021-12-22T17:52:23.842Z"
   },
   {
    "duration": 373,
    "start_time": "2021-12-22T17:52:37.395Z"
   },
   {
    "duration": 393,
    "start_time": "2021-12-22T17:53:01.867Z"
   },
   {
    "duration": 176,
    "start_time": "2021-12-22T17:54:10.435Z"
   },
   {
    "duration": 103,
    "start_time": "2021-12-22T17:55:01.845Z"
   },
   {
    "duration": 235,
    "start_time": "2021-12-22T17:55:09.673Z"
   },
   {
    "duration": 6252,
    "start_time": "2021-12-22T17:55:22.626Z"
   },
   {
    "duration": 6338,
    "start_time": "2021-12-22T17:57:06.605Z"
   },
   {
    "duration": 5,
    "start_time": "2021-12-22T17:57:18.413Z"
   },
   {
    "duration": 244,
    "start_time": "2021-12-22T18:00:26.166Z"
   },
   {
    "duration": 258,
    "start_time": "2021-12-22T18:00:37.986Z"
   },
   {
    "duration": 9,
    "start_time": "2021-12-22T18:00:45.136Z"
   },
   {
    "duration": 7,
    "start_time": "2021-12-22T18:01:27.925Z"
   },
   {
    "duration": 6,
    "start_time": "2021-12-22T18:01:37.057Z"
   },
   {
    "duration": 270,
    "start_time": "2021-12-22T18:02:16.518Z"
   },
   {
    "duration": 7,
    "start_time": "2021-12-22T18:02:20.277Z"
   },
   {
    "duration": 288,
    "start_time": "2021-12-22T18:02:34.857Z"
   },
   {
    "duration": 6,
    "start_time": "2021-12-22T18:02:43.605Z"
   },
   {
    "duration": 7,
    "start_time": "2021-12-22T18:03:00.503Z"
   },
   {
    "duration": 273,
    "start_time": "2021-12-22T18:03:07.321Z"
   },
   {
    "duration": 8,
    "start_time": "2021-12-22T18:03:11.583Z"
   },
   {
    "duration": 6,
    "start_time": "2021-12-22T18:03:25.977Z"
   },
   {
    "duration": 8,
    "start_time": "2021-12-22T18:04:24.139Z"
   },
   {
    "duration": 264,
    "start_time": "2021-12-22T18:04:34.864Z"
   },
   {
    "duration": 6,
    "start_time": "2021-12-22T18:04:50.444Z"
   },
   {
    "duration": 7,
    "start_time": "2021-12-22T18:05:10.628Z"
   },
   {
    "duration": 77,
    "start_time": "2021-12-22T18:06:53.088Z"
   },
   {
    "duration": 84,
    "start_time": "2021-12-22T18:07:05.332Z"
   },
   {
    "duration": 259,
    "start_time": "2021-12-22T18:07:15.863Z"
   },
   {
    "duration": 7,
    "start_time": "2021-12-22T18:08:39.515Z"
   },
   {
    "duration": 12,
    "start_time": "2021-12-22T18:08:45.559Z"
   },
   {
    "duration": 7,
    "start_time": "2021-12-22T18:08:53.181Z"
   },
   {
    "duration": 13,
    "start_time": "2021-12-22T18:08:59.796Z"
   },
   {
    "duration": 7,
    "start_time": "2021-12-22T18:09:01.538Z"
   },
   {
    "duration": 254,
    "start_time": "2021-12-22T18:09:02.800Z"
   },
   {
    "duration": 88,
    "start_time": "2021-12-22T18:09:12.056Z"
   },
   {
    "duration": 7,
    "start_time": "2021-12-22T18:09:12.435Z"
   },
   {
    "duration": 12,
    "start_time": "2021-12-22T18:09:12.783Z"
   },
   {
    "duration": 12,
    "start_time": "2021-12-22T18:09:31.367Z"
   },
   {
    "duration": 13,
    "start_time": "2021-12-22T18:09:32.492Z"
   },
   {
    "duration": 197,
    "start_time": "2021-12-22T18:09:36.310Z"
   },
   {
    "duration": 6,
    "start_time": "2021-12-22T18:09:40.005Z"
   },
   {
    "duration": 4,
    "start_time": "2021-12-22T18:09:41.495Z"
   },
   {
    "duration": 7,
    "start_time": "2021-12-22T18:09:43.660Z"
   },
   {
    "duration": 362,
    "start_time": "2021-12-22T18:09:45.320Z"
   },
   {
    "duration": 1689,
    "start_time": "2021-12-22T18:10:27.173Z"
   },
   {
    "duration": 7,
    "start_time": "2021-12-22T18:10:44.118Z"
   },
   {
    "duration": 86,
    "start_time": "2021-12-22T18:25:24.530Z"
   },
   {
    "duration": 287,
    "start_time": "2021-12-22T18:25:31.850Z"
   },
   {
    "duration": 244,
    "start_time": "2021-12-22T18:25:43.008Z"
   },
   {
    "duration": 242,
    "start_time": "2021-12-22T18:29:04.381Z"
   },
   {
    "duration": 246,
    "start_time": "2021-12-22T18:29:09.611Z"
   },
   {
    "duration": 469,
    "start_time": "2021-12-22T18:29:23.131Z"
   },
   {
    "duration": 7,
    "start_time": "2021-12-22T18:31:06.491Z"
   },
   {
    "duration": 6,
    "start_time": "2021-12-22T18:31:19.972Z"
   },
   {
    "duration": 7,
    "start_time": "2021-12-22T18:32:17.581Z"
   },
   {
    "duration": 6,
    "start_time": "2021-12-22T18:32:27.232Z"
   },
   {
    "duration": 10,
    "start_time": "2021-12-22T18:33:49.778Z"
   },
   {
    "duration": 260,
    "start_time": "2021-12-22T18:50:42.160Z"
   },
   {
    "duration": 395,
    "start_time": "2021-12-22T18:50:49.152Z"
   },
   {
    "duration": 503,
    "start_time": "2021-12-22T18:51:04.673Z"
   },
   {
    "duration": 378,
    "start_time": "2021-12-22T18:51:37.582Z"
   },
   {
    "duration": 39,
    "start_time": "2021-12-22T18:51:52.091Z"
   },
   {
    "duration": 6,
    "start_time": "2021-12-22T18:51:52.382Z"
   },
   {
    "duration": 12,
    "start_time": "2021-12-22T18:51:52.512Z"
   },
   {
    "duration": 12,
    "start_time": "2021-12-22T18:51:52.794Z"
   },
   {
    "duration": 193,
    "start_time": "2021-12-22T18:51:53.092Z"
   },
   {
    "duration": 5,
    "start_time": "2021-12-22T18:51:53.287Z"
   },
   {
    "duration": 5,
    "start_time": "2021-12-22T18:51:53.331Z"
   },
   {
    "duration": 8,
    "start_time": "2021-12-22T18:51:53.982Z"
   },
   {
    "duration": 1903,
    "start_time": "2021-12-22T18:51:54.259Z"
   },
   {
    "duration": 99,
    "start_time": "2021-12-22T18:51:56.165Z"
   },
   {
    "duration": 359,
    "start_time": "2021-12-22T18:51:56.266Z"
   },
   {
    "duration": 353,
    "start_time": "2021-12-22T18:52:05.160Z"
   },
   {
    "duration": 282,
    "start_time": "2021-12-22T18:52:46.752Z"
   },
   {
    "duration": 323,
    "start_time": "2021-12-22T18:53:13.212Z"
   },
   {
    "duration": 339,
    "start_time": "2021-12-22T18:53:27.362Z"
   },
   {
    "duration": 429,
    "start_time": "2021-12-22T18:53:35.766Z"
   },
   {
    "duration": 252,
    "start_time": "2021-12-22T18:54:46.933Z"
   },
   {
    "duration": 236,
    "start_time": "2021-12-22T18:55:49.503Z"
   },
   {
    "duration": 364,
    "start_time": "2021-12-22T18:56:02.123Z"
   },
   {
    "duration": 240,
    "start_time": "2021-12-22T18:56:12.002Z"
   },
   {
    "duration": 262,
    "start_time": "2021-12-22T18:56:23.431Z"
   },
   {
    "duration": 2392,
    "start_time": "2021-12-22T18:57:10.068Z"
   },
   {
    "duration": 46,
    "start_time": "2021-12-22T18:57:12.462Z"
   },
   {
    "duration": 7,
    "start_time": "2021-12-22T18:57:12.511Z"
   },
   {
    "duration": 12,
    "start_time": "2021-12-22T18:57:12.521Z"
   },
   {
    "duration": 32,
    "start_time": "2021-12-22T18:57:12.535Z"
   },
   {
    "duration": 206,
    "start_time": "2021-12-22T18:57:12.569Z"
   },
   {
    "duration": 9,
    "start_time": "2021-12-22T18:57:12.777Z"
   },
   {
    "duration": 4,
    "start_time": "2021-12-22T18:57:12.789Z"
   },
   {
    "duration": 17,
    "start_time": "2021-12-22T18:57:12.795Z"
   },
   {
    "duration": 2056,
    "start_time": "2021-12-22T18:57:12.813Z"
   },
   {
    "duration": 190,
    "start_time": "2021-12-22T18:57:14.871Z"
   },
   {
    "duration": 373,
    "start_time": "2021-12-22T18:57:15.063Z"
   },
   {
    "duration": 313,
    "start_time": "2021-12-22T18:57:15.438Z"
   },
   {
    "duration": 639,
    "start_time": "2021-12-22T18:57:15.753Z"
   },
   {
    "duration": -83,
    "start_time": "2021-12-22T18:57:16.477Z"
   },
   {
    "duration": -84,
    "start_time": "2021-12-22T18:57:16.479Z"
   },
   {
    "duration": -106,
    "start_time": "2021-12-22T18:57:16.502Z"
   },
   {
    "duration": -107,
    "start_time": "2021-12-22T18:57:16.504Z"
   },
   {
    "duration": -109,
    "start_time": "2021-12-22T18:57:16.507Z"
   },
   {
    "duration": -110,
    "start_time": "2021-12-22T18:57:16.509Z"
   },
   {
    "duration": -112,
    "start_time": "2021-12-22T18:57:16.511Z"
   },
   {
    "duration": -112,
    "start_time": "2021-12-22T18:57:16.512Z"
   },
   {
    "duration": -114,
    "start_time": "2021-12-22T18:57:16.515Z"
   },
   {
    "duration": -114,
    "start_time": "2021-12-22T18:57:16.516Z"
   },
   {
    "duration": -116,
    "start_time": "2021-12-22T18:57:16.519Z"
   },
   {
    "duration": -117,
    "start_time": "2021-12-22T18:57:16.521Z"
   },
   {
    "duration": -118,
    "start_time": "2021-12-22T18:57:16.523Z"
   },
   {
    "duration": -118,
    "start_time": "2021-12-22T18:57:16.524Z"
   },
   {
    "duration": -120,
    "start_time": "2021-12-22T18:57:16.527Z"
   },
   {
    "duration": -128,
    "start_time": "2021-12-22T18:57:16.536Z"
   },
   {
    "duration": -130,
    "start_time": "2021-12-22T18:57:16.538Z"
   },
   {
    "duration": -136,
    "start_time": "2021-12-22T18:57:16.545Z"
   },
   {
    "duration": -137,
    "start_time": "2021-12-22T18:57:16.547Z"
   },
   {
    "duration": -138,
    "start_time": "2021-12-22T18:57:16.549Z"
   },
   {
    "duration": -139,
    "start_time": "2021-12-22T18:57:16.551Z"
   },
   {
    "duration": 354,
    "start_time": "2021-12-22T18:57:29.629Z"
   },
   {
    "duration": 10,
    "start_time": "2021-12-22T18:57:36.913Z"
   },
   {
    "duration": 308,
    "start_time": "2021-12-22T18:57:37.009Z"
   },
   {
    "duration": 261,
    "start_time": "2021-12-22T18:57:37.319Z"
   },
   {
    "duration": 357,
    "start_time": "2021-12-22T18:57:37.582Z"
   },
   {
    "duration": 9,
    "start_time": "2021-12-22T18:57:37.958Z"
   },
   {
    "duration": 401,
    "start_time": "2021-12-22T18:57:38.886Z"
   },
   {
    "duration": 398,
    "start_time": "2021-12-22T18:57:39.628Z"
   },
   {
    "duration": 250,
    "start_time": "2021-12-22T18:57:40.289Z"
   },
   {
    "duration": 253,
    "start_time": "2021-12-22T18:58:18.318Z"
   },
   {
    "duration": 266,
    "start_time": "2021-12-22T18:59:51.178Z"
   },
   {
    "duration": 223,
    "start_time": "2021-12-22T19:00:33.138Z"
   },
   {
    "duration": 4,
    "start_time": "2021-12-22T19:05:20.128Z"
   },
   {
    "duration": 577,
    "start_time": "2021-12-22T19:05:56.916Z"
   },
   {
    "duration": 614,
    "start_time": "2021-12-22T19:06:38.529Z"
   },
   {
    "duration": 631,
    "start_time": "2021-12-22T19:06:43.945Z"
   },
   {
    "duration": 6,
    "start_time": "2021-12-22T19:08:07.009Z"
   },
   {
    "duration": 250,
    "start_time": "2021-12-22T19:09:33.808Z"
   },
   {
    "duration": 4569,
    "start_time": "2021-12-22T19:10:07.087Z"
   },
   {
    "duration": 147,
    "start_time": "2021-12-22T19:10:11.658Z"
   },
   {
    "duration": 251,
    "start_time": "2021-12-22T19:10:57.119Z"
   },
   {
    "duration": 15,
    "start_time": "2021-12-22T19:11:05.898Z"
   },
   {
    "duration": 75,
    "start_time": "2021-12-22T19:13:53.699Z"
   },
   {
    "duration": 256,
    "start_time": "2021-12-22T19:14:01.219Z"
   },
   {
    "duration": 324,
    "start_time": "2021-12-22T19:14:09.993Z"
   },
   {
    "duration": 3,
    "start_time": "2021-12-22T19:14:41.858Z"
   },
   {
    "duration": 5,
    "start_time": "2021-12-22T19:14:50.070Z"
   },
   {
    "duration": 273,
    "start_time": "2021-12-22T19:14:56.831Z"
   },
   {
    "duration": 873,
    "start_time": "2021-12-22T19:15:51.888Z"
   },
   {
    "duration": 256,
    "start_time": "2021-12-22T19:17:15.338Z"
   },
   {
    "duration": 13,
    "start_time": "2021-12-22T19:17:35.387Z"
   },
   {
    "duration": 229,
    "start_time": "2021-12-22T19:18:11.518Z"
   },
   {
    "duration": 235,
    "start_time": "2021-12-22T19:18:19.331Z"
   },
   {
    "duration": 237,
    "start_time": "2021-12-22T19:18:48.389Z"
   },
   {
    "duration": 4071,
    "start_time": "2021-12-22T19:19:17.690Z"
   },
   {
    "duration": 10,
    "start_time": "2021-12-22T19:19:22.609Z"
   },
   {
    "duration": 6,
    "start_time": "2021-12-22T19:19:29.161Z"
   },
   {
    "duration": 11,
    "start_time": "2021-12-22T19:20:08.088Z"
   },
   {
    "duration": 12,
    "start_time": "2021-12-22T19:20:12.243Z"
   },
   {
    "duration": 5,
    "start_time": "2021-12-22T19:20:39.672Z"
   },
   {
    "duration": 5,
    "start_time": "2021-12-22T19:20:45.265Z"
   },
   {
    "duration": 474,
    "start_time": "2021-12-22T19:21:21.920Z"
   },
   {
    "duration": 432,
    "start_time": "2021-12-22T19:22:25.125Z"
   },
   {
    "duration": 338,
    "start_time": "2021-12-22T19:22:35.769Z"
   },
   {
    "duration": 364,
    "start_time": "2021-12-22T19:22:50.910Z"
   },
   {
    "duration": 490,
    "start_time": "2021-12-22T19:23:30.205Z"
   },
   {
    "duration": 101,
    "start_time": "2021-12-22T19:45:25.489Z"
   },
   {
    "duration": 109,
    "start_time": "2021-12-22T19:45:44.018Z"
   },
   {
    "duration": 43,
    "start_time": "2021-12-22T19:45:56.679Z"
   },
   {
    "duration": 7,
    "start_time": "2021-12-22T19:45:57.618Z"
   },
   {
    "duration": 14,
    "start_time": "2021-12-22T19:45:59.008Z"
   },
   {
    "duration": 14,
    "start_time": "2021-12-22T19:46:06.798Z"
   },
   {
    "duration": 187,
    "start_time": "2021-12-22T19:46:08.688Z"
   },
   {
    "duration": 5,
    "start_time": "2021-12-22T19:46:12.138Z"
   },
   {
    "duration": 4,
    "start_time": "2021-12-22T19:46:13.438Z"
   },
   {
    "duration": 8,
    "start_time": "2021-12-22T19:46:16.698Z"
   },
   {
    "duration": 1876,
    "start_time": "2021-12-22T19:46:20.288Z"
   },
   {
    "duration": 9,
    "start_time": "2021-12-22T19:46:25.555Z"
   },
   {
    "duration": 361,
    "start_time": "2021-12-22T19:46:41.418Z"
   },
   {
    "duration": 308,
    "start_time": "2021-12-22T19:46:44.388Z"
   },
   {
    "duration": 482,
    "start_time": "2021-12-22T19:46:48.513Z"
   },
   {
    "duration": 7,
    "start_time": "2021-12-22T19:46:51.238Z"
   },
   {
    "duration": 40,
    "start_time": "2021-12-22T19:47:20.615Z"
   },
   {
    "duration": 6,
    "start_time": "2021-12-22T19:47:20.938Z"
   },
   {
    "duration": 12,
    "start_time": "2021-12-22T19:47:21.318Z"
   },
   {
    "duration": 14,
    "start_time": "2021-12-22T19:47:21.728Z"
   },
   {
    "duration": 176,
    "start_time": "2021-12-22T19:47:23.068Z"
   },
   {
    "duration": 5,
    "start_time": "2021-12-22T19:47:24.758Z"
   },
   {
    "duration": 4,
    "start_time": "2021-12-22T19:47:25.598Z"
   },
   {
    "duration": 7,
    "start_time": "2021-12-22T19:47:27.258Z"
   },
   {
    "duration": 1731,
    "start_time": "2021-12-22T19:47:29.238Z"
   },
   {
    "duration": 9,
    "start_time": "2021-12-22T19:47:33.388Z"
   },
   {
    "duration": 342,
    "start_time": "2021-12-22T19:47:35.059Z"
   },
   {
    "duration": 310,
    "start_time": "2021-12-22T19:47:36.338Z"
   },
   {
    "duration": 345,
    "start_time": "2021-12-22T19:47:37.028Z"
   },
   {
    "duration": 8,
    "start_time": "2021-12-22T19:47:38.978Z"
   },
   {
    "duration": 3,
    "start_time": "2021-12-22T19:47:50.008Z"
   },
   {
    "duration": 4,
    "start_time": "2021-12-22T19:47:58.268Z"
   },
   {
    "duration": 40,
    "start_time": "2021-12-22T19:47:59.588Z"
   },
   {
    "duration": 6,
    "start_time": "2021-12-22T19:47:59.918Z"
   },
   {
    "duration": 12,
    "start_time": "2021-12-22T19:48:00.049Z"
   },
   {
    "duration": 13,
    "start_time": "2021-12-22T19:48:00.378Z"
   },
   {
    "duration": 178,
    "start_time": "2021-12-22T19:48:00.688Z"
   },
   {
    "duration": 5,
    "start_time": "2021-12-22T19:48:00.888Z"
   },
   {
    "duration": 4,
    "start_time": "2021-12-22T19:48:01.046Z"
   },
   {
    "duration": 8,
    "start_time": "2021-12-22T19:48:01.346Z"
   },
   {
    "duration": 2911,
    "start_time": "2021-12-22T19:48:03.058Z"
   },
   {
    "duration": 95,
    "start_time": "2021-12-22T19:48:05.972Z"
   },
   {
    "duration": 484,
    "start_time": "2021-12-22T19:48:06.070Z"
   },
   {
    "duration": 343,
    "start_time": "2021-12-22T19:48:06.556Z"
   },
   {
    "duration": 388,
    "start_time": "2021-12-22T19:48:06.901Z"
   },
   {
    "duration": 5,
    "start_time": "2021-12-22T19:48:07.291Z"
   },
   {
    "duration": 391,
    "start_time": "2021-12-22T19:48:10.998Z"
   },
   {
    "duration": 241,
    "start_time": "2021-12-22T19:48:20.235Z"
   },
   {
    "duration": 330,
    "start_time": "2021-12-22T19:48:24.507Z"
   },
   {
    "duration": 9,
    "start_time": "2021-12-22T19:49:00.128Z"
   },
   {
    "duration": 472,
    "start_time": "2021-12-22T19:49:00.929Z"
   },
   {
    "duration": 399,
    "start_time": "2021-12-22T19:49:03.058Z"
   },
   {
    "duration": 399,
    "start_time": "2021-12-22T19:49:14.268Z"
   },
   {
    "duration": 10,
    "start_time": "2021-12-22T19:49:22.448Z"
   },
   {
    "duration": 563,
    "start_time": "2021-12-22T19:49:59.517Z"
   },
   {
    "duration": 7,
    "start_time": "2021-12-22T19:50:01.285Z"
   },
   {
    "duration": 4351,
    "start_time": "2021-12-22T19:50:07.758Z"
   },
   {
    "duration": 157,
    "start_time": "2021-12-22T19:50:12.111Z"
   },
   {
    "duration": 21,
    "start_time": "2021-12-22T19:50:13.217Z"
   },
   {
    "duration": 14,
    "start_time": "2021-12-22T19:50:17.508Z"
   },
   {
    "duration": 12,
    "start_time": "2021-12-22T19:50:20.506Z"
   },
   {
    "duration": 7,
    "start_time": "2021-12-22T19:50:22.008Z"
   },
   {
    "duration": 480,
    "start_time": "2021-12-22T19:50:24.838Z"
   },
   {
    "duration": 97,
    "start_time": "2021-12-22T19:50:38.038Z"
   },
   {
    "duration": 6,
    "start_time": "2021-12-22T19:50:42.278Z"
   },
   {
    "duration": 416,
    "start_time": "2021-12-22T19:51:16.968Z"
   },
   {
    "duration": 849,
    "start_time": "2021-12-22T19:52:05.749Z"
   },
   {
    "duration": 11,
    "start_time": "2021-12-22T19:52:50.509Z"
   },
   {
    "duration": 4,
    "start_time": "2021-12-22T19:54:14.605Z"
   },
   {
    "duration": 44,
    "start_time": "2021-12-22T19:54:18.528Z"
   },
   {
    "duration": 10991,
    "start_time": "2021-12-23T04:18:54.171Z"
   },
   {
    "duration": 15903,
    "start_time": "2021-12-23T04:19:05.166Z"
   },
   {
    "duration": 11711,
    "start_time": "2021-12-23T04:19:21.073Z"
   },
   {
    "duration": 55,
    "start_time": "2021-12-23T04:19:32.787Z"
   },
   {
    "duration": 197,
    "start_time": "2021-12-23T04:19:32.845Z"
   },
   {
    "duration": 251,
    "start_time": "2021-12-23T04:19:33.044Z"
   },
   {
    "duration": 215,
    "start_time": "2021-12-23T04:19:33.298Z"
   },
   {
    "duration": 486,
    "start_time": "2021-12-23T04:19:33.517Z"
   },
   {
    "duration": 16,
    "start_time": "2021-12-23T04:19:34.007Z"
   },
   {
    "duration": 229,
    "start_time": "2021-12-23T04:19:34.025Z"
   },
   {
    "duration": 256,
    "start_time": "2021-12-23T04:19:34.257Z"
   },
   {
    "duration": 2611,
    "start_time": "2021-12-23T04:19:34.516Z"
   },
   {
    "duration": 98,
    "start_time": "2021-12-23T04:19:37.130Z"
   },
   {
    "duration": 758,
    "start_time": "2021-12-23T04:19:37.231Z"
   },
   {
    "duration": 530,
    "start_time": "2021-12-23T04:19:37.992Z"
   },
   {
    "duration": 540,
    "start_time": "2021-12-23T04:19:38.525Z"
   },
   {
    "duration": 4,
    "start_time": "2021-12-23T04:19:39.067Z"
   },
   {
    "duration": 744,
    "start_time": "2021-12-23T04:19:39.073Z"
   },
   {
    "duration": 524,
    "start_time": "2021-12-23T04:19:39.823Z"
   },
   {
    "duration": 585,
    "start_time": "2021-12-23T04:19:40.350Z"
   },
   {
    "duration": 12,
    "start_time": "2021-12-23T04:19:40.938Z"
   },
   {
    "duration": 815,
    "start_time": "2021-12-23T04:19:40.952Z"
   },
   {
    "duration": 623,
    "start_time": "2021-12-23T04:19:41.770Z"
   },
   {
    "duration": 941,
    "start_time": "2021-12-23T04:19:42.396Z"
   },
   {
    "duration": 9,
    "start_time": "2021-12-23T04:19:43.340Z"
   },
   {
    "duration": 6387,
    "start_time": "2021-12-23T04:19:43.356Z"
   },
   {
    "duration": 181,
    "start_time": "2021-12-23T04:19:49.746Z"
   },
   {
    "duration": 1079,
    "start_time": "2021-12-23T04:19:49.930Z"
   },
   {
    "duration": 781,
    "start_time": "2021-12-23T04:19:51.012Z"
   },
   {
    "duration": 1014,
    "start_time": "2021-12-23T04:19:51.796Z"
   },
   {
    "duration": 1113,
    "start_time": "2021-12-23T04:19:52.813Z"
   },
   {
    "duration": 1778,
    "start_time": "2021-12-23T04:19:53.928Z"
   },
   {
    "duration": 464,
    "start_time": "2021-12-23T04:19:55.708Z"
   },
   {
    "duration": 650,
    "start_time": "2021-12-23T04:19:56.175Z"
   },
   {
    "duration": 711,
    "start_time": "2021-12-23T04:19:56.828Z"
   },
   {
    "duration": 1182,
    "start_time": "2021-12-23T04:19:57.542Z"
   },
   {
    "duration": 1967,
    "start_time": "2021-12-23T04:19:58.727Z"
   },
   {
    "duration": -273,
    "start_time": "2021-12-23T04:20:00.970Z"
   },
   {
    "duration": -273,
    "start_time": "2021-12-23T04:20:00.972Z"
   },
   {
    "duration": -291,
    "start_time": "2021-12-23T04:20:00.991Z"
   },
   {
    "duration": -301,
    "start_time": "2021-12-23T04:20:01.003Z"
   },
   {
    "duration": -301,
    "start_time": "2021-12-23T04:20:01.005Z"
   },
   {
    "duration": -301,
    "start_time": "2021-12-23T04:20:01.007Z"
   },
   {
    "duration": 313,
    "start_time": "2021-12-23T04:22:26.089Z"
   },
   {
    "duration": 284,
    "start_time": "2021-12-23T04:22:56.759Z"
   },
   {
    "duration": 284,
    "start_time": "2021-12-23T04:23:12.018Z"
   },
   {
    "duration": 320,
    "start_time": "2021-12-23T04:23:44.149Z"
   },
   {
    "duration": 284,
    "start_time": "2021-12-23T04:24:11.099Z"
   },
   {
    "duration": 6,
    "start_time": "2021-12-23T04:24:18.819Z"
   },
   {
    "duration": 295,
    "start_time": "2021-12-23T04:25:15.440Z"
   },
   {
    "duration": 280,
    "start_time": "2021-12-23T04:25:30.779Z"
   },
   {
    "duration": 314,
    "start_time": "2021-12-23T04:25:39.340Z"
   },
   {
    "duration": 5,
    "start_time": "2021-12-23T04:25:43.799Z"
   },
   {
    "duration": 2405,
    "start_time": "2021-12-23T04:25:46.918Z"
   },
   {
    "duration": 5,
    "start_time": "2021-12-23T04:25:51.729Z"
   },
   {
    "duration": 24208,
    "start_time": "2021-12-23T04:25:54.419Z"
   },
   {
    "duration": 25424,
    "start_time": "2021-12-23T04:26:59.907Z"
   },
   {
    "duration": 54890,
    "start_time": "2021-12-23T04:27:25.333Z"
   },
   {
    "duration": 64112,
    "start_time": "2021-12-23T04:29:31.820Z"
   },
   {
    "duration": 18205,
    "start_time": "2021-12-23T04:32:14.319Z"
   },
   {
    "duration": 44026,
    "start_time": "2021-12-23T04:33:04.899Z"
   },
   {
    "duration": 28950,
    "start_time": "2021-12-23T04:34:47.182Z"
   },
   {
    "duration": 52233,
    "start_time": "2021-12-23T04:36:14.490Z"
   },
   {
    "duration": 6361,
    "start_time": "2021-12-24T07:10:43.173Z"
   },
   {
    "duration": 10362,
    "start_time": "2021-12-24T07:10:49.536Z"
   },
   {
    "duration": 2455,
    "start_time": "2021-12-24T07:10:59.901Z"
   },
   {
    "duration": 59,
    "start_time": "2021-12-24T07:11:02.359Z"
   },
   {
    "duration": 8,
    "start_time": "2021-12-24T07:11:02.421Z"
   },
   {
    "duration": 37,
    "start_time": "2021-12-24T07:11:02.432Z"
   },
   {
    "duration": 38,
    "start_time": "2021-12-24T07:11:02.471Z"
   },
   {
    "duration": 427,
    "start_time": "2021-12-24T07:11:02.513Z"
   },
   {
    "duration": 8,
    "start_time": "2021-12-24T07:11:02.943Z"
   },
   {
    "duration": 18,
    "start_time": "2021-12-24T07:11:02.953Z"
   },
   {
    "duration": 16,
    "start_time": "2021-12-24T07:11:02.974Z"
   },
   {
    "duration": 2574,
    "start_time": "2021-12-24T07:11:02.993Z"
   },
   {
    "duration": 98,
    "start_time": "2021-12-24T07:11:05.571Z"
   },
   {
    "duration": 605,
    "start_time": "2021-12-24T07:11:05.672Z"
   },
   {
    "duration": 554,
    "start_time": "2021-12-24T07:11:06.280Z"
   },
   {
    "duration": 564,
    "start_time": "2021-12-24T07:11:06.837Z"
   },
   {
    "duration": 3,
    "start_time": "2021-12-24T07:11:07.403Z"
   },
   {
    "duration": 562,
    "start_time": "2021-12-24T07:11:07.408Z"
   },
   {
    "duration": 402,
    "start_time": "2021-12-24T07:11:07.972Z"
   },
   {
    "duration": 600,
    "start_time": "2021-12-24T07:11:08.376Z"
   },
   {
    "duration": 12,
    "start_time": "2021-12-24T07:11:08.979Z"
   },
   {
    "duration": 615,
    "start_time": "2021-12-24T07:11:08.993Z"
   },
   {
    "duration": 660,
    "start_time": "2021-12-24T07:11:09.613Z"
   },
   {
    "duration": 923,
    "start_time": "2021-12-24T07:11:10.276Z"
   },
   {
    "duration": 7,
    "start_time": "2021-12-24T07:11:11.201Z"
   },
   {
    "duration": 5564,
    "start_time": "2021-12-24T07:11:11.210Z"
   },
   {
    "duration": 196,
    "start_time": "2021-12-24T07:11:16.776Z"
   },
   {
    "duration": 110,
    "start_time": "2021-12-24T07:11:16.975Z"
   },
   {
    "duration": 80,
    "start_time": "2021-12-24T07:11:17.089Z"
   },
   {
    "duration": 20,
    "start_time": "2021-12-24T07:11:17.171Z"
   },
   {
    "duration": 8,
    "start_time": "2021-12-24T07:11:17.195Z"
   },
   {
    "duration": 884,
    "start_time": "2021-12-24T07:11:17.206Z"
   },
   {
    "duration": 175,
    "start_time": "2021-12-24T07:11:18.092Z"
   },
   {
    "duration": 7,
    "start_time": "2021-12-24T07:11:18.270Z"
   },
   {
    "duration": 10,
    "start_time": "2021-12-24T07:11:18.279Z"
   },
   {
    "duration": 86,
    "start_time": "2021-12-24T07:11:18.292Z"
   },
   {
    "duration": 90,
    "start_time": "2021-12-24T07:11:18.381Z"
   },
   {
    "duration": 2997,
    "start_time": "2021-12-24T07:11:18.474Z"
   },
   {
    "duration": 5,
    "start_time": "2021-12-24T07:11:21.474Z"
   },
   {
    "duration": 612,
    "start_time": "2021-12-24T07:11:21.481Z"
   },
   {
    "duration": 441,
    "start_time": "2021-12-24T07:11:22.096Z"
   },
   {
    "duration": 433,
    "start_time": "2021-12-24T07:11:22.539Z"
   },
   {
    "duration": 425,
    "start_time": "2021-12-24T07:11:22.974Z"
   },
   {
    "duration": 5,
    "start_time": "2021-12-24T07:13:12.814Z"
   },
   {
    "duration": 5526,
    "start_time": "2021-12-24T07:13:13.244Z"
   },
   {
    "duration": 6,
    "start_time": "2021-12-24T07:13:18.773Z"
   },
   {
    "duration": 488,
    "start_time": "2021-12-24T07:13:18.782Z"
   },
   {
    "duration": 512,
    "start_time": "2021-12-24T07:13:19.272Z"
   },
   {
    "duration": 453,
    "start_time": "2021-12-24T07:13:19.787Z"
   },
   {
    "duration": 885,
    "start_time": "2021-12-24T07:13:20.243Z"
   },
   {
    "duration": 1785,
    "start_time": "2021-12-24T07:13:43.932Z"
   },
   {
    "duration": 4,
    "start_time": "2021-12-24T07:14:07.132Z"
   },
   {
    "duration": 5,
    "start_time": "2021-12-24T07:14:07.695Z"
   },
   {
    "duration": 3663,
    "start_time": "2021-12-24T07:14:07.925Z"
   },
   {
    "duration": 77,
    "start_time": "2021-12-24T07:14:11.591Z"
   },
   {
    "duration": 29907,
    "start_time": "2021-12-24T07:14:11.671Z"
   },
   {
    "duration": 60096,
    "start_time": "2021-12-24T07:14:41.581Z"
   },
   {
    "duration": 62404,
    "start_time": "2021-12-24T07:15:41.679Z"
   },
   {
    "duration": 25019,
    "start_time": "2021-12-24T07:16:44.168Z"
   },
   {
    "duration": 5,
    "start_time": "2021-12-24T07:17:09.190Z"
   },
   {
    "duration": 7,
    "start_time": "2021-12-24T07:19:47.022Z"
   },
   {
    "duration": 5,
    "start_time": "2021-12-24T07:20:06.615Z"
   },
   {
    "duration": 5,
    "start_time": "2021-12-24T07:20:32.586Z"
   },
   {
    "duration": 4,
    "start_time": "2021-12-24T07:20:45.030Z"
   },
   {
    "duration": 6,
    "start_time": "2021-12-24T07:20:45.298Z"
   },
   {
    "duration": 6,
    "start_time": "2021-12-24T07:21:43.148Z"
   },
   {
    "duration": 4,
    "start_time": "2021-12-24T07:21:43.699Z"
   },
   {
    "duration": 4,
    "start_time": "2021-12-24T07:21:44.052Z"
   },
   {
    "duration": 5,
    "start_time": "2021-12-24T07:22:40.012Z"
   },
   {
    "duration": 296,
    "start_time": "2021-12-24T07:22:43.656Z"
   },
   {
    "duration": 5,
    "start_time": "2021-12-24T07:22:44.591Z"
   },
   {
    "duration": 5,
    "start_time": "2021-12-24T07:22:45.524Z"
   },
   {
    "duration": 6,
    "start_time": "2021-12-24T07:23:13.693Z"
   },
   {
    "duration": 4,
    "start_time": "2021-12-24T07:23:14.057Z"
   },
   {
    "duration": 6,
    "start_time": "2021-12-24T07:23:14.698Z"
   },
   {
    "duration": 6,
    "start_time": "2021-12-24T07:23:26.265Z"
   },
   {
    "duration": 4,
    "start_time": "2021-12-24T07:23:26.649Z"
   },
   {
    "duration": 3,
    "start_time": "2021-12-24T07:23:27.027Z"
   },
   {
    "duration": 6,
    "start_time": "2021-12-24T07:23:27.504Z"
   },
   {
    "duration": 3367,
    "start_time": "2021-12-24T07:35:48.146Z"
   },
   {
    "duration": 3896,
    "start_time": "2021-12-24T07:35:51.516Z"
   },
   {
    "duration": 1652,
    "start_time": "2021-12-24T07:35:55.415Z"
   },
   {
    "duration": 64,
    "start_time": "2021-12-24T07:35:57.070Z"
   },
   {
    "duration": 8,
    "start_time": "2021-12-24T07:35:57.137Z"
   },
   {
    "duration": 31,
    "start_time": "2021-12-24T07:35:57.147Z"
   },
   {
    "duration": 21,
    "start_time": "2021-12-24T07:35:57.181Z"
   },
   {
    "duration": 351,
    "start_time": "2021-12-24T07:35:57.205Z"
   },
   {
    "duration": 15,
    "start_time": "2021-12-24T07:35:57.559Z"
   },
   {
    "duration": 9,
    "start_time": "2021-12-24T07:35:57.577Z"
   },
   {
    "duration": 10,
    "start_time": "2021-12-24T07:35:57.588Z"
   },
   {
    "duration": 2168,
    "start_time": "2021-12-24T07:35:57.601Z"
   },
   {
    "duration": 97,
    "start_time": "2021-12-24T07:35:59.777Z"
   },
   {
    "duration": 647,
    "start_time": "2021-12-24T07:35:59.877Z"
   },
   {
    "duration": 568,
    "start_time": "2021-12-24T07:36:00.527Z"
   },
   {
    "duration": 559,
    "start_time": "2021-12-24T07:36:01.097Z"
   },
   {
    "duration": 9,
    "start_time": "2021-12-24T07:36:01.658Z"
   },
   {
    "duration": 566,
    "start_time": "2021-12-24T07:36:01.669Z"
   },
   {
    "duration": 414,
    "start_time": "2021-12-24T07:36:02.238Z"
   },
   {
    "duration": 712,
    "start_time": "2021-12-24T07:36:02.655Z"
   },
   {
    "duration": 14,
    "start_time": "2021-12-24T07:36:03.369Z"
   },
   {
    "duration": 644,
    "start_time": "2021-12-24T07:36:03.385Z"
   },
   {
    "duration": 675,
    "start_time": "2021-12-24T07:36:04.034Z"
   },
   {
    "duration": 968,
    "start_time": "2021-12-24T07:36:04.713Z"
   },
   {
    "duration": 9,
    "start_time": "2021-12-24T07:36:05.684Z"
   },
   {
    "duration": 4477,
    "start_time": "2021-12-24T07:36:05.697Z"
   },
   {
    "duration": 217,
    "start_time": "2021-12-24T07:36:10.177Z"
   },
   {
    "duration": 89,
    "start_time": "2021-12-24T07:36:10.396Z"
   },
   {
    "duration": 96,
    "start_time": "2021-12-24T07:36:10.487Z"
   },
   {
    "duration": 14,
    "start_time": "2021-12-24T07:36:10.586Z"
   },
   {
    "duration": 6,
    "start_time": "2021-12-24T07:36:10.602Z"
   },
   {
    "duration": 886,
    "start_time": "2021-12-24T07:36:10.610Z"
   },
   {
    "duration": 169,
    "start_time": "2021-12-24T07:36:11.498Z"
   },
   {
    "duration": 7,
    "start_time": "2021-12-24T07:36:11.670Z"
   },
   {
    "duration": 11,
    "start_time": "2021-12-24T07:36:11.679Z"
   },
   {
    "duration": 84,
    "start_time": "2021-12-24T07:36:11.693Z"
   },
   {
    "duration": 6,
    "start_time": "2021-12-24T07:36:11.870Z"
   },
   {
    "duration": 32,
    "start_time": "2021-12-24T07:36:11.878Z"
   },
   {
    "duration": 15,
    "start_time": "2021-12-24T07:36:11.912Z"
   },
   {
    "duration": 11,
    "start_time": "2021-12-24T07:36:11.929Z"
   },
   {
    "duration": 5,
    "start_time": "2021-12-24T07:36:11.943Z"
   },
   {
    "duration": 3299,
    "start_time": "2021-12-24T07:36:11.967Z"
   },
   {
    "duration": 7,
    "start_time": "2021-12-24T07:36:15.269Z"
   },
   {
    "duration": 27988,
    "start_time": "2021-12-24T07:36:15.278Z"
   },
   {
    "duration": 65002,
    "start_time": "2021-12-24T07:36:43.269Z"
   },
   {
    "duration": 66094,
    "start_time": "2021-12-24T07:37:48.274Z"
   },
   {
    "duration": 23206,
    "start_time": "2021-12-24T07:38:54.371Z"
   },
   {
    "duration": 88,
    "start_time": "2022-01-16T17:19:52.730Z"
   }
  ],
  "kernelspec": {
   "display_name": "Python 3",
   "language": "python",
   "name": "python3"
  },
  "language_info": {
   "codemirror_mode": {
    "name": "ipython",
    "version": 3
   },
   "file_extension": ".py",
   "mimetype": "text/x-python",
   "name": "python",
   "nbconvert_exporter": "python",
   "pygments_lexer": "ipython3",
   "version": "3.8.5"
  },
  "toc": {
   "base_numbering": 1,
   "nav_menu": {},
   "number_sections": true,
   "sideBar": true,
   "skip_h1_title": true,
   "title_cell": "Содержание",
   "title_sidebar": "Contents",
   "toc_cell": true,
   "toc_position": {},
   "toc_section_display": true,
   "toc_window_display": false
  }
 },
 "nbformat": 4,
 "nbformat_minor": 2
}
