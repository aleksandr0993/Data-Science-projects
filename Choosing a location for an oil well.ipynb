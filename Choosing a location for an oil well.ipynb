{
 "cells": [
  {
   "cell_type": "code",
   "execution_count": 1,
   "metadata": {},
   "outputs": [],
   "source": [
    "import pandas as pd\n",
    "import numpy as np\n",
    "import seaborn as sns\n",
    "import joblib\n",
    "from sklearn.model_selection import cross_val_score\n",
    "from sklearn.preprocessing import StandardScaler\n",
    "from sklearn.model_selection import train_test_split\n",
    "from sklearn.linear_model import LinearRegression\n",
    "from sklearn.ensemble import RandomForestRegressor\n",
    "from sklearn.metrics import mean_squared_error\n",
    "from sklearn.metrics import r2_score\n",
    "from sklearn.metrics import mean_absolute_error\n",
    "from scipy import stats as st\n",
    "pd.options.mode.chained_assignment=None"
   ]
  },
  {
   "cell_type": "markdown",
   "metadata": {},
   "source": [
    "# Выбор локации для скважины\n",
    "\n",
    "Допустим, вы работаете в добывающей компании «ГлавРосГосНефть». Нужно решить, где бурить новую скважину.\\\n",
    "Шаги для выбора локации обычно такие:\\\n",
    "В избранном регионе собирают характеристики для скважин: качество нефти и объём её запасов;\\\n",
    "Строят модель для предсказания объёма запасов в новых скважинах;\\\n",
    "Выбирают скважины с самыми высокими оценками значений;\\\n",
    "Определяют регион с максимальной суммарной прибылью отобранных скважин.\\\n",
    "Вам предоставлены пробы нефти в трёх регионах. Характеристики для каждой скважины в регионе уже известны. Постройте модель для определения региона, где добыча принесёт наибольшую прибыль. Проанализируйте возможную прибыль и риски техникой Bootstrap."
   ]
  },
  {
   "cell_type": "markdown",
   "metadata": {},
   "source": [
    "### Загрузим и подготовим данные."
   ]
  },
  {
   "cell_type": "code",
   "execution_count": 2,
   "metadata": {},
   "outputs": [
    {
     "data": {
      "text/html": [
       "<div>\n",
       "<style scoped>\n",
       "    .dataframe tbody tr th:only-of-type {\n",
       "        vertical-align: middle;\n",
       "    }\n",
       "\n",
       "    .dataframe tbody tr th {\n",
       "        vertical-align: top;\n",
       "    }\n",
       "\n",
       "    .dataframe thead th {\n",
       "        text-align: right;\n",
       "    }\n",
       "</style>\n",
       "<table border=\"1\" class=\"dataframe\">\n",
       "  <thead>\n",
       "    <tr style=\"text-align: right;\">\n",
       "      <th></th>\n",
       "      <th>id</th>\n",
       "      <th>f0</th>\n",
       "      <th>f1</th>\n",
       "      <th>f2</th>\n",
       "      <th>product</th>\n",
       "    </tr>\n",
       "  </thead>\n",
       "  <tbody>\n",
       "    <tr>\n",
       "      <td>0</td>\n",
       "      <td>txEyH</td>\n",
       "      <td>0.705745</td>\n",
       "      <td>-0.497823</td>\n",
       "      <td>1.221170</td>\n",
       "      <td>105.280062</td>\n",
       "    </tr>\n",
       "    <tr>\n",
       "      <td>1</td>\n",
       "      <td>2acmU</td>\n",
       "      <td>1.334711</td>\n",
       "      <td>-0.340164</td>\n",
       "      <td>4.365080</td>\n",
       "      <td>73.037750</td>\n",
       "    </tr>\n",
       "    <tr>\n",
       "      <td>2</td>\n",
       "      <td>409Wp</td>\n",
       "      <td>1.022732</td>\n",
       "      <td>0.151990</td>\n",
       "      <td>1.419926</td>\n",
       "      <td>85.265647</td>\n",
       "    </tr>\n",
       "    <tr>\n",
       "      <td>3</td>\n",
       "      <td>iJLyR</td>\n",
       "      <td>-0.032172</td>\n",
       "      <td>0.139033</td>\n",
       "      <td>2.978566</td>\n",
       "      <td>168.620776</td>\n",
       "    </tr>\n",
       "    <tr>\n",
       "      <td>4</td>\n",
       "      <td>Xdl7t</td>\n",
       "      <td>1.988431</td>\n",
       "      <td>0.155413</td>\n",
       "      <td>4.751769</td>\n",
       "      <td>154.036647</td>\n",
       "    </tr>\n",
       "  </tbody>\n",
       "</table>\n",
       "</div>"
      ],
      "text/plain": [
       "      id        f0        f1        f2     product\n",
       "0  txEyH  0.705745 -0.497823  1.221170  105.280062\n",
       "1  2acmU  1.334711 -0.340164  4.365080   73.037750\n",
       "2  409Wp  1.022732  0.151990  1.419926   85.265647\n",
       "3  iJLyR -0.032172  0.139033  2.978566  168.620776\n",
       "4  Xdl7t  1.988431  0.155413  4.751769  154.036647"
      ]
     },
     "execution_count": 2,
     "metadata": {},
     "output_type": "execute_result"
    }
   ],
   "source": [
    "df1 = pd.read_csv('/datasets/geo_data_0.csv')\n",
    "df1.head()"
   ]
  },
  {
   "cell_type": "code",
   "execution_count": 3,
   "metadata": {},
   "outputs": [
    {
     "data": {
      "text/plain": [
       "Tdehs    2\n",
       "bsk9y    2\n",
       "74z30    2\n",
       "HZww2    2\n",
       "A5aEY    2\n",
       "        ..\n",
       "mKosU    1\n",
       "7lUEF    1\n",
       "1DxK8    1\n",
       "66hEY    1\n",
       "Y6HKm    1\n",
       "Name: id, Length: 99990, dtype: int64"
      ]
     },
     "execution_count": 3,
     "metadata": {},
     "output_type": "execute_result"
    }
   ],
   "source": [
    "df1['id'].value_counts()"
   ]
  },
  {
   "cell_type": "code",
   "execution_count": 4,
   "metadata": {},
   "outputs": [
    {
     "data": {
      "text/html": [
       "<div>\n",
       "<style scoped>\n",
       "    .dataframe tbody tr th:only-of-type {\n",
       "        vertical-align: middle;\n",
       "    }\n",
       "\n",
       "    .dataframe tbody tr th {\n",
       "        vertical-align: top;\n",
       "    }\n",
       "\n",
       "    .dataframe thead th {\n",
       "        text-align: right;\n",
       "    }\n",
       "</style>\n",
       "<table border=\"1\" class=\"dataframe\">\n",
       "  <thead>\n",
       "    <tr style=\"text-align: right;\">\n",
       "      <th></th>\n",
       "      <th>id</th>\n",
       "      <th>f0</th>\n",
       "      <th>f1</th>\n",
       "      <th>f2</th>\n",
       "      <th>product</th>\n",
       "    </tr>\n",
       "  </thead>\n",
       "  <tbody>\n",
       "    <tr>\n",
       "      <td>89582</td>\n",
       "      <td>bsk9y</td>\n",
       "      <td>0.398908</td>\n",
       "      <td>-0.400253</td>\n",
       "      <td>10.122376</td>\n",
       "      <td>163.433078</td>\n",
       "    </tr>\n",
       "    <tr>\n",
       "      <td>97785</td>\n",
       "      <td>bsk9y</td>\n",
       "      <td>0.378429</td>\n",
       "      <td>0.005837</td>\n",
       "      <td>0.160827</td>\n",
       "      <td>160.637302</td>\n",
       "    </tr>\n",
       "  </tbody>\n",
       "</table>\n",
       "</div>"
      ],
      "text/plain": [
       "          id        f0        f1         f2     product\n",
       "89582  bsk9y  0.398908 -0.400253  10.122376  163.433078\n",
       "97785  bsk9y  0.378429  0.005837   0.160827  160.637302"
      ]
     },
     "execution_count": 4,
     "metadata": {},
     "output_type": "execute_result"
    }
   ],
   "source": [
    "df1[df1['id']=='bsk9y']"
   ]
  },
  {
   "cell_type": "code",
   "execution_count": 5,
   "metadata": {},
   "outputs": [],
   "source": [
    "df1.drop_duplicates(subset='id', inplace=True)"
   ]
  },
  {
   "cell_type": "code",
   "execution_count": 6,
   "metadata": {},
   "outputs": [
    {
     "name": "stdout",
     "output_type": "stream",
     "text": [
      "<class 'pandas.core.frame.DataFrame'>\n",
      "Int64Index: 99990 entries, 0 to 99999\n",
      "Data columns (total 5 columns):\n",
      "id         99990 non-null object\n",
      "f0         99990 non-null float64\n",
      "f1         99990 non-null float64\n",
      "f2         99990 non-null float64\n",
      "product    99990 non-null float64\n",
      "dtypes: float64(4), object(1)\n",
      "memory usage: 4.6+ MB\n"
     ]
    }
   ],
   "source": [
    "df1.info()"
   ]
  },
  {
   "cell_type": "code",
   "execution_count": 7,
   "metadata": {},
   "outputs": [
    {
     "data": {
      "text/html": [
       "<div>\n",
       "<style scoped>\n",
       "    .dataframe tbody tr th:only-of-type {\n",
       "        vertical-align: middle;\n",
       "    }\n",
       "\n",
       "    .dataframe tbody tr th {\n",
       "        vertical-align: top;\n",
       "    }\n",
       "\n",
       "    .dataframe thead th {\n",
       "        text-align: right;\n",
       "    }\n",
       "</style>\n",
       "<table border=\"1\" class=\"dataframe\">\n",
       "  <thead>\n",
       "    <tr style=\"text-align: right;\">\n",
       "      <th></th>\n",
       "      <th>f0</th>\n",
       "      <th>f1</th>\n",
       "      <th>f2</th>\n",
       "      <th>product</th>\n",
       "    </tr>\n",
       "  </thead>\n",
       "  <tbody>\n",
       "    <tr>\n",
       "      <td>count</td>\n",
       "      <td>99990.000000</td>\n",
       "      <td>99990.000000</td>\n",
       "      <td>99990.000000</td>\n",
       "      <td>99990.000000</td>\n",
       "    </tr>\n",
       "    <tr>\n",
       "      <td>mean</td>\n",
       "      <td>0.500454</td>\n",
       "      <td>0.250141</td>\n",
       "      <td>2.502629</td>\n",
       "      <td>92.499684</td>\n",
       "    </tr>\n",
       "    <tr>\n",
       "      <td>std</td>\n",
       "      <td>0.871844</td>\n",
       "      <td>0.504430</td>\n",
       "      <td>3.248149</td>\n",
       "      <td>44.288304</td>\n",
       "    </tr>\n",
       "    <tr>\n",
       "      <td>min</td>\n",
       "      <td>-1.408605</td>\n",
       "      <td>-0.848218</td>\n",
       "      <td>-12.088328</td>\n",
       "      <td>0.000000</td>\n",
       "    </tr>\n",
       "    <tr>\n",
       "      <td>25%</td>\n",
       "      <td>-0.072572</td>\n",
       "      <td>-0.200877</td>\n",
       "      <td>0.287784</td>\n",
       "      <td>56.497069</td>\n",
       "    </tr>\n",
       "    <tr>\n",
       "      <td>50%</td>\n",
       "      <td>0.502405</td>\n",
       "      <td>0.250252</td>\n",
       "      <td>2.515969</td>\n",
       "      <td>91.847928</td>\n",
       "    </tr>\n",
       "    <tr>\n",
       "      <td>75%</td>\n",
       "      <td>1.073626</td>\n",
       "      <td>0.700640</td>\n",
       "      <td>4.715035</td>\n",
       "      <td>128.563699</td>\n",
       "    </tr>\n",
       "    <tr>\n",
       "      <td>max</td>\n",
       "      <td>2.362331</td>\n",
       "      <td>1.343769</td>\n",
       "      <td>16.003790</td>\n",
       "      <td>185.364347</td>\n",
       "    </tr>\n",
       "  </tbody>\n",
       "</table>\n",
       "</div>"
      ],
      "text/plain": [
       "                 f0            f1            f2       product\n",
       "count  99990.000000  99990.000000  99990.000000  99990.000000\n",
       "mean       0.500454      0.250141      2.502629     92.499684\n",
       "std        0.871844      0.504430      3.248149     44.288304\n",
       "min       -1.408605     -0.848218    -12.088328      0.000000\n",
       "25%       -0.072572     -0.200877      0.287784     56.497069\n",
       "50%        0.502405      0.250252      2.515969     91.847928\n",
       "75%        1.073626      0.700640      4.715035    128.563699\n",
       "max        2.362331      1.343769     16.003790    185.364347"
      ]
     },
     "execution_count": 7,
     "metadata": {},
     "output_type": "execute_result"
    }
   ],
   "source": [
    "df1.describe()"
   ]
  },
  {
   "cell_type": "code",
   "execution_count": 8,
   "metadata": {},
   "outputs": [
    {
     "data": {
      "text/html": [
       "<div>\n",
       "<style scoped>\n",
       "    .dataframe tbody tr th:only-of-type {\n",
       "        vertical-align: middle;\n",
       "    }\n",
       "\n",
       "    .dataframe tbody tr th {\n",
       "        vertical-align: top;\n",
       "    }\n",
       "\n",
       "    .dataframe thead th {\n",
       "        text-align: right;\n",
       "    }\n",
       "</style>\n",
       "<table border=\"1\" class=\"dataframe\">\n",
       "  <thead>\n",
       "    <tr style=\"text-align: right;\">\n",
       "      <th></th>\n",
       "      <th>id</th>\n",
       "      <th>f0</th>\n",
       "      <th>f1</th>\n",
       "      <th>f2</th>\n",
       "      <th>product</th>\n",
       "    </tr>\n",
       "  </thead>\n",
       "  <tbody>\n",
       "    <tr>\n",
       "      <td>0</td>\n",
       "      <td>kBEdx</td>\n",
       "      <td>-15.001348</td>\n",
       "      <td>-8.276000</td>\n",
       "      <td>-0.005876</td>\n",
       "      <td>3.179103</td>\n",
       "    </tr>\n",
       "    <tr>\n",
       "      <td>1</td>\n",
       "      <td>62mP7</td>\n",
       "      <td>14.272088</td>\n",
       "      <td>-3.475083</td>\n",
       "      <td>0.999183</td>\n",
       "      <td>26.953261</td>\n",
       "    </tr>\n",
       "    <tr>\n",
       "      <td>2</td>\n",
       "      <td>vyE1P</td>\n",
       "      <td>6.263187</td>\n",
       "      <td>-5.948386</td>\n",
       "      <td>5.001160</td>\n",
       "      <td>134.766305</td>\n",
       "    </tr>\n",
       "    <tr>\n",
       "      <td>3</td>\n",
       "      <td>KcrkZ</td>\n",
       "      <td>-13.081196</td>\n",
       "      <td>-11.506057</td>\n",
       "      <td>4.999415</td>\n",
       "      <td>137.945408</td>\n",
       "    </tr>\n",
       "    <tr>\n",
       "      <td>4</td>\n",
       "      <td>AHL4O</td>\n",
       "      <td>12.702195</td>\n",
       "      <td>-8.147433</td>\n",
       "      <td>5.004363</td>\n",
       "      <td>134.766305</td>\n",
       "    </tr>\n",
       "  </tbody>\n",
       "</table>\n",
       "</div>"
      ],
      "text/plain": [
       "      id         f0         f1        f2     product\n",
       "0  kBEdx -15.001348  -8.276000 -0.005876    3.179103\n",
       "1  62mP7  14.272088  -3.475083  0.999183   26.953261\n",
       "2  vyE1P   6.263187  -5.948386  5.001160  134.766305\n",
       "3  KcrkZ -13.081196 -11.506057  4.999415  137.945408\n",
       "4  AHL4O  12.702195  -8.147433  5.004363  134.766305"
      ]
     },
     "execution_count": 8,
     "metadata": {},
     "output_type": "execute_result"
    }
   ],
   "source": [
    "df2 = pd.read_csv('/datasets/geo_data_1.csv')\n",
    "df2.head()"
   ]
  },
  {
   "cell_type": "code",
   "execution_count": 9,
   "metadata": {},
   "outputs": [],
   "source": [
    "df2.drop_duplicates(subset='id', inplace=True)"
   ]
  },
  {
   "cell_type": "code",
   "execution_count": 10,
   "metadata": {},
   "outputs": [
    {
     "name": "stdout",
     "output_type": "stream",
     "text": [
      "<class 'pandas.core.frame.DataFrame'>\n",
      "Int64Index: 99996 entries, 0 to 99999\n",
      "Data columns (total 5 columns):\n",
      "id         99996 non-null object\n",
      "f0         99996 non-null float64\n",
      "f1         99996 non-null float64\n",
      "f2         99996 non-null float64\n",
      "product    99996 non-null float64\n",
      "dtypes: float64(4), object(1)\n",
      "memory usage: 4.6+ MB\n"
     ]
    }
   ],
   "source": [
    "df2.info()"
   ]
  },
  {
   "cell_type": "code",
   "execution_count": 11,
   "metadata": {},
   "outputs": [
    {
     "data": {
      "text/html": [
       "<div>\n",
       "<style scoped>\n",
       "    .dataframe tbody tr th:only-of-type {\n",
       "        vertical-align: middle;\n",
       "    }\n",
       "\n",
       "    .dataframe tbody tr th {\n",
       "        vertical-align: top;\n",
       "    }\n",
       "\n",
       "    .dataframe thead th {\n",
       "        text-align: right;\n",
       "    }\n",
       "</style>\n",
       "<table border=\"1\" class=\"dataframe\">\n",
       "  <thead>\n",
       "    <tr style=\"text-align: right;\">\n",
       "      <th></th>\n",
       "      <th>f0</th>\n",
       "      <th>f1</th>\n",
       "      <th>f2</th>\n",
       "      <th>product</th>\n",
       "    </tr>\n",
       "  </thead>\n",
       "  <tbody>\n",
       "    <tr>\n",
       "      <td>count</td>\n",
       "      <td>99996.000000</td>\n",
       "      <td>99996.000000</td>\n",
       "      <td>99996.000000</td>\n",
       "      <td>99996.000000</td>\n",
       "    </tr>\n",
       "    <tr>\n",
       "      <td>mean</td>\n",
       "      <td>1.141209</td>\n",
       "      <td>-4.796608</td>\n",
       "      <td>2.494501</td>\n",
       "      <td>68.823916</td>\n",
       "    </tr>\n",
       "    <tr>\n",
       "      <td>std</td>\n",
       "      <td>8.965815</td>\n",
       "      <td>5.119906</td>\n",
       "      <td>1.703579</td>\n",
       "      <td>45.944663</td>\n",
       "    </tr>\n",
       "    <tr>\n",
       "      <td>min</td>\n",
       "      <td>-31.609576</td>\n",
       "      <td>-26.358598</td>\n",
       "      <td>-0.018144</td>\n",
       "      <td>0.000000</td>\n",
       "    </tr>\n",
       "    <tr>\n",
       "      <td>25%</td>\n",
       "      <td>-6.298551</td>\n",
       "      <td>-8.267985</td>\n",
       "      <td>1.000021</td>\n",
       "      <td>26.953261</td>\n",
       "    </tr>\n",
       "    <tr>\n",
       "      <td>50%</td>\n",
       "      <td>1.153055</td>\n",
       "      <td>-4.813172</td>\n",
       "      <td>2.011475</td>\n",
       "      <td>57.085625</td>\n",
       "    </tr>\n",
       "    <tr>\n",
       "      <td>75%</td>\n",
       "      <td>8.620964</td>\n",
       "      <td>-1.332816</td>\n",
       "      <td>3.999904</td>\n",
       "      <td>107.813044</td>\n",
       "    </tr>\n",
       "    <tr>\n",
       "      <td>max</td>\n",
       "      <td>29.421755</td>\n",
       "      <td>18.734063</td>\n",
       "      <td>5.019721</td>\n",
       "      <td>137.945408</td>\n",
       "    </tr>\n",
       "  </tbody>\n",
       "</table>\n",
       "</div>"
      ],
      "text/plain": [
       "                 f0            f1            f2       product\n",
       "count  99996.000000  99996.000000  99996.000000  99996.000000\n",
       "mean       1.141209     -4.796608      2.494501     68.823916\n",
       "std        8.965815      5.119906      1.703579     45.944663\n",
       "min      -31.609576    -26.358598     -0.018144      0.000000\n",
       "25%       -6.298551     -8.267985      1.000021     26.953261\n",
       "50%        1.153055     -4.813172      2.011475     57.085625\n",
       "75%        8.620964     -1.332816      3.999904    107.813044\n",
       "max       29.421755     18.734063      5.019721    137.945408"
      ]
     },
     "execution_count": 11,
     "metadata": {},
     "output_type": "execute_result"
    }
   ],
   "source": [
    "df2.describe()"
   ]
  },
  {
   "cell_type": "code",
   "execution_count": 12,
   "metadata": {},
   "outputs": [
    {
     "data": {
      "text/html": [
       "<div>\n",
       "<style scoped>\n",
       "    .dataframe tbody tr th:only-of-type {\n",
       "        vertical-align: middle;\n",
       "    }\n",
       "\n",
       "    .dataframe tbody tr th {\n",
       "        vertical-align: top;\n",
       "    }\n",
       "\n",
       "    .dataframe thead th {\n",
       "        text-align: right;\n",
       "    }\n",
       "</style>\n",
       "<table border=\"1\" class=\"dataframe\">\n",
       "  <thead>\n",
       "    <tr style=\"text-align: right;\">\n",
       "      <th></th>\n",
       "      <th>id</th>\n",
       "      <th>f0</th>\n",
       "      <th>f1</th>\n",
       "      <th>f2</th>\n",
       "      <th>product</th>\n",
       "    </tr>\n",
       "  </thead>\n",
       "  <tbody>\n",
       "    <tr>\n",
       "      <td>0</td>\n",
       "      <td>fwXo0</td>\n",
       "      <td>-1.146987</td>\n",
       "      <td>0.963328</td>\n",
       "      <td>-0.828965</td>\n",
       "      <td>27.758673</td>\n",
       "    </tr>\n",
       "    <tr>\n",
       "      <td>1</td>\n",
       "      <td>WJtFt</td>\n",
       "      <td>0.262778</td>\n",
       "      <td>0.269839</td>\n",
       "      <td>-2.530187</td>\n",
       "      <td>56.069697</td>\n",
       "    </tr>\n",
       "    <tr>\n",
       "      <td>2</td>\n",
       "      <td>ovLUW</td>\n",
       "      <td>0.194587</td>\n",
       "      <td>0.289035</td>\n",
       "      <td>-5.586433</td>\n",
       "      <td>62.871910</td>\n",
       "    </tr>\n",
       "    <tr>\n",
       "      <td>3</td>\n",
       "      <td>q6cA6</td>\n",
       "      <td>2.236060</td>\n",
       "      <td>-0.553760</td>\n",
       "      <td>0.930038</td>\n",
       "      <td>114.572842</td>\n",
       "    </tr>\n",
       "    <tr>\n",
       "      <td>4</td>\n",
       "      <td>WPMUX</td>\n",
       "      <td>-0.515993</td>\n",
       "      <td>1.716266</td>\n",
       "      <td>5.899011</td>\n",
       "      <td>149.600746</td>\n",
       "    </tr>\n",
       "  </tbody>\n",
       "</table>\n",
       "</div>"
      ],
      "text/plain": [
       "      id        f0        f1        f2     product\n",
       "0  fwXo0 -1.146987  0.963328 -0.828965   27.758673\n",
       "1  WJtFt  0.262778  0.269839 -2.530187   56.069697\n",
       "2  ovLUW  0.194587  0.289035 -5.586433   62.871910\n",
       "3  q6cA6  2.236060 -0.553760  0.930038  114.572842\n",
       "4  WPMUX -0.515993  1.716266  5.899011  149.600746"
      ]
     },
     "execution_count": 12,
     "metadata": {},
     "output_type": "execute_result"
    }
   ],
   "source": [
    "df3 = pd.read_csv('/datasets/geo_data_2.csv')\n",
    "df3.head()"
   ]
  },
  {
   "cell_type": "code",
   "execution_count": 13,
   "metadata": {},
   "outputs": [],
   "source": [
    "df3.drop_duplicates(subset='id', inplace=True)"
   ]
  },
  {
   "cell_type": "code",
   "execution_count": 14,
   "metadata": {},
   "outputs": [
    {
     "name": "stdout",
     "output_type": "stream",
     "text": [
      "<class 'pandas.core.frame.DataFrame'>\n",
      "Int64Index: 99996 entries, 0 to 99999\n",
      "Data columns (total 5 columns):\n",
      "id         99996 non-null object\n",
      "f0         99996 non-null float64\n",
      "f1         99996 non-null float64\n",
      "f2         99996 non-null float64\n",
      "product    99996 non-null float64\n",
      "dtypes: float64(4), object(1)\n",
      "memory usage: 4.6+ MB\n"
     ]
    }
   ],
   "source": [
    "df3.info()"
   ]
  },
  {
   "cell_type": "code",
   "execution_count": 15,
   "metadata": {},
   "outputs": [
    {
     "data": {
      "text/html": [
       "<div>\n",
       "<style scoped>\n",
       "    .dataframe tbody tr th:only-of-type {\n",
       "        vertical-align: middle;\n",
       "    }\n",
       "\n",
       "    .dataframe tbody tr th {\n",
       "        vertical-align: top;\n",
       "    }\n",
       "\n",
       "    .dataframe thead th {\n",
       "        text-align: right;\n",
       "    }\n",
       "</style>\n",
       "<table border=\"1\" class=\"dataframe\">\n",
       "  <thead>\n",
       "    <tr style=\"text-align: right;\">\n",
       "      <th></th>\n",
       "      <th>f0</th>\n",
       "      <th>f1</th>\n",
       "      <th>f2</th>\n",
       "      <th>product</th>\n",
       "    </tr>\n",
       "  </thead>\n",
       "  <tbody>\n",
       "    <tr>\n",
       "      <td>count</td>\n",
       "      <td>99996.000000</td>\n",
       "      <td>99996.000000</td>\n",
       "      <td>99996.000000</td>\n",
       "      <td>99996.000000</td>\n",
       "    </tr>\n",
       "    <tr>\n",
       "      <td>mean</td>\n",
       "      <td>0.002002</td>\n",
       "      <td>-0.002159</td>\n",
       "      <td>2.495084</td>\n",
       "      <td>94.998342</td>\n",
       "    </tr>\n",
       "    <tr>\n",
       "      <td>std</td>\n",
       "      <td>1.732052</td>\n",
       "      <td>1.730397</td>\n",
       "      <td>3.473482</td>\n",
       "      <td>44.749573</td>\n",
       "    </tr>\n",
       "    <tr>\n",
       "      <td>min</td>\n",
       "      <td>-8.760004</td>\n",
       "      <td>-7.084020</td>\n",
       "      <td>-11.970335</td>\n",
       "      <td>0.000000</td>\n",
       "    </tr>\n",
       "    <tr>\n",
       "      <td>25%</td>\n",
       "      <td>-1.162328</td>\n",
       "      <td>-1.174841</td>\n",
       "      <td>0.130269</td>\n",
       "      <td>59.450028</td>\n",
       "    </tr>\n",
       "    <tr>\n",
       "      <td>50%</td>\n",
       "      <td>0.009424</td>\n",
       "      <td>-0.009661</td>\n",
       "      <td>2.484236</td>\n",
       "      <td>94.925026</td>\n",
       "    </tr>\n",
       "    <tr>\n",
       "      <td>75%</td>\n",
       "      <td>1.158477</td>\n",
       "      <td>1.163523</td>\n",
       "      <td>4.858720</td>\n",
       "      <td>130.586815</td>\n",
       "    </tr>\n",
       "    <tr>\n",
       "      <td>max</td>\n",
       "      <td>7.238262</td>\n",
       "      <td>7.844801</td>\n",
       "      <td>16.739402</td>\n",
       "      <td>190.029838</td>\n",
       "    </tr>\n",
       "  </tbody>\n",
       "</table>\n",
       "</div>"
      ],
      "text/plain": [
       "                 f0            f1            f2       product\n",
       "count  99996.000000  99996.000000  99996.000000  99996.000000\n",
       "mean       0.002002     -0.002159      2.495084     94.998342\n",
       "std        1.732052      1.730397      3.473482     44.749573\n",
       "min       -8.760004     -7.084020    -11.970335      0.000000\n",
       "25%       -1.162328     -1.174841      0.130269     59.450028\n",
       "50%        0.009424     -0.009661      2.484236     94.925026\n",
       "75%        1.158477      1.163523      4.858720    130.586815\n",
       "max        7.238262      7.844801     16.739402    190.029838"
      ]
     },
     "execution_count": 15,
     "metadata": {},
     "output_type": "execute_result"
    }
   ],
   "source": [
    "df3.describe()"
   ]
  },
  {
   "cell_type": "code",
   "execution_count": 16,
   "metadata": {},
   "outputs": [
    {
     "data": {
      "text/plain": [
       "2qyKg    1\n",
       "GU0Ha    1\n",
       "PvZK9    1\n",
       "c6j8i    1\n",
       "v4ixN    1\n",
       "        ..\n",
       "81dCY    1\n",
       "AEc8n    1\n",
       "FPsCN    1\n",
       "KhQVx    1\n",
       "BSP5F    1\n",
       "Name: id, Length: 99996, dtype: int64"
      ]
     },
     "execution_count": 16,
     "metadata": {},
     "output_type": "execute_result"
    }
   ],
   "source": [
    "df3['id'].value_counts()"
   ]
  },
  {
   "cell_type": "code",
   "execution_count": 17,
   "metadata": {},
   "outputs": [
    {
     "data": {
      "text/plain": [
       "<seaborn.axisgrid.PairGrid at 0x7f12c1197a10>"
      ]
     },
     "execution_count": 17,
     "metadata": {},
     "output_type": "execute_result"
    },
    {
     "data": {
      "image/png": "[encoded data removed]",
      "text/plain": [
       "<Figure size 720x720 with 20 Axes>"
      ]
     },
     "metadata": {
      "needs_background": "light"
     },
     "output_type": "display_data"
    }
   ],
   "source": [
    "sns.pairplot(df1[['f0', 'f1', 'f2', 'product']])"
   ]
  },
  {
   "cell_type": "markdown",
   "metadata": {},
   "source": [
    "### Обучим и проверим модель для каждого региона:"
   ]
  },
  {
   "cell_type": "code",
   "execution_count": 18,
   "metadata": {},
   "outputs": [
    {
     "data": {
      "text/plain": [
       "3"
      ]
     },
     "execution_count": 18,
     "metadata": {},
     "output_type": "execute_result"
    }
   ],
   "source": [
    "data = [df1, df2, df3]\n",
    "len(data)"
   ]
  },
  {
   "cell_type": "code",
   "execution_count": 19,
   "metadata": {},
   "outputs": [
    {
     "name": "stdout",
     "output_type": "stream",
     "text": [
      "MAE на обучающей выборке для региона          1:  30.99364389232966\n",
      "MAE на валидационной выборке для региона      1:  31.141028675220266\n",
      "R2 на обучающей выборке для региона           1:  0.2767331982099508\n",
      "R2 на валидационной выборке для региона       1:  0.2723923460817068\n",
      ".......................................................................\n",
      "MAE на обучающей выборке для региона          2:  0.7167518849084017\n",
      "MAE на валидационной выборке для региона      2:  0.7193530096516089\n",
      "R2 на обучающей выборке для региона           2:  0.9996251255768347\n",
      "R2 на валидационной выборке для региона       2:  0.9996222988190184\n",
      ".......................................................................\n",
      "MAE на обучающей выборке для региона          3:  32.808270307667705\n",
      "MAE на валидационной выборке для региона      3:  32.83139014902301\n",
      "R2 на обучающей выборке для региона           3:  0.1998431743734127\n",
      "R2 на валидационной выборке для региона       3:  0.19556241810202346\n",
      ".......................................................................\n"
     ]
    }
   ],
   "source": [
    "features = [[],[],[]]\n",
    "target = [[],[],[]]\n",
    "features_train, features_valid, target_train, target_valid = [[],[],[]], [[],[],[]], [[],[],[]], [[],[],[]]\n",
    "model = [[],[],[]]\n",
    "predicted = [[],[],[]]\n",
    "pred_true = [[],[],[]]\n",
    "#Разобъем данные на обучающую и валидационную выборки в соотношении 75:25.\n",
    "features, target, features_train, features_valid, target_train, target_valid, model, predicted, pred_true, rmse, mean = [ [[],[],[]] for i in range(11) ]\n",
    "for i in range(len(data)):\n",
    "    features[i] = data[i].drop(['id', 'product'], axis=1)\n",
    "    target[i] = data[i]['product']\n",
    "    features_train[i], features_valid[i], target_train[i], target_valid[i] = train_test_split(\n",
    "    features[i], target[i], test_size=0.25, random_state=12345)\n",
    "    model[i] = LinearRegression()\n",
    "    #Обучим модель и сделаем предсказания на валидационной выборке.\n",
    "    model[i].fit(features_train[i], target_train[i])\n",
    "    #Сохраним предсказания и правильные ответы на валидационной выборке\n",
    "    predicted[i] = model[i].predict(features_valid[i])\n",
    "    pred_true[i] = pd.concat([pd.Series(predicted[i]),  pd.Series(target_valid[i])], axis=1, ignore_index=True, join='inner', names=['prediction', 'true_value'])\n",
    "    rmse[i] = (mean_squared_error(target_valid[i], predicted[i]))**0.5\n",
    "    mean[i] = predicted[i].mean()\n",
    "    #Напечатаем на экране метрики R2 и MAE по каждому региону:\n",
    "    print(\"MAE на обучающей выборке для региона {:>10}: \".format(i+1), mean_absolute_error(target_train[i], model[i].predict(features_train[i]))) \n",
    "    print(\"MAE на валидационной выборке для региона {:>6}: \".format(i+1), mean_absolute_error( target_valid[i], model[i].predict(features_valid[i])))\n",
    "    print(\"R2 на обучающей выборке для региона {:>11}: \".format(i+1), r2_score(target_train[i], model[i].predict(features_train[i]))) \n",
    "    print(\"R2 на валидационной выборке для региона {:>7}: \".format(i+1), r2_score(target_valid[i], model[i].predict(features_valid[i]))) \n",
    "    print('.......................................................................')\n",
    "    \n",
    "    \n",
    "\n",
    "\n",
    "\n",
    "\n",
    "\n",
    "\n",
    "\n"
   ]
  },
  {
   "cell_type": "code",
   "execution_count": 20,
   "metadata": {},
   "outputs": [
    {
     "name": "stdout",
     "output_type": "stream",
     "text": [
      "  Cредний запас предсказанного сырья для модели региона 1: 92.79, RMSE: 37.85\n",
      "  Cредний запас предсказанного сырья для модели региона 2: 69.18, RMSE: 0.89\n",
      "  Cредний запас предсказанного сырья для модели региона 3: 94.87, RMSE: 40.08\n"
     ]
    }
   ],
   "source": [
    "# Напечатаем на экране средний запас предсказанного сырья и RMSE модели\n",
    "for i in range(len(data)):\n",
    "    print(\"  Cредний запас предсказанного сырья для модели региона {}: {:.2f}, RMSE: {:.2f}\".format(i+1, mean[i], rmse[i]))"
   ]
  },
  {
   "cell_type": "code",
   "execution_count": 21,
   "metadata": {},
   "outputs": [],
   "source": [
    "#Случайная модель"
   ]
  },
  {
   "cell_type": "code",
   "execution_count": 22,
   "metadata": {},
   "outputs": [
    {
     "name": "stdout",
     "output_type": "stream",
     "text": [
      "MAE константной модели на валидационной выборке для региона      1:  37.852559011775185\n",
      "MAE константной модели на валидационной выборке для региона      2:  44.41380218672756\n",
      "MAE константной модели на валидационной выборке для региона      3:  37.757163088120144\n"
     ]
    }
   ],
   "source": [
    "med = target_train[i].median()\n",
    "for i in range(len(data)):\n",
    "    print(\"MAE константной модели на валидационной выборке для региона {:>6}: \".format(i+1), mean_absolute_error( target_valid[i], [med for j in target_valid[i]])) "
   ]
  },
  {
   "cell_type": "markdown",
   "metadata": {},
   "source": [
    "#### Проанализируем результаты: 1-я и 3-я модели имеют высокое значение ошибки предсказания, и одновременнно предсказывают большие, в сравнении с 2-ой моделью запасы нефти. 2-я модель имеет низкое значение ошибки предсказания."
   ]
  },
  {
   "cell_type": "markdown",
   "metadata": {},
   "source": [
    "### Подготовка к расчёту прибыли"
   ]
  },
  {
   "cell_type": "markdown",
   "metadata": {},
   "source": [
    "#### Cохранение ключевых значений в отдельных переменных."
   ]
  },
  {
   "cell_type": "code",
   "execution_count": 23,
   "metadata": {},
   "outputs": [],
   "source": [
    "UNIT_COST = 450 * 1e3 # цена за единицу нефти"
   ]
  },
  {
   "cell_type": "code",
   "execution_count": 24,
   "metadata": {},
   "outputs": [],
   "source": [
    "INCOME = 200 * UNIT_COST # прибыль от 200  скважин"
   ]
  },
  {
   "cell_type": "code",
   "execution_count": 25,
   "metadata": {},
   "outputs": [],
   "source": [
    "EXPENSE = 10 * 1e9 # расходы"
   ]
  },
  {
   "cell_type": "code",
   "execution_count": 26,
   "metadata": {},
   "outputs": [],
   "source": [
    "#прибыль\n",
    "PROFIT = INCOME - EXPENSE"
   ]
  },
  {
   "cell_type": "markdown",
   "metadata": {},
   "source": [
    "#### Рассчитаем достаточный объём сырья для безубыточной разработки новой скважины. Сравним полученный объём сырья со средним запасом в каждом регионе."
   ]
  },
  {
   "cell_type": "code",
   "execution_count": 27,
   "metadata": {},
   "outputs": [
    {
     "data": {
      "text/plain": [
       "111.11111111111111"
      ]
     },
     "execution_count": 27,
     "metadata": {},
     "output_type": "execute_result"
    }
   ],
   "source": [
    "ENOUGH_VOLUME = (EXPENSE/200) / UNIT_COST\n",
    "ENOUGH_VOLUME"
   ]
  },
  {
   "cell_type": "markdown",
   "metadata": {},
   "source": [
    "#### Выводы по этапу подготовки расчёта прибыли: расчитаны ключевые значения для  нахождения прибыли при выборе и разработке региона."
   ]
  },
  {
   "cell_type": "markdown",
   "metadata": {},
   "source": [
    "### Напишем функцию для расчёта прибыли по выбранным скважинам и предсказаниям модели:"
   ]
  },
  {
   "cell_type": "code",
   "execution_count": 28,
   "metadata": {},
   "outputs": [],
   "source": [
    "def profit(target, probabilities, count):\n",
    "    probs_sorted = probabilities.sort_values(ascending=False)\n",
    "    selected = target[probs_sorted.index][:count]\n",
    "    return (UNIT_COST * selected.sum() - EXPENSE)"
   ]
  },
  {
   "cell_type": "markdown",
   "metadata": {},
   "source": [
    "### Посчитаем риски и прибыль для каждого региона:"
   ]
  },
  {
   "cell_type": "markdown",
   "metadata": {},
   "source": [
    "#### Применим технику Bootstrap с 1000 выборок, чтобы найти распределение прибыли и риск убытков:"
   ]
  },
  {
   "cell_type": "code",
   "execution_count": 29,
   "metadata": {},
   "outputs": [
    {
     "name": "stdout",
     "output_type": "stream",
     "text": [
      "Риск убытков в регионе 1: 7.1 %\n",
      "Средняя прибыль в регионе  1: 409428038.6\n",
      "Нижний квантиль доверительного интервала в регионе 1: -131536028.7\n",
      "Верхний квантиль доверительного интервала в регионе 1: 944395582.8\n",
      "............................................................\n",
      "Риск убытков в регионе 2: 0.9 %\n",
      "Средняя прибыль в регионе  2: 536902587.5\n",
      "Нижний квантиль доверительного интервала в регионе 2: 114527902.9\n",
      "Верхний квантиль доверительного интервала в регионе 2: 970787911.0\n",
      "............................................................\n",
      "Риск убытков в регионе 3: 10.2 %\n",
      "Средняя прибыль в регионе  3: 353790362.7\n",
      "Нижний квантиль доверительного интервала в регионе 3: -159194031.2\n",
      "Верхний квантиль доверительного интервала в регионе 3: 875652502.9\n",
      "............................................................\n"
     ]
    }
   ],
   "source": [
    "probabilities, values = [ [[], [], []] for k in range(2)]\n",
    "for i in range(len(data)):\n",
    "    count=0\n",
    "    state = np.random.RandomState(12345)\n",
    "    target[i] = pd.Series(target_valid[i].reset_index(drop=True))\n",
    "    probabilities[i] = pd.Series(predicted[i])    \n",
    "    values[i] = []\n",
    "    for j in range(1000):\n",
    "        subsamples_t = target[i].sample(n=500, random_state=state, replace=True)\n",
    "        subsamples_pr = probabilities[i][subsamples_t.index]\n",
    "        val = profit(subsamples_t, subsamples_pr, 200)\n",
    "        values[i].append(val)\n",
    "        if val<0:\n",
    "            count+=1\n",
    "    risk = count/1000*100\n",
    "    # Найдем среднюю прибыль, 95%-й доверительный интервал\n",
    "    lower = pd.Series(values[i]).quantile(0.025)\n",
    "    upper = pd.Series(values[i]).quantile(0.975)\n",
    "    #risk= (pd.Series(values[i]) < 0).mean()\n",
    "    print('Риск убытков в регионе {}: {:.1f}'.format(i+1, risk), '%')\n",
    "    print('Средняя прибыль в регионе  {}: {:.1f}'.format(i+1, pd.Series(values[i]).mean(), '%'))\n",
    "    print('Нижний квантиль доверительного интервала в регионе {}: {:.1f}'.format(i+1, lower))\n",
    "    print('Верхний квантиль доверительного интервала в регионе {}: {:.1f}'.format(i+1, upper))\n",
    "    print('............................................................')"
   ]
  },
  {
   "cell_type": "markdown",
   "metadata": {},
   "source": [
    "#### Выводы:  предложите регион для разработки скважин и обоснуйте выбор:\n",
    "Рассчитан 95%-ый доверительный интервал, средняя прибыль и риск убытков для каждого региона. По результатам расчетов во втором регионе мы не понесем убытков с 99% вероятностью, доверительный интевал прибыли полностью расположен в области положительных значений, что не скажешь про 1-й и 3-й регионы (и вероятность убытков больше 2.5%).\\\n",
    "Выбираем для дальнейшей разработки 2-й регион (вероятность убытков меньше 2.5%)."
   ]
  },
  {
   "cell_type": "markdown",
   "metadata": {},
   "source": [
    "- [x]  Jupyter Notebook открыт\n",
    "- [x]  Весь код выполняется без ошибок\n",
    "- [x]  Ячейки с кодом расположены в порядке исполнения\n",
    "- [x]  Выполнен шаг 1: данные подготовлены\n",
    "- [x]  Выполнен шаг 2: модели обучены и проверены\n",
    "    - [x]  Данные корректно разбиты на обучающую и валидационную выборки\n",
    "    - [x]  Модели обучены, предсказания сделаны\n",
    "    - [x]  Предсказания и правильные ответы на валидационной выборке сохранены\n",
    "    - [x]  На экране напечатаны результаты\n",
    "    - [x]  Сделаны выводы\n",
    "- [x]  Выполнен шаг 3: проведена подготовка к расчёту прибыли\n",
    "    - [x]  Для всех ключевых значений созданы константы Python\n",
    "    - [x]  Посчитано минимальное среднее количество продукта в месторождениях региона, достаточное для разработки\n",
    "    - [x]  По предыдущему пункту сделаны выводы\n",
    "    - [x]  Написана функция расчёта прибыли\n",
    "- [x]  Выполнен шаг 4: посчитаны риски и прибыль\n",
    "    - [x]  Проведена процедура *Bootstrap*\n",
    "    - [x]  Все параметры бутстрепа соответствуют условию\n",
    "    - [x]  Найдены все нужные величины\n",
    "    - [x]  Предложен регион для разработки месторождения\n",
    "    - [x]  Выбор региона обоснован"
   ]
  }
 ],
 "metadata": {
  "ExecuteTimeLog": [
   {
    "duration": 853,
    "start_time": "2021-10-28T05:54:47.473Z"
   },
   {
    "duration": 447,
    "start_time": "2021-10-28T05:54:48.329Z"
   },
   {
    "duration": 190,
    "start_time": "2021-10-28T05:54:56.693Z"
   },
   {
    "duration": 174,
    "start_time": "2021-10-28T05:57:00.958Z"
   },
   {
    "duration": 169,
    "start_time": "2021-10-28T05:57:37.478Z"
   },
   {
    "duration": 14,
    "start_time": "2021-10-28T05:58:14.343Z"
   },
   {
    "duration": 13,
    "start_time": "2021-10-28T05:58:27.238Z"
   },
   {
    "duration": 15,
    "start_time": "2021-10-28T05:58:33.285Z"
   },
   {
    "duration": 53,
    "start_time": "2021-10-28T06:31:31.199Z"
   },
   {
    "duration": 374,
    "start_time": "2021-10-28T07:02:30.690Z"
   },
   {
    "duration": 653,
    "start_time": "2021-10-28T07:02:48.286Z"
   },
   {
    "duration": 399,
    "start_time": "2021-10-28T07:02:51.880Z"
   },
   {
    "duration": 23516,
    "start_time": "2021-10-28T07:02:56.407Z"
   },
   {
    "duration": 6,
    "start_time": "2021-10-28T07:06:19.106Z"
   },
   {
    "duration": 10,
    "start_time": "2021-10-28T07:06:44.598Z"
   },
   {
    "duration": 375,
    "start_time": "2021-10-28T07:10:32.864Z"
   },
   {
    "duration": 34,
    "start_time": "2021-10-28T07:10:50.997Z"
   },
   {
    "duration": 29,
    "start_time": "2021-10-28T07:10:58.176Z"
   },
   {
    "duration": 17,
    "start_time": "2021-10-28T07:11:12.301Z"
   },
   {
    "duration": 49,
    "start_time": "2021-10-28T07:11:27.861Z"
   },
   {
    "duration": 52,
    "start_time": "2021-10-28T07:12:30.917Z"
   },
   {
    "duration": 502,
    "start_time": "2021-10-28T07:12:49.182Z"
   },
   {
    "duration": 27,
    "start_time": "2021-10-28T07:14:23.669Z"
   },
   {
    "duration": 52,
    "start_time": "2021-10-28T07:14:28.950Z"
   },
   {
    "duration": 780,
    "start_time": "2021-10-28T07:14:39.717Z"
   },
   {
    "duration": 21,
    "start_time": "2021-10-28T07:15:19.764Z"
   },
   {
    "duration": 413,
    "start_time": "2021-10-28T07:15:19.948Z"
   },
   {
    "duration": 370,
    "start_time": "2021-10-28T07:17:14.704Z"
   },
   {
    "duration": -38,
    "start_time": "2021-10-28T07:17:15.114Z"
   },
   {
    "duration": 10,
    "start_time": "2021-10-28T07:17:56.874Z"
   },
   {
    "duration": 29,
    "start_time": "2021-10-28T07:17:57.431Z"
   },
   {
    "duration": 367,
    "start_time": "2021-10-28T07:17:57.981Z"
   },
   {
    "duration": 10,
    "start_time": "2021-10-28T07:19:01.389Z"
   },
   {
    "duration": 432,
    "start_time": "2021-10-28T07:19:01.572Z"
   },
   {
    "duration": -22,
    "start_time": "2021-10-28T07:19:02.029Z"
   },
   {
    "duration": 1505,
    "start_time": "2021-10-28T07:19:18.238Z"
   },
   {
    "duration": -40,
    "start_time": "2021-10-28T07:19:19.786Z"
   },
   {
    "duration": 9,
    "start_time": "2021-10-28T07:25:40.782Z"
   },
   {
    "duration": 388,
    "start_time": "2021-10-28T07:25:40.907Z"
   },
   {
    "duration": 892,
    "start_time": "2021-10-28T07:25:41.908Z"
   },
   {
    "duration": 10,
    "start_time": "2021-10-28T07:25:58.666Z"
   },
   {
    "duration": 26,
    "start_time": "2021-10-28T07:25:58.899Z"
   },
   {
    "duration": 415,
    "start_time": "2021-10-28T07:25:59.045Z"
   },
   {
    "duration": 431,
    "start_time": "2021-10-28T07:55:33.896Z"
   },
   {
    "duration": 10,
    "start_time": "2021-10-28T08:00:12.059Z"
   },
   {
    "duration": 28,
    "start_time": "2021-10-28T08:00:12.347Z"
   },
   {
    "duration": 461,
    "start_time": "2021-10-28T08:00:12.730Z"
   },
   {
    "duration": 47,
    "start_time": "2021-10-28T08:07:45.425Z"
   },
   {
    "duration": 10,
    "start_time": "2021-10-28T08:07:54.361Z"
   },
   {
    "duration": 10,
    "start_time": "2021-10-28T08:11:31.633Z"
   },
   {
    "duration": 549,
    "start_time": "2021-10-28T08:11:31.905Z"
   },
   {
    "duration": -37,
    "start_time": "2021-10-28T08:11:32.494Z"
   },
   {
    "duration": 10,
    "start_time": "2021-10-28T08:11:43.777Z"
   },
   {
    "duration": 48,
    "start_time": "2021-10-28T08:11:43.993Z"
   },
   {
    "duration": 39,
    "start_time": "2021-10-28T08:11:44.147Z"
   },
   {
    "duration": 4,
    "start_time": "2021-10-28T08:17:34.129Z"
   },
   {
    "duration": 371,
    "start_time": "2021-10-28T08:18:01.917Z"
   },
   {
    "duration": 18,
    "start_time": "2021-10-28T08:18:19.062Z"
   },
   {
    "duration": 18,
    "start_time": "2021-10-28T08:18:23.975Z"
   },
   {
    "duration": 49,
    "start_time": "2021-10-28T08:19:30.735Z"
   },
   {
    "duration": 22,
    "start_time": "2021-10-28T08:21:51.246Z"
   },
   {
    "duration": 4,
    "start_time": "2021-10-28T08:23:09.406Z"
   },
   {
    "duration": 29,
    "start_time": "2021-10-28T08:36:29.063Z"
   },
   {
    "duration": 477,
    "start_time": "2021-10-28T08:39:19.835Z"
   },
   {
    "duration": 20,
    "start_time": "2021-10-28T08:39:30.164Z"
   },
   {
    "duration": 4,
    "start_time": "2021-10-28T08:40:50.906Z"
   },
   {
    "duration": 386,
    "start_time": "2021-10-28T08:42:12.067Z"
   },
   {
    "duration": 5,
    "start_time": "2021-10-28T08:43:17.091Z"
   },
   {
    "duration": 8,
    "start_time": "2021-10-28T08:43:48.418Z"
   },
   {
    "duration": 7,
    "start_time": "2021-10-28T08:44:06.376Z"
   },
   {
    "duration": 7,
    "start_time": "2021-10-28T08:44:12.362Z"
   },
   {
    "duration": 19,
    "start_time": "2021-10-28T08:44:43.657Z"
   },
   {
    "duration": 13,
    "start_time": "2021-10-28T08:44:43.905Z"
   },
   {
    "duration": 8,
    "start_time": "2021-10-28T08:44:54.086Z"
   },
   {
    "duration": 8,
    "start_time": "2021-10-28T08:44:56.545Z"
   },
   {
    "duration": 368,
    "start_time": "2021-10-28T08:45:35.884Z"
   },
   {
    "duration": 9,
    "start_time": "2021-10-28T08:46:40.281Z"
   },
   {
    "duration": 8,
    "start_time": "2021-10-28T08:46:40.468Z"
   },
   {
    "duration": 8,
    "start_time": "2021-10-28T08:47:08.714Z"
   },
   {
    "duration": 8,
    "start_time": "2021-10-28T08:47:08.841Z"
   },
   {
    "duration": 19,
    "start_time": "2021-10-28T08:47:18.177Z"
   },
   {
    "duration": 31,
    "start_time": "2021-10-28T08:47:18.336Z"
   },
   {
    "duration": 23,
    "start_time": "2021-10-28T08:47:47.913Z"
   },
   {
    "duration": 17,
    "start_time": "2021-10-28T08:47:48.279Z"
   },
   {
    "duration": 17,
    "start_time": "2021-10-28T08:49:07.656Z"
   },
   {
    "duration": 13,
    "start_time": "2021-10-28T08:49:07.809Z"
   },
   {
    "duration": 7,
    "start_time": "2021-10-28T08:49:15.978Z"
   },
   {
    "duration": 8,
    "start_time": "2021-10-28T08:49:20.000Z"
   },
   {
    "duration": 4769,
    "start_time": "2021-10-28T08:49:47.177Z"
   },
   {
    "duration": -44,
    "start_time": "2021-10-28T08:49:51.992Z"
   },
   {
    "duration": -44,
    "start_time": "2021-10-28T08:49:51.994Z"
   },
   {
    "duration": 4673,
    "start_time": "2021-10-28T08:50:10.600Z"
   },
   {
    "duration": -46,
    "start_time": "2021-10-28T08:50:15.322Z"
   },
   {
    "duration": 7,
    "start_time": "2021-10-28T08:50:15.632Z"
   },
   {
    "duration": 32,
    "start_time": "2021-10-28T08:50:24.969Z"
   },
   {
    "duration": 6,
    "start_time": "2021-10-28T08:50:25.101Z"
   },
   {
    "duration": 9,
    "start_time": "2021-10-28T08:50:25.921Z"
   },
   {
    "duration": 7,
    "start_time": "2021-10-28T08:50:26.298Z"
   },
   {
    "duration": 7,
    "start_time": "2021-10-28T08:50:56.007Z"
   },
   {
    "duration": 8,
    "start_time": "2021-10-28T08:50:57.992Z"
   },
   {
    "duration": 4,
    "start_time": "2021-10-28T08:51:02.583Z"
   },
   {
    "duration": 9,
    "start_time": "2021-10-28T08:51:02.863Z"
   },
   {
    "duration": 7,
    "start_time": "2021-10-28T08:51:03.359Z"
   },
   {
    "duration": 13,
    "start_time": "2021-10-28T08:51:13.600Z"
   },
   {
    "duration": 13,
    "start_time": "2021-10-28T08:51:13.799Z"
   },
   {
    "duration": 13,
    "start_time": "2021-10-28T08:51:50.614Z"
   },
   {
    "duration": 12,
    "start_time": "2021-10-28T08:51:51.992Z"
   },
   {
    "duration": 13,
    "start_time": "2021-10-28T08:57:36.820Z"
   },
   {
    "duration": 12,
    "start_time": "2021-10-28T08:57:36.836Z"
   },
   {
    "duration": 13,
    "start_time": "2021-10-28T08:57:46.134Z"
   },
   {
    "duration": 13,
    "start_time": "2021-10-28T08:57:46.319Z"
   },
   {
    "duration": 28,
    "start_time": "2021-10-28T08:58:01.382Z"
   },
   {
    "duration": 4,
    "start_time": "2021-10-28T08:58:01.775Z"
   },
   {
    "duration": 13,
    "start_time": "2021-10-28T08:58:02.206Z"
   },
   {
    "duration": 12,
    "start_time": "2021-10-28T08:58:02.639Z"
   },
   {
    "duration": 13,
    "start_time": "2021-10-28T08:58:27.716Z"
   },
   {
    "duration": 12,
    "start_time": "2021-10-28T08:58:28.115Z"
   },
   {
    "duration": 18,
    "start_time": "2021-10-28T08:59:59.629Z"
   },
   {
    "duration": 13,
    "start_time": "2021-10-28T08:59:59.981Z"
   },
   {
    "duration": 14,
    "start_time": "2021-10-28T09:00:07.375Z"
   },
   {
    "duration": 16,
    "start_time": "2021-10-28T09:00:07.750Z"
   },
   {
    "duration": 5,
    "start_time": "2021-10-28T09:00:11.357Z"
   },
   {
    "duration": 13,
    "start_time": "2021-10-28T09:00:18.110Z"
   },
   {
    "duration": 13,
    "start_time": "2021-10-28T09:00:18.695Z"
   },
   {
    "duration": 16,
    "start_time": "2021-10-28T09:00:25.059Z"
   },
   {
    "duration": 15,
    "start_time": "2021-10-28T09:00:25.078Z"
   },
   {
    "duration": 8,
    "start_time": "2021-10-28T09:00:42.422Z"
   },
   {
    "duration": 9,
    "start_time": "2021-10-28T09:00:42.558Z"
   },
   {
    "duration": 23,
    "start_time": "2021-10-28T09:00:57.493Z"
   },
   {
    "duration": 14,
    "start_time": "2021-10-28T09:01:00.069Z"
   },
   {
    "duration": 5,
    "start_time": "2021-10-28T09:11:57.490Z"
   },
   {
    "duration": 5,
    "start_time": "2021-10-28T09:13:05.466Z"
   },
   {
    "duration": 7,
    "start_time": "2021-10-28T09:13:30.604Z"
   },
   {
    "duration": 6,
    "start_time": "2021-10-28T09:13:34.835Z"
   },
   {
    "duration": 6,
    "start_time": "2021-10-28T09:13:49.658Z"
   },
   {
    "duration": 5,
    "start_time": "2021-10-28T09:25:20.105Z"
   },
   {
    "duration": 374,
    "start_time": "2021-10-28T09:26:33.185Z"
   },
   {
    "duration": 381,
    "start_time": "2021-10-28T09:26:45.376Z"
   },
   {
    "duration": 5,
    "start_time": "2021-10-28T09:27:03.848Z"
   },
   {
    "duration": 381,
    "start_time": "2021-10-28T09:34:13.942Z"
   },
   {
    "duration": 7,
    "start_time": "2021-10-28T09:34:29.902Z"
   },
   {
    "duration": 7,
    "start_time": "2021-10-28T09:34:37.785Z"
   },
   {
    "duration": 6,
    "start_time": "2021-10-28T09:35:00.460Z"
   },
   {
    "duration": 8,
    "start_time": "2021-10-28T09:51:38.468Z"
   },
   {
    "duration": 7,
    "start_time": "2021-10-28T09:52:03.804Z"
   },
   {
    "duration": 152,
    "start_time": "2021-10-28T09:53:22.578Z"
   },
   {
    "duration": 6,
    "start_time": "2021-10-28T09:53:48.134Z"
   },
   {
    "duration": 50,
    "start_time": "2021-10-28T10:02:56.513Z"
   },
   {
    "duration": 49,
    "start_time": "2021-10-28T10:03:13.689Z"
   },
   {
    "duration": 1635,
    "start_time": "2021-10-28T10:03:21.918Z"
   },
   {
    "duration": 178,
    "start_time": "2021-10-28T10:03:23.556Z"
   },
   {
    "duration": 17,
    "start_time": "2021-10-28T10:03:23.737Z"
   },
   {
    "duration": 77,
    "start_time": "2021-10-28T10:03:23.757Z"
   },
   {
    "duration": 174,
    "start_time": "2021-10-28T10:03:23.837Z"
   },
   {
    "duration": 13,
    "start_time": "2021-10-28T10:03:24.014Z"
   },
   {
    "duration": 72,
    "start_time": "2021-10-28T10:03:24.030Z"
   },
   {
    "duration": 168,
    "start_time": "2021-10-28T10:03:24.105Z"
   },
   {
    "duration": 24,
    "start_time": "2021-10-28T10:03:24.276Z"
   },
   {
    "duration": 53,
    "start_time": "2021-10-28T10:03:24.304Z"
   },
   {
    "duration": 23888,
    "start_time": "2021-10-28T10:03:24.360Z"
   },
   {
    "duration": 15,
    "start_time": "2021-10-28T10:03:48.250Z"
   },
   {
    "duration": 32,
    "start_time": "2021-10-28T10:03:48.268Z"
   },
   {
    "duration": 55,
    "start_time": "2021-10-28T10:03:48.303Z"
   },
   {
    "duration": 66,
    "start_time": "2021-10-28T10:03:48.361Z"
   },
   {
    "duration": 3,
    "start_time": "2021-10-28T10:03:48.430Z"
   },
   {
    "duration": 42,
    "start_time": "2021-10-28T10:03:48.436Z"
   },
   {
    "duration": 29,
    "start_time": "2021-10-28T10:03:48.480Z"
   },
   {
    "duration": 92,
    "start_time": "2021-10-28T10:03:48.611Z"
   },
   {
    "duration": 40,
    "start_time": "2021-10-28T10:03:48.705Z"
   },
   {
    "duration": 8,
    "start_time": "2021-10-28T10:03:48.748Z"
   },
   {
    "duration": 13,
    "start_time": "2021-10-28T10:03:48.759Z"
   },
   {
    "duration": 4,
    "start_time": "2021-10-28T12:46:09.727Z"
   },
   {
    "duration": 4,
    "start_time": "2021-10-28T12:48:27.864Z"
   },
   {
    "duration": 6,
    "start_time": "2021-10-28T12:48:45.231Z"
   },
   {
    "duration": 5,
    "start_time": "2021-10-28T12:48:47.883Z"
   },
   {
    "duration": 581,
    "start_time": "2021-10-28T13:10:18.484Z"
   },
   {
    "duration": 366,
    "start_time": "2021-10-28T13:10:29.619Z"
   },
   {
    "duration": 6,
    "start_time": "2021-10-28T13:10:32.906Z"
   },
   {
    "duration": 7,
    "start_time": "2021-10-28T13:10:41.737Z"
   },
   {
    "duration": 779,
    "start_time": "2021-10-28T13:11:07.679Z"
   },
   {
    "duration": 374,
    "start_time": "2021-10-28T13:11:16.860Z"
   },
   {
    "duration": 5,
    "start_time": "2021-10-28T13:12:35.189Z"
   },
   {
    "duration": 6,
    "start_time": "2021-10-28T13:12:48.124Z"
   },
   {
    "duration": 7,
    "start_time": "2021-10-28T13:13:01.196Z"
   },
   {
    "duration": 6,
    "start_time": "2021-10-28T13:13:09.450Z"
   },
   {
    "duration": 6,
    "start_time": "2021-10-28T13:13:21.695Z"
   },
   {
    "duration": 8,
    "start_time": "2021-10-28T13:13:36.987Z"
   },
   {
    "duration": 9,
    "start_time": "2021-10-28T13:15:06.329Z"
   },
   {
    "duration": 12,
    "start_time": "2021-10-28T13:15:18.163Z"
   },
   {
    "duration": 10,
    "start_time": "2021-10-28T13:15:39.309Z"
   },
   {
    "duration": 9,
    "start_time": "2021-10-28T13:15:47.609Z"
   },
   {
    "duration": 9,
    "start_time": "2021-10-28T13:16:11.435Z"
   },
   {
    "duration": 10,
    "start_time": "2021-10-28T13:16:21.044Z"
   },
   {
    "duration": 11,
    "start_time": "2021-10-28T13:16:28.585Z"
   },
   {
    "duration": 9,
    "start_time": "2021-10-28T13:16:44.045Z"
   },
   {
    "duration": 6,
    "start_time": "2021-10-28T13:18:30.269Z"
   },
   {
    "duration": 4,
    "start_time": "2021-10-28T13:21:59.779Z"
   },
   {
    "duration": 6,
    "start_time": "2021-10-28T13:22:07.849Z"
   },
   {
    "duration": 7,
    "start_time": "2021-10-28T13:26:29.599Z"
   },
   {
    "duration": 6,
    "start_time": "2021-10-28T13:44:48.901Z"
   },
   {
    "duration": 6,
    "start_time": "2021-10-28T13:44:49.084Z"
   },
   {
    "duration": 9,
    "start_time": "2021-10-28T13:45:28.073Z"
   },
   {
    "duration": 408,
    "start_time": "2021-10-28T13:45:47.026Z"
   },
   {
    "duration": 531,
    "start_time": "2021-10-28T13:46:09.378Z"
   },
   {
    "duration": 148,
    "start_time": "2021-10-28T13:46:26.208Z"
   },
   {
    "duration": 4,
    "start_time": "2021-10-28T13:46:35.010Z"
   },
   {
    "duration": 381,
    "start_time": "2021-10-28T14:19:13.780Z"
   },
   {
    "duration": 5,
    "start_time": "2021-10-28T14:19:32.018Z"
   },
   {
    "duration": 367,
    "start_time": "2021-10-28T14:19:36.344Z"
   },
   {
    "duration": 389,
    "start_time": "2021-10-28T14:20:31.747Z"
   },
   {
    "duration": 416,
    "start_time": "2021-10-28T14:20:55.344Z"
   },
   {
    "duration": 5383,
    "start_time": "2021-10-28T14:22:35.861Z"
   },
   {
    "duration": 5331,
    "start_time": "2021-10-28T14:24:46.172Z"
   },
   {
    "duration": 1285,
    "start_time": "2021-10-28T18:04:51.357Z"
   },
   {
    "duration": 135,
    "start_time": "2021-10-28T18:04:52.644Z"
   },
   {
    "duration": 12,
    "start_time": "2021-10-28T18:04:52.782Z"
   },
   {
    "duration": 38,
    "start_time": "2021-10-28T18:04:52.796Z"
   },
   {
    "duration": 142,
    "start_time": "2021-10-28T18:04:52.837Z"
   },
   {
    "duration": 11,
    "start_time": "2021-10-28T18:04:52.981Z"
   },
   {
    "duration": 37,
    "start_time": "2021-10-28T18:04:52.994Z"
   },
   {
    "duration": 146,
    "start_time": "2021-10-28T18:04:53.033Z"
   },
   {
    "duration": 12,
    "start_time": "2021-10-28T18:04:53.183Z"
   },
   {
    "duration": 36,
    "start_time": "2021-10-28T18:04:53.198Z"
   },
   {
    "duration": 31973,
    "start_time": "2021-10-28T18:04:53.236Z"
   },
   {
    "duration": 68,
    "start_time": "2021-10-28T18:05:25.211Z"
   },
   {
    "duration": 7,
    "start_time": "2021-10-28T18:05:25.281Z"
   },
   {
    "duration": 111,
    "start_time": "2021-10-28T18:05:25.290Z"
   },
   {
    "duration": 94,
    "start_time": "2021-10-28T18:05:25.403Z"
   },
   {
    "duration": 3,
    "start_time": "2021-10-28T18:05:25.500Z"
   },
   {
    "duration": 81,
    "start_time": "2021-10-28T18:05:25.505Z"
   },
   {
    "duration": 95,
    "start_time": "2021-10-28T18:05:25.587Z"
   },
   {
    "duration": 92,
    "start_time": "2021-10-28T18:05:25.685Z"
   },
   {
    "duration": 17,
    "start_time": "2021-10-28T18:05:25.778Z"
   },
   {
    "duration": 7,
    "start_time": "2021-10-28T18:05:25.796Z"
   },
   {
    "duration": 6,
    "start_time": "2021-10-28T18:05:25.805Z"
   },
   {
    "duration": 4,
    "start_time": "2021-10-28T18:05:25.877Z"
   },
   {
    "duration": 6,
    "start_time": "2021-10-28T18:05:25.883Z"
   },
   {
    "duration": 6,
    "start_time": "2021-10-28T18:05:25.891Z"
   },
   {
    "duration": 4,
    "start_time": "2021-10-28T18:05:25.899Z"
   },
   {
    "duration": 5,
    "start_time": "2021-10-28T18:05:25.907Z"
   },
   {
    "duration": 4,
    "start_time": "2021-10-28T18:05:25.978Z"
   },
   {
    "duration": 4,
    "start_time": "2021-10-28T18:05:25.984Z"
   },
   {
    "duration": 7813,
    "start_time": "2021-10-28T18:05:25.990Z"
   },
   {
    "duration": 4,
    "start_time": "2021-10-28T18:48:00.837Z"
   },
   {
    "duration": 3194,
    "start_time": "2021-10-28T18:49:31.198Z"
   },
   {
    "duration": 3435,
    "start_time": "2021-10-28T18:52:44.104Z"
   },
   {
    "duration": 3316,
    "start_time": "2021-10-28T18:52:53.111Z"
   },
   {
    "duration": 288,
    "start_time": "2021-10-29T04:09:51.566Z"
   },
   {
    "duration": 1554,
    "start_time": "2021-10-29T04:09:58.999Z"
   },
   {
    "duration": 176,
    "start_time": "2021-10-29T04:10:00.556Z"
   },
   {
    "duration": 15,
    "start_time": "2021-10-29T04:10:00.735Z"
   },
   {
    "duration": 75,
    "start_time": "2021-10-29T04:10:00.753Z"
   },
   {
    "duration": 163,
    "start_time": "2021-10-29T04:10:00.830Z"
   },
   {
    "duration": 14,
    "start_time": "2021-10-29T04:10:00.995Z"
   },
   {
    "duration": 60,
    "start_time": "2021-10-29T04:10:01.011Z"
   },
   {
    "duration": 173,
    "start_time": "2021-10-29T04:10:01.074Z"
   },
   {
    "duration": 15,
    "start_time": "2021-10-29T04:10:01.251Z"
   },
   {
    "duration": 76,
    "start_time": "2021-10-29T04:10:01.269Z"
   },
   {
    "duration": 22983,
    "start_time": "2021-10-29T04:10:01.347Z"
   },
   {
    "duration": 14,
    "start_time": "2021-10-29T04:10:24.332Z"
   },
   {
    "duration": 6,
    "start_time": "2021-10-29T04:10:24.349Z"
   },
   {
    "duration": 89,
    "start_time": "2021-10-29T04:10:24.357Z"
   },
   {
    "duration": 45,
    "start_time": "2021-10-29T04:10:24.448Z"
   },
   {
    "duration": 4,
    "start_time": "2021-10-29T04:10:24.495Z"
   },
   {
    "duration": 53,
    "start_time": "2021-10-29T04:10:24.501Z"
   },
   {
    "duration": 76,
    "start_time": "2021-10-29T04:10:24.557Z"
   },
   {
    "duration": 96,
    "start_time": "2021-10-29T04:10:24.636Z"
   },
   {
    "duration": 114,
    "start_time": "2021-10-29T04:10:24.735Z"
   },
   {
    "duration": 10,
    "start_time": "2021-10-29T04:10:24.851Z"
   },
   {
    "duration": 8,
    "start_time": "2021-10-29T04:10:24.863Z"
   },
   {
    "duration": 12,
    "start_time": "2021-10-29T04:10:24.874Z"
   },
   {
    "duration": 42,
    "start_time": "2021-10-29T04:10:24.889Z"
   },
   {
    "duration": 12,
    "start_time": "2021-10-29T04:10:24.934Z"
   },
   {
    "duration": 9,
    "start_time": "2021-10-29T04:10:24.949Z"
   },
   {
    "duration": 6,
    "start_time": "2021-10-29T04:10:24.964Z"
   },
   {
    "duration": 8,
    "start_time": "2021-10-29T04:10:24.973Z"
   },
   {
    "duration": 46,
    "start_time": "2021-10-29T04:10:24.984Z"
   },
   {
    "duration": 5137,
    "start_time": "2021-10-29T04:10:25.033Z"
   },
   {
    "duration": 5280,
    "start_time": "2021-10-29T04:10:30.173Z"
   },
   {
    "duration": 5087,
    "start_time": "2021-10-29T04:10:40.626Z"
   },
   {
    "duration": 5226,
    "start_time": "2021-10-29T04:10:45.716Z"
   },
   {
    "duration": 5111,
    "start_time": "2021-10-29T04:10:50.945Z"
   },
   {
    "duration": 5048,
    "start_time": "2021-10-29T04:14:09.697Z"
   },
   {
    "duration": 5170,
    "start_time": "2021-10-29T04:14:14.748Z"
   },
   {
    "duration": 5118,
    "start_time": "2021-10-29T04:14:19.921Z"
   },
   {
    "duration": 416,
    "start_time": "2021-10-29T04:31:24.377Z"
   },
   {
    "duration": 32,
    "start_time": "2021-10-29T04:32:21.467Z"
   },
   {
    "duration": 22,
    "start_time": "2021-10-29T04:32:35.457Z"
   },
   {
    "duration": 15303,
    "start_time": "2021-10-29T20:17:46.183Z"
   },
   {
    "duration": 100,
    "start_time": "2021-10-29T20:18:01.580Z"
   },
   {
    "duration": 3999,
    "start_time": "2021-10-29T20:18:01.684Z"
   },
   {
    "duration": 200,
    "start_time": "2021-10-29T20:18:05.687Z"
   },
   {
    "duration": 499,
    "start_time": "2021-10-29T20:18:05.987Z"
   },
   {
    "duration": 1693,
    "start_time": "2021-10-29T20:18:06.488Z"
   },
   {
    "duration": 294,
    "start_time": "2021-10-29T20:18:08.184Z"
   },
   {
    "duration": 894,
    "start_time": "2021-10-29T20:18:08.481Z"
   },
   {
    "duration": 1797,
    "start_time": "2021-10-29T20:18:09.390Z"
   },
   {
    "duration": 203,
    "start_time": "2021-10-29T20:18:11.285Z"
   },
   {
    "duration": 896,
    "start_time": "2021-10-29T20:18:11.584Z"
   },
   {
    "duration": 100604,
    "start_time": "2021-10-29T20:18:12.490Z"
   },
   {
    "duration": 8,
    "start_time": "2021-10-29T20:19:53.095Z"
   },
   {
    "duration": 71,
    "start_time": "2021-10-29T20:19:53.105Z"
   },
   {
    "duration": 109,
    "start_time": "2021-10-29T20:19:53.178Z"
   },
   {
    "duration": 213,
    "start_time": "2021-10-29T20:19:53.289Z"
   },
   {
    "duration": 72,
    "start_time": "2021-10-29T20:19:53.504Z"
   },
   {
    "duration": 27,
    "start_time": "2021-10-29T20:19:53.578Z"
   },
   {
    "duration": 82,
    "start_time": "2021-10-29T20:19:53.607Z"
   },
   {
    "duration": 4,
    "start_time": "2021-10-29T20:19:53.776Z"
   },
   {
    "duration": 107,
    "start_time": "2021-10-29T20:19:53.782Z"
   },
   {
    "duration": 6,
    "start_time": "2021-10-29T20:19:53.891Z"
   },
   {
    "duration": 87,
    "start_time": "2021-10-29T20:19:53.899Z"
   },
   {
    "duration": 18,
    "start_time": "2021-10-29T20:19:54.077Z"
   },
   {
    "duration": 8,
    "start_time": "2021-10-29T20:19:54.097Z"
   },
   {
    "duration": 71,
    "start_time": "2021-10-29T20:19:54.107Z"
   },
   {
    "duration": 8,
    "start_time": "2021-10-29T20:19:54.183Z"
   },
   {
    "duration": 18,
    "start_time": "2021-10-29T20:19:54.193Z"
   },
   {
    "duration": 64,
    "start_time": "2021-10-29T20:19:54.214Z"
   },
   {
    "duration": 5,
    "start_time": "2021-10-29T20:19:54.280Z"
   },
   {
    "duration": 3,
    "start_time": "2021-10-29T20:19:54.287Z"
   },
   {
    "duration": 31090,
    "start_time": "2021-10-29T20:19:54.293Z"
   },
   {
    "duration": 41203,
    "start_time": "2021-10-29T20:20:25.478Z"
   },
   {
    "duration": 44804,
    "start_time": "2021-10-29T20:21:06.683Z"
   },
   {
    "duration": 101,
    "start_time": "2021-10-29T20:21:51.489Z"
   },
   {
    "duration": 11,
    "start_time": "2021-10-29T20:22:45.682Z"
   },
   {
    "duration": 42,
    "start_time": "2021-10-29T20:23:13.277Z"
   },
   {
    "duration": 107,
    "start_time": "2021-10-29T20:24:36.978Z"
   },
   {
    "duration": 5,
    "start_time": "2021-10-29T20:25:00.578Z"
   },
   {
    "duration": 13,
    "start_time": "2021-10-29T20:25:04.021Z"
   },
   {
    "duration": 33,
    "start_time": "2021-10-29T20:25:09.026Z"
   },
   {
    "duration": 13,
    "start_time": "2021-10-29T20:25:09.180Z"
   },
   {
    "duration": 16,
    "start_time": "2021-10-29T20:25:13.656Z"
   },
   {
    "duration": 9,
    "start_time": "2021-10-29T20:25:14.749Z"
   },
   {
    "duration": 47,
    "start_time": "2021-10-29T20:25:14.946Z"
   },
   {
    "duration": 27,
    "start_time": "2021-10-29T20:25:15.090Z"
   },
   {
    "duration": 13,
    "start_time": "2021-10-29T20:25:15.847Z"
   },
   {
    "duration": 478,
    "start_time": "2021-10-29T20:39:19.051Z"
   },
   {
    "duration": 4,
    "start_time": "2021-10-29T20:39:49.578Z"
   },
   {
    "duration": 245,
    "start_time": "2021-10-29T20:39:55.108Z"
   },
   {
    "duration": 218,
    "start_time": "2021-10-29T20:40:20.817Z"
   },
   {
    "duration": 239,
    "start_time": "2021-10-29T20:41:07.900Z"
   },
   {
    "duration": 292,
    "start_time": "2021-10-29T20:41:17.669Z"
   },
   {
    "duration": 235,
    "start_time": "2021-10-29T20:44:31.613Z"
   },
   {
    "duration": 1703,
    "start_time": "2021-10-29T20:44:52.508Z"
   },
   {
    "duration": 242,
    "start_time": "2021-10-29T20:45:33.844Z"
   },
   {
    "duration": 502,
    "start_time": "2021-10-29T20:47:12.078Z"
   },
   {
    "duration": 606,
    "start_time": "2021-10-29T20:47:54.478Z"
   },
   {
    "duration": 602,
    "start_time": "2021-10-29T20:48:27.678Z"
   },
   {
    "duration": 10,
    "start_time": "2021-10-29T20:48:36.377Z"
   },
   {
    "duration": 2193,
    "start_time": "2021-10-29T20:49:03.285Z"
   },
   {
    "duration": 2379,
    "start_time": "2021-10-29T20:49:11.300Z"
   },
   {
    "duration": 3712,
    "start_time": "2021-10-29T20:49:42.078Z"
   },
   {
    "duration": 1503,
    "start_time": "2021-10-29T20:51:06.278Z"
   },
   {
    "duration": 1300,
    "start_time": "2021-10-29T20:51:14.778Z"
   },
   {
    "duration": 1703,
    "start_time": "2021-10-29T20:51:20.878Z"
   },
   {
    "duration": 1531,
    "start_time": "2021-10-30T08:06:23.729Z"
   },
   {
    "duration": 8,
    "start_time": "2021-10-30T08:06:25.263Z"
   },
   {
    "duration": 178,
    "start_time": "2021-10-30T08:06:25.274Z"
   },
   {
    "duration": 15,
    "start_time": "2021-10-30T08:06:25.454Z"
   },
   {
    "duration": 49,
    "start_time": "2021-10-30T08:06:25.483Z"
   },
   {
    "duration": 179,
    "start_time": "2021-10-30T08:06:25.534Z"
   },
   {
    "duration": 13,
    "start_time": "2021-10-30T08:06:25.716Z"
   },
   {
    "duration": 68,
    "start_time": "2021-10-30T08:06:25.732Z"
   },
   {
    "duration": 160,
    "start_time": "2021-10-30T08:06:25.804Z"
   },
   {
    "duration": 22,
    "start_time": "2021-10-30T08:06:25.967Z"
   },
   {
    "duration": 48,
    "start_time": "2021-10-30T08:06:25.991Z"
   },
   {
    "duration": 24635,
    "start_time": "2021-10-30T08:06:26.041Z"
   },
   {
    "duration": 14,
    "start_time": "2021-10-30T08:06:50.683Z"
   },
   {
    "duration": 13,
    "start_time": "2021-10-30T08:06:50.700Z"
   },
   {
    "duration": 85,
    "start_time": "2021-10-30T08:06:50.715Z"
   },
   {
    "duration": 46,
    "start_time": "2021-10-30T08:06:50.802Z"
   },
   {
    "duration": 4,
    "start_time": "2021-10-30T08:06:50.850Z"
   },
   {
    "duration": 47,
    "start_time": "2021-10-30T08:06:50.856Z"
   },
   {
    "duration": 181,
    "start_time": "2021-10-30T08:06:50.905Z"
   },
   {
    "duration": 93,
    "start_time": "2021-10-30T08:06:51.089Z"
   },
   {
    "duration": 25,
    "start_time": "2021-10-30T08:06:51.282Z"
   },
   {
    "duration": 9,
    "start_time": "2021-10-30T08:06:51.310Z"
   },
   {
    "duration": 6,
    "start_time": "2021-10-30T08:06:51.321Z"
   },
   {
    "duration": 8,
    "start_time": "2021-10-30T08:06:51.330Z"
   },
   {
    "duration": 6,
    "start_time": "2021-10-30T08:06:51.384Z"
   },
   {
    "duration": 10,
    "start_time": "2021-10-30T08:06:51.393Z"
   },
   {
    "duration": 7,
    "start_time": "2021-10-30T08:06:51.409Z"
   },
   {
    "duration": 7,
    "start_time": "2021-10-30T08:06:51.419Z"
   },
   {
    "duration": 58,
    "start_time": "2021-10-30T08:06:51.428Z"
   },
   {
    "duration": 6,
    "start_time": "2021-10-30T08:06:51.488Z"
   },
   {
    "duration": 5356,
    "start_time": "2021-10-30T08:06:51.496Z"
   },
   {
    "duration": 5179,
    "start_time": "2021-10-30T08:06:56.854Z"
   },
   {
    "duration": 5212,
    "start_time": "2021-10-30T08:07:02.036Z"
   },
   {
    "duration": 33,
    "start_time": "2021-10-30T08:07:07.250Z"
   },
   {
    "duration": 9,
    "start_time": "2021-10-30T08:07:07.285Z"
   },
   {
    "duration": 47,
    "start_time": "2021-10-30T08:07:07.296Z"
   },
   {
    "duration": 54,
    "start_time": "2021-10-30T08:07:07.345Z"
   },
   {
    "duration": 14,
    "start_time": "2021-10-30T08:07:07.402Z"
   },
   {
    "duration": 4,
    "start_time": "2021-10-30T08:07:07.418Z"
   },
   {
    "duration": 1360,
    "start_time": "2021-10-30T08:07:07.424Z"
   },
   {
    "duration": 4,
    "start_time": "2021-10-30T08:07:08.786Z"
   },
   {
    "duration": 1281,
    "start_time": "2021-10-30T08:18:06.844Z"
   },
   {
    "duration": 1335,
    "start_time": "2021-10-30T08:18:32.448Z"
   },
   {
    "duration": 1518,
    "start_time": "2021-10-30T08:18:39.385Z"
   },
   {
    "duration": 7,
    "start_time": "2021-10-30T08:18:40.905Z"
   },
   {
    "duration": 175,
    "start_time": "2021-10-30T08:18:40.915Z"
   },
   {
    "duration": 15,
    "start_time": "2021-10-30T08:18:41.092Z"
   },
   {
    "duration": 50,
    "start_time": "2021-10-30T08:18:41.109Z"
   },
   {
    "duration": 168,
    "start_time": "2021-10-30T08:18:41.182Z"
   },
   {
    "duration": 14,
    "start_time": "2021-10-30T08:18:41.353Z"
   },
   {
    "duration": 57,
    "start_time": "2021-10-30T08:18:41.370Z"
   },
   {
    "duration": 217,
    "start_time": "2021-10-30T08:18:41.430Z"
   },
   {
    "duration": 15,
    "start_time": "2021-10-30T08:18:41.650Z"
   },
   {
    "duration": 49,
    "start_time": "2021-10-30T08:18:41.683Z"
   },
   {
    "duration": 23428,
    "start_time": "2021-10-30T08:18:41.734Z"
   },
   {
    "duration": 22,
    "start_time": "2021-10-30T08:19:05.165Z"
   },
   {
    "duration": 10,
    "start_time": "2021-10-30T08:19:05.189Z"
   },
   {
    "duration": 53,
    "start_time": "2021-10-30T08:19:05.201Z"
   },
   {
    "duration": 65,
    "start_time": "2021-10-30T08:19:05.257Z"
   },
   {
    "duration": 3,
    "start_time": "2021-10-30T08:19:05.325Z"
   },
   {
    "duration": 34,
    "start_time": "2021-10-30T08:19:05.330Z"
   },
   {
    "duration": 101,
    "start_time": "2021-10-30T08:19:05.381Z"
   },
   {
    "duration": 5,
    "start_time": "2021-10-30T08:19:05.486Z"
   },
   {
    "duration": 23,
    "start_time": "2021-10-30T08:19:05.583Z"
   },
   {
    "duration": 7,
    "start_time": "2021-10-30T08:19:05.609Z"
   },
   {
    "duration": 5,
    "start_time": "2021-10-30T08:19:05.621Z"
   },
   {
    "duration": 9,
    "start_time": "2021-10-30T08:19:05.629Z"
   },
   {
    "duration": 44,
    "start_time": "2021-10-30T08:19:05.640Z"
   },
   {
    "duration": 9,
    "start_time": "2021-10-30T08:19:05.686Z"
   },
   {
    "duration": 6,
    "start_time": "2021-10-30T08:19:05.697Z"
   },
   {
    "duration": 6,
    "start_time": "2021-10-30T08:19:05.705Z"
   },
   {
    "duration": 5,
    "start_time": "2021-10-30T08:19:05.713Z"
   },
   {
    "duration": 7,
    "start_time": "2021-10-30T08:19:05.720Z"
   },
   {
    "duration": 5185,
    "start_time": "2021-10-30T08:19:05.729Z"
   },
   {
    "duration": 5061,
    "start_time": "2021-10-30T08:19:10.916Z"
   },
   {
    "duration": 5228,
    "start_time": "2021-10-30T08:19:15.983Z"
   },
   {
    "duration": 21,
    "start_time": "2021-10-30T08:19:21.213Z"
   },
   {
    "duration": 9,
    "start_time": "2021-10-30T08:19:21.236Z"
   },
   {
    "duration": 67,
    "start_time": "2021-10-30T08:19:21.248Z"
   },
   {
    "duration": 39,
    "start_time": "2021-10-30T08:19:21.318Z"
   },
   {
    "duration": 27,
    "start_time": "2021-10-30T08:19:21.359Z"
   },
   {
    "duration": 5,
    "start_time": "2021-10-30T08:19:21.389Z"
   },
   {
    "duration": 1487,
    "start_time": "2021-10-30T08:19:21.397Z"
   },
   {
    "duration": 5,
    "start_time": "2021-10-30T08:19:22.887Z"
   },
   {
    "duration": 1536,
    "start_time": "2021-10-30T08:59:14.790Z"
   },
   {
    "duration": 8,
    "start_time": "2021-10-30T08:59:16.328Z"
   },
   {
    "duration": 186,
    "start_time": "2021-10-30T08:59:16.339Z"
   },
   {
    "duration": 16,
    "start_time": "2021-10-30T08:59:16.528Z"
   },
   {
    "duration": 73,
    "start_time": "2021-10-30T08:59:16.547Z"
   },
   {
    "duration": 182,
    "start_time": "2021-10-30T08:59:16.623Z"
   },
   {
    "duration": 14,
    "start_time": "2021-10-30T08:59:16.807Z"
   },
   {
    "duration": 77,
    "start_time": "2021-10-30T08:59:16.823Z"
   },
   {
    "duration": 173,
    "start_time": "2021-10-30T08:59:16.904Z"
   },
   {
    "duration": 15,
    "start_time": "2021-10-30T08:59:17.083Z"
   },
   {
    "duration": 50,
    "start_time": "2021-10-30T08:59:17.100Z"
   },
   {
    "duration": 24321,
    "start_time": "2021-10-30T08:59:17.152Z"
   },
   {
    "duration": 19,
    "start_time": "2021-10-30T08:59:41.475Z"
   },
   {
    "duration": 7,
    "start_time": "2021-10-30T08:59:41.496Z"
   },
   {
    "duration": 89,
    "start_time": "2021-10-30T08:59:41.506Z"
   },
   {
    "duration": 46,
    "start_time": "2021-10-30T08:59:41.597Z"
   },
   {
    "duration": 4,
    "start_time": "2021-10-30T08:59:41.645Z"
   },
   {
    "duration": 52,
    "start_time": "2021-10-30T08:59:41.651Z"
   },
   {
    "duration": 79,
    "start_time": "2021-10-30T08:59:41.705Z"
   },
   {
    "duration": 7,
    "start_time": "2021-10-30T08:59:41.788Z"
   },
   {
    "duration": 197,
    "start_time": "2021-10-30T08:59:41.797Z"
   },
   {
    "duration": 8,
    "start_time": "2021-10-30T08:59:41.996Z"
   },
   {
    "duration": 6,
    "start_time": "2021-10-30T08:59:42.007Z"
   },
   {
    "duration": 7,
    "start_time": "2021-10-30T08:59:42.016Z"
   },
   {
    "duration": 9,
    "start_time": "2021-10-30T08:59:42.026Z"
   },
   {
    "duration": 49,
    "start_time": "2021-10-30T08:59:42.038Z"
   },
   {
    "duration": 7,
    "start_time": "2021-10-30T08:59:42.093Z"
   },
   {
    "duration": 7,
    "start_time": "2021-10-30T08:59:42.103Z"
   },
   {
    "duration": 6,
    "start_time": "2021-10-30T08:59:42.113Z"
   },
   {
    "duration": 6,
    "start_time": "2021-10-30T08:59:42.122Z"
   },
   {
    "duration": 5606,
    "start_time": "2021-10-30T08:59:42.130Z"
   },
   {
    "duration": 5305,
    "start_time": "2021-10-30T08:59:47.738Z"
   },
   {
    "duration": 5355,
    "start_time": "2021-10-30T08:59:53.046Z"
   },
   {
    "duration": 21,
    "start_time": "2021-10-30T08:59:58.403Z"
   },
   {
    "duration": 9,
    "start_time": "2021-10-30T08:59:58.427Z"
   },
   {
    "duration": 77,
    "start_time": "2021-10-30T08:59:58.439Z"
   },
   {
    "duration": 41,
    "start_time": "2021-10-30T08:59:58.519Z"
   },
   {
    "duration": 34,
    "start_time": "2021-10-30T08:59:58.562Z"
   },
   {
    "duration": 4,
    "start_time": "2021-10-30T08:59:58.598Z"
   },
   {
    "duration": 1478,
    "start_time": "2021-10-30T08:59:58.604Z"
   },
   {
    "duration": 3,
    "start_time": "2021-10-30T09:00:00.085Z"
   },
   {
    "duration": 522,
    "start_time": "2021-10-30T09:00:00.090Z"
   },
   {
    "duration": -304,
    "start_time": "2021-10-30T09:00:01.418Z"
   },
   {
    "duration": -304,
    "start_time": "2021-10-30T09:00:01.420Z"
   },
   {
    "duration": 326,
    "start_time": "2021-10-30T09:10:15.542Z"
   },
   {
    "duration": 380,
    "start_time": "2021-10-30T09:17:38.798Z"
   },
   {
    "duration": 230,
    "start_time": "2021-10-30T09:18:07.796Z"
   },
   {
    "duration": 5,
    "start_time": "2021-10-30T09:32:08.912Z"
   },
   {
    "duration": 5536,
    "start_time": "2021-10-30T09:51:04.036Z"
   },
   {
    "duration": 5254,
    "start_time": "2021-10-30T09:51:39.257Z"
   },
   {
    "duration": 4,
    "start_time": "2021-10-30T10:09:04.209Z"
   },
   {
    "duration": 5,
    "start_time": "2021-10-30T10:21:36.157Z"
   },
   {
    "duration": 5243,
    "start_time": "2021-10-30T10:21:36.647Z"
   },
   {
    "duration": 5154,
    "start_time": "2021-10-30T10:21:41.893Z"
   },
   {
    "duration": 121,
    "start_time": "2021-10-30T10:23:46.196Z"
   },
   {
    "duration": 4,
    "start_time": "2021-10-30T10:24:54.057Z"
   },
   {
    "duration": 5151,
    "start_time": "2021-10-30T10:24:54.496Z"
   },
   {
    "duration": 5231,
    "start_time": "2021-10-30T10:24:59.650Z"
   },
   {
    "duration": 5300,
    "start_time": "2021-10-30T10:25:04.885Z"
   },
   {
    "duration": 20,
    "start_time": "2021-10-30T10:25:10.188Z"
   },
   {
    "duration": 9,
    "start_time": "2021-10-30T10:25:10.210Z"
   },
   {
    "duration": 70,
    "start_time": "2021-10-30T10:25:10.222Z"
   },
   {
    "duration": 35,
    "start_time": "2021-10-30T10:25:10.294Z"
   },
   {
    "duration": 17,
    "start_time": "2021-10-30T10:25:10.334Z"
   },
   {
    "duration": 3,
    "start_time": "2021-10-30T10:25:10.382Z"
   },
   {
    "duration": 1395,
    "start_time": "2021-10-30T10:25:10.388Z"
   },
   {
    "duration": 4,
    "start_time": "2021-10-30T10:25:11.786Z"
   },
   {
    "duration": 89,
    "start_time": "2021-10-30T10:25:11.793Z"
   },
   {
    "duration": 338,
    "start_time": "2021-10-30T10:25:11.885Z"
   },
   {
    "duration": 6,
    "start_time": "2021-10-30T10:25:12.225Z"
   },
   {
    "duration": 10,
    "start_time": "2021-10-30T10:33:46.023Z"
   },
   {
    "duration": 13,
    "start_time": "2021-10-30T10:34:01.743Z"
   },
   {
    "duration": 9,
    "start_time": "2021-10-30T10:34:11.874Z"
   },
   {
    "duration": 51,
    "start_time": "2021-10-30T10:41:50.834Z"
   },
   {
    "duration": 1411,
    "start_time": "2021-10-30T10:41:56.730Z"
   },
   {
    "duration": 1478,
    "start_time": "2021-10-30T10:42:36.505Z"
   },
   {
    "duration": 29,
    "start_time": "2021-10-30T10:42:44.304Z"
   },
   {
    "duration": 53,
    "start_time": "2021-10-30T10:45:36.533Z"
   },
   {
    "duration": 32,
    "start_time": "2021-10-30T10:45:41.233Z"
   },
   {
    "duration": 1414,
    "start_time": "2021-10-30T10:45:41.881Z"
   },
   {
    "duration": 95,
    "start_time": "2021-10-30T10:49:39.005Z"
   },
   {
    "duration": 292,
    "start_time": "2021-10-30T10:49:53.732Z"
   },
   {
    "duration": 410,
    "start_time": "2021-10-30T10:50:11.491Z"
   },
   {
    "duration": 290,
    "start_time": "2021-10-30T10:50:56.473Z"
   },
   {
    "duration": 5686,
    "start_time": "2021-10-30T10:51:29.875Z"
   },
   {
    "duration": 8673,
    "start_time": "2021-10-30T10:52:15.643Z"
   },
   {
    "duration": 4642,
    "start_time": "2021-10-30T10:53:52.992Z"
   },
   {
    "duration": 333,
    "start_time": "2021-10-30T10:54:21.192Z"
   },
   {
    "duration": 366,
    "start_time": "2021-10-30T10:54:50.583Z"
   },
   {
    "duration": 1565,
    "start_time": "2021-10-30T10:55:01.793Z"
   },
   {
    "duration": 8,
    "start_time": "2021-10-30T10:55:03.360Z"
   },
   {
    "duration": 171,
    "start_time": "2021-10-30T10:55:03.382Z"
   },
   {
    "duration": 26,
    "start_time": "2021-10-30T10:55:03.556Z"
   },
   {
    "duration": 52,
    "start_time": "2021-10-30T10:55:03.585Z"
   },
   {
    "duration": 174,
    "start_time": "2021-10-30T10:55:03.639Z"
   },
   {
    "duration": 13,
    "start_time": "2021-10-30T10:55:03.815Z"
   },
   {
    "duration": 70,
    "start_time": "2021-10-30T10:55:03.831Z"
   },
   {
    "duration": 166,
    "start_time": "2021-10-30T10:55:03.905Z"
   },
   {
    "duration": 18,
    "start_time": "2021-10-30T10:55:04.074Z"
   },
   {
    "duration": 47,
    "start_time": "2021-10-30T10:55:04.095Z"
   },
   {
    "duration": 23009,
    "start_time": "2021-10-30T10:55:04.144Z"
   },
   {
    "duration": 28,
    "start_time": "2021-10-30T10:55:27.155Z"
   },
   {
    "duration": 11,
    "start_time": "2021-10-30T10:55:27.185Z"
   },
   {
    "duration": 58,
    "start_time": "2021-10-30T10:55:27.199Z"
   },
   {
    "duration": 64,
    "start_time": "2021-10-30T10:55:27.259Z"
   },
   {
    "duration": 4,
    "start_time": "2021-10-30T10:55:27.325Z"
   },
   {
    "duration": 42,
    "start_time": "2021-10-30T10:55:27.331Z"
   },
   {
    "duration": 14,
    "start_time": "2021-10-30T10:55:27.382Z"
   },
   {
    "duration": 93,
    "start_time": "2021-10-30T10:55:27.398Z"
   },
   {
    "duration": 24,
    "start_time": "2021-10-30T10:55:27.583Z"
   },
   {
    "duration": 7,
    "start_time": "2021-10-30T10:55:27.609Z"
   },
   {
    "duration": 15,
    "start_time": "2021-10-30T10:55:27.619Z"
   },
   {
    "duration": 23,
    "start_time": "2021-10-30T10:55:27.637Z"
   },
   {
    "duration": 22,
    "start_time": "2021-10-30T10:55:27.662Z"
   },
   {
    "duration": 20,
    "start_time": "2021-10-30T10:55:27.688Z"
   },
   {
    "duration": 7,
    "start_time": "2021-10-30T10:55:27.715Z"
   },
   {
    "duration": 8,
    "start_time": "2021-10-30T10:55:27.726Z"
   },
   {
    "duration": 8,
    "start_time": "2021-10-30T10:55:27.737Z"
   },
   {
    "duration": 3,
    "start_time": "2021-10-30T10:55:27.782Z"
   },
   {
    "duration": 7,
    "start_time": "2021-10-30T10:55:27.788Z"
   },
   {
    "duration": 5405,
    "start_time": "2021-10-30T10:55:27.797Z"
   },
   {
    "duration": 5170,
    "start_time": "2021-10-30T10:55:33.204Z"
   },
   {
    "duration": 5133,
    "start_time": "2021-10-30T10:55:38.376Z"
   },
   {
    "duration": 20,
    "start_time": "2021-10-30T10:55:43.511Z"
   },
   {
    "duration": 9,
    "start_time": "2021-10-30T10:55:43.534Z"
   },
   {
    "duration": 73,
    "start_time": "2021-10-30T10:55:43.545Z"
   },
   {
    "duration": 48,
    "start_time": "2021-10-30T10:55:43.620Z"
   },
   {
    "duration": 15,
    "start_time": "2021-10-30T10:55:43.682Z"
   },
   {
    "duration": 88,
    "start_time": "2021-10-30T10:55:43.699Z"
   },
   {
    "duration": 1594,
    "start_time": "2021-10-30T10:55:43.790Z"
   },
   {
    "duration": 472,
    "start_time": "2021-10-30T10:55:45.387Z"
   },
   {
    "duration": -38,
    "start_time": "2021-10-30T10:55:45.900Z"
   },
   {
    "duration": -38,
    "start_time": "2021-10-30T10:55:45.901Z"
   },
   {
    "duration": -39,
    "start_time": "2021-10-30T10:55:45.903Z"
   },
   {
    "duration": -69,
    "start_time": "2021-10-30T10:55:45.935Z"
   },
   {
    "duration": -71,
    "start_time": "2021-10-30T10:55:45.938Z"
   },
   {
    "duration": 7,
    "start_time": "2021-10-30T10:58:38.548Z"
   },
   {
    "duration": 31,
    "start_time": "2021-10-30T10:58:57.128Z"
   },
   {
    "duration": 351,
    "start_time": "2021-10-30T11:00:06.093Z"
   },
   {
    "duration": 354,
    "start_time": "2021-10-30T11:00:30.619Z"
   },
   {
    "duration": 300,
    "start_time": "2021-10-31T07:49:56.993Z"
   },
   {
    "duration": 1864,
    "start_time": "2021-10-31T07:50:03.409Z"
   },
   {
    "duration": 7,
    "start_time": "2021-10-31T07:50:05.275Z"
   },
   {
    "duration": 389,
    "start_time": "2021-10-31T07:50:05.284Z"
   },
   {
    "duration": 73,
    "start_time": "2021-10-31T07:50:05.675Z"
   },
   {
    "duration": 110,
    "start_time": "2021-10-31T07:50:05.750Z"
   },
   {
    "duration": 385,
    "start_time": "2021-10-31T07:50:05.862Z"
   },
   {
    "duration": 15,
    "start_time": "2021-10-31T07:50:06.249Z"
   },
   {
    "duration": 114,
    "start_time": "2021-10-31T07:50:06.267Z"
   },
   {
    "duration": 291,
    "start_time": "2021-10-31T07:50:06.383Z"
   },
   {
    "duration": 10,
    "start_time": "2021-10-31T07:50:06.675Z"
   },
   {
    "duration": 92,
    "start_time": "2021-10-31T07:50:06.687Z"
   },
   {
    "duration": 35678,
    "start_time": "2021-10-31T07:50:06.781Z"
   },
   {
    "duration": 11,
    "start_time": "2021-10-31T07:50:42.461Z"
   },
   {
    "duration": 70,
    "start_time": "2021-10-31T07:50:42.473Z"
   },
   {
    "duration": 99,
    "start_time": "2021-10-31T07:50:42.546Z"
   },
   {
    "duration": 105,
    "start_time": "2021-10-31T07:50:42.647Z"
   },
   {
    "duration": 3,
    "start_time": "2021-10-31T07:50:42.754Z"
   },
   {
    "duration": 25,
    "start_time": "2021-10-31T07:50:42.759Z"
   },
   {
    "duration": 67,
    "start_time": "2021-10-31T07:50:42.786Z"
   },
   {
    "duration": 3,
    "start_time": "2021-10-31T07:50:42.855Z"
   },
   {
    "duration": 187,
    "start_time": "2021-10-31T07:50:42.861Z"
   },
   {
    "duration": 7,
    "start_time": "2021-10-31T07:50:43.051Z"
   },
   {
    "duration": 4,
    "start_time": "2021-10-31T07:50:43.062Z"
   },
   {
    "duration": 8,
    "start_time": "2021-10-31T07:50:43.068Z"
   },
   {
    "duration": 6,
    "start_time": "2021-10-31T07:50:43.078Z"
   },
   {
    "duration": 60,
    "start_time": "2021-10-31T07:50:43.086Z"
   },
   {
    "duration": 7,
    "start_time": "2021-10-31T07:50:43.148Z"
   },
   {
    "duration": 8,
    "start_time": "2021-10-31T07:50:43.158Z"
   },
   {
    "duration": 5,
    "start_time": "2021-10-31T07:50:43.168Z"
   },
   {
    "duration": 4,
    "start_time": "2021-10-31T07:50:43.174Z"
   },
   {
    "duration": 65,
    "start_time": "2021-10-31T07:50:43.180Z"
   },
   {
    "duration": 7601,
    "start_time": "2021-10-31T07:50:43.247Z"
   },
   {
    "duration": 7819,
    "start_time": "2021-10-31T07:50:50.850Z"
   },
   {
    "duration": 8990,
    "start_time": "2021-10-31T07:50:58.671Z"
   },
   {
    "duration": 82,
    "start_time": "2021-10-31T07:51:07.664Z"
   },
   {
    "duration": 8,
    "start_time": "2021-10-31T07:51:07.748Z"
   },
   {
    "duration": 109,
    "start_time": "2021-10-31T07:51:07.758Z"
   },
   {
    "duration": 104,
    "start_time": "2021-10-31T07:51:07.869Z"
   },
   {
    "duration": 6,
    "start_time": "2021-10-31T07:51:07.975Z"
   },
   {
    "duration": 68,
    "start_time": "2021-10-31T07:51:07.983Z"
   },
   {
    "duration": 100,
    "start_time": "2021-10-31T07:51:08.053Z"
   },
   {
    "duration": 1791,
    "start_time": "2021-10-31T07:51:08.155Z"
   },
   {
    "duration": 501,
    "start_time": "2021-10-31T07:51:09.948Z"
   },
   {
    "duration": -247,
    "start_time": "2021-10-31T07:51:10.697Z"
   },
   {
    "duration": -248,
    "start_time": "2021-10-31T07:51:10.699Z"
   },
   {
    "duration": -249,
    "start_time": "2021-10-31T07:51:10.701Z"
   },
   {
    "duration": -250,
    "start_time": "2021-10-31T07:51:10.703Z"
   },
   {
    "duration": -256,
    "start_time": "2021-10-31T07:51:10.710Z"
   },
   {
    "duration": 201,
    "start_time": "2021-10-31T07:51:51.851Z"
   },
   {
    "duration": 597,
    "start_time": "2021-10-31T07:52:31.946Z"
   },
   {
    "duration": 6094,
    "start_time": "2021-10-31T07:52:47.151Z"
   },
   {
    "duration": 8,
    "start_time": "2021-10-31T07:52:53.248Z"
   },
   {
    "duration": 518,
    "start_time": "2021-10-31T07:52:53.259Z"
   },
   {
    "duration": 19,
    "start_time": "2021-10-31T07:52:53.845Z"
   },
   {
    "duration": 293,
    "start_time": "2021-10-31T07:52:53.865Z"
   },
   {
    "duration": 326,
    "start_time": "2021-10-31T07:52:54.160Z"
   },
   {
    "duration": 69,
    "start_time": "2021-10-31T07:52:54.488Z"
   },
   {
    "duration": 90,
    "start_time": "2021-10-31T07:52:54.561Z"
   },
   {
    "duration": 512,
    "start_time": "2021-10-31T07:52:54.654Z"
   },
   {
    "duration": 10,
    "start_time": "2021-10-31T07:52:55.167Z"
   },
   {
    "duration": 177,
    "start_time": "2021-10-31T07:52:55.178Z"
   },
   {
    "duration": 89088,
    "start_time": "2021-10-31T07:52:55.357Z"
   },
   {
    "duration": 11,
    "start_time": "2021-10-31T07:54:24.447Z"
   },
   {
    "duration": 8,
    "start_time": "2021-10-31T07:54:24.546Z"
   },
   {
    "duration": 489,
    "start_time": "2021-10-31T07:54:24.556Z"
   },
   {
    "duration": 207,
    "start_time": "2021-10-31T07:54:25.046Z"
   },
   {
    "duration": 3,
    "start_time": "2021-10-31T07:54:25.255Z"
   },
   {
    "duration": 86,
    "start_time": "2021-10-31T07:54:25.260Z"
   },
   {
    "duration": 101,
    "start_time": "2021-10-31T07:54:25.348Z"
   },
   {
    "duration": 4,
    "start_time": "2021-10-31T07:54:25.451Z"
   },
   {
    "duration": 104,
    "start_time": "2021-10-31T07:54:25.546Z"
   },
   {
    "duration": 5,
    "start_time": "2021-10-31T07:54:25.652Z"
   },
   {
    "duration": 10,
    "start_time": "2021-10-31T07:54:25.659Z"
   },
   {
    "duration": 102,
    "start_time": "2021-10-31T07:54:25.745Z"
   },
   {
    "duration": 6,
    "start_time": "2021-10-31T07:54:25.849Z"
   },
   {
    "duration": 6,
    "start_time": "2021-10-31T07:54:25.860Z"
   },
   {
    "duration": 176,
    "start_time": "2021-10-31T07:54:25.868Z"
   },
   {
    "duration": 8,
    "start_time": "2021-10-31T07:54:26.047Z"
   },
   {
    "duration": 6,
    "start_time": "2021-10-31T07:54:26.058Z"
   },
   {
    "duration": 6,
    "start_time": "2021-10-31T07:54:26.066Z"
   },
   {
    "duration": 3,
    "start_time": "2021-10-31T07:54:26.145Z"
   },
   {
    "duration": 18704,
    "start_time": "2021-10-31T07:54:26.150Z"
   },
   {
    "duration": 11526,
    "start_time": "2021-10-31T07:54:44.855Z"
   },
   {
    "duration": 13768,
    "start_time": "2021-10-31T07:54:56.383Z"
   },
   {
    "duration": 116,
    "start_time": "2021-10-31T07:55:10.153Z"
   },
   {
    "duration": 7,
    "start_time": "2021-10-31T07:55:10.271Z"
   },
   {
    "duration": 97,
    "start_time": "2021-10-31T07:55:10.280Z"
   },
   {
    "duration": 87,
    "start_time": "2021-10-31T07:55:10.378Z"
   },
   {
    "duration": 4,
    "start_time": "2021-10-31T07:55:10.466Z"
   },
   {
    "duration": 10,
    "start_time": "2021-10-31T07:55:10.472Z"
   },
   {
    "duration": 162,
    "start_time": "2021-10-31T07:55:10.484Z"
   },
   {
    "duration": 1398,
    "start_time": "2021-10-31T07:55:10.648Z"
   },
   {
    "duration": 598,
    "start_time": "2021-10-31T07:55:12.048Z"
   },
   {
    "duration": -79,
    "start_time": "2021-10-31T07:55:12.727Z"
   },
   {
    "duration": -80,
    "start_time": "2021-10-31T07:55:12.729Z"
   },
   {
    "duration": -79,
    "start_time": "2021-10-31T07:55:12.730Z"
   },
   {
    "duration": -80,
    "start_time": "2021-10-31T07:55:12.732Z"
   },
   {
    "duration": -80,
    "start_time": "2021-10-31T07:55:12.733Z"
   },
   {
    "duration": 4110,
    "start_time": "2021-10-31T07:55:45.697Z"
   },
   {
    "duration": -594,
    "start_time": "2021-10-31T07:55:50.403Z"
   },
   {
    "duration": -593,
    "start_time": "2021-10-31T07:55:50.404Z"
   },
   {
    "duration": -594,
    "start_time": "2021-10-31T07:55:50.406Z"
   },
   {
    "duration": 9,
    "start_time": "2021-10-31T07:55:49.952Z"
   },
   {
    "duration": 11,
    "start_time": "2021-10-31T07:56:25.213Z"
   },
   {
    "duration": 9,
    "start_time": "2021-10-31T07:56:35.651Z"
   },
   {
    "duration": 4366,
    "start_time": "2021-10-31T07:58:34.352Z"
   },
   {
    "duration": 4167,
    "start_time": "2021-10-31T07:58:50.090Z"
   },
   {
    "duration": 6,
    "start_time": "2021-10-31T07:59:18.419Z"
   },
   {
    "duration": 8964,
    "start_time": "2021-10-31T07:59:51.009Z"
   },
   {
    "duration": 8603,
    "start_time": "2021-10-31T08:00:12.571Z"
   },
   {
    "duration": 400,
    "start_time": "2021-10-31T08:00:47.962Z"
   },
   {
    "duration": 263,
    "start_time": "2021-10-31T08:01:34.665Z"
   },
   {
    "duration": 27,
    "start_time": "2021-10-31T08:02:29.240Z"
   },
   {
    "duration": 7,
    "start_time": "2021-10-31T08:02:29.834Z"
   },
   {
    "duration": 35,
    "start_time": "2021-10-31T08:02:30.797Z"
   },
   {
    "duration": 47,
    "start_time": "2021-10-31T08:02:31.513Z"
   },
   {
    "duration": 5,
    "start_time": "2021-10-31T08:02:32.694Z"
   },
   {
    "duration": 8,
    "start_time": "2021-10-31T08:02:34.491Z"
   },
   {
    "duration": 102,
    "start_time": "2021-10-31T08:02:35.750Z"
   },
   {
    "duration": 1156,
    "start_time": "2021-10-31T08:02:37.290Z"
   },
   {
    "duration": 17,
    "start_time": "2021-10-31T08:04:23.260Z"
   },
   {
    "duration": 10,
    "start_time": "2021-10-31T08:04:24.143Z"
   },
   {
    "duration": 34,
    "start_time": "2021-10-31T08:04:24.330Z"
   },
   {
    "duration": 3,
    "start_time": "2021-10-31T08:04:24.796Z"
   },
   {
    "duration": 8,
    "start_time": "2021-10-31T08:04:25.452Z"
   },
   {
    "duration": 12,
    "start_time": "2021-10-31T08:04:26.045Z"
   },
   {
    "duration": 90,
    "start_time": "2021-10-31T08:04:26.855Z"
   },
   {
    "duration": 1143,
    "start_time": "2021-10-31T08:04:28.044Z"
   },
   {
    "duration": 10,
    "start_time": "2021-10-31T08:04:44.462Z"
   },
   {
    "duration": 22,
    "start_time": "2021-10-31T08:15:28.440Z"
   },
   {
    "duration": 22,
    "start_time": "2021-10-31T08:15:46.029Z"
   },
   {
    "duration": 23,
    "start_time": "2021-10-31T08:15:51.999Z"
   },
   {
    "duration": 1924,
    "start_time": "2021-10-31T08:16:12.639Z"
   },
   {
    "duration": 1974,
    "start_time": "2021-10-31T08:16:29.650Z"
   },
   {
    "duration": 303,
    "start_time": "2021-10-31T08:16:49.169Z"
   },
   {
    "duration": 28,
    "start_time": "2021-10-31T08:16:54.231Z"
   },
   {
    "duration": 352,
    "start_time": "2021-10-31T08:17:24.151Z"
   },
   {
    "duration": 285,
    "start_time": "2021-10-31T08:17:28.739Z"
   },
   {
    "duration": 21,
    "start_time": "2021-10-31T08:17:35.169Z"
   },
   {
    "duration": 83,
    "start_time": "2021-10-31T08:19:06.946Z"
   },
   {
    "duration": 707,
    "start_time": "2021-10-31T08:19:29.329Z"
   },
   {
    "duration": 191,
    "start_time": "2021-10-31T08:20:05.488Z"
   },
   {
    "duration": 596,
    "start_time": "2021-10-31T08:20:29.590Z"
   },
   {
    "duration": 454,
    "start_time": "2021-10-31T08:21:09.392Z"
   },
   {
    "duration": 7,
    "start_time": "2021-10-31T08:27:43.809Z"
   },
   {
    "duration": 3,
    "start_time": "2021-10-31T08:27:44.336Z"
   },
   {
    "duration": 30,
    "start_time": "2021-10-31T08:27:44.810Z"
   },
   {
    "duration": 38,
    "start_time": "2021-10-31T08:27:45.242Z"
   },
   {
    "duration": 15,
    "start_time": "2021-10-31T08:27:45.841Z"
   },
   {
    "duration": 3,
    "start_time": "2021-10-31T08:27:48.264Z"
   },
   {
    "duration": 30,
    "start_time": "2021-10-31T08:27:49.636Z"
   },
   {
    "duration": 38,
    "start_time": "2021-10-31T08:27:50.306Z"
   },
   {
    "duration": 4,
    "start_time": "2021-10-31T08:27:50.746Z"
   },
   {
    "duration": 19,
    "start_time": "2021-10-31T08:27:53.943Z"
   },
   {
    "duration": 7,
    "start_time": "2021-10-31T08:27:54.695Z"
   },
   {
    "duration": 4,
    "start_time": "2021-10-31T08:27:56.303Z"
   },
   {
    "duration": 7,
    "start_time": "2021-10-31T08:29:35.621Z"
   },
   {
    "duration": 11,
    "start_time": "2021-10-31T08:29:35.630Z"
   },
   {
    "duration": 30,
    "start_time": "2021-10-31T08:29:35.799Z"
   },
   {
    "duration": 32,
    "start_time": "2021-10-31T08:29:35.831Z"
   },
   {
    "duration": 10,
    "start_time": "2021-10-31T08:29:36.134Z"
   },
   {
    "duration": 3,
    "start_time": "2021-10-31T08:29:36.969Z"
   },
   {
    "duration": 18,
    "start_time": "2021-10-31T08:29:38.002Z"
   },
   {
    "duration": 8,
    "start_time": "2021-10-31T08:29:38.022Z"
   },
   {
    "duration": 4,
    "start_time": "2021-10-31T08:29:38.356Z"
   },
   {
    "duration": 16,
    "start_time": "2021-10-31T08:29:38.827Z"
   },
   {
    "duration": 6,
    "start_time": "2021-10-31T08:29:39.105Z"
   },
   {
    "duration": 4,
    "start_time": "2021-10-31T08:29:39.690Z"
   },
   {
    "duration": 7,
    "start_time": "2021-10-31T08:30:04.003Z"
   },
   {
    "duration": 11,
    "start_time": "2021-10-31T08:30:04.011Z"
   },
   {
    "duration": 29,
    "start_time": "2021-10-31T08:30:04.184Z"
   },
   {
    "duration": 5,
    "start_time": "2021-10-31T08:30:07.144Z"
   },
   {
    "duration": 23,
    "start_time": "2021-10-31T08:30:07.531Z"
   },
   {
    "duration": 11,
    "start_time": "2021-10-31T08:30:07.881Z"
   },
   {
    "duration": 3,
    "start_time": "2021-10-31T08:30:08.224Z"
   },
   {
    "duration": 14,
    "start_time": "2021-10-31T08:30:08.408Z"
   },
   {
    "duration": 6,
    "start_time": "2021-10-31T08:30:08.818Z"
   },
   {
    "duration": 4,
    "start_time": "2021-10-31T08:30:09.199Z"
   },
   {
    "duration": 9,
    "start_time": "2021-10-31T08:30:47.816Z"
   },
   {
    "duration": 3,
    "start_time": "2021-10-31T08:30:47.976Z"
   },
   {
    "duration": 38,
    "start_time": "2021-10-31T08:30:48.229Z"
   },
   {
    "duration": 24,
    "start_time": "2021-10-31T08:30:48.448Z"
   },
   {
    "duration": 10,
    "start_time": "2021-10-31T08:30:48.717Z"
   },
   {
    "duration": 2,
    "start_time": "2021-10-31T08:30:49.187Z"
   },
   {
    "duration": 20,
    "start_time": "2021-10-31T08:30:49.323Z"
   },
   {
    "duration": 11,
    "start_time": "2021-10-31T08:30:49.575Z"
   },
   {
    "duration": 5,
    "start_time": "2021-10-31T08:30:49.867Z"
   },
   {
    "duration": 14,
    "start_time": "2021-10-31T08:30:50.376Z"
   },
   {
    "duration": 6,
    "start_time": "2021-10-31T08:30:50.695Z"
   },
   {
    "duration": 4,
    "start_time": "2021-10-31T08:30:51.026Z"
   },
   {
    "duration": 7,
    "start_time": "2021-10-31T08:31:03.537Z"
   },
   {
    "duration": 2,
    "start_time": "2021-10-31T08:31:03.909Z"
   },
   {
    "duration": 29,
    "start_time": "2021-10-31T08:31:04.319Z"
   },
   {
    "duration": 3,
    "start_time": "2021-10-31T08:31:09.789Z"
   },
   {
    "duration": 20,
    "start_time": "2021-10-31T08:31:09.948Z"
   },
   {
    "duration": 18,
    "start_time": "2021-10-31T08:31:10.139Z"
   },
   {
    "duration": 3,
    "start_time": "2021-10-31T08:31:10.345Z"
   },
   {
    "duration": 15,
    "start_time": "2021-10-31T08:31:10.537Z"
   },
   {
    "duration": 7,
    "start_time": "2021-10-31T08:31:10.771Z"
   },
   {
    "duration": 4,
    "start_time": "2021-10-31T08:31:11.608Z"
   },
   {
    "duration": 25,
    "start_time": "2021-10-31T08:32:32.174Z"
   },
   {
    "duration": 7,
    "start_time": "2021-10-31T08:32:36.437Z"
   },
   {
    "duration": 34,
    "start_time": "2021-10-31T08:32:36.606Z"
   },
   {
    "duration": 6,
    "start_time": "2021-10-31T08:32:45.251Z"
   },
   {
    "duration": 101,
    "start_time": "2021-10-31T08:32:59.243Z"
   },
   {
    "duration": 851,
    "start_time": "2021-10-31T08:32:59.508Z"
   },
   {
    "duration": 682,
    "start_time": "2021-10-31T08:33:00.364Z"
   },
   {
    "duration": 500,
    "start_time": "2021-10-31T08:33:02.136Z"
   },
   {
    "duration": 433,
    "start_time": "2021-10-31T08:33:03.475Z"
   },
   {
    "duration": 12,
    "start_time": "2021-10-31T08:33:05.504Z"
   },
   {
    "duration": 2,
    "start_time": "2021-10-31T08:34:43.387Z"
   },
   {
    "duration": 3,
    "start_time": "2021-10-31T08:35:05.818Z"
   },
   {
    "duration": 3615,
    "start_time": "2021-10-31T08:35:07.158Z"
   },
   {
    "duration": 3,
    "start_time": "2021-10-31T08:37:57.851Z"
   },
   {
    "duration": 13,
    "start_time": "2021-10-31T08:37:58.120Z"
   },
   {
    "duration": 4,
    "start_time": "2021-10-31T08:37:58.896Z"
   },
   {
    "duration": 3,
    "start_time": "2021-10-31T08:37:59.181Z"
   },
   {
    "duration": 6,
    "start_time": "2021-10-31T08:37:59.730Z"
   },
   {
    "duration": 6,
    "start_time": "2021-10-31T08:38:00.256Z"
   },
   {
    "duration": 5,
    "start_time": "2021-10-31T08:38:00.751Z"
   },
   {
    "duration": 4,
    "start_time": "2021-10-31T08:38:01.102Z"
   },
   {
    "duration": 2,
    "start_time": "2021-10-31T08:38:01.502Z"
   },
   {
    "duration": 4,
    "start_time": "2021-10-31T08:38:01.641Z"
   },
   {
    "duration": 3333,
    "start_time": "2021-10-31T08:38:01.777Z"
   },
   {
    "duration": 3376,
    "start_time": "2021-10-31T08:38:05.112Z"
   },
   {
    "duration": 3316,
    "start_time": "2021-10-31T08:38:08.490Z"
   },
   {
    "duration": 2,
    "start_time": "2021-10-31T08:39:02.664Z"
   },
   {
    "duration": 114,
    "start_time": "2021-10-31T08:39:04.249Z"
   },
   {
    "duration": 8,
    "start_time": "2021-10-31T08:39:10.154Z"
   },
   {
    "duration": 3,
    "start_time": "2021-10-31T08:39:11.232Z"
   },
   {
    "duration": 4,
    "start_time": "2021-10-31T08:56:19.400Z"
   },
   {
    "duration": 3,
    "start_time": "2021-10-31T08:57:07.688Z"
   },
   {
    "duration": 4,
    "start_time": "2021-10-31T08:59:31.774Z"
   },
   {
    "duration": 5,
    "start_time": "2021-10-31T09:34:50.535Z"
   },
   {
    "duration": 4,
    "start_time": "2021-10-31T09:34:50.796Z"
   },
   {
    "duration": 4,
    "start_time": "2021-10-31T09:34:50.976Z"
   },
   {
    "duration": 957,
    "start_time": "2021-10-31T09:53:04.489Z"
   },
   {
    "duration": 20,
    "start_time": "2021-10-31T09:53:21.179Z"
   },
   {
    "duration": 8,
    "start_time": "2021-10-31T09:53:21.541Z"
   },
   {
    "duration": 29,
    "start_time": "2021-10-31T09:53:21.659Z"
   },
   {
    "duration": 2,
    "start_time": "2021-10-31T09:53:21.769Z"
   },
   {
    "duration": 5,
    "start_time": "2021-10-31T09:53:21.903Z"
   },
   {
    "duration": 3,
    "start_time": "2021-10-31T09:53:22.017Z"
   },
   {
    "duration": 92,
    "start_time": "2021-10-31T09:53:22.553Z"
   },
   {
    "duration": 988,
    "start_time": "2021-10-31T09:53:27.900Z"
   },
   {
    "duration": 1083,
    "start_time": "2021-10-31T09:54:16.063Z"
   },
   {
    "duration": 1063,
    "start_time": "2021-10-31T09:54:45.383Z"
   },
   {
    "duration": 1209,
    "start_time": "2021-10-31T09:54:54.840Z"
   },
   {
    "duration": 1102,
    "start_time": "2021-10-31T09:55:22.183Z"
   },
   {
    "duration": 1313,
    "start_time": "2021-10-31T09:55:44.346Z"
   },
   {
    "duration": 4,
    "start_time": "2021-10-31T10:17:16.357Z"
   },
   {
    "duration": 5,
    "start_time": "2021-10-31T10:17:46.218Z"
   },
   {
    "duration": 6,
    "start_time": "2021-10-31T10:18:14.382Z"
   },
   {
    "duration": 5,
    "start_time": "2021-10-31T10:18:21.827Z"
   },
   {
    "duration": 103,
    "start_time": "2021-10-31T10:21:54.732Z"
   },
   {
    "duration": 38296,
    "start_time": "2021-10-31T10:22:08.893Z"
   },
   {
    "duration": 4,
    "start_time": "2021-10-31T10:22:47.192Z"
   },
   {
    "duration": 39791,
    "start_time": "2021-10-31T11:09:39.731Z"
   },
   {
    "duration": 41449,
    "start_time": "2021-10-31T11:10:19.524Z"
   },
   {
    "duration": 4,
    "start_time": "2021-10-31T11:27:44.950Z"
   },
   {
    "duration": 4,
    "start_time": "2021-10-31T11:27:45.311Z"
   },
   {
    "duration": 135,
    "start_time": "2021-10-31T11:27:45.507Z"
   },
   {
    "duration": 11,
    "start_time": "2021-10-31T11:27:45.765Z"
   },
   {
    "duration": 37,
    "start_time": "2021-10-31T11:27:46.066Z"
   },
   {
    "duration": 135,
    "start_time": "2021-10-31T11:27:47.193Z"
   },
   {
    "duration": 10,
    "start_time": "2021-10-31T11:27:47.873Z"
   },
   {
    "duration": 33,
    "start_time": "2021-10-31T11:27:48.835Z"
   },
   {
    "duration": 123,
    "start_time": "2021-10-31T11:27:49.744Z"
   },
   {
    "duration": 10,
    "start_time": "2021-10-31T11:27:50.121Z"
   },
   {
    "duration": 35,
    "start_time": "2021-10-31T11:27:50.265Z"
   },
   {
    "duration": 7,
    "start_time": "2021-10-31T11:27:55.026Z"
   },
   {
    "duration": 3,
    "start_time": "2021-10-31T11:27:56.076Z"
   },
   {
    "duration": 29,
    "start_time": "2021-10-31T11:27:57.154Z"
   },
   {
    "duration": 3,
    "start_time": "2021-10-31T11:28:03.333Z"
   },
   {
    "duration": 19,
    "start_time": "2021-10-31T11:28:04.127Z"
   },
   {
    "duration": 20,
    "start_time": "2021-10-31T11:28:04.725Z"
   },
   {
    "duration": 3,
    "start_time": "2021-10-31T11:28:05.165Z"
   },
   {
    "duration": 16,
    "start_time": "2021-10-31T11:28:06.055Z"
   },
   {
    "duration": 6,
    "start_time": "2021-10-31T11:28:07.266Z"
   },
   {
    "duration": 36190,
    "start_time": "2021-10-31T11:28:14.747Z"
   },
   {
    "duration": 10,
    "start_time": "2021-10-31T11:28:50.938Z"
   },
   {
    "duration": 33397,
    "start_time": "2021-10-31T11:28:50.950Z"
   },
   {
    "duration": 4,
    "start_time": "2021-10-31T11:29:24.349Z"
   },
   {
    "duration": 35816,
    "start_time": "2021-10-31T11:29:24.355Z"
   },
   {
    "duration": 5,
    "start_time": "2021-10-31T11:30:00.172Z"
   },
   {
    "duration": 24,
    "start_time": "2021-10-31T11:30:00.179Z"
   },
   {
    "duration": 261,
    "start_time": "2021-10-31T11:33:18.019Z"
   },
   {
    "duration": 7,
    "start_time": "2021-10-31T11:33:31.157Z"
   },
   {
    "duration": 80,
    "start_time": "2021-10-31T11:33:54.185Z"
   },
   {
    "duration": 8,
    "start_time": "2021-10-31T11:33:58.593Z"
   },
   {
    "duration": 9,
    "start_time": "2021-10-31T11:35:34.554Z"
   },
   {
    "duration": 13,
    "start_time": "2021-10-31T11:36:49.329Z"
   },
   {
    "duration": 8,
    "start_time": "2021-10-31T11:37:13.440Z"
   },
   {
    "duration": 9,
    "start_time": "2021-10-31T11:37:56.897Z"
   },
   {
    "duration": 9,
    "start_time": "2021-10-31T11:39:02.826Z"
   },
   {
    "duration": 4,
    "start_time": "2021-10-31T11:40:22.191Z"
   },
   {
    "duration": 4,
    "start_time": "2021-10-31T11:57:32.884Z"
   },
   {
    "duration": 834,
    "start_time": "2021-10-31T11:57:44.323Z"
   },
   {
    "duration": 5,
    "start_time": "2021-10-31T12:50:12.283Z"
   },
   {
    "duration": 30,
    "start_time": "2021-10-31T12:50:13.193Z"
   },
   {
    "duration": 2,
    "start_time": "2021-10-31T12:50:13.714Z"
   },
   {
    "duration": 2,
    "start_time": "2021-10-31T12:50:14.361Z"
   },
   {
    "duration": 783,
    "start_time": "2021-10-31T12:50:17.080Z"
   },
   {
    "duration": 856,
    "start_time": "2021-10-31T12:51:14.603Z"
   },
   {
    "duration": 759,
    "start_time": "2021-10-31T12:53:17.591Z"
   },
   {
    "duration": 2,
    "start_time": "2021-10-31T13:29:57.647Z"
   },
   {
    "duration": 3,
    "start_time": "2021-10-31T13:29:59.596Z"
   },
   {
    "duration": 12,
    "start_time": "2021-10-31T13:33:26.607Z"
   },
   {
    "duration": 1252,
    "start_time": "2021-10-31T13:48:27.747Z"
   },
   {
    "duration": 13,
    "start_time": "2021-10-31T13:48:48.187Z"
   },
   {
    "duration": 5,
    "start_time": "2021-10-31T13:48:48.536Z"
   },
   {
    "duration": 71,
    "start_time": "2021-10-31T13:48:49.096Z"
   },
   {
    "duration": 1266,
    "start_time": "2021-10-31T13:48:55.045Z"
   },
   {
    "duration": 12,
    "start_time": "2021-10-31T14:41:44.972Z"
   },
   {
    "duration": 5,
    "start_time": "2021-10-31T14:41:45.414Z"
   },
   {
    "duration": 29,
    "start_time": "2021-10-31T14:41:45.954Z"
   },
   {
    "duration": 3,
    "start_time": "2021-10-31T14:41:46.381Z"
   },
   {
    "duration": 2,
    "start_time": "2021-10-31T14:41:46.763Z"
   },
   {
    "duration": 3,
    "start_time": "2021-10-31T14:41:47.731Z"
   },
   {
    "duration": 807,
    "start_time": "2021-10-31T14:41:49.052Z"
   },
   {
    "duration": 25,
    "start_time": "2021-10-31T14:41:59.972Z"
   },
   {
    "duration": 98,
    "start_time": "2021-10-31T14:42:33.842Z"
   },
   {
    "duration": 251,
    "start_time": "2021-10-31T14:43:31.262Z"
   },
   {
    "duration": 283,
    "start_time": "2021-10-31T14:43:38.003Z"
   },
   {
    "duration": 23,
    "start_time": "2021-10-31T14:44:03.721Z"
   },
   {
    "duration": 124,
    "start_time": "2021-10-31T14:44:21.652Z"
   },
   {
    "duration": 10675,
    "start_time": "2021-10-31T14:44:27.252Z"
   },
   {
    "duration": 656,
    "start_time": "2021-10-31T15:19:05.590Z"
   },
   {
    "duration": 9,
    "start_time": "2021-10-31T15:19:25.351Z"
   },
   {
    "duration": 7,
    "start_time": "2021-10-31T15:20:27.939Z"
   },
   {
    "duration": 13,
    "start_time": "2021-10-31T15:21:43.241Z"
   },
   {
    "duration": 252,
    "start_time": "2021-10-31T15:22:07.194Z"
   },
   {
    "duration": 18,
    "start_time": "2021-10-31T15:22:15.184Z"
   },
   {
    "duration": 4,
    "start_time": "2021-10-31T15:22:40.080Z"
   },
   {
    "duration": 1195,
    "start_time": "2021-10-31T16:51:47.623Z"
   },
   {
    "duration": 135,
    "start_time": "2021-10-31T16:51:48.820Z"
   },
   {
    "duration": 9,
    "start_time": "2021-10-31T16:51:48.957Z"
   },
   {
    "duration": 57,
    "start_time": "2021-10-31T16:51:48.968Z"
   },
   {
    "duration": 127,
    "start_time": "2021-10-31T16:51:49.026Z"
   },
   {
    "duration": 9,
    "start_time": "2021-10-31T16:51:49.154Z"
   },
   {
    "duration": 39,
    "start_time": "2021-10-31T16:51:49.165Z"
   },
   {
    "duration": 139,
    "start_time": "2021-10-31T16:51:49.205Z"
   },
   {
    "duration": 10,
    "start_time": "2021-10-31T16:51:49.347Z"
   },
   {
    "duration": 49,
    "start_time": "2021-10-31T16:51:49.359Z"
   },
   {
    "duration": 16313,
    "start_time": "2021-10-31T16:51:49.410Z"
   },
   {
    "duration": 20,
    "start_time": "2021-10-31T16:52:05.725Z"
   },
   {
    "duration": 17,
    "start_time": "2021-10-31T16:52:05.746Z"
   },
   {
    "duration": 56,
    "start_time": "2021-10-31T16:52:05.765Z"
   },
   {
    "duration": 3,
    "start_time": "2021-10-31T16:52:05.822Z"
   },
   {
    "duration": 9,
    "start_time": "2021-10-31T16:52:05.826Z"
   },
   {
    "duration": 6,
    "start_time": "2021-10-31T16:52:05.837Z"
   },
   {
    "duration": 24,
    "start_time": "2021-10-31T16:52:05.845Z"
   },
   {
    "duration": 8,
    "start_time": "2021-10-31T16:52:05.871Z"
   },
   {
    "duration": 4,
    "start_time": "2021-10-31T16:52:05.950Z"
   },
   {
    "duration": 21,
    "start_time": "2021-10-31T16:52:06.046Z"
   },
   {
    "duration": 13,
    "start_time": "2021-10-31T16:52:06.068Z"
   },
   {
    "duration": 100,
    "start_time": "2021-10-31T16:52:06.148Z"
   },
   {
    "duration": 36439,
    "start_time": "2021-10-31T16:52:06.250Z"
   },
   {
    "duration": 6,
    "start_time": "2021-10-31T16:52:42.690Z"
   },
   {
    "duration": 49,
    "start_time": "2021-10-31T16:52:42.697Z"
   },
   {
    "duration": 99,
    "start_time": "2021-10-31T16:52:42.754Z"
   },
   {
    "duration": 34160,
    "start_time": "2021-10-31T16:52:42.856Z"
   },
   {
    "duration": 5,
    "start_time": "2021-10-31T16:53:17.018Z"
   },
   {
    "duration": 28,
    "start_time": "2021-10-31T16:53:17.025Z"
   },
   {
    "duration": 188,
    "start_time": "2021-10-31T16:53:17.055Z"
   },
   {
    "duration": 39063,
    "start_time": "2021-10-31T16:53:17.247Z"
   },
   {
    "duration": 6,
    "start_time": "2021-10-31T16:53:56.312Z"
   },
   {
    "duration": 27,
    "start_time": "2021-10-31T16:53:56.319Z"
   },
   {
    "duration": 17,
    "start_time": "2021-10-31T16:53:56.348Z"
   },
   {
    "duration": 16,
    "start_time": "2021-10-31T16:53:56.367Z"
   },
   {
    "duration": 22,
    "start_time": "2021-10-31T16:53:56.384Z"
   },
   {
    "duration": 102,
    "start_time": "2021-10-31T16:53:56.446Z"
   },
   {
    "duration": 23,
    "start_time": "2021-10-31T16:53:56.549Z"
   },
   {
    "duration": 26,
    "start_time": "2021-10-31T16:53:56.574Z"
   },
   {
    "duration": 3365,
    "start_time": "2021-10-31T16:53:56.602Z"
   },
   {
    "duration": 8,
    "start_time": "2021-10-31T16:53:59.969Z"
   },
   {
    "duration": 3341,
    "start_time": "2021-10-31T16:53:59.978Z"
   },
   {
    "duration": 3115,
    "start_time": "2021-10-31T16:54:03.320Z"
   },
   {
    "duration": 14,
    "start_time": "2021-10-31T16:54:06.445Z"
   },
   {
    "duration": 7,
    "start_time": "2021-10-31T16:54:06.461Z"
   },
   {
    "duration": 70,
    "start_time": "2021-10-31T16:54:06.470Z"
   },
   {
    "duration": 2,
    "start_time": "2021-10-31T16:54:06.543Z"
   },
   {
    "duration": 36,
    "start_time": "2021-10-31T16:54:06.546Z"
   },
   {
    "duration": 22,
    "start_time": "2021-10-31T16:54:06.584Z"
   },
   {
    "duration": 870,
    "start_time": "2021-10-31T16:54:06.608Z"
   },
   {
    "duration": 390,
    "start_time": "2021-10-31T16:54:07.546Z"
   },
   {
    "duration": -206,
    "start_time": "2021-10-31T16:54:08.144Z"
   },
   {
    "duration": -207,
    "start_time": "2021-10-31T16:54:08.146Z"
   },
   {
    "duration": -208,
    "start_time": "2021-10-31T16:54:08.148Z"
   },
   {
    "duration": -208,
    "start_time": "2021-10-31T16:54:08.149Z"
   },
   {
    "duration": -210,
    "start_time": "2021-10-31T16:54:08.152Z"
   },
   {
    "duration": -211,
    "start_time": "2021-10-31T16:54:08.154Z"
   },
   {
    "duration": -211,
    "start_time": "2021-10-31T16:54:08.156Z"
   },
   {
    "duration": 122,
    "start_time": "2021-10-31T16:56:09.324Z"
   },
   {
    "duration": 87,
    "start_time": "2021-10-31T16:56:09.783Z"
   },
   {
    "duration": 1150,
    "start_time": "2021-10-31T16:56:10.296Z"
   },
   {
    "duration": 98,
    "start_time": "2021-10-31T16:56:11.448Z"
   },
   {
    "duration": 597,
    "start_time": "2021-10-31T16:56:11.548Z"
   },
   {
    "duration": 3420,
    "start_time": "2021-10-31T16:56:18.525Z"
   },
   {
    "duration": 699,
    "start_time": "2021-10-31T16:56:21.947Z"
   },
   {
    "duration": 11,
    "start_time": "2021-10-31T16:56:22.648Z"
   },
   {
    "duration": 723,
    "start_time": "2021-10-31T16:56:22.661Z"
   },
   {
    "duration": 9,
    "start_time": "2021-10-31T16:56:23.386Z"
   },
   {
    "duration": 6,
    "start_time": "2021-10-31T16:56:23.397Z"
   },
   {
    "duration": 270,
    "start_time": "2021-10-31T16:56:23.405Z"
   },
   {
    "duration": 840,
    "start_time": "2021-10-31T16:56:52.006Z"
   },
   {
    "duration": 936,
    "start_time": "2021-10-31T16:57:05.409Z"
   },
   {
    "duration": 934,
    "start_time": "2021-10-31T16:57:13.846Z"
   },
   {
    "duration": 899,
    "start_time": "2021-10-31T16:58:09.583Z"
   },
   {
    "duration": 915,
    "start_time": "2021-10-31T16:58:17.470Z"
   },
   {
    "duration": 16,
    "start_time": "2021-10-31T16:58:36.064Z"
   },
   {
    "duration": 14,
    "start_time": "2021-10-31T16:58:43.766Z"
   },
   {
    "duration": 848,
    "start_time": "2021-10-31T16:58:51.925Z"
   },
   {
    "duration": 16,
    "start_time": "2021-10-31T16:58:55.334Z"
   },
   {
    "duration": 3390,
    "start_time": "2021-10-31T16:58:57.157Z"
   },
   {
    "duration": 1176,
    "start_time": "2021-10-31T16:59:00.549Z"
   },
   {
    "duration": 9,
    "start_time": "2021-10-31T16:59:01.728Z"
   },
   {
    "duration": 746,
    "start_time": "2021-10-31T16:59:01.739Z"
   },
   {
    "duration": 11,
    "start_time": "2021-10-31T16:59:02.487Z"
   },
   {
    "duration": 3,
    "start_time": "2021-10-31T16:59:02.991Z"
   },
   {
    "duration": 271,
    "start_time": "2021-10-31T16:59:04.148Z"
   },
   {
    "duration": 344,
    "start_time": "2021-10-31T16:59:25.007Z"
   },
   {
    "duration": 298,
    "start_time": "2021-10-31T17:01:22.646Z"
   },
   {
    "duration": 260,
    "start_time": "2021-10-31T17:02:03.489Z"
   },
   {
    "duration": 280,
    "start_time": "2021-10-31T17:03:11.813Z"
   },
   {
    "duration": 3,
    "start_time": "2021-10-31T17:36:46.775Z"
   },
   {
    "duration": 3297,
    "start_time": "2021-10-31T17:36:46.780Z"
   },
   {
    "duration": 8,
    "start_time": "2021-10-31T17:36:50.079Z"
   },
   {
    "duration": 3020,
    "start_time": "2021-10-31T17:37:26.296Z"
   },
   {
    "duration": 3058,
    "start_time": "2021-10-31T17:40:10.517Z"
   },
   {
    "duration": 3247,
    "start_time": "2021-10-31T17:40:13.577Z"
   },
   {
    "duration": 3186,
    "start_time": "2021-10-31T17:40:16.826Z"
   },
   {
    "duration": 2988,
    "start_time": "2021-10-31T17:43:25.186Z"
   },
   {
    "duration": 3133,
    "start_time": "2021-10-31T17:43:28.175Z"
   },
   {
    "duration": 3017,
    "start_time": "2021-10-31T17:43:31.310Z"
   },
   {
    "duration": 8,
    "start_time": "2021-10-31T17:44:27.842Z"
   },
   {
    "duration": 8,
    "start_time": "2021-10-31T17:44:28.097Z"
   },
   {
    "duration": 16,
    "start_time": "2021-10-31T17:44:28.107Z"
   },
   {
    "duration": 78,
    "start_time": "2021-10-31T17:54:12.163Z"
   },
   {
    "duration": 268,
    "start_time": "2021-10-31T17:54:34.398Z"
   },
   {
    "duration": 4986,
    "start_time": "2021-10-31T17:54:48.251Z"
   },
   {
    "duration": 4771,
    "start_time": "2021-10-31T17:55:47.015Z"
   },
   {
    "duration": 254,
    "start_time": "2021-10-31T17:56:33.295Z"
   },
   {
    "duration": 3005,
    "start_time": "2021-10-31T17:57:21.126Z"
   },
   {
    "duration": 3151,
    "start_time": "2021-10-31T17:59:57.710Z"
   },
   {
    "duration": 3242,
    "start_time": "2021-10-31T18:00:00.862Z"
   },
   {
    "duration": 3319,
    "start_time": "2021-10-31T18:00:04.106Z"
   },
   {
    "duration": 3092,
    "start_time": "2021-10-31T18:00:18.126Z"
   },
   {
    "duration": 2977,
    "start_time": "2021-10-31T18:00:23.310Z"
   },
   {
    "duration": 4186,
    "start_time": "2021-10-31T18:00:40.916Z"
   },
   {
    "duration": 3113,
    "start_time": "2021-10-31T18:01:09.961Z"
   },
   {
    "duration": 2987,
    "start_time": "2021-10-31T18:01:18.763Z"
   },
   {
    "duration": 3104,
    "start_time": "2021-10-31T18:01:51.116Z"
   },
   {
    "duration": 3077,
    "start_time": "2021-10-31T18:01:54.222Z"
   },
   {
    "duration": 3093,
    "start_time": "2021-10-31T18:01:57.303Z"
   },
   {
    "duration": 681,
    "start_time": "2021-10-31T18:12:57.563Z"
   },
   {
    "duration": 648,
    "start_time": "2021-10-31T18:13:09.398Z"
   },
   {
    "duration": 464,
    "start_time": "2021-10-31T18:14:48.324Z"
   },
   {
    "duration": 752,
    "start_time": "2021-10-31T18:15:23.886Z"
   },
   {
    "duration": 1185,
    "start_time": "2021-10-31T18:15:53.521Z"
   },
   {
    "duration": 140,
    "start_time": "2021-10-31T18:15:54.708Z"
   },
   {
    "duration": 10,
    "start_time": "2021-10-31T18:15:54.850Z"
   },
   {
    "duration": 35,
    "start_time": "2021-10-31T18:15:54.861Z"
   },
   {
    "duration": 128,
    "start_time": "2021-10-31T18:15:54.897Z"
   },
   {
    "duration": 22,
    "start_time": "2021-10-31T18:15:55.027Z"
   },
   {
    "duration": 36,
    "start_time": "2021-10-31T18:15:55.051Z"
   },
   {
    "duration": 129,
    "start_time": "2021-10-31T18:15:55.088Z"
   },
   {
    "duration": 9,
    "start_time": "2021-10-31T18:15:55.220Z"
   },
   {
    "duration": 47,
    "start_time": "2021-10-31T18:15:55.231Z"
   },
   {
    "duration": 15469,
    "start_time": "2021-10-31T18:15:55.280Z"
   },
   {
    "duration": 11,
    "start_time": "2021-10-31T18:16:10.751Z"
   },
   {
    "duration": 12,
    "start_time": "2021-10-31T18:16:10.763Z"
   },
   {
    "duration": 37,
    "start_time": "2021-10-31T18:16:10.776Z"
   },
   {
    "duration": 2,
    "start_time": "2021-10-31T18:16:10.815Z"
   },
   {
    "duration": 7,
    "start_time": "2021-10-31T18:16:10.818Z"
   },
   {
    "duration": 2,
    "start_time": "2021-10-31T18:16:10.845Z"
   },
   {
    "duration": 24,
    "start_time": "2021-10-31T18:16:10.849Z"
   },
   {
    "duration": 78,
    "start_time": "2021-10-31T18:16:10.875Z"
   },
   {
    "duration": 4,
    "start_time": "2021-10-31T18:16:11.045Z"
   },
   {
    "duration": 105,
    "start_time": "2021-10-31T18:16:11.051Z"
   },
   {
    "duration": 7,
    "start_time": "2021-10-31T18:16:11.158Z"
   },
   {
    "duration": 83,
    "start_time": "2021-10-31T18:16:11.168Z"
   },
   {
    "duration": 36768,
    "start_time": "2021-10-31T18:16:11.253Z"
   },
   {
    "duration": 6,
    "start_time": "2021-10-31T18:16:48.022Z"
   },
   {
    "duration": 22,
    "start_time": "2021-10-31T18:16:48.029Z"
   },
   {
    "duration": 101,
    "start_time": "2021-10-31T18:16:48.057Z"
   },
   {
    "duration": 33189,
    "start_time": "2021-10-31T18:16:48.247Z"
   },
   {
    "duration": 10,
    "start_time": "2021-10-31T18:17:21.438Z"
   },
   {
    "duration": 10,
    "start_time": "2021-10-31T18:17:21.450Z"
   },
   {
    "duration": 92,
    "start_time": "2021-10-31T18:17:21.462Z"
   },
   {
    "duration": 35919,
    "start_time": "2021-10-31T18:17:21.646Z"
   },
   {
    "duration": 5,
    "start_time": "2021-10-31T18:17:57.567Z"
   },
   {
    "duration": 7,
    "start_time": "2021-10-31T18:17:57.574Z"
   },
   {
    "duration": 12,
    "start_time": "2021-10-31T18:17:57.582Z"
   },
   {
    "duration": 11,
    "start_time": "2021-10-31T18:17:57.596Z"
   },
   {
    "duration": 49,
    "start_time": "2021-10-31T18:17:57.608Z"
   },
   {
    "duration": 8,
    "start_time": "2021-10-31T18:17:57.745Z"
   },
   {
    "duration": 94,
    "start_time": "2021-10-31T18:17:57.755Z"
   },
   {
    "duration": -28570,
    "start_time": "2021-10-31T18:18:26.536Z"
   },
   {
    "duration": -28572,
    "start_time": "2021-10-31T18:18:26.539Z"
   },
   {
    "duration": -28579,
    "start_time": "2021-10-31T18:18:26.547Z"
   },
   {
    "duration": -28579,
    "start_time": "2021-10-31T18:18:26.549Z"
   },
   {
    "duration": -28580,
    "start_time": "2021-10-31T18:18:26.551Z"
   },
   {
    "duration": -28580,
    "start_time": "2021-10-31T18:18:26.553Z"
   },
   {
    "duration": -28591,
    "start_time": "2021-10-31T18:18:26.565Z"
   },
   {
    "duration": -28625,
    "start_time": "2021-10-31T18:18:26.600Z"
   },
   {
    "duration": -28625,
    "start_time": "2021-10-31T18:18:26.602Z"
   },
   {
    "duration": -28645,
    "start_time": "2021-10-31T18:18:26.623Z"
   },
   {
    "duration": -28645,
    "start_time": "2021-10-31T18:18:26.625Z"
   },
   {
    "duration": -28653,
    "start_time": "2021-10-31T18:18:26.634Z"
   },
   {
    "duration": -28654,
    "start_time": "2021-10-31T18:18:26.636Z"
   },
   {
    "duration": -28655,
    "start_time": "2021-10-31T18:18:26.639Z"
   },
   {
    "duration": -28655,
    "start_time": "2021-10-31T18:18:26.640Z"
   },
   {
    "duration": -28655,
    "start_time": "2021-10-31T18:18:26.642Z"
   },
   {
    "duration": -28704,
    "start_time": "2021-10-31T18:18:26.692Z"
   },
   {
    "duration": -28705,
    "start_time": "2021-10-31T18:18:26.695Z"
   },
   {
    "duration": -28706,
    "start_time": "2021-10-31T18:18:26.697Z"
   },
   {
    "duration": -28707,
    "start_time": "2021-10-31T18:18:26.699Z"
   },
   {
    "duration": -28706,
    "start_time": "2021-10-31T18:18:26.700Z"
   },
   {
    "duration": -28716,
    "start_time": "2021-10-31T18:18:26.711Z"
   },
   {
    "duration": -28716,
    "start_time": "2021-10-31T18:18:26.713Z"
   },
   {
    "duration": -28717,
    "start_time": "2021-10-31T18:18:26.715Z"
   },
   {
    "duration": 2,
    "start_time": "2021-10-31T18:19:10.941Z"
   },
   {
    "duration": 3,
    "start_time": "2021-10-31T18:21:19.813Z"
   },
   {
    "duration": 3037,
    "start_time": "2021-10-31T18:21:21.333Z"
   },
   {
    "duration": 3142,
    "start_time": "2021-10-31T18:21:24.372Z"
   },
   {
    "duration": 3008,
    "start_time": "2021-10-31T18:21:27.517Z"
   },
   {
    "duration": 8,
    "start_time": "2021-10-31T18:21:30.526Z"
   },
   {
    "duration": 19,
    "start_time": "2021-10-31T18:21:30.545Z"
   },
   {
    "duration": 12,
    "start_time": "2021-10-31T18:21:30.566Z"
   },
   {
    "duration": 22,
    "start_time": "2021-10-31T18:21:30.579Z"
   },
   {
    "duration": 10,
    "start_time": "2021-10-31T18:21:30.603Z"
   },
   {
    "duration": 56,
    "start_time": "2021-10-31T18:21:30.615Z"
   },
   {
    "duration": 2,
    "start_time": "2021-10-31T18:21:30.673Z"
   },
   {
    "duration": 17,
    "start_time": "2021-10-31T18:21:30.677Z"
   },
   {
    "duration": 11,
    "start_time": "2021-10-31T18:21:30.696Z"
   },
   {
    "duration": 938,
    "start_time": "2021-10-31T18:21:30.709Z"
   },
   {
    "duration": 111,
    "start_time": "2021-10-31T18:21:31.654Z"
   },
   {
    "duration": 10556,
    "start_time": "2021-10-31T18:21:31.767Z"
   },
   {
    "duration": 1222,
    "start_time": "2021-10-31T18:21:42.324Z"
   },
   {
    "duration": 9,
    "start_time": "2021-10-31T18:21:43.547Z"
   },
   {
    "duration": 688,
    "start_time": "2021-10-31T18:21:43.557Z"
   },
   {
    "duration": 7,
    "start_time": "2021-10-31T18:21:44.247Z"
   },
   {
    "duration": 6,
    "start_time": "2021-10-31T18:21:44.256Z"
   },
   {
    "duration": 388,
    "start_time": "2021-10-31T18:21:44.264Z"
   },
   {
    "duration": 548,
    "start_time": "2021-10-31T18:21:44.669Z"
   },
   {
    "duration": 341,
    "start_time": "2021-10-31T18:45:22.642Z"
   },
   {
    "duration": 56,
    "start_time": "2021-10-31T18:48:58.603Z"
   },
   {
    "duration": 13,
    "start_time": "2021-10-31T18:50:39.882Z"
   },
   {
    "duration": 50,
    "start_time": "2021-10-31T18:52:45.201Z"
   },
   {
    "duration": 58,
    "start_time": "2021-10-31T18:53:02.391Z"
   },
   {
    "duration": 63,
    "start_time": "2021-10-31T18:53:08.545Z"
   },
   {
    "duration": 94,
    "start_time": "2021-10-31T18:53:40.404Z"
   },
   {
    "duration": 59,
    "start_time": "2021-10-31T18:53:46.389Z"
   },
   {
    "duration": 292,
    "start_time": "2021-10-31T18:53:52.843Z"
   },
   {
    "duration": 324,
    "start_time": "2021-10-31T18:53:58.962Z"
   },
   {
    "duration": 57,
    "start_time": "2021-10-31T18:54:08.342Z"
   },
   {
    "duration": 65,
    "start_time": "2021-10-31T19:02:46.280Z"
   },
   {
    "duration": 65,
    "start_time": "2021-10-31T19:03:35.603Z"
   },
   {
    "duration": 15,
    "start_time": "2021-10-31T19:06:50.269Z"
   },
   {
    "duration": 45,
    "start_time": "2021-10-31T19:08:39.998Z"
   },
   {
    "duration": 12,
    "start_time": "2021-10-31T19:08:40.045Z"
   },
   {
    "duration": 61,
    "start_time": "2021-10-31T19:08:55.000Z"
   },
   {
    "duration": 14,
    "start_time": "2021-10-31T19:08:56.195Z"
   },
   {
    "duration": 15,
    "start_time": "2021-10-31T19:09:21.622Z"
   },
   {
    "duration": 10,
    "start_time": "2021-10-31T19:09:22.969Z"
   },
   {
    "duration": 281,
    "start_time": "2021-10-31T19:10:35.400Z"
   },
   {
    "duration": -138,
    "start_time": "2021-10-31T19:10:35.822Z"
   },
   {
    "duration": 133,
    "start_time": "2021-10-31T19:11:05.908Z"
   },
   {
    "duration": 64,
    "start_time": "2021-10-31T19:11:06.742Z"
   },
   {
    "duration": 13,
    "start_time": "2021-10-31T19:11:10.901Z"
   },
   {
    "duration": 21,
    "start_time": "2021-10-31T19:11:14.929Z"
   },
   {
    "duration": 10,
    "start_time": "2021-10-31T19:11:21.759Z"
   },
   {
    "duration": 33,
    "start_time": "2021-10-31T19:11:24.849Z"
   },
   {
    "duration": 123,
    "start_time": "2021-10-31T19:11:30.130Z"
   },
   {
    "duration": 9,
    "start_time": "2021-10-31T19:11:34.841Z"
   },
   {
    "duration": 35,
    "start_time": "2021-10-31T19:11:37.360Z"
   },
   {
    "duration": 22,
    "start_time": "2021-10-31T19:12:01.888Z"
   },
   {
    "duration": 12,
    "start_time": "2021-10-31T19:12:27.659Z"
   },
   {
    "duration": 24,
    "start_time": "2021-10-31T19:12:47.954Z"
   },
   {
    "duration": 10,
    "start_time": "2021-10-31T19:12:47.980Z"
   },
   {
    "duration": 1245,
    "start_time": "2021-10-31T19:13:16.212Z"
   },
   {
    "duration": 135,
    "start_time": "2021-10-31T19:13:17.459Z"
   },
   {
    "duration": 69,
    "start_time": "2021-10-31T19:13:17.596Z"
   },
   {
    "duration": 13,
    "start_time": "2021-10-31T19:13:17.667Z"
   },
   {
    "duration": 25,
    "start_time": "2021-10-31T19:13:17.682Z"
   },
   {
    "duration": 10,
    "start_time": "2021-10-31T19:13:17.709Z"
   },
   {
    "duration": 39,
    "start_time": "2021-10-31T19:13:17.744Z"
   },
   {
    "duration": 142,
    "start_time": "2021-10-31T19:13:17.785Z"
   },
   {
    "duration": 28,
    "start_time": "2021-10-31T19:13:17.929Z"
   },
   {
    "duration": 11,
    "start_time": "2021-10-31T19:13:17.959Z"
   },
   {
    "duration": 39,
    "start_time": "2021-10-31T19:13:17.972Z"
   },
   {
    "duration": 90,
    "start_time": "2021-10-31T19:13:18.013Z"
   },
   {
    "duration": 145,
    "start_time": "2021-10-31T19:13:18.104Z"
   },
   {
    "duration": 24,
    "start_time": "2021-10-31T19:13:18.251Z"
   },
   {
    "duration": 11,
    "start_time": "2021-10-31T19:13:18.277Z"
   },
   {
    "duration": 57,
    "start_time": "2021-10-31T19:13:18.289Z"
   },
   {
    "duration": 73,
    "start_time": "2021-10-31T19:13:18.348Z"
   },
   {
    "duration": 15989,
    "start_time": "2021-10-31T19:13:18.424Z"
   },
   {
    "duration": 10,
    "start_time": "2021-10-31T19:13:34.415Z"
   },
   {
    "duration": 20,
    "start_time": "2021-10-31T19:13:34.427Z"
   },
   {
    "duration": 58,
    "start_time": "2021-10-31T19:13:34.449Z"
   },
   {
    "duration": 2,
    "start_time": "2021-10-31T19:13:34.509Z"
   },
   {
    "duration": 18,
    "start_time": "2021-10-31T19:13:34.512Z"
   },
   {
    "duration": 11,
    "start_time": "2021-10-31T19:13:34.532Z"
   },
   {
    "duration": 38,
    "start_time": "2021-10-31T19:13:34.545Z"
   },
   {
    "duration": 11,
    "start_time": "2021-10-31T19:13:34.585Z"
   },
   {
    "duration": 86,
    "start_time": "2021-10-31T19:13:34.659Z"
   },
   {
    "duration": 30,
    "start_time": "2021-10-31T19:13:34.748Z"
   },
   {
    "duration": 26,
    "start_time": "2021-10-31T19:13:34.779Z"
   },
   {
    "duration": 100,
    "start_time": "2021-10-31T19:13:34.846Z"
   },
   {
    "duration": 31885,
    "start_time": "2021-10-31T19:13:34.948Z"
   },
   {
    "duration": 112,
    "start_time": "2021-10-31T19:14:06.835Z"
   },
   {
    "duration": 102,
    "start_time": "2021-10-31T19:14:06.949Z"
   },
   {
    "duration": 29964,
    "start_time": "2021-10-31T19:14:07.054Z"
   },
   {
    "duration": 27,
    "start_time": "2021-10-31T19:14:37.020Z"
   },
   {
    "duration": 100,
    "start_time": "2021-10-31T19:14:37.049Z"
   },
   {
    "duration": 93,
    "start_time": "2021-10-31T19:14:37.152Z"
   },
   {
    "duration": 30470,
    "start_time": "2021-10-31T19:14:37.247Z"
   },
   {
    "duration": 4,
    "start_time": "2021-10-31T19:15:07.719Z"
   },
   {
    "duration": 6,
    "start_time": "2021-10-31T19:15:07.725Z"
   },
   {
    "duration": 11,
    "start_time": "2021-10-31T19:15:07.733Z"
   },
   {
    "duration": 7,
    "start_time": "2021-10-31T19:15:07.746Z"
   },
   {
    "duration": 9,
    "start_time": "2021-10-31T19:15:07.754Z"
   },
   {
    "duration": 340,
    "start_time": "2021-10-31T19:15:07.764Z"
   },
   {
    "duration": -72,
    "start_time": "2021-10-31T19:15:08.178Z"
   },
   {
    "duration": -96,
    "start_time": "2021-10-31T19:15:08.203Z"
   },
   {
    "duration": -117,
    "start_time": "2021-10-31T19:15:08.225Z"
   },
   {
    "duration": -119,
    "start_time": "2021-10-31T19:15:08.228Z"
   },
   {
    "duration": -128,
    "start_time": "2021-10-31T19:15:08.238Z"
   },
   {
    "duration": -136,
    "start_time": "2021-10-31T19:15:08.247Z"
   },
   {
    "duration": -162,
    "start_time": "2021-10-31T19:15:08.274Z"
   },
   {
    "duration": -178,
    "start_time": "2021-10-31T19:15:08.291Z"
   },
   {
    "duration": -180,
    "start_time": "2021-10-31T19:15:08.294Z"
   },
   {
    "duration": -182,
    "start_time": "2021-10-31T19:15:08.297Z"
   },
   {
    "duration": -198,
    "start_time": "2021-10-31T19:15:08.313Z"
   },
   {
    "duration": -200,
    "start_time": "2021-10-31T19:15:08.316Z"
   },
   {
    "duration": -201,
    "start_time": "2021-10-31T19:15:08.318Z"
   },
   {
    "duration": -202,
    "start_time": "2021-10-31T19:15:08.320Z"
   },
   {
    "duration": -232,
    "start_time": "2021-10-31T19:15:08.351Z"
   },
   {
    "duration": -243,
    "start_time": "2021-10-31T19:15:08.363Z"
   },
   {
    "duration": -244,
    "start_time": "2021-10-31T19:15:08.365Z"
   },
   {
    "duration": -252,
    "start_time": "2021-10-31T19:15:08.374Z"
   },
   {
    "duration": -267,
    "start_time": "2021-10-31T19:15:08.390Z"
   },
   {
    "duration": -282,
    "start_time": "2021-10-31T19:15:08.405Z"
   },
   {
    "duration": -304,
    "start_time": "2021-10-31T19:15:08.428Z"
   },
   {
    "duration": 3,
    "start_time": "2021-10-31T19:16:21.851Z"
   },
   {
    "duration": 3,
    "start_time": "2021-10-31T19:16:22.916Z"
   },
   {
    "duration": 3,
    "start_time": "2021-10-31T19:16:25.290Z"
   },
   {
    "duration": 3,
    "start_time": "2021-10-31T19:16:29.580Z"
   },
   {
    "duration": 3,
    "start_time": "2021-10-31T19:17:08.161Z"
   },
   {
    "duration": 3,
    "start_time": "2021-10-31T19:45:21.765Z"
   },
   {
    "duration": 3,
    "start_time": "2021-10-31T19:52:35.304Z"
   },
   {
    "duration": 3,
    "start_time": "2021-10-31T20:07:10.137Z"
   },
   {
    "duration": 4,
    "start_time": "2021-10-31T20:07:42.981Z"
   },
   {
    "duration": 5,
    "start_time": "2021-10-31T20:07:42.987Z"
   },
   {
    "duration": 3347,
    "start_time": "2021-10-31T20:07:45.393Z"
   },
   {
    "duration": 3094,
    "start_time": "2021-10-31T20:07:48.741Z"
   },
   {
    "duration": 3899,
    "start_time": "2021-10-31T20:07:51.838Z"
   },
   {
    "duration": 7,
    "start_time": "2021-10-31T20:07:55.744Z"
   },
   {
    "duration": 12,
    "start_time": "2021-10-31T20:07:55.753Z"
   },
   {
    "duration": 22,
    "start_time": "2021-10-31T20:07:55.767Z"
   },
   {
    "duration": 15,
    "start_time": "2021-10-31T20:07:55.790Z"
   },
   {
    "duration": 13,
    "start_time": "2021-10-31T20:07:55.807Z"
   },
   {
    "duration": 51,
    "start_time": "2021-10-31T20:07:55.823Z"
   },
   {
    "duration": 3,
    "start_time": "2021-10-31T20:07:55.877Z"
   },
   {
    "duration": 16,
    "start_time": "2021-10-31T20:07:55.882Z"
   },
   {
    "duration": 31,
    "start_time": "2021-10-31T20:07:55.900Z"
   },
   {
    "duration": 829,
    "start_time": "2021-10-31T20:07:55.933Z"
   },
   {
    "duration": 190,
    "start_time": "2021-10-31T20:07:56.764Z"
   },
   {
    "duration": 10619,
    "start_time": "2021-10-31T20:07:56.956Z"
   },
   {
    "duration": 1168,
    "start_time": "2021-10-31T20:08:07.577Z"
   },
   {
    "duration": 8,
    "start_time": "2021-10-31T20:08:08.747Z"
   },
   {
    "duration": 689,
    "start_time": "2021-10-31T20:08:08.757Z"
   },
   {
    "duration": 1206,
    "start_time": "2021-10-31T20:20:20.509Z"
   },
   {
    "duration": 135,
    "start_time": "2021-10-31T20:20:21.717Z"
   },
   {
    "duration": 68,
    "start_time": "2021-10-31T20:20:21.855Z"
   },
   {
    "duration": 26,
    "start_time": "2021-10-31T20:20:21.925Z"
   },
   {
    "duration": 26,
    "start_time": "2021-10-31T20:20:21.953Z"
   },
   {
    "duration": 10,
    "start_time": "2021-10-31T20:20:21.981Z"
   },
   {
    "duration": 61,
    "start_time": "2021-10-31T20:20:21.992Z"
   },
   {
    "duration": 140,
    "start_time": "2021-10-31T20:20:22.055Z"
   },
   {
    "duration": 24,
    "start_time": "2021-10-31T20:20:22.199Z"
   },
   {
    "duration": 21,
    "start_time": "2021-10-31T20:20:22.225Z"
   },
   {
    "duration": 37,
    "start_time": "2021-10-31T20:20:22.248Z"
   },
   {
    "duration": 95,
    "start_time": "2021-10-31T20:20:22.287Z"
   },
   {
    "duration": 133,
    "start_time": "2021-10-31T20:20:22.384Z"
   },
   {
    "duration": 33,
    "start_time": "2021-10-31T20:20:22.518Z"
   },
   {
    "duration": 11,
    "start_time": "2021-10-31T20:20:22.553Z"
   },
   {
    "duration": 36,
    "start_time": "2021-10-31T20:20:22.566Z"
   },
   {
    "duration": 90,
    "start_time": "2021-10-31T20:20:22.605Z"
   },
   {
    "duration": 15247,
    "start_time": "2021-10-31T20:20:22.697Z"
   },
   {
    "duration": 7,
    "start_time": "2021-10-31T20:20:37.946Z"
   },
   {
    "duration": 6,
    "start_time": "2021-10-31T20:20:37.955Z"
   },
   {
    "duration": 36,
    "start_time": "2021-10-31T20:20:37.963Z"
   },
   {
    "duration": 2,
    "start_time": "2021-10-31T20:20:38.001Z"
   },
   {
    "duration": 8,
    "start_time": "2021-10-31T20:20:38.004Z"
   },
   {
    "duration": 5,
    "start_time": "2021-10-31T20:20:38.013Z"
   },
   {
    "duration": 44,
    "start_time": "2021-10-31T20:20:38.020Z"
   },
   {
    "duration": 78,
    "start_time": "2021-10-31T20:20:38.066Z"
   },
   {
    "duration": 92,
    "start_time": "2021-10-31T20:20:38.154Z"
   },
   {
    "duration": 17,
    "start_time": "2021-10-31T20:20:38.248Z"
   },
   {
    "duration": 8,
    "start_time": "2021-10-31T20:20:38.266Z"
   },
   {
    "duration": 100,
    "start_time": "2021-10-31T20:20:38.345Z"
   },
   {
    "duration": 29770,
    "start_time": "2021-10-31T20:20:38.448Z"
   },
   {
    "duration": 125,
    "start_time": "2021-10-31T20:21:08.219Z"
   },
   {
    "duration": 100,
    "start_time": "2021-10-31T20:21:08.347Z"
   },
   {
    "duration": 29272,
    "start_time": "2021-10-31T20:21:08.449Z"
   },
   {
    "duration": 25,
    "start_time": "2021-10-31T20:21:37.723Z"
   },
   {
    "duration": 7,
    "start_time": "2021-10-31T20:21:37.750Z"
   },
   {
    "duration": 96,
    "start_time": "2021-10-31T20:21:37.759Z"
   },
   {
    "duration": 30985,
    "start_time": "2021-10-31T20:21:37.857Z"
   },
   {
    "duration": 7,
    "start_time": "2021-10-31T20:22:08.848Z"
   },
   {
    "duration": 7,
    "start_time": "2021-10-31T20:22:08.857Z"
   },
   {
    "duration": 5,
    "start_time": "2021-10-31T20:22:08.866Z"
   },
   {
    "duration": 24,
    "start_time": "2021-10-31T20:22:08.873Z"
   },
   {
    "duration": 10,
    "start_time": "2021-10-31T20:22:08.900Z"
   },
   {
    "duration": 9,
    "start_time": "2021-10-31T20:22:08.911Z"
   },
   {
    "duration": 11,
    "start_time": "2021-10-31T20:22:08.922Z"
   },
   {
    "duration": 8,
    "start_time": "2021-10-31T20:22:08.935Z"
   },
   {
    "duration": 21,
    "start_time": "2021-10-31T20:22:08.945Z"
   },
   {
    "duration": 19,
    "start_time": "2021-10-31T20:22:08.968Z"
   },
   {
    "duration": 3017,
    "start_time": "2021-10-31T20:22:08.989Z"
   },
   {
    "duration": 3114,
    "start_time": "2021-10-31T20:22:12.007Z"
   },
   {
    "duration": 3104,
    "start_time": "2021-10-31T20:22:15.123Z"
   },
   {
    "duration": 16,
    "start_time": "2021-10-31T20:22:18.229Z"
   },
   {
    "duration": 14,
    "start_time": "2021-10-31T20:22:18.246Z"
   },
   {
    "duration": 9,
    "start_time": "2021-10-31T20:22:18.262Z"
   },
   {
    "duration": 15,
    "start_time": "2021-10-31T20:22:18.273Z"
   },
   {
    "duration": 7,
    "start_time": "2021-10-31T20:22:18.290Z"
   },
   {
    "duration": 67,
    "start_time": "2021-10-31T20:22:18.299Z"
   },
   {
    "duration": 2,
    "start_time": "2021-10-31T20:22:18.368Z"
   },
   {
    "duration": 6,
    "start_time": "2021-10-31T20:22:18.372Z"
   },
   {
    "duration": 5,
    "start_time": "2021-10-31T20:22:18.380Z"
   },
   {
    "duration": 886,
    "start_time": "2021-10-31T20:22:18.388Z"
   },
   {
    "duration": 115,
    "start_time": "2021-10-31T20:22:19.344Z"
   },
   {
    "duration": 15733,
    "start_time": "2021-10-31T20:22:19.462Z"
   },
   {
    "duration": 1448,
    "start_time": "2021-10-31T20:22:35.197Z"
   },
   {
    "duration": 11,
    "start_time": "2021-10-31T20:22:36.647Z"
   },
   {
    "duration": 586,
    "start_time": "2021-10-31T20:22:36.660Z"
   },
   {
    "duration": 4,
    "start_time": "2021-11-01T08:37:32.905Z"
   },
   {
    "duration": 354,
    "start_time": "2021-11-01T08:37:33.169Z"
   },
   {
    "duration": -77,
    "start_time": "2021-11-01T08:37:33.603Z"
   },
   {
    "duration": 363,
    "start_time": "2021-11-01T08:37:33.895Z"
   },
   {
    "duration": 544,
    "start_time": "2021-11-01T08:54:44.763Z"
   },
   {
    "duration": 3,
    "start_time": "2021-11-01T08:55:10.960Z"
   },
   {
    "duration": 286,
    "start_time": "2021-11-01T08:56:16.234Z"
   },
   {
    "duration": 1989,
    "start_time": "2021-11-01T09:35:09.858Z"
   },
   {
    "duration": 176,
    "start_time": "2021-11-01T09:35:11.850Z"
   },
   {
    "duration": 101,
    "start_time": "2021-11-01T09:35:12.030Z"
   },
   {
    "duration": 20,
    "start_time": "2021-11-01T09:35:12.134Z"
   },
   {
    "duration": 38,
    "start_time": "2021-11-01T09:35:12.156Z"
   },
   {
    "duration": 41,
    "start_time": "2021-11-01T09:35:12.196Z"
   },
   {
    "duration": 51,
    "start_time": "2021-11-01T09:35:12.239Z"
   },
   {
    "duration": 182,
    "start_time": "2021-11-01T09:35:12.294Z"
   },
   {
    "duration": 48,
    "start_time": "2021-11-01T09:35:12.479Z"
   },
   {
    "duration": 14,
    "start_time": "2021-11-01T09:35:12.530Z"
   },
   {
    "duration": 48,
    "start_time": "2021-11-01T09:35:12.547Z"
   },
   {
    "duration": 124,
    "start_time": "2021-11-01T09:35:12.598Z"
   },
   {
    "duration": 176,
    "start_time": "2021-11-01T09:35:12.725Z"
   },
   {
    "duration": 50,
    "start_time": "2021-11-01T09:35:12.903Z"
   },
   {
    "duration": 15,
    "start_time": "2021-11-01T09:35:12.956Z"
   },
   {
    "duration": 69,
    "start_time": "2021-11-01T09:35:12.973Z"
   },
   {
    "duration": 88,
    "start_time": "2021-11-01T09:35:13.045Z"
   },
   {
    "duration": 24943,
    "start_time": "2021-11-01T09:35:13.136Z"
   },
   {
    "duration": 14,
    "start_time": "2021-11-01T09:35:38.081Z"
   },
   {
    "duration": 26,
    "start_time": "2021-11-01T09:35:38.098Z"
   },
   {
    "duration": 48,
    "start_time": "2021-11-01T09:35:38.126Z"
   },
   {
    "duration": 3,
    "start_time": "2021-11-01T09:35:38.176Z"
   },
   {
    "duration": 12,
    "start_time": "2021-11-01T09:35:38.185Z"
   },
   {
    "duration": 22,
    "start_time": "2021-11-01T09:35:38.200Z"
   },
   {
    "duration": 31,
    "start_time": "2021-11-01T09:35:38.225Z"
   },
   {
    "duration": 65,
    "start_time": "2021-11-01T09:35:38.259Z"
   },
   {
    "duration": 7,
    "start_time": "2021-11-01T09:35:38.327Z"
   },
   {
    "duration": 109,
    "start_time": "2021-11-01T09:35:38.422Z"
   },
   {
    "duration": 89,
    "start_time": "2021-11-01T09:35:38.534Z"
   },
   {
    "duration": 203,
    "start_time": "2021-11-01T09:35:38.627Z"
   },
   {
    "duration": 48568,
    "start_time": "2021-11-01T09:35:38.833Z"
   },
   {
    "duration": 118,
    "start_time": "2021-11-01T09:36:27.404Z"
   },
   {
    "duration": 104,
    "start_time": "2021-11-01T09:36:27.527Z"
   },
   {
    "duration": 40341,
    "start_time": "2021-11-01T09:36:27.634Z"
   },
   {
    "duration": 49,
    "start_time": "2021-11-01T09:37:07.978Z"
   },
   {
    "duration": 98,
    "start_time": "2021-11-01T09:37:08.032Z"
   },
   {
    "duration": 87,
    "start_time": "2021-11-01T09:37:08.136Z"
   },
   {
    "duration": 40764,
    "start_time": "2021-11-01T09:37:08.226Z"
   },
   {
    "duration": 7,
    "start_time": "2021-11-01T09:37:48.993Z"
   },
   {
    "duration": 21,
    "start_time": "2021-11-01T09:37:49.002Z"
   },
   {
    "duration": 7,
    "start_time": "2021-11-01T09:37:49.025Z"
   },
   {
    "duration": 5,
    "start_time": "2021-11-01T09:37:49.035Z"
   },
   {
    "duration": 435,
    "start_time": "2021-11-01T09:37:49.043Z"
   },
   {
    "duration": -81,
    "start_time": "2021-11-01T09:37:49.562Z"
   },
   {
    "duration": -82,
    "start_time": "2021-11-01T09:37:49.564Z"
   },
   {
    "duration": -119,
    "start_time": "2021-11-01T09:37:49.603Z"
   },
   {
    "duration": -120,
    "start_time": "2021-11-01T09:37:49.606Z"
   },
   {
    "duration": -121,
    "start_time": "2021-11-01T09:37:49.608Z"
   },
   {
    "duration": -127,
    "start_time": "2021-11-01T09:37:49.616Z"
   },
   {
    "duration": -128,
    "start_time": "2021-11-01T09:37:49.618Z"
   },
   {
    "duration": -137,
    "start_time": "2021-11-01T09:37:49.629Z"
   },
   {
    "duration": -138,
    "start_time": "2021-11-01T09:37:49.631Z"
   },
   {
    "duration": -138,
    "start_time": "2021-11-01T09:37:49.633Z"
   },
   {
    "duration": -138,
    "start_time": "2021-11-01T09:37:49.635Z"
   },
   {
    "duration": -138,
    "start_time": "2021-11-01T09:37:49.636Z"
   },
   {
    "duration": -138,
    "start_time": "2021-11-01T09:37:49.638Z"
   },
   {
    "duration": -139,
    "start_time": "2021-11-01T09:37:49.640Z"
   },
   {
    "duration": -139,
    "start_time": "2021-11-01T09:37:49.642Z"
   },
   {
    "duration": -140,
    "start_time": "2021-11-01T09:37:49.644Z"
   },
   {
    "duration": -143,
    "start_time": "2021-11-01T09:37:49.648Z"
   },
   {
    "duration": -143,
    "start_time": "2021-11-01T09:37:49.650Z"
   },
   {
    "duration": -143,
    "start_time": "2021-11-01T09:37:49.651Z"
   },
   {
    "duration": -143,
    "start_time": "2021-11-01T09:37:49.653Z"
   },
   {
    "duration": -144,
    "start_time": "2021-11-01T09:37:49.655Z"
   },
   {
    "duration": -145,
    "start_time": "2021-11-01T09:37:49.657Z"
   },
   {
    "duration": -145,
    "start_time": "2021-11-01T09:37:49.659Z"
   },
   {
    "duration": 23,
    "start_time": "2021-11-01T14:57:56.626Z"
   },
   {
    "duration": 281,
    "start_time": "2021-11-01T14:58:07.443Z"
   },
   {
    "duration": 971,
    "start_time": "2021-11-01T14:58:21.271Z"
   },
   {
    "duration": 22,
    "start_time": "2021-11-01T14:58:29.480Z"
   },
   {
    "duration": 18,
    "start_time": "2021-11-01T14:59:34.912Z"
   },
   {
    "duration": 17,
    "start_time": "2021-11-01T14:59:40.300Z"
   },
   {
    "duration": 17,
    "start_time": "2021-11-01T14:59:44.730Z"
   },
   {
    "duration": 313,
    "start_time": "2021-11-01T14:59:48.323Z"
   },
   {
    "duration": 6,
    "start_time": "2021-11-01T15:00:19.870Z"
   },
   {
    "duration": 5,
    "start_time": "2021-11-01T15:04:08.593Z"
   },
   {
    "duration": 327,
    "start_time": "2021-11-01T15:04:10.338Z"
   },
   {
    "duration": 298,
    "start_time": "2021-11-01T15:04:51.011Z"
   },
   {
    "duration": 292,
    "start_time": "2021-11-01T15:05:10.170Z"
   },
   {
    "duration": 13,
    "start_time": "2021-11-01T15:05:25.913Z"
   },
   {
    "duration": 299,
    "start_time": "2021-11-01T15:06:54.701Z"
   },
   {
    "duration": 429,
    "start_time": "2021-11-01T15:07:56.248Z"
   },
   {
    "duration": 57,
    "start_time": "2021-11-01T15:08:28.084Z"
   },
   {
    "duration": 352,
    "start_time": "2021-11-01T15:20:10.774Z"
   },
   {
    "duration": 773,
    "start_time": "2021-11-01T15:20:43.154Z"
   },
   {
    "duration": 720,
    "start_time": "2021-11-01T15:21:28.110Z"
   },
   {
    "duration": 794,
    "start_time": "2021-11-01T15:21:55.236Z"
   },
   {
    "duration": 838,
    "start_time": "2021-11-01T15:23:30.192Z"
   },
   {
    "duration": 758,
    "start_time": "2021-11-01T15:23:44.673Z"
   },
   {
    "duration": 783,
    "start_time": "2021-11-01T15:24:10.355Z"
   },
   {
    "duration": 838,
    "start_time": "2021-11-01T15:24:37.989Z"
   },
   {
    "duration": 875,
    "start_time": "2021-11-01T15:24:50.953Z"
   },
   {
    "duration": 899,
    "start_time": "2021-11-01T15:25:02.032Z"
   },
   {
    "duration": 819,
    "start_time": "2021-11-01T15:25:40.105Z"
   },
   {
    "duration": 849,
    "start_time": "2021-11-01T15:26:15.176Z"
   },
   {
    "duration": 657,
    "start_time": "2021-11-01T15:26:23.274Z"
   },
   {
    "duration": 883,
    "start_time": "2021-11-01T15:27:03.840Z"
   },
   {
    "duration": 5,
    "start_time": "2021-11-01T15:28:07.392Z"
   },
   {
    "duration": 302,
    "start_time": "2021-11-01T15:28:56.192Z"
   },
   {
    "duration": 5,
    "start_time": "2021-11-01T15:29:23.092Z"
   },
   {
    "duration": 5,
    "start_time": "2021-11-01T15:30:20.791Z"
   },
   {
    "duration": 603,
    "start_time": "2021-11-01T15:30:39.434Z"
   },
   {
    "duration": 3,
    "start_time": "2021-11-01T15:30:48.372Z"
   },
   {
    "duration": 3,
    "start_time": "2021-11-01T15:30:48.755Z"
   },
   {
    "duration": 283,
    "start_time": "2021-11-01T15:30:49.125Z"
   },
   {
    "duration": 668,
    "start_time": "2021-11-01T15:37:31.774Z"
   },
   {
    "duration": 858,
    "start_time": "2021-11-01T15:37:49.372Z"
   },
   {
    "duration": 298,
    "start_time": "2021-11-01T18:21:27.520Z"
   },
   {
    "duration": 1215,
    "start_time": "2021-11-01T18:21:34.711Z"
   },
   {
    "duration": 495,
    "start_time": "2021-11-01T18:21:35.928Z"
   },
   {
    "duration": 60,
    "start_time": "2021-11-01T18:21:36.425Z"
   },
   {
    "duration": 12,
    "start_time": "2021-11-01T18:21:36.487Z"
   },
   {
    "duration": 29,
    "start_time": "2021-11-01T18:21:36.500Z"
   },
   {
    "duration": 10,
    "start_time": "2021-11-01T18:21:36.545Z"
   },
   {
    "duration": 37,
    "start_time": "2021-11-01T18:21:36.556Z"
   },
   {
    "duration": 192,
    "start_time": "2021-11-01T18:21:36.594Z"
   },
   {
    "duration": 24,
    "start_time": "2021-11-01T18:21:36.788Z"
   },
   {
    "duration": 10,
    "start_time": "2021-11-01T18:21:36.814Z"
   },
   {
    "duration": 45,
    "start_time": "2021-11-01T18:21:36.826Z"
   },
   {
    "duration": 78,
    "start_time": "2021-11-01T18:21:36.873Z"
   },
   {
    "duration": 199,
    "start_time": "2021-11-01T18:21:36.953Z"
   },
   {
    "duration": 21,
    "start_time": "2021-11-01T18:21:37.154Z"
   },
   {
    "duration": 15,
    "start_time": "2021-11-01T18:21:37.177Z"
   },
   {
    "duration": 39,
    "start_time": "2021-11-01T18:21:37.194Z"
   },
   {
    "duration": 66,
    "start_time": "2021-11-01T18:21:37.235Z"
   },
   {
    "duration": 15615,
    "start_time": "2021-11-01T18:21:37.302Z"
   },
   {
    "duration": 4,
    "start_time": "2021-11-01T18:21:52.919Z"
   },
   {
    "duration": 829,
    "start_time": "2021-11-01T18:21:52.924Z"
   },
   {
    "duration": 472,
    "start_time": "2021-11-01T18:21:53.846Z"
   },
   {
    "duration": -1101,
    "start_time": "2021-11-01T18:21:55.422Z"
   },
   {
    "duration": -1102,
    "start_time": "2021-11-01T18:21:55.424Z"
   },
   {
    "duration": -1102,
    "start_time": "2021-11-01T18:21:55.426Z"
   },
   {
    "duration": -1103,
    "start_time": "2021-11-01T18:21:55.428Z"
   },
   {
    "duration": -1104,
    "start_time": "2021-11-01T18:21:55.430Z"
   },
   {
    "duration": -1105,
    "start_time": "2021-11-01T18:21:55.432Z"
   },
   {
    "duration": -1106,
    "start_time": "2021-11-01T18:21:55.434Z"
   },
   {
    "duration": -1106,
    "start_time": "2021-11-01T18:21:55.436Z"
   },
   {
    "duration": -1108,
    "start_time": "2021-11-01T18:21:55.439Z"
   },
   {
    "duration": -1111,
    "start_time": "2021-11-01T18:21:55.443Z"
   },
   {
    "duration": -1115,
    "start_time": "2021-11-01T18:21:55.448Z"
   },
   {
    "duration": -1117,
    "start_time": "2021-11-01T18:21:55.451Z"
   },
   {
    "duration": -1119,
    "start_time": "2021-11-01T18:21:55.454Z"
   },
   {
    "duration": -1120,
    "start_time": "2021-11-01T18:21:55.456Z"
   },
   {
    "duration": -1121,
    "start_time": "2021-11-01T18:21:55.458Z"
   },
   {
    "duration": -1121,
    "start_time": "2021-11-01T18:21:55.460Z"
   },
   {
    "duration": -1123,
    "start_time": "2021-11-01T18:21:55.463Z"
   },
   {
    "duration": -1124,
    "start_time": "2021-11-01T18:21:55.465Z"
   },
   {
    "duration": -1163,
    "start_time": "2021-11-01T18:21:55.505Z"
   },
   {
    "duration": -1165,
    "start_time": "2021-11-01T18:21:55.508Z"
   },
   {
    "duration": -1166,
    "start_time": "2021-11-01T18:21:55.510Z"
   },
   {
    "duration": -1167,
    "start_time": "2021-11-01T18:21:55.512Z"
   },
   {
    "duration": -1168,
    "start_time": "2021-11-01T18:21:55.514Z"
   },
   {
    "duration": -1168,
    "start_time": "2021-11-01T18:21:55.516Z"
   },
   {
    "duration": -1170,
    "start_time": "2021-11-01T18:21:55.519Z"
   },
   {
    "duration": -1173,
    "start_time": "2021-11-01T18:21:55.524Z"
   },
   {
    "duration": -1176,
    "start_time": "2021-11-01T18:21:55.528Z"
   },
   {
    "duration": -1177,
    "start_time": "2021-11-01T18:21:55.530Z"
   },
   {
    "duration": -1178,
    "start_time": "2021-11-01T18:21:55.533Z"
   },
   {
    "duration": -1179,
    "start_time": "2021-11-01T18:21:55.535Z"
   },
   {
    "duration": -1180,
    "start_time": "2021-11-01T18:21:55.537Z"
   },
   {
    "duration": -1181,
    "start_time": "2021-11-01T18:21:55.539Z"
   },
   {
    "duration": -1181,
    "start_time": "2021-11-01T18:21:55.541Z"
   },
   {
    "duration": -1182,
    "start_time": "2021-11-01T18:21:55.543Z"
   },
   {
    "duration": -1183,
    "start_time": "2021-11-01T18:21:55.545Z"
   },
   {
    "duration": -1184,
    "start_time": "2021-11-01T18:21:55.547Z"
   },
   {
    "duration": -1185,
    "start_time": "2021-11-01T18:21:55.549Z"
   },
   {
    "duration": -1185,
    "start_time": "2021-11-01T18:21:55.551Z"
   },
   {
    "duration": -1186,
    "start_time": "2021-11-01T18:21:55.553Z"
   },
   {
    "duration": -1186,
    "start_time": "2021-11-01T18:21:55.555Z"
   },
   {
    "duration": -1187,
    "start_time": "2021-11-01T18:21:55.557Z"
   },
   {
    "duration": -1187,
    "start_time": "2021-11-01T18:21:55.559Z"
   },
   {
    "duration": -1188,
    "start_time": "2021-11-01T18:21:55.561Z"
   },
   {
    "duration": -1188,
    "start_time": "2021-11-01T18:21:55.563Z"
   },
   {
    "duration": -1212,
    "start_time": "2021-11-01T18:21:55.588Z"
   },
   {
    "duration": -1213,
    "start_time": "2021-11-01T18:21:55.590Z"
   },
   {
    "duration": -1213,
    "start_time": "2021-11-01T18:21:55.592Z"
   },
   {
    "duration": -1214,
    "start_time": "2021-11-01T18:21:55.594Z"
   },
   {
    "duration": 243,
    "start_time": "2021-11-01T18:23:34.831Z"
   },
   {
    "duration": 6,
    "start_time": "2021-11-01T18:25:21.460Z"
   },
   {
    "duration": 4,
    "start_time": "2021-11-01T18:26:32.526Z"
   },
   {
    "duration": 427,
    "start_time": "2021-11-01T18:40:34.620Z"
   },
   {
    "duration": 449,
    "start_time": "2021-11-01T18:41:48.428Z"
   },
   {
    "duration": 430,
    "start_time": "2021-11-01T18:42:32.383Z"
   },
   {
    "duration": 304,
    "start_time": "2021-11-01T18:42:45.315Z"
   },
   {
    "duration": 281,
    "start_time": "2021-11-01T19:04:16.082Z"
   },
   {
    "duration": 441,
    "start_time": "2021-11-01T19:04:41.597Z"
   },
   {
    "duration": 84,
    "start_time": "2021-11-01T19:05:11.404Z"
   },
   {
    "duration": 85,
    "start_time": "2021-11-01T19:05:38.192Z"
   },
   {
    "duration": 6,
    "start_time": "2021-11-01T19:07:17.142Z"
   },
   {
    "duration": 420,
    "start_time": "2021-11-01T19:08:07.608Z"
   },
   {
    "duration": 473,
    "start_time": "2021-11-01T19:08:24.328Z"
   },
   {
    "duration": 6,
    "start_time": "2021-11-01T19:08:38.479Z"
   },
   {
    "duration": 29907,
    "start_time": "2021-11-01T19:08:58.217Z"
   },
   {
    "duration": 90683,
    "start_time": "2021-11-01T19:09:28.126Z"
   },
   {
    "duration": 37,
    "start_time": "2021-11-01T19:10:58.817Z"
   },
   {
    "duration": 20,
    "start_time": "2021-11-01T19:11:47.072Z"
   },
   {
    "duration": 20,
    "start_time": "2021-11-01T19:11:55.473Z"
   },
   {
    "duration": 20,
    "start_time": "2021-11-01T19:12:12.437Z"
   },
   {
    "duration": 21,
    "start_time": "2021-11-01T19:12:19.886Z"
   },
   {
    "duration": 20,
    "start_time": "2021-11-01T19:13:23.873Z"
   },
   {
    "duration": 21,
    "start_time": "2021-11-01T19:15:14.128Z"
   },
   {
    "duration": 270,
    "start_time": "2021-11-01T19:21:07.131Z"
   },
   {
    "duration": 299,
    "start_time": "2021-11-01T19:21:47.949Z"
   },
   {
    "duration": 92,
    "start_time": "2021-11-01T19:22:47.605Z"
   },
   {
    "duration": 87,
    "start_time": "2021-11-01T19:23:18.338Z"
   },
   {
    "duration": 258,
    "start_time": "2021-11-01T19:23:59.380Z"
   },
   {
    "duration": 3,
    "start_time": "2021-11-01T19:24:18.175Z"
   },
   {
    "duration": 515,
    "start_time": "2021-11-01T19:24:22.479Z"
   },
   {
    "duration": 3,
    "start_time": "2021-11-01T19:24:29.177Z"
   },
   {
    "duration": 346,
    "start_time": "2021-11-01T19:24:29.503Z"
   },
   {
    "duration": -52,
    "start_time": "2021-11-01T19:24:29.904Z"
   },
   {
    "duration": -54,
    "start_time": "2021-11-01T19:24:29.907Z"
   },
   {
    "duration": 3,
    "start_time": "2021-11-01T19:24:30.206Z"
   },
   {
    "duration": 3,
    "start_time": "2021-11-01T19:24:46.529Z"
   },
   {
    "duration": 9216,
    "start_time": "2021-11-01T19:24:51.382Z"
   },
   {
    "duration": 9858,
    "start_time": "2021-11-01T19:25:46.656Z"
   },
   {
    "duration": 9485,
    "start_time": "2021-11-01T19:26:24.933Z"
   },
   {
    "duration": 13286,
    "start_time": "2021-11-01T19:26:46.866Z"
   },
   {
    "duration": 9144,
    "start_time": "2021-11-01T19:27:05.025Z"
   },
   {
    "duration": 3636,
    "start_time": "2021-11-01T19:29:00.189Z"
   },
   {
    "duration": 3390,
    "start_time": "2021-11-01T19:29:07.858Z"
   },
   {
    "duration": 9458,
    "start_time": "2021-11-01T19:29:54.095Z"
   },
   {
    "duration": 9490,
    "start_time": "2021-11-01T19:30:31.516Z"
   },
   {
    "duration": 11112,
    "start_time": "2021-11-01T19:35:09.767Z"
   },
   {
    "duration": 10196,
    "start_time": "2021-11-01T19:35:59.321Z"
   },
   {
    "duration": 9527,
    "start_time": "2021-11-01T19:38:48.777Z"
   },
   {
    "duration": 259,
    "start_time": "2021-11-01T20:00:26.430Z"
   },
   {
    "duration": 355,
    "start_time": "2021-11-01T20:00:29.868Z"
   },
   {
    "duration": 3470,
    "start_time": "2021-11-01T20:14:56.923Z"
   },
   {
    "duration": 3356,
    "start_time": "2021-11-01T20:15:38.589Z"
   },
   {
    "duration": 3530,
    "start_time": "2021-11-01T20:16:28.345Z"
   },
   {
    "duration": 9525,
    "start_time": "2021-11-01T20:16:51.877Z"
   },
   {
    "duration": 9608,
    "start_time": "2021-11-01T20:17:28.770Z"
   },
   {
    "duration": 333,
    "start_time": "2021-11-01T20:18:46.812Z"
   },
   {
    "duration": 9377,
    "start_time": "2021-11-01T20:19:04.334Z"
   },
   {
    "duration": 565,
    "start_time": "2021-11-01T20:28:42.753Z"
   },
   {
    "duration": 280,
    "start_time": "2021-11-01T20:29:05.149Z"
   },
   {
    "duration": 9679,
    "start_time": "2021-11-01T20:30:02.493Z"
   },
   {
    "duration": 5,
    "start_time": "2021-11-01T20:30:25.310Z"
   },
   {
    "duration": 5,
    "start_time": "2021-11-01T20:30:38.621Z"
   },
   {
    "duration": 6,
    "start_time": "2021-11-01T20:30:53.234Z"
   },
   {
    "duration": 6,
    "start_time": "2021-11-01T20:30:57.064Z"
   },
   {
    "duration": 6,
    "start_time": "2021-11-01T20:30:57.493Z"
   },
   {
    "duration": 5,
    "start_time": "2021-11-01T20:31:18.674Z"
   },
   {
    "duration": 12,
    "start_time": "2021-11-01T20:31:27.300Z"
   },
   {
    "duration": 6,
    "start_time": "2021-11-01T20:31:49.130Z"
   },
   {
    "duration": 9660,
    "start_time": "2021-11-01T20:32:24.902Z"
   },
   {
    "duration": 5,
    "start_time": "2021-11-01T20:33:11.930Z"
   },
   {
    "duration": 6,
    "start_time": "2021-11-01T20:33:12.409Z"
   },
   {
    "duration": 15,
    "start_time": "2021-11-01T20:34:58.510Z"
   },
   {
    "duration": 7,
    "start_time": "2021-11-01T20:34:58.954Z"
   },
   {
    "duration": 38,
    "start_time": "2021-11-01T20:34:59.381Z"
   },
   {
    "duration": 2,
    "start_time": "2021-11-01T20:34:59.944Z"
   },
   {
    "duration": 3,
    "start_time": "2021-11-01T20:35:00.396Z"
   },
   {
    "duration": 3,
    "start_time": "2021-11-01T20:35:00.911Z"
   },
   {
    "duration": 933,
    "start_time": "2021-11-01T20:35:01.715Z"
   },
   {
    "duration": 40,
    "start_time": "2021-11-01T20:35:03.409Z"
   },
   {
    "duration": 11999,
    "start_time": "2021-11-01T20:35:03.835Z"
   },
   {
    "duration": 1011,
    "start_time": "2021-11-01T20:35:15.836Z"
   },
   {
    "duration": 1142,
    "start_time": "2021-11-01T20:42:34.059Z"
   },
   {
    "duration": 132,
    "start_time": "2021-11-01T20:42:35.203Z"
   },
   {
    "duration": 72,
    "start_time": "2021-11-01T20:42:35.337Z"
   },
   {
    "duration": 13,
    "start_time": "2021-11-01T20:42:35.410Z"
   },
   {
    "duration": 38,
    "start_time": "2021-11-01T20:42:35.424Z"
   },
   {
    "duration": 11,
    "start_time": "2021-11-01T20:42:35.464Z"
   },
   {
    "duration": 36,
    "start_time": "2021-11-01T20:42:35.476Z"
   },
   {
    "duration": 142,
    "start_time": "2021-11-01T20:42:35.514Z"
   },
   {
    "duration": 22,
    "start_time": "2021-11-01T20:42:35.658Z"
   },
   {
    "duration": 9,
    "start_time": "2021-11-01T20:42:35.682Z"
   },
   {
    "duration": 55,
    "start_time": "2021-11-01T20:42:35.693Z"
   },
   {
    "duration": 126,
    "start_time": "2021-11-01T20:42:35.750Z"
   },
   {
    "duration": 20,
    "start_time": "2021-11-01T20:42:35.878Z"
   },
   {
    "duration": 9,
    "start_time": "2021-11-01T20:42:35.900Z"
   },
   {
    "duration": 59,
    "start_time": "2021-11-01T20:42:35.911Z"
   },
   {
    "duration": 57,
    "start_time": "2021-11-01T20:42:35.972Z"
   },
   {
    "duration": 15222,
    "start_time": "2021-11-01T20:42:36.031Z"
   },
   {
    "duration": 3,
    "start_time": "2021-11-01T20:42:51.255Z"
   },
   {
    "duration": 89,
    "start_time": "2021-11-01T20:42:51.260Z"
   },
   {
    "duration": -1608,
    "start_time": "2021-11-01T20:42:52.960Z"
   },
   {
    "duration": -1609,
    "start_time": "2021-11-01T20:42:52.962Z"
   },
   {
    "duration": -1649,
    "start_time": "2021-11-01T20:42:53.003Z"
   },
   {
    "duration": -1650,
    "start_time": "2021-11-01T20:42:53.005Z"
   },
   {
    "duration": -1651,
    "start_time": "2021-11-01T20:42:53.007Z"
   },
   {
    "duration": -1652,
    "start_time": "2021-11-01T20:42:53.009Z"
   },
   {
    "duration": -1653,
    "start_time": "2021-11-01T20:42:53.011Z"
   },
   {
    "duration": -1653,
    "start_time": "2021-11-01T20:42:53.012Z"
   },
   {
    "duration": -1654,
    "start_time": "2021-11-01T20:42:53.014Z"
   },
   {
    "duration": -1655,
    "start_time": "2021-11-01T20:42:53.016Z"
   },
   {
    "duration": -1663,
    "start_time": "2021-11-01T20:42:53.025Z"
   },
   {
    "duration": -1665,
    "start_time": "2021-11-01T20:42:53.027Z"
   },
   {
    "duration": -1666,
    "start_time": "2021-11-01T20:42:53.029Z"
   },
   {
    "duration": -1666,
    "start_time": "2021-11-01T20:42:53.030Z"
   },
   {
    "duration": 896,
    "start_time": "2021-11-01T20:43:32.450Z"
   },
   {
    "duration": 92,
    "start_time": "2021-11-01T20:43:33.353Z"
   },
   {
    "duration": 3,
    "start_time": "2021-11-01T20:43:34.268Z"
   },
   {
    "duration": 28,
    "start_time": "2021-11-01T20:43:34.421Z"
   },
   {
    "duration": 3,
    "start_time": "2021-11-01T20:43:35.043Z"
   },
   {
    "duration": 352,
    "start_time": "2021-11-01T20:43:35.302Z"
   },
   {
    "duration": -144,
    "start_time": "2021-11-01T20:43:35.801Z"
   },
   {
    "duration": -145,
    "start_time": "2021-11-01T20:43:35.803Z"
   },
   {
    "duration": 3,
    "start_time": "2021-11-01T20:43:35.801Z"
   },
   {
    "duration": 262,
    "start_time": "2021-11-01T20:43:35.941Z"
   },
   {
    "duration": 4,
    "start_time": "2021-11-01T20:43:36.264Z"
   },
   {
    "duration": 3,
    "start_time": "2021-11-01T20:43:36.784Z"
   },
   {
    "duration": 2067,
    "start_time": "2021-11-01T20:43:37.285Z"
   },
   {
    "duration": -977,
    "start_time": "2021-11-01T20:43:40.330Z"
   },
   {
    "duration": -978,
    "start_time": "2021-11-01T20:43:40.332Z"
   },
   {
    "duration": 6,
    "start_time": "2021-11-01T20:43:48.384Z"
   },
   {
    "duration": 9461,
    "start_time": "2021-11-01T20:43:56.545Z"
   },
   {
    "duration": 139,
    "start_time": "2021-11-01T20:47:40.859Z"
   },
   {
    "duration": 3353,
    "start_time": "2021-11-01T20:48:54.227Z"
   },
   {
    "duration": 9607,
    "start_time": "2021-11-01T20:49:38.899Z"
   },
   {
    "duration": 5,
    "start_time": "2021-11-01T20:51:02.138Z"
   },
   {
    "duration": 6,
    "start_time": "2021-11-01T20:51:02.271Z"
   },
   {
    "duration": 9674,
    "start_time": "2021-11-01T20:53:15.309Z"
   },
   {
    "duration": 9281,
    "start_time": "2021-11-01T20:58:45.834Z"
   },
   {
    "duration": 3,
    "start_time": "2021-11-01T21:01:22.819Z"
   },
   {
    "duration": 3,
    "start_time": "2021-11-01T21:01:23.058Z"
   },
   {
    "duration": 3,
    "start_time": "2021-11-01T21:01:23.218Z"
   },
   {
    "duration": 1184,
    "start_time": "2021-11-01T21:01:28.536Z"
   },
   {
    "duration": 140,
    "start_time": "2021-11-01T21:01:29.722Z"
   },
   {
    "duration": 68,
    "start_time": "2021-11-01T21:01:29.864Z"
   },
   {
    "duration": 14,
    "start_time": "2021-11-01T21:01:29.945Z"
   },
   {
    "duration": 31,
    "start_time": "2021-11-01T21:01:29.960Z"
   },
   {
    "duration": 11,
    "start_time": "2021-11-01T21:01:29.993Z"
   },
   {
    "duration": 62,
    "start_time": "2021-11-01T21:01:30.007Z"
   },
   {
    "duration": 135,
    "start_time": "2021-11-01T21:01:30.071Z"
   },
   {
    "duration": 24,
    "start_time": "2021-11-01T21:01:30.208Z"
   },
   {
    "duration": 19,
    "start_time": "2021-11-01T21:01:30.234Z"
   },
   {
    "duration": 41,
    "start_time": "2021-11-01T21:01:30.255Z"
   },
   {
    "duration": 140,
    "start_time": "2021-11-01T21:01:30.297Z"
   },
   {
    "duration": 28,
    "start_time": "2021-11-01T21:01:30.439Z"
   },
   {
    "duration": 11,
    "start_time": "2021-11-01T21:01:30.468Z"
   },
   {
    "duration": 46,
    "start_time": "2021-11-01T21:01:30.480Z"
   },
   {
    "duration": 58,
    "start_time": "2021-11-01T21:01:30.544Z"
   },
   {
    "duration": 15682,
    "start_time": "2021-11-01T21:01:30.604Z"
   },
   {
    "duration": 4,
    "start_time": "2021-11-01T21:01:46.288Z"
   },
   {
    "duration": 852,
    "start_time": "2021-11-01T21:01:46.294Z"
   },
   {
    "duration": 6,
    "start_time": "2021-11-01T21:01:47.148Z"
   },
   {
    "duration": 91,
    "start_time": "2021-11-01T21:01:47.156Z"
   },
   {
    "duration": 32,
    "start_time": "2021-11-01T21:01:47.251Z"
   },
   {
    "duration": 3,
    "start_time": "2021-11-01T21:01:47.285Z"
   },
   {
    "duration": 6,
    "start_time": "2021-11-01T21:01:47.290Z"
   },
   {
    "duration": 4,
    "start_time": "2021-11-01T21:01:47.299Z"
   },
   {
    "duration": 353,
    "start_time": "2021-11-01T21:01:47.305Z"
   },
   {
    "duration": -41,
    "start_time": "2021-11-01T21:01:47.701Z"
   },
   {
    "duration": -43,
    "start_time": "2021-11-01T21:01:47.704Z"
   },
   {
    "duration": -44,
    "start_time": "2021-11-01T21:01:47.706Z"
   },
   {
    "duration": 4,
    "start_time": "2021-11-01T21:03:25.586Z"
   },
   {
    "duration": 282,
    "start_time": "2021-11-01T21:03:28.893Z"
   },
   {
    "duration": 3,
    "start_time": "2021-11-01T21:03:35.825Z"
   },
   {
    "duration": 269,
    "start_time": "2021-11-01T21:03:36.526Z"
   },
   {
    "duration": 4,
    "start_time": "2021-11-01T21:03:38.454Z"
   },
   {
    "duration": 3,
    "start_time": "2021-11-01T21:03:44.907Z"
   },
   {
    "duration": 249,
    "start_time": "2021-11-01T21:03:45.666Z"
   },
   {
    "duration": 2,
    "start_time": "2021-11-01T21:04:43.086Z"
   },
   {
    "duration": 3,
    "start_time": "2021-11-01T21:04:43.247Z"
   },
   {
    "duration": 3,
    "start_time": "2021-11-01T21:04:43.584Z"
   },
   {
    "duration": 3,
    "start_time": "2021-11-01T21:04:44.408Z"
   },
   {
    "duration": 3,
    "start_time": "2021-11-01T21:04:45.964Z"
   },
   {
    "duration": 1143,
    "start_time": "2021-11-01T21:05:38.179Z"
   },
   {
    "duration": 139,
    "start_time": "2021-11-01T21:05:39.324Z"
   },
   {
    "duration": 78,
    "start_time": "2021-11-01T21:05:39.466Z"
   },
   {
    "duration": 14,
    "start_time": "2021-11-01T21:05:39.546Z"
   },
   {
    "duration": 27,
    "start_time": "2021-11-01T21:05:39.563Z"
   },
   {
    "duration": 11,
    "start_time": "2021-11-01T21:05:39.592Z"
   },
   {
    "duration": 66,
    "start_time": "2021-11-01T21:05:39.605Z"
   },
   {
    "duration": 130,
    "start_time": "2021-11-01T21:05:39.672Z"
   },
   {
    "duration": 22,
    "start_time": "2021-11-01T21:05:39.804Z"
   },
   {
    "duration": 18,
    "start_time": "2021-11-01T21:05:39.828Z"
   },
   {
    "duration": 44,
    "start_time": "2021-11-01T21:05:39.848Z"
   },
   {
    "duration": 138,
    "start_time": "2021-11-01T21:05:39.894Z"
   },
   {
    "duration": 28,
    "start_time": "2021-11-01T21:05:40.034Z"
   },
   {
    "duration": 10,
    "start_time": "2021-11-01T21:05:40.064Z"
   },
   {
    "duration": 47,
    "start_time": "2021-11-01T21:05:40.076Z"
   },
   {
    "duration": 62,
    "start_time": "2021-11-01T21:05:40.125Z"
   },
   {
    "duration": 16085,
    "start_time": "2021-11-01T21:05:40.188Z"
   },
   {
    "duration": 3,
    "start_time": "2021-11-01T21:05:56.275Z"
   },
   {
    "duration": 766,
    "start_time": "2021-11-01T21:05:56.279Z"
   },
   {
    "duration": 5,
    "start_time": "2021-11-01T21:05:57.048Z"
   },
   {
    "duration": 95,
    "start_time": "2021-11-01T21:05:57.055Z"
   },
   {
    "duration": 24,
    "start_time": "2021-11-01T21:05:57.153Z"
   },
   {
    "duration": 3,
    "start_time": "2021-11-01T21:05:57.179Z"
   },
   {
    "duration": 5,
    "start_time": "2021-11-01T21:05:57.184Z"
   },
   {
    "duration": 5,
    "start_time": "2021-11-01T21:05:57.191Z"
   },
   {
    "duration": 6,
    "start_time": "2021-11-01T21:05:57.198Z"
   },
   {
    "duration": 359,
    "start_time": "2021-11-01T21:05:57.207Z"
   },
   {
    "duration": -350,
    "start_time": "2021-11-01T21:05:57.918Z"
   },
   {
    "duration": -350,
    "start_time": "2021-11-01T21:05:57.920Z"
   },
   {
    "duration": 4,
    "start_time": "2021-11-01T21:06:49.155Z"
   },
   {
    "duration": 3,
    "start_time": "2021-11-01T21:06:51.234Z"
   },
   {
    "duration": 639,
    "start_time": "2021-11-01T21:06:52.373Z"
   },
   {
    "duration": 4,
    "start_time": "2021-11-01T21:07:08.041Z"
   },
   {
    "duration": 9431,
    "start_time": "2021-11-01T21:07:09.978Z"
   },
   {
    "duration": 5,
    "start_time": "2021-11-02T08:02:12.704Z"
   },
   {
    "duration": 1665,
    "start_time": "2021-11-02T08:02:28.935Z"
   },
   {
    "duration": 185,
    "start_time": "2021-11-02T08:02:30.603Z"
   },
   {
    "duration": 101,
    "start_time": "2021-11-02T08:02:30.792Z"
   },
   {
    "duration": 42,
    "start_time": "2021-11-02T08:02:30.895Z"
   },
   {
    "duration": 76,
    "start_time": "2021-11-02T08:02:30.940Z"
   },
   {
    "duration": 18,
    "start_time": "2021-11-02T08:02:31.018Z"
   },
   {
    "duration": 68,
    "start_time": "2021-11-02T08:02:31.039Z"
   },
   {
    "duration": 178,
    "start_time": "2021-11-02T08:02:31.113Z"
   },
   {
    "duration": 58,
    "start_time": "2021-11-02T08:02:31.295Z"
   },
   {
    "duration": 18,
    "start_time": "2021-11-02T08:02:31.355Z"
   },
   {
    "duration": 76,
    "start_time": "2021-11-02T08:02:31.376Z"
   },
   {
    "duration": 181,
    "start_time": "2021-11-02T08:02:31.455Z"
   },
   {
    "duration": 37,
    "start_time": "2021-11-02T08:02:31.639Z"
   },
   {
    "duration": 17,
    "start_time": "2021-11-02T08:02:31.679Z"
   },
   {
    "duration": 79,
    "start_time": "2021-11-02T08:02:31.699Z"
   },
   {
    "duration": 124,
    "start_time": "2021-11-02T08:02:31.781Z"
   },
   {
    "duration": 23430,
    "start_time": "2021-11-02T08:02:31.908Z"
   },
   {
    "duration": 5,
    "start_time": "2021-11-02T08:02:55.340Z"
   },
   {
    "duration": 1185,
    "start_time": "2021-11-02T08:02:55.348Z"
   },
   {
    "duration": 95,
    "start_time": "2021-11-02T08:02:56.537Z"
   },
   {
    "duration": 10,
    "start_time": "2021-11-02T08:02:56.634Z"
   },
   {
    "duration": 36,
    "start_time": "2021-11-02T08:02:56.647Z"
   },
   {
    "duration": 4,
    "start_time": "2021-11-02T08:02:56.685Z"
   },
   {
    "duration": 37,
    "start_time": "2021-11-02T08:02:56.692Z"
   },
   {
    "duration": 3,
    "start_time": "2021-11-02T08:02:56.732Z"
   },
   {
    "duration": 7,
    "start_time": "2021-11-02T08:02:56.740Z"
   },
   {
    "duration": 10,
    "start_time": "2021-11-02T08:02:56.749Z"
   },
   {
    "duration": 6,
    "start_time": "2021-11-02T08:02:56.761Z"
   },
   {
    "duration": 15707,
    "start_time": "2021-11-02T08:02:56.770Z"
   },
   {
    "duration": 372,
    "start_time": "2021-11-02T08:03:32.654Z"
   },
   {
    "duration": 134,
    "start_time": "2021-11-02T08:11:21.978Z"
   },
   {
    "duration": 184,
    "start_time": "2021-11-02T08:18:26.634Z"
   },
   {
    "duration": 1643,
    "start_time": "2021-11-02T08:39:02.645Z"
   },
   {
    "duration": 169,
    "start_time": "2021-11-02T08:39:04.291Z"
   },
   {
    "duration": 92,
    "start_time": "2021-11-02T08:39:04.463Z"
   },
   {
    "duration": 19,
    "start_time": "2021-11-02T08:39:04.558Z"
   },
   {
    "duration": 66,
    "start_time": "2021-11-02T08:39:04.580Z"
   },
   {
    "duration": 13,
    "start_time": "2021-11-02T08:39:04.649Z"
   },
   {
    "duration": 66,
    "start_time": "2021-11-02T08:39:04.665Z"
   },
   {
    "duration": 166,
    "start_time": "2021-11-02T08:39:04.735Z"
   },
   {
    "duration": 47,
    "start_time": "2021-11-02T08:39:04.904Z"
   },
   {
    "duration": 14,
    "start_time": "2021-11-02T08:39:04.953Z"
   },
   {
    "duration": 71,
    "start_time": "2021-11-02T08:39:04.969Z"
   },
   {
    "duration": 165,
    "start_time": "2021-11-02T08:39:05.042Z"
   },
   {
    "duration": 46,
    "start_time": "2021-11-02T08:39:05.210Z"
   },
   {
    "duration": 17,
    "start_time": "2021-11-02T08:39:05.259Z"
   },
   {
    "duration": 82,
    "start_time": "2021-11-02T08:39:05.279Z"
   },
   {
    "duration": 97,
    "start_time": "2021-11-02T08:39:05.364Z"
   },
   {
    "duration": 23380,
    "start_time": "2021-11-02T08:39:05.464Z"
   },
   {
    "duration": 5,
    "start_time": "2021-11-02T08:39:28.846Z"
   },
   {
    "duration": 986,
    "start_time": "2021-11-02T08:39:28.853Z"
   },
   {
    "duration": 97,
    "start_time": "2021-11-02T08:39:29.932Z"
   },
   {
    "duration": 36,
    "start_time": "2021-11-02T08:39:30.032Z"
   },
   {
    "duration": 61,
    "start_time": "2021-11-02T08:39:30.070Z"
   },
   {
    "duration": 3,
    "start_time": "2021-11-02T08:39:30.136Z"
   },
   {
    "duration": 33,
    "start_time": "2021-11-02T08:39:30.141Z"
   },
   {
    "duration": 20,
    "start_time": "2021-11-02T08:39:30.176Z"
   },
   {
    "duration": 17,
    "start_time": "2021-11-02T08:39:30.199Z"
   },
   {
    "duration": 19,
    "start_time": "2021-11-02T08:39:30.218Z"
   },
   {
    "duration": 15,
    "start_time": "2021-11-02T08:39:30.239Z"
   },
   {
    "duration": 15900,
    "start_time": "2021-11-02T08:39:30.257Z"
   }
  ],
  "kernelspec": {
   "display_name": "Python 3",
   "language": "python",
   "name": "python3"
  },
  "language_info": {
   "codemirror_mode": {
    "name": "ipython",
    "version": 3
   },
   "file_extension": ".py",
   "mimetype": "text/x-python",
   "name": "python",
   "nbconvert_exporter": "python",
   "pygments_lexer": "ipython3",
   "version": "3.8.5"
  },
  "toc": {
   "base_numbering": 1,
   "nav_menu": {},
   "number_sections": true,
   "sideBar": true,
   "skip_h1_title": true,
   "title_cell": "Table of Contents",
   "title_sidebar": "Contents",
   "toc_cell": false,
   "toc_position": {},
   "toc_section_display": true,
   "toc_window_display": false
  }
 },
 "nbformat": 4,
 "nbformat_minor": 2
}
