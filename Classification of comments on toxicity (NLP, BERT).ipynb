{
 "cells": [
  {
   "cell_type": "markdown",
   "metadata": {
    "cellId": "aed37qcqij4ogpn6fgsten"
   },
   "source": [
    "# Проект для «Викишоп»"
   ]
  },
  {
   "cell_type": "markdown",
   "metadata": {
    "cellId": "uo1t4wcfstj0f18h8b8r42b"
   },
   "source": [
    "Интернет-магазин «Викишоп» запускает новый сервис. Теперь пользователи могут редактировать и дополнять описания товаров, как в вики-сообществах. То есть клиенты предлагают свои правки и комментируют изменения других. Магазину нужен инструмент, который будет искать токсичные комментарии и отправлять их на модерацию. \n",
    "\n",
    "Обучите модель классифицировать комментарии на позитивные и негативные. В распоряжении набор данных с разметкой о токсичности правок.\n",
    "\n",
    "Необходимо построить модель со значением метрики качества *F1* не меньше 0.75. \n",
    "\n"
   ]
  },
  {
   "cell_type": "markdown",
   "metadata": {
    "toc": true
   },
   "source": [
    "<h1>Содержание<span class=\"tocSkip\"></span></h1>\n",
    "<div class=\"toc\"><ul class=\"toc-item\"><li><span><a href=\"#Подготовка\" data-toc-modified-id=\"Подготовка-1\"><span class=\"toc-item-num\">1&nbsp;&nbsp;</span>Подготовка</a></span></li><li><span><a href=\"#TF-IDF\" data-toc-modified-id=\"TF-IDF-2\"><span class=\"toc-item-num\">2&nbsp;&nbsp;</span>TF-IDF</a></span></li><li><span><a href=\"#Обучение\" data-toc-modified-id=\"Обучение-3\"><span class=\"toc-item-num\">3&nbsp;&nbsp;</span>Обучение</a></span></li><li><span><a href=\"#LGBM\" data-toc-modified-id=\"LGBM-4\"><span class=\"toc-item-num\">4&nbsp;&nbsp;</span>LGBM</a></span></li><li><span><a href=\"#N-Gramm-with-LogisticRegression\" data-toc-modified-id=\"N-Gramm-with-LogisticRegression-5\"><span class=\"toc-item-num\">5&nbsp;&nbsp;</span>N-Gramm with LogisticRegression</a></span></li><li><span><a href=\"#BERT\" data-toc-modified-id=\"BERT-6\"><span class=\"toc-item-num\">6&nbsp;&nbsp;</span>BERT</a></span></li><li><span><a href=\"#BertClassifier\" data-toc-modified-id=\"BertClassifier-7\"><span class=\"toc-item-num\">7&nbsp;&nbsp;</span>BertClassifier</a></span></li><li><span><a href=\"#Выводы\" data-toc-modified-id=\"Выводы-8\"><span class=\"toc-item-num\">8&nbsp;&nbsp;</span>Выводы</a></span></li><li><span><a href=\"#Чек-лист-проверки\" data-toc-modified-id=\"Чек-лист-проверки-9\"><span class=\"toc-item-num\">9&nbsp;&nbsp;</span>Чек-лист проверки</a></span></li></ul></div>"
   ]
  },
  {
   "cell_type": "markdown",
   "metadata": {},
   "source": [
    "Импорт необходимых библиотек"
   ]
  },
  {
   "cell_type": "code",
   "execution_count": 3,
   "metadata": {
    "cellId": "026rrvjuljipmifxj0lwfxa",
    "jupyter": {
     "outputs_hidden": true
    }
   },
   "outputs": [
    {
     "name": "stdout",
     "output_type": "stream",
     "text": [
      "Requirement already satisfied: transformers==2.8 in /Users/a1234/opt/anaconda3/lib/python3.8/site-packages (2.8.0)\n",
      "Requirement already satisfied: sentencepiece in /Users/a1234/opt/anaconda3/lib/python3.8/site-packages (from transformers==2.8) (0.1.96)\n",
      "Requirement already satisfied: sacremoses in /Users/a1234/opt/anaconda3/lib/python3.8/site-packages (from transformers==2.8) (0.0.46)\n",
      "Requirement already satisfied: tokenizers==0.5.2 in /Users/a1234/opt/anaconda3/lib/python3.8/site-packages (from transformers==2.8) (0.5.2)\n",
      "Requirement already satisfied: regex!=2019.12.17 in /Users/a1234/opt/anaconda3/lib/python3.8/site-packages (from transformers==2.8) (2020.10.15)\n",
      "Requirement already satisfied: boto3 in /Users/a1234/opt/anaconda3/lib/python3.8/site-packages (from transformers==2.8) (1.21.33)\n",
      "Requirement already satisfied: numpy in /Users/a1234/opt/anaconda3/lib/python3.8/site-packages (from transformers==2.8) (1.18.0)\n",
      "Requirement already satisfied: filelock in /Users/a1234/opt/anaconda3/lib/python3.8/site-packages (from transformers==2.8) (3.0.12)\n",
      "Requirement already satisfied: tqdm>=4.27 in /Users/a1234/opt/anaconda3/lib/python3.8/site-packages (from transformers==2.8) (4.62.0)\n",
      "Requirement already satisfied: requests in /Users/a1234/opt/anaconda3/lib/python3.8/site-packages (from transformers==2.8) (2.22.0)\n",
      "Requirement already satisfied: s3transfer<0.6.0,>=0.5.0 in /Users/a1234/opt/anaconda3/lib/python3.8/site-packages (from boto3->transformers==2.8) (0.5.2)\n",
      "Requirement already satisfied: botocore<1.25.0,>=1.24.33 in /Users/a1234/opt/anaconda3/lib/python3.8/site-packages (from boto3->transformers==2.8) (1.24.33)\n",
      "Requirement already satisfied: jmespath<2.0.0,>=0.7.1 in /Users/a1234/opt/anaconda3/lib/python3.8/site-packages (from boto3->transformers==2.8) (1.0.0)\n",
      "Requirement already satisfied: chardet<3.1.0,>=3.0.2 in /Users/a1234/opt/anaconda3/lib/python3.8/site-packages (from requests->transformers==2.8) (3.0.4)\n",
      "Requirement already satisfied: certifi>=2017.4.17 in /Users/a1234/opt/anaconda3/lib/python3.8/site-packages (from requests->transformers==2.8) (2020.6.20)\n",
      "Requirement already satisfied: idna<2.9,>=2.5 in /Users/a1234/opt/anaconda3/lib/python3.8/site-packages (from requests->transformers==2.8) (2.8)\n",
      "Requirement already satisfied: urllib3!=1.25.0,!=1.25.1,<1.26,>=1.21.1 in /Users/a1234/opt/anaconda3/lib/python3.8/site-packages (from requests->transformers==2.8) (1.25.11)\n",
      "Requirement already satisfied: six in /Users/a1234/opt/anaconda3/lib/python3.8/site-packages (from sacremoses->transformers==2.8) (1.15.0)\n",
      "Requirement already satisfied: click in /Users/a1234/opt/anaconda3/lib/python3.8/site-packages (from sacremoses->transformers==2.8) (7.1.2)\n",
      "Requirement already satisfied: joblib in /Users/a1234/opt/anaconda3/lib/python3.8/site-packages (from sacremoses->transformers==2.8) (0.17.0)\n",
      "Requirement already satisfied: python-dateutil<3.0.0,>=2.1 in /Users/a1234/opt/anaconda3/lib/python3.8/site-packages (from botocore<1.25.0,>=1.24.33->boto3->transformers==2.8) (2.8.1)\n",
      "\u001b[33mWARNING: You are using pip version 21.3.1; however, version 22.0.4 is available.\n",
      "You should consider upgrading via the '/Users/a1234/opt/anaconda3/bin/python -m pip install --upgrade pip' command.\u001b[0m\n",
      "Note: you may need to restart the kernel to use updated packages.\n"
     ]
    }
   ],
   "source": [
    "%pip install scikit-learn==0.22.1\n",
    "%pip install wordcloud\n",
    "%pip install transformers==2.8"
   ]
  },
  {
   "cell_type": "code",
   "execution_count": 5,
   "metadata": {
    "cellId": "fbdmdt9ou5bvdfkgwzgsfd",
    "jupyter": {
     "outputs_hidden": true
    }
   },
   "outputs": [
    {
     "name": "stderr",
     "output_type": "stream",
     "text": [
      "[nltk_data] Downloading package punkt to /Users/a1234/nltk_data...\n",
      "[nltk_data]   Package punkt is already up-to-date!\n",
      "[nltk_data] Downloading package wordnet to /Users/a1234/nltk_data...\n",
      "[nltk_data]   Package wordnet is already up-to-date!\n",
      "[nltk_data] Downloading package stopwords to /Users/a1234/nltk_data...\n",
      "[nltk_data]   Package stopwords is already up-to-date!\n",
      "[nltk_data] Downloading package averaged_perceptron_tagger to\n",
      "[nltk_data]     /Users/a1234/nltk_data...\n",
      "[nltk_data]   Package averaged_perceptron_tagger is already up-to-\n",
      "[nltk_data]       date!\n"
     ]
    }
   ],
   "source": [
    "import pandas as pd\n",
    "import re\n",
    "from sklearn.feature_extraction.text import CountVectorizer\n",
    "import nltk\n",
    "from nltk.corpus import stopwords as nltk_stopwords\n",
    "from nltk.stem import WordNetLemmatizer \n",
    "\n",
    "nltk.download('punkt')\n",
    "nltk.download('wordnet')\n",
    "nltk.download('stopwords')\n",
    "nltk.download('averaged_perceptron_tagger')\n",
    "from nltk.corpus import wordnet\n",
    "import warnings\n",
    "warnings.filterwarnings('ignore')\n",
    "from sklearn.feature_extraction.text import TfidfVectorizer\n",
    "import torch\n",
    "import transformers\n",
    "import numpy as np\n",
    "\n",
    "from tqdm import notebook\n",
    "from sklearn.linear_model import LogisticRegression\n",
    "from sklearn.model_selection import cross_val_score\n",
    "from sklearn.model_selection import train_test_split\n",
    "from sklearn.metrics import f1_score\n",
    "from sklearn.model_selection import GridSearchCV\n",
    "from sklearn.model_selection import cross_val_score\n",
    "\n",
    "import lightgbm as lgbm\n",
    "from lightgbm import LGBMClassifier\n",
    "import math\n",
    "import warnings\n",
    "warnings.filterwarnings('ignore')"
   ]
  },
  {
   "cell_type": "markdown",
   "metadata": {
    "cellId": "m0bpr7y3ei44v04m54orj"
   },
   "source": [
    "## Подготовка"
   ]
  },
  {
   "cell_type": "code",
   "execution_count": 6,
   "metadata": {
    "cellId": "31xu25rbsfwanmbnj6fcqa"
   },
   "outputs": [
    {
     "data": {
      "text/html": [
       "<div>\n",
       "<style scoped>\n",
       "    .dataframe tbody tr th:only-of-type {\n",
       "        vertical-align: middle;\n",
       "    }\n",
       "\n",
       "    .dataframe tbody tr th {\n",
       "        vertical-align: top;\n",
       "    }\n",
       "\n",
       "    .dataframe thead th {\n",
       "        text-align: right;\n",
       "    }\n",
       "</style>\n",
       "<table border=\"1\" class=\"dataframe\">\n",
       "  <thead>\n",
       "    <tr style=\"text-align: right;\">\n",
       "      <th></th>\n",
       "      <th>text</th>\n",
       "      <th>toxic</th>\n",
       "    </tr>\n",
       "  </thead>\n",
       "  <tbody>\n",
       "    <tr>\n",
       "      <th>0</th>\n",
       "      <td>Explanation\\nWhy the edits made under my usern...</td>\n",
       "      <td>0</td>\n",
       "    </tr>\n",
       "    <tr>\n",
       "      <th>1</th>\n",
       "      <td>D'aww! He matches this background colour I'm s...</td>\n",
       "      <td>0</td>\n",
       "    </tr>\n",
       "    <tr>\n",
       "      <th>2</th>\n",
       "      <td>Hey man, I'm really not trying to edit war. It...</td>\n",
       "      <td>0</td>\n",
       "    </tr>\n",
       "    <tr>\n",
       "      <th>3</th>\n",
       "      <td>\"\\nMore\\nI can't make any real suggestions on ...</td>\n",
       "      <td>0</td>\n",
       "    </tr>\n",
       "    <tr>\n",
       "      <th>4</th>\n",
       "      <td>You, sir, are my hero. Any chance you remember...</td>\n",
       "      <td>0</td>\n",
       "    </tr>\n",
       "  </tbody>\n",
       "</table>\n",
       "</div>"
      ],
      "text/plain": [
       "                                                text  toxic\n",
       "0  Explanation\\nWhy the edits made under my usern...      0\n",
       "1  D'aww! He matches this background colour I'm s...      0\n",
       "2  Hey man, I'm really not trying to edit war. It...      0\n",
       "3  \"\\nMore\\nI can't make any real suggestions on ...      0\n",
       "4  You, sir, are my hero. Any chance you remember...      0"
      ]
     },
     "execution_count": 6,
     "metadata": {},
     "output_type": "execute_result"
    }
   ],
   "source": [
    "df = pd.read_csv('/toxic_comments.csv')\n",
    "df.head()"
   ]
  },
  {
   "cell_type": "code",
   "execution_count": 7,
   "metadata": {
    "cellId": "fk3nnxfrvijnpdmyhv5xhe"
   },
   "outputs": [
    {
     "data": {
      "text/plain": [
       "(159571, 2)"
      ]
     },
     "execution_count": 7,
     "metadata": {},
     "output_type": "execute_result"
    }
   ],
   "source": [
    "df.shape"
   ]
  },
  {
   "cell_type": "markdown",
   "metadata": {
    "cellId": "n9e6xdopkf8yhuhhhxue2s"
   },
   "source": [
    "Посмотрим на распределение целевой переменной:"
   ]
  },
  {
   "cell_type": "code",
   "execution_count": 8,
   "metadata": {
    "cellId": "0h0zvo6oh5pm82qfgi6pk3k"
   },
   "outputs": [
    {
     "data": {
      "text/plain": [
       "<AxesSubplot:xlabel='toxic'>"
      ]
     },
     "execution_count": 8,
     "metadata": {},
     "output_type": "execute_result"
    },
    {
     "data": {
      "image/png": "[encoded data removed]",
      "text/plain": [
       "<Figure size 432x288 with 1 Axes>"
      ]
     },
     "metadata": {
      "needs_background": "light"
     },
     "output_type": "display_data"
    }
   ],
   "source": [
    "df.groupby(['toxic']).size().plot.bar()"
   ]
  },
  {
   "cell_type": "markdown",
   "metadata": {
    "cellId": "u7k5e5qgw2mcbzta5uaehp"
   },
   "source": [
    "Данные не сбалансированы."
   ]
  },
  {
   "cell_type": "code",
   "execution_count": 9,
   "metadata": {
    "cellId": "g2zr3udjvsl6grqc4dw07a"
   },
   "outputs": [
    {
     "data": {
      "image/png": "[encoded data removed]",
      "text/plain": [
       "<Figure size 432x288 with 1 Axes>"
      ]
     },
     "metadata": {
      "needs_background": "light"
     },
     "output_type": "display_data"
    },
    {
     "data": {
      "image/png": "[encoded data removed]",
      "text/plain": [
       "<Figure size 432x288 with 1 Axes>"
      ]
     },
     "metadata": {
      "needs_background": "light"
     },
     "output_type": "display_data"
    }
   ],
   "source": [
    "import os\n",
    "\n",
    "from os import path\n",
    "from wordcloud import WordCloud\n",
    "\n",
    "\n",
    "# Generate a word cloud image\n",
    "wordcloud = WordCloud().generate(df['text'][0])\n",
    "\n",
    "# Display the generated image:\n",
    "# the matplotlib way:\n",
    "import matplotlib.pyplot as plt\n",
    "plt.imshow(wordcloud, interpolation='bilinear')\n",
    "plt.axis(\"off\")\n",
    "\n",
    "# lower max_font_size\n",
    "wordcloud = WordCloud(max_font_size=40).generate(df['text'][0])\n",
    "plt.figure()\n",
    "plt.imshow(wordcloud, interpolation=\"bilinear\")\n",
    "plt.axis(\"off\")\n",
    "plt.show()"
   ]
  },
  {
   "cell_type": "code",
   "execution_count": 10,
   "metadata": {
    "cellId": "699cboeimd56rrr6lmdb2s"
   },
   "outputs": [],
   "source": [
    "corpus = df['text'].values.astype('U')"
   ]
  },
  {
   "cell_type": "code",
   "execution_count": 11,
   "metadata": {
    "cellId": "7k0j2bkm4aeleu9gr5mavi"
   },
   "outputs": [
    {
     "name": "stdout",
     "output_type": "stream",
     "text": [
      "Requirement already satisfied: nltk in /Users/a1234/opt/anaconda3/lib/python3.8/site-packages (3.5)\n",
      "Requirement already satisfied: joblib in /Users/a1234/opt/anaconda3/lib/python3.8/site-packages (from nltk) (0.17.0)\n",
      "Requirement already satisfied: click in /Users/a1234/opt/anaconda3/lib/python3.8/site-packages (from nltk) (7.1.2)\n",
      "Requirement already satisfied: tqdm in /Users/a1234/opt/anaconda3/lib/python3.8/site-packages (from nltk) (4.62.0)\n",
      "Requirement already satisfied: regex in /Users/a1234/opt/anaconda3/lib/python3.8/site-packages (from nltk) (2020.10.15)\n",
      "\u001b[33mWARNING: You are using pip version 21.3.1; however, version 22.0.4 is available.\n",
      "You should consider upgrading via the '/Users/a1234/opt/anaconda3/bin/python -m pip install --upgrade pip' command.\u001b[0m\n",
      "Note: you may need to restart the kernel to use updated packages.\n",
      "Исходный текст: Explanation\n",
      "Why the edits made under my username Hardcore Metallica Fan were reverted? They weren't vandalisms, just closure on some GAs after I voted at New York Dolls FAC. And please don't remove the template from the talk page since I'm retired now.89.205.38.27\n"
     ]
    },
    {
     "name": "stderr",
     "output_type": "stream",
     "text": [
      "[nltk_data] Downloading package wordnet to /Users/a1234/nltk_data...\n",
      "[nltk_data]   Package wordnet is already up-to-date!\n"
     ]
    },
    {
     "name": "stdout",
     "output_type": "stream",
     "text": [
      "Очищенный и лемматизированный текст: explanation why the edits make under my username hardcore metallica fan be revert they weren t vandalism just closure on some gas after i vote at new york doll fac and please don t remove the template from the talk page since i m retire now\n",
      "CPU times: user 1.61 s, sys: 395 ms, total: 2 s\n",
      "Wall time: 4.6 s\n"
     ]
    }
   ],
   "source": [
    "%%time\n",
    "%pip install nltk\n",
    "nltk.download('wordnet')\n",
    "def get_wordnet_pos(word):\n",
    "    \"\"\"Map POS tag to first character lemmatize() accepts\"\"\"\n",
    "    tag = nltk.pos_tag([word])[0][1][0].upper()\n",
    "    tag_dict = {\"J\": wordnet.ADJ,\n",
    "                \"N\": wordnet.NOUN,\n",
    "                \"V\": wordnet.VERB,\n",
    "                \"R\": wordnet.ADV}\n",
    "    return tag_dict.get(tag, wordnet.NOUN)\n",
    "\n",
    "def lemmatize(text):\n",
    "    word_list = nltk.word_tokenize(text)\n",
    "    lemmatizer = WordNetLemmatizer()\n",
    "    lemm_text = ' '.join([lemmatizer.lemmatize(w, get_wordnet_pos(w)) for w in word_list])\n",
    "        \n",
    "    return lemm_text\n",
    "\n",
    "\n",
    "def clear_text(text):\n",
    "    pattern = r'[^a-zA-Z ]'\n",
    "    replacement = ' '\n",
    "    t = re.sub(pattern, replacement, text)\n",
    "    return(' '.join(t.split()).lower())\n",
    "print(\"Исходный текст:\", corpus[0])\n",
    "print(\"Очищенный и лемматизированный текст:\", lemmatize(clear_text(corpus[0])))"
   ]
  },
  {
   "cell_type": "code",
   "execution_count": 14,
   "metadata": {
    "cellId": "bi1kit3w1atvi8t8f6z2qs"
   },
   "outputs": [
    {
     "name": "stdout",
     "output_type": "stream",
     "text": [
      "Requirement already satisfied: nltk in /Users/a1234/opt/anaconda3/lib/python3.8/site-packages (3.5)\n",
      "Requirement already satisfied: click in /Users/a1234/opt/anaconda3/lib/python3.8/site-packages (from nltk) (7.1.2)\n",
      "Requirement already satisfied: tqdm in /Users/a1234/opt/anaconda3/lib/python3.8/site-packages (from nltk) (4.62.0)\n",
      "Requirement already satisfied: joblib in /Users/a1234/opt/anaconda3/lib/python3.8/site-packages (from nltk) (0.17.0)\n",
      "Requirement already satisfied: regex in /Users/a1234/opt/anaconda3/lib/python3.8/site-packages (from nltk) (2020.10.15)\n",
      "\u001b[33mWARNING: You are using pip version 21.3.1; however, version 22.0.4 is available.\n",
      "You should consider upgrading via the '/Users/a1234/opt/anaconda3/bin/python -m pip install --upgrade pip' command.\u001b[0m\n",
      "Note: you may need to restart the kernel to use updated packages.\n"
     ]
    },
    {
     "name": "stderr",
     "output_type": "stream",
     "text": [
      "[nltk_data] Downloading package wordnet to /Users/a1234/nltk_data...\n",
      "[nltk_data]   Package wordnet is already up-to-date!\n"
     ]
    },
    {
     "name": "stdout",
     "output_type": "stream",
     "text": [
      "CPU times: user 23min 2s, sys: 4min 14s, total: 27min 17s\n",
      "Wall time: 27min 37s\n"
     ]
    }
   ],
   "source": [
    "%%time\n",
    "%pip install nltk\n",
    "nltk.download('wordnet')\n",
    "df['text'] = df['text'].apply(lambda x : lemmatize(clear_text(x)))"
   ]
  },
  {
   "cell_type": "code",
   "execution_count": 15,
   "metadata": {
    "cellId": "gki0fclkably1sw8s01qnm"
   },
   "outputs": [],
   "source": [
    "corpus = df['text'].values.astype('U')"
   ]
  },
  {
   "cell_type": "markdown",
   "metadata": {
    "cellId": "wa2q37vihgc1sye1z38h3j"
   },
   "source": [
    "## TF-IDF"
   ]
  },
  {
   "cell_type": "markdown",
   "metadata": {
    "cellId": "yi7dx074o58kmdwhe2xzb"
   },
   "source": [
    "## Обучение"
   ]
  },
  {
   "cell_type": "code",
   "execution_count": 16,
   "metadata": {
    "cellId": "2fiek8bjbe2zenl6m7bx6"
   },
   "outputs": [],
   "source": [
    "model = LogisticRegression(class_weight='balanced', random_state=12345, max_iter=1e6)"
   ]
  },
  {
   "cell_type": "code",
   "execution_count": 17,
   "metadata": {},
   "outputs": [
    {
     "name": "stderr",
     "output_type": "stream",
     "text": [
      "[nltk_data] Downloading package stopwords to /Users/a1234/nltk_data...\n",
      "[nltk_data]   Package stopwords is already up-to-date!\n"
     ]
    }
   ],
   "source": [
    "nltk.download('stopwords')\n",
    "stopwords = set(nltk_stopwords.words('english'))"
   ]
  },
  {
   "cell_type": "code",
   "execution_count": 18,
   "metadata": {
    "cellId": "mynu1k5059d3e40qzno4"
   },
   "outputs": [
    {
     "name": "stdout",
     "output_type": "stream",
     "text": [
      "0.7525660624590522 [1, 2]\n",
      "CPU times: user 4min 6s, sys: 40.7 s, total: 4min 47s\n",
      "Wall time: 2min 43s\n"
     ]
    }
   ],
   "source": [
    "%%time\n",
    "\n",
    "best_score=0\n",
    "bestnrgam = 0\n",
    "for i in range(2,4):\n",
    "    X_train, X_test, y_train, y_test = train_test_split(corpus, df['toxic'], test_size=0.25, random_state=12345)\n",
    "    count_tf_idf = TfidfVectorizer(ngram_range=(1, i), stop_words=stopwords, max_df = 0.975)\n",
    "    X_train = count_tf_idf.fit_transform(X_train)\n",
    "    X_test = count_tf_idf.transform(X_test)\n",
    "    model.fit(X_train, y_train)\n",
    "    pred = model.predict(X_test)\n",
    "    score=f1_score(y_test, pred)\n",
    "    if best_score<score:\n",
    "        best_score=score\n",
    "        bestnrgam = [1,i]\n",
    "print(best_score, bestnrgam)"
   ]
  },
  {
   "cell_type": "code",
   "execution_count": 19,
   "metadata": {
    "cellId": "a5ymqjpfwxq4lue1ttc6s"
   },
   "outputs": [],
   "source": [
    "X_train, X_test, y_train, y_test = train_test_split(corpus, df['toxic'], test_size=0.25, random_state=12345)\n",
    "\n",
    "count_tf_idf = TfidfVectorizer(ngram_range=(1, 2), stop_words=stopwords, max_df = 0.975)\n",
    "X_train = count_tf_idf.fit_transform(X_train)\n",
    "X_test = count_tf_idf.transform(X_test)"
   ]
  },
  {
   "cell_type": "code",
   "execution_count": 21,
   "metadata": {
    "cellId": "4po5co7ur9qqe0xvfevto"
   },
   "outputs": [],
   "source": [
    "def eval(model, params):\n",
    "    grid = GridSearchCV(model, param_grid=params, scoring='f1', n_jobs=-1)\n",
    "    grid.fit(X_train, y_train)\n",
    "    pred = grid.predict(X_test)                                                   \n",
    "    accuracy = f1_score(y_test, pred)\n",
    "    print('F1', accuracy)\n",
    "    print(grid.best_params_)"
   ]
  },
  {
   "cell_type": "code",
   "execution_count": 22,
   "metadata": {
    "cellId": "c966qdqapsn7xnls35wjyv"
   },
   "outputs": [
    {
     "name": "stdout",
     "output_type": "stream",
     "text": [
      "F1 0.7525660624590522\n",
      "{'max_iter': 177.82794100389228}\n",
      "CPU times: user 1min 13s, sys: 17.5 s, total: 1min 31s\n",
      "Wall time: 5min 12s\n"
     ]
    }
   ],
   "source": [
    "%%time\n",
    "model = LogisticRegression(class_weight='balanced', random_state=12345)\n",
    "eval(model, {'max_iter' : np.logspace(1, 6, 5)})"
   ]
  },
  {
   "cell_type": "code",
   "execution_count": 23,
   "metadata": {
    "cellId": "yacczcsz8us95bpgspgcg5"
   },
   "outputs": [
    {
     "name": "stdout",
     "output_type": "stream",
     "text": [
      "F1 0.7525660624590522\n",
      "{'penalty': 'l2'}\n",
      "CPU times: user 1min 12s, sys: 17.4 s, total: 1min 29s\n",
      "Wall time: 1min 36s\n"
     ]
    }
   ],
   "source": [
    "%%time\n",
    "model = LogisticRegression(class_weight='balanced', max_iter=177,  random_state=12345)\n",
    "eval(model, {'penalty':['l1', 'l2']})"
   ]
  },
  {
   "cell_type": "code",
   "execution_count": 24,
   "metadata": {
    "cellId": "ip4opst28h7yl8f78ibot"
   },
   "outputs": [
    {
     "name": "stdout",
     "output_type": "stream",
     "text": [
      "F1 0.7862961188308577\n",
      "{'C': 10.0}\n",
      "CPU times: user 3min 17s, sys: 53.8 s, total: 4min 10s\n",
      "Wall time: 7min 10s\n"
     ]
    }
   ],
   "source": [
    "%%time\n",
    "model = LogisticRegression(class_weight='balanced', max_iter=177, penalty='l2', random_state=12345)\n",
    "eval(model, {'C' : np.logspace(-2, 1, 4)})"
   ]
  },
  {
   "cell_type": "code",
   "execution_count": 25,
   "metadata": {
    "cellId": "bb2mzp697ukvy4xdqxc2xc"
   },
   "outputs": [
    {
     "name": "stdout",
     "output_type": "stream",
     "text": [
      "F1 0.7862961188308577\n",
      "{'tol': 0.1}\n",
      "CPU times: user 3min 39s, sys: 51.1 s, total: 4min 30s\n",
      "Wall time: 7min 19s\n"
     ]
    }
   ],
   "source": [
    "%%time\n",
    "model = LogisticRegression(class_weight='balanced', max_iter=177, penalty='l2', C=10, random_state=12345)\n",
    "eval(model, {'tol' : np.logspace(-6, 4, 3)})"
   ]
  },
  {
   "cell_type": "markdown",
   "metadata": {
    "cellId": "j5h6u55egbl8su8s9xqw"
   },
   "source": [
    "## N-Gramm with LogisticRegression"
   ]
  },
  {
   "cell_type": "code",
   "execution_count": 27,
   "metadata": {
    "cellId": "mr394mbvh1si2kybbwj7q"
   },
   "outputs": [
    {
     "name": "stdout",
     "output_type": "stream",
     "text": [
      "0.5104208904387317 [1, 3]\n",
      "CPU times: user 1min 32s, sys: 10.9 s, total: 1min 43s\n",
      "Wall time: 1min 48s\n"
     ]
    }
   ],
   "source": [
    "%%time\n",
    "model = LogisticRegression(class_weight='balanced', random_state=12345, max_iter=1e6)\n",
    "best_score=0\n",
    "bestnrgam = 0\n",
    "for i in range(2,4):\n",
    "    X_train, X_test, y_train, y_test = train_test_split(corpus, df['toxic'], test_size=0.25, random_state=12345)\n",
    "    count_vect = CountVectorizer(ngram_range=(1, i), stop_words=stopwords, max_df = 0.975, min_df = 0.005)\n",
    "    X_train = count_vect.fit_transform(list(X_train))\n",
    "    X_test = count_vect.transform(X_test)\n",
    "    model.fit(X_train, y_train)\n",
    "    pred = model.predict(X_test)\n",
    "    score=f1_score(y_test, pred)\n",
    "    if best_score<score:\n",
    "        best_score=score\n",
    "        bestnrgam = [1,i]\n",
    "print(best_score, bestnrgam)"
   ]
  },
  {
   "cell_type": "code",
   "execution_count": 28,
   "metadata": {
    "cellId": "y2yw7oqobxhc2ul9jg9jtw"
   },
   "outputs": [
    {
     "name": "stdout",
     "output_type": "stream",
     "text": [
      "Размер: (119678, 1001) (39893, 1001)\n"
     ]
    }
   ],
   "source": [
    "X_train, X_test, y_train, y_test = train_test_split(corpus, df['toxic'], test_size=0.25, random_state=12345)\n",
    "count_vect = CountVectorizer(ngram_range=(1, 3), stop_words=stopwords, max_df = 0.975, min_df = 0.005)\n",
    "X_train = count_vect.fit_transform(list(X_train))\n",
    "X_test = count_vect.transform(X_test)\n",
    "print(\"Размер:\", X_train.shape, X_test.shape)"
   ]
  },
  {
   "cell_type": "code",
   "execution_count": 29,
   "metadata": {
    "cellId": "u7vmi27ejmi09ulqhz8a"
   },
   "outputs": [
    {
     "name": "stdout",
     "output_type": "stream",
     "text": [
      "F1 0.510255051842882\n",
      "{'max_iter': 10.0}\n",
      "CPU times: user 542 ms, sys: 293 ms, total: 835 ms\n",
      "Wall time: 48.4 s\n"
     ]
    }
   ],
   "source": [
    "%%time\n",
    "model = LogisticRegression(class_weight='balanced', random_state=12345)\n",
    "eval(model, {'max_iter' : np.logspace(1, 6, 5)})"
   ]
  },
  {
   "cell_type": "markdown",
   "metadata": {
    "cellId": "l4dpqibyupk872gabci93m"
   },
   "source": [
    "## BERT"
   ]
  },
  {
   "cell_type": "code",
   "execution_count": 31,
   "metadata": {
    "cellId": "bc316s7083t7dzea7k4p9o"
   },
   "outputs": [
    {
     "data": {
      "text/plain": [
       "((3200, 2), (3200,), (2582, 1))"
      ]
     },
     "execution_count": 31,
     "metadata": {},
     "output_type": "execute_result"
    }
   ],
   "source": [
    "df = pd.read_csv('toxic_comments.csv')\n",
    "df = df.sample(df.shape[0]//10, random_state=12345).reset_index(drop=True)\n",
    "\n",
    "df_tweets = df.sample(3200, random_state=12345).reset_index(drop=True)\n",
    "#df_tweets = df\n",
    "data=[]\n",
    "y = []\n",
    "for i in range(len(df_tweets)):\n",
    "    if len(df_tweets['text'][i])<=512:\n",
    "        data.append(df_tweets['text'][i])\n",
    "        y.append(df_tweets['toxic'][i])\n",
    "#df_tweets = pd.DataFrame(data)\n",
    "y = pd.DataFrame(y)\n",
    "tokenizer = transformers.BertTokenizer(\n",
    "    vocab_file='bert-base-uncased-vocab.txt')\n",
    "tokenized = df_tweets['text'].apply(\n",
    "    lambda x: tokenizer.encode(x, add_special_tokens=True, max_length=512, truncation=True))\n",
    "df_tweets.shape, tokenized.shape, y.shape"
   ]
  },
  {
   "cell_type": "code",
   "execution_count": 32,
   "metadata": {
    "cellId": "b44rt4j8nlsip2jwvwlq"
   },
   "outputs": [
    {
     "data": {
      "text/plain": [
       "(3200, 512)"
      ]
     },
     "execution_count": 32,
     "metadata": {},
     "output_type": "execute_result"
    }
   ],
   "source": [
    "max_len = 0\n",
    "for i in tokenized.values:\n",
    "    if len(i) > max_len:\n",
    "        max_len = len(i)\n",
    "\n",
    "padded = np.array([i + [0]*(max_len - len(i)) for i in tokenized.values])\n",
    "\n",
    "attention_mask = np.where(padded != 0, 1, 0)\n",
    "attention_mask.shape"
   ]
  },
  {
   "cell_type": "code",
   "execution_count": 33,
   "metadata": {
    "cellId": "whmeyaxgtaudlni27wxm"
   },
   "outputs": [
    {
     "data": {
      "application/vnd.jupyter.widget-view+json": {
       "model_id": "404490920e3643429bdaf454cf2d80a6",
       "version_major": 2,
       "version_minor": 0
      },
      "text/plain": [
       "Downloading:   0%|          | 0.00/440M [00:00<?, ?B/s]"
      ]
     },
     "metadata": {},
     "output_type": "display_data"
    }
   ],
   "source": [
    "config = transformers.BertConfig.from_json_file(\n",
    "    'config.json')\n",
    "model = transformers.BertModel.from_pretrained('bert-base-uncased',\n",
    "                                  config=config)"
   ]
  },
  {
   "cell_type": "code",
   "execution_count": 34,
   "metadata": {
    "cellId": "udpxri2utb2pgmy024ndq",
    "scrolled": true
   },
   "outputs": [
    {
     "data": {
      "application/vnd.jupyter.widget-view+json": {
       "model_id": "96b1da55bcfa4cb1b427981324704e25",
       "version_major": 2,
       "version_minor": 0
      },
      "text/plain": [
       "  0%|          | 0/32 [00:00<?, ?it/s]"
      ]
     },
     "metadata": {},
     "output_type": "display_data"
    },
    {
     "name": "stdout",
     "output_type": "stream",
     "text": [
      "CPU times: user 1h 33min 42s, sys: 29min 42s, total: 2h 3min 24s\n",
      "Wall time: 1h 36min 47s\n"
     ]
    }
   ],
   "source": [
    "%%time\n",
    "batch_size = 100\n",
    "embeddings = []\n",
    "for i in notebook.tqdm(range(padded.shape[0] // batch_size)):\n",
    "        batch = torch.LongTensor(padded[batch_size*i:batch_size*(i+1)]) \n",
    "        attention_mask_batch = torch.LongTensor(attention_mask[batch_size*i:batch_size*(i+1)])\n",
    "        \n",
    "        with torch.no_grad():\n",
    "            batch_embeddings = model(batch, attention_mask=attention_mask_batch)\n",
    "        \n",
    "        embeddings.append(batch_embeddings[0][:,0,:].numpy())"
   ]
  },
  {
   "cell_type": "code",
   "execution_count": 35,
   "metadata": {
    "cellId": "xtrytvpnn5faibuyli9kgt"
   },
   "outputs": [
    {
     "name": "stdout",
     "output_type": "stream",
     "text": [
      "(3200, 768) (3200,)\n"
     ]
    }
   ],
   "source": [
    "X = np.concatenate(embeddings) \n",
    "y = df_tweets['toxic']\n",
    "print(X.shape, df_tweets['toxic'].shape)"
   ]
  },
  {
   "cell_type": "code",
   "execution_count": 36,
   "metadata": {
    "cellId": "aytqd8lmdv7zh6v36a6iz"
   },
   "outputs": [
    {
     "data": {
      "text/plain": [
       "((1600, 768), (1600, 768), (1600,), (1600,))"
      ]
     },
     "execution_count": 36,
     "metadata": {},
     "output_type": "execute_result"
    }
   ],
   "source": [
    "model = LogisticRegression(class_weight='balanced', random_state=12345, max_iter=1e6)\n",
    "\n",
    "X_train, X_test, y_train, y_test = train_test_split(X, y, test_size=0.5)\n",
    "X_train.shape, X_test.shape, y_train.shape, y_test.shape\n"
   ]
  },
  {
   "cell_type": "code",
   "execution_count": 37,
   "metadata": {
    "cellId": "u67ok5giheky7l39pftfl"
   },
   "outputs": [
    {
     "name": "stdout",
     "output_type": "stream",
     "text": [
      "[0 0 0 ... 1 0 0]\n",
      "Accuracy 0.91375\n",
      "F1: 0.6584158415841584\n"
     ]
    }
   ],
   "source": [
    "model.fit(X_train, y_train)\n",
    "print(model.predict(X_test))\n",
    "#print(model.score(y_test, model.predict(X_test)))\n",
    "print('Accuracy', model.score(X_test, y_test))\n",
    "print('F1:', f1_score(y_test, model.predict(X_test)))"
   ]
  },
  {
   "cell_type": "markdown",
   "metadata": {
    "cellId": "8fkzt2kztgklyxlkebaf37"
   },
   "source": [
    "Метрика F1 получилась хуже"
   ]
  },
  {
   "cell_type": "markdown",
   "metadata": {
    "cellId": "35iwtyjys0qsbspagbynse"
   },
   "source": [
    "## Выводы"
   ]
  },
  {
   "cell_type": "markdown",
   "metadata": {
    "cellId": "of7o3468xe0adbk6cna55"
   },
   "source": [
    "Обучена модель для классифицикации комментариев на позитивные и негативные.Построена модель со значением метрики качества F1 не меньше 0.75"
   ]
  },
  {
   "cell_type": "code",
   "execution_count": null,
   "metadata": {},
   "outputs": [],
   "source": []
  }
 ],
 "metadata": {
  "ExecuteTimeLog": [
   {
    "duration": 576,
    "start_time": "2021-12-27T06:07:23.777Z"
   },
   {
    "duration": 305,
    "start_time": "2021-12-27T06:08:04.082Z"
   },
   {
    "duration": 3392,
    "start_time": "2021-12-27T06:08:20.101Z"
   },
   {
    "duration": 55,
    "start_time": "2021-12-27T07:07:29.927Z"
   },
   {
    "duration": 268,
    "start_time": "2021-12-27T07:08:56.871Z"
   },
   {
    "duration": 276,
    "start_time": "2021-12-27T07:09:07.289Z"
   },
   {
    "duration": 261,
    "start_time": "2021-12-27T07:09:15.506Z"
   },
   {
    "duration": 2076,
    "start_time": "2021-12-27T07:09:21.993Z"
   },
   {
    "duration": 563,
    "start_time": "2021-12-27T07:11:32.882Z"
   },
   {
    "duration": 3354,
    "start_time": "2021-12-27T07:11:33.447Z"
   },
   {
    "duration": 2839,
    "start_time": "2021-12-27T07:11:36.803Z"
   },
   {
    "duration": 408,
    "start_time": "2021-12-27T07:11:39.644Z"
   },
   {
    "duration": -88,
    "start_time": "2021-12-27T07:11:40.141Z"
   },
   {
    "duration": 612,
    "start_time": "2021-12-27T07:17:28.677Z"
   },
   {
    "duration": 265,
    "start_time": "2021-12-27T07:17:50.996Z"
   },
   {
    "duration": 1293,
    "start_time": "2021-12-27T07:17:58.646Z"
   },
   {
    "duration": 3,
    "start_time": "2021-12-27T07:18:13.535Z"
   },
   {
    "duration": 575,
    "start_time": "2021-12-27T07:18:17.800Z"
   },
   {
    "duration": 41,
    "start_time": "2021-12-27T07:18:21.063Z"
   },
   {
    "duration": 38,
    "start_time": "2021-12-27T07:18:35.017Z"
   },
   {
    "duration": 571,
    "start_time": "2021-12-27T07:18:48.089Z"
   },
   {
    "duration": 2720,
    "start_time": "2021-12-27T07:18:48.662Z"
   },
   {
    "duration": 5,
    "start_time": "2021-12-27T07:18:51.384Z"
   },
   {
    "duration": 7108,
    "start_time": "2021-12-27T07:19:32.776Z"
   },
   {
    "duration": 20650,
    "start_time": "2021-12-27T07:25:25.194Z"
   },
   {
    "duration": 9,
    "start_time": "2021-12-27T07:26:47.550Z"
   },
   {
    "duration": 281,
    "start_time": "2021-12-27T07:26:49.152Z"
   },
   {
    "duration": 984,
    "start_time": "2021-12-27T07:26:55.153Z"
   },
   {
    "duration": 442,
    "start_time": "2021-12-27T07:27:02.746Z"
   },
   {
    "duration": 276,
    "start_time": "2021-12-27T07:27:10.111Z"
   },
   {
    "duration": 3359,
    "start_time": "2021-12-27T07:27:15.043Z"
   },
   {
    "duration": 6321,
    "start_time": "2021-12-27T07:27:18.404Z"
   },
   {
    "duration": 26438,
    "start_time": "2021-12-27T07:27:45.586Z"
   },
   {
    "duration": 982,
    "start_time": "2021-12-27T07:29:21.202Z"
   },
   {
    "duration": 648,
    "start_time": "2021-12-27T07:29:22.185Z"
   },
   {
    "duration": 2833,
    "start_time": "2021-12-27T07:29:22.835Z"
   },
   {
    "duration": 729,
    "start_time": "2021-12-27T07:29:25.670Z"
   },
   {
    "duration": 25877,
    "start_time": "2021-12-27T07:29:26.401Z"
   },
   {
    "duration": 3,
    "start_time": "2021-12-27T07:29:52.280Z"
   },
   {
    "duration": 149,
    "start_time": "2021-12-27T07:30:20.219Z"
   },
   {
    "duration": 7258,
    "start_time": "2021-12-27T07:31:15.422Z"
   },
   {
    "duration": 3172,
    "start_time": "2021-12-27T08:10:21.226Z"
   },
   {
    "duration": 184507,
    "start_time": "2021-12-27T08:11:10.494Z"
   },
   {
    "duration": 181664,
    "start_time": "2021-12-27T08:18:23.323Z"
   },
   {
    "duration": 171415,
    "start_time": "2021-12-27T08:31:49.125Z"
   },
   {
    "duration": 182882,
    "start_time": "2021-12-27T08:36:07.713Z"
   },
   {
    "duration": 4,
    "start_time": "2021-12-27T08:39:10.597Z"
   },
   {
    "duration": 912,
    "start_time": "2021-12-27T08:42:10.607Z"
   },
   {
    "duration": 23521,
    "start_time": "2021-12-27T08:42:24.663Z"
   },
   {
    "duration": 393,
    "start_time": "2021-12-27T08:43:02.378Z"
   },
   {
    "duration": 405,
    "start_time": "2021-12-27T08:43:10.110Z"
   },
   {
    "duration": 395,
    "start_time": "2021-12-27T08:43:19.528Z"
   },
   {
    "duration": 4300,
    "start_time": "2021-12-27T08:43:37.871Z"
   },
   {
    "duration": 560,
    "start_time": "2021-12-27T08:43:42.173Z"
   },
   {
    "duration": 4705,
    "start_time": "2021-12-27T08:44:00.401Z"
   },
   {
    "duration": 3403,
    "start_time": "2021-12-27T08:44:05.107Z"
   },
   {
    "duration": 4515,
    "start_time": "2021-12-27T08:44:08.512Z"
   },
   {
    "duration": 2258,
    "start_time": "2021-12-27T08:44:13.029Z"
   },
   {
    "duration": 28353,
    "start_time": "2021-12-27T08:44:15.288Z"
   },
   {
    "duration": 8036,
    "start_time": "2021-12-27T08:44:43.642Z"
   },
   {
    "duration": 177780,
    "start_time": "2021-12-27T08:44:51.680Z"
   },
   {
    "duration": -32,
    "start_time": "2021-12-27T08:47:49.493Z"
   },
   {
    "duration": -32,
    "start_time": "2021-12-27T08:47:49.494Z"
   },
   {
    "duration": -32,
    "start_time": "2021-12-27T08:47:49.495Z"
   },
   {
    "duration": -32,
    "start_time": "2021-12-27T08:47:49.496Z"
   },
   {
    "duration": -32,
    "start_time": "2021-12-27T08:47:49.497Z"
   },
   {
    "duration": -47,
    "start_time": "2021-12-27T08:47:49.513Z"
   },
   {
    "duration": 173082,
    "start_time": "2021-12-27T08:50:06.063Z"
   },
   {
    "duration": -23,
    "start_time": "2021-12-27T08:52:59.171Z"
   },
   {
    "duration": -48,
    "start_time": "2021-12-27T08:52:59.197Z"
   },
   {
    "duration": -49,
    "start_time": "2021-12-27T08:52:59.198Z"
   },
   {
    "duration": -49,
    "start_time": "2021-12-27T08:52:59.199Z"
   },
   {
    "duration": -49,
    "start_time": "2021-12-27T08:52:59.200Z"
   },
   {
    "duration": 178528,
    "start_time": "2021-12-27T08:54:18.752Z"
   },
   {
    "duration": 676,
    "start_time": "2021-12-27T08:57:17.282Z"
   },
   {
    "duration": 23367,
    "start_time": "2021-12-27T08:57:17.960Z"
   },
   {
    "duration": 752,
    "start_time": "2021-12-27T08:57:41.329Z"
   },
   {
    "duration": -98,
    "start_time": "2021-12-27T08:57:42.181Z"
   },
   {
    "duration": -98,
    "start_time": "2021-12-27T08:57:42.182Z"
   },
   {
    "duration": 338,
    "start_time": "2021-12-27T09:03:23.482Z"
   },
   {
    "duration": 370,
    "start_time": "2021-12-27T09:03:52.179Z"
   },
   {
    "duration": 10158,
    "start_time": "2021-12-27T09:03:52.551Z"
   },
   {
    "duration": 860,
    "start_time": "2021-12-27T09:04:02.711Z"
   },
   {
    "duration": -56,
    "start_time": "2021-12-27T09:04:03.629Z"
   },
   {
    "duration": -55,
    "start_time": "2021-12-27T09:04:03.629Z"
   },
   {
    "duration": -55,
    "start_time": "2021-12-27T09:04:03.630Z"
   },
   {
    "duration": 449,
    "start_time": "2021-12-27T09:06:52.897Z"
   },
   {
    "duration": 306,
    "start_time": "2021-12-27T09:06:57.051Z"
   },
   {
    "duration": 267,
    "start_time": "2021-12-27T09:07:02.241Z"
   },
   {
    "duration": 4460,
    "start_time": "2021-12-27T09:07:33.381Z"
   },
   {
    "duration": 3431,
    "start_time": "2021-12-27T09:07:37.842Z"
   },
   {
    "duration": 2915,
    "start_time": "2021-12-27T09:07:41.276Z"
   },
   {
    "duration": 815,
    "start_time": "2021-12-27T09:07:44.193Z"
   },
   {
    "duration": 27898,
    "start_time": "2021-12-27T09:07:45.010Z"
   },
   {
    "duration": 7933,
    "start_time": "2021-12-27T09:08:12.910Z"
   },
   {
    "duration": 171169,
    "start_time": "2021-12-27T09:08:20.844Z"
   },
   {
    "duration": 595,
    "start_time": "2021-12-27T09:11:12.016Z"
   },
   {
    "duration": 22440,
    "start_time": "2021-12-27T09:11:12.613Z"
   },
   {
    "duration": 826,
    "start_time": "2021-12-27T09:11:35.055Z"
   },
   {
    "duration": -34,
    "start_time": "2021-12-27T09:11:35.917Z"
   },
   {
    "duration": -34,
    "start_time": "2021-12-27T09:11:35.918Z"
   },
   {
    "duration": -49,
    "start_time": "2021-12-27T09:11:35.934Z"
   },
   {
    "duration": -49,
    "start_time": "2021-12-27T09:11:35.935Z"
   },
   {
    "duration": 447,
    "start_time": "2021-12-27T09:12:38.784Z"
   },
   {
    "duration": -17,
    "start_time": "2021-12-27T09:12:39.250Z"
   },
   {
    "duration": 293,
    "start_time": "2021-12-27T09:12:39.296Z"
   },
   {
    "duration": 81,
    "start_time": "2021-12-27T09:14:29.570Z"
   },
   {
    "duration": 102,
    "start_time": "2021-12-27T09:14:41.253Z"
   },
   {
    "duration": 570,
    "start_time": "2021-12-27T09:24:54.990Z"
   },
   {
    "duration": 4,
    "start_time": "2021-12-27T09:49:54.712Z"
   },
   {
    "duration": 3,
    "start_time": "2021-12-27T09:50:57.538Z"
   },
   {
    "duration": 3,
    "start_time": "2021-12-27T09:52:20.127Z"
   },
   {
    "duration": 54,
    "start_time": "2021-12-27T09:52:20.427Z"
   },
   {
    "duration": 8292,
    "start_time": "2021-12-27T09:52:20.757Z"
   },
   {
    "duration": 8211,
    "start_time": "2021-12-27T09:53:22.366Z"
   },
   {
    "duration": 7857,
    "start_time": "2021-12-27T09:54:26.031Z"
   },
   {
    "duration": 302,
    "start_time": "2021-12-27T09:57:38.471Z"
   },
   {
    "duration": 275,
    "start_time": "2021-12-27T09:57:50.819Z"
   },
   {
    "duration": 264,
    "start_time": "2021-12-27T09:58:31.485Z"
   },
   {
    "duration": 4,
    "start_time": "2021-12-27T09:58:40.349Z"
   },
   {
    "duration": 8410,
    "start_time": "2021-12-27T10:07:01.001Z"
   },
   {
    "duration": 46,
    "start_time": "2021-12-27T10:07:10.161Z"
   },
   {
    "duration": 3,
    "start_time": "2021-12-27T10:57:43.984Z"
   },
   {
    "duration": 3,
    "start_time": "2021-12-27T10:57:47.730Z"
   },
   {
    "duration": 111897,
    "start_time": "2021-12-27T10:57:49.952Z"
   },
   {
    "duration": 3,
    "start_time": "2021-12-27T11:08:30.973Z"
   },
   {
    "duration": 46,
    "start_time": "2021-12-27T11:08:31.361Z"
   },
   {
    "duration": 9139,
    "start_time": "2021-12-27T11:08:31.949Z"
   },
   {
    "duration": 16,
    "start_time": "2021-12-27T11:08:41.090Z"
   },
   {
    "duration": 4,
    "start_time": "2021-12-27T11:16:07.597Z"
   },
   {
    "duration": 26104,
    "start_time": "2021-12-27T11:23:18.969Z"
   },
   {
    "duration": 28861,
    "start_time": "2021-12-27T11:24:54.831Z"
   },
   {
    "duration": 30240,
    "start_time": "2021-12-27T11:29:21.049Z"
   },
   {
    "duration": 30946,
    "start_time": "2021-12-27T11:30:42.924Z"
   },
   {
    "duration": 31292,
    "start_time": "2021-12-27T11:31:53.241Z"
   },
   {
    "duration": 31647,
    "start_time": "2021-12-27T11:33:16.274Z"
   },
   {
    "duration": 4,
    "start_time": "2021-12-27T12:18:07.696Z"
   },
   {
    "duration": 110358,
    "start_time": "2021-12-27T12:19:16.553Z"
   },
   {
    "duration": 80596,
    "start_time": "2021-12-27T12:23:52.908Z"
   },
   {
    "duration": 141820,
    "start_time": "2021-12-27T12:28:41.500Z"
   },
   {
    "duration": 147,
    "start_time": "2021-12-27T13:29:08.384Z"
   },
   {
    "duration": 3,
    "start_time": "2021-12-27T13:31:52.301Z"
   },
   {
    "duration": 185,
    "start_time": "2021-12-27T13:31:52.430Z"
   },
   {
    "duration": 173,
    "start_time": "2021-12-27T13:32:18.501Z"
   },
   {
    "duration": 182,
    "start_time": "2021-12-27T13:32:33.505Z"
   },
   {
    "duration": 4,
    "start_time": "2021-12-27T13:33:00.569Z"
   },
   {
    "duration": 6,
    "start_time": "2021-12-27T13:33:42.100Z"
   },
   {
    "duration": 4,
    "start_time": "2021-12-27T13:33:49.340Z"
   },
   {
    "duration": 234569,
    "start_time": "2021-12-27T13:33:49.508Z"
   },
   {
    "duration": 209141,
    "start_time": "2021-12-27T13:50:51.737Z"
   },
   {
    "duration": 3,
    "start_time": "2021-12-27T14:01:55.954Z"
   },
   {
    "duration": 202204,
    "start_time": "2021-12-27T14:01:56.641Z"
   },
   {
    "duration": 13173,
    "start_time": "2021-12-28T05:46:24.281Z"
   },
   {
    "duration": 4069,
    "start_time": "2021-12-28T05:46:37.456Z"
   },
   {
    "duration": 3118,
    "start_time": "2021-12-28T05:46:41.527Z"
   },
   {
    "duration": 3,
    "start_time": "2021-12-28T05:46:44.646Z"
   },
   {
    "duration": 2873,
    "start_time": "2021-12-28T05:46:44.651Z"
   },
   {
    "duration": 2660,
    "start_time": "2021-12-28T05:46:47.526Z"
   },
   {
    "duration": 27083,
    "start_time": "2021-12-28T05:46:50.188Z"
   },
   {
    "duration": 8016,
    "start_time": "2021-12-28T05:47:17.274Z"
   },
   {
    "duration": 3,
    "start_time": "2021-12-28T05:47:25.292Z"
   },
   {
    "duration": 65,
    "start_time": "2021-12-28T05:47:25.296Z"
   },
   {
    "duration": 8141,
    "start_time": "2021-12-28T05:47:25.362Z"
   },
   {
    "duration": 16,
    "start_time": "2021-12-28T05:47:33.505Z"
   },
   {
    "duration": 144747,
    "start_time": "2021-12-28T05:47:33.522Z"
   },
   {
    "duration": 3,
    "start_time": "2021-12-28T05:49:58.271Z"
   },
   {
    "duration": 182639,
    "start_time": "2021-12-28T05:49:58.275Z"
   },
   {
    "duration": 98051,
    "start_time": "2021-12-28T05:53:00.916Z"
   },
   {
    "duration": 4,
    "start_time": "2021-12-28T05:54:38.968Z"
   },
   {
    "duration": 168459,
    "start_time": "2021-12-28T05:54:38.973Z"
   },
   {
    "duration": 546,
    "start_time": "2021-12-28T05:57:27.434Z"
   },
   {
    "duration": 3913,
    "start_time": "2021-12-28T05:57:27.982Z"
   },
   {
    "duration": 738,
    "start_time": "2021-12-28T05:57:31.896Z"
   },
   {
    "duration": -52,
    "start_time": "2021-12-28T05:57:32.689Z"
   },
   {
    "duration": -52,
    "start_time": "2021-12-28T05:57:32.690Z"
   },
   {
    "duration": -54,
    "start_time": "2021-12-28T05:57:32.693Z"
   },
   {
    "duration": -53,
    "start_time": "2021-12-28T05:57:32.694Z"
   },
   {
    "duration": -55,
    "start_time": "2021-12-28T05:57:32.696Z"
   },
   {
    "duration": 4,
    "start_time": "2021-12-28T05:57:44.059Z"
   },
   {
    "duration": 5960,
    "start_time": "2021-12-28T06:02:22.262Z"
   },
   {
    "duration": 4087,
    "start_time": "2021-12-28T06:02:28.224Z"
   },
   {
    "duration": 3260,
    "start_time": "2021-12-28T06:02:32.313Z"
   },
   {
    "duration": 3,
    "start_time": "2021-12-28T06:02:35.575Z"
   },
   {
    "duration": 2867,
    "start_time": "2021-12-28T06:02:35.580Z"
   },
   {
    "duration": 2743,
    "start_time": "2021-12-28T06:02:38.449Z"
   },
   {
    "duration": 26960,
    "start_time": "2021-12-28T06:02:41.194Z"
   },
   {
    "duration": 7519,
    "start_time": "2021-12-28T06:03:08.155Z"
   },
   {
    "duration": 3,
    "start_time": "2021-12-28T06:03:15.676Z"
   },
   {
    "duration": 65,
    "start_time": "2021-12-28T06:03:15.681Z"
   },
   {
    "duration": 9747,
    "start_time": "2021-12-28T06:03:15.748Z"
   },
   {
    "duration": 15,
    "start_time": "2021-12-28T06:03:25.497Z"
   },
   {
    "duration": 145133,
    "start_time": "2021-12-28T06:03:25.514Z"
   },
   {
    "duration": 4,
    "start_time": "2021-12-28T06:05:50.650Z"
   },
   {
    "duration": 183370,
    "start_time": "2021-12-28T06:05:50.656Z"
   },
   {
    "duration": 112222,
    "start_time": "2021-12-28T06:08:54.028Z"
   },
   {
    "duration": 3,
    "start_time": "2021-12-28T06:10:46.252Z"
   },
   {
    "duration": 165984,
    "start_time": "2021-12-28T06:10:46.257Z"
   },
   {
    "duration": 572,
    "start_time": "2021-12-28T06:13:32.242Z"
   },
   {
    "duration": 3874,
    "start_time": "2021-12-28T06:13:32.815Z"
   },
   {
    "duration": 842,
    "start_time": "2021-12-28T06:13:36.691Z"
   },
   {
    "duration": -54,
    "start_time": "2021-12-28T06:13:37.589Z"
   },
   {
    "duration": -55,
    "start_time": "2021-12-28T06:13:37.591Z"
   },
   {
    "duration": -54,
    "start_time": "2021-12-28T06:13:37.591Z"
   },
   {
    "duration": -54,
    "start_time": "2021-12-28T06:13:37.592Z"
   },
   {
    "duration": -55,
    "start_time": "2021-12-28T06:13:37.594Z"
   },
   {
    "duration": 1627,
    "start_time": "2021-12-28T07:12:01.434Z"
   },
   {
    "duration": -15,
    "start_time": "2021-12-28T07:12:03.078Z"
   },
   {
    "duration": -37,
    "start_time": "2021-12-28T07:12:03.101Z"
   },
   {
    "duration": 297,
    "start_time": "2021-12-28T07:12:48.601Z"
   },
   {
    "duration": 5898,
    "start_time": "2021-12-28T07:12:55.237Z"
   },
   {
    "duration": 4204,
    "start_time": "2021-12-28T07:13:01.137Z"
   },
   {
    "duration": 3117,
    "start_time": "2021-12-28T07:13:05.343Z"
   },
   {
    "duration": 3,
    "start_time": "2021-12-28T07:13:08.462Z"
   },
   {
    "duration": 2890,
    "start_time": "2021-12-28T07:13:08.466Z"
   },
   {
    "duration": 862,
    "start_time": "2021-12-28T07:13:11.358Z"
   },
   {
    "duration": 27368,
    "start_time": "2021-12-28T07:13:12.222Z"
   },
   {
    "duration": 7628,
    "start_time": "2021-12-28T07:13:39.592Z"
   },
   {
    "duration": 3,
    "start_time": "2021-12-28T07:13:47.222Z"
   },
   {
    "duration": 63,
    "start_time": "2021-12-28T07:13:47.227Z"
   },
   {
    "duration": 9012,
    "start_time": "2021-12-28T07:13:47.292Z"
   },
   {
    "duration": 16,
    "start_time": "2021-12-28T07:13:56.305Z"
   },
   {
    "duration": 144409,
    "start_time": "2021-12-28T07:13:56.323Z"
   },
   {
    "duration": 7,
    "start_time": "2021-12-28T07:16:20.734Z"
   },
   {
    "duration": 191601,
    "start_time": "2021-12-28T07:16:20.743Z"
   },
   {
    "duration": 148055,
    "start_time": "2021-12-28T07:19:32.346Z"
   },
   {
    "duration": 4,
    "start_time": "2021-12-28T07:22:00.403Z"
   },
   {
    "duration": 175992,
    "start_time": "2021-12-28T07:22:00.408Z"
   },
   {
    "duration": 571,
    "start_time": "2021-12-28T07:24:56.401Z"
   },
   {
    "duration": 3931,
    "start_time": "2021-12-28T07:24:56.974Z"
   },
   {
    "duration": 942,
    "start_time": "2021-12-28T07:25:00.907Z"
   },
   {
    "duration": -57,
    "start_time": "2021-12-28T07:25:01.908Z"
   },
   {
    "duration": -57,
    "start_time": "2021-12-28T07:25:01.909Z"
   },
   {
    "duration": -58,
    "start_time": "2021-12-28T07:25:01.911Z"
   },
   {
    "duration": -58,
    "start_time": "2021-12-28T07:25:01.912Z"
   },
   {
    "duration": 4,
    "start_time": "2021-12-28T07:36:17.056Z"
   },
   {
    "duration": 4,
    "start_time": "2021-12-28T09:12:05.357Z"
   },
   {
    "duration": 5,
    "start_time": "2021-12-28T09:17:11.034Z"
   },
   {
    "duration": 237,
    "start_time": "2021-12-28T09:17:11.192Z"
   },
   {
    "duration": 4399,
    "start_time": "2021-12-28T09:17:17.349Z"
   },
   {
    "duration": 3158,
    "start_time": "2021-12-28T09:17:21.750Z"
   },
   {
    "duration": 4,
    "start_time": "2021-12-28T09:17:24.910Z"
   },
   {
    "duration": 3001,
    "start_time": "2021-12-28T09:17:24.916Z"
   },
   {
    "duration": 1082,
    "start_time": "2021-12-28T09:17:27.919Z"
   },
   {
    "duration": 29057,
    "start_time": "2021-12-28T09:17:29.003Z"
   },
   {
    "duration": 8152,
    "start_time": "2021-12-28T09:17:58.062Z"
   },
   {
    "duration": 3,
    "start_time": "2021-12-28T09:18:06.217Z"
   },
   {
    "duration": 73,
    "start_time": "2021-12-28T09:18:06.222Z"
   },
   {
    "duration": 8603,
    "start_time": "2021-12-28T09:18:06.297Z"
   },
   {
    "duration": 17,
    "start_time": "2021-12-28T09:18:14.901Z"
   },
   {
    "duration": 148110,
    "start_time": "2021-12-28T09:18:14.919Z"
   },
   {
    "duration": 11,
    "start_time": "2021-12-28T09:20:43.030Z"
   },
   {
    "duration": 198532,
    "start_time": "2021-12-28T09:20:43.042Z"
   },
   {
    "duration": 170082,
    "start_time": "2021-12-28T09:24:01.576Z"
   },
   {
    "duration": 3,
    "start_time": "2021-12-28T09:26:51.660Z"
   },
   {
    "duration": 182698,
    "start_time": "2021-12-28T09:26:51.665Z"
   },
   {
    "duration": -32,
    "start_time": "2021-12-28T09:29:54.397Z"
   },
   {
    "duration": -33,
    "start_time": "2021-12-28T09:29:54.399Z"
   },
   {
    "duration": -39,
    "start_time": "2021-12-28T09:29:54.406Z"
   },
   {
    "duration": -61,
    "start_time": "2021-12-28T09:29:54.429Z"
   },
   {
    "duration": -61,
    "start_time": "2021-12-28T09:29:54.430Z"
   },
   {
    "duration": -61,
    "start_time": "2021-12-28T09:29:54.431Z"
   },
   {
    "duration": -67,
    "start_time": "2021-12-28T09:29:54.439Z"
   },
   {
    "duration": -68,
    "start_time": "2021-12-28T09:29:54.441Z"
   },
   {
    "duration": -69,
    "start_time": "2021-12-28T09:29:54.443Z"
   },
   {
    "duration": 4425,
    "start_time": "2021-12-28T09:30:14.244Z"
   },
   {
    "duration": 3176,
    "start_time": "2021-12-28T09:30:18.670Z"
   },
   {
    "duration": 4,
    "start_time": "2021-12-28T09:30:21.848Z"
   },
   {
    "duration": 3079,
    "start_time": "2021-12-28T09:30:21.854Z"
   },
   {
    "duration": 3585,
    "start_time": "2021-12-28T09:30:24.935Z"
   },
   {
    "duration": 32287,
    "start_time": "2021-12-28T09:30:28.522Z"
   },
   {
    "duration": 9595,
    "start_time": "2021-12-28T09:31:00.811Z"
   },
   {
    "duration": 3,
    "start_time": "2021-12-28T09:31:10.407Z"
   },
   {
    "duration": 58,
    "start_time": "2021-12-28T09:31:10.413Z"
   },
   {
    "duration": 9327,
    "start_time": "2021-12-28T09:31:10.473Z"
   },
   {
    "duration": 16,
    "start_time": "2021-12-28T09:31:19.801Z"
   },
   {
    "duration": 148191,
    "start_time": "2021-12-28T09:31:19.819Z"
   },
   {
    "duration": 4,
    "start_time": "2021-12-28T09:33:48.013Z"
   },
   {
    "duration": 230340,
    "start_time": "2021-12-28T09:33:48.018Z"
   },
   {
    "duration": 4,
    "start_time": "2021-12-28T09:37:38.360Z"
   },
   {
    "duration": 142261,
    "start_time": "2021-12-28T09:37:38.365Z"
   },
   {
    "duration": 3,
    "start_time": "2021-12-28T09:40:00.628Z"
   },
   {
    "duration": 118244,
    "start_time": "2021-12-28T09:40:00.633Z"
   },
   {
    "duration": 3,
    "start_time": "2021-12-28T09:41:58.878Z"
   },
   {
    "duration": 178443,
    "start_time": "2021-12-28T09:41:58.883Z"
   },
   {
    "duration": 521,
    "start_time": "2021-12-28T09:44:57.328Z"
   },
   {
    "duration": 3895,
    "start_time": "2021-12-28T09:44:57.851Z"
   },
   {
    "duration": 922,
    "start_time": "2021-12-28T09:45:01.748Z"
   },
   {
    "duration": -81,
    "start_time": "2021-12-28T09:45:02.753Z"
   },
   {
    "duration": -85,
    "start_time": "2021-12-28T09:45:02.758Z"
   },
   {
    "duration": -85,
    "start_time": "2021-12-28T09:45:02.760Z"
   },
   {
    "duration": 4,
    "start_time": "2021-12-28T09:48:58.839Z"
   },
   {
    "duration": 4,
    "start_time": "2021-12-28T09:49:02.118Z"
   },
   {
    "duration": 184,
    "start_time": "2021-12-28T09:49:02.264Z"
   },
   {
    "duration": 4,
    "start_time": "2021-12-28T09:49:15.832Z"
   },
   {
    "duration": 4,
    "start_time": "2021-12-28T09:49:21.698Z"
   },
   {
    "duration": 4403,
    "start_time": "2021-12-28T09:51:24.738Z"
   },
   {
    "duration": 3241,
    "start_time": "2021-12-28T09:51:29.143Z"
   },
   {
    "duration": 4,
    "start_time": "2021-12-28T09:51:32.388Z"
   },
   {
    "duration": 3098,
    "start_time": "2021-12-28T09:51:32.394Z"
   },
   {
    "duration": 1803,
    "start_time": "2021-12-28T09:51:35.494Z"
   },
   {
    "duration": 29727,
    "start_time": "2021-12-28T09:51:37.299Z"
   },
   {
    "duration": 8316,
    "start_time": "2021-12-28T09:52:07.028Z"
   },
   {
    "duration": 3,
    "start_time": "2021-12-28T09:52:15.347Z"
   },
   {
    "duration": 72,
    "start_time": "2021-12-28T09:52:15.351Z"
   },
   {
    "duration": 8376,
    "start_time": "2021-12-28T09:52:15.425Z"
   },
   {
    "duration": 17,
    "start_time": "2021-12-28T09:52:23.802Z"
   },
   {
    "duration": 146151,
    "start_time": "2021-12-28T09:52:23.821Z"
   },
   {
    "duration": 3,
    "start_time": "2021-12-28T09:54:49.974Z"
   },
   {
    "duration": 195507,
    "start_time": "2021-12-28T09:54:49.979Z"
   },
   {
    "duration": 4,
    "start_time": "2021-12-28T09:58:05.488Z"
   },
   {
    "duration": 1890696,
    "start_time": "2021-12-28T09:58:05.494Z"
   },
   {
    "duration": 3,
    "start_time": "2021-12-28T10:29:36.193Z"
   },
   {
    "duration": 144744,
    "start_time": "2021-12-28T10:29:36.242Z"
   },
   {
    "duration": 3,
    "start_time": "2021-12-28T10:32:00.988Z"
   },
   {
    "duration": 170278,
    "start_time": "2021-12-28T10:32:00.993Z"
   },
   {
    "duration": 585,
    "start_time": "2021-12-28T10:34:51.273Z"
   },
   {
    "duration": 3845,
    "start_time": "2021-12-28T10:34:51.861Z"
   },
   {
    "duration": 1250,
    "start_time": "2021-12-28T10:34:55.708Z"
   },
   {
    "duration": -68,
    "start_time": "2021-12-28T10:34:57.027Z"
   },
   {
    "duration": -69,
    "start_time": "2021-12-28T10:34:57.029Z"
   },
   {
    "duration": -69,
    "start_time": "2021-12-28T10:34:57.030Z"
   },
   {
    "duration": 167411,
    "start_time": "2021-12-28T10:54:50.902Z"
   },
   {
    "duration": 471,
    "start_time": "2021-12-28T10:57:38.315Z"
   },
   {
    "duration": 4258,
    "start_time": "2021-12-28T11:10:16.916Z"
   },
   {
    "duration": 3162,
    "start_time": "2021-12-28T11:10:21.176Z"
   },
   {
    "duration": 4,
    "start_time": "2021-12-28T11:10:24.339Z"
   },
   {
    "duration": 2935,
    "start_time": "2021-12-28T11:10:24.345Z"
   },
   {
    "duration": 866,
    "start_time": "2021-12-28T11:10:27.282Z"
   },
   {
    "duration": 27727,
    "start_time": "2021-12-28T11:10:28.150Z"
   },
   {
    "duration": 8117,
    "start_time": "2021-12-28T11:10:55.879Z"
   },
   {
    "duration": 3,
    "start_time": "2021-12-28T11:11:03.998Z"
   },
   {
    "duration": 63,
    "start_time": "2021-12-28T11:11:04.003Z"
   },
   {
    "duration": 8125,
    "start_time": "2021-12-28T11:11:04.067Z"
   },
   {
    "duration": 17,
    "start_time": "2021-12-28T11:11:12.194Z"
   },
   {
    "duration": 145768,
    "start_time": "2021-12-28T11:11:12.213Z"
   },
   {
    "duration": 3,
    "start_time": "2021-12-28T11:13:37.982Z"
   },
   {
    "duration": 194784,
    "start_time": "2021-12-28T11:13:37.987Z"
   },
   {
    "duration": 108984,
    "start_time": "2021-12-28T11:16:52.773Z"
   },
   {
    "duration": 172374,
    "start_time": "2021-12-28T11:18:41.759Z"
   },
   {
    "duration": 525,
    "start_time": "2021-12-28T11:21:34.136Z"
   },
   {
    "duration": 3679,
    "start_time": "2021-12-28T11:21:34.662Z"
   },
   {
    "duration": 1170,
    "start_time": "2021-12-28T11:21:38.343Z"
   },
   {
    "duration": -88,
    "start_time": "2021-12-28T11:21:39.602Z"
   },
   {
    "duration": -88,
    "start_time": "2021-12-28T11:21:39.603Z"
   },
   {
    "duration": -119,
    "start_time": "2021-12-28T11:21:39.635Z"
   },
   {
    "duration": 212,
    "start_time": "2021-12-29T11:08:18.901Z"
   },
   {
    "duration": 1895,
    "start_time": "2021-12-29T11:49:43.860Z"
   },
   {
    "duration": 584,
    "start_time": "2021-12-29T11:50:07.426Z"
   },
   {
    "duration": 3351,
    "start_time": "2021-12-29T11:52:24.093Z"
   },
   {
    "duration": 636,
    "start_time": "2021-12-29T11:54:03.248Z"
   },
   {
    "duration": 3,
    "start_time": "2021-12-29T11:54:03.886Z"
   },
   {
    "duration": 621,
    "start_time": "2021-12-29T11:54:07.393Z"
   },
   {
    "duration": 2099,
    "start_time": "2021-12-29T11:54:38.363Z"
   },
   {
    "duration": 318,
    "start_time": "2021-12-29T11:58:07.474Z"
   },
   {
    "duration": 5449,
    "start_time": "2021-12-29T11:58:12.906Z"
   },
   {
    "duration": 612,
    "start_time": "2021-12-29T11:58:18.357Z"
   },
   {
    "duration": 4,
    "start_time": "2021-12-29T11:58:18.971Z"
   },
   {
    "duration": 25,
    "start_time": "2021-12-29T11:58:18.977Z"
   },
   {
    "duration": 1082,
    "start_time": "2021-12-29T11:58:37.297Z"
   },
   {
    "duration": 1076,
    "start_time": "2021-12-29T11:58:46.419Z"
   },
   {
    "duration": 1422,
    "start_time": "2021-12-29T11:59:27.797Z"
   },
   {
    "duration": 825,
    "start_time": "2021-12-29T12:00:32.416Z"
   },
   {
    "duration": 930,
    "start_time": "2021-12-29T12:02:37.729Z"
   },
   {
    "duration": 1026,
    "start_time": "2021-12-29T12:04:10.472Z"
   },
   {
    "duration": 283,
    "start_time": "2021-12-29T12:04:34.899Z"
   },
   {
    "duration": 8,
    "start_time": "2021-12-29T12:05:50.052Z"
   },
   {
    "duration": 1096,
    "start_time": "2021-12-29T12:05:51.079Z"
   },
   {
    "duration": 590,
    "start_time": "2021-12-29T12:06:00.552Z"
   },
   {
    "duration": 269,
    "start_time": "2021-12-29T12:08:35.026Z"
   },
   {
    "duration": 88,
    "start_time": "2021-12-29T12:10:16.891Z"
   },
   {
    "duration": 2226817,
    "start_time": "2021-12-29T12:10:22.717Z"
   },
   {
    "duration": 7,
    "start_time": "2021-12-29T12:47:29.536Z"
   },
   {
    "duration": 610,
    "start_time": "2021-12-29T12:47:29.544Z"
   },
   {
    "duration": -48,
    "start_time": "2021-12-29T12:47:30.205Z"
   },
   {
    "duration": 4842,
    "start_time": "2021-12-29T13:04:13.092Z"
   },
   {
    "duration": 619,
    "start_time": "2021-12-29T13:04:17.936Z"
   },
   {
    "duration": 4,
    "start_time": "2021-12-29T13:04:18.557Z"
   },
   {
    "duration": 18,
    "start_time": "2021-12-29T13:04:31.619Z"
   },
   {
    "duration": 3,
    "start_time": "2021-12-29T13:04:47.522Z"
   },
   {
    "duration": 865,
    "start_time": "2021-12-29T13:04:50.278Z"
   },
   {
    "duration": 254,
    "start_time": "2021-12-29T13:05:00.058Z"
   },
   {
    "duration": 1513,
    "start_time": "2021-12-29T13:05:00.444Z"
   },
   {
    "duration": 106,
    "start_time": "2021-12-29T13:09:47.460Z"
   },
   {
    "duration": 3,
    "start_time": "2021-12-29T13:09:59.101Z"
   },
   {
    "duration": 5,
    "start_time": "2021-12-29T13:10:26.354Z"
   },
   {
    "duration": 189,
    "start_time": "2021-12-29T13:10:34.448Z"
   },
   {
    "duration": 200,
    "start_time": "2021-12-29T13:11:25.439Z"
   },
   {
    "duration": 203,
    "start_time": "2021-12-29T13:19:20.633Z"
   },
   {
    "duration": 182,
    "start_time": "2021-12-29T13:19:39.098Z"
   },
   {
    "duration": 208,
    "start_time": "2021-12-29T13:20:26.119Z"
   },
   {
    "duration": 645,
    "start_time": "2021-12-29T13:20:33.775Z"
   },
   {
    "duration": 1015,
    "start_time": "2021-12-29T13:20:50.621Z"
   },
   {
    "duration": 1036,
    "start_time": "2021-12-29T13:20:57.083Z"
   },
   {
    "duration": 943,
    "start_time": "2021-12-29T13:21:07.512Z"
   },
   {
    "duration": 1053,
    "start_time": "2021-12-29T13:21:16.717Z"
   },
   {
    "duration": 1028,
    "start_time": "2021-12-29T13:21:36.333Z"
   },
   {
    "duration": 1060,
    "start_time": "2021-12-29T13:21:56.828Z"
   },
   {
    "duration": 994,
    "start_time": "2021-12-29T13:22:08.832Z"
   },
   {
    "duration": 1101,
    "start_time": "2021-12-29T13:22:14.828Z"
   },
   {
    "duration": 3385,
    "start_time": "2021-12-29T13:22:15.931Z"
   },
   {
    "duration": 946,
    "start_time": "2021-12-29T13:22:22.865Z"
   },
   {
    "duration": 975,
    "start_time": "2021-12-29T13:22:44.219Z"
   },
   {
    "duration": 1529,
    "start_time": "2021-12-29T13:23:19.392Z"
   },
   {
    "duration": 1011,
    "start_time": "2021-12-29T13:23:29.456Z"
   },
   {
    "duration": 947,
    "start_time": "2021-12-29T13:23:47.530Z"
   },
   {
    "duration": 905,
    "start_time": "2021-12-29T13:23:56.822Z"
   },
   {
    "duration": 1627,
    "start_time": "2021-12-29T13:24:13.775Z"
   },
   {
    "duration": 133,
    "start_time": "2021-12-29T13:24:20.062Z"
   },
   {
    "duration": 1246,
    "start_time": "2021-12-29T13:24:26.718Z"
   },
   {
    "duration": 1615,
    "start_time": "2021-12-29T13:24:32.902Z"
   },
   {
    "duration": 1162,
    "start_time": "2021-12-29T13:24:37.424Z"
   },
   {
    "duration": 99,
    "start_time": "2021-12-29T13:24:42.514Z"
   },
   {
    "duration": 948,
    "start_time": "2021-12-29T13:24:46.358Z"
   },
   {
    "duration": 76,
    "start_time": "2021-12-29T13:24:49.890Z"
   },
   {
    "duration": 88,
    "start_time": "2021-12-29T13:24:58.414Z"
   },
   {
    "duration": 5,
    "start_time": "2021-12-29T13:25:14.469Z"
   },
   {
    "duration": 607,
    "start_time": "2021-12-29T13:25:15.652Z"
   },
   {
    "duration": 3,
    "start_time": "2021-12-29T13:25:16.261Z"
   },
   {
    "duration": 13,
    "start_time": "2021-12-29T13:25:16.549Z"
   },
   {
    "duration": 237,
    "start_time": "2021-12-29T13:25:17.992Z"
   },
   {
    "duration": 5,
    "start_time": "2021-12-29T13:25:18.698Z"
   },
   {
    "duration": 5461,
    "start_time": "2021-12-29T13:26:49.864Z"
   },
   {
    "duration": 634,
    "start_time": "2021-12-29T13:26:55.326Z"
   },
   {
    "duration": 5,
    "start_time": "2021-12-29T13:26:55.962Z"
   },
   {
    "duration": 14,
    "start_time": "2021-12-29T13:26:55.969Z"
   },
   {
    "duration": 232,
    "start_time": "2021-12-29T13:26:55.985Z"
   },
   {
    "duration": 1542,
    "start_time": "2021-12-29T13:26:56.219Z"
   },
   {
    "duration": 5,
    "start_time": "2021-12-29T13:26:57.763Z"
   },
   {
    "duration": 674,
    "start_time": "2021-12-29T13:26:57.770Z"
   },
   {
    "duration": 5665,
    "start_time": "2021-12-29T13:26:58.448Z"
   },
   {
    "duration": -55,
    "start_time": "2021-12-29T13:27:04.170Z"
   },
   {
    "duration": -56,
    "start_time": "2021-12-29T13:27:04.172Z"
   },
   {
    "duration": -56,
    "start_time": "2021-12-29T13:27:04.174Z"
   },
   {
    "duration": -57,
    "start_time": "2021-12-29T13:27:04.176Z"
   },
   {
    "duration": -59,
    "start_time": "2021-12-29T13:27:04.178Z"
   },
   {
    "duration": -60,
    "start_time": "2021-12-29T13:27:04.180Z"
   },
   {
    "duration": -61,
    "start_time": "2021-12-29T13:27:04.182Z"
   },
   {
    "duration": -62,
    "start_time": "2021-12-29T13:27:04.184Z"
   },
   {
    "duration": -64,
    "start_time": "2021-12-29T13:27:04.187Z"
   },
   {
    "duration": -66,
    "start_time": "2021-12-29T13:27:04.190Z"
   },
   {
    "duration": -66,
    "start_time": "2021-12-29T13:27:04.191Z"
   },
   {
    "duration": -66,
    "start_time": "2021-12-29T13:27:04.192Z"
   },
   {
    "duration": -67,
    "start_time": "2021-12-29T13:27:04.194Z"
   },
   {
    "duration": -74,
    "start_time": "2021-12-29T13:27:04.202Z"
   },
   {
    "duration": -76,
    "start_time": "2021-12-29T13:27:04.205Z"
   },
   {
    "duration": -76,
    "start_time": "2021-12-29T13:27:04.206Z"
   },
   {
    "duration": -76,
    "start_time": "2021-12-29T13:27:04.207Z"
   },
   {
    "duration": 6,
    "start_time": "2021-12-29T13:27:29.282Z"
   },
   {
    "duration": 5,
    "start_time": "2021-12-29T13:27:38.181Z"
   },
   {
    "duration": 124,
    "start_time": "2021-12-29T13:28:14.603Z"
   },
   {
    "duration": 3381,
    "start_time": "2021-12-29T13:29:07.034Z"
   },
   {
    "duration": 7,
    "start_time": "2021-12-29T13:29:17.555Z"
   },
   {
    "duration": 596,
    "start_time": "2021-12-29T13:29:18.206Z"
   },
   {
    "duration": 4,
    "start_time": "2021-12-29T13:29:18.804Z"
   },
   {
    "duration": 16,
    "start_time": "2021-12-29T13:29:19.109Z"
   },
   {
    "duration": 259,
    "start_time": "2021-12-29T13:29:20.575Z"
   },
   {
    "duration": 28,
    "start_time": "2021-12-29T13:29:20.836Z"
   },
   {
    "duration": 4,
    "start_time": "2021-12-29T13:29:21.913Z"
   },
   {
    "duration": 994,
    "start_time": "2021-12-29T13:29:23.094Z"
   },
   {
    "duration": 101612,
    "start_time": "2021-12-29T13:29:42.409Z"
   },
   {
    "duration": 3,
    "start_time": "2021-12-29T13:31:24.023Z"
   },
   {
    "duration": 469,
    "start_time": "2021-12-29T13:31:24.028Z"
   },
   {
    "duration": 2048,
    "start_time": "2021-12-29T13:31:24.499Z"
   },
   {
    "duration": 3,
    "start_time": "2021-12-29T13:31:26.549Z"
   },
   {
    "duration": 260,
    "start_time": "2021-12-29T13:31:26.554Z"
   },
   {
    "duration": -57,
    "start_time": "2021-12-29T13:31:26.873Z"
   },
   {
    "duration": -57,
    "start_time": "2021-12-29T13:31:26.874Z"
   },
   {
    "duration": -57,
    "start_time": "2021-12-29T13:31:26.875Z"
   },
   {
    "duration": -58,
    "start_time": "2021-12-29T13:31:26.876Z"
   },
   {
    "duration": -58,
    "start_time": "2021-12-29T13:31:26.877Z"
   },
   {
    "duration": -58,
    "start_time": "2021-12-29T13:31:26.878Z"
   },
   {
    "duration": -58,
    "start_time": "2021-12-29T13:31:26.879Z"
   },
   {
    "duration": -58,
    "start_time": "2021-12-29T13:31:26.880Z"
   },
   {
    "duration": -59,
    "start_time": "2021-12-29T13:31:26.881Z"
   },
   {
    "duration": -59,
    "start_time": "2021-12-29T13:31:26.882Z"
   },
   {
    "duration": -59,
    "start_time": "2021-12-29T13:31:26.883Z"
   },
   {
    "duration": -59,
    "start_time": "2021-12-29T13:31:26.884Z"
   },
   {
    "duration": -59,
    "start_time": "2021-12-29T13:31:26.885Z"
   },
   {
    "duration": 5,
    "start_time": "2021-12-29T14:08:45.253Z"
   },
   {
    "duration": 2193,
    "start_time": "2021-12-29T14:13:03.705Z"
   },
   {
    "duration": 5,
    "start_time": "2021-12-29T14:13:06.052Z"
   },
   {
    "duration": 288,
    "start_time": "2021-12-29T14:13:11.620Z"
   },
   {
    "duration": 12,
    "start_time": "2021-12-29T14:14:13.723Z"
   },
   {
    "duration": 645,
    "start_time": "2021-12-29T14:15:02.190Z"
   },
   {
    "duration": 5,
    "start_time": "2021-12-29T14:15:02.837Z"
   },
   {
    "duration": 13,
    "start_time": "2021-12-29T14:15:02.947Z"
   },
   {
    "duration": 252,
    "start_time": "2021-12-29T14:15:03.068Z"
   },
   {
    "duration": 17,
    "start_time": "2021-12-29T14:15:03.322Z"
   },
   {
    "duration": 475,
    "start_time": "2021-12-29T14:15:04.241Z"
   },
   {
    "duration": 7,
    "start_time": "2021-12-29T14:15:04.790Z"
   },
   {
    "duration": 4,
    "start_time": "2021-12-29T14:15:06.592Z"
   },
   {
    "duration": 236,
    "start_time": "2021-12-29T14:15:10.945Z"
   },
   {
    "duration": 1287,
    "start_time": "2021-12-29T14:15:12.644Z"
   },
   {
    "duration": 4,
    "start_time": "2021-12-29T14:15:13.941Z"
   },
   {
    "duration": 9,
    "start_time": "2021-12-29T14:15:14.183Z"
   },
   {
    "duration": 6463,
    "start_time": "2021-12-29T14:15:50.895Z"
   },
   {
    "duration": 4,
    "start_time": "2021-12-29T14:15:57.359Z"
   },
   {
    "duration": 20,
    "start_time": "2021-12-29T14:15:57.365Z"
   },
   {
    "duration": 241,
    "start_time": "2021-12-29T14:15:57.389Z"
   },
   {
    "duration": 1205,
    "start_time": "2021-12-29T14:15:58.374Z"
   },
   {
    "duration": 5,
    "start_time": "2021-12-29T14:15:59.581Z"
   },
   {
    "duration": 9,
    "start_time": "2021-12-29T14:16:00.494Z"
   },
   {
    "duration": 2518,
    "start_time": "2021-12-29T14:17:01.827Z"
   },
   {
    "duration": 7,
    "start_time": "2021-12-29T14:17:04.347Z"
   },
   {
    "duration": 23467,
    "start_time": "2021-12-29T14:17:04.356Z"
   },
   {
    "duration": 16,
    "start_time": "2021-12-29T14:17:27.825Z"
   },
   {
    "duration": 502728,
    "start_time": "2021-12-29T14:17:27.843Z"
   },
   {
    "duration": 335,
    "start_time": "2021-12-29T14:25:50.573Z"
   },
   {
    "duration": -50,
    "start_time": "2021-12-29T14:25:50.960Z"
   },
   {
    "duration": -50,
    "start_time": "2021-12-29T14:25:50.961Z"
   },
   {
    "duration": -89,
    "start_time": "2021-12-29T14:25:51.001Z"
   },
   {
    "duration": -89,
    "start_time": "2021-12-29T14:25:51.002Z"
   },
   {
    "duration": -89,
    "start_time": "2021-12-29T14:25:51.003Z"
   },
   {
    "duration": -89,
    "start_time": "2021-12-29T14:25:51.004Z"
   },
   {
    "duration": -89,
    "start_time": "2021-12-29T14:25:51.005Z"
   },
   {
    "duration": -89,
    "start_time": "2021-12-29T14:25:51.006Z"
   },
   {
    "duration": -89,
    "start_time": "2021-12-29T14:25:51.007Z"
   },
   {
    "duration": -89,
    "start_time": "2021-12-29T14:25:51.008Z"
   },
   {
    "duration": -89,
    "start_time": "2021-12-29T14:25:51.009Z"
   },
   {
    "duration": 4,
    "start_time": "2021-12-29T17:11:44.035Z"
   },
   {
    "duration": 3,
    "start_time": "2021-12-29T17:11:47.363Z"
   },
   {
    "duration": 3,
    "start_time": "2021-12-29T17:11:50.375Z"
   },
   {
    "duration": 4,
    "start_time": "2021-12-29T17:12:56.844Z"
   },
   {
    "duration": 5,
    "start_time": "2021-12-29T17:13:03.155Z"
   },
   {
    "duration": 3128,
    "start_time": "2021-12-29T17:13:49.903Z"
   },
   {
    "duration": 3,
    "start_time": "2021-12-29T17:13:53.041Z"
   },
   {
    "duration": 14,
    "start_time": "2021-12-29T17:13:54.895Z"
   },
   {
    "duration": 243,
    "start_time": "2021-12-29T17:13:55.551Z"
   },
   {
    "duration": 5,
    "start_time": "2021-12-29T17:13:56.535Z"
   },
   {
    "duration": 6886,
    "start_time": "2021-12-29T17:13:57.564Z"
   },
   {
    "duration": 3,
    "start_time": "2021-12-29T17:14:04.452Z"
   },
   {
    "duration": 9,
    "start_time": "2021-12-29T17:14:04.457Z"
   },
   {
    "duration": 248,
    "start_time": "2021-12-29T17:14:04.468Z"
   },
   {
    "duration": 948,
    "start_time": "2021-12-29T17:14:04.718Z"
   },
   {
    "duration": 3,
    "start_time": "2021-12-29T17:14:05.668Z"
   },
   {
    "duration": 1133,
    "start_time": "2021-12-29T17:47:38.414Z"
   },
   {
    "duration": 1385,
    "start_time": "2021-12-29T17:48:39.056Z"
   },
   {
    "duration": 5,
    "start_time": "2021-12-29T17:50:25.674Z"
   },
   {
    "duration": 26,
    "start_time": "2021-12-29T17:50:31.335Z"
   },
   {
    "duration": 8,
    "start_time": "2021-12-29T17:51:00.691Z"
   },
   {
    "duration": 62,
    "start_time": "2021-12-29T17:51:15.816Z"
   },
   {
    "duration": 7,
    "start_time": "2021-12-29T17:51:16.465Z"
   },
   {
    "duration": 1301,
    "start_time": "2021-12-29T17:51:32.945Z"
   },
   {
    "duration": 854,
    "start_time": "2021-12-29T17:51:57.914Z"
   },
   {
    "duration": 5,
    "start_time": "2021-12-29T17:51:58.770Z"
   },
   {
    "duration": 17,
    "start_time": "2021-12-29T17:51:58.777Z"
   },
   {
    "duration": 447,
    "start_time": "2021-12-29T17:51:58.978Z"
   },
   {
    "duration": 14,
    "start_time": "2021-12-29T17:51:59.427Z"
   },
   {
    "duration": 18575,
    "start_time": "2021-12-29T17:52:00.377Z"
   },
   {
    "duration": 443,
    "start_time": "2021-12-29T17:52:18.954Z"
   },
   {
    "duration": 1766,
    "start_time": "2021-12-29T17:52:19.399Z"
   },
   {
    "duration": 6,
    "start_time": "2021-12-29T17:52:21.168Z"
   },
   {
    "duration": 32,
    "start_time": "2021-12-29T17:52:21.175Z"
   },
   {
    "duration": 117,
    "start_time": "2021-12-29T17:52:21.209Z"
   },
   {
    "duration": 21,
    "start_time": "2021-12-29T17:52:21.328Z"
   },
   {
    "duration": 2478,
    "start_time": "2021-12-29T17:52:21.352Z"
   },
   {
    "duration": 1918,
    "start_time": "2021-12-29T17:53:21.756Z"
   },
   {
    "duration": 4,
    "start_time": "2021-12-29T17:53:28.935Z"
   },
   {
    "duration": 12,
    "start_time": "2021-12-29T17:53:30.067Z"
   },
   {
    "duration": 148,
    "start_time": "2021-12-29T17:53:32.474Z"
   },
   {
    "duration": 8,
    "start_time": "2021-12-29T17:53:33.964Z"
   },
   {
    "duration": 3572,
    "start_time": "2021-12-29T17:53:35.268Z"
   },
   {
    "duration": 2428,
    "start_time": "2021-12-29T17:53:51.825Z"
   },
   {
    "duration": 5,
    "start_time": "2021-12-29T17:53:57.315Z"
   },
   {
    "duration": 17,
    "start_time": "2021-12-29T17:53:58.526Z"
   },
   {
    "duration": 7268,
    "start_time": "2021-12-29T17:54:04.293Z"
   },
   {
    "duration": 8359,
    "start_time": "2021-12-29T17:54:29.495Z"
   },
   {
    "duration": 7,
    "start_time": "2021-12-29T17:54:40.778Z"
   },
   {
    "duration": 262688,
    "start_time": "2021-12-29T17:54:47.664Z"
   },
   {
    "duration": 9,
    "start_time": "2021-12-29T18:11:29.365Z"
   },
   {
    "duration": 714,
    "start_time": "2021-12-29T18:11:33.789Z"
   },
   {
    "duration": 4,
    "start_time": "2021-12-29T18:11:34.506Z"
   },
   {
    "duration": 32,
    "start_time": "2021-12-29T18:11:34.513Z"
   },
   {
    "duration": 321,
    "start_time": "2021-12-29T18:11:34.547Z"
   },
   {
    "duration": 7,
    "start_time": "2021-12-29T18:11:34.871Z"
   },
   {
    "duration": 9020,
    "start_time": "2021-12-29T18:11:34.880Z"
   },
   {
    "duration": 304,
    "start_time": "2021-12-29T18:11:43.903Z"
   },
   {
    "duration": 873,
    "start_time": "2021-12-29T18:11:46.452Z"
   },
   {
    "duration": 5,
    "start_time": "2021-12-29T18:12:43.026Z"
   },
   {
    "duration": 12,
    "start_time": "2021-12-29T18:12:43.032Z"
   },
   {
    "duration": 3707,
    "start_time": "2021-12-29T18:12:43.046Z"
   },
   {
    "duration": 90,
    "start_time": "2021-12-29T18:12:46.756Z"
   },
   {
    "duration": 114853,
    "start_time": "2021-12-29T18:13:14.262Z"
   },
   {
    "duration": 271,
    "start_time": "2021-12-29T18:15:36.035Z"
   },
   {
    "duration": 262,
    "start_time": "2021-12-29T18:15:41.132Z"
   },
   {
    "duration": 395,
    "start_time": "2021-12-29T18:16:52.763Z"
   },
   {
    "duration": 56798,
    "start_time": "2021-12-29T18:18:05.045Z"
   },
   {
    "duration": 358,
    "start_time": "2021-12-29T18:20:37.764Z"
   },
   {
    "duration": 416,
    "start_time": "2021-12-29T18:20:56.596Z"
   },
   {
    "duration": 195,
    "start_time": "2021-12-29T18:21:46.702Z"
   },
   {
    "duration": 3,
    "start_time": "2021-12-29T18:21:49.795Z"
   },
   {
    "duration": 131230,
    "start_time": "2021-12-29T18:21:49.955Z"
   },
   {
    "duration": 230,
    "start_time": "2021-12-29T18:24:01.188Z"
   },
   {
    "duration": 82444,
    "start_time": "2021-12-29T18:24:28.703Z"
   },
   {
    "duration": 538,
    "start_time": "2021-12-29T18:26:18.253Z"
   },
   {
    "duration": 68483,
    "start_time": "2021-12-29T18:27:48.772Z"
   },
   {
    "duration": 448,
    "start_time": "2021-12-29T18:28:57.341Z"
   },
   {
    "duration": 850,
    "start_time": "2021-12-29T18:29:21.212Z"
   },
   {
    "duration": 200,
    "start_time": "2021-12-29T18:30:20.060Z"
   },
   {
    "duration": 3,
    "start_time": "2021-12-29T18:30:41.093Z"
   },
   {
    "duration": 840,
    "start_time": "2021-12-29T18:30:45.405Z"
   },
   {
    "duration": 14022,
    "start_time": "2021-12-29T18:30:59.031Z"
   },
   {
    "duration": 627,
    "start_time": "2021-12-29T18:31:21.063Z"
   },
   {
    "duration": 17721,
    "start_time": "2021-12-29T18:32:41.483Z"
   },
   {
    "duration": 22310,
    "start_time": "2021-12-29T18:33:26.862Z"
   },
   {
    "duration": 35599,
    "start_time": "2021-12-29T18:34:36.259Z"
   },
   {
    "duration": 5,
    "start_time": "2021-12-29T18:35:44.802Z"
   },
   {
    "duration": 677,
    "start_time": "2021-12-29T18:36:24.124Z"
   },
   {
    "duration": 13013,
    "start_time": "2021-12-29T18:37:20.248Z"
   },
   {
    "duration": 15691,
    "start_time": "2021-12-29T18:37:33.263Z"
   },
   {
    "duration": 16892,
    "start_time": "2021-12-29T18:37:48.955Z"
   },
   {
    "duration": 771,
    "start_time": "2021-12-29T18:38:12.332Z"
   },
   {
    "duration": 54381,
    "start_time": "2021-12-29T18:39:02.675Z"
   },
   {
    "duration": 446,
    "start_time": "2021-12-29T18:39:57.058Z"
   },
   {
    "duration": 40735,
    "start_time": "2021-12-29T18:39:57.506Z"
   },
   {
    "duration": 965,
    "start_time": "2021-12-29T18:41:20.362Z"
   },
   {
    "duration": 142811,
    "start_time": "2021-12-29T18:42:08.154Z"
   },
   {
    "duration": 5,
    "start_time": "2021-12-29T18:44:30.967Z"
   },
   {
    "duration": 279,
    "start_time": "2021-12-29T18:47:13.913Z"
   },
   {
    "duration": 420,
    "start_time": "2021-12-29T18:47:38.305Z"
   },
   {
    "duration": 682,
    "start_time": "2021-12-29T18:48:13.715Z"
   },
   {
    "duration": 271,
    "start_time": "2021-12-29T18:51:17.405Z"
   },
   {
    "duration": 2578,
    "start_time": "2021-12-29T18:51:35.232Z"
   },
   {
    "duration": 521,
    "start_time": "2021-12-29T18:52:41.516Z"
   },
   {
    "duration": 2432,
    "start_time": "2021-12-29T18:53:06.865Z"
   },
   {
    "duration": 226556,
    "start_time": "2021-12-29T18:53:09.605Z"
   },
   {
    "duration": 678,
    "start_time": "2021-12-29T18:57:46.025Z"
   },
   {
    "duration": 253,
    "start_time": "2021-12-29T18:57:59.627Z"
   },
   {
    "duration": 3142,
    "start_time": "2021-12-29T18:57:59.882Z"
   },
   {
    "duration": 247,
    "start_time": "2021-12-29T18:58:20.682Z"
   },
   {
    "duration": 3174,
    "start_time": "2021-12-29T18:58:20.931Z"
   },
   {
    "duration": 13153,
    "start_time": "2021-12-29T19:00:01.383Z"
   },
   {
    "duration": 614,
    "start_time": "2021-12-29T19:00:14.538Z"
   },
   {
    "duration": 5,
    "start_time": "2021-12-29T19:00:15.154Z"
   },
   {
    "duration": 18,
    "start_time": "2021-12-29T19:00:15.161Z"
   },
   {
    "duration": 261,
    "start_time": "2021-12-29T19:00:15.181Z"
   },
   {
    "duration": 1446,
    "start_time": "2021-12-29T19:00:15.445Z"
   },
   {
    "duration": 6258,
    "start_time": "2021-12-29T19:00:16.892Z"
   },
   {
    "duration": 303,
    "start_time": "2021-12-29T19:00:23.153Z"
   },
   {
    "duration": 970,
    "start_time": "2021-12-29T19:00:23.459Z"
   },
   {
    "duration": 251,
    "start_time": "2021-12-29T19:00:24.431Z"
   },
   {
    "duration": 2490,
    "start_time": "2021-12-29T19:00:24.683Z"
   },
   {
    "duration": 193,
    "start_time": "2021-12-29T19:00:27.201Z"
   },
   {
    "duration": 4,
    "start_time": "2021-12-29T19:00:36.475Z"
   },
   {
    "duration": 7230,
    "start_time": "2021-12-29T19:01:29.873Z"
   },
   {
    "duration": 632,
    "start_time": "2021-12-29T19:01:37.105Z"
   },
   {
    "duration": 5,
    "start_time": "2021-12-29T19:01:37.740Z"
   },
   {
    "duration": 22,
    "start_time": "2021-12-29T19:01:37.747Z"
   },
   {
    "duration": 292,
    "start_time": "2021-12-29T19:01:37.771Z"
   },
   {
    "duration": 2249,
    "start_time": "2021-12-29T19:01:38.065Z"
   },
   {
    "duration": 6672,
    "start_time": "2021-12-29T19:01:40.316Z"
   },
   {
    "duration": 279,
    "start_time": "2021-12-29T19:01:46.990Z"
   },
   {
    "duration": 1154,
    "start_time": "2021-12-29T19:01:47.272Z"
   },
   {
    "duration": 3,
    "start_time": "2021-12-29T19:01:48.428Z"
   },
   {
    "duration": 13,
    "start_time": "2021-12-29T19:01:48.433Z"
   },
   {
    "duration": 222,
    "start_time": "2021-12-29T19:01:50.655Z"
   },
   {
    "duration": 2010,
    "start_time": "2021-12-29T19:01:58.222Z"
   },
   {
    "duration": 257,
    "start_time": "2021-12-29T19:02:09.495Z"
   },
   {
    "duration": 2985,
    "start_time": "2021-12-29T19:02:09.865Z"
   },
   {
    "duration": 5423,
    "start_time": "2021-12-29T19:03:08.214Z"
   },
   {
    "duration": 914,
    "start_time": "2021-12-29T19:03:13.642Z"
   },
   {
    "duration": 4,
    "start_time": "2021-12-29T19:03:14.559Z"
   },
   {
    "duration": 26,
    "start_time": "2021-12-29T19:03:14.564Z"
   },
   {
    "duration": 286,
    "start_time": "2021-12-29T19:03:14.592Z"
   },
   {
    "duration": 2226,
    "start_time": "2021-12-29T19:03:14.880Z"
   },
   {
    "duration": 7421,
    "start_time": "2021-12-29T19:03:17.109Z"
   },
   {
    "duration": 268,
    "start_time": "2021-12-29T19:03:24.532Z"
   },
   {
    "duration": 973,
    "start_time": "2021-12-29T19:03:24.802Z"
   },
   {
    "duration": 4,
    "start_time": "2021-12-29T19:03:43.313Z"
   },
   {
    "duration": 230,
    "start_time": "2021-12-29T19:03:49.162Z"
   },
   {
    "duration": 1760,
    "start_time": "2021-12-29T19:04:09.012Z"
   },
   {
    "duration": 993,
    "start_time": "2021-12-29T19:04:21.840Z"
   },
   {
    "duration": 229,
    "start_time": "2021-12-29T19:04:29.487Z"
   },
   {
    "duration": 1955,
    "start_time": "2021-12-29T19:04:29.718Z"
   },
   {
    "duration": 567,
    "start_time": "2021-12-29T19:04:55.120Z"
   },
   {
    "duration": 226,
    "start_time": "2021-12-29T19:04:57.592Z"
   },
   {
    "duration": 1868,
    "start_time": "2021-12-29T19:04:57.820Z"
   },
   {
    "duration": 514,
    "start_time": "2021-12-29T19:05:05.472Z"
   },
   {
    "duration": 224,
    "start_time": "2021-12-29T19:05:07.585Z"
   },
   {
    "duration": 1775,
    "start_time": "2021-12-29T19:05:07.811Z"
   },
   {
    "duration": 863,
    "start_time": "2021-12-29T19:05:14.663Z"
   },
   {
    "duration": 226,
    "start_time": "2021-12-29T19:05:17.495Z"
   },
   {
    "duration": 1760,
    "start_time": "2021-12-29T19:05:17.722Z"
   },
   {
    "duration": 364,
    "start_time": "2021-12-29T19:06:45.557Z"
   },
   {
    "duration": 5874,
    "start_time": "2021-12-29T19:07:49.552Z"
   },
   {
    "duration": 1000,
    "start_time": "2021-12-29T19:07:59.246Z"
   },
   {
    "duration": 5,
    "start_time": "2021-12-29T19:08:05.973Z"
   },
   {
    "duration": 233,
    "start_time": "2021-12-29T19:08:14.252Z"
   },
   {
    "duration": 4,
    "start_time": "2021-12-29T19:08:21.535Z"
   },
   {
    "duration": 269,
    "start_time": "2021-12-29T19:08:25.688Z"
   },
   {
    "duration": 307,
    "start_time": "2021-12-29T19:08:33.702Z"
   },
   {
    "duration": -67,
    "start_time": "2021-12-29T19:08:34.078Z"
   },
   {
    "duration": 5,
    "start_time": "2021-12-29T19:08:52.836Z"
   },
   {
    "duration": 622,
    "start_time": "2021-12-29T19:08:53.450Z"
   },
   {
    "duration": 4,
    "start_time": "2021-12-29T19:08:54.073Z"
   },
   {
    "duration": 13,
    "start_time": "2021-12-29T19:08:54.502Z"
   },
   {
    "duration": 234,
    "start_time": "2021-12-29T19:08:54.962Z"
   },
   {
    "duration": 1587,
    "start_time": "2021-12-29T19:08:55.198Z"
   },
   {
    "duration": 6642,
    "start_time": "2021-12-29T19:08:56.788Z"
   },
   {
    "duration": 293,
    "start_time": "2021-12-29T19:09:03.432Z"
   },
   {
    "duration": 1104,
    "start_time": "2021-12-29T19:09:03.727Z"
   },
   {
    "duration": 4,
    "start_time": "2021-12-29T19:09:19.402Z"
   },
   {
    "duration": 231,
    "start_time": "2021-12-29T19:09:26.248Z"
   },
   {
    "duration": 1769,
    "start_time": "2021-12-29T19:09:26.600Z"
   },
   {
    "duration": 4438,
    "start_time": "2021-12-29T19:10:34.190Z"
   },
   {
    "duration": 602,
    "start_time": "2021-12-29T19:10:38.630Z"
   },
   {
    "duration": 8,
    "start_time": "2021-12-29T19:10:39.233Z"
   },
   {
    "duration": 22,
    "start_time": "2021-12-29T19:10:39.243Z"
   },
   {
    "duration": 235,
    "start_time": "2021-12-29T19:10:39.267Z"
   },
   {
    "duration": 1448,
    "start_time": "2021-12-29T19:10:39.504Z"
   },
   {
    "duration": 5975,
    "start_time": "2021-12-29T19:10:40.954Z"
   },
   {
    "duration": 235,
    "start_time": "2021-12-29T19:10:46.931Z"
   },
   {
    "duration": 863,
    "start_time": "2021-12-29T19:10:47.169Z"
   },
   {
    "duration": 3,
    "start_time": "2021-12-29T19:10:48.867Z"
   },
   {
    "duration": 219,
    "start_time": "2021-12-29T19:10:56.545Z"
   },
   {
    "duration": 2926,
    "start_time": "2021-12-29T19:10:56.765Z"
   },
   {
    "duration": 106064,
    "start_time": "2021-12-29T19:10:59.694Z"
   },
   {
    "duration": 360,
    "start_time": "2021-12-29T19:13:50.553Z"
   },
   {
    "duration": 21047,
    "start_time": "2021-12-29T19:13:54.613Z"
   },
   {
    "duration": 2166,
    "start_time": "2021-12-29T19:14:15.662Z"
   },
   {
    "duration": -367,
    "start_time": "2021-12-29T19:14:18.197Z"
   },
   {
    "duration": -368,
    "start_time": "2021-12-29T19:14:18.199Z"
   },
   {
    "duration": -370,
    "start_time": "2021-12-29T19:14:18.202Z"
   },
   {
    "duration": 537,
    "start_time": "2021-12-29T19:17:52.835Z"
   },
   {
    "duration": 2525,
    "start_time": "2021-12-29T19:18:01.752Z"
   },
   {
    "duration": 27,
    "start_time": "2021-12-29T19:18:09.987Z"
   },
   {
    "duration": 3,
    "start_time": "2021-12-29T19:24:37.345Z"
   },
   {
    "duration": 8,
    "start_time": "2021-12-29T19:24:59.935Z"
   },
   {
    "duration": 362,
    "start_time": "2021-12-29T19:25:03.452Z"
   },
   {
    "duration": 13257,
    "start_time": "2021-12-29T19:25:15.104Z"
   },
   {
    "duration": 3192,
    "start_time": "2021-12-29T19:25:28.363Z"
   },
   {
    "duration": 4,
    "start_time": "2021-12-29T19:25:31.557Z"
   },
   {
    "duration": 14,
    "start_time": "2021-12-29T19:25:31.563Z"
   },
   {
    "duration": 251,
    "start_time": "2021-12-29T19:25:31.579Z"
   },
   {
    "duration": 1537,
    "start_time": "2021-12-29T19:25:31.832Z"
   },
   {
    "duration": 6912,
    "start_time": "2021-12-29T19:25:33.370Z"
   },
   {
    "duration": 251,
    "start_time": "2021-12-29T19:25:40.285Z"
   },
   {
    "duration": 872,
    "start_time": "2021-12-29T19:25:40.541Z"
   },
   {
    "duration": 4,
    "start_time": "2021-12-29T19:25:41.414Z"
   },
   {
    "duration": 255,
    "start_time": "2021-12-29T19:25:41.419Z"
   },
   {
    "duration": 1839,
    "start_time": "2021-12-29T19:25:41.675Z"
   },
   {
    "duration": 15403,
    "start_time": "2021-12-29T19:25:43.516Z"
   },
   {
    "duration": 385,
    "start_time": "2021-12-29T19:25:58.921Z"
   },
   {
    "duration": 18883,
    "start_time": "2021-12-29T19:25:59.307Z"
   },
   {
    "duration": 1481,
    "start_time": "2021-12-29T19:26:18.192Z"
   },
   {
    "duration": 30,
    "start_time": "2021-12-29T19:26:28.745Z"
   },
   {
    "duration": 5136,
    "start_time": "2021-12-29T19:57:03.969Z"
   },
   {
    "duration": 653,
    "start_time": "2021-12-29T19:57:09.107Z"
   },
   {
    "duration": 4,
    "start_time": "2021-12-29T19:57:09.762Z"
   },
   {
    "duration": 16,
    "start_time": "2021-12-29T19:57:09.768Z"
   },
   {
    "duration": 260,
    "start_time": "2021-12-29T19:57:09.786Z"
   },
   {
    "duration": 1532,
    "start_time": "2021-12-29T19:57:10.047Z"
   },
   {
    "duration": 6727,
    "start_time": "2021-12-29T19:57:11.581Z"
   },
   {
    "duration": 268,
    "start_time": "2021-12-29T19:57:18.310Z"
   },
   {
    "duration": 965,
    "start_time": "2021-12-29T19:57:18.581Z"
   },
   {
    "duration": 4,
    "start_time": "2021-12-29T19:57:19.548Z"
   },
   {
    "duration": 10,
    "start_time": "2021-12-29T19:57:19.554Z"
   },
   {
    "duration": 1478,
    "start_time": "2021-12-29T19:57:19.566Z"
   },
   {
    "duration": 11,
    "start_time": "2021-12-29T19:57:21.046Z"
   },
   {
    "duration": 4375,
    "start_time": "2021-12-29T19:59:12.983Z"
   },
   {
    "duration": 638,
    "start_time": "2021-12-29T19:59:17.360Z"
   },
   {
    "duration": 4,
    "start_time": "2021-12-29T19:59:18.000Z"
   },
   {
    "duration": 15,
    "start_time": "2021-12-29T19:59:18.005Z"
   },
   {
    "duration": 255,
    "start_time": "2021-12-29T19:59:18.021Z"
   },
   {
    "duration": 1454,
    "start_time": "2021-12-29T19:59:18.278Z"
   },
   {
    "duration": 6681,
    "start_time": "2021-12-29T19:59:19.734Z"
   },
   {
    "duration": 249,
    "start_time": "2021-12-29T19:59:26.417Z"
   },
   {
    "duration": 858,
    "start_time": "2021-12-29T19:59:26.669Z"
   },
   {
    "duration": 14,
    "start_time": "2021-12-29T19:59:27.529Z"
   },
   {
    "duration": 10,
    "start_time": "2021-12-29T19:59:27.544Z"
   },
   {
    "duration": 1887,
    "start_time": "2021-12-29T19:59:27.556Z"
   },
   {
    "duration": 6,
    "start_time": "2021-12-29T19:59:29.445Z"
   },
   {
    "duration": 3,
    "start_time": "2021-12-29T19:59:29.453Z"
   },
   {
    "duration": 107373,
    "start_time": "2021-12-29T19:59:29.458Z"
   },
   {
    "duration": 43374,
    "start_time": "2021-12-29T20:01:16.833Z"
   },
   {
    "duration": 686,
    "start_time": "2021-12-29T20:02:00.209Z"
   },
   {
    "duration": 17454,
    "start_time": "2021-12-29T20:02:00.897Z"
   },
   {
    "duration": 4,
    "start_time": "2021-12-29T20:02:18.442Z"
   },
   {
    "duration": 21505,
    "start_time": "2021-12-29T20:02:18.447Z"
   },
   {
    "duration": 305,
    "start_time": "2021-12-29T20:02:39.954Z"
   },
   {
    "duration": 1775,
    "start_time": "2021-12-29T20:02:40.261Z"
   },
   {
    "duration": 81057,
    "start_time": "2021-12-29T20:02:42.042Z"
   },
   {
    "duration": 15418,
    "start_time": "2021-12-29T20:04:03.100Z"
   },
   {
    "duration": 396,
    "start_time": "2021-12-29T20:04:18.520Z"
   },
   {
    "duration": 3926,
    "start_time": "2021-12-29T20:04:18.918Z"
   },
   {
    "duration": 31,
    "start_time": "2021-12-29T20:04:22.846Z"
   },
   {
    "duration": 300,
    "start_time": "2021-12-29T20:04:22.879Z"
   },
   {
    "duration": 1078,
    "start_time": "2021-12-29T20:04:23.180Z"
   },
   {
    "duration": 304,
    "start_time": "2021-12-29T20:09:19.942Z"
   },
   {
    "duration": 419,
    "start_time": "2021-12-29T20:09:32.180Z"
   },
   {
    "duration": 9476,
    "start_time": "2021-12-30T07:57:20.300Z"
   },
   {
    "duration": 629,
    "start_time": "2021-12-30T07:57:36.122Z"
   },
   {
    "duration": 4,
    "start_time": "2021-12-30T07:57:38.252Z"
   },
   {
    "duration": 13,
    "start_time": "2021-12-30T07:57:40.554Z"
   },
   {
    "duration": 268,
    "start_time": "2021-12-30T07:57:56.516Z"
   },
   {
    "duration": 1528,
    "start_time": "2021-12-30T07:57:57.907Z"
   },
   {
    "duration": 1424,
    "start_time": "2021-12-30T08:00:02.512Z"
   },
   {
    "duration": 83,
    "start_time": "2021-12-30T08:00:35.938Z"
   },
   {
    "duration": 4,
    "start_time": "2021-12-30T08:00:50.775Z"
   },
   {
    "duration": 4,
    "start_time": "2021-12-30T08:13:44.480Z"
   },
   {
    "duration": 6,
    "start_time": "2021-12-30T08:14:16.697Z"
   },
   {
    "duration": 5,
    "start_time": "2021-12-30T08:14:57.651Z"
   },
   {
    "duration": 5,
    "start_time": "2021-12-30T08:15:42.907Z"
   },
   {
    "duration": 6,
    "start_time": "2021-12-30T08:16:59.396Z"
   },
   {
    "duration": 6,
    "start_time": "2021-12-30T08:17:17.496Z"
   },
   {
    "duration": 5,
    "start_time": "2021-12-30T08:17:45.354Z"
   },
   {
    "duration": 116,
    "start_time": "2021-12-30T08:18:41.247Z"
   },
   {
    "duration": 5,
    "start_time": "2021-12-30T08:18:46.329Z"
   },
   {
    "duration": 6,
    "start_time": "2021-12-30T08:47:48.072Z"
   },
   {
    "duration": 6,
    "start_time": "2021-12-30T08:48:32.570Z"
   },
   {
    "duration": 6,
    "start_time": "2021-12-30T08:49:18.196Z"
   },
   {
    "duration": 5,
    "start_time": "2021-12-30T08:49:48.990Z"
   },
   {
    "duration": 5,
    "start_time": "2021-12-30T08:49:59.761Z"
   },
   {
    "duration": 5,
    "start_time": "2021-12-30T08:50:10.589Z"
   },
   {
    "duration": 5,
    "start_time": "2021-12-30T08:50:37.043Z"
   },
   {
    "duration": 121,
    "start_time": "2021-12-30T09:10:16.424Z"
   },
   {
    "duration": 135,
    "start_time": "2022-01-13T13:04:45.580Z"
   },
   {
    "duration": 132,
    "start_time": "2022-01-13T13:07:38.090Z"
   },
   {
    "duration": 6383,
    "start_time": "2022-01-13T14:00:07.899Z"
   },
   {
    "duration": 25193,
    "start_time": "2022-01-13T14:00:14.284Z"
   },
   {
    "duration": 55385,
    "start_time": "2022-01-13T14:00:39.480Z"
   },
   {
    "duration": 3,
    "start_time": "2022-01-13T14:08:32.963Z"
   },
   {
    "duration": 6,
    "start_time": "2022-01-13T14:08:32.967Z"
   },
   {
    "duration": 4,
    "start_time": "2022-01-13T14:08:32.975Z"
   },
   {
    "duration": 3,
    "start_time": "2022-01-13T14:10:29.925Z"
   },
   {
    "duration": 4,
    "start_time": "2022-01-13T14:10:29.930Z"
   },
   {
    "duration": 4,
    "start_time": "2022-01-13T14:10:29.935Z"
   },
   {
    "duration": 2,
    "start_time": "2022-01-13T14:11:31.375Z"
   },
   {
    "duration": 4,
    "start_time": "2022-01-13T14:11:31.379Z"
   },
   {
    "duration": 8,
    "start_time": "2022-01-13T14:11:31.385Z"
   },
   {
    "duration": 3,
    "start_time": "2022-01-13T14:13:29.468Z"
   },
   {
    "duration": 6948,
    "start_time": "2022-01-13T14:13:29.472Z"
   },
   {
    "duration": 6937,
    "start_time": "2022-01-13T14:13:36.422Z"
   },
   {
    "duration": 3334,
    "start_time": "2022-01-14T20:48:14.247Z"
   },
   {
    "duration": 7099,
    "start_time": "2022-01-14T20:48:17.584Z"
   },
   {
    "duration": 6210,
    "start_time": "2022-01-14T20:48:24.687Z"
   },
   {
    "duration": 4186,
    "start_time": "2022-01-14T20:48:30.900Z"
   },
   {
    "duration": 6821,
    "start_time": "2022-01-14T20:48:35.089Z"
   },
   {
    "duration": 2759,
    "start_time": "2022-01-14T20:48:41.912Z"
   },
   {
    "duration": -267,
    "start_time": "2022-01-14T20:48:44.943Z"
   },
   {
    "duration": -276,
    "start_time": "2022-01-14T20:48:44.954Z"
   },
   {
    "duration": -278,
    "start_time": "2022-01-14T20:48:44.957Z"
   },
   {
    "duration": -298,
    "start_time": "2022-01-14T20:48:44.978Z"
   },
   {
    "duration": -299,
    "start_time": "2022-01-14T20:48:44.981Z"
   },
   {
    "duration": -300,
    "start_time": "2022-01-14T20:48:44.983Z"
   },
   {
    "duration": -301,
    "start_time": "2022-01-14T20:48:44.986Z"
   },
   {
    "duration": -312,
    "start_time": "2022-01-14T20:48:44.998Z"
   },
   {
    "duration": -314,
    "start_time": "2022-01-14T20:48:45.002Z"
   },
   {
    "duration": -315,
    "start_time": "2022-01-14T20:48:45.004Z"
   },
   {
    "duration": -315,
    "start_time": "2022-01-14T20:48:45.006Z"
   },
   {
    "duration": -316,
    "start_time": "2022-01-14T20:48:45.008Z"
   },
   {
    "duration": -328,
    "start_time": "2022-01-14T20:48:45.022Z"
   },
   {
    "duration": -338,
    "start_time": "2022-01-14T20:48:45.034Z"
   },
   {
    "duration": -340,
    "start_time": "2022-01-14T20:48:45.037Z"
   },
   {
    "duration": -340,
    "start_time": "2022-01-14T20:48:45.039Z"
   },
   {
    "duration": -341,
    "start_time": "2022-01-14T20:48:45.041Z"
   },
   {
    "duration": -342,
    "start_time": "2022-01-14T20:48:45.043Z"
   },
   {
    "duration": -342,
    "start_time": "2022-01-14T20:48:45.045Z"
   },
   {
    "duration": -343,
    "start_time": "2022-01-14T20:48:45.047Z"
   },
   {
    "duration": -344,
    "start_time": "2022-01-14T20:48:45.049Z"
   },
   {
    "duration": -358,
    "start_time": "2022-01-14T20:48:45.065Z"
   },
   {
    "duration": -360,
    "start_time": "2022-01-14T20:48:45.068Z"
   },
   {
    "duration": -381,
    "start_time": "2022-01-14T20:48:45.090Z"
   },
   {
    "duration": -330,
    "start_time": "2022-01-14T20:48:45.093Z"
   },
   {
    "duration": -332,
    "start_time": "2022-01-14T20:48:45.096Z"
   },
   {
    "duration": -333,
    "start_time": "2022-01-14T20:48:45.099Z"
   },
   {
    "duration": -345,
    "start_time": "2022-01-14T20:48:45.112Z"
   },
   {
    "duration": -346,
    "start_time": "2022-01-14T20:48:45.115Z"
   },
   {
    "duration": -347,
    "start_time": "2022-01-14T20:48:45.118Z"
   },
   {
    "duration": -349,
    "start_time": "2022-01-14T20:48:45.121Z"
   },
   {
    "duration": -350,
    "start_time": "2022-01-14T20:48:45.123Z"
   },
   {
    "duration": -364,
    "start_time": "2022-01-14T20:48:45.139Z"
   },
   {
    "duration": -366,
    "start_time": "2022-01-14T20:48:45.142Z"
   },
   {
    "duration": -385,
    "start_time": "2022-01-14T20:48:45.163Z"
   },
   {
    "duration": -417,
    "start_time": "2022-01-14T20:48:45.196Z"
   },
   {
    "duration": -419,
    "start_time": "2022-01-14T20:48:45.199Z"
   },
   {
    "duration": -419,
    "start_time": "2022-01-14T20:48:45.201Z"
   },
   {
    "duration": -420,
    "start_time": "2022-01-14T20:48:45.203Z"
   },
   {
    "duration": -421,
    "start_time": "2022-01-14T20:48:45.205Z"
   },
   {
    "duration": -423,
    "start_time": "2022-01-14T20:48:45.208Z"
   },
   {
    "duration": -423,
    "start_time": "2022-01-14T20:48:45.210Z"
   },
   {
    "duration": 2150,
    "start_time": "2022-01-14T20:49:08.917Z"
   },
   {
    "duration": -101,
    "start_time": "2022-01-14T20:49:11.172Z"
   },
   {
    "duration": -101,
    "start_time": "2022-01-14T20:49:11.174Z"
   },
   {
    "duration": -103,
    "start_time": "2022-01-14T20:49:11.177Z"
   },
   {
    "duration": -104,
    "start_time": "2022-01-14T20:49:11.179Z"
   },
   {
    "duration": -104,
    "start_time": "2022-01-14T20:49:11.181Z"
   },
   {
    "duration": -106,
    "start_time": "2022-01-14T20:49:11.184Z"
   },
   {
    "duration": -120,
    "start_time": "2022-01-14T20:49:11.200Z"
   },
   {
    "duration": -122,
    "start_time": "2022-01-14T20:49:11.203Z"
   },
   {
    "duration": -148,
    "start_time": "2022-01-14T20:49:11.230Z"
   },
   {
    "duration": -150,
    "start_time": "2022-01-14T20:49:11.233Z"
   },
   {
    "duration": -150,
    "start_time": "2022-01-14T20:49:11.235Z"
   },
   {
    "duration": -152,
    "start_time": "2022-01-14T20:49:11.238Z"
   },
   {
    "duration": -153,
    "start_time": "2022-01-14T20:49:11.241Z"
   },
   {
    "duration": -154,
    "start_time": "2022-01-14T20:49:11.243Z"
   },
   {
    "duration": -155,
    "start_time": "2022-01-14T20:49:11.245Z"
   },
   {
    "duration": -156,
    "start_time": "2022-01-14T20:49:11.248Z"
   },
   {
    "duration": -157,
    "start_time": "2022-01-14T20:49:11.250Z"
   },
   {
    "duration": -159,
    "start_time": "2022-01-14T20:49:11.253Z"
   },
   {
    "duration": -159,
    "start_time": "2022-01-14T20:49:11.255Z"
   },
   {
    "duration": -161,
    "start_time": "2022-01-14T20:49:11.258Z"
   },
   {
    "duration": -163,
    "start_time": "2022-01-14T20:49:11.261Z"
   },
   {
    "duration": -163,
    "start_time": "2022-01-14T20:49:11.263Z"
   },
   {
    "duration": -165,
    "start_time": "2022-01-14T20:49:11.266Z"
   },
   {
    "duration": -166,
    "start_time": "2022-01-14T20:49:11.268Z"
   },
   {
    "duration": -167,
    "start_time": "2022-01-14T20:49:11.271Z"
   },
   {
    "duration": -169,
    "start_time": "2022-01-14T20:49:11.274Z"
   },
   {
    "duration": -170,
    "start_time": "2022-01-14T20:49:11.276Z"
   },
   {
    "duration": -171,
    "start_time": "2022-01-14T20:49:11.279Z"
   },
   {
    "duration": -172,
    "start_time": "2022-01-14T20:49:11.281Z"
   },
   {
    "duration": -161,
    "start_time": "2022-01-14T20:49:11.323Z"
   },
   {
    "duration": -164,
    "start_time": "2022-01-14T20:49:11.327Z"
   },
   {
    "duration": -186,
    "start_time": "2022-01-14T20:49:11.351Z"
   },
   {
    "duration": -189,
    "start_time": "2022-01-14T20:49:11.355Z"
   },
   {
    "duration": -189,
    "start_time": "2022-01-14T20:49:11.357Z"
   },
   {
    "duration": -190,
    "start_time": "2022-01-14T20:49:11.360Z"
   },
   {
    "duration": -191,
    "start_time": "2022-01-14T20:49:11.362Z"
   },
   {
    "duration": -192,
    "start_time": "2022-01-14T20:49:11.364Z"
   },
   {
    "duration": -193,
    "start_time": "2022-01-14T20:49:11.367Z"
   },
   {
    "duration": -194,
    "start_time": "2022-01-14T20:49:11.369Z"
   },
   {
    "duration": -196,
    "start_time": "2022-01-14T20:49:11.372Z"
   },
   {
    "duration": -198,
    "start_time": "2022-01-14T20:49:11.375Z"
   },
   {
    "duration": 3441,
    "start_time": "2022-01-14T20:49:51.209Z"
   },
   {
    "duration": 11,
    "start_time": "2022-01-14T20:49:54.653Z"
   },
   {
    "duration": 359,
    "start_time": "2022-01-14T20:49:54.667Z"
   },
   {
    "duration": 675,
    "start_time": "2022-01-14T20:49:55.030Z"
   },
   {
    "duration": 2848,
    "start_time": "2022-01-14T20:49:55.707Z"
   },
   {
    "duration": 5933,
    "start_time": "2022-01-14T20:49:58.563Z"
   },
   {
    "duration": 11,
    "start_time": "2022-01-14T20:50:04.498Z"
   },
   {
    "duration": 10,
    "start_time": "2022-01-14T20:50:04.513Z"
   },
   {
    "duration": 4,
    "start_time": "2022-02-22T14:51:50.174Z"
   },
   {
    "duration": 7148,
    "start_time": "2022-02-22T14:51:50.180Z"
   },
   {
    "duration": 6126,
    "start_time": "2022-02-22T14:51:57.331Z"
   },
   {
    "duration": 4040,
    "start_time": "2022-02-22T14:52:03.460Z"
   },
   {
    "duration": 20990,
    "start_time": "2022-02-22T14:52:07.503Z"
   },
   {
    "duration": 1384,
    "start_time": "2022-02-22T14:52:28.496Z"
   },
   {
    "duration": 5,
    "start_time": "2022-02-22T14:52:29.883Z"
   },
   {
    "duration": 364,
    "start_time": "2022-02-22T14:52:29.892Z"
   },
   {
    "duration": 702,
    "start_time": "2022-02-22T14:52:30.259Z"
   },
   {
    "duration": 2952,
    "start_time": "2022-02-22T14:52:30.963Z"
   },
   {
    "duration": 6967,
    "start_time": "2022-02-22T14:52:33.918Z"
   },
   {
    "duration": 11,
    "start_time": "2022-02-22T14:52:40.888Z"
   },
   {
    "duration": 11,
    "start_time": "2022-02-22T14:52:40.902Z"
   },
   {
    "duration": 2141670,
    "start_time": "2022-02-22T14:52:40.916Z"
   },
   {
    "duration": 3,
    "start_time": "2022-04-05T11:17:54.200Z"
   },
   {
    "duration": 5699,
    "start_time": "2022-04-05T11:17:54.205Z"
   },
   {
    "duration": 14411,
    "start_time": "2022-04-05T11:17:59.905Z"
   },
   {
    "duration": 3247,
    "start_time": "2022-04-05T11:18:14.319Z"
   },
   {
    "duration": 11484,
    "start_time": "2022-04-05T11:18:17.568Z"
   },
   {
    "duration": 712,
    "start_time": "2022-04-05T11:18:29.053Z"
   },
   {
    "duration": 3,
    "start_time": "2022-04-05T11:18:29.767Z"
   },
   {
    "duration": 403,
    "start_time": "2022-04-05T11:18:29.772Z"
   },
   {
    "duration": 337,
    "start_time": "2022-04-05T11:18:30.180Z"
   },
   {
    "duration": 1776,
    "start_time": "2022-04-05T11:18:30.519Z"
   },
   {
    "duration": 3565,
    "start_time": "2022-04-05T11:18:32.297Z"
   },
   {
    "duration": 11,
    "start_time": "2022-04-05T11:18:35.864Z"
   },
   {
    "duration": 7,
    "start_time": "2022-04-05T11:18:35.881Z"
   }
  ],
  "kernelspec": {
   "display_name": "Python 3",
   "language": "python",
   "name": "python3"
  },
  "language_info": {
   "codemirror_mode": {
    "name": "ipython",
    "version": 3
   },
   "file_extension": ".py",
   "mimetype": "text/x-python",
   "name": "python",
   "nbconvert_exporter": "python",
   "pygments_lexer": "ipython3",
   "version": "3.8.5"
  },
  "notebookId": "c657bcb4-2fdb-4272-b439-baa2bb4de9a5",
  "notebookPath": "fe3663ac-1d5f-458d-8d89-2df09be50987.ipynb",
  "toc": {
   "base_numbering": 1,
   "nav_menu": {},
   "number_sections": true,
   "sideBar": true,
   "skip_h1_title": true,
   "title_cell": "Содержание",
   "title_sidebar": "Contents",
   "toc_cell": true,
   "toc_position": {
    "height": "calc(100% - 180px)",
    "left": "10px",
    "top": "150px",
    "width": "302.391px"
   },
   "toc_section_display": true,
   "toc_window_display": false
  }
 },
 "nbformat": 4,
 "nbformat_minor": 4
}
