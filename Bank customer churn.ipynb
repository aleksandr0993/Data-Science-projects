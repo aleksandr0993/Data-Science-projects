{
 "cells": [
  {
   "cell_type": "code",
   "execution_count": 1,
   "metadata": {},
   "outputs": [],
   "source": [
    "import pandas as pd\n",
    "import joblib\n",
    "import numpy as np\n",
    "import seaborn as sns\n",
    "import math\n",
    "import matplotlib.pyplot as plt\n",
    "from sklearn.metrics import precision_recall_curve\n",
    "from sklearn.preprocessing import StandardScaler\n",
    "from sklearn.model_selection import train_test_split\n",
    "from sklearn.ensemble import RandomForestClassifier\n",
    "from sklearn.linear_model import LogisticRegression\n",
    "from sklearn.neighbors import KNeighborsClassifier\n",
    "from sklearn.tree import DecisionTreeClassifier\n",
    "from sklearn.naive_bayes import GaussianNB\n",
    "from sklearn.discriminant_analysis import LinearDiscriminantAnalysis\n",
    "from sklearn.svm import SVC\n",
    "from sklearn.metrics import precision_score, recall_score\n",
    "from sklearn.metrics import f1_score\n",
    "from sklearn.metrics import roc_auc_score\n",
    "from sklearn.metrics import roc_curve\n",
    "from sklearn.utils import shuffle\n",
    "from sklearn.model_selection import GridSearchCV\n",
    "import warnings\n",
    "warnings.simplefilter('ignore')\n",
    "pd.options.mode.chained_assignment=None"
   ]
  },
  {
   "cell_type": "markdown",
   "metadata": {
    "toc": true
   },
   "source": [
    "<h1>Содержание<span class=\"tocSkip\"></span></h1>\n",
    "<div class=\"toc\"><ul class=\"toc-item\"><li><span><a href=\"#Подготовка-данных\" data-toc-modified-id=\"Подготовка-данных-1\"><span class=\"toc-item-num\">1&nbsp;&nbsp;</span>Подготовка данных</a></span></li><li><span><a href=\"#Исследование-задачи\" data-toc-modified-id=\"Исследование-задачи-2\"><span class=\"toc-item-num\">2&nbsp;&nbsp;</span>Исследование задачи</a></span><ul class=\"toc-item\"><li><span><a href=\"#Random-Forest\" data-toc-modified-id=\"Random-Forest-2.1\"><span class=\"toc-item-num\">2.1&nbsp;&nbsp;</span>Random Forest</a></span></li></ul></li><li><span><a href=\"#Борьба-с-дисбалансом\" data-toc-modified-id=\"Борьба-с-дисбалансом-3\"><span class=\"toc-item-num\">3&nbsp;&nbsp;</span>Борьба с дисбалансом</a></span><ul class=\"toc-item\"><li><span><a href=\"#Upsampling\" data-toc-modified-id=\"Upsampling-3.1\"><span class=\"toc-item-num\">3.1&nbsp;&nbsp;</span>Upsampling</a></span></li><li><span><a href=\"#Downsampling\" data-toc-modified-id=\"Downsampling-3.2\"><span class=\"toc-item-num\">3.2&nbsp;&nbsp;</span>Downsampling</a></span></li><li><span><a href=\"#Взвешивание-классов\" data-toc-modified-id=\"Взвешивание-классов-3.3\"><span class=\"toc-item-num\">3.3&nbsp;&nbsp;</span>Взвешивание классов</a></span></li><li><span><a href=\"#RF-с-подбором-гиперпараметров\" data-toc-modified-id=\"RF-с-подбором-гиперпараметров-3.4\"><span class=\"toc-item-num\">3.4&nbsp;&nbsp;</span>RF с подбором гиперпараметров</a></span></li><li><span><a href=\"#LogReg-с-подбором-гиперпараметров\" data-toc-modified-id=\"LogReg-с-подбором-гиперпараметров-3.5\"><span class=\"toc-item-num\">3.5&nbsp;&nbsp;</span>LogReg с подбором гиперпараметров</a></span></li><li><span><a href=\"#SVC-с-подбором-гиперпараметров\" data-toc-modified-id=\"SVC-с-подбором-гиперпараметров-3.6\"><span class=\"toc-item-num\">3.6&nbsp;&nbsp;</span>SVC с подбором гиперпараметров</a></span></li><li><span><a href=\"#KNN-с-подбором-гиперпараметров\" data-toc-modified-id=\"KNN-с-подбором-гиперпараметров-3.7\"><span class=\"toc-item-num\">3.7&nbsp;&nbsp;</span>KNN с подбором гиперпараметров</a></span></li><li><span><a href=\"#Naive-Bayes\" data-toc-modified-id=\"Naive-Bayes-3.8\"><span class=\"toc-item-num\">3.8&nbsp;&nbsp;</span>Naive Bayes</a></span></li><li><span><a href=\"#LDA\" data-toc-modified-id=\"LDA-3.9\"><span class=\"toc-item-num\">3.9&nbsp;&nbsp;</span>LDA</a></span></li></ul></li><li><span><a href=\"#Тестирование-модели\" data-toc-modified-id=\"Тестирование-модели-4\"><span class=\"toc-item-num\">4&nbsp;&nbsp;</span>Тестирование модели</a></span><ul class=\"toc-item\"><li><span><a href=\"#Вывод:\" data-toc-modified-id=\"Вывод:-4.1\"><span class=\"toc-item-num\">4.1&nbsp;&nbsp;</span>Вывод:</a></span></li></ul></li><li><span><a href=\"#Чек-лист-готовности-проекта\" data-toc-modified-id=\"Чек-лист-готовности-проекта-5\"><span class=\"toc-item-num\">5&nbsp;&nbsp;</span>Чек-лист готовности проекта</a></span></li></ul></div>"
   ]
  },
  {
   "cell_type": "markdown",
   "metadata": {},
   "source": [
    "# Отток клиентов"
   ]
  },
  {
   "cell_type": "markdown",
   "metadata": {},
   "source": [
    "Из «Бета-Банка» стали уходить клиенты. Каждый месяц. Немного, но заметно. Банковские маркетологи посчитали: сохранять текущих клиентов дешевле, чем привлекать новых.\n",
    "\n",
    "Нужно спрогнозировать, уйдёт клиент из банка в ближайшее время или нет. Вам предоставлены исторические данные о поведении клиентов и расторжении договоров с банком. \n",
    "\n",
    "Постройте модель с предельно большим значением *F1*-меры. Чтобы сдать проект успешно, нужно довести метрику до 0.59. Проверьте *F1*-меру на тестовой выборке самостоятельно.\n",
    "\n",
    "Дополнительно измеряйте *AUC-ROC*, сравнивайте её значение с *F1*-мерой.\n",
    "\n",
    "Источник данных: [https://www.kaggle.com/barelydedicated/bank-customer-churn-modeling](https://www.kaggle.com/barelydedicated/bank-customer-churn-modeling)"
   ]
  },
  {
   "cell_type": "markdown",
   "metadata": {},
   "source": [
    "## Подготовка данных"
   ]
  },
  {
   "cell_type": "code",
   "execution_count": 2,
   "metadata": {},
   "outputs": [
    {
     "data": {
      "text/html": [
       "<div>\n",
       "<style scoped>\n",
       "    .dataframe tbody tr th:only-of-type {\n",
       "        vertical-align: middle;\n",
       "    }\n",
       "\n",
       "    .dataframe tbody tr th {\n",
       "        vertical-align: top;\n",
       "    }\n",
       "\n",
       "    .dataframe thead th {\n",
       "        text-align: right;\n",
       "    }\n",
       "</style>\n",
       "<table border=\"1\" class=\"dataframe\">\n",
       "  <thead>\n",
       "    <tr style=\"text-align: right;\">\n",
       "      <th></th>\n",
       "      <th>RowNumber</th>\n",
       "      <th>CustomerId</th>\n",
       "      <th>Surname</th>\n",
       "      <th>CreditScore</th>\n",
       "      <th>Geography</th>\n",
       "      <th>Gender</th>\n",
       "      <th>Age</th>\n",
       "      <th>Tenure</th>\n",
       "      <th>Balance</th>\n",
       "      <th>NumOfProducts</th>\n",
       "      <th>HasCrCard</th>\n",
       "      <th>IsActiveMember</th>\n",
       "      <th>EstimatedSalary</th>\n",
       "      <th>Exited</th>\n",
       "    </tr>\n",
       "  </thead>\n",
       "  <tbody>\n",
       "    <tr>\n",
       "      <td>0</td>\n",
       "      <td>1</td>\n",
       "      <td>15634602</td>\n",
       "      <td>Hargrave</td>\n",
       "      <td>619</td>\n",
       "      <td>France</td>\n",
       "      <td>Female</td>\n",
       "      <td>42</td>\n",
       "      <td>2.0</td>\n",
       "      <td>0.00</td>\n",
       "      <td>1</td>\n",
       "      <td>1</td>\n",
       "      <td>1</td>\n",
       "      <td>101348.88</td>\n",
       "      <td>1</td>\n",
       "    </tr>\n",
       "    <tr>\n",
       "      <td>1</td>\n",
       "      <td>2</td>\n",
       "      <td>15647311</td>\n",
       "      <td>Hill</td>\n",
       "      <td>608</td>\n",
       "      <td>Spain</td>\n",
       "      <td>Female</td>\n",
       "      <td>41</td>\n",
       "      <td>1.0</td>\n",
       "      <td>83807.86</td>\n",
       "      <td>1</td>\n",
       "      <td>0</td>\n",
       "      <td>1</td>\n",
       "      <td>112542.58</td>\n",
       "      <td>0</td>\n",
       "    </tr>\n",
       "    <tr>\n",
       "      <td>2</td>\n",
       "      <td>3</td>\n",
       "      <td>15619304</td>\n",
       "      <td>Onio</td>\n",
       "      <td>502</td>\n",
       "      <td>France</td>\n",
       "      <td>Female</td>\n",
       "      <td>42</td>\n",
       "      <td>8.0</td>\n",
       "      <td>159660.80</td>\n",
       "      <td>3</td>\n",
       "      <td>1</td>\n",
       "      <td>0</td>\n",
       "      <td>113931.57</td>\n",
       "      <td>1</td>\n",
       "    </tr>\n",
       "    <tr>\n",
       "      <td>3</td>\n",
       "      <td>4</td>\n",
       "      <td>15701354</td>\n",
       "      <td>Boni</td>\n",
       "      <td>699</td>\n",
       "      <td>France</td>\n",
       "      <td>Female</td>\n",
       "      <td>39</td>\n",
       "      <td>1.0</td>\n",
       "      <td>0.00</td>\n",
       "      <td>2</td>\n",
       "      <td>0</td>\n",
       "      <td>0</td>\n",
       "      <td>93826.63</td>\n",
       "      <td>0</td>\n",
       "    </tr>\n",
       "    <tr>\n",
       "      <td>4</td>\n",
       "      <td>5</td>\n",
       "      <td>15737888</td>\n",
       "      <td>Mitchell</td>\n",
       "      <td>850</td>\n",
       "      <td>Spain</td>\n",
       "      <td>Female</td>\n",
       "      <td>43</td>\n",
       "      <td>2.0</td>\n",
       "      <td>125510.82</td>\n",
       "      <td>1</td>\n",
       "      <td>1</td>\n",
       "      <td>1</td>\n",
       "      <td>79084.10</td>\n",
       "      <td>0</td>\n",
       "    </tr>\n",
       "  </tbody>\n",
       "</table>\n",
       "</div>"
      ],
      "text/plain": [
       "   RowNumber  CustomerId   Surname  CreditScore Geography  Gender  Age  \\\n",
       "0          1    15634602  Hargrave          619    France  Female   42   \n",
       "1          2    15647311      Hill          608     Spain  Female   41   \n",
       "2          3    15619304      Onio          502    France  Female   42   \n",
       "3          4    15701354      Boni          699    France  Female   39   \n",
       "4          5    15737888  Mitchell          850     Spain  Female   43   \n",
       "\n",
       "   Tenure    Balance  NumOfProducts  HasCrCard  IsActiveMember  \\\n",
       "0     2.0       0.00              1          1               1   \n",
       "1     1.0   83807.86              1          0               1   \n",
       "2     8.0  159660.80              3          1               0   \n",
       "3     1.0       0.00              2          0               0   \n",
       "4     2.0  125510.82              1          1               1   \n",
       "\n",
       "   EstimatedSalary  Exited  \n",
       "0        101348.88       1  \n",
       "1        112542.58       0  \n",
       "2        113931.57       1  \n",
       "3         93826.63       0  \n",
       "4         79084.10       0  "
      ]
     },
     "execution_count": 2,
     "metadata": {},
     "output_type": "execute_result"
    }
   ],
   "source": [
    "df = pd.read_csv('/datasets/Churn.csv')\n",
    "df.head()"
   ]
  },
  {
   "cell_type": "code",
   "execution_count": 3,
   "metadata": {},
   "outputs": [
    {
     "name": "stdout",
     "output_type": "stream",
     "text": [
      "<class 'pandas.core.frame.DataFrame'>\n",
      "RangeIndex: 10000 entries, 0 to 9999\n",
      "Data columns (total 14 columns):\n",
      "RowNumber          10000 non-null int64\n",
      "CustomerId         10000 non-null int64\n",
      "Surname            10000 non-null object\n",
      "CreditScore        10000 non-null int64\n",
      "Geography          10000 non-null object\n",
      "Gender             10000 non-null object\n",
      "Age                10000 non-null int64\n",
      "Tenure             9091 non-null float64\n",
      "Balance            10000 non-null float64\n",
      "NumOfProducts      10000 non-null int64\n",
      "HasCrCard          10000 non-null int64\n",
      "IsActiveMember     10000 non-null int64\n",
      "EstimatedSalary    10000 non-null float64\n",
      "Exited             10000 non-null int64\n",
      "dtypes: float64(3), int64(8), object(3)\n",
      "memory usage: 1.1+ MB\n"
     ]
    }
   ],
   "source": [
    "df.info()"
   ]
  },
  {
   "cell_type": "code",
   "execution_count": 4,
   "metadata": {},
   "outputs": [
    {
     "data": {
      "text/html": [
       "<div>\n",
       "<style scoped>\n",
       "    .dataframe tbody tr th:only-of-type {\n",
       "        vertical-align: middle;\n",
       "    }\n",
       "\n",
       "    .dataframe tbody tr th {\n",
       "        vertical-align: top;\n",
       "    }\n",
       "\n",
       "    .dataframe thead th {\n",
       "        text-align: right;\n",
       "    }\n",
       "</style>\n",
       "<table border=\"1\" class=\"dataframe\">\n",
       "  <thead>\n",
       "    <tr style=\"text-align: right;\">\n",
       "      <th></th>\n",
       "      <th>RowNumber</th>\n",
       "      <th>CustomerId</th>\n",
       "      <th>CreditScore</th>\n",
       "      <th>Age</th>\n",
       "      <th>Tenure</th>\n",
       "      <th>Balance</th>\n",
       "      <th>NumOfProducts</th>\n",
       "      <th>HasCrCard</th>\n",
       "      <th>IsActiveMember</th>\n",
       "      <th>EstimatedSalary</th>\n",
       "      <th>Exited</th>\n",
       "    </tr>\n",
       "  </thead>\n",
       "  <tbody>\n",
       "    <tr>\n",
       "      <td>count</td>\n",
       "      <td>10000.00000</td>\n",
       "      <td>1.000000e+04</td>\n",
       "      <td>10000.000000</td>\n",
       "      <td>10000.000000</td>\n",
       "      <td>9091.000000</td>\n",
       "      <td>10000.000000</td>\n",
       "      <td>10000.000000</td>\n",
       "      <td>10000.00000</td>\n",
       "      <td>10000.000000</td>\n",
       "      <td>10000.000000</td>\n",
       "      <td>10000.000000</td>\n",
       "    </tr>\n",
       "    <tr>\n",
       "      <td>mean</td>\n",
       "      <td>5000.50000</td>\n",
       "      <td>1.569094e+07</td>\n",
       "      <td>650.528800</td>\n",
       "      <td>38.921800</td>\n",
       "      <td>4.997690</td>\n",
       "      <td>76485.889288</td>\n",
       "      <td>1.530200</td>\n",
       "      <td>0.70550</td>\n",
       "      <td>0.515100</td>\n",
       "      <td>100090.239881</td>\n",
       "      <td>0.203700</td>\n",
       "    </tr>\n",
       "    <tr>\n",
       "      <td>std</td>\n",
       "      <td>2886.89568</td>\n",
       "      <td>7.193619e+04</td>\n",
       "      <td>96.653299</td>\n",
       "      <td>10.487806</td>\n",
       "      <td>2.894723</td>\n",
       "      <td>62397.405202</td>\n",
       "      <td>0.581654</td>\n",
       "      <td>0.45584</td>\n",
       "      <td>0.499797</td>\n",
       "      <td>57510.492818</td>\n",
       "      <td>0.402769</td>\n",
       "    </tr>\n",
       "    <tr>\n",
       "      <td>min</td>\n",
       "      <td>1.00000</td>\n",
       "      <td>1.556570e+07</td>\n",
       "      <td>350.000000</td>\n",
       "      <td>18.000000</td>\n",
       "      <td>0.000000</td>\n",
       "      <td>0.000000</td>\n",
       "      <td>1.000000</td>\n",
       "      <td>0.00000</td>\n",
       "      <td>0.000000</td>\n",
       "      <td>11.580000</td>\n",
       "      <td>0.000000</td>\n",
       "    </tr>\n",
       "    <tr>\n",
       "      <td>25%</td>\n",
       "      <td>2500.75000</td>\n",
       "      <td>1.562853e+07</td>\n",
       "      <td>584.000000</td>\n",
       "      <td>32.000000</td>\n",
       "      <td>2.000000</td>\n",
       "      <td>0.000000</td>\n",
       "      <td>1.000000</td>\n",
       "      <td>0.00000</td>\n",
       "      <td>0.000000</td>\n",
       "      <td>51002.110000</td>\n",
       "      <td>0.000000</td>\n",
       "    </tr>\n",
       "    <tr>\n",
       "      <td>50%</td>\n",
       "      <td>5000.50000</td>\n",
       "      <td>1.569074e+07</td>\n",
       "      <td>652.000000</td>\n",
       "      <td>37.000000</td>\n",
       "      <td>5.000000</td>\n",
       "      <td>97198.540000</td>\n",
       "      <td>1.000000</td>\n",
       "      <td>1.00000</td>\n",
       "      <td>1.000000</td>\n",
       "      <td>100193.915000</td>\n",
       "      <td>0.000000</td>\n",
       "    </tr>\n",
       "    <tr>\n",
       "      <td>75%</td>\n",
       "      <td>7500.25000</td>\n",
       "      <td>1.575323e+07</td>\n",
       "      <td>718.000000</td>\n",
       "      <td>44.000000</td>\n",
       "      <td>7.000000</td>\n",
       "      <td>127644.240000</td>\n",
       "      <td>2.000000</td>\n",
       "      <td>1.00000</td>\n",
       "      <td>1.000000</td>\n",
       "      <td>149388.247500</td>\n",
       "      <td>0.000000</td>\n",
       "    </tr>\n",
       "    <tr>\n",
       "      <td>max</td>\n",
       "      <td>10000.00000</td>\n",
       "      <td>1.581569e+07</td>\n",
       "      <td>850.000000</td>\n",
       "      <td>92.000000</td>\n",
       "      <td>10.000000</td>\n",
       "      <td>250898.090000</td>\n",
       "      <td>4.000000</td>\n",
       "      <td>1.00000</td>\n",
       "      <td>1.000000</td>\n",
       "      <td>199992.480000</td>\n",
       "      <td>1.000000</td>\n",
       "    </tr>\n",
       "  </tbody>\n",
       "</table>\n",
       "</div>"
      ],
      "text/plain": [
       "         RowNumber    CustomerId   CreditScore           Age       Tenure  \\\n",
       "count  10000.00000  1.000000e+04  10000.000000  10000.000000  9091.000000   \n",
       "mean    5000.50000  1.569094e+07    650.528800     38.921800     4.997690   \n",
       "std     2886.89568  7.193619e+04     96.653299     10.487806     2.894723   \n",
       "min        1.00000  1.556570e+07    350.000000     18.000000     0.000000   \n",
       "25%     2500.75000  1.562853e+07    584.000000     32.000000     2.000000   \n",
       "50%     5000.50000  1.569074e+07    652.000000     37.000000     5.000000   \n",
       "75%     7500.25000  1.575323e+07    718.000000     44.000000     7.000000   \n",
       "max    10000.00000  1.581569e+07    850.000000     92.000000    10.000000   \n",
       "\n",
       "             Balance  NumOfProducts    HasCrCard  IsActiveMember  \\\n",
       "count   10000.000000   10000.000000  10000.00000    10000.000000   \n",
       "mean    76485.889288       1.530200      0.70550        0.515100   \n",
       "std     62397.405202       0.581654      0.45584        0.499797   \n",
       "min         0.000000       1.000000      0.00000        0.000000   \n",
       "25%         0.000000       1.000000      0.00000        0.000000   \n",
       "50%     97198.540000       1.000000      1.00000        1.000000   \n",
       "75%    127644.240000       2.000000      1.00000        1.000000   \n",
       "max    250898.090000       4.000000      1.00000        1.000000   \n",
       "\n",
       "       EstimatedSalary        Exited  \n",
       "count     10000.000000  10000.000000  \n",
       "mean     100090.239881      0.203700  \n",
       "std       57510.492818      0.402769  \n",
       "min          11.580000      0.000000  \n",
       "25%       51002.110000      0.000000  \n",
       "50%      100193.915000      0.000000  \n",
       "75%      149388.247500      0.000000  \n",
       "max      199992.480000      1.000000  "
      ]
     },
     "execution_count": 4,
     "metadata": {},
     "output_type": "execute_result"
    }
   ],
   "source": [
    "df.describe()"
   ]
  },
  {
   "cell_type": "markdown",
   "metadata": {},
   "source": [
    "Не хочется терять около 10% удалением пропущенных данных. поэтому заполним пропущенные значения у признака 'Tenure' интерполяцией."
   ]
  },
  {
   "cell_type": "code",
   "execution_count": 5,
   "metadata": {},
   "outputs": [],
   "source": [
    "df['Tenure'] = df['Tenure'].fillna(df['Tenure'].median(axis=0))"
   ]
  },
  {
   "cell_type": "markdown",
   "metadata": {},
   "source": [
    "Создадим новую таблицу, позволяющую соотнести ID клиента и его фамилию."
   ]
  },
  {
   "cell_type": "code",
   "execution_count": 6,
   "metadata": {},
   "outputs": [
    {
     "data": {
      "text/html": [
       "<div>\n",
       "<style scoped>\n",
       "    .dataframe tbody tr th:only-of-type {\n",
       "        vertical-align: middle;\n",
       "    }\n",
       "\n",
       "    .dataframe tbody tr th {\n",
       "        vertical-align: top;\n",
       "    }\n",
       "\n",
       "    .dataframe thead th {\n",
       "        text-align: right;\n",
       "    }\n",
       "</style>\n",
       "<table border=\"1\" class=\"dataframe\">\n",
       "  <thead>\n",
       "    <tr style=\"text-align: right;\">\n",
       "      <th></th>\n",
       "      <th>CustomerId</th>\n",
       "      <th>Surname</th>\n",
       "    </tr>\n",
       "  </thead>\n",
       "  <tbody>\n",
       "    <tr>\n",
       "      <td>0</td>\n",
       "      <td>15634602</td>\n",
       "      <td>Hargrave</td>\n",
       "    </tr>\n",
       "    <tr>\n",
       "      <td>1</td>\n",
       "      <td>15647311</td>\n",
       "      <td>Hill</td>\n",
       "    </tr>\n",
       "    <tr>\n",
       "      <td>2</td>\n",
       "      <td>15619304</td>\n",
       "      <td>Onio</td>\n",
       "    </tr>\n",
       "    <tr>\n",
       "      <td>3</td>\n",
       "      <td>15701354</td>\n",
       "      <td>Boni</td>\n",
       "    </tr>\n",
       "    <tr>\n",
       "      <td>4</td>\n",
       "      <td>15737888</td>\n",
       "      <td>Mitchell</td>\n",
       "    </tr>\n",
       "  </tbody>\n",
       "</table>\n",
       "</div>"
      ],
      "text/plain": [
       "  CustomerId   Surname\n",
       "0   15634602  Hargrave\n",
       "1   15647311      Hill\n",
       "2   15619304      Onio\n",
       "3   15701354      Boni\n",
       "4   15737888  Mitchell"
      ]
     },
     "execution_count": 6,
     "metadata": {},
     "output_type": "execute_result"
    }
   ],
   "source": [
    "clients = pd.DataFrame(data=[df['CustomerId'], df['Surname']]).T\n",
    "clients.head()"
   ]
  },
  {
   "cell_type": "markdown",
   "metadata": {},
   "source": [
    "Удалим неинформативные для последующего анализа признаки:"
   ]
  },
  {
   "cell_type": "code",
   "execution_count": 7,
   "metadata": {},
   "outputs": [],
   "source": [
    "df = df.drop(['Surname', 'RowNumber', 'CustomerId'], axis=1)"
   ]
  },
  {
   "cell_type": "markdown",
   "metadata": {},
   "source": [
    "Выведем pairplot для количественных признаков:"
   ]
  },
  {
   "cell_type": "code",
   "execution_count": 8,
   "metadata": {},
   "outputs": [
    {
     "data": {
      "text/plain": [
       "<seaborn.axisgrid.PairGrid at 0x7f17ec0e1450>"
      ]
     },
     "execution_count": 8,
     "metadata": {},
     "output_type": "execute_result"
    },
    {
     "data": {
      "image/png": "[encoded data removed]",
      "text/plain": [
       "<Figure size 942.375x900 with 30 Axes>"
      ]
     },
     "metadata": {
      "needs_background": "light"
     },
     "output_type": "display_data"
    }
   ],
   "source": [
    "sns.pairplot(df[['CreditScore','Age', 'Balance', 'EstimatedSalary', 'Exited']], hue='Exited')"
   ]
  },
  {
   "cell_type": "markdown",
   "metadata": {},
   "source": [
    "Воспользуемся техникой One Hot Encoding для перевода номинальных категориальных признаков в количественные:"
   ]
  },
  {
   "cell_type": "code",
   "execution_count": 9,
   "metadata": {},
   "outputs": [
    {
     "data": {
      "text/html": [
       "<div>\n",
       "<style scoped>\n",
       "    .dataframe tbody tr th:only-of-type {\n",
       "        vertical-align: middle;\n",
       "    }\n",
       "\n",
       "    .dataframe tbody tr th {\n",
       "        vertical-align: top;\n",
       "    }\n",
       "\n",
       "    .dataframe thead th {\n",
       "        text-align: right;\n",
       "    }\n",
       "</style>\n",
       "<table border=\"1\" class=\"dataframe\">\n",
       "  <thead>\n",
       "    <tr style=\"text-align: right;\">\n",
       "      <th></th>\n",
       "      <th>CreditScore</th>\n",
       "      <th>Age</th>\n",
       "      <th>Tenure</th>\n",
       "      <th>Balance</th>\n",
       "      <th>NumOfProducts</th>\n",
       "      <th>HasCrCard</th>\n",
       "      <th>IsActiveMember</th>\n",
       "      <th>EstimatedSalary</th>\n",
       "      <th>Exited</th>\n",
       "      <th>Geography_Germany</th>\n",
       "      <th>Geography_Spain</th>\n",
       "      <th>Gender_Male</th>\n",
       "    </tr>\n",
       "  </thead>\n",
       "  <tbody>\n",
       "    <tr>\n",
       "      <td>0</td>\n",
       "      <td>619</td>\n",
       "      <td>42</td>\n",
       "      <td>2.0</td>\n",
       "      <td>0.00</td>\n",
       "      <td>1</td>\n",
       "      <td>1</td>\n",
       "      <td>1</td>\n",
       "      <td>101348.88</td>\n",
       "      <td>1</td>\n",
       "      <td>0</td>\n",
       "      <td>0</td>\n",
       "      <td>0</td>\n",
       "    </tr>\n",
       "    <tr>\n",
       "      <td>1</td>\n",
       "      <td>608</td>\n",
       "      <td>41</td>\n",
       "      <td>1.0</td>\n",
       "      <td>83807.86</td>\n",
       "      <td>1</td>\n",
       "      <td>0</td>\n",
       "      <td>1</td>\n",
       "      <td>112542.58</td>\n",
       "      <td>0</td>\n",
       "      <td>0</td>\n",
       "      <td>1</td>\n",
       "      <td>0</td>\n",
       "    </tr>\n",
       "    <tr>\n",
       "      <td>2</td>\n",
       "      <td>502</td>\n",
       "      <td>42</td>\n",
       "      <td>8.0</td>\n",
       "      <td>159660.80</td>\n",
       "      <td>3</td>\n",
       "      <td>1</td>\n",
       "      <td>0</td>\n",
       "      <td>113931.57</td>\n",
       "      <td>1</td>\n",
       "      <td>0</td>\n",
       "      <td>0</td>\n",
       "      <td>0</td>\n",
       "    </tr>\n",
       "    <tr>\n",
       "      <td>3</td>\n",
       "      <td>699</td>\n",
       "      <td>39</td>\n",
       "      <td>1.0</td>\n",
       "      <td>0.00</td>\n",
       "      <td>2</td>\n",
       "      <td>0</td>\n",
       "      <td>0</td>\n",
       "      <td>93826.63</td>\n",
       "      <td>0</td>\n",
       "      <td>0</td>\n",
       "      <td>0</td>\n",
       "      <td>0</td>\n",
       "    </tr>\n",
       "    <tr>\n",
       "      <td>4</td>\n",
       "      <td>850</td>\n",
       "      <td>43</td>\n",
       "      <td>2.0</td>\n",
       "      <td>125510.82</td>\n",
       "      <td>1</td>\n",
       "      <td>1</td>\n",
       "      <td>1</td>\n",
       "      <td>79084.10</td>\n",
       "      <td>0</td>\n",
       "      <td>0</td>\n",
       "      <td>1</td>\n",
       "      <td>0</td>\n",
       "    </tr>\n",
       "  </tbody>\n",
       "</table>\n",
       "</div>"
      ],
      "text/plain": [
       "   CreditScore  Age  Tenure    Balance  NumOfProducts  HasCrCard  \\\n",
       "0          619   42     2.0       0.00              1          1   \n",
       "1          608   41     1.0   83807.86              1          0   \n",
       "2          502   42     8.0  159660.80              3          1   \n",
       "3          699   39     1.0       0.00              2          0   \n",
       "4          850   43     2.0  125510.82              1          1   \n",
       "\n",
       "   IsActiveMember  EstimatedSalary  Exited  Geography_Germany  \\\n",
       "0               1        101348.88       1                  0   \n",
       "1               1        112542.58       0                  0   \n",
       "2               0        113931.57       1                  0   \n",
       "3               0         93826.63       0                  0   \n",
       "4               1         79084.10       0                  0   \n",
       "\n",
       "   Geography_Spain  Gender_Male  \n",
       "0                0            0  \n",
       "1                1            0  \n",
       "2                0            0  \n",
       "3                0            0  \n",
       "4                1            0  "
      ]
     },
     "execution_count": 9,
     "metadata": {},
     "output_type": "execute_result"
    }
   ],
   "source": [
    "df_ohe = pd.get_dummies(df, drop_first=True)\n",
    "df_ohe.head()"
   ]
  },
  {
   "cell_type": "markdown",
   "metadata": {},
   "source": [
    "Разделение на выборки:"
   ]
  },
  {
   "cell_type": "code",
   "execution_count": 10,
   "metadata": {},
   "outputs": [
    {
     "data": {
      "text/plain": [
       "((10000, 11), (10000,))"
      ]
     },
     "execution_count": 10,
     "metadata": {},
     "output_type": "execute_result"
    }
   ],
   "source": [
    "target = df_ohe['Exited']\n",
    "features = df_ohe.drop('Exited', axis=1)\n",
    "features.shape, target.shape"
   ]
  },
  {
   "cell_type": "markdown",
   "metadata": {},
   "source": [
    "Разделим выборку на обучающую, валидационную и тестовую"
   ]
  },
  {
   "cell_type": "code",
   "execution_count": 11,
   "metadata": {},
   "outputs": [],
   "source": [
    "features_train, features_valid, target_train, target_valid = train_test_split(\n",
    "    features, target, test_size=0.4, random_state=12345)\n",
    "features_valid, features_test, target_valid, target_test = train_test_split(\n",
    "    features_valid, target_valid, test_size=0.5, random_state=12345)"
   ]
  },
  {
   "cell_type": "markdown",
   "metadata": {},
   "source": [
    "Масштабируем численные признаки:"
   ]
  },
  {
   "cell_type": "code",
   "execution_count": 12,
   "metadata": {},
   "outputs": [
    {
     "data": {
      "text/plain": [
       "(6000, 11)"
      ]
     },
     "execution_count": 12,
     "metadata": {},
     "output_type": "execute_result"
    }
   ],
   "source": [
    "numeric = ['CreditScore', 'Age', 'Tenure', 'Balance', 'NumOfProducts', 'EstimatedSalary']\n",
    "scaler = StandardScaler()\n",
    "scaler.fit(features_train[numeric])\n",
    "features_train[numeric] = scaler.transform(features_train[numeric])\n",
    "features_train.shape"
   ]
  },
  {
   "cell_type": "code",
   "execution_count": 13,
   "metadata": {},
   "outputs": [
    {
     "data": {
      "text/plain": [
       "(2000, 11)"
      ]
     },
     "execution_count": 13,
     "metadata": {},
     "output_type": "execute_result"
    }
   ],
   "source": [
    "features_valid[numeric] = scaler.transform(features_valid[numeric])\n",
    "features_valid.shape"
   ]
  },
  {
   "cell_type": "code",
   "execution_count": 14,
   "metadata": {},
   "outputs": [
    {
     "data": {
      "text/plain": [
       "(2000, 11)"
      ]
     },
     "execution_count": 14,
     "metadata": {},
     "output_type": "execute_result"
    }
   ],
   "source": [
    "features_test[numeric] = scaler.transform(features_test[numeric])\n",
    "features_test.shape"
   ]
  },
  {
   "cell_type": "markdown",
   "metadata": {},
   "source": [
    "## Исследование задачи"
   ]
  },
  {
   "cell_type": "markdown",
   "metadata": {},
   "source": [
    "### Random Forest"
   ]
  },
  {
   "cell_type": "markdown",
   "metadata": {},
   "source": [
    "Обучим и выведем метрику accuracy для модели Random Forest"
   ]
  },
  {
   "cell_type": "code",
   "execution_count": 15,
   "metadata": {},
   "outputs": [
    {
     "data": {
      "text/plain": [
       "0.85"
      ]
     },
     "execution_count": 15,
     "metadata": {},
     "output_type": "execute_result"
    }
   ],
   "source": [
    "model = RandomForestClassifier(random_state=12345)\n",
    "model.fit(features_train, target_train)\n",
    "joblib.dump(model, 'RF.joblib')\n",
    "model.score(features_valid, target_valid)"
   ]
  },
  {
   "cell_type": "markdown",
   "metadata": {},
   "source": [
    "Выведем матрицу ошибок:"
   ]
  },
  {
   "cell_type": "code",
   "execution_count": 16,
   "metadata": {},
   "outputs": [
    {
     "name": "stdout",
     "output_type": "stream",
     "text": [
      "[[1515   67]\n",
      " [ 233  185]]\n"
     ]
    }
   ],
   "source": [
    "from sklearn.metrics import confusion_matrix\n",
    "print(confusion_matrix(target_valid, model.predict(features_valid)))"
   ]
  },
  {
   "cell_type": "markdown",
   "metadata": {},
   "source": [
    "Произведем рассчет F-1 меры и метрики ROC-AUC:"
   ]
  },
  {
   "cell_type": "code",
   "execution_count": 17,
   "metadata": {},
   "outputs": [],
   "source": [
    "probabilities = model.predict_proba(features_valid)[:,1]"
   ]
  },
  {
   "cell_type": "code",
   "execution_count": 18,
   "metadata": {},
   "outputs": [
    {
     "data": {
      "text/plain": [
       "0.5522388059701492"
      ]
     },
     "execution_count": 18,
     "metadata": {},
     "output_type": "execute_result"
    }
   ],
   "source": [
    "f1_score(target_valid, model.predict(features_valid))"
   ]
  },
  {
   "cell_type": "code",
   "execution_count": 19,
   "metadata": {},
   "outputs": [
    {
     "data": {
      "text/plain": [
       "0.8152246565730497"
      ]
     },
     "execution_count": 19,
     "metadata": {},
     "output_type": "execute_result"
    }
   ],
   "source": [
    "auc_roc = roc_auc_score(target_valid, probabilities)\n",
    "auc_roc"
   ]
  },
  {
   "cell_type": "markdown",
   "metadata": {},
   "source": [
    "Построим ROC-кривую функцией ROC(M, X, y):\n",
    "* M - название настроенной модели;\n",
    "* X - валидационная выборка с признаками\n",
    "* y - правильные ответы на валидационной выборке"
   ]
  },
  {
   "cell_type": "code",
   "execution_count": 20,
   "metadata": {},
   "outputs": [],
   "source": [
    "def ROC(M, X, y):\n",
    "    model = joblib.load( M +'.joblib')\n",
    "    features_valid = X\n",
    "    target_valid = y\n",
    "    probabilities = model.predict_proba(features_valid)[:,1]\n",
    "    fpr, tpr, thresholds = roc_curve(target_valid, probabilities)\n",
    "\n",
    "    plt.figure()\n",
    "\n",
    "    plt.plot(fpr, tpr)\n",
    "    plt.xlim([0.0, 1.0])\n",
    "    plt.ylim([0.0, 1.0])\n",
    "    # ROC-кривая случайной модели (выглядит как прямая)\n",
    "    plt.plot([0, 1], [0, 1], linestyle='--')\n",
    "    plt.xlabel('False Positive Rate')\n",
    "    plt.ylabel('True Positive Rate')\n",
    "    plt.title('ROC-кривая')\n",
    "    \n",
    "    plt.show()"
   ]
  },
  {
   "cell_type": "code",
   "execution_count": 21,
   "metadata": {},
   "outputs": [
    {
     "data": {
      "image/png": "[encoded data removed]",
      "text/plain": [
       "<Figure size 432x288 with 1 Axes>"
      ]
     },
     "metadata": {
      "needs_background": "light"
     },
     "output_type": "display_data"
    }
   ],
   "source": [
    "ROC('RF', features_valid, target_valid)"
   ]
  },
  {
   "cell_type": "markdown",
   "metadata": {},
   "source": [
    "Построим кривую Precision-Recall функцией PR(M, X, y):\n",
    "* M - название настроенной модели;\n",
    "* X - валидационная выборка с признаками\n",
    "* y - правильные ответы на валидационной выборке"
   ]
  },
  {
   "cell_type": "code",
   "execution_count": 22,
   "metadata": {},
   "outputs": [],
   "source": [
    "def PR(M, X, y):\n",
    "    model = joblib.load( M +'.joblib')\n",
    "    features_valid = X\n",
    "    target_valid = y\n",
    "    probabilities_valid = model.predict_proba(features_valid)\n",
    "    precision, recall, thresholds = precision_recall_curve(target_valid, probabilities_valid[:, 1])\n",
    "\n",
    "    plt.figure(figsize=(6, 6))\n",
    "    plt.step(recall, precision, where='post')\n",
    "    plt.xlabel('Recall')\n",
    "    plt.ylabel('Precision')\n",
    "    plt.ylim([0.0, 1.05])\n",
    "    plt.xlim([0.0, 1.0])\n",
    "    plt.title('Кривая Precision-Recall')\n",
    "    plt.show()  "
   ]
  },
  {
   "cell_type": "code",
   "execution_count": 23,
   "metadata": {},
   "outputs": [
    {
     "data": {
      "image/png": "[encoded data removed]",
      "text/plain": [
       "<Figure size 432x432 with 1 Axes>"
      ]
     },
     "metadata": {
      "needs_background": "light"
     },
     "output_type": "display_data"
    }
   ],
   "source": [
    "PR('RF', features_valid, target_valid)"
   ]
  },
  {
   "cell_type": "markdown",
   "metadata": {},
   "source": [
    "## Борьба с дисбалансом"
   ]
  },
  {
   "cell_type": "markdown",
   "metadata": {},
   "source": [
    "Покажем, что целевой признак имеет дисбаланс классов:"
   ]
  },
  {
   "cell_type": "code",
   "execution_count": 24,
   "metadata": {},
   "outputs": [
    {
     "data": {
      "text/plain": [
       "0    7963\n",
       "1    2037\n",
       "Name: Exited, dtype: int64"
      ]
     },
     "execution_count": 24,
     "metadata": {},
     "output_type": "execute_result"
    }
   ],
   "source": [
    "target.value_counts()"
   ]
  },
  {
   "cell_type": "markdown",
   "metadata": {},
   "source": [
    "### Upsampling"
   ]
  },
  {
   "cell_type": "code",
   "execution_count": 25,
   "metadata": {},
   "outputs": [],
   "source": [
    "def upsample(features, target, repeat):\n",
    "    features_0 = features[target==0]\n",
    "    features_1 = features[target==1]\n",
    "    target_0 =  target[target==0]\n",
    "    target_1 =  target[target==1]\n",
    "    features_upsampled = pd.concat( [features_0] + [features_1]*repeat)\n",
    "    target_upsampled = pd.concat( [target_0] + [target_1]*repeat)\n",
    "    features_upsampled, target_upsampled = shuffle(features_upsampled, target_upsampled, random_state=12345)\n",
    "    return features_upsampled, target_upsampled"
   ]
  },
  {
   "cell_type": "code",
   "execution_count": 26,
   "metadata": {},
   "outputs": [
    {
     "data": {
      "text/plain": [
       "4"
      ]
     },
     "execution_count": 26,
     "metadata": {},
     "output_type": "execute_result"
    }
   ],
   "source": [
    "repeat = math.ceil(target[target==0].shape[0]/target[target==1].shape[0])\n",
    "repeat"
   ]
  },
  {
   "cell_type": "code",
   "execution_count": 27,
   "metadata": {},
   "outputs": [
    {
     "data": {
      "text/plain": [
       "((9588, 11), (9588,))"
      ]
     },
     "execution_count": 27,
     "metadata": {},
     "output_type": "execute_result"
    }
   ],
   "source": [
    "features_upsampled, target_upsampled = upsample(features_train, target_train, repeat)\n",
    "features_upsampled.shape, target_upsampled.shape"
   ]
  },
  {
   "cell_type": "code",
   "execution_count": 28,
   "metadata": {},
   "outputs": [
    {
     "data": {
      "text/plain": [
       "0.845"
      ]
     },
     "execution_count": 28,
     "metadata": {},
     "output_type": "execute_result"
    }
   ],
   "source": [
    "model = RandomForestClassifier(random_state=12345)\n",
    "model.fit(features_upsampled, target_upsampled)\n",
    "joblib.dump(model, 'RF_upsampled.joblib')\n",
    "model.score(features_valid, target_valid)"
   ]
  },
  {
   "cell_type": "code",
   "execution_count": 29,
   "metadata": {},
   "outputs": [
    {
     "data": {
      "text/plain": [
       "0.5822102425876011"
      ]
     },
     "execution_count": 29,
     "metadata": {},
     "output_type": "execute_result"
    }
   ],
   "source": [
    "f1_score(target_valid, model.predict(features_valid))"
   ]
  },
  {
   "cell_type": "markdown",
   "metadata": {},
   "source": [
    "F-1 мера повысилась"
   ]
  },
  {
   "cell_type": "code",
   "execution_count": 30,
   "metadata": {},
   "outputs": [
    {
     "data": {
      "text/plain": [
       "0.8090630840980165"
      ]
     },
     "execution_count": 30,
     "metadata": {},
     "output_type": "execute_result"
    }
   ],
   "source": [
    "roc_auc_score(target_valid, model.predict_proba(features_valid)[:,1])"
   ]
  },
  {
   "cell_type": "markdown",
   "metadata": {},
   "source": [
    "roc_auc увеличился"
   ]
  },
  {
   "cell_type": "code",
   "execution_count": 31,
   "metadata": {},
   "outputs": [
    {
     "data": {
      "image/png": "[encoded data removed]",
      "text/plain": [
       "<Figure size 432x288 with 1 Axes>"
      ]
     },
     "metadata": {
      "needs_background": "light"
     },
     "output_type": "display_data"
    }
   ],
   "source": [
    "ROC('RF_upsampled', features_valid, target_valid)"
   ]
  },
  {
   "cell_type": "code",
   "execution_count": 32,
   "metadata": {},
   "outputs": [
    {
     "data": {
      "image/png": "[encoded data removed]",
      "text/plain": [
       "<Figure size 432x432 with 1 Axes>"
      ]
     },
     "metadata": {
      "needs_background": "light"
     },
     "output_type": "display_data"
    }
   ],
   "source": [
    "PR('RF_upsampled', features_valid, target_valid)"
   ]
  },
  {
   "cell_type": "markdown",
   "metadata": {},
   "source": [
    "### Downsampling"
   ]
  },
  {
   "cell_type": "code",
   "execution_count": 33,
   "metadata": {},
   "outputs": [],
   "source": [
    "def downsample(features, target, fraction):\n",
    "    features_0 = features[target==0]\n",
    "    features_1 = features[target==1]\n",
    "    target_0 =  target[target==0]\n",
    "    target_1 =  target[target==1]\n",
    "    features_downsampled = pd.concat( [features_0.sample(frac=fraction, random_state=12345)] + [features_1])\n",
    "    target_downsampled = pd.concat( [target_0.sample(frac=fraction, random_state=12345)] + [target_1])\n",
    "    features_downsampled, target_downsampled = shuffle(features_downsampled, target_downsampled, random_state=12345)\n",
    "    return features_downsampled, target_downsampled"
   ]
  },
  {
   "cell_type": "code",
   "execution_count": 34,
   "metadata": {},
   "outputs": [],
   "source": [
    "fraction = 1/repeat\n",
    "features_downsampled, target_downsampled = downsample(features_train, target_train, fraction)"
   ]
  },
  {
   "cell_type": "code",
   "execution_count": 35,
   "metadata": {},
   "outputs": [
    {
     "data": {
      "text/plain": [
       "0.784"
      ]
     },
     "execution_count": 35,
     "metadata": {},
     "output_type": "execute_result"
    }
   ],
   "source": [
    "model = RandomForestClassifier(random_state=12345)\n",
    "model.fit(features_downsampled, target_downsampled)\n",
    "joblib.dump(model, 'RF_downsampled.joblib')\n",
    "model.score(features_valid, target_valid)"
   ]
  },
  {
   "cell_type": "code",
   "execution_count": 36,
   "metadata": {},
   "outputs": [
    {
     "data": {
      "text/plain": [
       "0.5764705882352942"
      ]
     },
     "execution_count": 36,
     "metadata": {},
     "output_type": "execute_result"
    }
   ],
   "source": [
    "f1_score(target_valid, model.predict(features_valid))"
   ]
  },
  {
   "cell_type": "markdown",
   "metadata": {},
   "source": [
    "F-1 мера понизилась"
   ]
  },
  {
   "cell_type": "code",
   "execution_count": 37,
   "metadata": {},
   "outputs": [
    {
     "data": {
      "text/plain": [
       "0.8319945075883595"
      ]
     },
     "execution_count": 37,
     "metadata": {},
     "output_type": "execute_result"
    }
   ],
   "source": [
    "roc_auc_score(target_valid, model.predict_proba(features_valid)[:,1])"
   ]
  },
  {
   "cell_type": "markdown",
   "metadata": {},
   "source": [
    "AUC-ROC метрика - увеличилась"
   ]
  },
  {
   "cell_type": "code",
   "execution_count": 38,
   "metadata": {},
   "outputs": [
    {
     "data": {
      "image/png": "[encoded data removed]",
      "text/plain": [
       "<Figure size 432x288 with 1 Axes>"
      ]
     },
     "metadata": {
      "needs_background": "light"
     },
     "output_type": "display_data"
    }
   ],
   "source": [
    "ROC('RF_downsampled', features_valid, target_valid)"
   ]
  },
  {
   "cell_type": "code",
   "execution_count": 39,
   "metadata": {},
   "outputs": [
    {
     "data": {
      "image/png": "[encoded data removed]",
      "text/plain": [
       "<Figure size 432x432 with 1 Axes>"
      ]
     },
     "metadata": {
      "needs_background": "light"
     },
     "output_type": "display_data"
    }
   ],
   "source": [
    "PR('RF_downsampled', features_valid, target_valid)"
   ]
  },
  {
   "cell_type": "markdown",
   "metadata": {},
   "source": [
    "### Взвешивание классов"
   ]
  },
  {
   "cell_type": "code",
   "execution_count": 40,
   "metadata": {},
   "outputs": [
    {
     "data": {
      "text/plain": [
       "(0.8505, 0.5449010654490106, 0.8063100732523183)"
      ]
     },
     "execution_count": 40,
     "metadata": {},
     "output_type": "execute_result"
    }
   ],
   "source": [
    "model = RandomForestClassifier(class_weight='balanced', random_state=12345)\n",
    "model.fit(features_train, target_train)\n",
    "joblib.dump(model, 'RF_weighted.joblib')\n",
    "model.score(features_valid, target_valid), f1_score(target_valid, model.predict(features_valid)), roc_auc_score(target_valid, model.predict_proba(features_valid)[:,1])"
   ]
  },
  {
   "cell_type": "code",
   "execution_count": 41,
   "metadata": {},
   "outputs": [
    {
     "data": {
      "image/png": "[encoded data removed]",
      "text/plain": [
       "<Figure size 432x288 with 1 Axes>"
      ]
     },
     "metadata": {
      "needs_background": "light"
     },
     "output_type": "display_data"
    }
   ],
   "source": [
    "ROC('RF_weighted', features_valid, target_valid)"
   ]
  },
  {
   "cell_type": "code",
   "execution_count": 42,
   "metadata": {},
   "outputs": [
    {
     "data": {
      "image/png": "[encoded data removed]",
      "text/plain": [
       "<Figure size 432x432 with 1 Axes>"
      ]
     },
     "metadata": {
      "needs_background": "light"
     },
     "output_type": "display_data"
    }
   ],
   "source": [
    "PR('RF_weighted', features_valid, target_valid)"
   ]
  },
  {
   "cell_type": "markdown",
   "metadata": {},
   "source": [
    "### RF с подбором гиперпараметров"
   ]
  },
  {
   "cell_type": "code",
   "execution_count": 43,
   "metadata": {},
   "outputs": [
    {
     "name": "stdout",
     "output_type": "stream",
     "text": [
      "0.623921085080148 (31, 'entropy', 8)\n",
      "CPU times: user 1min 24s, sys: 248 ms, total: 1min 25s\n",
      "Wall time: 2min 2s\n"
     ]
    }
   ],
   "source": [
    "%%time\n",
    "best_score = 0\n",
    "for n_estimators in range(1,100,5):\n",
    "    for criterion in {'gini', 'entropy'}:\n",
    "        for min_samples_split in range(2,10,2):\n",
    "                model = RandomForestClassifier(n_estimators=n_estimators, criterion=criterion,\n",
    "                                               min_samples_split=min_samples_split, n_jobs=-1, random_state=12345)\n",
    "                model.fit(features_upsampled, target_upsampled)\n",
    "                score = f1_score(target_valid, model.predict(features_valid))\n",
    "                if score > best_score:\n",
    "                    best_score = score\n",
    "                    best_params = (n_estimators, criterion, min_samples_split)\n",
    "                    best_model_RF = model\n",
    "joblib.dump(best_model_RF, 'best_model_RF.joblib')\n",
    "print(best_score, best_params)"
   ]
  },
  {
   "cell_type": "markdown",
   "metadata": {},
   "source": [
    "Для лучшей RF модели, AUC-ROC увеличилась"
   ]
  },
  {
   "cell_type": "code",
   "execution_count": 44,
   "metadata": {},
   "outputs": [
    {
     "data": {
      "text/plain": [
       "0.8430587228328261"
      ]
     },
     "execution_count": 44,
     "metadata": {},
     "output_type": "execute_result"
    }
   ],
   "source": [
    "model = joblib.load('best_model_RF.joblib')\n",
    "roc_auc_score(target_valid, model.predict_proba(features_valid)[:,1])"
   ]
  },
  {
   "cell_type": "code",
   "execution_count": 45,
   "metadata": {},
   "outputs": [
    {
     "data": {
      "image/png": "[encoded data removed]",
      "text/plain": [
       "<Figure size 432x288 with 1 Axes>"
      ]
     },
     "metadata": {
      "needs_background": "light"
     },
     "output_type": "display_data"
    }
   ],
   "source": [
    "ROC('best_model_RF', features_valid, target_valid)"
   ]
  },
  {
   "cell_type": "code",
   "execution_count": 46,
   "metadata": {},
   "outputs": [
    {
     "data": {
      "image/png": "[encoded data removed]",
      "text/plain": [
       "<Figure size 432x432 with 1 Axes>"
      ]
     },
     "metadata": {
      "needs_background": "light"
     },
     "output_type": "display_data"
    }
   ],
   "source": [
    "PR('best_model_RF', features_valid, target_valid)"
   ]
  },
  {
   "cell_type": "markdown",
   "metadata": {},
   "source": [
    "Кривая P-R заметно сгладилась в сравнении с моделью RF без настройки гиперпараметров."
   ]
  },
  {
   "cell_type": "markdown",
   "metadata": {},
   "source": [
    "### LogReg с подбором гиперпараметров"
   ]
  },
  {
   "cell_type": "code",
   "execution_count": 47,
   "metadata": {},
   "outputs": [
    {
     "data": {
      "text/plain": [
       "(0.802, 0.33108108108108103)"
      ]
     },
     "execution_count": 47,
     "metadata": {},
     "output_type": "execute_result"
    }
   ],
   "source": [
    "model = LogisticRegression(random_state=12345)\n",
    "model.fit(features_train, target_train)\n",
    "model.score(features_valid, target_valid), f1_score(target_valid, model.predict(features_valid))"
   ]
  },
  {
   "cell_type": "code",
   "execution_count": 48,
   "metadata": {},
   "outputs": [
    {
     "data": {
      "text/plain": [
       "0.7587512627102753"
      ]
     },
     "execution_count": 48,
     "metadata": {},
     "output_type": "execute_result"
    }
   ],
   "source": [
    "roc_auc_score(target_valid, model.predict_proba(features_valid)[:,1])"
   ]
  },
  {
   "cell_type": "code",
   "execution_count": 49,
   "metadata": {},
   "outputs": [
    {
     "name": "stdout",
     "output_type": "stream",
     "text": [
      "0.5110913930789707 ('lbfgs', 'multinomial', 'l2', 0.0001, 50, 0.0001)\n",
      "CPU times: user 1min 27s, sys: 1min 31s, total: 2min 59s\n",
      "Wall time: 3min 35s\n"
     ]
    }
   ],
   "source": [
    "%%time\n",
    "best_score = 0\n",
    "for solver in {'newton-cg', 'lbfgs', 'liblinear', 'sag', 'saga'}: \n",
    "    for multi_class in {'auto', 'ovr', 'multinomial'}:\n",
    "        for penalty in {'l1', 'l2', 'elasticnet', 'none'}:\n",
    "            for tol in [1e-4, 1e-3, 1e-5]:\n",
    "                for max_iter in [50, 100]:\n",
    "                    for C in np.logspace(-4, 4, 4):\n",
    "                        try:\n",
    "                            model = LogisticRegression(penalty=penalty, multi_class=multi_class, solver=solver,\n",
    "                                                       tol=tol, max_iter=max_iter,C=C, n_jobs=-1)\n",
    "                            model.fit(features_upsampled, target_upsampled)\n",
    "                            score = f1_score(target_valid, model.predict(features_valid))\n",
    "                            if score > best_score:\n",
    "                                best_score = score\n",
    "                                best_params = (solver, multi_class, penalty, tol, max_iter, C)\n",
    "                                best_model_LogReg = model             \n",
    "                        except:\n",
    "                            None\n",
    "joblib.dump(best_model_LogReg, 'best_model_LogReg.joblib')\n",
    "print(best_score, best_params)"
   ]
  },
  {
   "cell_type": "code",
   "execution_count": 50,
   "metadata": {},
   "outputs": [
    {
     "data": {
      "text/plain": [
       "0.7640228890811099"
      ]
     },
     "execution_count": 50,
     "metadata": {},
     "output_type": "execute_result"
    }
   ],
   "source": [
    "model = joblib.load('best_model_LogReg.joblib')\n",
    "roc_auc_score(target_valid, model.predict_proba(features_valid)[:,1])"
   ]
  },
  {
   "cell_type": "code",
   "execution_count": 51,
   "metadata": {},
   "outputs": [
    {
     "name": "stdout",
     "output_type": "stream",
     "text": [
      "Порог = 0.00 | Точность = 0.209, Полнота = 1.000, F1-мера = 0.346\n",
      "Порог = 0.05 | Точность = 0.209, Полнота = 1.000, F1-мера = 0.346\n",
      "Порог = 0.10 | Точность = 0.209, Полнота = 1.000, F1-мера = 0.346\n",
      "Порог = 0.15 | Точность = 0.209, Полнота = 1.000, F1-мера = 0.346\n",
      "Порог = 0.20 | Точность = 0.209, Полнота = 1.000, F1-мера = 0.346\n",
      "Порог = 0.25 | Точность = 0.209, Полнота = 1.000, F1-мера = 0.346\n",
      "Порог = 0.30 | Точность = 0.209, Полнота = 1.000, F1-мера = 0.346\n",
      "Порог = 0.35 | Точность = 0.211, Полнота = 1.000, F1-мера = 0.348\n",
      "Порог = 0.40 | Точность = 0.225, Полнота = 0.988, F1-мера = 0.367\n",
      "Порог = 0.45 | Точность = 0.279, Полнота = 0.897, F1-мера = 0.426\n",
      "Порог = 0.50 | Точность = 0.406, Полнота = 0.689, F1-мера = 0.511\n",
      "Порог = 0.55 | Точность = 0.513, Полнота = 0.376, F1-мера = 0.434\n",
      "Порог = 0.60 | Точность = 0.438, Полнота = 0.110, F1-мера = 0.176\n",
      "Порог = 0.65 | Точность = 0.290, Полнота = 0.022, F1-мера = 0.040\n",
      "Порог = 0.70 | Точность = 0.000, Полнота = 0.000, F1-мера = 0.000\n",
      "Порог = 0.75 | Точность = 0.000, Полнота = 0.000, F1-мера = 0.000\n",
      "Порог = 0.80 | Точность = 0.000, Полнота = 0.000, F1-мера = 0.000\n",
      "Порог = 0.85 | Точность = 0.000, Полнота = 0.000, F1-мера = 0.000\n",
      "Порог = 0.90 | Точность = 0.000, Полнота = 0.000, F1-мера = 0.000\n",
      "Порог = 0.95 | Точность = 0.000, Полнота = 0.000, F1-мера = 0.000\n"
     ]
    }
   ],
   "source": [
    "model = joblib.load('best_model_LogReg.joblib')\n",
    "probabilities_one_valid = model.predict_proba(features_valid)[:,1]\n",
    "for threshold in np.arange(0, 1, 0.05):\n",
    "    predicted_valid = probabilities_one_valid > threshold   \n",
    "    precision = precision_score(target_valid, predicted_valid)\n",
    "    recall =  recall_score(target_valid, predicted_valid)\n",
    "    f1 = f1_score(target_valid, predicted_valid)\n",
    "    print(\"Порог = {:.2f} | Точность = {:.3f}, Полнота = {:.3f}, F1-мера = {:.3f}\".format(\n",
    "        threshold, precision, recall, f1))"
   ]
  },
  {
   "cell_type": "code",
   "execution_count": 52,
   "metadata": {},
   "outputs": [
    {
     "data": {
      "image/png": "[encoded data removed]",
      "text/plain": [
       "<Figure size 432x288 with 1 Axes>"
      ]
     },
     "metadata": {
      "needs_background": "light"
     },
     "output_type": "display_data"
    }
   ],
   "source": [
    "ROC('best_model_LogReg', features_valid, target_valid)"
   ]
  },
  {
   "cell_type": "code",
   "execution_count": 53,
   "metadata": {},
   "outputs": [
    {
     "data": {
      "image/png": "[encoded data removed]",
      "text/plain": [
       "<Figure size 432x432 with 1 Axes>"
      ]
     },
     "metadata": {
      "needs_background": "light"
     },
     "output_type": "display_data"
    }
   ],
   "source": [
    "PR('best_model_LogReg', features_valid, target_valid)"
   ]
  },
  {
   "cell_type": "markdown",
   "metadata": {},
   "source": [
    "### SVC с подбором гиперпараметров"
   ]
  },
  {
   "cell_type": "code",
   "execution_count": 54,
   "metadata": {},
   "outputs": [
    {
     "data": {
      "text/plain": [
       "(0.855, 0.5292207792207793)"
      ]
     },
     "execution_count": 54,
     "metadata": {},
     "output_type": "execute_result"
    }
   ],
   "source": [
    "model = SVC(random_state=12345, probability=True)\n",
    "model.fit(features_train, target_train)\n",
    "model.score(features_valid, target_valid), f1_score(target_valid, model.predict(features_valid))"
   ]
  },
  {
   "cell_type": "code",
   "execution_count": 55,
   "metadata": {},
   "outputs": [
    {
     "data": {
      "text/plain": [
       "0.8307869936304964"
      ]
     },
     "execution_count": 55,
     "metadata": {},
     "output_type": "execute_result"
    }
   ],
   "source": [
    "roc_auc_score(target_valid, model.predict_proba(features_valid)[:,1])"
   ]
  },
  {
   "cell_type": "code",
   "execution_count": 56,
   "metadata": {},
   "outputs": [
    {
     "name": "stdout",
     "output_type": "stream",
     "text": [
      "0.5938104448742747 (1, 'rbf', 'ovr')\n",
      "CPU times: user 4min 43s, sys: 4.02 s, total: 4min 47s\n",
      "Wall time: 5min\n"
     ]
    }
   ],
   "source": [
    "%%time\n",
    "best_score = 0\n",
    "for C in [1e-4, 1]:\n",
    "    for kernel in {'linear', 'poly', 'rbf', 'sigmoid', 'precomputed', 'rbf'}:\n",
    "        for decision_function_shape in {'ovo', 'ovr'}:\n",
    "            try:\n",
    "                model = SVC(C=C, kernel=kernel,\n",
    "                            decision_function_shape=decision_function_shape, random_state=12345,\n",
    "                            probability=True)\n",
    "                model.fit(features_upsampled, target_upsampled)\n",
    "                score = f1_score(target_valid, model.predict(features_valid))\n",
    "                if score > best_score:\n",
    "                    best_score = score\n",
    "                    best_params = (C, kernel, decision_function_shape)\n",
    "                    best_model_SVC = model\n",
    "            except:\n",
    "                None\n",
    "joblib.dump(best_model_SVC, 'best_model_SVC.joblib')\n",
    "print(best_score, best_params)\n"
   ]
  },
  {
   "cell_type": "code",
   "execution_count": 57,
   "metadata": {},
   "outputs": [
    {
     "data": {
      "text/plain": [
       "1"
      ]
     },
     "execution_count": 57,
     "metadata": {},
     "output_type": "execute_result"
    }
   ],
   "source": [
    "1"
   ]
  },
  {
   "cell_type": "code",
   "execution_count": 58,
   "metadata": {},
   "outputs": [
    {
     "data": {
      "text/plain": [
       "0.8428772554878748"
      ]
     },
     "execution_count": 58,
     "metadata": {},
     "output_type": "execute_result"
    }
   ],
   "source": [
    "model = joblib.load('best_model_SVC.joblib')\n",
    "roc_auc_score(target_valid, model.predict_proba(features_valid)[:,1])"
   ]
  },
  {
   "cell_type": "code",
   "execution_count": 59,
   "metadata": {},
   "outputs": [
    {
     "data": {
      "image/png": "[encoded data removed]",
      "text/plain": [
       "<Figure size 432x288 with 1 Axes>"
      ]
     },
     "metadata": {
      "needs_background": "light"
     },
     "output_type": "display_data"
    }
   ],
   "source": [
    "ROC('best_model_SVC', features_valid, target_valid)"
   ]
  },
  {
   "cell_type": "code",
   "execution_count": 60,
   "metadata": {},
   "outputs": [
    {
     "data": {
      "image/png": "[encoded data removed]",
      "text/plain": [
       "<Figure size 432x432 with 1 Axes>"
      ]
     },
     "metadata": {
      "needs_background": "light"
     },
     "output_type": "display_data"
    }
   ],
   "source": [
    "PR('best_model_SVC', features_valid, target_valid)"
   ]
  },
  {
   "cell_type": "markdown",
   "metadata": {},
   "source": [
    "### KNN с подбором гиперпараметров"
   ]
  },
  {
   "cell_type": "code",
   "execution_count": 61,
   "metadata": {},
   "outputs": [
    {
     "data": {
      "text/plain": [
       "(0.847, 0.5526315789473685)"
      ]
     },
     "execution_count": 61,
     "metadata": {},
     "output_type": "execute_result"
    }
   ],
   "source": [
    "model = KNeighborsClassifier()\n",
    "model.fit(features_train, target_train)\n",
    "model.score(features_valid, target_valid), f1_score(target_valid, model.predict(features_valid))"
   ]
  },
  {
   "cell_type": "code",
   "execution_count": 62,
   "metadata": {},
   "outputs": [
    {
     "data": {
      "text/plain": [
       "0.7933041574168728"
      ]
     },
     "execution_count": 62,
     "metadata": {},
     "output_type": "execute_result"
    }
   ],
   "source": [
    "roc_auc_score(target_valid, model.predict_proba(features_valid)[:,1])"
   ]
  },
  {
   "cell_type": "code",
   "execution_count": 63,
   "metadata": {},
   "outputs": [
    {
     "name": "stdout",
     "output_type": "stream",
     "text": [
      "0.5687885010266941 (9, 'ball_tree', 'manhattan')\n",
      "CPU times: user 32.7 s, sys: 2.84 s, total: 35.5 s\n",
      "Wall time: 36 s\n"
     ]
    }
   ],
   "source": [
    "%%time\n",
    "best_score = 0\n",
    "for n_neighbors in range(1, 20, 2):\n",
    "    for algorithm in {'auto', 'ball_tree', 'kd_tree', 'brute'}:\n",
    "        for metric in {'euclidean', 'manhattan', 'chebyshev'}:\n",
    "            model = KNeighborsClassifier(n_neighbors=n_neighbors, algorithm=algorithm, metric=metric)\n",
    "            model.fit(features_upsampled, target_upsampled)\n",
    "            score = f1_score(target_valid, model.predict(features_valid))\n",
    "            if score > best_score:\n",
    "                best_score = score\n",
    "                best_params = (n_neighbors, algorithm, metric)\n",
    "                best_model_KNN = model\n",
    "joblib.dump(best_model_KNN, 'best_model_KNN.joblib')\n",
    "print(best_score, best_params)"
   ]
  },
  {
   "cell_type": "code",
   "execution_count": 64,
   "metadata": {},
   "outputs": [
    {
     "data": {
      "text/plain": [
       "0.793778240855558"
      ]
     },
     "execution_count": 64,
     "metadata": {},
     "output_type": "execute_result"
    }
   ],
   "source": [
    "model = joblib.load('best_model_KNN.joblib')\n",
    "roc_auc_score(target_valid, model.predict_proba(features_valid)[:,1])"
   ]
  },
  {
   "cell_type": "code",
   "execution_count": 65,
   "metadata": {},
   "outputs": [
    {
     "data": {
      "image/png": "[encoded data removed]",
      "text/plain": [
       "<Figure size 432x288 with 1 Axes>"
      ]
     },
     "metadata": {
      "needs_background": "light"
     },
     "output_type": "display_data"
    }
   ],
   "source": [
    "ROC('best_model_KNN', features_valid, target_valid)"
   ]
  },
  {
   "cell_type": "code",
   "execution_count": 66,
   "metadata": {},
   "outputs": [
    {
     "data": {
      "image/png": "[encoded data removed]",
      "text/plain": [
       "<Figure size 432x432 with 1 Axes>"
      ]
     },
     "metadata": {
      "needs_background": "light"
     },
     "output_type": "display_data"
    }
   ],
   "source": [
    "PR('best_model_KNN', features_valid, target_valid)"
   ]
  },
  {
   "cell_type": "markdown",
   "metadata": {},
   "source": [
    "### Naive Bayes"
   ]
  },
  {
   "cell_type": "code",
   "execution_count": 67,
   "metadata": {},
   "outputs": [
    {
     "data": {
      "text/plain": [
       "(0.808, 0.4268656716417911)"
      ]
     },
     "execution_count": 67,
     "metadata": {},
     "output_type": "execute_result"
    }
   ],
   "source": [
    "model = GaussianNB()\n",
    "model.fit(features_train, target_train)\n",
    "model.score(features_valid, target_valid), f1_score(target_valid, model.predict(features_valid))"
   ]
  },
  {
   "cell_type": "code",
   "execution_count": 68,
   "metadata": {},
   "outputs": [
    {
     "data": {
      "text/plain": [
       "0.7849430494982429"
      ]
     },
     "execution_count": 68,
     "metadata": {},
     "output_type": "execute_result"
    }
   ],
   "source": [
    "roc_auc_score(target_valid, model.predict_proba(features_valid)[:,1])"
   ]
  },
  {
   "cell_type": "code",
   "execution_count": 69,
   "metadata": {},
   "outputs": [
    {
     "data": {
      "text/plain": [
       "(0.714, 0.5051903114186851)"
      ]
     },
     "execution_count": 69,
     "metadata": {},
     "output_type": "execute_result"
    }
   ],
   "source": [
    "model = GaussianNB()\n",
    "model.fit(features_upsampled, target_upsampled)\n",
    "joblib.dump(model, 'Naive_Bayes.joblib')\n",
    "model.score(features_valid, target_valid), f1_score(target_valid, model.predict(features_valid))"
   ]
  },
  {
   "cell_type": "code",
   "execution_count": 70,
   "metadata": {},
   "outputs": [
    {
     "data": {
      "text/plain": [
       "0.7849430494982429"
      ]
     },
     "execution_count": 70,
     "metadata": {},
     "output_type": "execute_result"
    }
   ],
   "source": [
    "roc_auc_score(target_valid, model.predict_proba(features_valid)[:,1])"
   ]
  },
  {
   "cell_type": "code",
   "execution_count": 71,
   "metadata": {},
   "outputs": [
    {
     "data": {
      "image/png": "[encoded data removed]",
      "text/plain": [
       "<Figure size 432x288 with 1 Axes>"
      ]
     },
     "metadata": {
      "needs_background": "light"
     },
     "output_type": "display_data"
    }
   ],
   "source": [
    "ROC('Naive_Bayes', features_valid, target_valid)"
   ]
  },
  {
   "cell_type": "code",
   "execution_count": 72,
   "metadata": {},
   "outputs": [
    {
     "data": {
      "image/png": "[encoded data removed]",
      "text/plain": [
       "<Figure size 432x432 with 1 Axes>"
      ]
     },
     "metadata": {
      "needs_background": "light"
     },
     "output_type": "display_data"
    }
   ],
   "source": [
    "PR('Naive_Bayes', features_valid, target_valid)"
   ]
  },
  {
   "cell_type": "markdown",
   "metadata": {},
   "source": [
    "### LDA"
   ]
  },
  {
   "cell_type": "code",
   "execution_count": 73,
   "metadata": {},
   "outputs": [
    {
     "data": {
      "text/plain": [
       "(0.7975, 0.34782608695652173)"
      ]
     },
     "execution_count": 73,
     "metadata": {},
     "output_type": "execute_result"
    }
   ],
   "source": [
    "model = LinearDiscriminantAnalysis()\n",
    "model.fit(features_train, target_train)\n",
    "model.score(features_valid, target_valid), f1_score(target_valid, model.predict(features_valid))"
   ]
  },
  {
   "cell_type": "code",
   "execution_count": 74,
   "metadata": {},
   "outputs": [
    {
     "data": {
      "text/plain": [
       "0.7613825392120688"
      ]
     },
     "execution_count": 74,
     "metadata": {},
     "output_type": "execute_result"
    }
   ],
   "source": [
    "roc_auc_score(target_valid, model.predict_proba(features_valid)[:,1])"
   ]
  },
  {
   "cell_type": "code",
   "execution_count": 75,
   "metadata": {},
   "outputs": [
    {
     "data": {
      "text/plain": [
       "(0.7035, 0.48835202761000857)"
      ]
     },
     "execution_count": 75,
     "metadata": {},
     "output_type": "execute_result"
    }
   ],
   "source": [
    "model = LinearDiscriminantAnalysis()\n",
    "model.fit(features_upsampled, target_upsampled)\n",
    "joblib.dump(model, 'LDA.joblib')\n",
    "model.score(features_valid, target_valid), f1_score(target_valid, model.predict(features_valid))"
   ]
  },
  {
   "cell_type": "code",
   "execution_count": 76,
   "metadata": {},
   "outputs": [
    {
     "data": {
      "text/plain": [
       "0.7632592140044399"
      ]
     },
     "execution_count": 76,
     "metadata": {},
     "output_type": "execute_result"
    }
   ],
   "source": [
    "roc_auc_score(target_valid, model.predict_proba(features_valid)[:,1])"
   ]
  },
  {
   "cell_type": "code",
   "execution_count": 77,
   "metadata": {},
   "outputs": [
    {
     "data": {
      "image/png": "[encoded data removed]",
      "text/plain": [
       "<Figure size 432x288 with 1 Axes>"
      ]
     },
     "metadata": {
      "needs_background": "light"
     },
     "output_type": "display_data"
    }
   ],
   "source": [
    "ROC('LDA', features_valid, target_valid)"
   ]
  },
  {
   "cell_type": "code",
   "execution_count": 78,
   "metadata": {},
   "outputs": [
    {
     "data": {
      "image/png": "[encoded data removed]",
      "text/plain": [
       "<Figure size 432x432 with 1 Axes>"
      ]
     },
     "metadata": {
      "needs_background": "light"
     },
     "output_type": "display_data"
    }
   ],
   "source": [
    "PR('LDA', features_valid, target_valid)"
   ]
  },
  {
   "cell_type": "code",
   "execution_count": 79,
   "metadata": {},
   "outputs": [
    {
     "name": "stdout",
     "output_type": "stream",
     "text": [
      "Модель               Accuracy F-1 AUC_ROC\n",
      "RF                     0.85, 0.55, 0.82\n",
      "RF_upsampled           0.84, 0.58, 0.81\n",
      "RF_downsampled         0.78, 0.58, 0.83\n",
      "RF_weighted            0.85, 0.54, 0.81\n",
      "best_model_RF          0.85, 0.62, 0.84\n",
      "best_model_LogReg      0.72, 0.51, 0.76\n",
      "best_model_SVC         0.79, 0.59, 0.84\n",
      "best_model_KNN         0.79, 0.57, 0.79\n",
      "Naive_Bayes            0.71, 0.51, 0.78\n",
      "LDA                    0.70, 0.49, 0.76\n"
     ]
    }
   ],
   "source": [
    "print(\"Модель  {:<12}\".format(' '), 'Accuracy', 'F-1', 'AUC_ROC')\n",
    "for m in ['RF', 'RF_upsampled', 'RF_downsampled', 'RF_weighted', 'best_model_RF', 'best_model_LogReg', 'best_model_SVC', 'best_model_KNN',\n",
    "         'Naive_Bayes', 'LDA']:\n",
    "    model = joblib.load(m+'.joblib')\n",
    "    print(\"{:<20}\".\n",
    "          format(m), \"  {:.2f}, {:.2f}, {:.2f}\".format(model.score(features_valid, target_valid),\n",
    "                                                            f1_score(target_valid, model.predict(features_valid)),\n",
    "                                                            roc_auc_score(target_valid,\n",
    "                                                                          model.predict_proba(features_valid)[:,1])))                                     "
   ]
  },
  {
   "cell_type": "markdown",
   "metadata": {},
   "source": [
    "## Тестирование модели"
   ]
  },
  {
   "cell_type": "markdown",
   "metadata": {},
   "source": [
    "Для тестирования оставим только модели с F-1 мерой больше 0.55:"
   ]
  },
  {
   "cell_type": "code",
   "execution_count": 80,
   "metadata": {},
   "outputs": [
    {
     "name": "stdout",
     "output_type": "stream",
     "text": [
      "Качество модели на тестовой выборке (accuracy, F-1, AUC_ROC): best_model_RF          0.84, 0.60, 0.84\n",
      "Качество модели на тестовой выборке (accuracy, F-1, AUC_ROC): RF_upsampled           0.83, 0.55, 0.82\n",
      "Качество модели на тестовой выборке (accuracy, F-1, AUC_ROC): RF_downsampled         0.77, 0.55, 0.81\n",
      "Качество модели на тестовой выборке (accuracy, F-1, AUC_ROC): RF_weighted            0.84, 0.49, 0.80\n",
      "Качество модели на тестовой выборке (accuracy, F-1, AUC_ROC): best_model_SVC         0.80, 0.60, 0.85\n",
      "Качество модели на тестовой выборке (accuracy, F-1, AUC_ROC): best_model_KNN         0.78, 0.55, 0.79\n"
     ]
    }
   ],
   "source": [
    "for m in ['best_model_RF', 'RF_upsampled', 'RF_downsampled', 'RF_weighted', 'best_model_SVC', 'best_model_KNN']:\n",
    "    model = joblib.load(m+'.joblib')\n",
    "    print(\"Качество модели на тестовой выборке (accuracy, F-1, AUC_ROC): {:<20}\".format(m), \"  {:.2f}, {:.2f}, {:.2f}\".format(model.score(features_test, target_test), f1_score(target_test, model.predict(features_test)), roc_auc_score(target_test, model.predict_proba(features_test)[:,1])))                                     "
   ]
  },
  {
   "cell_type": "markdown",
   "metadata": {},
   "source": [
    "### Вывод:\n",
    "Проведено преобразование категориальных признаков в численные; масштабирование.\n",
    "Проведено тестирование различных моделей классификации с учетом и без учета дисбаланса классов. Подсчитаны метрики качества: accuracy, F-1, AUC_ROC. Удалость добиться значения F-1 на тестовой выборке не менее 0.59 для моделей c учетом дисбаланса классов: best_model_RF, best_model_SVC."
   ]
  },
  {
   "cell_type": "markdown",
   "metadata": {},
   "source": [
    "## Чек-лист готовности проекта"
   ]
  },
  {
   "cell_type": "markdown",
   "metadata": {},
   "source": [
    "Поставьте 'x' в выполненных пунктах. Далее нажмите Shift+Enter."
   ]
  },
  {
   "cell_type": "markdown",
   "metadata": {},
   "source": [
    "- [x]  Jupyter Notebook открыт\n",
    "- [x]  Весь код выполняется без ошибок\n",
    "- [x]  Ячейки с кодом расположены в порядке исполнения\n",
    "- [x]  Выполнен шаг 1: данные подготовлены\n",
    "- [x]  Выполнен шаг 2: задача исследована\n",
    "    - [x]  Исследован баланс классов\n",
    "    - [x]  Изучены модели без учёта дисбаланса\n",
    "    - [x]  Написаны выводы по результатам исследования\n",
    "- [x]  Выполнен шаг 3: учтён дисбаланс\n",
    "    - [x]  Применено несколько способов борьбы с дисбалансом\n",
    "    - [x]  Написаны выводы по результатам исследования\n",
    "- [x]  Выполнен шаг 4: проведено тестирование\n",
    "- [x]  Удалось достичь *F1*-меры не менее 0.59\n",
    "- [x]  Исследована метрика *AUC-ROC*"
   ]
  },
  {
   "cell_type": "code",
   "execution_count": null,
   "metadata": {},
   "outputs": [],
   "source": []
  }
 ],
 "metadata": {
  "ExecuteTimeLog": [
   {
    "duration": 667,
    "start_time": "2021-10-12T19:22:40.118Z"
   },
   {
    "duration": 42,
    "start_time": "2021-10-12T19:23:37.496Z"
   },
   {
    "duration": 8,
    "start_time": "2021-10-12T19:23:56.220Z"
   },
   {
    "duration": 5,
    "start_time": "2021-10-12T19:24:58.670Z"
   },
   {
    "duration": 348,
    "start_time": "2021-10-12T19:40:29.209Z"
   },
   {
    "duration": 3,
    "start_time": "2021-10-12T19:41:07.070Z"
   },
   {
    "duration": 4,
    "start_time": "2021-10-12T19:41:10.786Z"
   },
   {
    "duration": 3,
    "start_time": "2021-10-12T19:41:14.097Z"
   },
   {
    "duration": 4,
    "start_time": "2021-10-12T19:42:30.170Z"
   },
   {
    "duration": 7,
    "start_time": "2021-10-12T19:57:39.757Z"
   },
   {
    "duration": 6,
    "start_time": "2021-10-12T19:57:47.187Z"
   },
   {
    "duration": 8,
    "start_time": "2021-10-12T19:58:02.187Z"
   },
   {
    "duration": 6,
    "start_time": "2021-10-12T19:58:33.275Z"
   },
   {
    "duration": 6,
    "start_time": "2021-10-12T19:58:36.957Z"
   },
   {
    "duration": 310,
    "start_time": "2021-10-12T20:00:20.727Z"
   },
   {
    "duration": 4,
    "start_time": "2021-10-12T20:00:28.197Z"
   },
   {
    "duration": 38,
    "start_time": "2021-10-12T20:00:33.037Z"
   },
   {
    "duration": 8,
    "start_time": "2021-10-12T20:00:33.385Z"
   },
   {
    "duration": 301,
    "start_time": "2021-10-12T20:00:33.897Z"
   },
   {
    "duration": 3,
    "start_time": "2021-10-12T20:00:46.302Z"
   },
   {
    "duration": 39,
    "start_time": "2021-10-12T20:00:48.116Z"
   },
   {
    "duration": 8,
    "start_time": "2021-10-12T20:00:49.327Z"
   },
   {
    "duration": 3,
    "start_time": "2021-10-12T20:00:50.304Z"
   },
   {
    "duration": 7,
    "start_time": "2021-10-12T20:00:51.865Z"
   },
   {
    "duration": 5,
    "start_time": "2021-10-12T20:00:55.888Z"
   },
   {
    "duration": 4,
    "start_time": "2021-10-12T20:00:57.358Z"
   },
   {
    "duration": 8,
    "start_time": "2021-10-12T20:01:03.015Z"
   },
   {
    "duration": 3,
    "start_time": "2021-10-12T20:01:04.756Z"
   },
   {
    "duration": 7,
    "start_time": "2021-10-12T20:01:08.384Z"
   },
   {
    "duration": 3,
    "start_time": "2021-10-12T20:02:15.398Z"
   },
   {
    "duration": 37,
    "start_time": "2021-10-12T20:02:16.887Z"
   },
   {
    "duration": 9,
    "start_time": "2021-10-12T20:02:17.619Z"
   },
   {
    "duration": 3,
    "start_time": "2021-10-12T20:02:18.239Z"
   },
   {
    "duration": 6,
    "start_time": "2021-10-12T20:02:19.280Z"
   },
   {
    "duration": 5,
    "start_time": "2021-10-12T20:02:20.129Z"
   },
   {
    "duration": 4,
    "start_time": "2021-10-12T20:02:20.897Z"
   },
   {
    "duration": 6,
    "start_time": "2021-10-12T20:02:25.207Z"
   },
   {
    "duration": 9,
    "start_time": "2021-10-12T20:02:28.404Z"
   },
   {
    "duration": 689,
    "start_time": "2021-10-15T06:53:47.015Z"
   },
   {
    "duration": 47,
    "start_time": "2021-10-15T06:53:47.705Z"
   },
   {
    "duration": 11,
    "start_time": "2021-10-15T06:53:47.755Z"
   },
   {
    "duration": 2,
    "start_time": "2021-10-15T06:53:47.768Z"
   },
   {
    "duration": 13,
    "start_time": "2021-10-15T06:53:47.772Z"
   },
   {
    "duration": 11,
    "start_time": "2021-10-15T06:53:47.787Z"
   },
   {
    "duration": 898,
    "start_time": "2021-10-16T06:52:53.153Z"
   },
   {
    "duration": 56,
    "start_time": "2021-10-16T06:52:54.054Z"
   },
   {
    "duration": 12,
    "start_time": "2021-10-16T06:52:54.113Z"
   },
   {
    "duration": 3,
    "start_time": "2021-10-16T06:52:54.127Z"
   },
   {
    "duration": 27,
    "start_time": "2021-10-16T06:52:54.132Z"
   },
   {
    "duration": 7,
    "start_time": "2021-10-16T06:52:54.161Z"
   },
   {
    "duration": 565,
    "start_time": "2021-10-16T06:53:25.753Z"
   },
   {
    "duration": 69650,
    "start_time": "2021-10-16T06:55:36.613Z"
   },
   {
    "duration": 942,
    "start_time": "2021-10-16T06:57:52.617Z"
   },
   {
    "duration": 959,
    "start_time": "2021-10-16T06:58:00.626Z"
   },
   {
    "duration": 6,
    "start_time": "2021-10-16T06:58:16.935Z"
   },
   {
    "duration": 59474,
    "start_time": "2021-10-16T06:58:41.976Z"
   },
   {
    "duration": 32,
    "start_time": "2021-10-16T06:59:41.453Z"
   },
   {
    "duration": 11545,
    "start_time": "2021-10-16T07:04:35.004Z"
   },
   {
    "duration": 1420,
    "start_time": "2021-10-16T07:04:58.607Z"
   },
   {
    "duration": 56,
    "start_time": "2021-10-16T07:05:00.030Z"
   },
   {
    "duration": 12,
    "start_time": "2021-10-16T07:05:00.089Z"
   },
   {
    "duration": 19,
    "start_time": "2021-10-16T07:05:00.103Z"
   },
   {
    "duration": 13,
    "start_time": "2021-10-16T07:05:00.124Z"
   },
   {
    "duration": 20,
    "start_time": "2021-10-16T07:05:00.139Z"
   },
   {
    "duration": 968,
    "start_time": "2021-10-16T07:05:00.161Z"
   },
   {
    "duration": 5,
    "start_time": "2021-10-16T07:05:01.131Z"
   },
   {
    "duration": 10504,
    "start_time": "2021-10-16T07:05:01.139Z"
   },
   {
    "duration": -123,
    "start_time": "2021-10-16T07:05:11.769Z"
   },
   {
    "duration": 1438,
    "start_time": "2021-10-16T07:07:47.888Z"
   },
   {
    "duration": 60,
    "start_time": "2021-10-16T07:07:49.329Z"
   },
   {
    "duration": 11,
    "start_time": "2021-10-16T07:07:49.393Z"
   },
   {
    "duration": 5,
    "start_time": "2021-10-16T07:07:49.407Z"
   },
   {
    "duration": 11,
    "start_time": "2021-10-16T07:07:49.414Z"
   },
   {
    "duration": 5,
    "start_time": "2021-10-16T07:07:49.427Z"
   },
   {
    "duration": 1083,
    "start_time": "2021-10-16T07:07:49.458Z"
   },
   {
    "duration": 13,
    "start_time": "2021-10-16T07:07:50.546Z"
   },
   {
    "duration": 14415,
    "start_time": "2021-10-16T07:07:50.561Z"
   },
   {
    "duration": -184,
    "start_time": "2021-10-16T07:08:05.163Z"
   },
   {
    "duration": 18405,
    "start_time": "2021-10-16T07:08:15.653Z"
   },
   {
    "duration": 1539,
    "start_time": "2021-10-16T07:48:05.856Z"
   },
   {
    "duration": 55,
    "start_time": "2021-10-16T07:48:07.398Z"
   },
   {
    "duration": 11,
    "start_time": "2021-10-16T07:48:07.456Z"
   },
   {
    "duration": 8,
    "start_time": "2021-10-16T07:48:07.470Z"
   },
   {
    "duration": 22,
    "start_time": "2021-10-16T07:48:07.480Z"
   },
   {
    "duration": 10,
    "start_time": "2021-10-16T07:48:07.504Z"
   },
   {
    "duration": 956,
    "start_time": "2021-10-16T07:48:07.516Z"
   },
   {
    "duration": 6,
    "start_time": "2021-10-16T07:48:08.475Z"
   },
   {
    "duration": 17339,
    "start_time": "2021-10-16T07:48:08.483Z"
   },
   {
    "duration": 53,
    "start_time": "2021-10-16T07:48:25.825Z"
   },
   {
    "duration": 9,
    "start_time": "2021-10-16T07:48:25.881Z"
   },
   {
    "duration": 25,
    "start_time": "2021-10-16T07:48:25.892Z"
   },
   {
    "duration": 40,
    "start_time": "2021-10-16T07:48:25.919Z"
   },
   {
    "duration": 120,
    "start_time": "2021-10-16T07:48:25.962Z"
   },
   {
    "duration": 15,
    "start_time": "2021-10-16T07:48:26.085Z"
   },
   {
    "duration": 11,
    "start_time": "2021-10-16T07:48:26.102Z"
   },
   {
    "duration": 44,
    "start_time": "2021-10-16T07:48:26.115Z"
   },
   {
    "duration": 8,
    "start_time": "2021-10-16T07:48:26.161Z"
   },
   {
    "duration": 10,
    "start_time": "2021-10-16T07:48:26.171Z"
   },
   {
    "duration": 6,
    "start_time": "2021-10-16T07:48:26.183Z"
   },
   {
    "duration": 11,
    "start_time": "2021-10-16T07:48:26.192Z"
   },
   {
    "duration": 56,
    "start_time": "2021-10-16T07:48:26.205Z"
   },
   {
    "duration": 161,
    "start_time": "2021-10-16T07:48:26.266Z"
   },
   {
    "duration": 27,
    "start_time": "2021-10-16T07:48:26.430Z"
   },
   {
    "duration": 15,
    "start_time": "2021-10-16T07:48:26.460Z"
   },
   {
    "duration": 6,
    "start_time": "2021-10-16T07:48:26.477Z"
   },
   {
    "duration": 18,
    "start_time": "2021-10-16T07:48:26.485Z"
   },
   {
    "duration": 85,
    "start_time": "2021-10-16T07:48:26.506Z"
   },
   {
    "duration": 14,
    "start_time": "2021-10-16T07:48:26.593Z"
   },
   {
    "duration": 15,
    "start_time": "2021-10-16T07:48:26.609Z"
   },
   {
    "duration": 125,
    "start_time": "2021-10-16T07:48:26.626Z"
   },
   {
    "duration": 31,
    "start_time": "2021-10-16T07:48:26.758Z"
   },
   {
    "duration": 270,
    "start_time": "2021-10-16T07:48:26.791Z"
   },
   {
    "duration": 543,
    "start_time": "2021-10-16T07:48:27.068Z"
   },
   {
    "duration": 1548,
    "start_time": "2021-10-17T07:03:13.787Z"
   },
   {
    "duration": 53,
    "start_time": "2021-10-17T07:03:15.337Z"
   },
   {
    "duration": 11,
    "start_time": "2021-10-17T07:03:15.393Z"
   },
   {
    "duration": 3,
    "start_time": "2021-10-17T07:03:15.407Z"
   },
   {
    "duration": 14,
    "start_time": "2021-10-17T07:03:15.413Z"
   },
   {
    "duration": 33,
    "start_time": "2021-10-17T07:03:15.429Z"
   },
   {
    "duration": 1013,
    "start_time": "2021-10-17T07:03:15.465Z"
   },
   {
    "duration": 5,
    "start_time": "2021-10-17T07:03:16.481Z"
   },
   {
    "duration": 19861,
    "start_time": "2021-10-17T07:03:16.490Z"
   },
   {
    "duration": 46,
    "start_time": "2021-10-17T07:03:36.356Z"
   },
   {
    "duration": 11,
    "start_time": "2021-10-17T07:03:36.405Z"
   },
   {
    "duration": 71,
    "start_time": "2021-10-17T07:03:36.419Z"
   },
   {
    "duration": 15,
    "start_time": "2021-10-17T07:03:36.493Z"
   },
   {
    "duration": 155,
    "start_time": "2021-10-17T07:03:36.510Z"
   },
   {
    "duration": 17,
    "start_time": "2021-10-17T07:03:36.669Z"
   },
   {
    "duration": 13,
    "start_time": "2021-10-17T07:03:36.689Z"
   },
   {
    "duration": 16,
    "start_time": "2021-10-17T07:03:36.704Z"
   },
   {
    "duration": 45,
    "start_time": "2021-10-17T07:03:36.722Z"
   },
   {
    "duration": 11,
    "start_time": "2021-10-17T07:03:36.770Z"
   },
   {
    "duration": 6,
    "start_time": "2021-10-17T07:03:36.783Z"
   },
   {
    "duration": 12,
    "start_time": "2021-10-17T07:03:36.791Z"
   },
   {
    "duration": 58,
    "start_time": "2021-10-17T07:03:36.805Z"
   },
   {
    "duration": 171,
    "start_time": "2021-10-17T07:03:36.866Z"
   },
   {
    "duration": 26,
    "start_time": "2021-10-17T07:03:37.039Z"
   },
   {
    "duration": 16,
    "start_time": "2021-10-17T07:03:37.068Z"
   },
   {
    "duration": 6,
    "start_time": "2021-10-17T07:03:37.086Z"
   },
   {
    "duration": 16,
    "start_time": "2021-10-17T07:03:37.097Z"
   },
   {
    "duration": 101,
    "start_time": "2021-10-17T07:03:37.116Z"
   },
   {
    "duration": 16,
    "start_time": "2021-10-17T07:03:37.219Z"
   },
   {
    "duration": 32,
    "start_time": "2021-10-17T07:03:37.237Z"
   },
   {
    "duration": 123,
    "start_time": "2021-10-17T07:03:37.272Z"
   },
   {
    "duration": 75,
    "start_time": "2021-10-17T07:03:37.397Z"
   },
   {
    "duration": 110,
    "start_time": "2021-10-17T07:03:37.563Z"
   },
   {
    "duration": 532,
    "start_time": "2021-10-17T07:03:37.763Z"
   },
   {
    "duration": 707,
    "start_time": "2021-10-17T07:05:03.257Z"
   },
   {
    "duration": 186,
    "start_time": "2021-10-17T07:06:22.087Z"
   },
   {
    "duration": 245,
    "start_time": "2021-10-17T07:06:50.256Z"
   },
   {
    "duration": 158,
    "start_time": "2021-10-17T07:07:01.124Z"
   },
   {
    "duration": 164,
    "start_time": "2021-10-17T07:07:29.517Z"
   },
   {
    "duration": 234,
    "start_time": "2021-10-17T07:21:15.543Z"
   },
   {
    "duration": 289,
    "start_time": "2021-10-17T07:25:04.170Z"
   },
   {
    "duration": 6,
    "start_time": "2021-10-17T07:25:48.190Z"
   },
   {
    "duration": 290,
    "start_time": "2021-10-17T07:25:53.373Z"
   },
   {
    "duration": 412,
    "start_time": "2021-10-17T07:26:13.152Z"
   },
   {
    "duration": 339,
    "start_time": "2021-10-17T07:26:51.932Z"
   },
   {
    "duration": 199398,
    "start_time": "2021-10-17T07:41:31.153Z"
   },
   {
    "duration": 6,
    "start_time": "2021-10-17T07:46:03.729Z"
   },
   {
    "duration": 187970,
    "start_time": "2021-10-17T07:46:10.593Z"
   },
   {
    "duration": 98587,
    "start_time": "2021-10-17T08:02:16.296Z"
   },
   {
    "duration": 166,
    "start_time": "2021-10-17T13:29:50.487Z"
   },
   {
    "duration": 1143,
    "start_time": "2021-10-17T13:29:56.989Z"
   },
   {
    "duration": 39,
    "start_time": "2021-10-17T13:29:58.134Z"
   },
   {
    "duration": 9,
    "start_time": "2021-10-17T13:29:58.175Z"
   },
   {
    "duration": 2,
    "start_time": "2021-10-17T13:29:58.191Z"
   },
   {
    "duration": 7,
    "start_time": "2021-10-17T13:29:58.196Z"
   },
   {
    "duration": 3,
    "start_time": "2021-10-17T13:29:58.205Z"
   },
   {
    "duration": 533,
    "start_time": "2021-10-17T13:29:58.210Z"
   },
   {
    "duration": 4,
    "start_time": "2021-10-17T13:29:58.746Z"
   },
   {
    "duration": 10957,
    "start_time": "2021-10-17T13:29:58.753Z"
   },
   {
    "duration": 24,
    "start_time": "2021-10-17T13:30:09.712Z"
   },
   {
    "duration": 14,
    "start_time": "2021-10-17T13:30:09.738Z"
   },
   {
    "duration": 40,
    "start_time": "2021-10-17T13:30:09.754Z"
   },
   {
    "duration": 9,
    "start_time": "2021-10-17T13:30:09.796Z"
   },
   {
    "duration": 89,
    "start_time": "2021-10-17T13:30:09.807Z"
   },
   {
    "duration": 11,
    "start_time": "2021-10-17T13:30:09.898Z"
   },
   {
    "duration": 9,
    "start_time": "2021-10-17T13:30:09.911Z"
   },
   {
    "duration": 11,
    "start_time": "2021-10-17T13:30:09.921Z"
   },
   {
    "duration": 6,
    "start_time": "2021-10-17T13:30:09.934Z"
   },
   {
    "duration": 5,
    "start_time": "2021-10-17T13:30:09.942Z"
   },
   {
    "duration": 45,
    "start_time": "2021-10-17T13:30:09.949Z"
   },
   {
    "duration": 8,
    "start_time": "2021-10-17T13:30:09.996Z"
   },
   {
    "duration": 14,
    "start_time": "2021-10-17T13:30:10.006Z"
   },
   {
    "duration": 117,
    "start_time": "2021-10-17T13:30:10.024Z"
   },
   {
    "duration": 11,
    "start_time": "2021-10-17T13:30:10.143Z"
   },
   {
    "duration": 11,
    "start_time": "2021-10-17T13:30:10.156Z"
   },
   {
    "duration": 24,
    "start_time": "2021-10-17T13:30:10.169Z"
   },
   {
    "duration": 11,
    "start_time": "2021-10-17T13:30:10.195Z"
   },
   {
    "duration": 39,
    "start_time": "2021-10-17T13:30:10.208Z"
   },
   {
    "duration": 10,
    "start_time": "2021-10-17T13:30:10.249Z"
   },
   {
    "duration": 33,
    "start_time": "2021-10-17T13:30:10.261Z"
   },
   {
    "duration": 68,
    "start_time": "2021-10-17T13:30:10.296Z"
   },
   {
    "duration": 43,
    "start_time": "2021-10-17T13:30:10.366Z"
   },
   {
    "duration": 81283,
    "start_time": "2021-10-17T13:30:10.410Z"
   },
   {
    "duration": 101,
    "start_time": "2021-10-17T13:31:31.694Z"
   },
   {
    "duration": 394,
    "start_time": "2021-10-17T13:31:31.798Z"
   },
   {
    "duration": 169403,
    "start_time": "2021-10-17T13:33:42.690Z"
   },
   {
    "duration": 182663,
    "start_time": "2021-10-17T13:40:12.587Z"
   },
   {
    "duration": 55,
    "start_time": "2021-10-17T14:18:59.050Z"
   },
   {
    "duration": 70,
    "start_time": "2021-10-17T14:19:07.851Z"
   },
   {
    "duration": 53,
    "start_time": "2021-10-17T14:19:21.928Z"
   },
   {
    "duration": 74,
    "start_time": "2021-10-17T14:19:39.526Z"
   },
   {
    "duration": 18825,
    "start_time": "2021-10-17T14:23:48.522Z"
   },
   {
    "duration": 4,
    "start_time": "2021-10-17T14:26:26.393Z"
   },
   {
    "duration": 71277,
    "start_time": "2021-10-17T14:27:24.255Z"
   },
   {
    "duration": 171,
    "start_time": "2021-10-17T14:29:17.265Z"
   },
   {
    "duration": 1211,
    "start_time": "2021-10-17T14:29:44.602Z"
   },
   {
    "duration": 17225,
    "start_time": "2021-10-17T14:30:17.547Z"
   },
   {
    "duration": 72305,
    "start_time": "2021-10-17T14:30:49.565Z"
   },
   {
    "duration": 39547,
    "start_time": "2021-10-17T14:38:07.176Z"
   },
   {
    "duration": 1546,
    "start_time": "2021-10-18T17:47:03.241Z"
   },
   {
    "duration": 52,
    "start_time": "2021-10-18T17:47:04.789Z"
   },
   {
    "duration": 21,
    "start_time": "2021-10-18T17:47:04.843Z"
   },
   {
    "duration": 4,
    "start_time": "2021-10-18T17:47:04.867Z"
   },
   {
    "duration": 12,
    "start_time": "2021-10-18T17:47:04.873Z"
   },
   {
    "duration": 5,
    "start_time": "2021-10-18T17:47:04.887Z"
   },
   {
    "duration": 1159,
    "start_time": "2021-10-18T17:47:04.895Z"
   },
   {
    "duration": 6,
    "start_time": "2021-10-18T17:47:06.058Z"
   },
   {
    "duration": 19650,
    "start_time": "2021-10-18T17:47:06.069Z"
   },
   {
    "duration": 65,
    "start_time": "2021-10-18T17:47:25.722Z"
   },
   {
    "duration": 11,
    "start_time": "2021-10-18T17:47:25.790Z"
   },
   {
    "duration": 70,
    "start_time": "2021-10-18T17:47:25.804Z"
   },
   {
    "duration": 15,
    "start_time": "2021-10-18T17:47:25.877Z"
   },
   {
    "duration": 144,
    "start_time": "2021-10-18T17:47:25.894Z"
   },
   {
    "duration": 27,
    "start_time": "2021-10-18T17:47:26.041Z"
   },
   {
    "duration": 14,
    "start_time": "2021-10-18T17:47:26.071Z"
   },
   {
    "duration": 15,
    "start_time": "2021-10-18T17:47:26.088Z"
   },
   {
    "duration": 8,
    "start_time": "2021-10-18T17:47:26.105Z"
   },
   {
    "duration": 49,
    "start_time": "2021-10-18T17:47:26.115Z"
   },
   {
    "duration": 8,
    "start_time": "2021-10-18T17:47:26.168Z"
   },
   {
    "duration": 10,
    "start_time": "2021-10-18T17:47:26.178Z"
   },
   {
    "duration": 20,
    "start_time": "2021-10-18T17:47:26.191Z"
   },
   {
    "duration": 204,
    "start_time": "2021-10-18T17:47:26.216Z"
   },
   {
    "duration": 17,
    "start_time": "2021-10-18T17:47:26.423Z"
   },
   {
    "duration": 33,
    "start_time": "2021-10-18T17:47:26.442Z"
   },
   {
    "duration": 5,
    "start_time": "2021-10-18T17:47:26.477Z"
   },
   {
    "duration": 22,
    "start_time": "2021-10-18T17:47:26.485Z"
   },
   {
    "duration": 91,
    "start_time": "2021-10-18T17:47:26.510Z"
   },
   {
    "duration": 14,
    "start_time": "2021-10-18T17:47:26.603Z"
   },
   {
    "duration": 16,
    "start_time": "2021-10-18T17:47:26.619Z"
   },
   {
    "duration": 137,
    "start_time": "2021-10-18T17:47:26.662Z"
   },
   {
    "duration": 127075,
    "start_time": "2021-10-18T17:47:26.802Z"
   },
   {
    "duration": 96,
    "start_time": "2021-10-18T17:49:33.881Z"
   },
   {
    "duration": 219595,
    "start_time": "2021-10-18T17:49:34.070Z"
   },
   {
    "duration": 99,
    "start_time": "2021-10-18T17:53:13.668Z"
   },
   {
    "duration": 398,
    "start_time": "2021-10-18T17:53:13.769Z"
   },
   {
    "duration": 1833,
    "start_time": "2021-10-18T17:53:14.170Z"
   },
   {
    "duration": 311,
    "start_time": "2021-10-18T17:53:16.005Z"
   },
   {
    "duration": 43626,
    "start_time": "2021-10-18T17:56:10.076Z"
   },
   {
    "duration": 306,
    "start_time": "2021-10-18T17:56:53.705Z"
   },
   {
    "duration": 93,
    "start_time": "2021-10-18T18:03:09.742Z"
   },
   {
    "duration": 1589,
    "start_time": "2021-10-18T18:29:23.545Z"
   },
   {
    "duration": 60,
    "start_time": "2021-10-18T18:29:25.137Z"
   },
   {
    "duration": 12,
    "start_time": "2021-10-18T18:29:25.201Z"
   },
   {
    "duration": 4,
    "start_time": "2021-10-18T18:29:25.216Z"
   },
   {
    "duration": 21,
    "start_time": "2021-10-18T18:29:25.222Z"
   },
   {
    "duration": 6,
    "start_time": "2021-10-18T18:29:25.263Z"
   },
   {
    "duration": 1036,
    "start_time": "2021-10-18T18:29:25.272Z"
   },
   {
    "duration": 7,
    "start_time": "2021-10-18T18:29:26.313Z"
   },
   {
    "duration": 19721,
    "start_time": "2021-10-18T18:29:26.324Z"
   },
   {
    "duration": 51,
    "start_time": "2021-10-18T18:29:46.047Z"
   },
   {
    "duration": 8,
    "start_time": "2021-10-18T18:29:46.101Z"
   },
   {
    "duration": 59,
    "start_time": "2021-10-18T18:29:46.112Z"
   },
   {
    "duration": 14,
    "start_time": "2021-10-18T18:29:46.174Z"
   },
   {
    "duration": 128,
    "start_time": "2021-10-18T18:29:46.190Z"
   },
   {
    "duration": 14,
    "start_time": "2021-10-18T18:29:46.321Z"
   },
   {
    "duration": 36,
    "start_time": "2021-10-18T18:29:46.338Z"
   },
   {
    "duration": 15,
    "start_time": "2021-10-18T18:29:46.377Z"
   },
   {
    "duration": 8,
    "start_time": "2021-10-18T18:29:46.394Z"
   },
   {
    "duration": 8,
    "start_time": "2021-10-18T18:29:46.405Z"
   },
   {
    "duration": 6,
    "start_time": "2021-10-18T18:29:46.415Z"
   },
   {
    "duration": 42,
    "start_time": "2021-10-18T18:29:46.423Z"
   },
   {
    "duration": 42,
    "start_time": "2021-10-18T18:29:46.467Z"
   },
   {
    "duration": 165,
    "start_time": "2021-10-18T18:29:46.514Z"
   },
   {
    "duration": 16,
    "start_time": "2021-10-18T18:29:46.682Z"
   },
   {
    "duration": 14,
    "start_time": "2021-10-18T18:29:46.700Z"
   },
   {
    "duration": 5,
    "start_time": "2021-10-18T18:29:46.716Z"
   },
   {
    "duration": 47,
    "start_time": "2021-10-18T18:29:46.724Z"
   },
   {
    "duration": 59,
    "start_time": "2021-10-18T18:29:46.773Z"
   },
   {
    "duration": 39,
    "start_time": "2021-10-18T18:29:46.834Z"
   },
   {
    "duration": 14,
    "start_time": "2021-10-18T18:29:46.876Z"
   },
   {
    "duration": 130,
    "start_time": "2021-10-18T18:29:46.892Z"
   },
   {
    "duration": 126512,
    "start_time": "2021-10-18T18:29:47.024Z"
   },
   {
    "duration": 125,
    "start_time": "2021-10-18T18:31:53.539Z"
   },
   {
    "duration": 218793,
    "start_time": "2021-10-18T18:31:53.672Z"
   },
   {
    "duration": 98,
    "start_time": "2021-10-18T18:35:32.467Z"
   },
   {
    "duration": 458,
    "start_time": "2021-10-18T18:35:32.569Z"
   },
   {
    "duration": 1861,
    "start_time": "2021-10-18T18:35:33.030Z"
   },
   {
    "duration": 1553,
    "start_time": "2021-10-18T18:40:08.134Z"
   },
   {
    "duration": 54,
    "start_time": "2021-10-18T18:40:09.691Z"
   },
   {
    "duration": 21,
    "start_time": "2021-10-18T18:40:09.749Z"
   },
   {
    "duration": 4,
    "start_time": "2021-10-18T18:40:09.773Z"
   },
   {
    "duration": 17,
    "start_time": "2021-10-18T18:40:09.779Z"
   },
   {
    "duration": 15,
    "start_time": "2021-10-18T18:40:09.798Z"
   },
   {
    "duration": 989,
    "start_time": "2021-10-18T18:40:09.815Z"
   },
   {
    "duration": 5,
    "start_time": "2021-10-18T18:40:10.808Z"
   },
   {
    "duration": 18040,
    "start_time": "2021-10-18T18:40:10.816Z"
   },
   {
    "duration": 35,
    "start_time": "2021-10-18T18:40:28.862Z"
   },
   {
    "duration": 9,
    "start_time": "2021-10-18T18:40:28.899Z"
   },
   {
    "duration": 70,
    "start_time": "2021-10-18T18:40:28.911Z"
   },
   {
    "duration": 13,
    "start_time": "2021-10-18T18:40:28.984Z"
   },
   {
    "duration": 148,
    "start_time": "2021-10-18T18:40:29.000Z"
   },
   {
    "duration": 16,
    "start_time": "2021-10-18T18:40:29.151Z"
   },
   {
    "duration": 11,
    "start_time": "2021-10-18T18:40:29.170Z"
   },
   {
    "duration": 16,
    "start_time": "2021-10-18T18:40:29.184Z"
   },
   {
    "duration": 9,
    "start_time": "2021-10-18T18:40:29.202Z"
   },
   {
    "duration": 51,
    "start_time": "2021-10-18T18:40:29.213Z"
   },
   {
    "duration": 6,
    "start_time": "2021-10-18T18:40:29.266Z"
   },
   {
    "duration": 13,
    "start_time": "2021-10-18T18:40:29.275Z"
   },
   {
    "duration": 24,
    "start_time": "2021-10-18T18:40:29.291Z"
   },
   {
    "duration": 184,
    "start_time": "2021-10-18T18:40:29.317Z"
   },
   {
    "duration": 16,
    "start_time": "2021-10-18T18:40:29.504Z"
   },
   {
    "duration": 43,
    "start_time": "2021-10-18T18:40:29.523Z"
   },
   {
    "duration": 6,
    "start_time": "2021-10-18T18:40:29.573Z"
   },
   {
    "duration": 18,
    "start_time": "2021-10-18T18:40:29.582Z"
   },
   {
    "duration": 96,
    "start_time": "2021-10-18T18:40:29.603Z"
   },
   {
    "duration": 15,
    "start_time": "2021-10-18T18:40:29.702Z"
   },
   {
    "duration": 15,
    "start_time": "2021-10-18T18:40:29.719Z"
   },
   {
    "duration": 123,
    "start_time": "2021-10-18T18:40:29.761Z"
   },
   {
    "duration": 120933,
    "start_time": "2021-10-18T18:40:29.886Z"
   },
   {
    "duration": 47,
    "start_time": "2021-10-18T18:42:30.822Z"
   },
   {
    "duration": 220117,
    "start_time": "2021-10-18T18:42:30.872Z"
   },
   {
    "duration": 72,
    "start_time": "2021-10-18T18:46:10.992Z"
   },
   {
    "duration": 460,
    "start_time": "2021-10-18T18:46:11.067Z"
   },
   {
    "duration": 1866,
    "start_time": "2021-10-18T18:46:11.531Z"
   },
   {
    "duration": 89920,
    "start_time": "2021-10-18T18:46:13.400Z"
   },
   {
    "duration": 410,
    "start_time": "2021-10-18T18:47:43.323Z"
   },
   {
    "duration": 1814,
    "start_time": "2021-10-18T18:50:29.837Z"
   },
   {
    "duration": 6,
    "start_time": "2021-10-18T18:50:32.808Z"
   },
   {
    "duration": 182391,
    "start_time": "2021-10-18T18:50:33.335Z"
   },
   {
    "duration": 302,
    "start_time": "2021-10-18T18:53:35.729Z"
   },
   {
    "duration": 194955,
    "start_time": "2021-10-18T18:58:17.912Z"
   },
   {
    "duration": 1626,
    "start_time": "2021-10-26T06:17:13.771Z"
   },
   {
    "duration": 60,
    "start_time": "2021-10-26T06:17:15.400Z"
   },
   {
    "duration": 12,
    "start_time": "2021-10-26T06:17:15.462Z"
   },
   {
    "duration": 3,
    "start_time": "2021-10-26T06:17:15.476Z"
   },
   {
    "duration": 13,
    "start_time": "2021-10-26T06:17:15.482Z"
   },
   {
    "duration": 35,
    "start_time": "2021-10-26T06:17:15.497Z"
   },
   {
    "duration": 1062,
    "start_time": "2021-10-26T06:17:15.535Z"
   },
   {
    "duration": 6,
    "start_time": "2021-10-26T06:17:16.600Z"
   },
   {
    "duration": 20180,
    "start_time": "2021-10-26T06:17:16.610Z"
   },
   {
    "duration": 67,
    "start_time": "2021-10-26T06:17:36.793Z"
   },
   {
    "duration": 11,
    "start_time": "2021-10-26T06:17:36.862Z"
   },
   {
    "duration": 66,
    "start_time": "2021-10-26T06:17:36.876Z"
   },
   {
    "duration": 12,
    "start_time": "2021-10-26T06:17:36.944Z"
   },
   {
    "duration": 135,
    "start_time": "2021-10-26T06:17:36.958Z"
   },
   {
    "duration": 14,
    "start_time": "2021-10-26T06:17:37.095Z"
   },
   {
    "duration": 16,
    "start_time": "2021-10-26T06:17:37.125Z"
   },
   {
    "duration": 15,
    "start_time": "2021-10-26T06:17:37.144Z"
   },
   {
    "duration": 7,
    "start_time": "2021-10-26T06:17:37.161Z"
   },
   {
    "duration": 7,
    "start_time": "2021-10-26T06:17:37.171Z"
   },
   {
    "duration": 8,
    "start_time": "2021-10-26T06:17:37.227Z"
   },
   {
    "duration": 11,
    "start_time": "2021-10-26T06:17:37.239Z"
   },
   {
    "duration": 21,
    "start_time": "2021-10-26T06:17:37.253Z"
   },
   {
    "duration": 199,
    "start_time": "2021-10-26T06:17:37.281Z"
   },
   {
    "duration": 17,
    "start_time": "2021-10-26T06:17:37.484Z"
   },
   {
    "duration": 41,
    "start_time": "2021-10-26T06:17:37.504Z"
   },
   {
    "duration": 6,
    "start_time": "2021-10-26T06:17:37.548Z"
   },
   {
    "duration": 25,
    "start_time": "2021-10-26T06:17:37.557Z"
   },
   {
    "duration": 100,
    "start_time": "2021-10-26T06:17:37.584Z"
   },
   {
    "duration": 15,
    "start_time": "2021-10-26T06:17:37.686Z"
   },
   {
    "duration": 36,
    "start_time": "2021-10-26T06:17:37.704Z"
   },
   {
    "duration": 137,
    "start_time": "2021-10-26T06:17:37.743Z"
   },
   {
    "duration": 129793,
    "start_time": "2021-10-26T06:17:37.883Z"
   },
   {
    "duration": 143,
    "start_time": "2021-10-26T06:19:47.679Z"
   },
   {
    "duration": 414969,
    "start_time": "2021-10-26T06:19:47.826Z"
   },
   {
    "duration": 151,
    "start_time": "2021-10-26T06:26:42.799Z"
   },
   {
    "duration": 537,
    "start_time": "2021-10-26T06:26:42.954Z"
   },
   {
    "duration": 1946,
    "start_time": "2021-10-26T06:26:43.493Z"
   },
   {
    "duration": 5,
    "start_time": "2021-10-26T06:26:45.442Z"
   },
   {
    "duration": 209099,
    "start_time": "2021-10-26T06:26:45.449Z"
   },
   {
    "duration": 613,
    "start_time": "2021-10-26T06:30:14.550Z"
   },
   {
    "duration": 472,
    "start_time": "2021-10-26T06:31:42.675Z"
   },
   {
    "duration": 461,
    "start_time": "2021-10-26T12:51:05.192Z"
   },
   {
    "duration": 2677,
    "start_time": "2021-10-26T12:52:26.587Z"
   },
   {
    "duration": 204561,
    "start_time": "2021-10-26T12:55:21.046Z"
   },
   {
    "duration": 67869,
    "start_time": "2021-10-26T13:09:28.594Z"
   },
   {
    "duration": 16748,
    "start_time": "2021-10-26T13:51:55.229Z"
   },
   {
    "duration": 185857,
    "start_time": "2021-10-26T13:58:16.562Z"
   },
   {
    "duration": 2685,
    "start_time": "2021-10-26T14:02:18.467Z"
   },
   {
    "duration": 65575,
    "start_time": "2021-10-26T14:03:12.431Z"
   },
   {
    "duration": 2129,
    "start_time": "2021-10-26T14:04:18.009Z"
   },
   {
    "duration": 614,
    "start_time": "2021-10-26T14:07:22.799Z"
   },
   {
    "duration": 640,
    "start_time": "2021-10-26T14:08:48.272Z"
   },
   {
    "duration": 611,
    "start_time": "2021-10-26T14:09:31.796Z"
   },
   {
    "duration": 2565,
    "start_time": "2021-10-26T14:09:55.388Z"
   },
   {
    "duration": 114,
    "start_time": "2021-10-26T14:21:12.056Z"
   },
   {
    "duration": 2167,
    "start_time": "2021-10-26T14:21:19.181Z"
   },
   {
    "duration": 1669,
    "start_time": "2021-10-26T16:27:00.288Z"
   },
   {
    "duration": 263,
    "start_time": "2021-10-26T17:08:50.072Z"
   },
   {
    "duration": 1571,
    "start_time": "2021-10-26T17:09:01.111Z"
   },
   {
    "duration": 55,
    "start_time": "2021-10-26T17:09:02.685Z"
   },
   {
    "duration": 21,
    "start_time": "2021-10-26T17:09:02.742Z"
   },
   {
    "duration": 8,
    "start_time": "2021-10-26T17:09:02.765Z"
   },
   {
    "duration": 29,
    "start_time": "2021-10-26T17:09:02.775Z"
   },
   {
    "duration": 998,
    "start_time": "2021-10-26T17:09:02.807Z"
   },
   {
    "duration": 5,
    "start_time": "2021-10-26T17:09:03.807Z"
   },
   {
    "duration": 17582,
    "start_time": "2021-10-26T17:09:03.816Z"
   },
   {
    "duration": 57,
    "start_time": "2021-10-26T17:09:21.401Z"
   },
   {
    "duration": 10,
    "start_time": "2021-10-26T17:09:21.461Z"
   },
   {
    "duration": 26,
    "start_time": "2021-10-26T17:09:21.473Z"
   },
   {
    "duration": 15,
    "start_time": "2021-10-26T17:09:21.501Z"
   },
   {
    "duration": 151,
    "start_time": "2021-10-26T17:09:21.518Z"
   },
   {
    "duration": 15,
    "start_time": "2021-10-26T17:09:21.671Z"
   },
   {
    "duration": 11,
    "start_time": "2021-10-26T17:09:21.689Z"
   },
   {
    "duration": 16,
    "start_time": "2021-10-26T17:09:21.703Z"
   },
   {
    "duration": 43,
    "start_time": "2021-10-26T17:09:21.721Z"
   },
   {
    "duration": 9,
    "start_time": "2021-10-26T17:09:21.766Z"
   },
   {
    "duration": 6,
    "start_time": "2021-10-26T17:09:21.777Z"
   },
   {
    "duration": 12,
    "start_time": "2021-10-26T17:09:21.785Z"
   },
   {
    "duration": 60,
    "start_time": "2021-10-26T17:09:21.799Z"
   },
   {
    "duration": 161,
    "start_time": "2021-10-26T17:09:21.862Z"
   },
   {
    "duration": 15,
    "start_time": "2021-10-26T17:09:22.025Z"
   },
   {
    "duration": 16,
    "start_time": "2021-10-26T17:09:22.058Z"
   },
   {
    "duration": 5,
    "start_time": "2021-10-26T17:09:22.076Z"
   },
   {
    "duration": 15,
    "start_time": "2021-10-26T17:09:22.086Z"
   },
   {
    "duration": 90,
    "start_time": "2021-10-26T17:09:22.103Z"
   },
   {
    "duration": 13,
    "start_time": "2021-10-26T17:09:22.196Z"
   },
   {
    "duration": 14,
    "start_time": "2021-10-26T17:09:22.211Z"
   },
   {
    "duration": 140,
    "start_time": "2021-10-26T17:09:22.227Z"
   },
   {
    "duration": 120865,
    "start_time": "2021-10-26T17:09:22.369Z"
   },
   {
    "duration": 124,
    "start_time": "2021-10-26T17:11:23.237Z"
   },
   {
    "duration": 220395,
    "start_time": "2021-10-26T17:11:23.365Z"
   },
   {
    "duration": 98,
    "start_time": "2021-10-26T17:15:03.762Z"
   },
   {
    "duration": 438,
    "start_time": "2021-10-26T17:15:03.864Z"
   },
   {
    "duration": 1955,
    "start_time": "2021-10-26T17:15:04.304Z"
   },
   {
    "duration": 6,
    "start_time": "2021-10-26T17:15:06.261Z"
   },
   {
    "duration": 66668,
    "start_time": "2021-10-26T17:15:06.270Z"
   },
   {
    "duration": 524,
    "start_time": "2021-10-26T17:16:12.941Z"
   },
   {
    "duration": -1313,
    "start_time": "2021-10-26T17:16:14.780Z"
   },
   {
    "duration": -1320,
    "start_time": "2021-10-26T17:16:14.789Z"
   },
   {
    "duration": -1322,
    "start_time": "2021-10-26T17:16:14.793Z"
   },
   {
    "duration": -1324,
    "start_time": "2021-10-26T17:16:14.796Z"
   },
   {
    "duration": 399,
    "start_time": "2021-10-26T17:16:44.559Z"
   },
   {
    "duration": 381,
    "start_time": "2021-10-26T17:17:38.969Z"
   },
   {
    "duration": 6,
    "start_time": "2021-10-26T17:17:50.119Z"
   },
   {
    "duration": 4,
    "start_time": "2021-10-26T17:18:42.949Z"
   },
   {
    "duration": 431,
    "start_time": "2021-10-26T17:18:53.124Z"
   },
   {
    "duration": -143,
    "start_time": "2021-10-26T17:18:53.701Z"
   },
   {
    "duration": 379,
    "start_time": "2021-10-26T17:21:04.206Z"
   },
   {
    "duration": 454,
    "start_time": "2021-10-26T17:21:04.643Z"
   },
   {
    "duration": 517,
    "start_time": "2021-10-26T17:37:24.151Z"
   },
   {
    "duration": 7,
    "start_time": "2021-10-26T17:37:38.034Z"
   },
   {
    "duration": 7,
    "start_time": "2021-10-26T17:37:46.330Z"
   },
   {
    "duration": 4,
    "start_time": "2021-10-26T17:38:02.702Z"
   },
   {
    "duration": 445,
    "start_time": "2021-10-26T17:38:03.872Z"
   },
   {
    "duration": 269,
    "start_time": "2021-10-26T17:38:04.452Z"
   },
   {
    "duration": 4,
    "start_time": "2021-10-26T17:38:18.783Z"
   },
   {
    "duration": 268,
    "start_time": "2021-10-26T17:38:26.862Z"
   },
   {
    "duration": 1770,
    "start_time": "2021-10-26T17:43:15.618Z"
   },
   {
    "duration": 407,
    "start_time": "2021-10-26T18:19:58.067Z"
   },
   {
    "duration": 5,
    "start_time": "2021-10-26T18:20:22.291Z"
   },
   {
    "duration": 4,
    "start_time": "2021-10-26T18:35:58.428Z"
   },
   {
    "duration": 4,
    "start_time": "2021-10-26T18:40:06.595Z"
   },
   {
    "duration": 273,
    "start_time": "2021-10-26T18:41:26.475Z"
   },
   {
    "duration": 750,
    "start_time": "2021-10-26T18:45:15.000Z"
   },
   {
    "duration": 2898,
    "start_time": "2021-10-26T18:45:16.923Z"
   },
   {
    "duration": 19745,
    "start_time": "2021-10-26T19:04:54.105Z"
   },
   {
    "duration": 155,
    "start_time": "2021-10-26T19:06:29.187Z"
   },
   {
    "duration": 92,
    "start_time": "2021-10-26T19:06:40.506Z"
   },
   {
    "duration": 16,
    "start_time": "2021-10-26T19:06:43.431Z"
   },
   {
    "duration": 11,
    "start_time": "2021-10-26T19:06:48.040Z"
   },
   {
    "duration": 15,
    "start_time": "2021-10-26T19:06:49.847Z"
   },
   {
    "duration": 1756,
    "start_time": "2021-10-26T19:07:19.327Z"
   },
   {
    "duration": 56,
    "start_time": "2021-10-26T19:07:21.085Z"
   },
   {
    "duration": 16,
    "start_time": "2021-10-26T19:07:21.144Z"
   },
   {
    "duration": 10,
    "start_time": "2021-10-26T19:07:21.163Z"
   },
   {
    "duration": 6,
    "start_time": "2021-10-26T19:07:21.176Z"
   },
   {
    "duration": 1010,
    "start_time": "2021-10-26T19:07:21.185Z"
   },
   {
    "duration": 7,
    "start_time": "2021-10-26T19:07:22.198Z"
   },
   {
    "duration": 20602,
    "start_time": "2021-10-26T19:07:22.208Z"
   },
   {
    "duration": 52,
    "start_time": "2021-10-26T19:07:42.814Z"
   },
   {
    "duration": 8,
    "start_time": "2021-10-26T19:07:42.869Z"
   },
   {
    "duration": 29,
    "start_time": "2021-10-26T19:07:42.879Z"
   },
   {
    "duration": 11,
    "start_time": "2021-10-26T19:07:42.910Z"
   },
   {
    "duration": 140,
    "start_time": "2021-10-26T19:07:42.924Z"
   },
   {
    "duration": 19904,
    "start_time": "2021-10-26T19:07:43.066Z"
   },
   {
    "duration": 169,
    "start_time": "2021-10-26T19:08:02.973Z"
   },
   {
    "duration": 15,
    "start_time": "2021-10-26T19:08:03.145Z"
   },
   {
    "duration": 10,
    "start_time": "2021-10-26T19:08:03.162Z"
   },
   {
    "duration": 21,
    "start_time": "2021-10-26T19:08:03.174Z"
   },
   {
    "duration": 12,
    "start_time": "2021-10-26T19:08:03.197Z"
   },
   {
    "duration": 23,
    "start_time": "2021-10-26T19:08:03.211Z"
   },
   {
    "duration": 21,
    "start_time": "2021-10-26T19:08:03.237Z"
   },
   {
    "duration": 18,
    "start_time": "2021-10-26T19:08:03.260Z"
   },
   {
    "duration": 22,
    "start_time": "2021-10-26T19:08:03.280Z"
   },
   {
    "duration": 168,
    "start_time": "2021-10-26T19:08:03.305Z"
   },
   {
    "duration": 14,
    "start_time": "2021-10-26T19:08:03.475Z"
   },
   {
    "duration": 15,
    "start_time": "2021-10-26T19:08:03.492Z"
   },
   {
    "duration": 5,
    "start_time": "2021-10-26T19:08:03.514Z"
   },
   {
    "duration": 50,
    "start_time": "2021-10-26T19:08:03.523Z"
   },
   {
    "duration": 83,
    "start_time": "2021-10-26T19:08:03.576Z"
   },
   {
    "duration": 17,
    "start_time": "2021-10-26T19:08:03.662Z"
   },
   {
    "duration": 16,
    "start_time": "2021-10-26T19:08:03.681Z"
   },
   {
    "duration": 150,
    "start_time": "2021-10-26T19:08:03.699Z"
   },
   {
    "duration": 118408,
    "start_time": "2021-10-26T19:08:03.852Z"
   },
   {
    "duration": 96,
    "start_time": "2021-10-26T19:10:02.263Z"
   },
   {
    "duration": 210796,
    "start_time": "2021-10-26T19:10:02.363Z"
   },
   {
    "duration": 99,
    "start_time": "2021-10-26T19:13:33.162Z"
   },
   {
    "duration": 507,
    "start_time": "2021-10-26T19:13:33.264Z"
   },
   {
    "duration": 1840,
    "start_time": "2021-10-26T19:13:33.774Z"
   },
   {
    "duration": 6,
    "start_time": "2021-10-26T19:13:35.616Z"
   },
   {
    "duration": 67447,
    "start_time": "2021-10-26T19:13:35.624Z"
   },
   {
    "duration": 3,
    "start_time": "2021-10-26T19:14:43.074Z"
   },
   {
    "duration": 7,
    "start_time": "2021-10-26T19:14:43.080Z"
   },
   {
    "duration": 6,
    "start_time": "2021-10-26T19:14:43.090Z"
   },
   {
    "duration": 1772,
    "start_time": "2021-10-26T19:14:43.098Z"
   },
   {
    "duration": 5,
    "start_time": "2021-10-26T19:14:44.872Z"
   },
   {
    "duration": 15,
    "start_time": "2021-10-26T19:14:44.879Z"
   },
   {
    "duration": 669,
    "start_time": "2021-10-26T19:14:44.896Z"
   },
   {
    "duration": 733,
    "start_time": "2021-10-26T19:14:45.567Z"
   },
   {
    "duration": -59,
    "start_time": "2021-10-26T19:14:46.362Z"
   },
   {
    "duration": -97,
    "start_time": "2021-10-26T19:14:46.402Z"
   },
   {
    "duration": 1549,
    "start_time": "2021-10-26T19:24:18.946Z"
   },
   {
    "duration": 54,
    "start_time": "2021-10-26T19:24:20.498Z"
   },
   {
    "duration": 13,
    "start_time": "2021-10-26T19:24:20.557Z"
   },
   {
    "duration": 8,
    "start_time": "2021-10-26T19:24:20.573Z"
   },
   {
    "duration": 8,
    "start_time": "2021-10-26T19:24:20.583Z"
   },
   {
    "duration": 1018,
    "start_time": "2021-10-26T19:24:20.593Z"
   },
   {
    "duration": 5,
    "start_time": "2021-10-26T19:24:21.613Z"
   },
   {
    "duration": 17378,
    "start_time": "2021-10-26T19:24:21.622Z"
   },
   {
    "duration": 57,
    "start_time": "2021-10-26T19:24:39.002Z"
   },
   {
    "duration": 11,
    "start_time": "2021-10-26T19:24:39.062Z"
   },
   {
    "duration": 36,
    "start_time": "2021-10-26T19:24:39.075Z"
   },
   {
    "duration": 14,
    "start_time": "2021-10-26T19:24:39.114Z"
   },
   {
    "duration": 141,
    "start_time": "2021-10-26T19:24:39.130Z"
   },
   {
    "duration": 256,
    "start_time": "2021-10-26T19:24:39.274Z"
   },
   {
    "duration": 29,
    "start_time": "2021-10-26T19:24:39.533Z"
   },
   {
    "duration": 25,
    "start_time": "2021-10-26T19:24:39.564Z"
   },
   {
    "duration": 43,
    "start_time": "2021-10-26T19:24:39.591Z"
   },
   {
    "duration": 26,
    "start_time": "2021-10-26T19:24:39.638Z"
   },
   {
    "duration": 23,
    "start_time": "2021-10-26T19:24:39.668Z"
   },
   {
    "duration": 12,
    "start_time": "2021-10-26T19:24:39.694Z"
   },
   {
    "duration": 30,
    "start_time": "2021-10-26T19:24:39.709Z"
   },
   {
    "duration": 50,
    "start_time": "2021-10-26T19:24:39.742Z"
   },
   {
    "duration": 704,
    "start_time": "2021-10-26T19:24:39.799Z"
   },
   {
    "duration": 27,
    "start_time": "2021-10-26T19:24:40.506Z"
   },
   {
    "duration": 44,
    "start_time": "2021-10-26T19:24:40.535Z"
   },
   {
    "duration": 6,
    "start_time": "2021-10-26T19:24:40.581Z"
   },
   {
    "duration": 20,
    "start_time": "2021-10-26T19:24:40.589Z"
   },
   {
    "duration": 223,
    "start_time": "2021-10-26T19:24:40.611Z"
   },
   {
    "duration": 38,
    "start_time": "2021-10-26T19:24:40.837Z"
   },
   {
    "duration": 26,
    "start_time": "2021-10-26T19:24:40.877Z"
   },
   {
    "duration": 129,
    "start_time": "2021-10-26T19:24:40.905Z"
   },
   {
    "duration": 118685,
    "start_time": "2021-10-26T19:24:41.037Z"
   },
   {
    "duration": 132,
    "start_time": "2021-10-26T19:26:39.728Z"
   },
   {
    "duration": 229797,
    "start_time": "2021-10-26T19:26:39.863Z"
   },
   {
    "duration": 104,
    "start_time": "2021-10-26T19:30:29.663Z"
   },
   {
    "duration": 398,
    "start_time": "2021-10-26T19:30:29.859Z"
   },
   {
    "duration": 1849,
    "start_time": "2021-10-26T19:30:30.260Z"
   },
   {
    "duration": 7,
    "start_time": "2021-10-26T19:30:32.112Z"
   },
   {
    "duration": 71412,
    "start_time": "2021-10-26T19:30:32.122Z"
   },
   {
    "duration": 3,
    "start_time": "2021-10-26T19:31:43.537Z"
   },
   {
    "duration": 11,
    "start_time": "2021-10-26T19:31:43.542Z"
   },
   {
    "duration": 10,
    "start_time": "2021-10-26T19:31:43.556Z"
   },
   {
    "duration": 1742,
    "start_time": "2021-10-26T19:31:43.569Z"
   },
   {
    "duration": 6,
    "start_time": "2021-10-26T19:31:45.313Z"
   },
   {
    "duration": 11,
    "start_time": "2021-10-26T19:31:45.321Z"
   },
   {
    "duration": 680,
    "start_time": "2021-10-26T19:31:45.334Z"
   },
   {
    "duration": 623,
    "start_time": "2021-10-26T19:31:46.016Z"
   },
   {
    "duration": -142,
    "start_time": "2021-10-26T19:31:46.783Z"
   },
   {
    "duration": -142,
    "start_time": "2021-10-26T19:31:46.785Z"
   },
   {
    "duration": 1558,
    "start_time": "2021-10-26T19:42:10.168Z"
   },
   {
    "duration": 53,
    "start_time": "2021-10-26T19:42:11.729Z"
   },
   {
    "duration": 12,
    "start_time": "2021-10-26T19:42:11.785Z"
   },
   {
    "duration": 10,
    "start_time": "2021-10-26T19:42:11.800Z"
   },
   {
    "duration": 4,
    "start_time": "2021-10-26T19:42:11.812Z"
   },
   {
    "duration": 1015,
    "start_time": "2021-10-26T19:42:11.819Z"
   },
   {
    "duration": 6,
    "start_time": "2021-10-26T19:42:12.836Z"
   },
   {
    "duration": 19448,
    "start_time": "2021-10-26T19:42:12.858Z"
   },
   {
    "duration": 65,
    "start_time": "2021-10-26T19:42:32.312Z"
   },
   {
    "duration": 11,
    "start_time": "2021-10-26T19:42:32.381Z"
   },
   {
    "duration": 32,
    "start_time": "2021-10-26T19:42:32.395Z"
   },
   {
    "duration": 40,
    "start_time": "2021-10-26T19:42:32.430Z"
   },
   {
    "duration": 143,
    "start_time": "2021-10-26T19:42:32.473Z"
   },
   {
    "duration": 3,
    "start_time": "2021-10-26T19:42:32.618Z"
   },
   {
    "duration": 20,
    "start_time": "2021-10-26T19:42:32.623Z"
   },
   {
    "duration": 11,
    "start_time": "2021-10-26T19:42:32.658Z"
   },
   {
    "duration": 15,
    "start_time": "2021-10-26T19:42:32.671Z"
   },
   {
    "duration": 8,
    "start_time": "2021-10-26T19:42:32.688Z"
   },
   {
    "duration": 7,
    "start_time": "2021-10-26T19:42:32.698Z"
   },
   {
    "duration": 50,
    "start_time": "2021-10-26T19:42:32.708Z"
   },
   {
    "duration": 10,
    "start_time": "2021-10-26T19:42:32.761Z"
   },
   {
    "duration": 27,
    "start_time": "2021-10-26T19:42:32.774Z"
   },
   {
    "duration": 237,
    "start_time": "2021-10-26T19:42:32.804Z"
   },
   {
    "duration": 26,
    "start_time": "2021-10-26T19:42:33.044Z"
   },
   {
    "duration": 18,
    "start_time": "2021-10-26T19:42:33.073Z"
   },
   {
    "duration": 7,
    "start_time": "2021-10-26T19:42:33.094Z"
   },
   {
    "duration": 52,
    "start_time": "2021-10-26T19:42:33.108Z"
   },
   {
    "duration": 84,
    "start_time": "2021-10-26T19:42:33.164Z"
   },
   {
    "duration": 17,
    "start_time": "2021-10-26T19:42:33.259Z"
   },
   {
    "duration": 18,
    "start_time": "2021-10-26T19:42:33.279Z"
   },
   {
    "duration": 189,
    "start_time": "2021-10-26T19:42:33.299Z"
   },
   {
    "duration": 122333,
    "start_time": "2021-10-26T19:42:33.491Z"
   },
   {
    "duration": 45,
    "start_time": "2021-10-26T19:44:35.827Z"
   },
   {
    "duration": 195800,
    "start_time": "2021-10-26T19:44:35.960Z"
   },
   {
    "duration": 97,
    "start_time": "2021-10-26T19:47:51.763Z"
   },
   {
    "duration": 386,
    "start_time": "2021-10-26T19:47:51.864Z"
   },
   {
    "duration": 1840,
    "start_time": "2021-10-26T19:47:52.257Z"
   },
   {
    "duration": 6,
    "start_time": "2021-10-26T19:47:54.099Z"
   },
   {
    "duration": 88413,
    "start_time": "2021-10-26T19:47:54.107Z"
   },
   {
    "duration": 3,
    "start_time": "2021-10-26T19:49:22.523Z"
   },
   {
    "duration": 11,
    "start_time": "2021-10-26T19:49:22.529Z"
   },
   {
    "duration": 18,
    "start_time": "2021-10-26T19:49:22.543Z"
   },
   {
    "duration": 2430,
    "start_time": "2021-10-26T19:49:22.564Z"
   },
   {
    "duration": 6,
    "start_time": "2021-10-26T19:49:24.997Z"
   },
   {
    "duration": 13,
    "start_time": "2021-10-26T19:49:25.005Z"
   },
   {
    "duration": 750,
    "start_time": "2021-10-26T19:49:25.021Z"
   },
   {
    "duration": 668,
    "start_time": "2021-10-26T19:49:25.773Z"
   },
   {
    "duration": -47,
    "start_time": "2021-10-26T19:49:26.491Z"
   },
   {
    "duration": -49,
    "start_time": "2021-10-26T19:49:26.494Z"
   },
   {
    "duration": 128,
    "start_time": "2021-10-27T04:26:43.258Z"
   },
   {
    "duration": 367,
    "start_time": "2021-10-27T04:27:36.043Z"
   },
   {
    "duration": 1612,
    "start_time": "2021-10-27T04:28:00.709Z"
   },
   {
    "duration": 54,
    "start_time": "2021-10-27T04:28:02.323Z"
   },
   {
    "duration": 14,
    "start_time": "2021-10-27T04:28:02.380Z"
   },
   {
    "duration": 13,
    "start_time": "2021-10-27T04:28:02.398Z"
   },
   {
    "duration": 8,
    "start_time": "2021-10-27T04:28:02.414Z"
   },
   {
    "duration": 1027,
    "start_time": "2021-10-27T04:28:02.425Z"
   },
   {
    "duration": 5,
    "start_time": "2021-10-27T04:28:03.455Z"
   },
   {
    "duration": 19236,
    "start_time": "2021-10-27T04:28:03.462Z"
   },
   {
    "duration": 32,
    "start_time": "2021-10-27T04:28:22.702Z"
   },
   {
    "duration": 44,
    "start_time": "2021-10-27T04:28:22.737Z"
   },
   {
    "duration": 30,
    "start_time": "2021-10-27T04:28:22.784Z"
   },
   {
    "duration": 17,
    "start_time": "2021-10-27T04:28:22.817Z"
   },
   {
    "duration": 146,
    "start_time": "2021-10-27T04:28:22.837Z"
   },
   {
    "duration": 4,
    "start_time": "2021-10-27T04:28:22.986Z"
   },
   {
    "duration": 17,
    "start_time": "2021-10-27T04:28:22.993Z"
   },
   {
    "duration": 11,
    "start_time": "2021-10-27T04:28:23.013Z"
   },
   {
    "duration": 56,
    "start_time": "2021-10-27T04:28:23.027Z"
   },
   {
    "duration": 10,
    "start_time": "2021-10-27T04:28:23.086Z"
   },
   {
    "duration": 8,
    "start_time": "2021-10-27T04:28:23.098Z"
   },
   {
    "duration": 6,
    "start_time": "2021-10-27T04:28:23.109Z"
   },
   {
    "duration": 10,
    "start_time": "2021-10-27T04:28:23.117Z"
   },
   {
    "duration": 64,
    "start_time": "2021-10-27T04:28:23.129Z"
   },
   {
    "duration": 162,
    "start_time": "2021-10-27T04:28:23.195Z"
   },
   {
    "duration": 24,
    "start_time": "2021-10-27T04:28:23.359Z"
   },
   {
    "duration": 15,
    "start_time": "2021-10-27T04:28:23.386Z"
   },
   {
    "duration": 6,
    "start_time": "2021-10-27T04:28:23.403Z"
   },
   {
    "duration": 16,
    "start_time": "2021-10-27T04:28:23.415Z"
   },
   {
    "duration": 91,
    "start_time": "2021-10-27T04:28:23.433Z"
   },
   {
    "duration": 15,
    "start_time": "2021-10-27T04:28:23.527Z"
   },
   {
    "duration": 44,
    "start_time": "2021-10-27T04:28:23.544Z"
   },
   {
    "duration": 120,
    "start_time": "2021-10-27T04:28:23.590Z"
   },
   {
    "duration": 118084,
    "start_time": "2021-10-27T04:28:23.712Z"
   },
   {
    "duration": 87,
    "start_time": "2021-10-27T04:30:21.798Z"
   },
   {
    "duration": 222595,
    "start_time": "2021-10-27T04:30:21.889Z"
   },
   {
    "duration": 101,
    "start_time": "2021-10-27T04:34:04.487Z"
   },
   {
    "duration": 452,
    "start_time": "2021-10-27T04:34:04.592Z"
   },
   {
    "duration": 1844,
    "start_time": "2021-10-27T04:34:05.047Z"
   },
   {
    "duration": 6,
    "start_time": "2021-10-27T04:34:06.893Z"
   },
   {
    "duration": 64047,
    "start_time": "2021-10-27T04:34:06.902Z"
   },
   {
    "duration": 3,
    "start_time": "2021-10-27T04:35:10.952Z"
   },
   {
    "duration": 13,
    "start_time": "2021-10-27T04:35:10.958Z"
   },
   {
    "duration": 6,
    "start_time": "2021-10-27T04:35:10.974Z"
   },
   {
    "duration": 1676,
    "start_time": "2021-10-27T04:35:10.982Z"
   },
   {
    "duration": 5,
    "start_time": "2021-10-27T04:35:12.660Z"
   },
   {
    "duration": 4,
    "start_time": "2021-10-27T04:35:12.683Z"
   },
   {
    "duration": 656,
    "start_time": "2021-10-27T04:35:12.689Z"
   },
   {
    "duration": 519,
    "start_time": "2021-10-27T04:35:13.348Z"
   },
   {
    "duration": -123,
    "start_time": "2021-10-27T04:35:13.992Z"
   },
   {
    "duration": -124,
    "start_time": "2021-10-27T04:35:13.994Z"
   },
   {
    "duration": 1489,
    "start_time": "2021-10-27T06:02:51.399Z"
   },
   {
    "duration": 54,
    "start_time": "2021-10-27T06:02:52.891Z"
   },
   {
    "duration": 11,
    "start_time": "2021-10-27T06:02:52.948Z"
   },
   {
    "duration": 21,
    "start_time": "2021-10-27T06:02:52.962Z"
   },
   {
    "duration": 7,
    "start_time": "2021-10-27T06:02:52.986Z"
   },
   {
    "duration": 965,
    "start_time": "2021-10-27T06:02:52.995Z"
   },
   {
    "duration": 6,
    "start_time": "2021-10-27T06:02:53.963Z"
   },
   {
    "duration": 17350,
    "start_time": "2021-10-27T06:02:53.982Z"
   },
   {
    "duration": 64,
    "start_time": "2021-10-27T06:03:11.338Z"
   },
   {
    "duration": 10,
    "start_time": "2021-10-27T06:03:11.405Z"
   },
   {
    "duration": 34,
    "start_time": "2021-10-27T06:03:11.417Z"
   },
   {
    "duration": 13,
    "start_time": "2021-10-27T06:03:11.483Z"
   },
   {
    "duration": 129,
    "start_time": "2021-10-27T06:03:11.498Z"
   },
   {
    "duration": 3,
    "start_time": "2021-10-27T06:03:11.630Z"
   },
   {
    "duration": 35,
    "start_time": "2021-10-27T06:03:11.635Z"
   },
   {
    "duration": 15,
    "start_time": "2021-10-27T06:03:11.672Z"
   },
   {
    "duration": 16,
    "start_time": "2021-10-27T06:03:11.689Z"
   },
   {
    "duration": 40,
    "start_time": "2021-10-27T06:03:11.708Z"
   },
   {
    "duration": 8,
    "start_time": "2021-10-27T06:03:11.751Z"
   },
   {
    "duration": 5,
    "start_time": "2021-10-27T06:03:11.762Z"
   },
   {
    "duration": 13,
    "start_time": "2021-10-27T06:03:11.770Z"
   },
   {
    "duration": 20,
    "start_time": "2021-10-27T06:03:11.785Z"
   },
   {
    "duration": 178,
    "start_time": "2021-10-27T06:03:11.807Z"
   },
   {
    "duration": 15,
    "start_time": "2021-10-27T06:03:11.988Z"
   },
   {
    "duration": 16,
    "start_time": "2021-10-27T06:03:12.005Z"
   },
   {
    "duration": 5,
    "start_time": "2021-10-27T06:03:12.023Z"
   },
   {
    "duration": 52,
    "start_time": "2021-10-27T06:03:12.034Z"
   },
   {
    "duration": 57,
    "start_time": "2021-10-27T06:03:12.089Z"
   },
   {
    "duration": 35,
    "start_time": "2021-10-27T06:03:12.148Z"
   },
   {
    "duration": 15,
    "start_time": "2021-10-27T06:03:12.185Z"
   },
   {
    "duration": 132,
    "start_time": "2021-10-27T06:03:12.202Z"
   },
   {
    "duration": 115195,
    "start_time": "2021-10-27T06:03:12.337Z"
   },
   {
    "duration": 49,
    "start_time": "2021-10-27T06:05:07.535Z"
   },
   {
    "duration": 225142,
    "start_time": "2021-10-27T06:05:07.588Z"
   },
   {
    "duration": 151,
    "start_time": "2021-10-27T06:08:52.733Z"
   },
   {
    "duration": 441,
    "start_time": "2021-10-27T06:08:52.887Z"
   },
   {
    "duration": 1834,
    "start_time": "2021-10-27T06:08:53.330Z"
   },
   {
    "duration": 15,
    "start_time": "2021-10-27T06:08:55.167Z"
   },
   {
    "duration": 66252,
    "start_time": "2021-10-27T06:08:55.185Z"
   },
   {
    "duration": 3,
    "start_time": "2021-10-27T06:10:01.440Z"
   },
   {
    "duration": 21,
    "start_time": "2021-10-27T06:10:01.445Z"
   },
   {
    "duration": 26,
    "start_time": "2021-10-27T06:10:01.468Z"
   },
   {
    "duration": 1761,
    "start_time": "2021-10-27T06:10:01.497Z"
   },
   {
    "duration": 6,
    "start_time": "2021-10-27T06:10:03.260Z"
   },
   {
    "duration": 5,
    "start_time": "2021-10-27T06:10:03.283Z"
   },
   {
    "duration": 665,
    "start_time": "2021-10-27T06:10:03.290Z"
   },
   {
    "duration": 562,
    "start_time": "2021-10-27T06:10:03.957Z"
   },
   {
    "duration": -46,
    "start_time": "2021-10-27T06:10:04.567Z"
   },
   {
    "duration": -46,
    "start_time": "2021-10-27T06:10:04.569Z"
   },
   {
    "duration": 2220,
    "start_time": "2021-10-27T06:11:16.476Z"
   },
   {
    "duration": 1169,
    "start_time": "2021-10-27T06:11:18.698Z"
   },
   {
    "duration": 104,
    "start_time": "2021-10-27T06:12:13.020Z"
   },
   {
    "duration": 859,
    "start_time": "2021-10-27T06:12:16.268Z"
   },
   {
    "duration": 3,
    "start_time": "2021-10-27T06:13:26.071Z"
   },
   {
    "duration": 352,
    "start_time": "2021-10-27T07:07:10.591Z"
   },
   {
    "duration": 646,
    "start_time": "2021-10-27T07:07:43.695Z"
   },
   {
    "duration": 6,
    "start_time": "2021-10-27T07:08:15.967Z"
   },
   {
    "duration": 581,
    "start_time": "2021-10-27T07:10:46.808Z"
   },
   {
    "duration": 85657,
    "start_time": "2021-10-27T07:15:15.051Z"
   },
   {
    "duration": 686,
    "start_time": "2021-10-27T07:17:51.350Z"
   },
   {
    "duration": 581,
    "start_time": "2021-10-27T07:19:35.262Z"
   },
   {
    "duration": 536,
    "start_time": "2021-10-27T07:20:18.559Z"
   },
   {
    "duration": 292777,
    "start_time": "2021-10-27T07:21:09.124Z"
   },
   {
    "duration": 571,
    "start_time": "2021-10-27T07:26:01.905Z"
   },
   {
    "duration": 1211,
    "start_time": "2021-10-27T07:56:59.060Z"
   },
   {
    "duration": 671,
    "start_time": "2021-10-27T08:25:53.669Z"
   },
   {
    "duration": 107,
    "start_time": "2021-10-27T08:29:06.511Z"
   },
   {
    "duration": 600,
    "start_time": "2021-10-27T08:29:31.223Z"
   },
   {
    "duration": 932,
    "start_time": "2021-10-27T08:29:49.476Z"
   },
   {
    "duration": 1057,
    "start_time": "2021-10-27T08:30:22.258Z"
   },
   {
    "duration": 1638,
    "start_time": "2021-10-27T08:30:36.851Z"
   },
   {
    "duration": 1347,
    "start_time": "2021-10-27T08:31:09.475Z"
   },
   {
    "duration": 1296,
    "start_time": "2021-10-27T08:31:53.664Z"
   },
   {
    "duration": 1230,
    "start_time": "2021-10-27T08:32:03.495Z"
   },
   {
    "duration": 2189,
    "start_time": "2021-10-27T08:41:09.400Z"
   },
   {
    "duration": 1672,
    "start_time": "2021-10-27T08:41:18.717Z"
   },
   {
    "duration": 1542,
    "start_time": "2021-10-27T09:08:25.779Z"
   },
   {
    "duration": 1321,
    "start_time": "2021-10-27T09:08:44.062Z"
   },
   {
    "duration": 1188,
    "start_time": "2021-10-27T09:08:54.725Z"
   },
   {
    "duration": 1212,
    "start_time": "2021-10-27T09:24:57.134Z"
   },
   {
    "duration": 1263,
    "start_time": "2021-10-27T09:25:46.601Z"
   },
   {
    "duration": 2945,
    "start_time": "2021-10-27T09:25:58.503Z"
   },
   {
    "duration": 1735,
    "start_time": "2021-10-27T09:26:30.411Z"
   },
   {
    "duration": 386,
    "start_time": "2021-10-27T09:33:12.185Z"
   },
   {
    "duration": 11,
    "start_time": "2021-10-27T09:33:49.245Z"
   },
   {
    "duration": 256,
    "start_time": "2021-10-27T09:34:07.317Z"
   },
   {
    "duration": 673,
    "start_time": "2021-10-27T09:35:40.771Z"
   },
   {
    "duration": 679,
    "start_time": "2021-10-27T09:36:10.132Z"
   },
   {
    "duration": 1708,
    "start_time": "2021-10-27T09:36:42.381Z"
   },
   {
    "duration": 55,
    "start_time": "2021-10-27T09:36:44.092Z"
   },
   {
    "duration": 13,
    "start_time": "2021-10-27T09:36:44.151Z"
   },
   {
    "duration": 21,
    "start_time": "2021-10-27T09:36:44.167Z"
   },
   {
    "duration": 6,
    "start_time": "2021-10-27T09:36:44.191Z"
   },
   {
    "duration": 1012,
    "start_time": "2021-10-27T09:36:44.199Z"
   },
   {
    "duration": 7,
    "start_time": "2021-10-27T09:36:45.214Z"
   },
   {
    "duration": 18564,
    "start_time": "2021-10-27T09:36:45.223Z"
   },
   {
    "duration": 35,
    "start_time": "2021-10-27T09:37:03.791Z"
   },
   {
    "duration": 9,
    "start_time": "2021-10-27T09:37:03.830Z"
   },
   {
    "duration": 40,
    "start_time": "2021-10-27T09:37:03.882Z"
   },
   {
    "duration": 14,
    "start_time": "2021-10-27T09:37:03.925Z"
   },
   {
    "duration": 141,
    "start_time": "2021-10-27T09:37:03.942Z"
   },
   {
    "duration": 3,
    "start_time": "2021-10-27T09:37:04.086Z"
   },
   {
    "duration": 24,
    "start_time": "2021-10-27T09:37:04.091Z"
   },
   {
    "duration": 11,
    "start_time": "2021-10-27T09:37:04.117Z"
   },
   {
    "duration": 15,
    "start_time": "2021-10-27T09:37:04.131Z"
   },
   {
    "duration": 39,
    "start_time": "2021-10-27T09:37:04.148Z"
   },
   {
    "duration": 276,
    "start_time": "2021-10-27T09:37:04.189Z"
   },
   {
    "duration": 16,
    "start_time": "2021-10-27T09:37:04.467Z"
   },
   {
    "duration": 5,
    "start_time": "2021-10-27T09:37:04.485Z"
   },
   {
    "duration": 12,
    "start_time": "2021-10-27T09:37:04.492Z"
   },
   {
    "duration": 18,
    "start_time": "2021-10-27T09:37:04.507Z"
   },
   {
    "duration": 195,
    "start_time": "2021-10-27T09:37:04.527Z"
   },
   {
    "duration": 14,
    "start_time": "2021-10-27T09:37:04.724Z"
   },
   {
    "duration": 46,
    "start_time": "2021-10-27T09:37:04.741Z"
   },
   {
    "duration": 292,
    "start_time": "2021-10-27T09:37:04.795Z"
   },
   {
    "duration": 5,
    "start_time": "2021-10-27T09:37:05.091Z"
   },
   {
    "duration": 23,
    "start_time": "2021-10-27T09:37:05.099Z"
   },
   {
    "duration": 79,
    "start_time": "2021-10-27T09:37:05.124Z"
   },
   {
    "duration": 15,
    "start_time": "2021-10-27T09:37:05.205Z"
   },
   {
    "duration": 14,
    "start_time": "2021-10-27T09:37:05.222Z"
   },
   {
    "duration": 305,
    "start_time": "2021-10-27T09:37:05.238Z"
   },
   {
    "duration": 132,
    "start_time": "2021-10-27T09:37:05.546Z"
   },
   {
    "duration": 128178,
    "start_time": "2021-10-27T09:37:05.682Z"
   },
   {
    "duration": 104053,
    "start_time": "2021-10-27T09:39:13.862Z"
   },
   {
    "duration": 68,
    "start_time": "2021-10-27T09:40:57.917Z"
   },
   {
    "duration": 229744,
    "start_time": "2021-10-27T09:40:57.988Z"
   },
   {
    "duration": 67,
    "start_time": "2021-10-27T09:44:47.734Z"
   },
   {
    "duration": 441,
    "start_time": "2021-10-27T09:44:47.804Z"
   },
   {
    "duration": 498,
    "start_time": "2021-10-27T09:44:48.248Z"
   },
   {
    "duration": 1840,
    "start_time": "2021-10-27T09:44:48.748Z"
   },
   {
    "duration": 6,
    "start_time": "2021-10-27T09:44:50.591Z"
   },
   {
    "duration": 290771,
    "start_time": "2021-10-27T09:44:50.599Z"
   },
   {
    "duration": 596,
    "start_time": "2021-10-27T09:49:41.373Z"
   },
   {
    "duration": 4,
    "start_time": "2021-10-27T09:49:41.971Z"
   },
   {
    "duration": 6,
    "start_time": "2021-10-27T09:49:41.983Z"
   },
   {
    "duration": 1812,
    "start_time": "2021-10-27T09:49:41.992Z"
   },
   {
    "duration": 6,
    "start_time": "2021-10-27T09:49:43.807Z"
   },
   {
    "duration": 6,
    "start_time": "2021-10-27T09:49:43.816Z"
   },
   {
    "duration": 1124,
    "start_time": "2021-10-27T09:49:43.825Z"
   },
   {
    "duration": 4,
    "start_time": "2021-10-27T09:49:44.952Z"
   },
   {
    "duration": 9024,
    "start_time": "2021-10-27T09:49:44.959Z"
   },
   {
    "duration": 1245,
    "start_time": "2021-10-27T09:49:53.986Z"
   },
   {
    "duration": 558,
    "start_time": "2021-10-27T09:49:55.233Z"
   },
   {
    "duration": 333,
    "start_time": "2021-10-27T14:05:04.349Z"
   },
   {
    "duration": 313,
    "start_time": "2021-10-27T14:06:38.172Z"
   },
   {
    "duration": 389,
    "start_time": "2021-10-27T14:06:43.732Z"
   },
   {
    "duration": 309,
    "start_time": "2021-10-27T14:07:03.672Z"
   },
   {
    "duration": 436,
    "start_time": "2021-10-27T14:07:20.540Z"
   },
   {
    "duration": 326,
    "start_time": "2021-10-27T14:07:29.701Z"
   },
   {
    "duration": 324,
    "start_time": "2021-10-27T14:07:39.837Z"
   },
   {
    "duration": 571,
    "start_time": "2021-10-27T14:07:58.988Z"
   },
   {
    "duration": 480,
    "start_time": "2021-10-27T14:08:23.675Z"
   },
   {
    "duration": 437,
    "start_time": "2021-10-27T14:08:46.096Z"
   },
   {
    "duration": 474,
    "start_time": "2021-10-27T14:11:46.435Z"
   },
   {
    "duration": 54959,
    "start_time": "2021-10-27T14:13:18.976Z"
   },
   {
    "duration": 25735,
    "start_time": "2021-10-27T14:15:02.364Z"
   },
   {
    "duration": 12,
    "start_time": "2021-10-27T14:19:54.050Z"
   },
   {
    "duration": 18,
    "start_time": "2021-10-27T14:20:25.778Z"
   },
   {
    "duration": 28,
    "start_time": "2021-10-27T14:25:42.081Z"
   },
   {
    "duration": 181,
    "start_time": "2021-10-27T14:26:37.809Z"
   },
   {
    "duration": 316,
    "start_time": "2021-10-27T14:27:51.528Z"
   },
   {
    "duration": 15,
    "start_time": "2021-10-27T14:28:04.576Z"
   },
   {
    "duration": 17,
    "start_time": "2021-10-27T14:28:16.073Z"
   },
   {
    "duration": 209,
    "start_time": "2021-10-27T14:28:28.375Z"
   },
   {
    "duration": 193,
    "start_time": "2021-10-27T14:28:40.097Z"
   },
   {
    "duration": 157,
    "start_time": "2021-10-27T14:28:47.729Z"
   },
   {
    "duration": 192,
    "start_time": "2021-10-27T14:28:55.104Z"
   },
   {
    "duration": 198,
    "start_time": "2021-10-27T14:28:59.294Z"
   },
   {
    "duration": 1511,
    "start_time": "2021-10-27T16:13:13.532Z"
   },
   {
    "duration": 182,
    "start_time": "2021-10-27T16:13:15.045Z"
   },
   {
    "duration": 12,
    "start_time": "2021-10-27T16:13:15.230Z"
   },
   {
    "duration": 9,
    "start_time": "2021-10-27T16:13:15.245Z"
   },
   {
    "duration": 5,
    "start_time": "2021-10-27T16:13:15.257Z"
   },
   {
    "duration": 977,
    "start_time": "2021-10-27T16:13:15.264Z"
   },
   {
    "duration": 6,
    "start_time": "2021-10-27T16:13:16.244Z"
   },
   {
    "duration": 17717,
    "start_time": "2021-10-27T16:13:16.252Z"
   },
   {
    "duration": 41,
    "start_time": "2021-10-27T16:13:33.973Z"
   },
   {
    "duration": 9,
    "start_time": "2021-10-27T16:13:34.018Z"
   },
   {
    "duration": 60,
    "start_time": "2021-10-27T16:13:34.030Z"
   },
   {
    "duration": 12,
    "start_time": "2021-10-27T16:13:34.093Z"
   },
   {
    "duration": 132,
    "start_time": "2021-10-27T16:13:34.108Z"
   },
   {
    "duration": 15,
    "start_time": "2021-10-27T16:13:34.242Z"
   },
   {
    "duration": 27,
    "start_time": "2021-10-27T16:13:34.259Z"
   },
   {
    "duration": 15,
    "start_time": "2021-10-27T16:13:34.288Z"
   },
   {
    "duration": 7,
    "start_time": "2021-10-27T16:13:34.305Z"
   },
   {
    "duration": 390,
    "start_time": "2021-10-27T16:13:34.314Z"
   },
   {
    "duration": 386,
    "start_time": "2021-10-27T16:13:34.706Z"
   },
   {
    "duration": 8,
    "start_time": "2021-10-27T16:13:35.094Z"
   },
   {
    "duration": 6,
    "start_time": "2021-10-27T16:13:35.104Z"
   },
   {
    "duration": 11,
    "start_time": "2021-10-27T16:13:35.112Z"
   },
   {
    "duration": 22,
    "start_time": "2021-10-27T16:13:35.125Z"
   },
   {
    "duration": 186,
    "start_time": "2021-10-27T16:13:35.149Z"
   },
   {
    "duration": 14,
    "start_time": "2021-10-27T16:13:35.338Z"
   },
   {
    "duration": 32,
    "start_time": "2021-10-27T16:13:35.354Z"
   },
   {
    "duration": 274,
    "start_time": "2021-10-27T16:13:35.392Z"
   },
   {
    "duration": 12,
    "start_time": "2021-10-27T16:13:35.670Z"
   },
   {
    "duration": 21,
    "start_time": "2021-10-27T16:13:35.685Z"
   },
   {
    "duration": 81,
    "start_time": "2021-10-27T16:13:35.709Z"
   },
   {
    "duration": 16,
    "start_time": "2021-10-27T16:13:35.793Z"
   },
   {
    "duration": 17,
    "start_time": "2021-10-27T16:13:35.812Z"
   },
   {
    "duration": 304,
    "start_time": "2021-10-27T16:13:35.832Z"
   },
   {
    "duration": 137,
    "start_time": "2021-10-27T16:13:36.139Z"
   },
   {
    "duration": 116935,
    "start_time": "2021-10-27T16:13:36.283Z"
   },
   {
    "duration": 308,
    "start_time": "2021-10-27T16:15:33.222Z"
   },
   {
    "duration": 349,
    "start_time": "2021-10-27T16:15:33.533Z"
   },
   {
    "duration": 101,
    "start_time": "2021-10-27T16:15:33.884Z"
   },
   {
    "duration": 218097,
    "start_time": "2021-10-27T16:15:33.988Z"
   },
   {
    "duration": 196,
    "start_time": "2021-10-27T16:19:12.088Z"
   },
   {
    "duration": 431,
    "start_time": "2021-10-27T16:19:12.288Z"
   },
   {
    "duration": 412,
    "start_time": "2021-10-27T16:19:12.721Z"
   },
   {
    "duration": 383,
    "start_time": "2021-10-27T16:19:13.136Z"
   },
   {
    "duration": 1927,
    "start_time": "2021-10-27T16:19:13.522Z"
   },
   {
    "duration": 5,
    "start_time": "2021-10-27T16:19:15.452Z"
   },
   {
    "duration": 276976,
    "start_time": "2021-10-27T16:19:15.459Z"
   },
   {
    "duration": 576,
    "start_time": "2021-10-27T16:23:52.439Z"
   },
   {
    "duration": 432,
    "start_time": "2021-10-27T16:23:53.017Z"
   },
   {
    "duration": 307,
    "start_time": "2021-10-27T16:23:53.451Z"
   },
   {
    "duration": 23852,
    "start_time": "2021-10-27T16:23:53.760Z"
   },
   {
    "duration": 17,
    "start_time": "2021-10-27T16:24:17.614Z"
   },
   {
    "duration": 252,
    "start_time": "2021-10-27T16:24:17.633Z"
   },
   {
    "duration": 7922,
    "start_time": "2021-10-27T16:24:17.889Z"
   },
   {
    "duration": 657,
    "start_time": "2021-10-27T16:24:25.814Z"
   },
   {
    "duration": 9,
    "start_time": "2021-10-27T16:24:26.473Z"
   },
   {
    "duration": 9439,
    "start_time": "2021-10-27T16:24:26.484Z"
   },
   {
    "duration": 1190,
    "start_time": "2021-10-27T16:24:35.926Z"
   },
   {
    "duration": 518,
    "start_time": "2021-10-27T16:24:37.119Z"
   },
   {
    "duration": 271,
    "start_time": "2021-10-27T18:10:36.653Z"
   },
   {
    "duration": 847,
    "start_time": "2021-10-27T18:10:48.311Z"
   },
   {
    "duration": 461,
    "start_time": "2021-10-27T18:13:55.960Z"
   },
   {
    "duration": 421,
    "start_time": "2021-10-27T18:15:16.221Z"
   },
   {
    "duration": 436,
    "start_time": "2021-10-27T18:15:24.564Z"
   },
   {
    "duration": 548,
    "start_time": "2021-10-27T18:16:28.187Z"
   },
   {
    "duration": 392,
    "start_time": "2021-10-27T18:17:00.587Z"
   },
   {
    "duration": 391,
    "start_time": "2021-10-27T18:17:40.850Z"
   },
   {
    "duration": 385,
    "start_time": "2021-10-27T18:17:52.762Z"
   },
   {
    "duration": 377,
    "start_time": "2021-10-27T18:18:58.937Z"
   },
   {
    "duration": 345,
    "start_time": "2021-10-27T18:45:17.979Z"
   },
   {
    "duration": 197,
    "start_time": "2021-10-27T18:49:20.576Z"
   },
   {
    "duration": 117,
    "start_time": "2021-10-27T18:54:16.370Z"
   },
   {
    "duration": 300,
    "start_time": "2021-10-27T18:58:01.286Z"
   },
   {
    "duration": 337,
    "start_time": "2021-10-27T18:59:22.749Z"
   },
   {
    "duration": 2581,
    "start_time": "2021-10-27T19:00:45.882Z"
   },
   {
    "duration": 139,
    "start_time": "2021-10-27T19:02:00.010Z"
   },
   {
    "duration": 270,
    "start_time": "2021-10-27T19:02:04.211Z"
   },
   {
    "duration": 2000,
    "start_time": "2021-10-27T19:02:07.182Z"
   },
   {
    "duration": 1105,
    "start_time": "2021-10-27T19:16:37.335Z"
   },
   {
    "duration": 998,
    "start_time": "2021-10-27T19:23:20.421Z"
   },
   {
    "duration": 1884,
    "start_time": "2021-10-27T19:23:22.812Z"
   },
   {
    "duration": 2370,
    "start_time": "2021-10-27T19:57:55.512Z"
   },
   {
    "duration": 101,
    "start_time": "2021-10-27T20:00:00.871Z"
   },
   {
    "duration": 101,
    "start_time": "2021-10-27T20:00:14.601Z"
   },
   {
    "duration": 526,
    "start_time": "2021-10-27T20:00:19.780Z"
   },
   {
    "duration": 1558,
    "start_time": "2021-10-27T20:00:28.242Z"
   },
   {
    "duration": 55,
    "start_time": "2021-10-27T20:00:29.802Z"
   },
   {
    "duration": 23,
    "start_time": "2021-10-27T20:00:29.859Z"
   },
   {
    "duration": 8,
    "start_time": "2021-10-27T20:00:29.885Z"
   },
   {
    "duration": 6,
    "start_time": "2021-10-27T20:00:29.896Z"
   },
   {
    "duration": 978,
    "start_time": "2021-10-27T20:00:29.904Z"
   },
   {
    "duration": 6,
    "start_time": "2021-10-27T20:00:30.884Z"
   },
   {
    "duration": 17498,
    "start_time": "2021-10-27T20:00:30.893Z"
   },
   {
    "duration": 36,
    "start_time": "2021-10-27T20:00:48.394Z"
   },
   {
    "duration": 52,
    "start_time": "2021-10-27T20:00:48.433Z"
   },
   {
    "duration": 30,
    "start_time": "2021-10-27T20:00:48.488Z"
   },
   {
    "duration": 12,
    "start_time": "2021-10-27T20:00:48.521Z"
   },
   {
    "duration": 140,
    "start_time": "2021-10-27T20:00:48.535Z"
   },
   {
    "duration": 14,
    "start_time": "2021-10-27T20:00:48.681Z"
   },
   {
    "duration": 10,
    "start_time": "2021-10-27T20:00:48.697Z"
   },
   {
    "duration": 14,
    "start_time": "2021-10-27T20:00:48.710Z"
   },
   {
    "duration": 7,
    "start_time": "2021-10-27T20:00:48.727Z"
   },
   {
    "duration": 335,
    "start_time": "2021-10-27T20:00:48.736Z"
   },
   {
    "duration": 290,
    "start_time": "2021-10-27T20:00:49.073Z"
   },
   {
    "duration": 17,
    "start_time": "2021-10-27T20:00:49.366Z"
   },
   {
    "duration": 9,
    "start_time": "2021-10-27T20:00:49.386Z"
   },
   {
    "duration": 12,
    "start_time": "2021-10-27T20:00:49.402Z"
   },
   {
    "duration": 18,
    "start_time": "2021-10-27T20:00:49.419Z"
   },
   {
    "duration": 203,
    "start_time": "2021-10-27T20:00:49.440Z"
   },
   {
    "duration": 15,
    "start_time": "2021-10-27T20:00:49.645Z"
   },
   {
    "duration": 30,
    "start_time": "2021-10-27T20:00:49.663Z"
   },
   {
    "duration": 277,
    "start_time": "2021-10-27T20:00:49.695Z"
   },
   {
    "duration": 11,
    "start_time": "2021-10-27T20:00:49.975Z"
   },
   {
    "duration": 20,
    "start_time": "2021-10-27T20:00:49.988Z"
   },
   {
    "duration": 76,
    "start_time": "2021-10-27T20:00:50.010Z"
   },
   {
    "duration": 15,
    "start_time": "2021-10-27T20:00:50.088Z"
   },
   {
    "duration": 15,
    "start_time": "2021-10-27T20:00:50.105Z"
   },
   {
    "duration": 304,
    "start_time": "2021-10-27T20:00:50.122Z"
   },
   {
    "duration": 127,
    "start_time": "2021-10-27T20:00:50.428Z"
   },
   {
    "duration": 119396,
    "start_time": "2021-10-27T20:00:50.558Z"
   },
   {
    "duration": 312,
    "start_time": "2021-10-27T20:02:49.956Z"
   },
   {
    "duration": 336,
    "start_time": "2021-10-27T20:02:50.271Z"
   },
   {
    "duration": 172,
    "start_time": "2021-10-27T20:02:50.610Z"
   },
   {
    "duration": 225046,
    "start_time": "2021-10-27T20:02:50.785Z"
   },
   {
    "duration": 402,
    "start_time": "2021-10-27T20:06:35.834Z"
   },
   {
    "duration": 398,
    "start_time": "2021-10-27T20:06:36.239Z"
   },
   {
    "duration": 437,
    "start_time": "2021-10-27T20:06:36.640Z"
   },
   {
    "duration": 1119,
    "start_time": "2021-10-27T20:06:37.080Z"
   },
   {
    "duration": 1939,
    "start_time": "2021-10-27T20:06:38.202Z"
   },
   {
    "duration": 275649,
    "start_time": "2021-10-27T20:06:40.144Z"
   },
   {
    "duration": 566,
    "start_time": "2021-10-27T20:11:15.796Z"
   },
   {
    "duration": 442,
    "start_time": "2021-10-27T20:11:16.365Z"
   },
   {
    "duration": 310,
    "start_time": "2021-10-27T20:11:16.810Z"
   },
   {
    "duration": 23880,
    "start_time": "2021-10-27T20:11:17.123Z"
   },
   {
    "duration": 557,
    "start_time": "2021-10-27T20:11:41.006Z"
   },
   {
    "duration": 602,
    "start_time": "2021-10-27T20:11:41.565Z"
   },
   {
    "duration": 147,
    "start_time": "2021-10-27T20:11:42.170Z"
   },
   {
    "duration": 388,
    "start_time": "2021-10-27T20:11:42.319Z"
   },
   {
    "duration": 277,
    "start_time": "2021-10-27T20:11:42.710Z"
   },
   {
    "duration": 294,
    "start_time": "2021-10-27T20:11:42.990Z"
   },
   {
    "duration": 95,
    "start_time": "2021-10-27T20:11:43.288Z"
   },
   {
    "duration": -68,
    "start_time": "2021-10-27T20:11:43.454Z"
   },
   {
    "duration": 1707,
    "start_time": "2021-10-28T14:53:01.278Z"
   },
   {
    "duration": 55,
    "start_time": "2021-10-28T14:53:02.988Z"
   },
   {
    "duration": 13,
    "start_time": "2021-10-28T14:53:03.046Z"
   },
   {
    "duration": 10,
    "start_time": "2021-10-28T14:53:03.061Z"
   },
   {
    "duration": 6,
    "start_time": "2021-10-28T14:53:03.073Z"
   },
   {
    "duration": 7,
    "start_time": "2021-10-28T14:53:14.645Z"
   },
   {
    "duration": 9,
    "start_time": "2021-10-28T14:53:25.810Z"
   },
   {
    "duration": 2381,
    "start_time": "2021-10-28T18:05:00.596Z"
   },
   {
    "duration": 105,
    "start_time": "2021-10-28T18:05:02.979Z"
   },
   {
    "duration": 13,
    "start_time": "2021-10-28T18:05:03.087Z"
   },
   {
    "duration": 14,
    "start_time": "2021-10-28T18:05:03.103Z"
   },
   {
    "duration": 4,
    "start_time": "2021-10-28T18:05:03.176Z"
   },
   {
    "duration": 1426,
    "start_time": "2021-10-28T18:05:03.182Z"
   },
   {
    "duration": 5,
    "start_time": "2021-10-28T18:05:04.610Z"
   },
   {
    "duration": 26188,
    "start_time": "2021-10-28T18:05:04.617Z"
   },
   {
    "duration": 85,
    "start_time": "2021-10-28T18:05:30.809Z"
   },
   {
    "duration": 7,
    "start_time": "2021-10-28T18:05:30.897Z"
   },
   {
    "duration": 87,
    "start_time": "2021-10-28T18:05:30.906Z"
   },
   {
    "duration": 9,
    "start_time": "2021-10-28T18:05:30.995Z"
   },
   {
    "duration": 190,
    "start_time": "2021-10-28T18:05:31.006Z"
   },
   {
    "duration": 11,
    "start_time": "2021-10-28T18:05:31.198Z"
   },
   {
    "duration": 69,
    "start_time": "2021-10-28T18:05:31.211Z"
   },
   {
    "duration": 11,
    "start_time": "2021-10-28T18:05:31.282Z"
   },
   {
    "duration": 7,
    "start_time": "2021-10-28T18:05:31.295Z"
   },
   {
    "duration": 378,
    "start_time": "2021-10-28T18:05:31.304Z"
   },
   {
    "duration": 327,
    "start_time": "2021-10-28T18:05:31.685Z"
   },
   {
    "duration": 63,
    "start_time": "2021-10-28T18:05:32.014Z"
   },
   {
    "duration": 4,
    "start_time": "2021-10-28T18:05:32.079Z"
   },
   {
    "duration": 8,
    "start_time": "2021-10-28T18:05:32.086Z"
   },
   {
    "duration": 15,
    "start_time": "2021-10-28T18:05:32.096Z"
   },
   {
    "duration": 274,
    "start_time": "2021-10-28T18:05:32.112Z"
   },
   {
    "duration": 13,
    "start_time": "2021-10-28T18:05:32.388Z"
   },
   {
    "duration": 77,
    "start_time": "2021-10-28T18:05:32.404Z"
   },
   {
    "duration": 325,
    "start_time": "2021-10-28T18:05:32.485Z"
   },
   {
    "duration": 4,
    "start_time": "2021-10-28T18:05:32.812Z"
   },
   {
    "duration": 68,
    "start_time": "2021-10-28T18:05:32.818Z"
   },
   {
    "duration": 96,
    "start_time": "2021-10-28T18:05:32.887Z"
   },
   {
    "duration": 10,
    "start_time": "2021-10-28T18:05:32.985Z"
   },
   {
    "duration": 11,
    "start_time": "2021-10-28T18:05:32.997Z"
   },
   {
    "duration": 383,
    "start_time": "2021-10-28T18:05:33.010Z"
   },
   {
    "duration": 189,
    "start_time": "2021-10-28T18:05:33.395Z"
   },
   {
    "duration": 81437,
    "start_time": "2021-10-28T18:05:33.586Z"
   },
   {
    "duration": 203,
    "start_time": "2021-10-28T18:06:55.026Z"
   },
   {
    "duration": 219,
    "start_time": "2021-10-28T18:06:55.231Z"
   },
   {
    "duration": 32,
    "start_time": "2021-10-28T18:06:55.452Z"
   },
   {
    "duration": 191401,
    "start_time": "2021-10-28T18:06:55.576Z"
   },
   {
    "duration": 399,
    "start_time": "2021-10-28T18:10:06.979Z"
   },
   {
    "duration": 354,
    "start_time": "2021-10-28T18:10:07.380Z"
   },
   {
    "duration": 295,
    "start_time": "2021-10-28T18:10:07.736Z"
   },
   {
    "duration": 702,
    "start_time": "2021-10-28T18:10:08.034Z"
   },
   {
    "duration": 1240,
    "start_time": "2021-10-28T18:10:08.738Z"
   },
   {
    "duration": 187586,
    "start_time": "2021-10-28T18:10:09.980Z"
   },
   {
    "duration": 401,
    "start_time": "2021-10-28T18:13:17.568Z"
   },
   {
    "duration": 282,
    "start_time": "2021-10-28T18:13:17.971Z"
   },
   {
    "duration": 207,
    "start_time": "2021-10-28T18:13:18.256Z"
   },
   {
    "duration": 16716,
    "start_time": "2021-10-28T18:13:18.465Z"
   },
   {
    "duration": 425,
    "start_time": "2021-10-28T18:13:35.183Z"
   },
   {
    "duration": 269,
    "start_time": "2021-10-28T18:13:35.609Z"
   },
   {
    "duration": 142,
    "start_time": "2021-10-28T18:13:35.880Z"
   },
   {
    "duration": 281,
    "start_time": "2021-10-28T18:13:36.024Z"
   },
   {
    "duration": 170,
    "start_time": "2021-10-28T18:13:36.308Z"
   },
   {
    "duration": 205,
    "start_time": "2021-10-28T18:13:36.480Z"
   },
   {
    "duration": 191,
    "start_time": "2021-10-28T18:13:36.687Z"
   },
   {
    "duration": -149,
    "start_time": "2021-10-28T18:13:37.029Z"
   },
   {
    "duration": 364,
    "start_time": "2021-10-29T07:14:35.338Z"
   },
   {
    "duration": 1352,
    "start_time": "2021-10-29T07:14:41.853Z"
   },
   {
    "duration": 41,
    "start_time": "2021-10-29T07:14:43.207Z"
   },
   {
    "duration": 8,
    "start_time": "2021-10-29T07:14:43.250Z"
   },
   {
    "duration": 18,
    "start_time": "2021-10-29T07:14:43.260Z"
   },
   {
    "duration": 4,
    "start_time": "2021-10-29T07:14:43.279Z"
   },
   {
    "duration": 585,
    "start_time": "2021-10-29T07:14:43.285Z"
   },
   {
    "duration": 4,
    "start_time": "2021-10-29T07:14:43.877Z"
   },
   {
    "duration": 11396,
    "start_time": "2021-10-29T07:14:43.884Z"
   },
   {
    "duration": 21,
    "start_time": "2021-10-29T07:14:55.282Z"
   },
   {
    "duration": 8,
    "start_time": "2021-10-29T07:14:55.305Z"
   },
   {
    "duration": 20,
    "start_time": "2021-10-29T07:14:55.315Z"
   },
   {
    "duration": 47,
    "start_time": "2021-10-29T07:14:55.337Z"
   },
   {
    "duration": 97,
    "start_time": "2021-10-29T07:14:55.386Z"
   },
   {
    "duration": 12,
    "start_time": "2021-10-29T07:14:55.485Z"
   },
   {
    "duration": 8,
    "start_time": "2021-10-29T07:14:55.499Z"
   },
   {
    "duration": 12,
    "start_time": "2021-10-29T07:14:55.508Z"
   },
   {
    "duration": 6,
    "start_time": "2021-10-29T07:14:55.521Z"
   },
   {
    "duration": 200,
    "start_time": "2021-10-29T07:14:55.529Z"
   },
   {
    "duration": 181,
    "start_time": "2021-10-29T07:14:55.731Z"
   },
   {
    "duration": 5,
    "start_time": "2021-10-29T07:14:55.914Z"
   },
   {
    "duration": 13,
    "start_time": "2021-10-29T07:14:55.921Z"
   },
   {
    "duration": 13,
    "start_time": "2021-10-29T07:14:55.935Z"
   },
   {
    "duration": 25,
    "start_time": "2021-10-29T07:14:55.952Z"
   },
   {
    "duration": 111,
    "start_time": "2021-10-29T07:14:55.979Z"
   },
   {
    "duration": 11,
    "start_time": "2021-10-29T07:14:56.092Z"
   },
   {
    "duration": 11,
    "start_time": "2021-10-29T07:14:56.105Z"
   },
   {
    "duration": 195,
    "start_time": "2021-10-29T07:14:56.117Z"
   },
   {
    "duration": 4,
    "start_time": "2021-10-29T07:14:56.314Z"
   },
   {
    "duration": 16,
    "start_time": "2021-10-29T07:14:56.319Z"
   },
   {
    "duration": 54,
    "start_time": "2021-10-29T07:14:56.337Z"
   },
   {
    "duration": 11,
    "start_time": "2021-10-29T07:14:56.392Z"
   },
   {
    "duration": 11,
    "start_time": "2021-10-29T07:14:56.404Z"
   },
   {
    "duration": 182,
    "start_time": "2021-10-29T07:14:56.417Z"
   },
   {
    "duration": 88,
    "start_time": "2021-10-29T07:14:56.601Z"
   },
   {
    "duration": 81015,
    "start_time": "2021-10-29T07:14:56.690Z"
   },
   {
    "duration": 193,
    "start_time": "2021-10-29T07:16:17.707Z"
   },
   {
    "duration": 215,
    "start_time": "2021-10-29T07:16:17.902Z"
   },
   {
    "duration": 63,
    "start_time": "2021-10-29T07:16:18.118Z"
   },
   {
    "duration": 192497,
    "start_time": "2021-10-29T07:16:18.184Z"
   },
   {
    "duration": 376,
    "start_time": "2021-10-29T07:19:30.683Z"
   },
   {
    "duration": 352,
    "start_time": "2021-10-29T07:19:31.076Z"
   },
   {
    "duration": 295,
    "start_time": "2021-10-29T07:19:31.429Z"
   },
   {
    "duration": 699,
    "start_time": "2021-10-29T07:19:31.726Z"
   },
   {
    "duration": 1244,
    "start_time": "2021-10-29T07:19:32.427Z"
   },
   {
    "duration": 186946,
    "start_time": "2021-10-29T07:19:33.673Z"
   },
   {
    "duration": 425,
    "start_time": "2021-10-29T07:22:40.621Z"
   },
   {
    "duration": 290,
    "start_time": "2021-10-29T07:22:41.048Z"
   },
   {
    "duration": 203,
    "start_time": "2021-10-29T07:22:41.340Z"
   },
   {
    "duration": 18119,
    "start_time": "2021-10-29T07:22:41.545Z"
   },
   {
    "duration": 437,
    "start_time": "2021-10-29T07:22:59.666Z"
   },
   {
    "duration": 263,
    "start_time": "2021-10-29T07:23:00.105Z"
   },
   {
    "duration": 147,
    "start_time": "2021-10-29T07:23:00.370Z"
   },
   {
    "duration": 274,
    "start_time": "2021-10-29T07:23:00.519Z"
   },
   {
    "duration": 183,
    "start_time": "2021-10-29T07:23:00.795Z"
   },
   {
    "duration": 297,
    "start_time": "2021-10-29T07:23:00.981Z"
   },
   {
    "duration": 120,
    "start_time": "2021-10-29T07:23:01.280Z"
   },
   {
    "duration": -42,
    "start_time": "2021-10-29T07:23:01.444Z"
   },
   {
    "duration": -43,
    "start_time": "2021-10-29T07:23:01.447Z"
   },
   {
    "duration": 155,
    "start_time": "2021-10-29T07:26:44.201Z"
   },
   {
    "duration": 18,
    "start_time": "2021-10-29T07:26:55.571Z"
   },
   {
    "duration": 13,
    "start_time": "2021-10-29T07:48:43.459Z"
   },
   {
    "duration": 9,
    "start_time": "2021-10-29T07:49:57.200Z"
   },
   {
    "duration": 15,
    "start_time": "2021-10-29T07:49:58.461Z"
   },
   {
    "duration": 13,
    "start_time": "2021-10-29T07:49:58.821Z"
   },
   {
    "duration": 9,
    "start_time": "2021-10-29T07:50:43.568Z"
   },
   {
    "duration": 15,
    "start_time": "2021-10-29T07:50:44.429Z"
   },
   {
    "duration": 11,
    "start_time": "2021-10-29T07:50:45.459Z"
   },
   {
    "duration": 9,
    "start_time": "2021-10-29T07:51:32.969Z"
   },
   {
    "duration": 13,
    "start_time": "2021-10-29T07:51:33.842Z"
   },
   {
    "duration": 12,
    "start_time": "2021-10-29T07:51:34.346Z"
   },
   {
    "duration": 11,
    "start_time": "2021-10-29T07:51:34.778Z"
   },
   {
    "duration": 3,
    "start_time": "2021-10-29T08:00:13.775Z"
   },
   {
    "duration": 87,
    "start_time": "2021-10-29T08:32:48.253Z"
   },
   {
    "duration": 88,
    "start_time": "2021-10-29T08:33:03.513Z"
   },
   {
    "duration": 129,
    "start_time": "2021-10-29T08:33:12.104Z"
   },
   {
    "duration": 87,
    "start_time": "2021-10-29T08:33:24.968Z"
   },
   {
    "duration": 86,
    "start_time": "2021-10-29T08:33:38.386Z"
   },
   {
    "duration": 179,
    "start_time": "2021-10-29T08:34:00.522Z"
   },
   {
    "duration": 87,
    "start_time": "2021-10-29T08:34:25.307Z"
   },
   {
    "duration": 253,
    "start_time": "2021-10-29T08:43:30.517Z"
   },
   {
    "duration": 399,
    "start_time": "2021-10-29T11:11:09.212Z"
   },
   {
    "duration": 187,
    "start_time": "2021-10-29T11:13:22.086Z"
   },
   {
    "duration": 170,
    "start_time": "2021-10-29T11:13:22.682Z"
   },
   {
    "duration": 184,
    "start_time": "2021-10-29T11:13:23.186Z"
   },
   {
    "duration": 4,
    "start_time": "2021-10-29T11:42:09.646Z"
   },
   {
    "duration": 496,
    "start_time": "2021-10-29T11:42:45.365Z"
   },
   {
    "duration": 807,
    "start_time": "2021-10-29T11:43:05.179Z"
   },
   {
    "duration": 807,
    "start_time": "2021-10-29T11:43:34.562Z"
   },
   {
    "duration": 5,
    "start_time": "2021-10-29T11:44:08.582Z"
   },
   {
    "duration": 355,
    "start_time": "2021-10-29T11:44:08.921Z"
   },
   {
    "duration": 510,
    "start_time": "2021-10-29T11:46:14.257Z"
   },
   {
    "duration": 5,
    "start_time": "2021-10-29T12:01:13.871Z"
   },
   {
    "duration": 454,
    "start_time": "2021-10-29T12:01:30.125Z"
   },
   {
    "duration": 494,
    "start_time": "2021-10-29T12:17:46.883Z"
   },
   {
    "duration": 344,
    "start_time": "2021-10-29T12:18:04.414Z"
   },
   {
    "duration": 374,
    "start_time": "2021-10-29T12:18:37.863Z"
   },
   {
    "duration": 427,
    "start_time": "2021-10-29T12:21:42.265Z"
   },
   {
    "duration": 633,
    "start_time": "2021-10-29T12:21:53.576Z"
   },
   {
    "duration": 351,
    "start_time": "2021-10-29T12:22:39.465Z"
   },
   {
    "duration": 344,
    "start_time": "2021-10-29T12:22:50.105Z"
   },
   {
    "duration": 355,
    "start_time": "2021-10-29T12:23:06.258Z"
   },
   {
    "duration": 348,
    "start_time": "2021-10-29T12:24:41.536Z"
   },
   {
    "duration": 12,
    "start_time": "2021-10-29T12:24:44.385Z"
   },
   {
    "duration": 12,
    "start_time": "2021-10-29T12:25:12.353Z"
   },
   {
    "duration": 13,
    "start_time": "2021-10-29T12:25:18.721Z"
   },
   {
    "duration": 356,
    "start_time": "2021-10-29T12:25:21.400Z"
   },
   {
    "duration": 349,
    "start_time": "2021-10-29T12:26:12.761Z"
   },
   {
    "duration": 358,
    "start_time": "2021-10-29T12:29:55.766Z"
   },
   {
    "duration": 446,
    "start_time": "2021-10-29T12:32:08.840Z"
   },
   {
    "duration": 565,
    "start_time": "2021-10-29T12:32:23.567Z"
   },
   {
    "duration": 637,
    "start_time": "2021-10-29T12:32:37.227Z"
   },
   {
    "duration": 956,
    "start_time": "2021-10-29T12:36:25.798Z"
   },
   {
    "duration": 876,
    "start_time": "2021-10-29T12:38:01.632Z"
   },
   {
    "duration": 1267,
    "start_time": "2021-10-29T12:38:44.398Z"
   },
   {
    "duration": 162,
    "start_time": "2021-10-29T12:39:08.520Z"
   },
   {
    "duration": 677,
    "start_time": "2021-10-29T12:39:16.773Z"
   },
   {
    "duration": 392,
    "start_time": "2021-10-29T13:32:34.569Z"
   },
   {
    "duration": 447,
    "start_time": "2021-10-29T13:33:26.641Z"
   },
   {
    "duration": 241,
    "start_time": "2021-10-29T13:33:36.196Z"
   },
   {
    "duration": 10,
    "start_time": "2021-10-29T13:33:38.667Z"
   },
   {
    "duration": 10,
    "start_time": "2021-10-29T13:33:47.161Z"
   },
   {
    "duration": 11,
    "start_time": "2021-10-29T13:33:50.138Z"
   },
   {
    "duration": 324,
    "start_time": "2021-10-29T13:34:06.259Z"
   },
   {
    "duration": 295,
    "start_time": "2021-10-29T13:34:23.705Z"
   },
   {
    "duration": 86,
    "start_time": "2021-10-29T13:35:06.394Z"
   },
   {
    "duration": 448,
    "start_time": "2021-10-29T13:44:50.351Z"
   },
   {
    "duration": 457,
    "start_time": "2021-10-29T13:45:05.599Z"
   },
   {
    "duration": 13,
    "start_time": "2021-10-29T13:47:23.096Z"
   },
   {
    "duration": 1395,
    "start_time": "2021-10-29T16:47:43.071Z"
   },
   {
    "duration": 49,
    "start_time": "2021-10-29T16:47:44.468Z"
   },
   {
    "duration": 9,
    "start_time": "2021-10-29T16:47:44.519Z"
   },
   {
    "duration": 6,
    "start_time": "2021-10-29T16:47:44.530Z"
   },
   {
    "duration": 5,
    "start_time": "2021-10-29T16:47:44.538Z"
   },
   {
    "duration": 654,
    "start_time": "2021-10-29T16:47:44.545Z"
   },
   {
    "duration": 6,
    "start_time": "2021-10-29T16:47:45.202Z"
   },
   {
    "duration": 14032,
    "start_time": "2021-10-29T16:47:45.211Z"
   },
   {
    "duration": 4761,
    "start_time": "2021-10-29T16:47:59.246Z"
   },
   {
    "duration": -702,
    "start_time": "2021-10-29T16:48:04.713Z"
   },
   {
    "duration": -704,
    "start_time": "2021-10-29T16:48:04.716Z"
   },
   {
    "duration": -706,
    "start_time": "2021-10-29T16:48:04.719Z"
   },
   {
    "duration": -708,
    "start_time": "2021-10-29T16:48:04.722Z"
   },
   {
    "duration": -709,
    "start_time": "2021-10-29T16:48:04.724Z"
   },
   {
    "duration": -711,
    "start_time": "2021-10-29T16:48:04.727Z"
   },
   {
    "duration": -713,
    "start_time": "2021-10-29T16:48:04.730Z"
   },
   {
    "duration": -714,
    "start_time": "2021-10-29T16:48:04.732Z"
   },
   {
    "duration": -716,
    "start_time": "2021-10-29T16:48:04.735Z"
   },
   {
    "duration": -717,
    "start_time": "2021-10-29T16:48:04.737Z"
   },
   {
    "duration": -719,
    "start_time": "2021-10-29T16:48:04.740Z"
   },
   {
    "duration": -772,
    "start_time": "2021-10-29T16:48:04.794Z"
   },
   {
    "duration": -774,
    "start_time": "2021-10-29T16:48:04.797Z"
   },
   {
    "duration": -776,
    "start_time": "2021-10-29T16:48:04.800Z"
   },
   {
    "duration": -778,
    "start_time": "2021-10-29T16:48:04.803Z"
   },
   {
    "duration": -779,
    "start_time": "2021-10-29T16:48:04.805Z"
   },
   {
    "duration": -781,
    "start_time": "2021-10-29T16:48:04.808Z"
   },
   {
    "duration": -783,
    "start_time": "2021-10-29T16:48:04.811Z"
   },
   {
    "duration": -785,
    "start_time": "2021-10-29T16:48:04.814Z"
   },
   {
    "duration": -791,
    "start_time": "2021-10-29T16:48:04.821Z"
   },
   {
    "duration": -794,
    "start_time": "2021-10-29T16:48:04.825Z"
   },
   {
    "duration": -797,
    "start_time": "2021-10-29T16:48:04.829Z"
   },
   {
    "duration": -799,
    "start_time": "2021-10-29T16:48:04.832Z"
   },
   {
    "duration": -800,
    "start_time": "2021-10-29T16:48:04.834Z"
   },
   {
    "duration": -802,
    "start_time": "2021-10-29T16:48:04.837Z"
   },
   {
    "duration": -804,
    "start_time": "2021-10-29T16:48:04.840Z"
   },
   {
    "duration": -805,
    "start_time": "2021-10-29T16:48:04.842Z"
   },
   {
    "duration": -807,
    "start_time": "2021-10-29T16:48:04.845Z"
   },
   {
    "duration": -809,
    "start_time": "2021-10-29T16:48:04.848Z"
   },
   {
    "duration": -810,
    "start_time": "2021-10-29T16:48:04.850Z"
   },
   {
    "duration": -811,
    "start_time": "2021-10-29T16:48:04.852Z"
   },
   {
    "duration": -811,
    "start_time": "2021-10-29T16:48:04.854Z"
   },
   {
    "duration": -813,
    "start_time": "2021-10-29T16:48:04.857Z"
   },
   {
    "duration": -814,
    "start_time": "2021-10-29T16:48:04.859Z"
   },
   {
    "duration": -816,
    "start_time": "2021-10-29T16:48:04.862Z"
   },
   {
    "duration": -817,
    "start_time": "2021-10-29T16:48:04.864Z"
   },
   {
    "duration": -818,
    "start_time": "2021-10-29T16:48:04.866Z"
   },
   {
    "duration": -820,
    "start_time": "2021-10-29T16:48:04.869Z"
   },
   {
    "duration": -862,
    "start_time": "2021-10-29T16:48:04.939Z"
   },
   {
    "duration": -864,
    "start_time": "2021-10-29T16:48:04.942Z"
   },
   {
    "duration": -866,
    "start_time": "2021-10-29T16:48:04.945Z"
   },
   {
    "duration": -868,
    "start_time": "2021-10-29T16:48:04.948Z"
   },
   {
    "duration": -869,
    "start_time": "2021-10-29T16:48:04.950Z"
   },
   {
    "duration": -871,
    "start_time": "2021-10-29T16:48:04.953Z"
   },
   {
    "duration": -872,
    "start_time": "2021-10-29T16:48:04.955Z"
   },
   {
    "duration": -874,
    "start_time": "2021-10-29T16:48:04.958Z"
   },
   {
    "duration": -875,
    "start_time": "2021-10-29T16:48:04.961Z"
   },
   {
    "duration": -876,
    "start_time": "2021-10-29T16:48:04.963Z"
   },
   {
    "duration": -881,
    "start_time": "2021-10-29T16:48:04.969Z"
   },
   {
    "duration": -885,
    "start_time": "2021-10-29T16:48:04.974Z"
   },
   {
    "duration": -888,
    "start_time": "2021-10-29T16:48:04.978Z"
   },
   {
    "duration": -890,
    "start_time": "2021-10-29T16:48:04.981Z"
   },
   {
    "duration": -891,
    "start_time": "2021-10-29T16:48:04.983Z"
   },
   {
    "duration": -893,
    "start_time": "2021-10-29T16:48:04.986Z"
   },
   {
    "duration": -895,
    "start_time": "2021-10-29T16:48:04.989Z"
   },
   {
    "duration": 1444,
    "start_time": "2021-10-29T17:13:27.263Z"
   },
   {
    "duration": 43,
    "start_time": "2021-10-29T17:13:28.709Z"
   },
   {
    "duration": 11,
    "start_time": "2021-10-29T17:13:28.755Z"
   },
   {
    "duration": 7,
    "start_time": "2021-10-29T17:13:28.777Z"
   },
   {
    "duration": 7,
    "start_time": "2021-10-29T17:13:28.786Z"
   },
   {
    "duration": 619,
    "start_time": "2021-10-29T17:13:28.795Z"
   },
   {
    "duration": 6,
    "start_time": "2021-10-29T17:13:29.415Z"
   },
   {
    "duration": 13791,
    "start_time": "2021-10-29T17:13:29.423Z"
   },
   {
    "duration": 4662,
    "start_time": "2021-10-29T17:13:43.217Z"
   },
   {
    "duration": -104,
    "start_time": "2021-10-29T17:13:47.987Z"
   },
   {
    "duration": -106,
    "start_time": "2021-10-29T17:13:47.990Z"
   },
   {
    "duration": -107,
    "start_time": "2021-10-29T17:13:47.992Z"
   },
   {
    "duration": -109,
    "start_time": "2021-10-29T17:13:47.995Z"
   },
   {
    "duration": -111,
    "start_time": "2021-10-29T17:13:47.998Z"
   },
   {
    "duration": -162,
    "start_time": "2021-10-29T17:13:48.050Z"
   },
   {
    "duration": -164,
    "start_time": "2021-10-29T17:13:48.053Z"
   },
   {
    "duration": -164,
    "start_time": "2021-10-29T17:13:48.055Z"
   },
   {
    "duration": -166,
    "start_time": "2021-10-29T17:13:48.058Z"
   },
   {
    "duration": -185,
    "start_time": "2021-10-29T17:13:48.078Z"
   },
   {
    "duration": -188,
    "start_time": "2021-10-29T17:13:48.082Z"
   },
   {
    "duration": -190,
    "start_time": "2021-10-29T17:13:48.085Z"
   },
   {
    "duration": -192,
    "start_time": "2021-10-29T17:13:48.088Z"
   },
   {
    "duration": -194,
    "start_time": "2021-10-29T17:13:48.091Z"
   },
   {
    "duration": -196,
    "start_time": "2021-10-29T17:13:48.094Z"
   },
   {
    "duration": -197,
    "start_time": "2021-10-29T17:13:48.096Z"
   },
   {
    "duration": -197,
    "start_time": "2021-10-29T17:13:48.099Z"
   },
   {
    "duration": -198,
    "start_time": "2021-10-29T17:13:48.101Z"
   },
   {
    "duration": -200,
    "start_time": "2021-10-29T17:13:48.104Z"
   },
   {
    "duration": -201,
    "start_time": "2021-10-29T17:13:48.106Z"
   },
   {
    "duration": -202,
    "start_time": "2021-10-29T17:13:48.109Z"
   },
   {
    "duration": -205,
    "start_time": "2021-10-29T17:13:48.112Z"
   },
   {
    "duration": -206,
    "start_time": "2021-10-29T17:13:48.115Z"
   },
   {
    "duration": -208,
    "start_time": "2021-10-29T17:13:48.117Z"
   },
   {
    "duration": -210,
    "start_time": "2021-10-29T17:13:48.120Z"
   },
   {
    "duration": -211,
    "start_time": "2021-10-29T17:13:48.122Z"
   },
   {
    "duration": -242,
    "start_time": "2021-10-29T17:13:48.154Z"
   },
   {
    "duration": -243,
    "start_time": "2021-10-29T17:13:48.156Z"
   },
   {
    "duration": -254,
    "start_time": "2021-10-29T17:13:48.168Z"
   },
   {
    "duration": -255,
    "start_time": "2021-10-29T17:13:48.170Z"
   },
   {
    "duration": -257,
    "start_time": "2021-10-29T17:13:48.173Z"
   },
   {
    "duration": -258,
    "start_time": "2021-10-29T17:13:48.175Z"
   },
   {
    "duration": -260,
    "start_time": "2021-10-29T17:13:48.178Z"
   },
   {
    "duration": -262,
    "start_time": "2021-10-29T17:13:48.181Z"
   },
   {
    "duration": -210,
    "start_time": "2021-10-29T17:13:48.185Z"
   },
   {
    "duration": -210,
    "start_time": "2021-10-29T17:13:48.187Z"
   },
   {
    "duration": -212,
    "start_time": "2021-10-29T17:13:48.190Z"
   },
   {
    "duration": -213,
    "start_time": "2021-10-29T17:13:48.192Z"
   },
   {
    "duration": -213,
    "start_time": "2021-10-29T17:13:48.194Z"
   },
   {
    "duration": -215,
    "start_time": "2021-10-29T17:13:48.197Z"
   },
   {
    "duration": -216,
    "start_time": "2021-10-29T17:13:48.199Z"
   },
   {
    "duration": -217,
    "start_time": "2021-10-29T17:13:48.201Z"
   },
   {
    "duration": -219,
    "start_time": "2021-10-29T17:13:48.204Z"
   },
   {
    "duration": -220,
    "start_time": "2021-10-29T17:13:48.206Z"
   },
   {
    "duration": -222,
    "start_time": "2021-10-29T17:13:48.209Z"
   },
   {
    "duration": -223,
    "start_time": "2021-10-29T17:13:48.211Z"
   },
   {
    "duration": -225,
    "start_time": "2021-10-29T17:13:48.214Z"
   },
   {
    "duration": -227,
    "start_time": "2021-10-29T17:13:48.217Z"
   },
   {
    "duration": -229,
    "start_time": "2021-10-29T17:13:48.220Z"
   },
   {
    "duration": -261,
    "start_time": "2021-10-29T17:13:48.254Z"
   },
   {
    "duration": -262,
    "start_time": "2021-10-29T17:13:48.256Z"
   },
   {
    "duration": -264,
    "start_time": "2021-10-29T17:13:48.259Z"
   },
   {
    "duration": -266,
    "start_time": "2021-10-29T17:13:48.261Z"
   },
   {
    "duration": -268,
    "start_time": "2021-10-29T17:13:48.264Z"
   },
   {
    "duration": -270,
    "start_time": "2021-10-29T17:13:48.267Z"
   },
   {
    "duration": 363,
    "start_time": "2021-10-29T17:14:36.513Z"
   },
   {
    "duration": 116,
    "start_time": "2021-10-29T17:14:51.965Z"
   },
   {
    "duration": 112,
    "start_time": "2021-10-29T17:14:55.715Z"
   },
   {
    "duration": 4,
    "start_time": "2021-10-29T17:15:01.516Z"
   },
   {
    "duration": 7,
    "start_time": "2021-10-29T17:15:17.165Z"
   },
   {
    "duration": 125,
    "start_time": "2021-10-29T17:15:31.104Z"
   },
   {
    "duration": 10,
    "start_time": "2021-10-29T17:15:37.165Z"
   },
   {
    "duration": 7,
    "start_time": "2021-10-29T17:21:01.874Z"
   },
   {
    "duration": 351,
    "start_time": "2021-10-29T17:21:13.312Z"
   },
   {
    "duration": 351,
    "start_time": "2021-10-29T17:21:33.655Z"
   },
   {
    "duration": 395,
    "start_time": "2021-10-29T17:21:45.474Z"
   },
   {
    "duration": 850,
    "start_time": "2021-10-29T17:30:44.386Z"
   },
   {
    "duration": 37,
    "start_time": "2021-10-29T17:31:07.753Z"
   },
   {
    "duration": 11,
    "start_time": "2021-10-29T17:31:17.442Z"
   },
   {
    "duration": 7,
    "start_time": "2021-10-29T17:31:27.422Z"
   },
   {
    "duration": 6,
    "start_time": "2021-10-29T17:31:33.184Z"
   },
   {
    "duration": 6,
    "start_time": "2021-10-29T17:31:47.443Z"
   },
   {
    "duration": 8,
    "start_time": "2021-10-29T17:31:49.151Z"
   },
   {
    "duration": 6,
    "start_time": "2021-10-29T17:32:04.464Z"
   },
   {
    "duration": 6,
    "start_time": "2021-10-29T17:32:14.422Z"
   },
   {
    "duration": 363,
    "start_time": "2021-10-29T17:32:24.724Z"
   },
   {
    "duration": 6,
    "start_time": "2021-10-29T17:32:29.213Z"
   },
   {
    "duration": 42,
    "start_time": "2021-10-29T17:32:49.484Z"
   },
   {
    "duration": 5,
    "start_time": "2021-10-29T17:33:50.353Z"
   },
   {
    "duration": 6,
    "start_time": "2021-10-29T17:33:50.904Z"
   },
   {
    "duration": 7,
    "start_time": "2021-10-29T17:33:56.068Z"
   },
   {
    "duration": 11,
    "start_time": "2021-10-29T17:34:01.921Z"
   },
   {
    "duration": 1582,
    "start_time": "2021-10-29T17:34:31.857Z"
   },
   {
    "duration": 41,
    "start_time": "2021-10-29T17:34:33.442Z"
   },
   {
    "duration": 9,
    "start_time": "2021-10-29T17:34:33.485Z"
   },
   {
    "duration": 43,
    "start_time": "2021-10-29T17:34:33.496Z"
   },
   {
    "duration": 5,
    "start_time": "2021-10-29T17:34:33.541Z"
   },
   {
    "duration": 732,
    "start_time": "2021-10-29T17:34:33.548Z"
   },
   {
    "duration": 4,
    "start_time": "2021-10-29T17:34:34.282Z"
   },
   {
    "duration": 13721,
    "start_time": "2021-10-29T17:34:34.288Z"
   },
   {
    "duration": 27,
    "start_time": "2021-10-29T17:34:48.013Z"
   },
   {
    "duration": 36,
    "start_time": "2021-10-29T17:34:48.043Z"
   },
   {
    "duration": 11,
    "start_time": "2021-10-29T17:34:48.081Z"
   },
   {
    "duration": 18,
    "start_time": "2021-10-29T17:34:48.094Z"
   },
   {
    "duration": 13,
    "start_time": "2021-10-29T17:34:48.113Z"
   },
   {
    "duration": 50,
    "start_time": "2021-10-29T17:34:48.128Z"
   },
   {
    "duration": 341,
    "start_time": "2021-10-29T17:34:48.181Z"
   },
   {
    "duration": 12,
    "start_time": "2021-10-29T17:34:48.524Z"
   },
   {
    "duration": 8,
    "start_time": "2021-10-29T17:34:48.538Z"
   },
   {
    "duration": 15,
    "start_time": "2021-10-29T17:34:48.548Z"
   },
   {
    "duration": 5,
    "start_time": "2021-10-29T17:34:48.566Z"
   },
   {
    "duration": 5,
    "start_time": "2021-10-29T17:34:48.573Z"
   },
   {
    "duration": 325,
    "start_time": "2021-10-29T17:34:48.581Z"
   },
   {
    "duration": 5,
    "start_time": "2021-10-29T17:34:48.908Z"
   },
   {
    "duration": 271,
    "start_time": "2021-10-29T17:34:48.914Z"
   },
   {
    "duration": 6,
    "start_time": "2021-10-29T17:34:49.187Z"
   },
   {
    "duration": 4,
    "start_time": "2021-10-29T17:34:49.195Z"
   },
   {
    "duration": 11,
    "start_time": "2021-10-29T17:34:49.201Z"
   },
   {
    "duration": 12,
    "start_time": "2021-10-29T17:34:49.216Z"
   },
   {
    "duration": 338,
    "start_time": "2021-10-29T17:34:49.231Z"
   },
   {
    "duration": 12,
    "start_time": "2021-10-29T17:34:49.570Z"
   },
   {
    "duration": 12,
    "start_time": "2021-10-29T17:34:49.584Z"
   },
   {
    "duration": 366,
    "start_time": "2021-10-29T17:34:49.598Z"
   },
   {
    "duration": 320,
    "start_time": "2021-10-29T17:34:49.967Z"
   },
   {
    "duration": 5,
    "start_time": "2021-10-29T17:34:50.290Z"
   },
   {
    "duration": 19,
    "start_time": "2021-10-29T17:34:50.298Z"
   },
   {
    "duration": 310,
    "start_time": "2021-10-29T17:34:50.319Z"
   },
   {
    "duration": 27,
    "start_time": "2021-10-29T17:34:50.630Z"
   },
   {
    "duration": 11,
    "start_time": "2021-10-29T17:34:50.659Z"
   },
   {
    "duration": 317,
    "start_time": "2021-10-29T17:34:50.673Z"
   },
   {
    "duration": 312,
    "start_time": "2021-10-29T17:34:50.994Z"
   },
   {
    "duration": 126,
    "start_time": "2021-10-29T17:34:51.308Z"
   },
   {
    "duration": 92911,
    "start_time": "2021-10-29T17:34:51.436Z"
   },
   {
    "duration": 173,
    "start_time": "2021-10-29T17:36:24.349Z"
   },
   {
    "duration": 268,
    "start_time": "2021-10-29T17:36:24.524Z"
   },
   {
    "duration": 616,
    "start_time": "2021-10-29T17:36:24.793Z"
   },
   {
    "duration": 67,
    "start_time": "2021-10-29T17:36:25.411Z"
   },
   {
    "duration": 101,
    "start_time": "2021-10-29T17:36:25.481Z"
   },
   {
    "duration": 198393,
    "start_time": "2021-10-29T17:36:25.585Z"
   },
   {
    "duration": 388,
    "start_time": "2021-10-29T17:39:43.981Z"
   },
   {
    "duration": 349,
    "start_time": "2021-10-29T17:39:44.377Z"
   },
   {
    "duration": 308,
    "start_time": "2021-10-29T17:39:44.728Z"
   },
   {
    "duration": 761,
    "start_time": "2021-10-29T17:39:45.038Z"
   },
   {
    "duration": 226230,
    "start_time": "2021-10-29T17:39:45.800Z"
   },
   {
    "duration": 467,
    "start_time": "2021-10-29T17:43:32.032Z"
   },
   {
    "duration": 327,
    "start_time": "2021-10-29T17:43:32.501Z"
   },
   {
    "duration": 219,
    "start_time": "2021-10-29T17:43:32.830Z"
   },
   {
    "duration": 20026,
    "start_time": "2021-10-29T17:43:33.051Z"
   },
   {
    "duration": 413,
    "start_time": "2021-10-29T17:43:53.079Z"
   },
   {
    "duration": 384,
    "start_time": "2021-10-29T17:43:53.494Z"
   },
   {
    "duration": 250,
    "start_time": "2021-10-29T17:43:53.881Z"
   },
   {
    "duration": 228,
    "start_time": "2021-10-29T17:43:54.133Z"
   },
   {
    "duration": 242,
    "start_time": "2021-10-29T17:43:54.363Z"
   },
   {
    "duration": 277,
    "start_time": "2021-10-29T17:43:54.607Z"
   },
   {
    "duration": 192,
    "start_time": "2021-10-29T17:43:54.886Z"
   },
   {
    "duration": -52,
    "start_time": "2021-10-29T17:43:55.132Z"
   },
   {
    "duration": 5,
    "start_time": "2021-10-29T17:54:52.253Z"
   },
   {
    "duration": 5,
    "start_time": "2021-10-29T17:56:05.492Z"
   },
   {
    "duration": 5,
    "start_time": "2021-10-29T17:56:12.072Z"
   },
   {
    "duration": 5,
    "start_time": "2021-10-29T17:56:30.500Z"
   },
   {
    "duration": 5,
    "start_time": "2021-10-29T17:56:38.064Z"
   },
   {
    "duration": 5,
    "start_time": "2021-10-29T17:56:54.146Z"
   },
   {
    "duration": 7,
    "start_time": "2021-10-29T17:57:02.330Z"
   },
   {
    "duration": 5,
    "start_time": "2021-10-29T17:57:09.885Z"
   },
   {
    "duration": 4,
    "start_time": "2021-10-29T17:57:15.658Z"
   },
   {
    "duration": 4,
    "start_time": "2021-10-29T17:57:25.188Z"
   },
   {
    "duration": 6,
    "start_time": "2021-10-29T17:57:33.003Z"
   },
   {
    "duration": 5,
    "start_time": "2021-10-29T17:57:40.887Z"
   },
   {
    "duration": 852285,
    "start_time": "2021-10-29T17:59:20.142Z"
   },
   {
    "duration": 103,
    "start_time": "2021-10-29T18:13:32.430Z"
   },
   {
    "duration": 407,
    "start_time": "2021-10-29T18:13:32.537Z"
   },
   {
    "duration": 111,
    "start_time": "2021-10-29T18:16:34.084Z"
   },
   {
    "duration": 6,
    "start_time": "2021-10-29T18:17:22.805Z"
   },
   {
    "duration": 361,
    "start_time": "2021-10-29T18:17:37.578Z"
   },
   {
    "duration": 447,
    "start_time": "2021-10-29T18:22:51.094Z"
   },
   {
    "duration": 480,
    "start_time": "2021-10-29T18:23:18.568Z"
   },
   {
    "duration": 405,
    "start_time": "2021-10-29T18:23:25.830Z"
   },
   {
    "duration": 411,
    "start_time": "2021-10-29T18:24:00.437Z"
   },
   {
    "duration": 606,
    "start_time": "2021-10-29T18:24:17.782Z"
   },
   {
    "duration": 442206,
    "start_time": "2021-10-29T18:24:46.526Z"
   },
   {
    "duration": 89,
    "start_time": "2021-10-29T18:32:08.734Z"
   },
   {
    "duration": 417,
    "start_time": "2021-10-29T18:32:08.825Z"
   },
   {
    "duration": 404,
    "start_time": "2021-10-29T18:32:09.244Z"
   },
   {
    "duration": 436,
    "start_time": "2021-10-29T18:32:09.650Z"
   },
   {
    "duration": 90,
    "start_time": "2021-10-29T18:32:10.088Z"
   },
   {
    "duration": 45479,
    "start_time": "2021-10-29T18:32:10.181Z"
   },
   {
    "duration": 463,
    "start_time": "2021-10-29T18:32:55.663Z"
   },
   {
    "duration": 617,
    "start_time": "2021-10-29T18:33:05.440Z"
   },
   {
    "duration": 42453,
    "start_time": "2021-10-29T18:33:26.025Z"
   },
   {
    "duration": 711,
    "start_time": "2021-10-29T18:34:08.481Z"
   },
   {
    "duration": 637,
    "start_time": "2021-10-29T18:34:09.195Z"
   },
   {
    "duration": 416,
    "start_time": "2021-10-29T18:34:09.834Z"
   },
   {
    "duration": 799,
    "start_time": "2021-10-29T18:34:16.897Z"
   },
   {
    "duration": 175,
    "start_time": "2021-10-29T18:35:27.947Z"
   },
   {
    "duration": 10,
    "start_time": "2021-10-29T18:35:28.175Z"
   },
   {
    "duration": 261,
    "start_time": "2021-10-29T18:35:59.618Z"
   },
   {
    "duration": 277,
    "start_time": "2021-10-29T18:36:14.549Z"
   },
   {
    "duration": 288,
    "start_time": "2021-10-29T18:37:26.189Z"
   },
   {
    "duration": 12,
    "start_time": "2021-10-29T18:37:26.868Z"
   },
   {
    "duration": 471,
    "start_time": "2021-10-29T18:37:52.298Z"
   },
   {
    "duration": 381,
    "start_time": "2021-10-29T18:38:01.867Z"
   },
   {
    "duration": 3213,
    "start_time": "2021-10-29T18:47:00.678Z"
   },
   {
    "duration": 3083,
    "start_time": "2021-10-29T18:47:39.295Z"
   },
   {
    "duration": 2504,
    "start_time": "2021-10-29T18:47:50.690Z"
   },
   {
    "duration": 2127,
    "start_time": "2021-10-29T18:48:43.165Z"
   },
   {
    "duration": 2785,
    "start_time": "2021-10-29T18:48:57.798Z"
   },
   {
    "duration": 550,
    "start_time": "2021-10-29T18:55:09.333Z"
   },
   {
    "duration": 385,
    "start_time": "2021-10-29T18:55:47.693Z"
   },
   {
    "duration": 488,
    "start_time": "2021-10-29T18:55:48.081Z"
   },
   {
    "duration": 350,
    "start_time": "2021-10-29T18:56:26.325Z"
   },
   {
    "duration": 343,
    "start_time": "2021-10-29T18:56:26.677Z"
   },
   {
    "duration": 559,
    "start_time": "2021-10-29T18:57:59.453Z"
   },
   {
    "duration": 349,
    "start_time": "2021-10-29T18:58:27.424Z"
   },
   {
    "duration": 456,
    "start_time": "2021-10-29T18:58:42.975Z"
   },
   {
    "duration": 522,
    "start_time": "2021-10-29T18:59:20.213Z"
   },
   {
    "duration": 3299,
    "start_time": "2021-10-29T19:00:47.279Z"
   },
   {
    "duration": 3204,
    "start_time": "2021-10-29T19:01:00.186Z"
   },
   {
    "duration": 943,
    "start_time": "2021-10-29T19:04:28.589Z"
   },
   {
    "duration": 334,
    "start_time": "2021-10-29T19:04:53.315Z"
   },
   {
    "duration": 367,
    "start_time": "2021-10-29T19:05:33.734Z"
   },
   {
    "duration": 2918,
    "start_time": "2021-10-29T19:05:45.168Z"
   },
   {
    "duration": 3157,
    "start_time": "2021-10-29T19:06:05.119Z"
   },
   {
    "duration": 3161,
    "start_time": "2021-10-29T19:06:11.321Z"
   },
   {
    "duration": 3040,
    "start_time": "2021-10-29T19:06:45.435Z"
   },
   {
    "duration": 2679,
    "start_time": "2021-10-29T19:07:08.464Z"
   },
   {
    "duration": 3187,
    "start_time": "2021-10-29T19:07:17.690Z"
   },
   {
    "duration": 2670,
    "start_time": "2021-10-29T19:07:22.781Z"
   },
   {
    "duration": 2777,
    "start_time": "2021-10-29T19:07:31.315Z"
   },
   {
    "duration": 2679,
    "start_time": "2021-10-29T19:07:37.808Z"
   },
   {
    "duration": 396,
    "start_time": "2021-10-29T19:07:55.667Z"
   },
   {
    "duration": 400,
    "start_time": "2021-10-29T19:08:00.960Z"
   },
   {
    "duration": 3101,
    "start_time": "2021-10-29T19:08:07.681Z"
   },
   {
    "duration": 2998,
    "start_time": "2021-10-29T19:10:03.262Z"
   },
   {
    "duration": 3822,
    "start_time": "2021-10-29T19:10:34.464Z"
   },
   {
    "duration": 2734,
    "start_time": "2021-10-29T19:11:58.455Z"
   },
   {
    "duration": 2986,
    "start_time": "2021-10-29T19:12:06.495Z"
   },
   {
    "duration": 2784,
    "start_time": "2021-10-29T19:12:12.293Z"
   },
   {
    "duration": 2803,
    "start_time": "2021-10-29T19:12:27.979Z"
   },
   {
    "duration": 3117,
    "start_time": "2021-10-29T19:19:25.759Z"
   },
   {
    "duration": 1154,
    "start_time": "2021-10-29T19:32:47.523Z"
   },
   {
    "duration": 1220,
    "start_time": "2021-10-29T19:33:00.084Z"
   },
   {
    "duration": 3570,
    "start_time": "2021-10-29T19:33:32.387Z"
   },
   {
    "duration": 2428,
    "start_time": "2021-10-29T19:33:52.760Z"
   },
   {
    "duration": 2159,
    "start_time": "2021-10-29T19:34:33.334Z"
   },
   {
    "duration": 2289,
    "start_time": "2021-10-29T19:34:57.161Z"
   },
   {
    "duration": 279,
    "start_time": "2021-10-29T19:49:22.932Z"
   },
   {
    "duration": 1486,
    "start_time": "2021-10-29T20:14:33.990Z"
   },
   {
    "duration": 55,
    "start_time": "2021-10-29T20:14:35.479Z"
   },
   {
    "duration": 12,
    "start_time": "2021-10-29T20:14:35.536Z"
   },
   {
    "duration": 56,
    "start_time": "2021-10-29T20:14:35.550Z"
   },
   {
    "duration": 6,
    "start_time": "2021-10-29T20:14:35.609Z"
   },
   {
    "duration": 688,
    "start_time": "2021-10-29T20:14:35.617Z"
   },
   {
    "duration": 5,
    "start_time": "2021-10-29T20:14:36.307Z"
   },
   {
    "duration": 14502,
    "start_time": "2021-10-29T20:14:36.315Z"
   },
   {
    "duration": 33,
    "start_time": "2021-10-29T20:14:50.820Z"
   },
   {
    "duration": 9,
    "start_time": "2021-10-29T20:14:50.878Z"
   },
   {
    "duration": 20,
    "start_time": "2021-10-29T20:14:50.889Z"
   },
   {
    "duration": 18,
    "start_time": "2021-10-29T20:14:50.911Z"
   },
   {
    "duration": 18,
    "start_time": "2021-10-29T20:14:50.931Z"
   },
   {
    "duration": 37,
    "start_time": "2021-10-29T20:14:50.951Z"
   },
   {
    "duration": 306,
    "start_time": "2021-10-29T20:14:50.990Z"
   },
   {
    "duration": 12,
    "start_time": "2021-10-29T20:14:51.298Z"
   },
   {
    "duration": 9,
    "start_time": "2021-10-29T20:14:51.311Z"
   },
   {
    "duration": 12,
    "start_time": "2021-10-29T20:14:51.322Z"
   },
   {
    "duration": 7,
    "start_time": "2021-10-29T20:14:51.335Z"
   },
   {
    "duration": 4,
    "start_time": "2021-10-29T20:14:51.344Z"
   },
   {
    "duration": 408,
    "start_time": "2021-10-29T20:14:51.351Z"
   },
   {
    "duration": 5,
    "start_time": "2021-10-29T20:14:51.761Z"
   },
   {
    "duration": 291,
    "start_time": "2021-10-29T20:14:51.778Z"
   },
   {
    "duration": 7,
    "start_time": "2021-10-29T20:14:52.075Z"
   },
   {
    "duration": 19,
    "start_time": "2021-10-29T20:14:52.084Z"
   },
   {
    "duration": 24,
    "start_time": "2021-10-29T20:14:52.105Z"
   },
   {
    "duration": 17,
    "start_time": "2021-10-29T20:14:52.132Z"
   },
   {
    "duration": 377,
    "start_time": "2021-10-29T20:14:52.152Z"
   },
   {
    "duration": 13,
    "start_time": "2021-10-29T20:14:52.531Z"
   },
   {
    "duration": 12,
    "start_time": "2021-10-29T20:14:52.546Z"
   },
   {
    "duration": 319,
    "start_time": "2021-10-29T20:14:52.560Z"
   },
   {
    "duration": 272,
    "start_time": "2021-10-29T20:14:52.881Z"
   },
   {
    "duration": 5,
    "start_time": "2021-10-29T20:14:53.155Z"
   },
   {
    "duration": 26,
    "start_time": "2021-10-29T20:14:53.163Z"
   },
   {
    "duration": 250,
    "start_time": "2021-10-29T20:14:53.192Z"
   },
   {
    "duration": 12,
    "start_time": "2021-10-29T20:14:53.444Z"
   },
   {
    "duration": 11,
    "start_time": "2021-10-29T20:14:53.458Z"
   },
   {
    "duration": 347,
    "start_time": "2021-10-29T20:14:53.471Z"
   },
   {
    "duration": 290,
    "start_time": "2021-10-29T20:14:53.820Z"
   },
   {
    "duration": 289,
    "start_time": "2021-10-29T20:14:54.112Z"
   },
   {
    "duration": 366,
    "start_time": "2021-10-29T20:14:54.402Z"
   },
   {
    "duration": 263,
    "start_time": "2021-10-29T20:14:54.770Z"
   },
   {
    "duration": 91580,
    "start_time": "2021-10-29T20:14:55.035Z"
   },
   {
    "duration": 245,
    "start_time": "2021-10-29T20:16:26.618Z"
   },
   {
    "duration": 324,
    "start_time": "2021-10-29T20:16:26.865Z"
   },
   {
    "duration": 381,
    "start_time": "2021-10-29T20:16:27.192Z"
   },
   {
    "duration": 25,
    "start_time": "2021-10-29T20:16:27.577Z"
   },
   {
    "duration": 99,
    "start_time": "2021-10-29T20:16:27.678Z"
   },
   {
    "duration": 512461,
    "start_time": "2021-10-29T20:16:27.780Z"
   },
   {
    "duration": 109,
    "start_time": "2021-10-29T20:25:00.243Z"
   },
   {
    "duration": 423,
    "start_time": "2021-10-29T20:25:00.354Z"
   },
   {
    "duration": 511,
    "start_time": "2021-10-29T20:25:00.779Z"
   },
   {
    "duration": 458,
    "start_time": "2021-10-29T20:25:01.292Z"
   },
   {
    "duration": 801,
    "start_time": "2021-10-29T20:25:01.751Z"
   },
   {
    "duration": 498,
    "start_time": "2021-10-29T20:25:02.554Z"
   },
   {
    "duration": -62,
    "start_time": "2021-10-29T20:25:03.117Z"
   },
   {
    "duration": -92,
    "start_time": "2021-10-29T20:25:03.148Z"
   },
   {
    "duration": -95,
    "start_time": "2021-10-29T20:25:03.152Z"
   },
   {
    "duration": -96,
    "start_time": "2021-10-29T20:25:03.154Z"
   },
   {
    "duration": -99,
    "start_time": "2021-10-29T20:25:03.158Z"
   },
   {
    "duration": -101,
    "start_time": "2021-10-29T20:25:03.161Z"
   },
   {
    "duration": -111,
    "start_time": "2021-10-29T20:25:03.172Z"
   },
   {
    "duration": -113,
    "start_time": "2021-10-29T20:25:03.175Z"
   },
   {
    "duration": -162,
    "start_time": "2021-10-29T20:25:03.224Z"
   },
   {
    "duration": -163,
    "start_time": "2021-10-29T20:25:03.226Z"
   },
   {
    "duration": -220,
    "start_time": "2021-10-29T20:25:03.284Z"
   },
   {
    "duration": -222,
    "start_time": "2021-10-29T20:25:03.287Z"
   },
   {
    "duration": -224,
    "start_time": "2021-10-29T20:25:03.290Z"
   },
   {
    "duration": -250,
    "start_time": "2021-10-29T20:25:03.317Z"
   },
   {
    "duration": -252,
    "start_time": "2021-10-29T20:25:03.320Z"
   },
   {
    "duration": -253,
    "start_time": "2021-10-29T20:25:03.322Z"
   },
   {
    "duration": -255,
    "start_time": "2021-10-29T20:25:03.325Z"
   },
   {
    "duration": -256,
    "start_time": "2021-10-29T20:25:03.327Z"
   },
   {
    "duration": -265,
    "start_time": "2021-10-29T20:25:03.337Z"
   },
   {
    "duration": -267,
    "start_time": "2021-10-29T20:25:03.340Z"
   },
   {
    "duration": -268,
    "start_time": "2021-10-29T20:25:03.342Z"
   },
   {
    "duration": 3639,
    "start_time": "2021-10-29T20:26:15.431Z"
   },
   {
    "duration": 94,
    "start_time": "2021-10-29T20:26:19.331Z"
   },
   {
    "duration": 1402,
    "start_time": "2021-10-29T20:44:18.389Z"
   },
   {
    "duration": 42,
    "start_time": "2021-10-29T20:44:19.794Z"
   },
   {
    "duration": 10,
    "start_time": "2021-10-29T20:44:19.838Z"
   },
   {
    "duration": 58,
    "start_time": "2021-10-29T20:44:19.850Z"
   },
   {
    "duration": 4,
    "start_time": "2021-10-29T20:44:19.910Z"
   },
   {
    "duration": 676,
    "start_time": "2021-10-29T20:44:19.916Z"
   },
   {
    "duration": 4,
    "start_time": "2021-10-29T20:44:20.594Z"
   },
   {
    "duration": 14133,
    "start_time": "2021-10-29T20:44:20.601Z"
   },
   {
    "duration": 42,
    "start_time": "2021-10-29T20:44:34.736Z"
   },
   {
    "duration": 8,
    "start_time": "2021-10-29T20:44:34.781Z"
   },
   {
    "duration": 12,
    "start_time": "2021-10-29T20:44:34.792Z"
   },
   {
    "duration": 18,
    "start_time": "2021-10-29T20:44:34.806Z"
   },
   {
    "duration": 12,
    "start_time": "2021-10-29T20:44:34.826Z"
   },
   {
    "duration": 16,
    "start_time": "2021-10-29T20:44:34.876Z"
   },
   {
    "duration": 349,
    "start_time": "2021-10-29T20:44:34.895Z"
   },
   {
    "duration": 13,
    "start_time": "2021-10-29T20:44:35.246Z"
   },
   {
    "duration": 10,
    "start_time": "2021-10-29T20:44:35.261Z"
   },
   {
    "duration": 12,
    "start_time": "2021-10-29T20:44:35.273Z"
   },
   {
    "duration": 6,
    "start_time": "2021-10-29T20:44:35.287Z"
   },
   {
    "duration": 5,
    "start_time": "2021-10-29T20:44:35.295Z"
   },
   {
    "duration": 339,
    "start_time": "2021-10-29T20:44:35.301Z"
   },
   {
    "duration": 7,
    "start_time": "2021-10-29T20:44:35.642Z"
   },
   {
    "duration": 387,
    "start_time": "2021-10-29T20:44:35.654Z"
   },
   {
    "duration": 8,
    "start_time": "2021-10-29T20:44:36.045Z"
   },
   {
    "duration": 23,
    "start_time": "2021-10-29T20:44:36.055Z"
   },
   {
    "duration": 8,
    "start_time": "2021-10-29T20:44:36.080Z"
   },
   {
    "duration": 14,
    "start_time": "2021-10-29T20:44:36.090Z"
   },
   {
    "duration": 365,
    "start_time": "2021-10-29T20:44:36.106Z"
   },
   {
    "duration": 13,
    "start_time": "2021-10-29T20:44:36.473Z"
   },
   {
    "duration": 15,
    "start_time": "2021-10-29T20:44:36.488Z"
   },
   {
    "duration": 375,
    "start_time": "2021-10-29T20:44:36.505Z"
   },
   {
    "duration": 308,
    "start_time": "2021-10-29T20:44:36.882Z"
   },
   {
    "duration": 6,
    "start_time": "2021-10-29T20:44:37.192Z"
   },
   {
    "duration": 22,
    "start_time": "2021-10-29T20:44:37.200Z"
   },
   {
    "duration": 206,
    "start_time": "2021-10-29T20:44:37.225Z"
   },
   {
    "duration": 13,
    "start_time": "2021-10-29T20:44:37.434Z"
   },
   {
    "duration": 13,
    "start_time": "2021-10-29T20:44:37.449Z"
   },
   {
    "duration": 292,
    "start_time": "2021-10-29T20:44:37.464Z"
   },
   {
    "duration": 300,
    "start_time": "2021-10-29T20:44:37.757Z"
   },
   {
    "duration": 316,
    "start_time": "2021-10-29T20:44:38.059Z"
   },
   {
    "duration": 303,
    "start_time": "2021-10-29T20:44:38.377Z"
   },
   {
    "duration": 326,
    "start_time": "2021-10-29T20:44:38.682Z"
   },
   {
    "duration": 93433,
    "start_time": "2021-10-29T20:44:39.010Z"
   },
   {
    "duration": 180,
    "start_time": "2021-10-29T20:46:12.447Z"
   },
   {
    "duration": 289,
    "start_time": "2021-10-29T20:46:12.629Z"
   },
   {
    "duration": 284,
    "start_time": "2021-10-29T20:46:12.921Z"
   },
   {
    "duration": 73,
    "start_time": "2021-10-29T20:46:13.207Z"
   },
   {
    "duration": 95,
    "start_time": "2021-10-29T20:46:13.283Z"
   },
   {
    "duration": 459257,
    "start_time": "2021-10-29T20:46:13.381Z"
   },
   {
    "duration": 78,
    "start_time": "2021-10-29T20:53:52.640Z"
   },
   {
    "duration": 335,
    "start_time": "2021-10-29T20:53:52.720Z"
   },
   {
    "duration": 369,
    "start_time": "2021-10-29T20:53:53.057Z"
   },
   {
    "duration": 488,
    "start_time": "2021-10-29T20:53:53.428Z"
   },
   {
    "duration": 3748,
    "start_time": "2021-10-29T20:53:53.918Z"
   },
   {
    "duration": 138,
    "start_time": "2021-10-29T20:53:57.668Z"
   },
   {
    "duration": 1449,
    "start_time": "2021-10-29T21:25:29.442Z"
   },
   {
    "duration": 42,
    "start_time": "2021-10-29T21:25:30.893Z"
   },
   {
    "duration": 10,
    "start_time": "2021-10-29T21:25:30.937Z"
   },
   {
    "duration": 59,
    "start_time": "2021-10-29T21:25:30.949Z"
   },
   {
    "duration": 5,
    "start_time": "2021-10-29T21:25:31.010Z"
   },
   {
    "duration": 752,
    "start_time": "2021-10-29T21:25:31.016Z"
   },
   {
    "duration": 10,
    "start_time": "2021-10-29T21:25:31.770Z"
   },
   {
    "duration": 13525,
    "start_time": "2021-10-29T21:25:31.782Z"
   },
   {
    "duration": 24,
    "start_time": "2021-10-29T21:25:45.311Z"
   },
   {
    "duration": 41,
    "start_time": "2021-10-29T21:25:45.338Z"
   },
   {
    "duration": 13,
    "start_time": "2021-10-29T21:25:45.382Z"
   },
   {
    "duration": 25,
    "start_time": "2021-10-29T21:25:45.397Z"
   },
   {
    "duration": 14,
    "start_time": "2021-10-29T21:25:45.425Z"
   },
   {
    "duration": 42,
    "start_time": "2021-10-29T21:25:45.441Z"
   },
   {
    "duration": 300,
    "start_time": "2021-10-29T21:25:45.485Z"
   },
   {
    "duration": 11,
    "start_time": "2021-10-29T21:25:45.787Z"
   },
   {
    "duration": 9,
    "start_time": "2021-10-29T21:25:45.800Z"
   },
   {
    "duration": 12,
    "start_time": "2021-10-29T21:25:45.810Z"
   },
   {
    "duration": 6,
    "start_time": "2021-10-29T21:25:45.824Z"
   },
   {
    "duration": 4,
    "start_time": "2021-10-29T21:25:45.832Z"
   },
   {
    "duration": 353,
    "start_time": "2021-10-29T21:25:45.876Z"
   },
   {
    "duration": 6,
    "start_time": "2021-10-29T21:25:46.231Z"
   },
   {
    "duration": 307,
    "start_time": "2021-10-29T21:25:46.239Z"
   },
   {
    "duration": 7,
    "start_time": "2021-10-29T21:25:46.548Z"
   },
   {
    "duration": 19,
    "start_time": "2021-10-29T21:25:46.557Z"
   },
   {
    "duration": 8,
    "start_time": "2021-10-29T21:25:46.579Z"
   },
   {
    "duration": 18,
    "start_time": "2021-10-29T21:25:46.593Z"
   },
   {
    "duration": 385,
    "start_time": "2021-10-29T21:25:46.614Z"
   },
   {
    "duration": 14,
    "start_time": "2021-10-29T21:25:47.002Z"
   },
   {
    "duration": 13,
    "start_time": "2021-10-29T21:25:47.018Z"
   },
   {
    "duration": 253,
    "start_time": "2021-10-29T21:25:47.033Z"
   },
   {
    "duration": 303,
    "start_time": "2021-10-29T21:25:47.288Z"
   },
   {
    "duration": 6,
    "start_time": "2021-10-29T21:25:47.594Z"
   },
   {
    "duration": 15,
    "start_time": "2021-10-29T21:25:47.603Z"
   },
   {
    "duration": 251,
    "start_time": "2021-10-29T21:25:47.620Z"
   },
   {
    "duration": 11,
    "start_time": "2021-10-29T21:25:47.873Z"
   },
   {
    "duration": 11,
    "start_time": "2021-10-29T21:25:47.886Z"
   },
   {
    "duration": 326,
    "start_time": "2021-10-29T21:25:47.899Z"
   },
   {
    "duration": 298,
    "start_time": "2021-10-29T21:25:48.226Z"
   },
   {
    "duration": 286,
    "start_time": "2021-10-29T21:25:48.525Z"
   },
   {
    "duration": 301,
    "start_time": "2021-10-29T21:25:48.813Z"
   },
   {
    "duration": 298,
    "start_time": "2021-10-29T21:25:49.116Z"
   },
   {
    "duration": 93750,
    "start_time": "2021-10-29T21:25:49.416Z"
   },
   {
    "duration": 192,
    "start_time": "2021-10-29T21:27:23.168Z"
   },
   {
    "duration": 382,
    "start_time": "2021-10-29T21:27:23.362Z"
   },
   {
    "duration": 313,
    "start_time": "2021-10-29T21:27:23.746Z"
   },
   {
    "duration": 123,
    "start_time": "2021-10-29T21:27:24.062Z"
   },
   {
    "duration": 12,
    "start_time": "2021-10-29T21:27:24.277Z"
   },
   {
    "duration": 435086,
    "start_time": "2021-10-29T21:27:24.291Z"
   },
   {
    "duration": 74,
    "start_time": "2021-10-29T21:34:39.380Z"
   },
   {
    "duration": 388,
    "start_time": "2021-10-29T21:34:39.456Z"
   },
   {
    "duration": 382,
    "start_time": "2021-10-29T21:34:39.846Z"
   },
   {
    "duration": 435,
    "start_time": "2021-10-29T21:34:40.230Z"
   },
   {
    "duration": 3702,
    "start_time": "2021-10-29T21:34:40.667Z"
   },
   {
    "duration": 106,
    "start_time": "2021-10-29T21:34:44.371Z"
   },
   {
    "duration": 1369,
    "start_time": "2021-10-29T21:43:00.357Z"
   },
   {
    "duration": 43,
    "start_time": "2021-10-29T21:43:01.729Z"
   },
   {
    "duration": 11,
    "start_time": "2021-10-29T21:43:01.774Z"
   },
   {
    "duration": 40,
    "start_time": "2021-10-29T21:43:01.788Z"
   },
   {
    "duration": 5,
    "start_time": "2021-10-29T21:43:01.831Z"
   },
   {
    "duration": 906,
    "start_time": "2021-10-29T21:43:01.838Z"
   },
   {
    "duration": 5,
    "start_time": "2021-10-29T21:43:02.745Z"
   },
   {
    "duration": 13938,
    "start_time": "2021-10-29T21:43:02.752Z"
   },
   {
    "duration": 28,
    "start_time": "2021-10-29T21:43:16.693Z"
   },
   {
    "duration": 8,
    "start_time": "2021-10-29T21:43:16.724Z"
   },
   {
    "duration": 46,
    "start_time": "2021-10-29T21:43:16.734Z"
   },
   {
    "duration": 17,
    "start_time": "2021-10-29T21:43:16.782Z"
   },
   {
    "duration": 12,
    "start_time": "2021-10-29T21:43:16.801Z"
   },
   {
    "duration": 13,
    "start_time": "2021-10-29T21:43:16.815Z"
   },
   {
    "duration": 388,
    "start_time": "2021-10-29T21:43:16.829Z"
   },
   {
    "duration": 13,
    "start_time": "2021-10-29T21:43:17.219Z"
   },
   {
    "duration": 11,
    "start_time": "2021-10-29T21:43:17.234Z"
   },
   {
    "duration": 12,
    "start_time": "2021-10-29T21:43:17.247Z"
   },
   {
    "duration": 8,
    "start_time": "2021-10-29T21:43:17.261Z"
   },
   {
    "duration": 6,
    "start_time": "2021-10-29T21:43:17.271Z"
   },
   {
    "duration": 349,
    "start_time": "2021-10-29T21:43:17.279Z"
   },
   {
    "duration": 5,
    "start_time": "2021-10-29T21:43:17.630Z"
   },
   {
    "duration": 305,
    "start_time": "2021-10-29T21:43:17.637Z"
   },
   {
    "duration": 7,
    "start_time": "2021-10-29T21:43:17.944Z"
   },
   {
    "duration": 23,
    "start_time": "2021-10-29T21:43:17.953Z"
   },
   {
    "duration": 8,
    "start_time": "2021-10-29T21:43:17.979Z"
   },
   {
    "duration": 13,
    "start_time": "2021-10-29T21:43:17.992Z"
   },
   {
    "duration": 380,
    "start_time": "2021-10-29T21:43:18.008Z"
   },
   {
    "duration": 14,
    "start_time": "2021-10-29T21:43:18.390Z"
   },
   {
    "duration": 14,
    "start_time": "2021-10-29T21:43:18.406Z"
   },
   {
    "duration": 372,
    "start_time": "2021-10-29T21:43:18.421Z"
   },
   {
    "duration": 333,
    "start_time": "2021-10-29T21:43:18.795Z"
   },
   {
    "duration": 4,
    "start_time": "2021-10-29T21:43:19.130Z"
   },
   {
    "duration": 20,
    "start_time": "2021-10-29T21:43:19.136Z"
   },
   {
    "duration": 242,
    "start_time": "2021-10-29T21:43:19.158Z"
   },
   {
    "duration": 13,
    "start_time": "2021-10-29T21:43:19.403Z"
   },
   {
    "duration": 12,
    "start_time": "2021-10-29T21:43:19.418Z"
   },
   {
    "duration": 276,
    "start_time": "2021-10-29T21:43:19.432Z"
   },
   {
    "duration": 310,
    "start_time": "2021-10-29T21:43:19.710Z"
   },
   {
    "duration": 614,
    "start_time": "2021-10-29T21:43:20.022Z"
   },
   {
    "duration": 293,
    "start_time": "2021-10-29T21:43:20.637Z"
   },
   {
    "duration": 365,
    "start_time": "2021-10-29T21:43:20.932Z"
   },
   {
    "duration": 93255,
    "start_time": "2021-10-29T21:43:21.300Z"
   },
   {
    "duration": 180,
    "start_time": "2021-10-29T21:44:54.557Z"
   },
   {
    "duration": 346,
    "start_time": "2021-10-29T21:44:54.739Z"
   },
   {
    "duration": 322,
    "start_time": "2021-10-29T21:44:55.087Z"
   },
   {
    "duration": 69,
    "start_time": "2021-10-29T21:44:55.410Z"
   },
   {
    "duration": 101,
    "start_time": "2021-10-29T21:44:55.481Z"
   },
   {
    "duration": 1570,
    "start_time": "2021-10-30T06:45:06.852Z"
   },
   {
    "duration": 53,
    "start_time": "2021-10-30T06:45:08.425Z"
   },
   {
    "duration": 12,
    "start_time": "2021-10-30T06:45:08.481Z"
   },
   {
    "duration": 60,
    "start_time": "2021-10-30T06:45:08.496Z"
   },
   {
    "duration": 6,
    "start_time": "2021-10-30T06:45:08.581Z"
   },
   {
    "duration": 985,
    "start_time": "2021-10-30T06:45:08.590Z"
   },
   {
    "duration": 7,
    "start_time": "2021-10-30T06:45:09.577Z"
   },
   {
    "duration": 18812,
    "start_time": "2021-10-30T06:45:09.588Z"
   },
   {
    "duration": 34,
    "start_time": "2021-10-30T06:45:28.403Z"
   },
   {
    "duration": 44,
    "start_time": "2021-10-30T06:45:28.439Z"
   },
   {
    "duration": 12,
    "start_time": "2021-10-30T06:45:28.486Z"
   },
   {
    "duration": 22,
    "start_time": "2021-10-30T06:45:28.501Z"
   },
   {
    "duration": 17,
    "start_time": "2021-10-30T06:45:28.525Z"
   },
   {
    "duration": 51,
    "start_time": "2021-10-30T06:45:28.545Z"
   },
   {
    "duration": 363,
    "start_time": "2021-10-30T06:45:28.598Z"
   },
   {
    "duration": 16,
    "start_time": "2021-10-30T06:45:28.964Z"
   },
   {
    "duration": 11,
    "start_time": "2021-10-30T06:45:28.982Z"
   },
   {
    "duration": 15,
    "start_time": "2021-10-30T06:45:28.995Z"
   },
   {
    "duration": 8,
    "start_time": "2021-10-30T06:45:29.012Z"
   },
   {
    "duration": 6,
    "start_time": "2021-10-30T06:45:29.023Z"
   },
   {
    "duration": 414,
    "start_time": "2021-10-30T06:45:29.031Z"
   },
   {
    "duration": 6,
    "start_time": "2021-10-30T06:45:29.447Z"
   },
   {
    "duration": 356,
    "start_time": "2021-10-30T06:45:29.460Z"
   },
   {
    "duration": 7,
    "start_time": "2021-10-30T06:45:29.820Z"
   },
   {
    "duration": 6,
    "start_time": "2021-10-30T06:45:29.830Z"
   },
   {
    "duration": 12,
    "start_time": "2021-10-30T06:45:29.839Z"
   },
   {
    "duration": 19,
    "start_time": "2021-10-30T06:45:29.881Z"
   },
   {
    "duration": 408,
    "start_time": "2021-10-30T06:45:29.903Z"
   },
   {
    "duration": 16,
    "start_time": "2021-10-30T06:45:30.314Z"
   },
   {
    "duration": 17,
    "start_time": "2021-10-30T06:45:30.332Z"
   },
   {
    "duration": 399,
    "start_time": "2021-10-30T06:45:30.352Z"
   },
   {
    "duration": 351,
    "start_time": "2021-10-30T06:45:30.754Z"
   },
   {
    "duration": 6,
    "start_time": "2021-10-30T06:45:31.107Z"
   },
   {
    "duration": 28,
    "start_time": "2021-10-30T06:45:31.115Z"
   },
   {
    "duration": 241,
    "start_time": "2021-10-30T06:45:31.145Z"
   },
   {
    "duration": 16,
    "start_time": "2021-10-30T06:45:31.389Z"
   },
   {
    "duration": 16,
    "start_time": "2021-10-30T06:45:31.408Z"
   },
   {
    "duration": 441,
    "start_time": "2021-10-30T06:45:31.427Z"
   },
   {
    "duration": 364,
    "start_time": "2021-10-30T06:45:31.871Z"
   },
   {
    "duration": 342,
    "start_time": "2021-10-30T06:45:32.238Z"
   },
   {
    "duration": 347,
    "start_time": "2021-10-30T06:45:32.582Z"
   },
   {
    "duration": 403,
    "start_time": "2021-10-30T06:45:32.932Z"
   },
   {
    "duration": 117024,
    "start_time": "2021-10-30T06:45:33.337Z"
   },
   {
    "duration": 194,
    "start_time": "2021-10-30T06:47:30.363Z"
   },
   {
    "duration": 371,
    "start_time": "2021-10-30T06:47:30.560Z"
   },
   {
    "duration": 390,
    "start_time": "2021-10-30T06:47:30.934Z"
   },
   {
    "duration": 156,
    "start_time": "2021-10-30T06:47:31.326Z"
   },
   {
    "duration": 102,
    "start_time": "2021-10-30T06:47:31.486Z"
   },
   {
    "duration": 214840,
    "start_time": "2021-10-30T06:47:31.592Z"
   },
   {
    "duration": 84,
    "start_time": "2021-10-30T06:51:06.435Z"
   },
   {
    "duration": 480,
    "start_time": "2021-10-30T06:51:06.523Z"
   },
   {
    "duration": 503,
    "start_time": "2021-10-30T06:51:07.005Z"
   },
   {
    "duration": 534,
    "start_time": "2021-10-30T06:51:07.510Z"
   },
   {
    "duration": 4662,
    "start_time": "2021-10-30T06:51:08.047Z"
   },
   {
    "duration": 140,
    "start_time": "2021-10-30T06:51:12.712Z"
   },
   {
    "duration": 1541,
    "start_time": "2021-10-30T07:02:47.831Z"
   },
   {
    "duration": 54,
    "start_time": "2021-10-30T07:02:49.375Z"
   },
   {
    "duration": 13,
    "start_time": "2021-10-30T07:02:49.432Z"
   },
   {
    "duration": 82,
    "start_time": "2021-10-30T07:02:49.448Z"
   },
   {
    "duration": 6,
    "start_time": "2021-10-30T07:02:49.532Z"
   },
   {
    "duration": 982,
    "start_time": "2021-10-30T07:02:49.540Z"
   },
   {
    "duration": 5,
    "start_time": "2021-10-30T07:02:50.525Z"
   },
   {
    "duration": 21229,
    "start_time": "2021-10-30T07:02:50.532Z"
   },
   {
    "duration": 42,
    "start_time": "2021-10-30T07:03:11.765Z"
   },
   {
    "duration": 9,
    "start_time": "2021-10-30T07:03:11.810Z"
   },
   {
    "duration": 12,
    "start_time": "2021-10-30T07:03:11.821Z"
   },
   {
    "duration": 64,
    "start_time": "2021-10-30T07:03:11.835Z"
   },
   {
    "duration": 16,
    "start_time": "2021-10-30T07:03:11.902Z"
   },
   {
    "duration": 17,
    "start_time": "2021-10-30T07:03:11.921Z"
   },
   {
    "duration": 363,
    "start_time": "2021-10-30T07:03:11.940Z"
   },
   {
    "duration": 15,
    "start_time": "2021-10-30T07:03:12.305Z"
   },
   {
    "duration": 10,
    "start_time": "2021-10-30T07:03:12.323Z"
   },
   {
    "duration": 14,
    "start_time": "2021-10-30T07:03:12.335Z"
   },
   {
    "duration": 31,
    "start_time": "2021-10-30T07:03:12.351Z"
   },
   {
    "duration": 6,
    "start_time": "2021-10-30T07:03:12.385Z"
   },
   {
    "duration": 393,
    "start_time": "2021-10-30T07:03:12.393Z"
   },
   {
    "duration": 7,
    "start_time": "2021-10-30T07:03:12.788Z"
   },
   {
    "duration": 420,
    "start_time": "2021-10-30T07:03:12.797Z"
   },
   {
    "duration": 8,
    "start_time": "2021-10-30T07:03:13.219Z"
   },
   {
    "duration": 6,
    "start_time": "2021-10-30T07:03:13.229Z"
   },
   {
    "duration": 11,
    "start_time": "2021-10-30T07:03:13.237Z"
   },
   {
    "duration": 44,
    "start_time": "2021-10-30T07:03:13.256Z"
   },
   {
    "duration": 703,
    "start_time": "2021-10-30T07:03:13.304Z"
   },
   {
    "duration": 18,
    "start_time": "2021-10-30T07:03:14.010Z"
   },
   {
    "duration": 17,
    "start_time": "2021-10-30T07:03:14.031Z"
   },
   {
    "duration": 335,
    "start_time": "2021-10-30T07:03:14.051Z"
   },
   {
    "duration": 347,
    "start_time": "2021-10-30T07:03:14.389Z"
   },
   {
    "duration": 7,
    "start_time": "2021-10-30T07:03:14.739Z"
   },
   {
    "duration": 39,
    "start_time": "2021-10-30T07:03:14.749Z"
   },
   {
    "duration": 261,
    "start_time": "2021-10-30T07:03:14.790Z"
   },
   {
    "duration": 15,
    "start_time": "2021-10-30T07:03:15.054Z"
   },
   {
    "duration": 14,
    "start_time": "2021-10-30T07:03:15.072Z"
   },
   {
    "duration": 370,
    "start_time": "2021-10-30T07:03:15.088Z"
   },
   {
    "duration": 378,
    "start_time": "2021-10-30T07:03:15.461Z"
   },
   {
    "duration": 347,
    "start_time": "2021-10-30T07:03:15.842Z"
   },
   {
    "duration": 365,
    "start_time": "2021-10-30T07:03:16.191Z"
   },
   {
    "duration": 404,
    "start_time": "2021-10-30T07:03:16.558Z"
   },
   {
    "duration": 118610,
    "start_time": "2021-10-30T07:03:16.965Z"
   },
   {
    "duration": 191,
    "start_time": "2021-10-30T07:05:15.580Z"
   },
   {
    "duration": 358,
    "start_time": "2021-10-30T07:05:15.773Z"
   },
   {
    "duration": 384,
    "start_time": "2021-10-30T07:05:16.133Z"
   },
   {
    "duration": 71,
    "start_time": "2021-10-30T07:05:16.519Z"
   },
   {
    "duration": 100,
    "start_time": "2021-10-30T07:05:16.683Z"
   },
   {
    "duration": 214446,
    "start_time": "2021-10-30T07:05:16.787Z"
   },
   {
    "duration": 69,
    "start_time": "2021-10-30T07:08:51.235Z"
   },
   {
    "duration": 490,
    "start_time": "2021-10-30T07:08:51.307Z"
   },
   {
    "duration": 501,
    "start_time": "2021-10-30T07:08:51.799Z"
   },
   {
    "duration": 531,
    "start_time": "2021-10-30T07:08:52.302Z"
   },
   {
    "duration": 4897,
    "start_time": "2021-10-30T07:08:52.836Z"
   },
   {
    "duration": 146,
    "start_time": "2021-10-30T07:08:57.735Z"
   },
   {
    "duration": 1641,
    "start_time": "2021-10-30T07:13:27.770Z"
   },
   {
    "duration": 55,
    "start_time": "2021-10-30T07:13:29.414Z"
   },
   {
    "duration": 19,
    "start_time": "2021-10-30T07:13:29.472Z"
   },
   {
    "duration": 65,
    "start_time": "2021-10-30T07:13:29.494Z"
   },
   {
    "duration": 23,
    "start_time": "2021-10-30T07:13:29.561Z"
   },
   {
    "duration": 991,
    "start_time": "2021-10-30T07:13:29.587Z"
   },
   {
    "duration": 8,
    "start_time": "2021-10-30T07:13:30.583Z"
   },
   {
    "duration": 18509,
    "start_time": "2021-10-30T07:13:30.594Z"
   },
   {
    "duration": 33,
    "start_time": "2021-10-30T07:13:49.107Z"
   },
   {
    "duration": 45,
    "start_time": "2021-10-30T07:13:49.143Z"
   },
   {
    "duration": 15,
    "start_time": "2021-10-30T07:13:49.191Z"
   },
   {
    "duration": 23,
    "start_time": "2021-10-30T07:13:49.208Z"
   },
   {
    "duration": 59,
    "start_time": "2021-10-30T07:13:49.234Z"
   },
   {
    "duration": 20,
    "start_time": "2021-10-30T07:13:49.296Z"
   },
   {
    "duration": 569,
    "start_time": "2021-10-30T07:13:49.319Z"
   },
   {
    "duration": 16,
    "start_time": "2021-10-30T07:13:49.890Z"
   },
   {
    "duration": 11,
    "start_time": "2021-10-30T07:13:49.908Z"
   },
   {
    "duration": 15,
    "start_time": "2021-10-30T07:13:49.922Z"
   },
   {
    "duration": 46,
    "start_time": "2021-10-30T07:13:49.939Z"
   },
   {
    "duration": 8,
    "start_time": "2021-10-30T07:13:49.988Z"
   },
   {
    "duration": 580,
    "start_time": "2021-10-30T07:13:50.000Z"
   },
   {
    "duration": 9,
    "start_time": "2021-10-30T07:13:50.583Z"
   },
   {
    "duration": 600,
    "start_time": "2021-10-30T07:13:50.595Z"
   },
   {
    "duration": 9,
    "start_time": "2021-10-30T07:13:51.198Z"
   },
   {
    "duration": 9,
    "start_time": "2021-10-30T07:13:51.209Z"
   },
   {
    "duration": 11,
    "start_time": "2021-10-30T07:13:51.220Z"
   },
   {
    "duration": 51,
    "start_time": "2021-10-30T07:13:51.237Z"
   },
   {
    "duration": 419,
    "start_time": "2021-10-30T07:13:51.292Z"
   },
   {
    "duration": 29,
    "start_time": "2021-10-30T07:13:51.714Z"
   },
   {
    "duration": 16,
    "start_time": "2021-10-30T07:13:51.746Z"
   },
   {
    "duration": 437,
    "start_time": "2021-10-30T07:13:51.765Z"
   },
   {
    "duration": 364,
    "start_time": "2021-10-30T07:13:52.204Z"
   },
   {
    "duration": 11,
    "start_time": "2021-10-30T07:13:52.571Z"
   },
   {
    "duration": 19,
    "start_time": "2021-10-30T07:13:52.585Z"
   },
   {
    "duration": 216,
    "start_time": "2021-10-30T07:13:52.606Z"
   },
   {
    "duration": 14,
    "start_time": "2021-10-30T07:13:52.825Z"
   },
   {
    "duration": 14,
    "start_time": "2021-10-30T07:13:52.842Z"
   },
   {
    "duration": 391,
    "start_time": "2021-10-30T07:13:52.859Z"
   },
   {
    "duration": 358,
    "start_time": "2021-10-30T07:13:53.252Z"
   },
   {
    "duration": 452,
    "start_time": "2021-10-30T07:13:53.612Z"
   },
   {
    "duration": 449,
    "start_time": "2021-10-30T07:13:54.066Z"
   },
   {
    "duration": 435,
    "start_time": "2021-10-30T07:13:54.517Z"
   },
   {
    "duration": 117026,
    "start_time": "2021-10-30T07:13:54.954Z"
   },
   {
    "duration": 184,
    "start_time": "2021-10-30T07:15:51.982Z"
   },
   {
    "duration": 357,
    "start_time": "2021-10-30T07:15:52.169Z"
   },
   {
    "duration": 382,
    "start_time": "2021-10-30T07:15:52.529Z"
   },
   {
    "duration": 77,
    "start_time": "2021-10-30T07:15:52.913Z"
   },
   {
    "duration": 12,
    "start_time": "2021-10-30T07:15:53.083Z"
   },
   {
    "duration": 216029,
    "start_time": "2021-10-30T07:15:53.099Z"
   },
   {
    "duration": 74,
    "start_time": "2021-10-30T07:19:29.130Z"
   },
   {
    "duration": 422,
    "start_time": "2021-10-30T07:19:29.283Z"
   },
   {
    "duration": 503,
    "start_time": "2021-10-30T07:19:29.707Z"
   },
   {
    "duration": 517,
    "start_time": "2021-10-30T07:19:30.213Z"
   },
   {
    "duration": 4749,
    "start_time": "2021-10-30T07:19:30.733Z"
   },
   {
    "duration": 137,
    "start_time": "2021-10-30T07:19:35.485Z"
   },
   {
    "duration": 1546,
    "start_time": "2021-10-30T07:30:07.056Z"
   },
   {
    "duration": 53,
    "start_time": "2021-10-30T07:30:08.605Z"
   },
   {
    "duration": 22,
    "start_time": "2021-10-30T07:30:08.661Z"
   },
   {
    "duration": 59,
    "start_time": "2021-10-30T07:30:08.685Z"
   },
   {
    "duration": 6,
    "start_time": "2021-10-30T07:30:08.746Z"
   },
   {
    "duration": 1000,
    "start_time": "2021-10-30T07:30:08.754Z"
   },
   {
    "duration": 5,
    "start_time": "2021-10-30T07:30:09.756Z"
   },
   {
    "duration": 17565,
    "start_time": "2021-10-30T07:30:09.765Z"
   },
   {
    "duration": 60,
    "start_time": "2021-10-30T07:30:27.333Z"
   },
   {
    "duration": 9,
    "start_time": "2021-10-30T07:30:27.396Z"
   },
   {
    "duration": 12,
    "start_time": "2021-10-30T07:30:27.407Z"
   },
   {
    "duration": 24,
    "start_time": "2021-10-30T07:30:27.421Z"
   },
   {
    "duration": 51,
    "start_time": "2021-10-30T07:30:27.447Z"
   },
   {
    "duration": 17,
    "start_time": "2021-10-30T07:30:27.500Z"
   },
   {
    "duration": 355,
    "start_time": "2021-10-30T07:30:27.519Z"
   },
   {
    "duration": 15,
    "start_time": "2021-10-30T07:30:27.877Z"
   },
   {
    "duration": 11,
    "start_time": "2021-10-30T07:30:27.894Z"
   },
   {
    "duration": 13,
    "start_time": "2021-10-30T07:30:27.907Z"
   },
   {
    "duration": 7,
    "start_time": "2021-10-30T07:30:27.923Z"
   },
   {
    "duration": 6,
    "start_time": "2021-10-30T07:30:27.932Z"
   },
   {
    "duration": 395,
    "start_time": "2021-10-30T07:30:27.983Z"
   },
   {
    "duration": 7,
    "start_time": "2021-10-30T07:30:28.380Z"
   },
   {
    "duration": 354,
    "start_time": "2021-10-30T07:30:28.393Z"
   },
   {
    "duration": 8,
    "start_time": "2021-10-30T07:30:28.751Z"
   },
   {
    "duration": 21,
    "start_time": "2021-10-30T07:30:28.761Z"
   },
   {
    "duration": 16,
    "start_time": "2021-10-30T07:30:28.784Z"
   },
   {
    "duration": 22,
    "start_time": "2021-10-30T07:30:28.802Z"
   },
   {
    "duration": 405,
    "start_time": "2021-10-30T07:30:28.826Z"
   },
   {
    "duration": 16,
    "start_time": "2021-10-30T07:30:29.233Z"
   },
   {
    "duration": 15,
    "start_time": "2021-10-30T07:30:29.252Z"
   },
   {
    "duration": 342,
    "start_time": "2021-10-30T07:30:29.270Z"
   },
   {
    "duration": 349,
    "start_time": "2021-10-30T07:30:29.614Z"
   },
   {
    "duration": 6,
    "start_time": "2021-10-30T07:30:29.965Z"
   },
   {
    "duration": 34,
    "start_time": "2021-10-30T07:30:29.973Z"
   },
   {
    "duration": 642,
    "start_time": "2021-10-30T07:30:30.010Z"
   },
   {
    "duration": 14,
    "start_time": "2021-10-30T07:30:30.655Z"
   },
   {
    "duration": 20,
    "start_time": "2021-10-30T07:30:30.671Z"
   },
   {
    "duration": 404,
    "start_time": "2021-10-30T07:30:30.693Z"
   },
   {
    "duration": 357,
    "start_time": "2021-10-30T07:30:31.099Z"
   },
   {
    "duration": 335,
    "start_time": "2021-10-30T07:30:31.459Z"
   },
   {
    "duration": 411,
    "start_time": "2021-10-30T07:30:31.796Z"
   },
   {
    "duration": 410,
    "start_time": "2021-10-30T07:30:32.210Z"
   },
   {
    "duration": 117155,
    "start_time": "2021-10-30T07:30:32.623Z"
   },
   {
    "duration": 177,
    "start_time": "2021-10-30T07:32:29.781Z"
   },
   {
    "duration": 364,
    "start_time": "2021-10-30T07:32:29.961Z"
   },
   {
    "duration": 399,
    "start_time": "2021-10-30T07:32:30.328Z"
   },
   {
    "duration": 156,
    "start_time": "2021-10-30T07:32:30.730Z"
   },
   {
    "duration": 103,
    "start_time": "2021-10-30T07:32:30.890Z"
   },
   {
    "duration": 221952,
    "start_time": "2021-10-30T07:32:31.084Z"
   },
   {
    "duration": 78,
    "start_time": "2021-10-30T07:36:13.039Z"
   },
   {
    "duration": 482,
    "start_time": "2021-10-30T07:36:13.120Z"
   },
   {
    "duration": 578,
    "start_time": "2021-10-30T07:36:13.605Z"
   },
   {
    "duration": 511,
    "start_time": "2021-10-30T07:36:14.185Z"
   },
   {
    "duration": 4749,
    "start_time": "2021-10-30T07:36:14.698Z"
   },
   {
    "duration": 141,
    "start_time": "2021-10-30T07:36:19.449Z"
   },
   {
    "duration": 405947,
    "start_time": "2021-10-30T07:36:19.592Z"
   },
   {
    "duration": 5,
    "start_time": "2021-10-30T07:43:05.541Z"
   },
   {
    "duration": 391,
    "start_time": "2021-10-30T07:43:05.548Z"
   },
   {
    "duration": 715,
    "start_time": "2021-10-30T07:43:05.941Z"
   },
   {
    "duration": 674,
    "start_time": "2021-10-30T07:43:06.659Z"
   },
   {
    "duration": 323,
    "start_time": "2021-10-30T07:43:07.335Z"
   },
   {
    "duration": 90,
    "start_time": "2021-10-30T07:43:07.661Z"
   },
   {
    "duration": 51562,
    "start_time": "2021-10-30T07:43:07.753Z"
   },
   {
    "duration": 514,
    "start_time": "2021-10-30T07:43:59.319Z"
   },
   {
    "duration": 696,
    "start_time": "2021-10-30T07:43:59.836Z"
   },
   {
    "duration": 720,
    "start_time": "2021-10-30T07:44:00.535Z"
   },
   {
    "duration": 159,
    "start_time": "2021-10-30T07:44:01.258Z"
   },
   {
    "duration": 11,
    "start_time": "2021-10-30T07:44:01.425Z"
   },
   {
    "duration": 314,
    "start_time": "2021-10-30T07:44:01.440Z"
   },
   {
    "duration": 339,
    "start_time": "2021-10-30T07:44:01.757Z"
   },
   {
    "duration": 239,
    "start_time": "2021-10-30T07:44:02.099Z"
   },
   {
    "duration": 109,
    "start_time": "2021-10-30T07:44:02.384Z"
   },
   {
    "duration": 524,
    "start_time": "2021-10-30T07:44:02.496Z"
   },
   {
    "duration": 523,
    "start_time": "2021-10-30T07:44:03.022Z"
   },
   {
    "duration": 3435,
    "start_time": "2021-10-30T07:44:03.548Z"
   },
   {
    "duration": 3360,
    "start_time": "2021-10-30T07:44:06.987Z"
   },
   {
    "duration": 484,
    "start_time": "2021-10-30T07:53:06.051Z"
   },
   {
    "duration": 144,
    "start_time": "2021-10-30T07:53:07.271Z"
   },
   {
    "duration": 19,
    "start_time": "2021-10-30T07:54:24.199Z"
   },
   {
    "duration": 11,
    "start_time": "2021-10-30T07:54:35.095Z"
   },
   {
    "duration": 38,
    "start_time": "2021-10-30T07:55:23.351Z"
   },
   {
    "duration": 37,
    "start_time": "2021-10-30T07:55:36.644Z"
   },
   {
    "duration": 16,
    "start_time": "2021-10-30T07:55:52.264Z"
   },
   {
    "duration": 10,
    "start_time": "2021-10-30T07:55:52.864Z"
   },
   {
    "duration": 166,
    "start_time": "2021-10-30T07:55:53.720Z"
   },
   {
    "duration": 12,
    "start_time": "2021-10-30T07:55:54.234Z"
   },
   {
    "duration": 167,
    "start_time": "2021-10-30T07:56:02.928Z"
   },
   {
    "duration": 102,
    "start_time": "2021-10-30T07:56:03.183Z"
   },
   {
    "duration": 250,
    "start_time": "2021-10-30T07:56:03.444Z"
   },
   {
    "duration": 16,
    "start_time": "2021-10-30T07:56:04.199Z"
   },
   {
    "duration": 284,
    "start_time": "2021-10-31T07:48:42.672Z"
   },
   {
    "duration": 262,
    "start_time": "2021-10-31T07:48:52.063Z"
   },
   {
    "duration": 261,
    "start_time": "2021-10-31T07:49:02.591Z"
   },
   {
    "duration": 1237,
    "start_time": "2021-10-31T07:49:11.491Z"
   },
   {
    "duration": 47,
    "start_time": "2021-10-31T07:49:12.730Z"
   },
   {
    "duration": 8,
    "start_time": "2021-10-31T07:49:12.779Z"
   },
   {
    "duration": 38,
    "start_time": "2021-10-31T07:49:12.789Z"
   },
   {
    "duration": 6,
    "start_time": "2021-10-31T07:49:12.849Z"
   },
   {
    "duration": 701,
    "start_time": "2021-10-31T07:49:12.857Z"
   },
   {
    "duration": 3,
    "start_time": "2021-10-31T07:49:13.560Z"
   },
   {
    "duration": 12030,
    "start_time": "2021-10-31T07:49:13.565Z"
   },
   {
    "duration": 21,
    "start_time": "2021-10-31T07:49:25.597Z"
   },
   {
    "duration": 30,
    "start_time": "2021-10-31T07:49:25.619Z"
   },
   {
    "duration": 13,
    "start_time": "2021-10-31T07:49:25.652Z"
   },
   {
    "duration": 43,
    "start_time": "2021-10-31T07:49:25.667Z"
   },
   {
    "duration": 8,
    "start_time": "2021-10-31T07:49:25.712Z"
   },
   {
    "duration": 8,
    "start_time": "2021-10-31T07:49:25.722Z"
   },
   {
    "duration": 257,
    "start_time": "2021-10-31T07:49:25.732Z"
   },
   {
    "duration": 11,
    "start_time": "2021-10-31T07:49:25.990Z"
   },
   {
    "duration": 7,
    "start_time": "2021-10-31T07:49:26.002Z"
   },
   {
    "duration": 10,
    "start_time": "2021-10-31T07:49:26.011Z"
   },
   {
    "duration": 5,
    "start_time": "2021-10-31T07:49:26.023Z"
   },
   {
    "duration": 4,
    "start_time": "2021-10-31T07:49:26.030Z"
   },
   {
    "duration": 285,
    "start_time": "2021-10-31T07:49:26.035Z"
   },
   {
    "duration": 4,
    "start_time": "2021-10-31T07:49:26.322Z"
   },
   {
    "duration": 242,
    "start_time": "2021-10-31T07:49:26.330Z"
   },
   {
    "duration": 6,
    "start_time": "2021-10-31T07:49:26.574Z"
   },
   {
    "duration": 5,
    "start_time": "2021-10-31T07:49:26.581Z"
   },
   {
    "duration": 13,
    "start_time": "2021-10-31T07:49:26.588Z"
   },
   {
    "duration": 12,
    "start_time": "2021-10-31T07:49:26.603Z"
   },
   {
    "duration": 313,
    "start_time": "2021-10-31T07:49:26.617Z"
   },
   {
    "duration": 12,
    "start_time": "2021-10-31T07:49:26.933Z"
   },
   {
    "duration": 15,
    "start_time": "2021-10-31T07:49:26.948Z"
   },
   {
    "duration": 380,
    "start_time": "2021-10-31T07:49:26.965Z"
   },
   {
    "duration": 294,
    "start_time": "2021-10-31T07:49:27.347Z"
   },
   {
    "duration": 9,
    "start_time": "2021-10-31T07:49:27.643Z"
   },
   {
    "duration": 12,
    "start_time": "2021-10-31T07:49:27.654Z"
   },
   {
    "duration": 197,
    "start_time": "2021-10-31T07:49:27.668Z"
   },
   {
    "duration": 10,
    "start_time": "2021-10-31T07:49:27.866Z"
   },
   {
    "duration": 10,
    "start_time": "2021-10-31T07:49:27.877Z"
   },
   {
    "duration": 248,
    "start_time": "2021-10-31T07:49:27.889Z"
   },
   {
    "duration": 238,
    "start_time": "2021-10-31T07:49:28.138Z"
   },
   {
    "duration": 254,
    "start_time": "2021-10-31T07:49:28.378Z"
   },
   {
    "duration": 364,
    "start_time": "2021-10-31T07:49:28.634Z"
   },
   {
    "duration": 238,
    "start_time": "2021-10-31T07:49:28.999Z"
   },
   {
    "duration": 122774,
    "start_time": "2021-10-31T07:49:29.239Z"
   },
   {
    "duration": 141,
    "start_time": "2021-10-31T07:51:32.015Z"
   },
   {
    "duration": 267,
    "start_time": "2021-10-31T07:51:32.159Z"
   },
   {
    "duration": 277,
    "start_time": "2021-10-31T07:51:32.428Z"
   },
   {
    "duration": 139,
    "start_time": "2021-10-31T07:51:32.707Z"
   },
   {
    "duration": 10,
    "start_time": "2021-10-31T07:51:32.849Z"
   },
   {
    "duration": 215884,
    "start_time": "2021-10-31T07:51:32.861Z"
   },
   {
    "duration": 100,
    "start_time": "2021-10-31T07:55:08.747Z"
   },
   {
    "duration": 424,
    "start_time": "2021-10-31T07:55:08.849Z"
   },
   {
    "duration": 692,
    "start_time": "2021-10-31T07:55:09.275Z"
   },
   {
    "duration": 594,
    "start_time": "2021-10-31T07:55:09.969Z"
   },
   {
    "duration": 4592,
    "start_time": "2021-10-31T07:55:10.565Z"
   },
   {
    "duration": 97,
    "start_time": "2021-10-31T07:55:15.158Z"
   },
   {
    "duration": 300752,
    "start_time": "2021-10-31T07:55:15.256Z"
   },
   {
    "duration": 4,
    "start_time": "2021-10-31T08:00:16.010Z"
   },
   {
    "duration": 353,
    "start_time": "2021-10-31T08:00:16.015Z"
   },
   {
    "duration": 576,
    "start_time": "2021-10-31T08:00:16.370Z"
   },
   {
    "duration": 473,
    "start_time": "2021-10-31T08:00:16.948Z"
   },
   {
    "duration": 302,
    "start_time": "2021-10-31T08:00:17.423Z"
   },
   {
    "duration": 99,
    "start_time": "2021-10-31T08:00:17.726Z"
   },
   {
    "duration": 36023,
    "start_time": "2021-10-31T08:00:17.826Z"
   },
   {
    "duration": 338,
    "start_time": "2021-10-31T08:00:53.851Z"
   },
   {
    "duration": 502,
    "start_time": "2021-10-31T08:00:54.190Z"
   },
   {
    "duration": 517,
    "start_time": "2021-10-31T08:00:54.694Z"
   },
   {
    "duration": 11,
    "start_time": "2021-10-31T08:00:55.212Z"
   },
   {
    "duration": 17,
    "start_time": "2021-10-31T08:00:55.228Z"
   },
   {
    "duration": 118,
    "start_time": "2021-10-31T08:00:55.248Z"
   },
   {
    "duration": 6,
    "start_time": "2021-10-31T08:00:55.368Z"
   },
   {
    "duration": 216,
    "start_time": "2021-10-31T08:00:55.376Z"
   },
   {
    "duration": 230,
    "start_time": "2021-10-31T08:00:55.594Z"
   },
   {
    "duration": 221,
    "start_time": "2021-10-31T08:00:55.826Z"
   },
   {
    "duration": 14,
    "start_time": "2021-10-31T08:00:56.052Z"
   },
   {
    "duration": 479,
    "start_time": "2021-10-31T08:00:56.068Z"
   },
   {
    "duration": 95,
    "start_time": "2021-10-31T08:00:56.551Z"
   },
   {
    "duration": 442,
    "start_time": "2021-10-31T08:00:56.649Z"
   },
   {
    "duration": 402,
    "start_time": "2021-10-31T08:00:57.093Z"
   },
   {
    "duration": 2748,
    "start_time": "2021-10-31T08:00:57.497Z"
   },
   {
    "duration": 2131,
    "start_time": "2021-10-31T08:01:00.248Z"
   },
   {
    "duration": 1261,
    "start_time": "2021-10-31T13:36:20.783Z"
   },
   {
    "duration": 40,
    "start_time": "2021-10-31T13:36:22.045Z"
   },
   {
    "duration": 8,
    "start_time": "2021-10-31T13:36:22.087Z"
   },
   {
    "duration": 38,
    "start_time": "2021-10-31T13:36:22.098Z"
   },
   {
    "duration": 4,
    "start_time": "2021-10-31T13:36:22.137Z"
   },
   {
    "duration": 591,
    "start_time": "2021-10-31T13:36:22.143Z"
   },
   {
    "duration": 3,
    "start_time": "2021-10-31T13:36:22.736Z"
   },
   {
    "duration": 13265,
    "start_time": "2021-10-31T13:36:22.741Z"
   },
   {
    "duration": 25,
    "start_time": "2021-10-31T13:36:36.009Z"
   },
   {
    "duration": 7,
    "start_time": "2021-10-31T13:36:36.036Z"
   },
   {
    "duration": 37,
    "start_time": "2021-10-31T13:36:36.045Z"
   },
   {
    "duration": 17,
    "start_time": "2021-10-31T13:36:36.084Z"
   },
   {
    "duration": 10,
    "start_time": "2021-10-31T13:36:36.103Z"
   },
   {
    "duration": 13,
    "start_time": "2021-10-31T13:36:36.115Z"
   },
   {
    "duration": 550,
    "start_time": "2021-10-31T13:36:36.130Z"
   },
   {
    "duration": 14,
    "start_time": "2021-10-31T13:36:36.682Z"
   },
   {
    "duration": 10,
    "start_time": "2021-10-31T13:36:36.698Z"
   },
   {
    "duration": 13,
    "start_time": "2021-10-31T13:36:36.710Z"
   },
   {
    "duration": 7,
    "start_time": "2021-10-31T13:36:36.725Z"
   },
   {
    "duration": 5,
    "start_time": "2021-10-31T13:36:36.734Z"
   },
   {
    "duration": 298,
    "start_time": "2021-10-31T13:36:36.777Z"
   },
   {
    "duration": 5,
    "start_time": "2021-10-31T13:36:37.077Z"
   },
   {
    "duration": 275,
    "start_time": "2021-10-31T13:36:37.084Z"
   }
  ],
  "kernelspec": {
   "display_name": "Python 3",
   "language": "python",
   "name": "python3"
  },
  "language_info": {
   "codemirror_mode": {
    "name": "ipython",
    "version": 3
   },
   "file_extension": ".py",
   "mimetype": "text/x-python",
   "name": "python",
   "nbconvert_exporter": "python",
   "pygments_lexer": "ipython3",
   "version": "3.8.5"
  },
  "toc": {
   "base_numbering": 1,
   "nav_menu": {},
   "number_sections": true,
   "sideBar": true,
   "skip_h1_title": true,
   "title_cell": "Содержание",
   "title_sidebar": "Contents",
   "toc_cell": true,
   "toc_position": {},
   "toc_section_display": true,
   "toc_window_display": false
  }
 },
 "nbformat": 4,
 "nbformat_minor": 2
}
