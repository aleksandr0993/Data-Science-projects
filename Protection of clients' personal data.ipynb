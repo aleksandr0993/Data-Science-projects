{
 "cells": [
  {
   "cell_type": "code",
   "execution_count": 1,
   "metadata": {},
   "outputs": [],
   "source": [
    "import pandas as pd\n",
    "import seaborn as sns\n",
    "import math\n",
    "import numpy as np\n",
    "import scipy.stats as sp\n",
    "from sklearn.linear_model import LinearRegression\n",
    "from sklearn.model_selection import cross_val_score"
   ]
  },
  {
   "cell_type": "markdown",
   "metadata": {
    "toc": true
   },
   "source": [
    "<h1>Содержание<span class=\"tocSkip\"></span></h1>\n",
    "<div class=\"toc\"><ul class=\"toc-item\"><li><span><a href=\"#Загрузка-данных\" data-toc-modified-id=\"Загрузка-данных-1\"><span class=\"toc-item-num\">1&nbsp;&nbsp;</span>Загрузка данных</a></span></li><li><span><a href=\"#Умножение-матриц\" data-toc-modified-id=\"Умножение-матриц-2\"><span class=\"toc-item-num\">2&nbsp;&nbsp;</span>Умножение матриц</a></span></li><li><span><a href=\"#Алгоритм-преобразования\" data-toc-modified-id=\"Алгоритм-преобразования-3\"><span class=\"toc-item-num\">3&nbsp;&nbsp;</span>Алгоритм преобразования</a></span></li><li><span><a href=\"#Проверка-алгоритма\" data-toc-modified-id=\"Проверка-алгоритма-4\"><span class=\"toc-item-num\">4&nbsp;&nbsp;</span>Проверка алгоритма</a></span><ul class=\"toc-item\"><li><span><a href=\"#Создадим-и-обучим-стандартные-модели-линейной-регрессии-из-sklearn-на-исходных-и-преобразованных-данных.-Затем-сравним-кросс-валидацией-качество-моделей:\" data-toc-modified-id=\"Создадим-и-обучим-стандартные-модели-линейной-регрессии-из-sklearn-на-исходных-и-преобразованных-данных.-Затем-сравним-кросс-валидацией-качество-моделей:-4.1\"><span class=\"toc-item-num\">4.1&nbsp;&nbsp;</span>Создадим и обучим стандартные модели линейной регрессии из sklearn на исходных и преобразованных данных. Затем сравним кросс валидацией качество моделей:</a></span></li></ul></li><li><span><a href=\"#Вывод:\" data-toc-modified-id=\"Вывод:-5\"><span class=\"toc-item-num\">5&nbsp;&nbsp;</span>Вывод:</a></span></li><li><span><a href=\"#Чек-лист-проверки\" data-toc-modified-id=\"Чек-лист-проверки-6\"><span class=\"toc-item-num\">6&nbsp;&nbsp;</span>Чек-лист проверки</a></span></li></ul></div>"
   ]
  },
  {
   "cell_type": "markdown",
   "metadata": {},
   "source": [
    "# Защита персональных данных клиентов"
   ]
  },
  {
   "cell_type": "markdown",
   "metadata": {},
   "source": [
    "Вам нужно защитить данные клиентов страховой компании «Хоть потоп». Разработайте такой метод преобразования данных, чтобы по ним было сложно восстановить персональную информацию. Обоснуйте корректность его работы.\n",
    "\n",
    "Нужно защитить данные, чтобы при преобразовании качество моделей машинного обучения не ухудшилось. Подбирать наилучшую модель не требуется."
   ]
  },
  {
   "cell_type": "markdown",
   "metadata": {},
   "source": [
    "## Загрузка данных"
   ]
  },
  {
   "cell_type": "code",
   "execution_count": 2,
   "metadata": {},
   "outputs": [
    {
     "data": {
      "text/html": [
       "<div>\n",
       "<style scoped>\n",
       "    .dataframe tbody tr th:only-of-type {\n",
       "        vertical-align: middle;\n",
       "    }\n",
       "\n",
       "    .dataframe tbody tr th {\n",
       "        vertical-align: top;\n",
       "    }\n",
       "\n",
       "    .dataframe thead th {\n",
       "        text-align: right;\n",
       "    }\n",
       "</style>\n",
       "<table border=\"1\" class=\"dataframe\">\n",
       "  <thead>\n",
       "    <tr style=\"text-align: right;\">\n",
       "      <th></th>\n",
       "      <th>Пол</th>\n",
       "      <th>Возраст</th>\n",
       "      <th>Зарплата</th>\n",
       "      <th>Члены семьи</th>\n",
       "      <th>Страховые выплаты</th>\n",
       "    </tr>\n",
       "  </thead>\n",
       "  <tbody>\n",
       "    <tr>\n",
       "      <td>0</td>\n",
       "      <td>1</td>\n",
       "      <td>41.0</td>\n",
       "      <td>49600.0</td>\n",
       "      <td>1</td>\n",
       "      <td>0</td>\n",
       "    </tr>\n",
       "    <tr>\n",
       "      <td>1</td>\n",
       "      <td>0</td>\n",
       "      <td>46.0</td>\n",
       "      <td>38000.0</td>\n",
       "      <td>1</td>\n",
       "      <td>1</td>\n",
       "    </tr>\n",
       "    <tr>\n",
       "      <td>2</td>\n",
       "      <td>0</td>\n",
       "      <td>29.0</td>\n",
       "      <td>21000.0</td>\n",
       "      <td>0</td>\n",
       "      <td>0</td>\n",
       "    </tr>\n",
       "    <tr>\n",
       "      <td>3</td>\n",
       "      <td>0</td>\n",
       "      <td>21.0</td>\n",
       "      <td>41700.0</td>\n",
       "      <td>2</td>\n",
       "      <td>0</td>\n",
       "    </tr>\n",
       "    <tr>\n",
       "      <td>4</td>\n",
       "      <td>1</td>\n",
       "      <td>28.0</td>\n",
       "      <td>26100.0</td>\n",
       "      <td>0</td>\n",
       "      <td>0</td>\n",
       "    </tr>\n",
       "  </tbody>\n",
       "</table>\n",
       "</div>"
      ],
      "text/plain": [
       "   Пол  Возраст  Зарплата  Члены семьи  Страховые выплаты\n",
       "0    1     41.0   49600.0            1                  0\n",
       "1    0     46.0   38000.0            1                  1\n",
       "2    0     29.0   21000.0            0                  0\n",
       "3    0     21.0   41700.0            2                  0\n",
       "4    1     28.0   26100.0            0                  0"
      ]
     },
     "execution_count": 2,
     "metadata": {},
     "output_type": "execute_result"
    }
   ],
   "source": [
    "df = pd.read_csv('/datasets/insurance.csv')\n",
    "df.head()"
   ]
  },
  {
   "cell_type": "code",
   "execution_count": 3,
   "metadata": {},
   "outputs": [
    {
     "data": {
      "text/plain": [
       "(5000, 5)"
      ]
     },
     "execution_count": 3,
     "metadata": {},
     "output_type": "execute_result"
    }
   ],
   "source": [
    "df.shape"
   ]
  },
  {
   "cell_type": "code",
   "execution_count": 4,
   "metadata": {},
   "outputs": [
    {
     "data": {
      "text/html": [
       "<div>\n",
       "<style scoped>\n",
       "    .dataframe tbody tr th:only-of-type {\n",
       "        vertical-align: middle;\n",
       "    }\n",
       "\n",
       "    .dataframe tbody tr th {\n",
       "        vertical-align: top;\n",
       "    }\n",
       "\n",
       "    .dataframe thead th {\n",
       "        text-align: right;\n",
       "    }\n",
       "</style>\n",
       "<table border=\"1\" class=\"dataframe\">\n",
       "  <thead>\n",
       "    <tr style=\"text-align: right;\">\n",
       "      <th></th>\n",
       "      <th>Пол</th>\n",
       "      <th>Возраст</th>\n",
       "      <th>Зарплата</th>\n",
       "      <th>Члены семьи</th>\n",
       "      <th>Страховые выплаты</th>\n",
       "    </tr>\n",
       "  </thead>\n",
       "  <tbody>\n",
       "    <tr>\n",
       "      <td>count</td>\n",
       "      <td>5000.000000</td>\n",
       "      <td>5000.000000</td>\n",
       "      <td>5000.000000</td>\n",
       "      <td>5000.000000</td>\n",
       "      <td>5000.000000</td>\n",
       "    </tr>\n",
       "    <tr>\n",
       "      <td>mean</td>\n",
       "      <td>0.499000</td>\n",
       "      <td>30.952800</td>\n",
       "      <td>39916.360000</td>\n",
       "      <td>1.194200</td>\n",
       "      <td>0.148000</td>\n",
       "    </tr>\n",
       "    <tr>\n",
       "      <td>std</td>\n",
       "      <td>0.500049</td>\n",
       "      <td>8.440807</td>\n",
       "      <td>9900.083569</td>\n",
       "      <td>1.091387</td>\n",
       "      <td>0.463183</td>\n",
       "    </tr>\n",
       "    <tr>\n",
       "      <td>min</td>\n",
       "      <td>0.000000</td>\n",
       "      <td>18.000000</td>\n",
       "      <td>5300.000000</td>\n",
       "      <td>0.000000</td>\n",
       "      <td>0.000000</td>\n",
       "    </tr>\n",
       "    <tr>\n",
       "      <td>25%</td>\n",
       "      <td>0.000000</td>\n",
       "      <td>24.000000</td>\n",
       "      <td>33300.000000</td>\n",
       "      <td>0.000000</td>\n",
       "      <td>0.000000</td>\n",
       "    </tr>\n",
       "    <tr>\n",
       "      <td>50%</td>\n",
       "      <td>0.000000</td>\n",
       "      <td>30.000000</td>\n",
       "      <td>40200.000000</td>\n",
       "      <td>1.000000</td>\n",
       "      <td>0.000000</td>\n",
       "    </tr>\n",
       "    <tr>\n",
       "      <td>75%</td>\n",
       "      <td>1.000000</td>\n",
       "      <td>37.000000</td>\n",
       "      <td>46600.000000</td>\n",
       "      <td>2.000000</td>\n",
       "      <td>0.000000</td>\n",
       "    </tr>\n",
       "    <tr>\n",
       "      <td>max</td>\n",
       "      <td>1.000000</td>\n",
       "      <td>65.000000</td>\n",
       "      <td>79000.000000</td>\n",
       "      <td>6.000000</td>\n",
       "      <td>5.000000</td>\n",
       "    </tr>\n",
       "  </tbody>\n",
       "</table>\n",
       "</div>"
      ],
      "text/plain": [
       "               Пол      Возраст      Зарплата  Члены семьи  Страховые выплаты\n",
       "count  5000.000000  5000.000000   5000.000000  5000.000000        5000.000000\n",
       "mean      0.499000    30.952800  39916.360000     1.194200           0.148000\n",
       "std       0.500049     8.440807   9900.083569     1.091387           0.463183\n",
       "min       0.000000    18.000000   5300.000000     0.000000           0.000000\n",
       "25%       0.000000    24.000000  33300.000000     0.000000           0.000000\n",
       "50%       0.000000    30.000000  40200.000000     1.000000           0.000000\n",
       "75%       1.000000    37.000000  46600.000000     2.000000           0.000000\n",
       "max       1.000000    65.000000  79000.000000     6.000000           5.000000"
      ]
     },
     "execution_count": 4,
     "metadata": {},
     "output_type": "execute_result"
    }
   ],
   "source": [
    "df.describe()"
   ]
  },
  {
   "cell_type": "code",
   "execution_count": 5,
   "metadata": {},
   "outputs": [
    {
     "data": {
      "text/plain": [
       "Index(['Пол', 'Возраст', 'Зарплата', 'Члены семьи', 'Страховые выплаты'], dtype='object')"
      ]
     },
     "execution_count": 5,
     "metadata": {},
     "output_type": "execute_result"
    }
   ],
   "source": [
    "df.columns"
   ]
  },
  {
   "cell_type": "code",
   "execution_count": 6,
   "metadata": {},
   "outputs": [
    {
     "name": "stderr",
     "output_type": "stream",
     "text": [
      "/opt/conda/lib/python3.7/site-packages/numpy/core/_methods.py:234: RuntimeWarning: Degrees of freedom <= 0 for slice\n",
      "  keepdims=keepdims)\n",
      "/opt/conda/lib/python3.7/site-packages/numpy/core/_methods.py:226: RuntimeWarning: invalid value encountered in double_scalars\n",
      "  ret = ret.dtype.type(ret / rcount)\n",
      "/opt/conda/lib/python3.7/site-packages/statsmodels/nonparametric/kde.py:487: RuntimeWarning: invalid value encountered in true_divide\n",
      "  binned = fast_linbin(X, a, b, gridsize) / (delta * nobs)\n",
      "/opt/conda/lib/python3.7/site-packages/statsmodels/nonparametric/kdetools.py:34: RuntimeWarning: invalid value encountered in double_scalars\n",
      "  FAC1 = 2*(np.pi*bw/RANGE)**2\n"
     ]
    },
    {
     "data": {
      "text/plain": [
       "<seaborn.axisgrid.PairGrid at 0x7fbda08cf0d0>"
      ]
     },
     "execution_count": 6,
     "metadata": {},
     "output_type": "execute_result"
    },
    {
     "data": {
      "image/png": "[encoded data removed]",
      "text/plain": [
       "<Figure size 654.5x540 with 12 Axes>"
      ]
     },
     "metadata": {
      "needs_background": "light"
     },
     "output_type": "display_data"
    }
   ],
   "source": [
    "sns.pairplot(df[['Возраст', 'Зарплата', 'Страховые выплаты']], hue='Страховые выплаты')"
   ]
  },
  {
   "cell_type": "markdown",
   "metadata": {},
   "source": [
    "## Умножение матриц"
   ]
  },
  {
   "cell_type": "markdown",
   "metadata": {},
   "source": [
    "В этом задании вы можете записывать формулы в *Jupyter Notebook.*\n",
    "\n",
    "Чтобы записать формулу внутри текста, окружите её символами доллара \\\\$; если снаружи —  двойными символами \\\\$\\\\$. Эти формулы записываются на языке вёрстки *LaTeX.* \n",
    "\n",
    "Для примера мы записали формулы линейной регрессии. Можете их скопировать и отредактировать, чтобы решить задачу.\n",
    "\n",
    "Работать в *LaTeX* необязательно."
   ]
  },
  {
   "cell_type": "markdown",
   "metadata": {},
   "source": [
    "Обозначения:\n",
    "\n",
    "- $X$ — матрица признаков (нулевой столбец состоит из единиц)\n",
    "\n",
    "- $y$ — вектор целевого признака\n",
    "\n",
    "- $P$ — матрица, на которую умножаются признаки\n",
    "\n",
    "- $w$ — вектор весов линейной регрессии (нулевой элемент равен сдвигу)"
   ]
  },
  {
   "cell_type": "markdown",
   "metadata": {},
   "source": [
    "Предсказания:\n",
    "\n",
    "$$\n",
    "a = Xw\n",
    "$$\n",
    "\n",
    "Задача обучения:\n",
    "\n",
    "$$\n",
    "w = \\arg\\min_w MSE(Xw, y)\n",
    "$$\n",
    "\n",
    "Формула обучения:\n",
    "\n",
    "$$\n",
    "w = (X^T X)^{-1} X^T y\n",
    "$$"
   ]
  },
  {
   "cell_type": "markdown",
   "metadata": {},
   "source": [
    "**Ответ:** Качество линейной регрессии не изменится.\n",
    "\n",
    "**Обоснование:** Умножим признаки на обратимую матрицу Q, тогда предсказания можно переписать ввиде:\n",
    "\n",
    "$$\n",
    "a = XQ*w',\n",
    "$$\n",
    "где w' - новый вектор весов линейной регрессии (нулевой элемент равен сдвигу).\n",
    "\n",
    "Тогда задачу обучения перепишем ввиде:\n",
    "\n",
    "$$\n",
    "w' = \\arg\\min_w MSE(XQw', y)\n",
    "$$\n",
    "\n",
    "Формула обучения:\n",
    "\n",
    "$$\n",
    "w' = ((XQ)^T XQ)^{-1} (XQ)^T y\n",
    "$$\n",
    "Проведением несложных преобразований с условиями из начальной задачи обучения (без преобразования), получается формула взаимосвязи w и w':\n",
    "$$\n",
    "w' = (Q^TX^TXQ)^{-1} (XQ)^T y\n",
    "$$\n",
    "\n",
    "$$\n",
    "w' = ((Q^T(X^TXQ))^{-1} Q^TX^T y\n",
    "$$\n",
    "\n",
    "$$\n",
    "w' = ((X^TXQ)^{-1}(Q^T)^{-1} Q^TX^T y\n",
    "$$\n",
    "Сокращаем матрицы $(Q^T)^{-1} и  Q^T$ (умножение матрицы на свою обратную - есть единичная матрица)\n",
    "$$\n",
    "w' = (X^TXQ)^{-1} X^T y\n",
    "$$\n",
    "расскываем выражение $(X^TXQ)^{-1}$\n",
    "$$\n",
    "w' = Q^{-1}(X^TX)^{-1} X^T y\n",
    "$$\n",
    "\n",
    "\n",
    "и используем подстановку: $w = (X^T X)^{-1} X^T y$\n",
    "$$\n",
    "w' = Q^{-1}w\n",
    "$$\n",
    "Т.к. мы установили однозначную взаимосвязь векторов весов для исходной модели и после преобразования, а также по условию преобразования, матрицы X и Q - не вырождены (обратимы), то качество линейной модели будет идентично для обоих моделей."
   ]
  },
  {
   "cell_type": "markdown",
   "metadata": {},
   "source": [
    "## Алгоритм преобразования"
   ]
  },
  {
   "cell_type": "code",
   "execution_count": 7,
   "metadata": {},
   "outputs": [],
   "source": [
    "from numpy.random import RandomState\n",
    "state = RandomState(12345)"
   ]
  },
  {
   "cell_type": "code",
   "execution_count": 8,
   "metadata": {},
   "outputs": [],
   "source": [
    "X = df.drop('Страховые выплаты', axis=1)\n",
    "y = df['Страховые выплаты']"
   ]
  },
  {
   "cell_type": "code",
   "execution_count": 9,
   "metadata": {},
   "outputs": [],
   "source": [
    "class LinearRegressor:\n",
    "    def transformation(self, features):\n",
    "        rng = np.random.RandomState(12345)\n",
    "        P = rng.normal(size=(4,4))\n",
    "        return(features@P)\n",
    "        \n",
    "    def fit(self, train_features, train_target):\n",
    "        #X = np.concatenate((np.ones(train_features.shape[0],1), train_features), axis=1)\n",
    "        X = np.concatenate((np.ones((train_features.shape[0], 1)), train_features), axis=1)\n",
    "        y = train_target\n",
    "        w = np.linalg.inv(X.T@X)@X.T@y\n",
    "        self.w = w[1:]\n",
    "        self.w0 = w[0]\n",
    "        return(self.w, self.w0)\n",
    "        \n",
    "    def predict(self, features_test):\n",
    "        self.predict = (features_test @ self.w) + self.w0\n",
    "        return((features_test @ self.w) + self.w0)\n",
    "        \n",
    "    def score(self, y_true, y_pred):\n",
    "        return (1 - (((y_true - y_pred)** 2).sum() / ((y_true - y_true.mean()) ** 2).sum()) )\n",
    "    \n",
    "    def cross_val(self, model, features, target):\n",
    "        scores = []\n",
    "        # зададим размер блока, если их всего три\n",
    "        sample_size = math.ceil(len(features)/3)\n",
    "        for i in range(0, len(features), sample_size):\n",
    "            valid_indexes = list(range(i,i+sample_size))\n",
    "            train_indexes = list(range(0, i)) + list(range(i+sample_size, len(features)))\n",
    "            \n",
    "            target_train =  target.loc[train_indexes]\n",
    "            features_train = features.loc[train_indexes]\n",
    "    \n",
    "            features_valid = features.loc[valid_indexes]\n",
    "            target_valid =  target.loc[valid_indexes]\n",
    "            #пришлось создать экземпляр класса внутри самого класса, т.к. при попытке задать\n",
    "            #экземпляр класса как аргумент для функции cross_val, возникла ошибка\n",
    "            #(TypeError: 'Series' object is not callable)\n",
    "            model = LinearRegressor()\n",
    "            model.fit(features_train, target_train)\n",
    "            predictions = model.predict(features_valid)\n",
    "            score = model.score(target_valid, predictions)\n",
    "            scores.append(score)\n",
    "        self.final_score = sum(scores)/len(scores)\n",
    "        return (scores)"
   ]
  },
  {
   "cell_type": "markdown",
   "metadata": {},
   "source": [
    "**Обоснование**\n",
    "\n",
    "Покажем алгоритм в действии: качество на описываемых выборках - не меняется."
   ]
  },
  {
   "cell_type": "code",
   "execution_count": 10,
   "metadata": {},
   "outputs": [],
   "source": [
    "m = LinearRegressor()\n",
    "features_tranformed = m.transformation(X)"
   ]
  },
  {
   "cell_type": "code",
   "execution_count": 11,
   "metadata": {
    "scrolled": true
   },
   "outputs": [
    {
     "name": "stderr",
     "output_type": "stream",
     "text": [
      "/opt/conda/lib/python3.7/site-packages/ipykernel_launcher.py:34: FutureWarning: \n",
      "Passing list-likes to .loc or [] with any missing label will raise\n",
      "KeyError in the future, you can use .reindex() as an alternative.\n",
      "\n",
      "See the documentation here:\n",
      "https://pandas.pydata.org/pandas-docs/stable/user_guide/indexing.html#deprecate-loc-reindex-listlike\n",
      "/opt/conda/lib/python3.7/site-packages/ipykernel_launcher.py:35: FutureWarning: \n",
      "Passing list-likes to .loc or [] with any missing label will raise\n",
      "KeyError in the future, you can use .reindex() as an alternative.\n",
      "\n",
      "See the documentation here:\n",
      "https://pandas.pydata.org/pandas-docs/stable/user_guide/indexing.html#deprecate-loc-reindex-listlike\n"
     ]
    },
    {
     "data": {
      "text/plain": [
       "[0.4189738475434316, 0.4249089813851482, 0.42999753139341146]"
      ]
     },
     "execution_count": 11,
     "metadata": {},
     "output_type": "execute_result"
    }
   ],
   "source": [
    "m.cross_val(m, features_tranformed, y)"
   ]
  },
  {
   "cell_type": "code",
   "execution_count": 12,
   "metadata": {},
   "outputs": [
    {
     "data": {
      "text/plain": [
       "0.42462678677399707"
      ]
     },
     "execution_count": 12,
     "metadata": {},
     "output_type": "execute_result"
    }
   ],
   "source": [
    "m.final_score"
   ]
  },
  {
   "cell_type": "code",
   "execution_count": 13,
   "metadata": {},
   "outputs": [
    {
     "name": "stderr",
     "output_type": "stream",
     "text": [
      "/opt/conda/lib/python3.7/site-packages/ipykernel_launcher.py:34: FutureWarning: \n",
      "Passing list-likes to .loc or [] with any missing label will raise\n",
      "KeyError in the future, you can use .reindex() as an alternative.\n",
      "\n",
      "See the documentation here:\n",
      "https://pandas.pydata.org/pandas-docs/stable/user_guide/indexing.html#deprecate-loc-reindex-listlike\n",
      "/opt/conda/lib/python3.7/site-packages/ipykernel_launcher.py:35: FutureWarning: \n",
      "Passing list-likes to .loc or [] with any missing label will raise\n",
      "KeyError in the future, you can use .reindex() as an alternative.\n",
      "\n",
      "See the documentation here:\n",
      "https://pandas.pydata.org/pandas-docs/stable/user_guide/indexing.html#deprecate-loc-reindex-listlike\n"
     ]
    },
    {
     "data": {
      "text/plain": [
       "[0.41897383652566533, 0.4249089803802155, 0.42999752162034255]"
      ]
     },
     "execution_count": 13,
     "metadata": {},
     "output_type": "execute_result"
    }
   ],
   "source": [
    "z = LinearRegressor()\n",
    "z.fit(X, y)\n",
    "#z.predict(y)\n",
    "z.cross_val(z,X,y)"
   ]
  },
  {
   "cell_type": "code",
   "execution_count": 14,
   "metadata": {},
   "outputs": [
    {
     "name": "stdout",
     "output_type": "stream",
     "text": [
      "Качество на преобразованной выборке: 0.42462678677399707 \n",
      "Качество на исходной выборке: 0.4246267795087411\n"
     ]
    }
   ],
   "source": [
    "print('Качество на преобразованной выборке:', m.final_score, '\\nКачество на исходной выборке:', z.final_score)"
   ]
  },
  {
   "cell_type": "markdown",
   "metadata": {},
   "source": [
    "## Проверка алгоритма"
   ]
  },
  {
   "cell_type": "markdown",
   "metadata": {},
   "source": [
    "Создадим случайную квадратную матрицу с подходящим под исходные данные размером. Проверим, что она не вырождена:"
   ]
  },
  {
   "cell_type": "code",
   "execution_count": 23,
   "metadata": {},
   "outputs": [
    {
     "data": {
      "text/plain": [
       "array([[-1.59685949,  0.36404146,  0.72092586, -0.51750624],\n",
       "       [ 0.20738257,  1.1429192 , -0.5412674 ,  0.0424792 ],\n",
       "       [ 0.42408777,  0.53872183, -1.15359577, -0.92140074],\n",
       "       [ 1.50424619,  0.25284919, -1.14685894,  0.23086524]])"
      ]
     },
     "execution_count": 23,
     "metadata": {},
     "output_type": "execute_result"
    }
   ],
   "source": [
    "P = np.random.normal(size=(4,4))\n",
    "P\n"
   ]
  },
  {
   "cell_type": "code",
   "execution_count": 24,
   "metadata": {},
   "outputs": [
    {
     "data": {
      "text/plain": [
       "0.14854729263192634"
      ]
     },
     "execution_count": 24,
     "metadata": {},
     "output_type": "execute_result"
    }
   ],
   "source": [
    "np.linalg.det(P)"
   ]
  },
  {
   "cell_type": "code",
   "execution_count": 25,
   "metadata": {},
   "outputs": [
    {
     "data": {
      "text/plain": [
       "array([[ -8.97063819,   3.84037557,   2.67436083, -10.14158419],\n",
       "       [ -3.91710488,   2.66978666,   1.11056758,  -4.8394415 ],\n",
       "       [-11.1194393 ,   5.02845361,   3.12502039, -13.37831456],\n",
       "       [  7.50245791,  -2.9670848 ,  -3.11760068,   9.2523612 ]])"
      ]
     },
     "execution_count": 25,
     "metadata": {},
     "output_type": "execute_result"
    }
   ],
   "source": [
    "np.linalg.inv(P)"
   ]
  },
  {
   "cell_type": "markdown",
   "metadata": {},
   "source": [
    "### Создадим и обучим стандартные модели линейной регрессии из sklearn на исходных и преобразованных данных. Затем сравним кросс валидацией качество моделей:"
   ]
  },
  {
   "cell_type": "code",
   "execution_count": 26,
   "metadata": {},
   "outputs": [
    {
     "data": {
      "text/plain": [
       "LinearRegression(copy_X=True, fit_intercept=True, n_jobs=None, normalize=False)"
      ]
     },
     "execution_count": 26,
     "metadata": {},
     "output_type": "execute_result"
    }
   ],
   "source": [
    "model1 = LinearRegression()\n",
    "model1.fit(X, y)"
   ]
  },
  {
   "cell_type": "code",
   "execution_count": 27,
   "metadata": {},
   "outputs": [
    {
     "data": {
      "text/plain": [
       "0.414600847386013"
      ]
     },
     "execution_count": 27,
     "metadata": {},
     "output_type": "execute_result"
    }
   ],
   "source": [
    "cross_val_score(model1, X, y, cv=10).mean()"
   ]
  },
  {
   "cell_type": "code",
   "execution_count": 28,
   "metadata": {},
   "outputs": [
    {
     "data": {
      "text/plain": [
       "0.414600847386013"
      ]
     },
     "execution_count": 28,
     "metadata": {},
     "output_type": "execute_result"
    }
   ],
   "source": [
    "model2 = LinearRegression()\n",
    "model2.fit(X@P, y)\n",
    "cross_val_score(model2, X, y, cv=10).mean()"
   ]
  },
  {
   "cell_type": "markdown",
   "metadata": {},
   "source": [
    "## Вывод:  \n",
    "Разработан алгоритм преобразования данных, чтобы по ним было сложно восстановить персональную информацию. Обоснована корректность его работы."
   ]
  },
  {
   "cell_type": "markdown",
   "metadata": {},
   "source": [
    "- [x]  Jupyter Notebook открыт\n",
    "- [x]  Весь код выполняется без ошибок\n",
    "- [x]  Ячейки с кодом расположены в порядке исполнения\n",
    "- [x]  Выполнен шаг 1: данные загружены\n",
    "- [x]  Выполнен шаг 2: получен ответ на вопрос об умножении матриц\n",
    "    - [x]  Указан правильный вариант ответа\n",
    "    - [x]  Вариант обоснован\n",
    "- [x]  Выполнен шаг 3: предложен алгоритм преобразования\n",
    "    - [x]  Алгоритм описан\n",
    "    - [x]  Алгоритм обоснован\n",
    "- [x]  Выполнен шаг 4: алгоритм проверен\n",
    "    - [x]  Алгоритм реализован\n",
    "    - [x]  Проведено сравнение качества моделей до и после преобразования"
   ]
  }
 ],
 "metadata": {
  "ExecuteTimeLog": [
   {
    "duration": 1269,
    "start_time": "2021-11-14T15:55:46.178Z"
   },
   {
    "duration": 17,
    "start_time": "2021-11-14T15:56:19.235Z"
   },
   {
    "duration": 27,
    "start_time": "2021-11-14T17:14:19.096Z"
   },
   {
    "duration": 4,
    "start_time": "2021-11-14T17:14:33.915Z"
   },
   {
    "duration": 21,
    "start_time": "2021-11-14T17:15:11.765Z"
   },
   {
    "duration": 4,
    "start_time": "2021-11-14T19:37:14.557Z"
   },
   {
    "duration": 3,
    "start_time": "2021-11-14T19:37:19.260Z"
   },
   {
    "duration": 4,
    "start_time": "2021-11-14T19:37:22.266Z"
   },
   {
    "duration": 5,
    "start_time": "2021-11-14T19:38:11.440Z"
   },
   {
    "duration": 4,
    "start_time": "2021-11-14T19:41:34.867Z"
   },
   {
    "duration": 5,
    "start_time": "2021-11-14T19:41:38.136Z"
   },
   {
    "duration": 2,
    "start_time": "2021-11-14T19:41:40.895Z"
   },
   {
    "duration": 4,
    "start_time": "2021-11-14T19:41:41.267Z"
   },
   {
    "duration": 4,
    "start_time": "2021-11-14T19:41:43.965Z"
   },
   {
    "duration": 4,
    "start_time": "2021-11-14T19:41:47.047Z"
   },
   {
    "duration": 4,
    "start_time": "2021-11-14T19:41:49.427Z"
   },
   {
    "duration": 1460,
    "start_time": "2021-11-14T19:42:16.707Z"
   },
   {
    "duration": 940,
    "start_time": "2021-11-14T19:42:29.937Z"
   },
   {
    "duration": 4,
    "start_time": "2021-11-14T19:42:35.840Z"
   },
   {
    "duration": 124,
    "start_time": "2021-11-14T19:44:08.800Z"
   },
   {
    "duration": 6,
    "start_time": "2021-11-14T19:44:42.499Z"
   },
   {
    "duration": 563,
    "start_time": "2021-11-14T19:44:47.718Z"
   },
   {
    "duration": 5,
    "start_time": "2021-11-14T19:46:04.468Z"
   },
   {
    "duration": 4,
    "start_time": "2021-11-14T19:46:05.586Z"
   },
   {
    "duration": 5,
    "start_time": "2021-11-14T19:46:23.157Z"
   },
   {
    "duration": 221,
    "start_time": "2021-11-14T19:59:30.327Z"
   },
   {
    "duration": 111,
    "start_time": "2021-11-14T19:59:40.517Z"
   },
   {
    "duration": 464,
    "start_time": "2021-11-14T19:59:47.867Z"
   },
   {
    "duration": 434,
    "start_time": "2021-11-14T20:00:07.437Z"
   },
   {
    "duration": 3,
    "start_time": "2021-11-14T20:00:18.272Z"
   },
   {
    "duration": 4,
    "start_time": "2021-11-14T20:02:27.267Z"
   },
   {
    "duration": 3,
    "start_time": "2021-11-14T20:04:06.138Z"
   },
   {
    "duration": 2,
    "start_time": "2021-11-14T20:04:27.637Z"
   },
   {
    "duration": 4,
    "start_time": "2021-11-14T20:06:21.547Z"
   },
   {
    "duration": 354,
    "start_time": "2021-11-14T20:06:23.275Z"
   },
   {
    "duration": -217,
    "start_time": "2021-11-14T20:06:23.848Z"
   },
   {
    "duration": 343,
    "start_time": "2021-11-14T20:06:31.708Z"
   },
   {
    "duration": 22,
    "start_time": "2021-11-14T20:06:32.617Z"
   },
   {
    "duration": 6,
    "start_time": "2021-11-14T20:06:52.999Z"
   },
   {
    "duration": 23,
    "start_time": "2021-11-14T20:06:53.047Z"
   },
   {
    "duration": 21,
    "start_time": "2021-11-14T20:07:50.757Z"
   },
   {
    "duration": 22,
    "start_time": "2021-11-14T20:07:54.497Z"
   },
   {
    "duration": 364,
    "start_time": "2021-11-14T20:08:06.435Z"
   },
   {
    "duration": 395,
    "start_time": "2021-11-14T20:08:11.727Z"
   },
   {
    "duration": 21,
    "start_time": "2021-11-14T20:08:23.767Z"
   },
   {
    "duration": 362,
    "start_time": "2021-11-14T20:09:58.048Z"
   },
   {
    "duration": 5,
    "start_time": "2021-11-14T20:10:36.947Z"
   },
   {
    "duration": 4,
    "start_time": "2021-11-14T20:10:38.367Z"
   },
   {
    "duration": 4,
    "start_time": "2021-11-14T20:10:39.035Z"
   },
   {
    "duration": 3,
    "start_time": "2021-11-14T20:10:40.607Z"
   },
   {
    "duration": 6,
    "start_time": "2021-11-14T20:10:41.113Z"
   },
   {
    "duration": 21,
    "start_time": "2021-11-14T20:10:41.767Z"
   },
   {
    "duration": 25,
    "start_time": "2021-11-14T20:10:43.997Z"
   },
   {
    "duration": 37,
    "start_time": "2021-11-14T20:11:04.640Z"
   },
   {
    "duration": 38,
    "start_time": "2021-11-14T20:11:04.679Z"
   },
   {
    "duration": 36,
    "start_time": "2021-11-14T20:11:44.268Z"
   },
   {
    "duration": 38,
    "start_time": "2021-11-14T20:11:44.305Z"
   },
   {
    "duration": 1445,
    "start_time": "2021-11-15T06:00:38.727Z"
   },
   {
    "duration": 38,
    "start_time": "2021-11-15T06:00:40.175Z"
   },
   {
    "duration": 8,
    "start_time": "2021-11-15T06:00:40.216Z"
   },
   {
    "duration": 40,
    "start_time": "2021-11-15T06:00:40.227Z"
   },
   {
    "duration": 4,
    "start_time": "2021-11-15T06:00:40.269Z"
   },
   {
    "duration": 12,
    "start_time": "2021-11-15T06:00:40.275Z"
   },
   {
    "duration": 33,
    "start_time": "2021-11-15T06:00:40.290Z"
   },
   {
    "duration": 7,
    "start_time": "2021-11-15T06:00:40.326Z"
   },
   {
    "duration": 7,
    "start_time": "2021-11-15T06:00:40.336Z"
   },
   {
    "duration": 10,
    "start_time": "2021-11-15T06:00:40.423Z"
   },
   {
    "duration": 137,
    "start_time": "2021-11-15T06:00:40.435Z"
   },
   {
    "duration": 72,
    "start_time": "2021-11-15T06:00:40.575Z"
   },
   {
    "duration": 111,
    "start_time": "2021-11-15T06:42:30.725Z"
   },
   {
    "duration": 7,
    "start_time": "2021-11-15T06:47:41.683Z"
   },
   {
    "duration": 7,
    "start_time": "2021-11-15T06:59:25.472Z"
   },
   {
    "duration": 113,
    "start_time": "2021-11-15T07:25:02.015Z"
   },
   {
    "duration": 137,
    "start_time": "2021-11-15T07:29:55.544Z"
   },
   {
    "duration": 137,
    "start_time": "2021-11-15T07:50:50.894Z"
   },
   {
    "duration": 418,
    "start_time": "2021-11-15T07:52:26.237Z"
   },
   {
    "duration": 381,
    "start_time": "2021-11-15T07:54:34.649Z"
   },
   {
    "duration": 1118,
    "start_time": "2021-11-15T07:56:24.516Z"
   },
   {
    "duration": 13,
    "start_time": "2021-11-15T07:56:56.955Z"
   },
   {
    "duration": 12,
    "start_time": "2021-11-15T07:58:48.841Z"
   },
   {
    "duration": 12,
    "start_time": "2021-11-15T08:07:34.546Z"
   },
   {
    "duration": 4,
    "start_time": "2021-11-15T08:08:29.922Z"
   },
   {
    "duration": 730,
    "start_time": "2021-11-15T08:09:14.284Z"
   },
   {
    "duration": 14,
    "start_time": "2021-11-15T08:09:57.629Z"
   },
   {
    "duration": 728,
    "start_time": "2021-11-15T08:10:00.295Z"
   },
   {
    "duration": 14,
    "start_time": "2021-11-15T08:11:08.482Z"
   },
   {
    "duration": 8,
    "start_time": "2021-11-15T08:11:12.800Z"
   },
   {
    "duration": 18,
    "start_time": "2021-11-15T08:13:49.120Z"
   },
   {
    "duration": 5,
    "start_time": "2021-11-15T08:13:51.915Z"
   },
   {
    "duration": 310,
    "start_time": "2021-11-15T08:13:53.405Z"
   },
   {
    "duration": 13,
    "start_time": "2021-11-15T08:14:07.207Z"
   },
   {
    "duration": 896,
    "start_time": "2021-11-15T08:14:17.407Z"
   },
   {
    "duration": 13,
    "start_time": "2021-11-15T08:16:59.081Z"
   },
   {
    "duration": 359,
    "start_time": "2021-11-15T08:17:03.465Z"
   },
   {
    "duration": 12,
    "start_time": "2021-11-15T08:23:12.291Z"
   },
   {
    "duration": 250,
    "start_time": "2021-11-15T08:23:15.288Z"
   },
   {
    "duration": 12,
    "start_time": "2021-11-15T08:23:37.164Z"
   },
   {
    "duration": 284,
    "start_time": "2021-11-15T08:23:42.552Z"
   },
   {
    "duration": 11,
    "start_time": "2021-11-15T09:30:24.859Z"
   },
   {
    "duration": 4,
    "start_time": "2021-11-15T09:30:29.689Z"
   },
   {
    "duration": 633,
    "start_time": "2021-11-15T09:30:30.805Z"
   },
   {
    "duration": 13,
    "start_time": "2021-11-15T09:31:03.073Z"
   },
   {
    "duration": 766,
    "start_time": "2021-11-15T09:31:07.335Z"
   },
   {
    "duration": 14,
    "start_time": "2021-11-15T09:31:20.019Z"
   },
   {
    "duration": 12,
    "start_time": "2021-11-15T09:31:45.048Z"
   },
   {
    "duration": 5,
    "start_time": "2021-11-15T09:31:48.159Z"
   },
   {
    "duration": 161,
    "start_time": "2021-11-15T09:31:48.462Z"
   },
   {
    "duration": 13,
    "start_time": "2021-11-15T09:32:53.729Z"
   },
   {
    "duration": 5,
    "start_time": "2021-11-15T09:32:59.002Z"
   },
   {
    "duration": 194,
    "start_time": "2021-11-15T09:32:59.335Z"
   },
   {
    "duration": 13,
    "start_time": "2021-11-15T09:35:22.605Z"
   },
   {
    "duration": 6,
    "start_time": "2021-11-15T09:35:27.033Z"
   },
   {
    "duration": 169,
    "start_time": "2021-11-15T09:35:27.357Z"
   },
   {
    "duration": 12,
    "start_time": "2021-11-15T09:36:56.845Z"
   },
   {
    "duration": 5,
    "start_time": "2021-11-15T09:37:00.328Z"
   },
   {
    "duration": 270,
    "start_time": "2021-11-15T09:37:00.762Z"
   },
   {
    "duration": 1335,
    "start_time": "2021-11-15T11:05:24.301Z"
   },
   {
    "duration": 13,
    "start_time": "2021-11-15T11:05:34.870Z"
   },
   {
    "duration": 472,
    "start_time": "2021-11-15T11:05:37.755Z"
   },
   {
    "duration": -56,
    "start_time": "2021-11-15T11:05:38.286Z"
   },
   {
    "duration": 35,
    "start_time": "2021-11-15T11:05:47.875Z"
   },
   {
    "duration": 5,
    "start_time": "2021-11-15T11:05:48.259Z"
   },
   {
    "duration": 37,
    "start_time": "2021-11-15T11:05:48.598Z"
   },
   {
    "duration": 4,
    "start_time": "2021-11-15T11:05:52.347Z"
   },
   {
    "duration": 6,
    "start_time": "2021-11-15T11:05:52.563Z"
   },
   {
    "duration": 5,
    "start_time": "2021-11-15T11:05:53.022Z"
   },
   {
    "duration": 7,
    "start_time": "2021-11-15T11:05:53.685Z"
   },
   {
    "duration": 6,
    "start_time": "2021-11-15T11:05:54.223Z"
   },
   {
    "duration": 6,
    "start_time": "2021-11-15T11:05:55.109Z"
   },
   {
    "duration": 500,
    "start_time": "2021-11-15T11:05:55.258Z"
   },
   {
    "duration": -65,
    "start_time": "2021-11-15T11:05:55.826Z"
   },
   {
    "duration": 14,
    "start_time": "2021-11-15T11:06:29.350Z"
   },
   {
    "duration": 504,
    "start_time": "2021-11-15T11:06:30.614Z"
   },
   {
    "duration": 5,
    "start_time": "2021-11-15T11:06:35.781Z"
   },
   {
    "duration": 308,
    "start_time": "2021-11-15T11:06:36.874Z"
   },
   {
    "duration": 304,
    "start_time": "2021-11-15T11:07:46.369Z"
   },
   {
    "duration": 5,
    "start_time": "2021-11-15T11:07:53.021Z"
   },
   {
    "duration": 625,
    "start_time": "2021-11-15T11:10:48.417Z"
   },
   {
    "duration": 12,
    "start_time": "2021-11-15T11:18:33.569Z"
   },
   {
    "duration": 637,
    "start_time": "2021-11-15T11:19:38.924Z"
   },
   {
    "duration": 620,
    "start_time": "2021-11-15T11:20:31.575Z"
   },
   {
    "duration": 14,
    "start_time": "2021-11-15T11:48:31.245Z"
   },
   {
    "duration": 13,
    "start_time": "2021-11-15T11:51:40.439Z"
   },
   {
    "duration": 5,
    "start_time": "2021-11-15T11:51:42.774Z"
   },
   {
    "duration": 629,
    "start_time": "2021-11-15T11:51:45.686Z"
   },
   {
    "duration": 1163,
    "start_time": "2021-11-15T15:45:23.427Z"
   },
   {
    "duration": 39,
    "start_time": "2021-11-15T15:45:24.593Z"
   },
   {
    "duration": 5,
    "start_time": "2021-11-15T15:45:24.635Z"
   },
   {
    "duration": 59,
    "start_time": "2021-11-15T15:45:24.642Z"
   },
   {
    "duration": 5,
    "start_time": "2021-11-15T15:45:24.704Z"
   },
   {
    "duration": 8,
    "start_time": "2021-11-15T15:45:24.715Z"
   },
   {
    "duration": 49,
    "start_time": "2021-11-15T15:45:24.726Z"
   },
   {
    "duration": 6,
    "start_time": "2021-11-15T15:45:24.778Z"
   },
   {
    "duration": 5,
    "start_time": "2021-11-15T15:45:24.787Z"
   },
   {
    "duration": 74,
    "start_time": "2021-11-15T15:45:24.794Z"
   },
   {
    "duration": 398,
    "start_time": "2021-11-15T15:45:24.875Z"
   },
   {
    "duration": -55,
    "start_time": "2021-11-15T15:45:25.336Z"
   },
   {
    "duration": -55,
    "start_time": "2021-11-15T15:45:25.338Z"
   },
   {
    "duration": -54,
    "start_time": "2021-11-15T15:45:25.339Z"
   },
   {
    "duration": -54,
    "start_time": "2021-11-15T15:45:25.341Z"
   },
   {
    "duration": -54,
    "start_time": "2021-11-15T15:45:25.343Z"
   },
   {
    "duration": -54,
    "start_time": "2021-11-15T15:45:25.345Z"
   },
   {
    "duration": 16,
    "start_time": "2021-11-15T15:45:42.309Z"
   },
   {
    "duration": 5,
    "start_time": "2021-11-15T15:45:43.147Z"
   },
   {
    "duration": 538,
    "start_time": "2021-11-15T15:45:44.237Z"
   },
   {
    "duration": 16,
    "start_time": "2021-11-15T15:47:25.939Z"
   },
   {
    "duration": 5,
    "start_time": "2021-11-15T15:47:27.747Z"
   },
   {
    "duration": 516,
    "start_time": "2021-11-15T15:47:28.800Z"
   },
   {
    "duration": 14,
    "start_time": "2021-11-15T15:48:35.350Z"
   },
   {
    "duration": 5,
    "start_time": "2021-11-15T15:48:36.277Z"
   },
   {
    "duration": 301,
    "start_time": "2021-11-15T15:48:36.976Z"
   },
   {
    "duration": 6,
    "start_time": "2021-11-15T15:54:15.229Z"
   },
   {
    "duration": 245,
    "start_time": "2021-11-15T15:54:24.019Z"
   },
   {
    "duration": 47,
    "start_time": "2021-11-15T15:54:44.130Z"
   },
   {
    "duration": 13,
    "start_time": "2021-11-15T15:59:21.563Z"
   },
   {
    "duration": 6,
    "start_time": "2021-11-15T15:59:25.025Z"
   },
   {
    "duration": 163,
    "start_time": "2021-11-15T15:59:28.214Z"
   },
   {
    "duration": 6,
    "start_time": "2021-11-15T15:59:38.495Z"
   },
   {
    "duration": 49,
    "start_time": "2021-11-15T15:59:40.427Z"
   },
   {
    "duration": 283,
    "start_time": "2021-11-15T16:56:57.321Z"
   },
   {
    "duration": 13992,
    "start_time": "2021-11-15T16:57:24.512Z"
   },
   {
    "duration": 1821,
    "start_time": "2021-11-15T17:00:03.335Z"
   },
   {
    "duration": 6,
    "start_time": "2021-11-15T17:01:28.530Z"
   },
   {
    "duration": 7154,
    "start_time": "2021-11-15T17:01:47.610Z"
   },
   {
    "duration": 8572,
    "start_time": "2021-11-15T17:02:55.662Z"
   },
   {
    "duration": 14,
    "start_time": "2021-11-17T18:10:52.348Z"
   },
   {
    "duration": 336,
    "start_time": "2021-11-17T18:10:54.153Z"
   },
   {
    "duration": 1519,
    "start_time": "2021-11-17T18:11:01.745Z"
   },
   {
    "duration": 30,
    "start_time": "2021-11-17T18:11:03.267Z"
   },
   {
    "duration": 6,
    "start_time": "2021-11-17T18:11:03.300Z"
   },
   {
    "duration": 53,
    "start_time": "2021-11-17T18:11:03.308Z"
   },
   {
    "duration": 5,
    "start_time": "2021-11-17T18:11:03.363Z"
   },
   {
    "duration": 7880,
    "start_time": "2021-11-17T18:11:03.370Z"
   },
   {
    "duration": 4,
    "start_time": "2021-11-17T18:11:11.252Z"
   },
   {
    "duration": 13,
    "start_time": "2021-11-17T18:11:11.260Z"
   },
   {
    "duration": 16,
    "start_time": "2021-11-17T18:11:11.276Z"
   },
   {
    "duration": 36,
    "start_time": "2021-11-17T18:11:11.294Z"
   },
   {
    "duration": 25,
    "start_time": "2021-11-17T18:11:11.332Z"
   },
   {
    "duration": 20,
    "start_time": "2021-11-17T18:11:11.431Z"
   },
   {
    "duration": 15,
    "start_time": "2021-11-17T18:11:11.454Z"
   },
   {
    "duration": 5,
    "start_time": "2021-11-17T18:11:11.471Z"
   },
   {
    "duration": 15,
    "start_time": "2021-11-17T18:11:11.534Z"
   },
   {
    "duration": 11,
    "start_time": "2021-11-17T18:11:11.551Z"
   },
   {
    "duration": 461,
    "start_time": "2021-11-17T18:11:11.564Z"
   },
   {
    "duration": -31,
    "start_time": "2021-11-17T18:11:12.058Z"
   },
   {
    "duration": -31,
    "start_time": "2021-11-17T18:11:12.060Z"
   },
   {
    "duration": 7,
    "start_time": "2021-11-17T19:11:50.008Z"
   },
   {
    "duration": 696,
    "start_time": "2021-11-17T19:11:50.419Z"
   },
   {
    "duration": 806,
    "start_time": "2021-11-17T19:12:29.868Z"
   },
   {
    "duration": 6,
    "start_time": "2021-11-17T19:12:33.749Z"
   },
   {
    "duration": 847,
    "start_time": "2021-11-17T19:12:34.069Z"
   },
   {
    "duration": 807,
    "start_time": "2021-11-17T19:12:49.979Z"
   },
   {
    "duration": 608,
    "start_time": "2021-11-17T19:16:31.979Z"
   },
   {
    "duration": 23,
    "start_time": "2021-11-17T19:17:03.639Z"
   },
   {
    "duration": 6,
    "start_time": "2021-11-17T19:17:04.846Z"
   },
   {
    "duration": 143,
    "start_time": "2021-11-17T19:17:05.397Z"
   },
   {
    "duration": 13,
    "start_time": "2021-11-17T19:18:54.713Z"
   },
   {
    "duration": 13,
    "start_time": "2021-11-17T19:21:44.607Z"
   },
   {
    "duration": 5,
    "start_time": "2021-11-17T19:21:51.659Z"
   },
   {
    "duration": 294,
    "start_time": "2021-11-17T19:21:54.659Z"
   },
   {
    "duration": 694,
    "start_time": "2021-11-17T19:22:02.121Z"
   },
   {
    "duration": 18,
    "start_time": "2021-11-17T19:23:26.422Z"
   },
   {
    "duration": 5,
    "start_time": "2021-11-17T19:23:28.839Z"
   },
   {
    "duration": 354,
    "start_time": "2021-11-17T19:23:36.288Z"
   },
   {
    "duration": 286,
    "start_time": "2021-11-17T19:24:07.436Z"
   },
   {
    "duration": 13,
    "start_time": "2021-11-17T19:24:37.904Z"
   },
   {
    "duration": 5,
    "start_time": "2021-11-17T19:24:38.288Z"
   },
   {
    "duration": 297,
    "start_time": "2021-11-17T19:24:42.949Z"
   },
   {
    "duration": 12,
    "start_time": "2021-11-17T19:24:56.781Z"
   },
   {
    "duration": 4,
    "start_time": "2021-11-17T19:24:58.198Z"
   },
   {
    "duration": 607,
    "start_time": "2021-11-17T19:24:58.867Z"
   },
   {
    "duration": 14,
    "start_time": "2021-11-17T19:25:38.281Z"
   },
   {
    "duration": 5,
    "start_time": "2021-11-17T19:25:39.238Z"
   },
   {
    "duration": 617,
    "start_time": "2021-11-17T19:25:39.648Z"
   },
   {
    "duration": 12,
    "start_time": "2021-11-17T19:27:43.117Z"
   },
   {
    "duration": 5,
    "start_time": "2021-11-17T19:27:44.018Z"
   },
   {
    "duration": 601,
    "start_time": "2021-11-17T19:27:44.288Z"
   },
   {
    "duration": 12,
    "start_time": "2021-11-17T19:27:55.966Z"
   },
   {
    "duration": 5,
    "start_time": "2021-11-17T19:27:56.399Z"
   },
   {
    "duration": 615,
    "start_time": "2021-11-17T19:27:56.868Z"
   },
   {
    "duration": 17,
    "start_time": "2021-11-17T19:29:09.826Z"
   },
   {
    "duration": 5,
    "start_time": "2021-11-17T19:29:10.600Z"
   },
   {
    "duration": 715,
    "start_time": "2021-11-17T19:29:10.934Z"
   },
   {
    "duration": 19,
    "start_time": "2021-11-17T19:35:23.451Z"
   },
   {
    "duration": 5,
    "start_time": "2021-11-17T19:35:25.098Z"
   },
   {
    "duration": 606,
    "start_time": "2021-11-17T19:35:25.699Z"
   },
   {
    "duration": 15,
    "start_time": "2021-11-17T19:35:57.111Z"
   },
   {
    "duration": 5,
    "start_time": "2021-11-17T19:36:01.609Z"
   },
   {
    "duration": 749,
    "start_time": "2021-11-17T19:36:03.706Z"
   },
   {
    "duration": 16,
    "start_time": "2021-11-17T19:38:15.581Z"
   },
   {
    "duration": 5,
    "start_time": "2021-11-17T19:38:15.858Z"
   },
   {
    "duration": 599,
    "start_time": "2021-11-17T19:38:16.098Z"
   },
   {
    "duration": 13,
    "start_time": "2021-11-17T19:38:59.409Z"
   },
   {
    "duration": 5,
    "start_time": "2021-11-17T19:39:00.088Z"
   },
   {
    "duration": 742,
    "start_time": "2021-11-17T19:39:00.759Z"
   },
   {
    "duration": 13,
    "start_time": "2021-11-17T19:39:24.211Z"
   },
   {
    "duration": 5,
    "start_time": "2021-11-17T19:39:24.508Z"
   },
   {
    "duration": 580,
    "start_time": "2021-11-17T19:39:24.907Z"
   },
   {
    "duration": 12,
    "start_time": "2021-11-17T19:46:42.536Z"
   },
   {
    "duration": 5,
    "start_time": "2021-11-17T19:46:43.029Z"
   },
   {
    "duration": 605,
    "start_time": "2021-11-17T19:46:43.986Z"
   },
   {
    "duration": 580,
    "start_time": "2021-11-17T19:59:58.409Z"
   },
   {
    "duration": 627,
    "start_time": "2021-11-17T20:00:09.454Z"
   },
   {
    "duration": 14,
    "start_time": "2021-11-17T20:00:12.365Z"
   },
   {
    "duration": 6,
    "start_time": "2021-11-17T20:00:12.788Z"
   },
   {
    "duration": 653,
    "start_time": "2021-11-17T20:00:13.271Z"
   },
   {
    "duration": 270,
    "start_time": "2021-11-17T20:00:20.779Z"
   },
   {
    "duration": 13,
    "start_time": "2021-11-17T20:00:53.325Z"
   },
   {
    "duration": 5,
    "start_time": "2021-11-17T20:00:53.697Z"
   },
   {
    "duration": 665,
    "start_time": "2021-11-17T20:00:54.064Z"
   },
   {
    "duration": 13,
    "start_time": "2021-11-17T20:01:05.589Z"
   },
   {
    "duration": 5,
    "start_time": "2021-11-17T20:01:05.916Z"
   },
   {
    "duration": 792,
    "start_time": "2021-11-17T20:01:06.278Z"
   },
   {
    "duration": 14,
    "start_time": "2021-11-17T20:01:45.988Z"
   },
   {
    "duration": 6,
    "start_time": "2021-11-17T20:01:46.279Z"
   },
   {
    "duration": 862,
    "start_time": "2021-11-17T20:01:46.785Z"
   },
   {
    "duration": 13,
    "start_time": "2021-11-17T20:02:05.911Z"
   },
   {
    "duration": 5,
    "start_time": "2021-11-17T20:02:06.278Z"
   },
   {
    "duration": 589,
    "start_time": "2021-11-17T20:02:06.696Z"
   },
   {
    "duration": 12,
    "start_time": "2021-11-17T20:02:27.961Z"
   },
   {
    "duration": 5,
    "start_time": "2021-11-17T20:02:28.980Z"
   },
   {
    "duration": 2093,
    "start_time": "2021-11-17T20:02:29.998Z"
   },
   {
    "duration": 13,
    "start_time": "2021-11-17T20:02:52.340Z"
   },
   {
    "duration": 6,
    "start_time": "2021-11-17T20:02:53.568Z"
   },
   {
    "duration": 665,
    "start_time": "2021-11-17T20:02:53.950Z"
   },
   {
    "duration": 12,
    "start_time": "2021-11-17T20:03:10.174Z"
   },
   {
    "duration": 5,
    "start_time": "2021-11-17T20:03:11.397Z"
   },
   {
    "duration": 617,
    "start_time": "2021-11-17T20:03:11.866Z"
   },
   {
    "duration": 13,
    "start_time": "2021-11-17T20:03:44.339Z"
   },
   {
    "duration": 6,
    "start_time": "2021-11-17T20:03:44.738Z"
   },
   {
    "duration": 984,
    "start_time": "2021-11-17T20:03:48.898Z"
   },
   {
    "duration": 298,
    "start_time": "2021-11-17T20:03:49.899Z"
   },
   {
    "duration": 13,
    "start_time": "2021-11-17T20:05:07.126Z"
   },
   {
    "duration": 5,
    "start_time": "2021-11-17T20:05:07.458Z"
   },
   {
    "duration": 716,
    "start_time": "2021-11-17T20:05:08.853Z"
   },
   {
    "duration": 13,
    "start_time": "2021-11-17T20:05:43.466Z"
   },
   {
    "duration": 5,
    "start_time": "2021-11-17T20:05:43.648Z"
   },
   {
    "duration": 190,
    "start_time": "2021-11-17T20:05:43.854Z"
   },
   {
    "duration": 24,
    "start_time": "2021-11-17T20:08:29.913Z"
   },
   {
    "duration": 6,
    "start_time": "2021-11-17T20:08:31.692Z"
   },
   {
    "duration": 194,
    "start_time": "2021-11-17T20:08:32.341Z"
   },
   {
    "duration": 22,
    "start_time": "2021-11-17T20:08:52.428Z"
   },
   {
    "duration": 5,
    "start_time": "2021-11-17T20:08:52.854Z"
   },
   {
    "duration": 563,
    "start_time": "2021-11-17T20:08:53.529Z"
   },
   {
    "duration": 13,
    "start_time": "2021-11-17T20:09:19.893Z"
   },
   {
    "duration": 5,
    "start_time": "2021-11-17T20:09:20.266Z"
   },
   {
    "duration": 583,
    "start_time": "2021-11-17T20:09:20.679Z"
   },
   {
    "duration": 15,
    "start_time": "2021-11-17T20:09:54.145Z"
   },
   {
    "duration": 5,
    "start_time": "2021-11-17T20:10:05.173Z"
   },
   {
    "duration": 594,
    "start_time": "2021-11-17T20:10:05.488Z"
   },
   {
    "duration": 15,
    "start_time": "2021-11-17T20:10:20.379Z"
   },
   {
    "duration": 5,
    "start_time": "2021-11-17T20:10:20.947Z"
   },
   {
    "duration": 556,
    "start_time": "2021-11-17T20:10:21.348Z"
   },
   {
    "duration": 14,
    "start_time": "2021-11-17T20:10:34.864Z"
   },
   {
    "duration": 7,
    "start_time": "2021-11-17T20:10:35.129Z"
   },
   {
    "duration": 133,
    "start_time": "2021-11-17T20:10:35.309Z"
   },
   {
    "duration": 235,
    "start_time": "2021-11-18T17:54:08.130Z"
   },
   {
    "duration": 10,
    "start_time": "2021-11-18T17:54:08.542Z"
   },
   {
    "duration": 513,
    "start_time": "2021-11-18T17:54:09.169Z"
   },
   {
    "duration": 1047,
    "start_time": "2021-11-18T17:54:14.718Z"
   },
   {
    "duration": 57,
    "start_time": "2021-11-18T17:54:16.690Z"
   },
   {
    "duration": 5,
    "start_time": "2021-11-18T17:54:17.050Z"
   },
   {
    "duration": 26,
    "start_time": "2021-11-18T17:54:17.539Z"
   },
   {
    "duration": 4,
    "start_time": "2021-11-18T17:54:17.567Z"
   },
   {
    "duration": 4848,
    "start_time": "2021-11-18T17:54:18.220Z"
   },
   {
    "duration": 5,
    "start_time": "2021-11-18T17:54:28.330Z"
   },
   {
    "duration": 10,
    "start_time": "2021-11-18T17:54:37.320Z"
   },
   {
    "duration": 458,
    "start_time": "2021-11-18T17:54:38.388Z"
   },
   {
    "duration": 361,
    "start_time": "2021-11-18T17:54:39.327Z"
   },
   {
    "duration": 4,
    "start_time": "2021-11-18T17:55:06.883Z"
   },
   {
    "duration": 10,
    "start_time": "2021-11-18T17:55:07.287Z"
   },
   {
    "duration": 4,
    "start_time": "2021-11-18T17:55:07.933Z"
   },
   {
    "duration": 176,
    "start_time": "2021-11-18T17:55:09.433Z"
   },
   {
    "duration": 186,
    "start_time": "2021-11-18T17:59:34.923Z"
   },
   {
    "duration": 8,
    "start_time": "2021-11-18T17:59:53.019Z"
   },
   {
    "duration": 4,
    "start_time": "2021-11-18T17:59:56.980Z"
   },
   {
    "duration": 836,
    "start_time": "2021-11-18T17:59:58.682Z"
   },
   {
    "duration": 8,
    "start_time": "2021-11-18T18:00:29.112Z"
   },
   {
    "duration": 4,
    "start_time": "2021-11-18T18:00:31.190Z"
   },
   {
    "duration": 743,
    "start_time": "2021-11-18T18:00:31.768Z"
   },
   {
    "duration": 24,
    "start_time": "2021-11-18T18:00:59.566Z"
   },
   {
    "duration": 9,
    "start_time": "2021-11-18T18:02:47.663Z"
   },
   {
    "duration": 5,
    "start_time": "2021-11-18T18:02:52.559Z"
   },
   {
    "duration": 168,
    "start_time": "2021-11-18T18:02:53.439Z"
   },
   {
    "duration": 12,
    "start_time": "2021-11-18T18:03:05.226Z"
   },
   {
    "duration": 5,
    "start_time": "2021-11-18T18:03:05.529Z"
   },
   {
    "duration": 146,
    "start_time": "2021-11-18T18:03:06.165Z"
   },
   {
    "duration": 8,
    "start_time": "2021-11-18T18:04:25.559Z"
   },
   {
    "duration": 4,
    "start_time": "2021-11-18T18:04:25.979Z"
   },
   {
    "duration": 793,
    "start_time": "2021-11-18T18:04:26.419Z"
   },
   {
    "duration": 8,
    "start_time": "2021-11-18T18:04:44.280Z"
   },
   {
    "duration": 8,
    "start_time": "2021-11-18T18:04:44.290Z"
   },
   {
    "duration": 794,
    "start_time": "2021-11-18T18:04:44.401Z"
   },
   {
    "duration": 9,
    "start_time": "2021-11-18T18:05:14.143Z"
   },
   {
    "duration": 4,
    "start_time": "2021-11-18T18:05:14.580Z"
   },
   {
    "duration": 895,
    "start_time": "2021-11-18T18:05:15.020Z"
   },
   {
    "duration": 9,
    "start_time": "2021-11-18T18:05:42.011Z"
   },
   {
    "duration": 4,
    "start_time": "2021-11-18T18:05:45.002Z"
   },
   {
    "duration": 1123,
    "start_time": "2021-11-18T18:05:45.362Z"
   },
   {
    "duration": 10,
    "start_time": "2021-11-18T18:06:03.831Z"
   },
   {
    "duration": 4,
    "start_time": "2021-11-18T18:06:04.169Z"
   },
   {
    "duration": 820,
    "start_time": "2021-11-18T18:06:04.529Z"
   },
   {
    "duration": 10,
    "start_time": "2021-11-18T18:06:25.268Z"
   },
   {
    "duration": 4,
    "start_time": "2021-11-18T18:06:25.638Z"
   },
   {
    "duration": 757,
    "start_time": "2021-11-18T18:06:25.954Z"
   },
   {
    "duration": 9,
    "start_time": "2021-11-18T18:06:53.891Z"
   },
   {
    "duration": 4,
    "start_time": "2021-11-18T18:06:54.128Z"
   },
   {
    "duration": 760,
    "start_time": "2021-11-18T18:06:54.358Z"
   },
   {
    "duration": 9,
    "start_time": "2021-11-18T18:07:01.787Z"
   },
   {
    "duration": 4,
    "start_time": "2021-11-18T18:07:02.168Z"
   },
   {
    "duration": 1133,
    "start_time": "2021-11-18T18:07:02.511Z"
   },
   {
    "duration": 9,
    "start_time": "2021-11-18T18:07:30.412Z"
   },
   {
    "duration": 4,
    "start_time": "2021-11-18T18:07:32.044Z"
   },
   {
    "duration": 712,
    "start_time": "2021-11-18T18:07:32.511Z"
   },
   {
    "duration": 122,
    "start_time": "2021-11-18T18:08:22.491Z"
   },
   {
    "duration": 4,
    "start_time": "2021-11-18T18:08:23.107Z"
   },
   {
    "duration": 812,
    "start_time": "2021-11-18T18:08:23.416Z"
   },
   {
    "duration": 359,
    "start_time": "2021-11-18T18:08:24.268Z"
   },
   {
    "duration": 13,
    "start_time": "2021-11-18T18:09:06.950Z"
   },
   {
    "duration": 4,
    "start_time": "2021-11-18T18:09:07.178Z"
   },
   {
    "duration": 70,
    "start_time": "2021-11-18T18:09:07.578Z"
   },
   {
    "duration": 9,
    "start_time": "2021-11-18T18:09:39.220Z"
   },
   {
    "duration": 4,
    "start_time": "2021-11-18T18:09:39.659Z"
   },
   {
    "duration": 109,
    "start_time": "2021-11-18T18:09:40.207Z"
   },
   {
    "duration": 22,
    "start_time": "2021-11-18T18:10:15.734Z"
   },
   {
    "duration": 4,
    "start_time": "2021-11-18T18:10:17.279Z"
   },
   {
    "duration": 117,
    "start_time": "2021-11-18T18:10:17.499Z"
   },
   {
    "duration": 9,
    "start_time": "2021-11-18T18:11:49.122Z"
   },
   {
    "duration": 5,
    "start_time": "2021-11-18T18:11:49.467Z"
   },
   {
    "duration": 54,
    "start_time": "2021-11-18T18:11:50.059Z"
   },
   {
    "duration": 10,
    "start_time": "2021-11-18T18:12:01.171Z"
   },
   {
    "duration": 4,
    "start_time": "2021-11-18T18:12:01.398Z"
   },
   {
    "duration": 172,
    "start_time": "2021-11-18T18:12:01.838Z"
   },
   {
    "duration": 14,
    "start_time": "2021-11-18T18:12:53.507Z"
   },
   {
    "duration": 4,
    "start_time": "2021-11-18T18:12:54.451Z"
   },
   {
    "duration": 752,
    "start_time": "2021-11-18T18:12:54.801Z"
   },
   {
    "duration": 9,
    "start_time": "2021-11-18T18:13:03.591Z"
   },
   {
    "duration": 4,
    "start_time": "2021-11-18T18:13:03.854Z"
   },
   {
    "duration": 183,
    "start_time": "2021-11-18T18:13:04.128Z"
   },
   {
    "duration": 5,
    "start_time": "2021-11-18T18:13:08.908Z"
   },
   {
    "duration": 728,
    "start_time": "2021-11-18T18:16:20.040Z"
   },
   {
    "duration": 407,
    "start_time": "2021-11-18T18:19:01.570Z"
   },
   {
    "duration": 8,
    "start_time": "2021-11-18T18:19:08.044Z"
   },
   {
    "duration": 353,
    "start_time": "2021-11-18T18:19:11.128Z"
   },
   {
    "duration": 495,
    "start_time": "2021-11-18T18:19:20.260Z"
   },
   {
    "duration": 298,
    "start_time": "2021-11-18T18:19:31.511Z"
   },
   {
    "duration": 5,
    "start_time": "2021-11-18T18:20:08.624Z"
   },
   {
    "duration": 943,
    "start_time": "2021-11-18T18:20:24.409Z"
   },
   {
    "duration": 1424,
    "start_time": "2021-11-18T18:20:47.700Z"
   },
   {
    "duration": 558,
    "start_time": "2021-11-18T18:20:56.877Z"
   },
   {
    "duration": 12,
    "start_time": "2021-11-18T18:21:00.799Z"
   },
   {
    "duration": 5,
    "start_time": "2021-11-18T18:21:01.250Z"
   },
   {
    "duration": 68,
    "start_time": "2021-11-18T18:21:01.959Z"
   },
   {
    "duration": 5,
    "start_time": "2021-11-18T18:21:03.167Z"
   },
   {
    "duration": 148,
    "start_time": "2021-11-18T18:21:06.577Z"
   },
   {
    "duration": 4,
    "start_time": "2021-11-18T18:21:08.160Z"
   },
   {
    "duration": 6,
    "start_time": "2021-11-18T18:23:38.088Z"
   },
   {
    "duration": 116,
    "start_time": "2021-11-18T18:23:53.706Z"
   },
   {
    "duration": 128,
    "start_time": "2021-11-18T18:23:57.987Z"
   },
   {
    "duration": 226,
    "start_time": "2021-11-18T18:24:31.108Z"
   },
   {
    "duration": 6,
    "start_time": "2021-11-18T18:24:56.108Z"
   },
   {
    "duration": 4,
    "start_time": "2021-11-18T18:25:06.851Z"
   },
   {
    "duration": 3,
    "start_time": "2021-11-18T18:28:15.854Z"
   },
   {
    "duration": 1123,
    "start_time": "2021-11-18T20:04:20.404Z"
   },
   {
    "duration": 25,
    "start_time": "2021-11-18T20:04:21.529Z"
   },
   {
    "duration": 4,
    "start_time": "2021-11-18T20:04:21.556Z"
   },
   {
    "duration": 31,
    "start_time": "2021-11-18T20:04:21.561Z"
   },
   {
    "duration": 3,
    "start_time": "2021-11-18T20:04:21.594Z"
   },
   {
    "duration": 5039,
    "start_time": "2021-11-18T20:04:21.599Z"
   },
   {
    "duration": 3,
    "start_time": "2021-11-18T20:04:26.640Z"
   },
   {
    "duration": 30,
    "start_time": "2021-11-18T20:04:26.645Z"
   },
   {
    "duration": 11,
    "start_time": "2021-11-18T20:04:26.679Z"
   },
   {
    "duration": 32,
    "start_time": "2021-11-18T20:04:26.692Z"
   },
   {
    "duration": 58,
    "start_time": "2021-11-18T20:04:26.726Z"
   },
   {
    "duration": 96,
    "start_time": "2021-11-18T20:04:26.786Z"
   },
   {
    "duration": 193,
    "start_time": "2021-11-18T20:04:26.885Z"
   },
   {
    "duration": 84,
    "start_time": "2021-11-18T20:04:27.080Z"
   },
   {
    "duration": 19,
    "start_time": "2021-11-18T20:04:27.169Z"
   },
   {
    "duration": 87,
    "start_time": "2021-11-18T20:04:27.190Z"
   },
   {
    "duration": 22,
    "start_time": "2021-11-18T20:04:27.281Z"
   },
   {
    "duration": 15,
    "start_time": "2021-11-18T20:04:27.305Z"
   },
   {
    "duration": 7,
    "start_time": "2021-11-18T20:04:27.368Z"
   },
   {
    "duration": 85,
    "start_time": "2021-11-18T20:04:27.378Z"
   },
   {
    "duration": 47,
    "start_time": "2021-11-18T20:05:20.567Z"
   },
   {
    "duration": 8,
    "start_time": "2021-11-18T20:06:20.403Z"
   },
   {
    "duration": 41,
    "start_time": "2021-11-18T20:06:20.695Z"
   },
   {
    "duration": 42,
    "start_time": "2021-11-18T20:07:59.715Z"
   },
   {
    "duration": 1184,
    "start_time": "2021-11-18T20:15:14.099Z"
   },
   {
    "duration": 27,
    "start_time": "2021-11-18T20:15:15.285Z"
   },
   {
    "duration": 4,
    "start_time": "2021-11-18T20:15:15.314Z"
   },
   {
    "duration": 26,
    "start_time": "2021-11-18T20:15:15.320Z"
   },
   {
    "duration": 3,
    "start_time": "2021-11-18T20:15:15.348Z"
   },
   {
    "duration": 5311,
    "start_time": "2021-11-18T20:15:15.364Z"
   },
   {
    "duration": 6,
    "start_time": "2021-11-18T20:15:20.677Z"
   },
   {
    "duration": 33,
    "start_time": "2021-11-18T20:15:20.685Z"
   },
   {
    "duration": 9,
    "start_time": "2021-11-18T20:15:20.721Z"
   },
   {
    "duration": 15,
    "start_time": "2021-11-18T20:15:20.732Z"
   },
   {
    "duration": 116,
    "start_time": "2021-11-18T20:15:20.749Z"
   },
   {
    "duration": 4,
    "start_time": "2021-11-18T20:15:20.867Z"
   },
   {
    "duration": 316,
    "start_time": "2021-11-18T20:15:20.874Z"
   },
   {
    "duration": 80,
    "start_time": "2021-11-18T20:15:21.192Z"
   },
   {
    "duration": 91,
    "start_time": "2021-11-18T20:15:21.273Z"
   },
   {
    "duration": 5,
    "start_time": "2021-11-18T20:15:21.366Z"
   },
   {
    "duration": 13,
    "start_time": "2021-11-18T20:15:21.374Z"
   },
   {
    "duration": 71,
    "start_time": "2021-11-18T20:15:21.392Z"
   },
   {
    "duration": 131,
    "start_time": "2021-11-18T20:15:21.468Z"
   },
   {
    "duration": 43,
    "start_time": "2021-11-18T20:15:21.601Z"
   },
   {
    "duration": 1158,
    "start_time": "2021-11-18T21:43:24.265Z"
   },
   {
    "duration": 56,
    "start_time": "2021-11-18T21:43:28.111Z"
   },
   {
    "duration": 4,
    "start_time": "2021-11-18T21:43:28.894Z"
   },
   {
    "duration": 20,
    "start_time": "2021-11-18T21:43:29.098Z"
   },
   {
    "duration": 3,
    "start_time": "2021-11-18T21:43:29.300Z"
   },
   {
    "duration": 4110,
    "start_time": "2021-11-18T21:43:29.494Z"
   },
   {
    "duration": 3,
    "start_time": "2021-11-18T21:45:39.805Z"
   },
   {
    "duration": 4,
    "start_time": "2021-11-18T21:45:40.007Z"
   },
   {
    "duration": 11,
    "start_time": "2021-11-18T21:49:24.861Z"
   },
   {
    "duration": 4,
    "start_time": "2021-11-18T21:49:25.925Z"
   },
   {
    "duration": 56,
    "start_time": "2021-11-18T21:49:26.838Z"
   },
   {
    "duration": 3,
    "start_time": "2021-11-18T21:49:27.310Z"
   },
   {
    "duration": 109,
    "start_time": "2021-11-18T21:49:27.484Z"
   },
   {
    "duration": 4,
    "start_time": "2021-11-18T21:49:28.404Z"
   },
   {
    "duration": 569,
    "start_time": "2021-11-18T21:50:31.201Z"
   },
   {
    "duration": 446,
    "start_time": "2021-11-18T21:52:57.449Z"
   },
   {
    "duration": 859,
    "start_time": "2021-11-18T21:54:41.244Z"
   },
   {
    "duration": 528,
    "start_time": "2021-11-18T21:56:05.328Z"
   },
   {
    "duration": 532,
    "start_time": "2021-11-18T21:57:52.206Z"
   },
   {
    "duration": 499,
    "start_time": "2021-11-18T22:00:08.490Z"
   },
   {
    "duration": 420,
    "start_time": "2021-11-18T22:02:26.809Z"
   },
   {
    "duration": 217,
    "start_time": "2021-11-18T22:06:31.873Z"
   },
   {
    "duration": 4,
    "start_time": "2021-11-18T22:08:18.892Z"
   },
   {
    "duration": 3,
    "start_time": "2021-11-18T22:08:19.457Z"
   },
   {
    "duration": 4,
    "start_time": "2021-11-18T22:08:19.646Z"
   },
   {
    "duration": 6,
    "start_time": "2021-11-18T22:08:19.980Z"
   },
   {
    "duration": 36,
    "start_time": "2021-11-18T22:08:20.145Z"
   },
   {
    "duration": 37,
    "start_time": "2021-11-18T22:08:20.335Z"
   }
  ],
  "kernelspec": {
   "display_name": "Python 3",
   "language": "python",
   "name": "python3"
  },
  "language_info": {
   "codemirror_mode": {
    "name": "ipython",
    "version": 3
   },
   "file_extension": ".py",
   "mimetype": "text/x-python",
   "name": "python",
   "nbconvert_exporter": "python",
   "pygments_lexer": "ipython3",
   "version": "3.8.5"
  },
  "toc": {
   "base_numbering": 1,
   "nav_menu": {},
   "number_sections": true,
   "sideBar": true,
   "skip_h1_title": true,
   "title_cell": "Содержание",
   "title_sidebar": "Contents",
   "toc_cell": true,
   "toc_position": {
    "height": "calc(100% - 180px)",
    "left": "10px",
    "top": "150px",
    "width": "215.583px"
   },
   "toc_section_display": true,
   "toc_window_display": false
  }
 },
 "nbformat": 4,
 "nbformat_minor": 2
}
