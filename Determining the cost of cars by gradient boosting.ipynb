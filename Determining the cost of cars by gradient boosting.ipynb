{
 "cells": [
  {
   "cell_type": "code",
   "execution_count": 457,
   "metadata": {
    "cellId": "b3tc1vhmf4c42l62pmqkwz",
    "scrolled": true
   },
   "outputs": [
    {
     "name": "stdout",
     "output_type": "stream",
     "text": [
      "\u001b[33mWARNING: You are using pip version 21.0.1; however, version 21.3.1 is available.\n",
      "You should consider upgrading via the '/usr/local/bin/python3 -m pip install --upgrade pip' command.\u001b[0m\n",
      "Defaulting to user installation because normal site-packages is not writeable\n",
      "Requirement already satisfied: lightgbm in /usr/local/lib/python3.7/dist-packages (2.3.1)\n",
      "Requirement already satisfied: numpy in /home/jupyter/.local/lib/python3.7/site-packages (from lightgbm) (1.19.5)\n",
      "Requirement already satisfied: scipy in /usr/local/lib/python3.7/dist-packages (from lightgbm) (1.4.1)\n",
      "Requirement already satisfied: scikit-learn in /home/jupyter/.local/lib/python3.7/site-packages (from lightgbm) (0.21.2)\n",
      "Requirement already satisfied: joblib>=0.11 in /usr/local/lib/python3.7/dist-packages (from scikit-learn->lightgbm) (1.0.1)\n",
      "\u001b[33mWARNING: You are using pip version 21.0.1; however, version 21.3.1 is available.\n",
      "You should consider upgrading via the '/usr/local/bin/python3 -m pip install --upgrade pip' command.\u001b[0m\n",
      "Defaulting to user installation because normal site-packages is not writeable\n",
      "Requirement already satisfied: optuna in /home/jupyter/.local/lib/python3.7/site-packages (2.10.0)\n",
      "Requirement already satisfied: numpy in /home/jupyter/.local/lib/python3.7/site-packages (from optuna) (1.19.5)\n",
      "Requirement already satisfied: tqdm in /usr/local/lib/python3.7/dist-packages (from optuna) (4.50.0)\n",
      "Requirement already satisfied: cliff in /home/jupyter/.local/lib/python3.7/site-packages (from optuna) (3.10.0)\n",
      "Requirement already satisfied: cmaes>=0.8.2 in /home/jupyter/.local/lib/python3.7/site-packages (from optuna) (0.8.2)\n",
      "Requirement already satisfied: alembic in /home/jupyter/.local/lib/python3.7/site-packages (from optuna) (1.7.5)\n",
      "Requirement already satisfied: PyYAML in /usr/local/lib/python3.7/dist-packages (from optuna) (5.3.1)\n",
      "Requirement already satisfied: colorlog in /home/jupyter/.local/lib/python3.7/site-packages (from optuna) (6.6.0)\n",
      "Requirement already satisfied: scipy!=1.4.0 in /usr/local/lib/python3.7/dist-packages (from optuna) (1.4.1)\n",
      "Requirement already satisfied: packaging>=20.0 in /kernel/lib/python3.7/site-packages (from optuna) (20.9)\n",
      "Requirement already satisfied: sqlalchemy>=1.1.0 in /home/jupyter/.local/lib/python3.7/site-packages (from optuna) (1.3.11)\n",
      "Requirement already satisfied: pyparsing>=2.0.2 in /kernel/lib/python3.7/site-packages (from packaging>=20.0->optuna) (2.4.7)\n",
      "Requirement already satisfied: importlib-resources in /kernel/lib/python3.7/site-packages (from alembic->optuna) (5.4.0)\n",
      "Requirement already satisfied: Mako in /home/jupyter/.local/lib/python3.7/site-packages (from alembic->optuna) (1.1.6)\n",
      "Requirement already satisfied: importlib-metadata in /kernel/lib/python3.7/site-packages (from alembic->optuna) (4.8.2)\n",
      "Requirement already satisfied: autopage>=0.4.0 in /home/jupyter/.local/lib/python3.7/site-packages (from cliff->optuna) (0.4.0)\n",
      "Requirement already satisfied: PrettyTable>=0.7.2 in /home/jupyter/.local/lib/python3.7/site-packages (from cliff->optuna) (2.4.0)\n",
      "Requirement already satisfied: pbr!=2.1.0,>=2.0.0 in /home/jupyter/.local/lib/python3.7/site-packages (from cliff->optuna) (5.8.0)\n",
      "Requirement already satisfied: cmd2>=1.0.0 in /home/jupyter/.local/lib/python3.7/site-packages (from cliff->optuna) (2.3.3)\n",
      "Requirement already satisfied: stevedore>=2.0.1 in /home/jupyter/.local/lib/python3.7/site-packages (from cliff->optuna) (3.5.0)\n",
      "Requirement already satisfied: attrs>=16.3.0 in /home/jupyter/.local/lib/python3.7/site-packages (from cmd2>=1.0.0->cliff->optuna) (19.2.0)\n",
      "Requirement already satisfied: typing-extensions in /kernel/lib/python3.7/site-packages (from cmd2>=1.0.0->cliff->optuna) (4.0.1)\n",
      "Requirement already satisfied: pyperclip>=1.6 in /home/jupyter/.local/lib/python3.7/site-packages (from cmd2>=1.0.0->cliff->optuna) (1.8.2)\n",
      "Requirement already satisfied: wcwidth>=0.1.7 in /kernel/lib/python3.7/site-packages (from cmd2>=1.0.0->cliff->optuna) (0.2.5)\n",
      "Requirement already satisfied: zipp>=0.5 in /kernel/lib/python3.7/site-packages (from importlib-metadata->alembic->optuna) (3.6.0)\n",
      "Requirement already satisfied: MarkupSafe>=0.9.2 in /kernel/lib/python3.7/site-packages (from Mako->alembic->optuna) (2.0.1)\n",
      "\u001b[33mWARNING: You are using pip version 21.0.1; however, version 21.3.1 is available.\n",
      "You should consider upgrading via the '/usr/local/bin/python3 -m pip install --upgrade pip' command.\u001b[0m\n"
     ]
    }
   ],
   "source": [
    "%pip install -q -r requirements-ml.txt\n",
    "%pip install lightgbm\n",
    "%pip install optuna"
   ]
  },
  {
   "cell_type": "code",
   "execution_count": 2,
   "metadata": {
    "cellId": "dnzf7v0pjtkwn3iay1bqed"
   },
   "outputs": [],
   "source": [
    "import lightgbm as lgbm\n",
    "import numpy as np\n",
    "import sklearn\n",
    "import pandas as pd\n",
    "import math\n",
    "import seaborn as sns\n",
    "import warnings\n",
    "warnings.filterwarnings('ignore')\n",
    "from sklearn.impute import SimpleImputer\n",
    "from sklearn.preprocessing import StandardScaler\n",
    "from sklearn.model_selection import train_test_split\n",
    "from sklearn.linear_model import LinearRegression\n",
    "from sklearn.ensemble import RandomForestRegressor\n",
    "from sklearn.model_selection import GridSearchCV\n",
    "from sklearn.model_selection import KFold\n",
    "from sklearn.metrics import mean_squared_error\n",
    "from numpy import mean\n",
    "from numpy import std\n",
    "from sklearn.model_selection import cross_val_score\n",
    "from sklearn.model_selection import RepeatedKFold\n",
    "from sklearn.model_selection import StratifiedKFold\n",
    "import xgboost as xgb\n",
    "from lightgbm import LGBMRegressor\n",
    "from sklearn.tree import DecisionTreeRegressor\n",
    "import optuna\n",
    "from sklearn.preprocessing import OrdinalEncoder\n",
    "import matplotlib.pyplot as plt\n",
    "from sklearn.datasets import make_classification"
   ]
  },
  {
   "cell_type": "markdown",
   "metadata": {
    "cellId": "q7c3un83r9kplg06vwjlb"
   },
   "source": [
    "# Определение стоимости автомобилей"
   ]
  },
  {
   "cell_type": "code",
   "execution_count": 3,
   "metadata": {
    "cellId": "9zmpwzwrj7m16mxvh1ldsl"
   },
   "outputs": [
    {
     "data": {
      "text/html": [
       "<div>\n",
       "<style scoped>\n",
       "    .dataframe tbody tr th:only-of-type {\n",
       "        vertical-align: middle;\n",
       "    }\n",
       "\n",
       "    .dataframe tbody tr th {\n",
       "        vertical-align: top;\n",
       "    }\n",
       "\n",
       "    .dataframe thead th {\n",
       "        text-align: right;\n",
       "    }\n",
       "</style>\n",
       "<table border=\"1\" class=\"dataframe\">\n",
       "  <thead>\n",
       "    <tr style=\"text-align: right;\">\n",
       "      <th></th>\n",
       "      <th>DateCrawled</th>\n",
       "      <th>Price</th>\n",
       "      <th>VehicleType</th>\n",
       "      <th>RegistrationYear</th>\n",
       "      <th>Gearbox</th>\n",
       "      <th>Power</th>\n",
       "      <th>Model</th>\n",
       "      <th>Kilometer</th>\n",
       "      <th>RegistrationMonth</th>\n",
       "      <th>FuelType</th>\n",
       "      <th>Brand</th>\n",
       "      <th>NotRepaired</th>\n",
       "      <th>DateCreated</th>\n",
       "      <th>NumberOfPictures</th>\n",
       "      <th>PostalCode</th>\n",
       "      <th>LastSeen</th>\n",
       "    </tr>\n",
       "  </thead>\n",
       "  <tbody>\n",
       "    <tr>\n",
       "      <td>0</td>\n",
       "      <td>2016-03-24 11:52:17</td>\n",
       "      <td>480</td>\n",
       "      <td>NaN</td>\n",
       "      <td>1993</td>\n",
       "      <td>manual</td>\n",
       "      <td>0</td>\n",
       "      <td>golf</td>\n",
       "      <td>150000</td>\n",
       "      <td>0</td>\n",
       "      <td>petrol</td>\n",
       "      <td>volkswagen</td>\n",
       "      <td>NaN</td>\n",
       "      <td>2016-03-24 00:00:00</td>\n",
       "      <td>0</td>\n",
       "      <td>70435</td>\n",
       "      <td>2016-04-07 03:16:57</td>\n",
       "    </tr>\n",
       "    <tr>\n",
       "      <td>1</td>\n",
       "      <td>2016-03-24 10:58:45</td>\n",
       "      <td>18300</td>\n",
       "      <td>coupe</td>\n",
       "      <td>2011</td>\n",
       "      <td>manual</td>\n",
       "      <td>190</td>\n",
       "      <td>NaN</td>\n",
       "      <td>125000</td>\n",
       "      <td>5</td>\n",
       "      <td>gasoline</td>\n",
       "      <td>audi</td>\n",
       "      <td>yes</td>\n",
       "      <td>2016-03-24 00:00:00</td>\n",
       "      <td>0</td>\n",
       "      <td>66954</td>\n",
       "      <td>2016-04-07 01:46:50</td>\n",
       "    </tr>\n",
       "    <tr>\n",
       "      <td>2</td>\n",
       "      <td>2016-03-14 12:52:21</td>\n",
       "      <td>9800</td>\n",
       "      <td>suv</td>\n",
       "      <td>2004</td>\n",
       "      <td>auto</td>\n",
       "      <td>163</td>\n",
       "      <td>grand</td>\n",
       "      <td>125000</td>\n",
       "      <td>8</td>\n",
       "      <td>gasoline</td>\n",
       "      <td>jeep</td>\n",
       "      <td>NaN</td>\n",
       "      <td>2016-03-14 00:00:00</td>\n",
       "      <td>0</td>\n",
       "      <td>90480</td>\n",
       "      <td>2016-04-05 12:47:46</td>\n",
       "    </tr>\n",
       "    <tr>\n",
       "      <td>3</td>\n",
       "      <td>2016-03-17 16:54:04</td>\n",
       "      <td>1500</td>\n",
       "      <td>small</td>\n",
       "      <td>2001</td>\n",
       "      <td>manual</td>\n",
       "      <td>75</td>\n",
       "      <td>golf</td>\n",
       "      <td>150000</td>\n",
       "      <td>6</td>\n",
       "      <td>petrol</td>\n",
       "      <td>volkswagen</td>\n",
       "      <td>no</td>\n",
       "      <td>2016-03-17 00:00:00</td>\n",
       "      <td>0</td>\n",
       "      <td>91074</td>\n",
       "      <td>2016-03-17 17:40:17</td>\n",
       "    </tr>\n",
       "    <tr>\n",
       "      <td>4</td>\n",
       "      <td>2016-03-31 17:25:20</td>\n",
       "      <td>3600</td>\n",
       "      <td>small</td>\n",
       "      <td>2008</td>\n",
       "      <td>manual</td>\n",
       "      <td>69</td>\n",
       "      <td>fabia</td>\n",
       "      <td>90000</td>\n",
       "      <td>7</td>\n",
       "      <td>gasoline</td>\n",
       "      <td>skoda</td>\n",
       "      <td>no</td>\n",
       "      <td>2016-03-31 00:00:00</td>\n",
       "      <td>0</td>\n",
       "      <td>60437</td>\n",
       "      <td>2016-04-06 10:17:21</td>\n",
       "    </tr>\n",
       "  </tbody>\n",
       "</table>\n",
       "</div>"
      ],
      "text/plain": [
       "           DateCrawled  Price VehicleType  RegistrationYear Gearbox  Power  \\\n",
       "0  2016-03-24 11:52:17    480         NaN              1993  manual      0   \n",
       "1  2016-03-24 10:58:45  18300       coupe              2011  manual    190   \n",
       "2  2016-03-14 12:52:21   9800         suv              2004    auto    163   \n",
       "3  2016-03-17 16:54:04   1500       small              2001  manual     75   \n",
       "4  2016-03-31 17:25:20   3600       small              2008  manual     69   \n",
       "\n",
       "   Model  Kilometer  RegistrationMonth  FuelType       Brand NotRepaired  \\\n",
       "0   golf     150000                  0    petrol  volkswagen         NaN   \n",
       "1    NaN     125000                  5  gasoline        audi         yes   \n",
       "2  grand     125000                  8  gasoline        jeep         NaN   \n",
       "3   golf     150000                  6    petrol  volkswagen          no   \n",
       "4  fabia      90000                  7  gasoline       skoda          no   \n",
       "\n",
       "           DateCreated  NumberOfPictures  PostalCode             LastSeen  \n",
       "0  2016-03-24 00:00:00                 0       70435  2016-04-07 03:16:57  \n",
       "1  2016-03-24 00:00:00                 0       66954  2016-04-07 01:46:50  \n",
       "2  2016-03-14 00:00:00                 0       90480  2016-04-05 12:47:46  \n",
       "3  2016-03-17 00:00:00                 0       91074  2016-03-17 17:40:17  \n",
       "4  2016-03-31 00:00:00                 0       60437  2016-04-06 10:17:21  "
      ]
     },
     "execution_count": 3,
     "metadata": {},
     "output_type": "execute_result"
    }
   ],
   "source": [
    "##Загружаем данные и проводим первичную оценку.\n",
    "#df = pd.read_csv('autos.csv')\n",
    "df = pd.read_csv('/datasets/autos.csv')\n",
    "df.head()"
   ]
  },
  {
   "cell_type": "code",
   "execution_count": 4,
   "metadata": {
    "cellId": "h3v8a15y49re5cz699n7mr"
   },
   "outputs": [],
   "source": [
    "df['PostalCode'] = df['PostalCode']//1000"
   ]
  },
  {
   "cell_type": "code",
   "execution_count": 6,
   "metadata": {
    "cellId": "7f6308bx6wbys153nurx0p"
   },
   "outputs": [
    {
     "data": {
      "text/plain": [
       "0         15\n",
       "1         15\n",
       "2         23\n",
       "3          1\n",
       "4          7\n",
       "          ..\n",
       "354364     1\n",
       "354365    24\n",
       "354366     7\n",
       "354367    20\n",
       "354368     5\n",
       "Name: Age, Length: 354369, dtype: int64"
      ]
     },
     "execution_count": 6,
     "metadata": {},
     "output_type": "execute_result"
    }
   ],
   "source": [
    "pd.to_datetime(df['LastSeen'], format=\"%Y-%m-%d %H:%M:%S\")\n",
    "df['LastSeen_Year'] = pd.DatetimeIndex(df['LastSeen']).year\n",
    "df['Age'] = pd.DatetimeIndex(df['LastSeen']) - pd.DatetimeIndex(df['DateCreated'] )#.astype('int')\n",
    "\n",
    "df['Age'] = pd.DatetimeIndex(df['Age']).astype('datetime64[ns]').day\n",
    "df['Age']"
   ]
  },
  {
   "cell_type": "code",
   "execution_count": 7,
   "metadata": {
    "cellId": "z1glr77n79swlrxswshgk8"
   },
   "outputs": [
    {
     "data": {
      "text/html": [
       "<div>\n",
       "<style scoped>\n",
       "    .dataframe tbody tr th:only-of-type {\n",
       "        vertical-align: middle;\n",
       "    }\n",
       "\n",
       "    .dataframe tbody tr th {\n",
       "        vertical-align: top;\n",
       "    }\n",
       "\n",
       "    .dataframe thead th {\n",
       "        text-align: right;\n",
       "    }\n",
       "</style>\n",
       "<table border=\"1\" class=\"dataframe\">\n",
       "  <thead>\n",
       "    <tr style=\"text-align: right;\">\n",
       "      <th></th>\n",
       "      <th>DateCrawled</th>\n",
       "      <th>Price</th>\n",
       "      <th>VehicleType</th>\n",
       "      <th>RegistrationYear</th>\n",
       "      <th>Gearbox</th>\n",
       "      <th>Power</th>\n",
       "      <th>Model</th>\n",
       "      <th>Kilometer</th>\n",
       "      <th>RegistrationMonth</th>\n",
       "      <th>FuelType</th>\n",
       "      <th>Brand</th>\n",
       "      <th>NotRepaired</th>\n",
       "      <th>DateCreated</th>\n",
       "      <th>NumberOfPictures</th>\n",
       "      <th>PostalCode</th>\n",
       "      <th>LastSeen</th>\n",
       "      <th>LastSeen_Year</th>\n",
       "      <th>Age</th>\n",
       "    </tr>\n",
       "  </thead>\n",
       "  <tbody>\n",
       "    <tr>\n",
       "      <td>count</td>\n",
       "      <td>354369</td>\n",
       "      <td>354369.000000</td>\n",
       "      <td>316879</td>\n",
       "      <td>354369.000000</td>\n",
       "      <td>334536</td>\n",
       "      <td>354369.000000</td>\n",
       "      <td>334664</td>\n",
       "      <td>354369.000000</td>\n",
       "      <td>354369.000000</td>\n",
       "      <td>321474</td>\n",
       "      <td>354369</td>\n",
       "      <td>283215</td>\n",
       "      <td>354369</td>\n",
       "      <td>354369.0</td>\n",
       "      <td>354369.000000</td>\n",
       "      <td>354369</td>\n",
       "      <td>354369.0</td>\n",
       "      <td>354369.000000</td>\n",
       "    </tr>\n",
       "    <tr>\n",
       "      <td>unique</td>\n",
       "      <td>271174</td>\n",
       "      <td>NaN</td>\n",
       "      <td>8</td>\n",
       "      <td>NaN</td>\n",
       "      <td>2</td>\n",
       "      <td>NaN</td>\n",
       "      <td>250</td>\n",
       "      <td>NaN</td>\n",
       "      <td>NaN</td>\n",
       "      <td>7</td>\n",
       "      <td>40</td>\n",
       "      <td>2</td>\n",
       "      <td>109</td>\n",
       "      <td>NaN</td>\n",
       "      <td>NaN</td>\n",
       "      <td>179150</td>\n",
       "      <td>NaN</td>\n",
       "      <td>NaN</td>\n",
       "    </tr>\n",
       "    <tr>\n",
       "      <td>top</td>\n",
       "      <td>2016-03-24 14:49:47</td>\n",
       "      <td>NaN</td>\n",
       "      <td>sedan</td>\n",
       "      <td>NaN</td>\n",
       "      <td>manual</td>\n",
       "      <td>NaN</td>\n",
       "      <td>golf</td>\n",
       "      <td>NaN</td>\n",
       "      <td>NaN</td>\n",
       "      <td>petrol</td>\n",
       "      <td>volkswagen</td>\n",
       "      <td>no</td>\n",
       "      <td>2016-04-03 00:00:00</td>\n",
       "      <td>NaN</td>\n",
       "      <td>NaN</td>\n",
       "      <td>2016-04-06 13:45:54</td>\n",
       "      <td>NaN</td>\n",
       "      <td>NaN</td>\n",
       "    </tr>\n",
       "    <tr>\n",
       "      <td>freq</td>\n",
       "      <td>7</td>\n",
       "      <td>NaN</td>\n",
       "      <td>91457</td>\n",
       "      <td>NaN</td>\n",
       "      <td>268251</td>\n",
       "      <td>NaN</td>\n",
       "      <td>29232</td>\n",
       "      <td>NaN</td>\n",
       "      <td>NaN</td>\n",
       "      <td>216352</td>\n",
       "      <td>77013</td>\n",
       "      <td>247161</td>\n",
       "      <td>13719</td>\n",
       "      <td>NaN</td>\n",
       "      <td>NaN</td>\n",
       "      <td>17</td>\n",
       "      <td>NaN</td>\n",
       "      <td>NaN</td>\n",
       "    </tr>\n",
       "    <tr>\n",
       "      <td>mean</td>\n",
       "      <td>NaN</td>\n",
       "      <td>4416.656776</td>\n",
       "      <td>NaN</td>\n",
       "      <td>2004.234448</td>\n",
       "      <td>NaN</td>\n",
       "      <td>110.094337</td>\n",
       "      <td>NaN</td>\n",
       "      <td>128211.172535</td>\n",
       "      <td>5.714645</td>\n",
       "      <td>NaN</td>\n",
       "      <td>NaN</td>\n",
       "      <td>NaN</td>\n",
       "      <td>NaN</td>\n",
       "      <td>0.0</td>\n",
       "      <td>50.061964</td>\n",
       "      <td>NaN</td>\n",
       "      <td>2016.0</td>\n",
       "      <td>9.211079</td>\n",
       "    </tr>\n",
       "    <tr>\n",
       "      <td>std</td>\n",
       "      <td>NaN</td>\n",
       "      <td>4514.158514</td>\n",
       "      <td>NaN</td>\n",
       "      <td>90.227958</td>\n",
       "      <td>NaN</td>\n",
       "      <td>189.850405</td>\n",
       "      <td>NaN</td>\n",
       "      <td>37905.341530</td>\n",
       "      <td>3.726421</td>\n",
       "      <td>NaN</td>\n",
       "      <td>NaN</td>\n",
       "      <td>NaN</td>\n",
       "      <td>NaN</td>\n",
       "      <td>0.0</td>\n",
       "      <td>25.795614</td>\n",
       "      <td>NaN</td>\n",
       "      <td>0.0</td>\n",
       "      <td>7.942363</td>\n",
       "    </tr>\n",
       "    <tr>\n",
       "      <td>min</td>\n",
       "      <td>NaN</td>\n",
       "      <td>0.000000</td>\n",
       "      <td>NaN</td>\n",
       "      <td>1000.000000</td>\n",
       "      <td>NaN</td>\n",
       "      <td>0.000000</td>\n",
       "      <td>NaN</td>\n",
       "      <td>5000.000000</td>\n",
       "      <td>0.000000</td>\n",
       "      <td>NaN</td>\n",
       "      <td>NaN</td>\n",
       "      <td>NaN</td>\n",
       "      <td>NaN</td>\n",
       "      <td>0.0</td>\n",
       "      <td>1.000000</td>\n",
       "      <td>NaN</td>\n",
       "      <td>2016.0</td>\n",
       "      <td>1.000000</td>\n",
       "    </tr>\n",
       "    <tr>\n",
       "      <td>25%</td>\n",
       "      <td>NaN</td>\n",
       "      <td>1050.000000</td>\n",
       "      <td>NaN</td>\n",
       "      <td>1999.000000</td>\n",
       "      <td>NaN</td>\n",
       "      <td>69.000000</td>\n",
       "      <td>NaN</td>\n",
       "      <td>125000.000000</td>\n",
       "      <td>3.000000</td>\n",
       "      <td>NaN</td>\n",
       "      <td>NaN</td>\n",
       "      <td>NaN</td>\n",
       "      <td>NaN</td>\n",
       "      <td>0.0</td>\n",
       "      <td>30.000000</td>\n",
       "      <td>NaN</td>\n",
       "      <td>2016.0</td>\n",
       "      <td>3.000000</td>\n",
       "    </tr>\n",
       "    <tr>\n",
       "      <td>50%</td>\n",
       "      <td>NaN</td>\n",
       "      <td>2700.000000</td>\n",
       "      <td>NaN</td>\n",
       "      <td>2003.000000</td>\n",
       "      <td>NaN</td>\n",
       "      <td>105.000000</td>\n",
       "      <td>NaN</td>\n",
       "      <td>150000.000000</td>\n",
       "      <td>6.000000</td>\n",
       "      <td>NaN</td>\n",
       "      <td>NaN</td>\n",
       "      <td>NaN</td>\n",
       "      <td>NaN</td>\n",
       "      <td>0.0</td>\n",
       "      <td>49.000000</td>\n",
       "      <td>NaN</td>\n",
       "      <td>2016.0</td>\n",
       "      <td>7.000000</td>\n",
       "    </tr>\n",
       "    <tr>\n",
       "      <td>75%</td>\n",
       "      <td>NaN</td>\n",
       "      <td>6400.000000</td>\n",
       "      <td>NaN</td>\n",
       "      <td>2008.000000</td>\n",
       "      <td>NaN</td>\n",
       "      <td>143.000000</td>\n",
       "      <td>NaN</td>\n",
       "      <td>150000.000000</td>\n",
       "      <td>9.000000</td>\n",
       "      <td>NaN</td>\n",
       "      <td>NaN</td>\n",
       "      <td>NaN</td>\n",
       "      <td>NaN</td>\n",
       "      <td>0.0</td>\n",
       "      <td>71.000000</td>\n",
       "      <td>NaN</td>\n",
       "      <td>2016.0</td>\n",
       "      <td>14.000000</td>\n",
       "    </tr>\n",
       "    <tr>\n",
       "      <td>max</td>\n",
       "      <td>NaN</td>\n",
       "      <td>20000.000000</td>\n",
       "      <td>NaN</td>\n",
       "      <td>9999.000000</td>\n",
       "      <td>NaN</td>\n",
       "      <td>20000.000000</td>\n",
       "      <td>NaN</td>\n",
       "      <td>150000.000000</td>\n",
       "      <td>12.000000</td>\n",
       "      <td>NaN</td>\n",
       "      <td>NaN</td>\n",
       "      <td>NaN</td>\n",
       "      <td>NaN</td>\n",
       "      <td>0.0</td>\n",
       "      <td>99.000000</td>\n",
       "      <td>NaN</td>\n",
       "      <td>2016.0</td>\n",
       "      <td>31.000000</td>\n",
       "    </tr>\n",
       "  </tbody>\n",
       "</table>\n",
       "</div>"
      ],
      "text/plain": [
       "                DateCrawled          Price VehicleType  RegistrationYear  \\\n",
       "count                354369  354369.000000      316879     354369.000000   \n",
       "unique               271174            NaN           8               NaN   \n",
       "top     2016-03-24 14:49:47            NaN       sedan               NaN   \n",
       "freq                      7            NaN       91457               NaN   \n",
       "mean                    NaN    4416.656776         NaN       2004.234448   \n",
       "std                     NaN    4514.158514         NaN         90.227958   \n",
       "min                     NaN       0.000000         NaN       1000.000000   \n",
       "25%                     NaN    1050.000000         NaN       1999.000000   \n",
       "50%                     NaN    2700.000000         NaN       2003.000000   \n",
       "75%                     NaN    6400.000000         NaN       2008.000000   \n",
       "max                     NaN   20000.000000         NaN       9999.000000   \n",
       "\n",
       "       Gearbox          Power   Model      Kilometer  RegistrationMonth  \\\n",
       "count   334536  354369.000000  334664  354369.000000      354369.000000   \n",
       "unique       2            NaN     250            NaN                NaN   \n",
       "top     manual            NaN    golf            NaN                NaN   \n",
       "freq    268251            NaN   29232            NaN                NaN   \n",
       "mean       NaN     110.094337     NaN  128211.172535           5.714645   \n",
       "std        NaN     189.850405     NaN   37905.341530           3.726421   \n",
       "min        NaN       0.000000     NaN    5000.000000           0.000000   \n",
       "25%        NaN      69.000000     NaN  125000.000000           3.000000   \n",
       "50%        NaN     105.000000     NaN  150000.000000           6.000000   \n",
       "75%        NaN     143.000000     NaN  150000.000000           9.000000   \n",
       "max        NaN   20000.000000     NaN  150000.000000          12.000000   \n",
       "\n",
       "       FuelType       Brand NotRepaired          DateCreated  \\\n",
       "count    321474      354369      283215               354369   \n",
       "unique        7          40           2                  109   \n",
       "top      petrol  volkswagen          no  2016-04-03 00:00:00   \n",
       "freq     216352       77013      247161                13719   \n",
       "mean        NaN         NaN         NaN                  NaN   \n",
       "std         NaN         NaN         NaN                  NaN   \n",
       "min         NaN         NaN         NaN                  NaN   \n",
       "25%         NaN         NaN         NaN                  NaN   \n",
       "50%         NaN         NaN         NaN                  NaN   \n",
       "75%         NaN         NaN         NaN                  NaN   \n",
       "max         NaN         NaN         NaN                  NaN   \n",
       "\n",
       "        NumberOfPictures     PostalCode             LastSeen  LastSeen_Year  \\\n",
       "count           354369.0  354369.000000               354369       354369.0   \n",
       "unique               NaN            NaN               179150            NaN   \n",
       "top                  NaN            NaN  2016-04-06 13:45:54            NaN   \n",
       "freq                 NaN            NaN                   17            NaN   \n",
       "mean                 0.0      50.061964                  NaN         2016.0   \n",
       "std                  0.0      25.795614                  NaN            0.0   \n",
       "min                  0.0       1.000000                  NaN         2016.0   \n",
       "25%                  0.0      30.000000                  NaN         2016.0   \n",
       "50%                  0.0      49.000000                  NaN         2016.0   \n",
       "75%                  0.0      71.000000                  NaN         2016.0   \n",
       "max                  0.0      99.000000                  NaN         2016.0   \n",
       "\n",
       "                  Age  \n",
       "count   354369.000000  \n",
       "unique            NaN  \n",
       "top               NaN  \n",
       "freq              NaN  \n",
       "mean         9.211079  \n",
       "std          7.942363  \n",
       "min          1.000000  \n",
       "25%          3.000000  \n",
       "50%          7.000000  \n",
       "75%         14.000000  \n",
       "max         31.000000  "
      ]
     },
     "execution_count": 7,
     "metadata": {},
     "output_type": "execute_result"
    }
   ],
   "source": [
    "df.describe(include='all')"
   ]
  },
  {
   "cell_type": "markdown",
   "metadata": {
    "cellId": "av03e2dujoi4bic3avilc7"
   },
   "source": [
    "Сервис по продаже автомобилей с пробегом «Не бит, не крашен» разрабатывает приложение для привлечения новых клиентов. В нём можно быстро узнать рыночную стоимость своего автомобиля. В вашем распоряжении исторические данные: технические характеристики, комплектации и цены автомобилей. Вам нужно построить модель для определения стоимости. \n",
    "\n",
    "Заказчику важны:\n",
    "\n",
    "- качество предсказания;\n",
    "- скорость предсказания;\n",
    "- время обучения."
   ]
  },
  {
   "cell_type": "markdown",
   "metadata": {
    "cellId": "iosc77s4gzpw2pbk7hyy8"
   },
   "source": [
    "## Подготовка данных"
   ]
  },
  {
   "cell_type": "code",
   "execution_count": 8,
   "metadata": {
    "cellId": "zcujmn7o8pnfl10d4hvqj"
   },
   "outputs": [
    {
     "name": "stdout",
     "output_type": "stream",
     "text": [
      "<class 'pandas.core.frame.DataFrame'>\n",
      "RangeIndex: 354369 entries, 0 to 354368\n",
      "Data columns (total 18 columns):\n",
      "DateCrawled          354369 non-null object\n",
      "Price                354369 non-null int64\n",
      "VehicleType          316879 non-null object\n",
      "RegistrationYear     354369 non-null int64\n",
      "Gearbox              334536 non-null object\n",
      "Power                354369 non-null int64\n",
      "Model                334664 non-null object\n",
      "Kilometer            354369 non-null int64\n",
      "RegistrationMonth    354369 non-null int64\n",
      "FuelType             321474 non-null object\n",
      "Brand                354369 non-null object\n",
      "NotRepaired          283215 non-null object\n",
      "DateCreated          354369 non-null object\n",
      "NumberOfPictures     354369 non-null int64\n",
      "PostalCode           354369 non-null int64\n",
      "LastSeen             354369 non-null object\n",
      "LastSeen_Year        354369 non-null int64\n",
      "Age                  354369 non-null int64\n",
      "dtypes: int64(9), object(9)\n",
      "memory usage: 48.7+ MB\n"
     ]
    }
   ],
   "source": [
    "df.info()"
   ]
  },
  {
   "cell_type": "code",
   "execution_count": 9,
   "metadata": {
    "cellId": "7uyccjr7pbf4gfcru2tnyi"
   },
   "outputs": [],
   "source": [
    "def fillna(col):\n",
    "    col.fillna(col.value_counts().index[0], inplace=True)\n",
    "    return col\n",
    "df=df.apply(lambda col:fillna(col))"
   ]
  },
  {
   "cell_type": "code",
   "execution_count": 10,
   "metadata": {
    "cellId": "xj7k7ef9du9z1xxxq6e7x"
   },
   "outputs": [
    {
     "name": "stdout",
     "output_type": "stream",
     "text": [
      "<class 'pandas.core.frame.DataFrame'>\n",
      "RangeIndex: 354369 entries, 0 to 354368\n",
      "Data columns (total 18 columns):\n",
      "DateCrawled          354369 non-null object\n",
      "Price                340040 non-null float64\n",
      "VehicleType          354369 non-null object\n",
      "RegistrationYear     346240 non-null float64\n",
      "Gearbox              354369 non-null object\n",
      "Power                310425 non-null float64\n",
      "Model                354369 non-null object\n",
      "Kilometer            354369 non-null int64\n",
      "RegistrationMonth    354369 non-null int64\n",
      "FuelType             354369 non-null object\n",
      "Brand                354369 non-null object\n",
      "NotRepaired          354369 non-null object\n",
      "DateCreated          354369 non-null object\n",
      "NumberOfPictures     354369 non-null int64\n",
      "PostalCode           354369 non-null int64\n",
      "LastSeen             354369 non-null object\n",
      "LastSeen_Year        354369 non-null int64\n",
      "Age                  354369 non-null int64\n",
      "dtypes: float64(3), int64(6), object(9)\n",
      "memory usage: 48.7+ MB\n"
     ]
    }
   ],
   "source": [
    "numeric = ['RegistrationYear', 'Power', 'Price']\n",
    "low = .01\n",
    "high = .99\n",
    "#filt_df = df[numeric]\n",
    "quant_df = df[numeric].quantile([low, high])\n",
    "df[numeric] = df[numeric].apply(lambda x: x[(x>quant_df.loc[low,x.name]) & \n",
    "                                    (x < quant_df.loc[high,x.name])], axis=0)\n",
    "df.info()"
   ]
  },
  {
   "cell_type": "code",
   "execution_count": 11,
   "metadata": {
    "cellId": "3knhmon0iq1pzc9q984s4j"
   },
   "outputs": [],
   "source": [
    "df.dropna(inplace=True)"
   ]
  },
  {
   "cell_type": "code",
   "execution_count": 12,
   "metadata": {
    "cellId": "o62w59478wkeep70repu3d"
   },
   "outputs": [],
   "source": [
    "#df['car_age'] =[]\n",
    "def age(row):\n",
    "    if (row['RegistrationYear']>=1981) & (row['RegistrationYear']<1991):\n",
    "        car_age = 'Super_retro'\n",
    "        \n",
    "    if (row['RegistrationYear']>=1991) & (row['RegistrationYear']<2001):\n",
    "        car_age = 'retro' \n",
    "        \n",
    "    if (row['RegistrationYear']>=2001) & (row['RegistrationYear']<2011):\n",
    "        car_age = 'Super_old'\n",
    "       \n",
    "    if (row['RegistrationYear']>=2011) & (row['RegistrationYear']<2015):\n",
    "        car_age =  'old'\n",
    "        \n",
    "    else:\n",
    "        car_age =  'new'\n",
    "    return(car_age)\n",
    "    #df['car_age'].append(row['car_age'])"
   ]
  },
  {
   "cell_type": "code",
   "execution_count": 13,
   "metadata": {
    "cellId": "zvu126r5qudgecz8e6zgph"
   },
   "outputs": [],
   "source": [
    "df['car_age'] = df.apply(age, axis=1)"
   ]
  },
  {
   "cell_type": "code",
   "execution_count": 15,
   "metadata": {
    "cellId": "f73uky6z4p2cb4t3lelsy"
   },
   "outputs": [
    {
     "data": {
      "text/html": [
       "<div>\n",
       "<style scoped>\n",
       "    .dataframe tbody tr th:only-of-type {\n",
       "        vertical-align: middle;\n",
       "    }\n",
       "\n",
       "    .dataframe tbody tr th {\n",
       "        vertical-align: top;\n",
       "    }\n",
       "\n",
       "    .dataframe thead th {\n",
       "        text-align: right;\n",
       "    }\n",
       "</style>\n",
       "<table border=\"1\" class=\"dataframe\">\n",
       "  <thead>\n",
       "    <tr style=\"text-align: right;\">\n",
       "      <th></th>\n",
       "      <th>Price</th>\n",
       "      <th>RegistrationYear</th>\n",
       "      <th>Power</th>\n",
       "      <th>Kilometer</th>\n",
       "      <th>RegistrationMonth</th>\n",
       "      <th>PostalCode</th>\n",
       "      <th>LastSeen_Year</th>\n",
       "      <th>Age</th>\n",
       "      <th>VehicleType_convertible</th>\n",
       "      <th>VehicleType_coupe</th>\n",
       "      <th>...</th>\n",
       "      <th>Brand_smart</th>\n",
       "      <th>Brand_sonstige_autos</th>\n",
       "      <th>Brand_subaru</th>\n",
       "      <th>Brand_suzuki</th>\n",
       "      <th>Brand_toyota</th>\n",
       "      <th>Brand_trabant</th>\n",
       "      <th>Brand_volkswagen</th>\n",
       "      <th>Brand_volvo</th>\n",
       "      <th>NotRepaired_yes</th>\n",
       "      <th>car_age_old</th>\n",
       "    </tr>\n",
       "  </thead>\n",
       "  <tbody>\n",
       "    <tr>\n",
       "      <td>1</td>\n",
       "      <td>18300.0</td>\n",
       "      <td>2011.0</td>\n",
       "      <td>190.0</td>\n",
       "      <td>125000</td>\n",
       "      <td>5</td>\n",
       "      <td>66</td>\n",
       "      <td>2016</td>\n",
       "      <td>15</td>\n",
       "      <td>0</td>\n",
       "      <td>1</td>\n",
       "      <td>...</td>\n",
       "      <td>0</td>\n",
       "      <td>0</td>\n",
       "      <td>0</td>\n",
       "      <td>0</td>\n",
       "      <td>0</td>\n",
       "      <td>0</td>\n",
       "      <td>0</td>\n",
       "      <td>0</td>\n",
       "      <td>1</td>\n",
       "      <td>1</td>\n",
       "    </tr>\n",
       "    <tr>\n",
       "      <td>2</td>\n",
       "      <td>9800.0</td>\n",
       "      <td>2004.0</td>\n",
       "      <td>163.0</td>\n",
       "      <td>125000</td>\n",
       "      <td>8</td>\n",
       "      <td>90</td>\n",
       "      <td>2016</td>\n",
       "      <td>23</td>\n",
       "      <td>0</td>\n",
       "      <td>0</td>\n",
       "      <td>...</td>\n",
       "      <td>0</td>\n",
       "      <td>0</td>\n",
       "      <td>0</td>\n",
       "      <td>0</td>\n",
       "      <td>0</td>\n",
       "      <td>0</td>\n",
       "      <td>0</td>\n",
       "      <td>0</td>\n",
       "      <td>0</td>\n",
       "      <td>0</td>\n",
       "    </tr>\n",
       "    <tr>\n",
       "      <td>3</td>\n",
       "      <td>1500.0</td>\n",
       "      <td>2001.0</td>\n",
       "      <td>75.0</td>\n",
       "      <td>150000</td>\n",
       "      <td>6</td>\n",
       "      <td>91</td>\n",
       "      <td>2016</td>\n",
       "      <td>1</td>\n",
       "      <td>0</td>\n",
       "      <td>0</td>\n",
       "      <td>...</td>\n",
       "      <td>0</td>\n",
       "      <td>0</td>\n",
       "      <td>0</td>\n",
       "      <td>0</td>\n",
       "      <td>0</td>\n",
       "      <td>0</td>\n",
       "      <td>1</td>\n",
       "      <td>0</td>\n",
       "      <td>0</td>\n",
       "      <td>0</td>\n",
       "    </tr>\n",
       "    <tr>\n",
       "      <td>4</td>\n",
       "      <td>3600.0</td>\n",
       "      <td>2008.0</td>\n",
       "      <td>69.0</td>\n",
       "      <td>90000</td>\n",
       "      <td>7</td>\n",
       "      <td>60</td>\n",
       "      <td>2016</td>\n",
       "      <td>7</td>\n",
       "      <td>0</td>\n",
       "      <td>0</td>\n",
       "      <td>...</td>\n",
       "      <td>0</td>\n",
       "      <td>0</td>\n",
       "      <td>0</td>\n",
       "      <td>0</td>\n",
       "      <td>0</td>\n",
       "      <td>0</td>\n",
       "      <td>0</td>\n",
       "      <td>0</td>\n",
       "      <td>0</td>\n",
       "      <td>0</td>\n",
       "    </tr>\n",
       "    <tr>\n",
       "      <td>5</td>\n",
       "      <td>650.0</td>\n",
       "      <td>1995.0</td>\n",
       "      <td>102.0</td>\n",
       "      <td>150000</td>\n",
       "      <td>10</td>\n",
       "      <td>33</td>\n",
       "      <td>2016</td>\n",
       "      <td>3</td>\n",
       "      <td>0</td>\n",
       "      <td>0</td>\n",
       "      <td>...</td>\n",
       "      <td>0</td>\n",
       "      <td>0</td>\n",
       "      <td>0</td>\n",
       "      <td>0</td>\n",
       "      <td>0</td>\n",
       "      <td>0</td>\n",
       "      <td>0</td>\n",
       "      <td>0</td>\n",
       "      <td>1</td>\n",
       "      <td>0</td>\n",
       "    </tr>\n",
       "  </tbody>\n",
       "</table>\n",
       "<p>5 rows × 310 columns</p>\n",
       "</div>"
      ],
      "text/plain": [
       "     Price  RegistrationYear  Power  Kilometer  RegistrationMonth  PostalCode  \\\n",
       "1  18300.0            2011.0  190.0     125000                  5          66   \n",
       "2   9800.0            2004.0  163.0     125000                  8          90   \n",
       "3   1500.0            2001.0   75.0     150000                  6          91   \n",
       "4   3600.0            2008.0   69.0      90000                  7          60   \n",
       "5    650.0            1995.0  102.0     150000                 10          33   \n",
       "\n",
       "   LastSeen_Year  Age  VehicleType_convertible  VehicleType_coupe  ...  \\\n",
       "1           2016   15                        0                  1  ...   \n",
       "2           2016   23                        0                  0  ...   \n",
       "3           2016    1                        0                  0  ...   \n",
       "4           2016    7                        0                  0  ...   \n",
       "5           2016    3                        0                  0  ...   \n",
       "\n",
       "   Brand_smart  Brand_sonstige_autos  Brand_subaru  Brand_suzuki  \\\n",
       "1            0                     0             0             0   \n",
       "2            0                     0             0             0   \n",
       "3            0                     0             0             0   \n",
       "4            0                     0             0             0   \n",
       "5            0                     0             0             0   \n",
       "\n",
       "   Brand_toyota  Brand_trabant  Brand_volkswagen  Brand_volvo  \\\n",
       "1             0              0                 0            0   \n",
       "2             0              0                 0            0   \n",
       "3             0              0                 1            0   \n",
       "4             0              0                 0            0   \n",
       "5             0              0                 0            0   \n",
       "\n",
       "   NotRepaired_yes  car_age_old  \n",
       "1                1            1  \n",
       "2                0            0  \n",
       "3                0            0  \n",
       "4                0            0  \n",
       "5                1            0  \n",
       "\n",
       "[5 rows x 310 columns]"
      ]
     },
     "execution_count": 15,
     "metadata": {},
     "output_type": "execute_result"
    }
   ],
   "source": [
    "df_ohe = pd.get_dummies(df.drop(['DateCrawled', 'DateCreated', 'LastSeen', 'NumberOfPictures'], axis=1), drop_first=True)\n",
    "df_ohe.head()"
   ]
  },
  {
   "cell_type": "code",
   "execution_count": 16,
   "metadata": {
    "cellId": "uha4x7llw1djsveb6dkxb"
   },
   "outputs": [
    {
     "name": "stdout",
     "output_type": "stream",
     "text": [
      "<class 'pandas.core.frame.DataFrame'>\n",
      "Int64Index: 295313 entries, 1 to 354368\n",
      "Data columns (total 19 columns):\n",
      "DateCrawled          295313 non-null object\n",
      "Price                295313 non-null float64\n",
      "VehicleType          295313 non-null object\n",
      "RegistrationYear     295313 non-null float64\n",
      "Gearbox              295313 non-null object\n",
      "Power                295313 non-null float64\n",
      "Model                295313 non-null object\n",
      "Kilometer            295313 non-null int64\n",
      "RegistrationMonth    295313 non-null int64\n",
      "FuelType             295313 non-null object\n",
      "Brand                295313 non-null object\n",
      "NotRepaired          295313 non-null object\n",
      "DateCreated          295313 non-null object\n",
      "NumberOfPictures     295313 non-null int64\n",
      "PostalCode           295313 non-null int64\n",
      "LastSeen             295313 non-null object\n",
      "LastSeen_Year        295313 non-null int64\n",
      "Age                  295313 non-null int64\n",
      "car_age              295313 non-null object\n",
      "dtypes: float64(3), int64(6), object(10)\n",
      "memory usage: 45.1+ MB\n"
     ]
    }
   ],
   "source": [
    "df.info()"
   ]
  },
  {
   "cell_type": "code",
   "execution_count": 17,
   "metadata": {
    "cellId": "d2pb96tejnh2fycp6s6jzp"
   },
   "outputs": [],
   "source": [
    "df_enc = df\n",
    "enc = OrdinalEncoder()\n",
    "df_enc[['VehicleType', 'Gearbox', 'Model',\n",
    "    'FuelType', 'Brand', 'NotRepaired', 'PostalCode', 'car_age']] = enc.fit_transform(df_enc[['VehicleType', 'Gearbox', 'Model',\n",
    "    'FuelType', 'Brand', 'NotRepaired', 'PostalCode', 'car_age']])\n",
    "df_enc = df_enc.drop(['DateCrawled', 'DateCreated', 'LastSeen', 'NumberOfPictures'], axis=1)"
   ]
  },
  {
   "cell_type": "code",
   "execution_count": 18,
   "metadata": {
    "cellId": "xkaoskx1hpj8wouqkbhci"
   },
   "outputs": [
    {
     "data": {
      "text/plain": [
       "((295313, 309), (295313,))"
      ]
     },
     "execution_count": 18,
     "metadata": {},
     "output_type": "execute_result"
    }
   ],
   "source": [
    "X = df_ohe.drop(['Price'], axis=1)\n",
    "y = df_ohe['Price']\n",
    "X.shape, y.shape"
   ]
  },
  {
   "cell_type": "code",
   "execution_count": 19,
   "metadata": {
    "cellId": "mdgt9w40h3psoij2ht8a1k"
   },
   "outputs": [
    {
     "data": {
      "text/plain": [
       "((295313, 14), (295313,))"
      ]
     },
     "execution_count": 19,
     "metadata": {},
     "output_type": "execute_result"
    }
   ],
   "source": [
    "X_enc = df_enc.drop(['Price'], axis=1)\n",
    "y_enc = df_enc['Price']\n",
    "X_enc.shape, y_enc.shape"
   ]
  },
  {
   "cell_type": "code",
   "execution_count": 20,
   "metadata": {
    "cellId": "t9i2a9z64cj3dc7n4jdd8"
   },
   "outputs": [],
   "source": [
    "X_train, X_test, y_train, y_test = train_test_split(X, y, test_size=0.25, random_state=12345)"
   ]
  },
  {
   "cell_type": "code",
   "execution_count": 21,
   "metadata": {
    "cellId": "ob1ftbwpy1ewnbt9t3is7"
   },
   "outputs": [],
   "source": [
    "X_train_enc, X_test_enc, y_train_enc, y_test_enc = train_test_split(X_enc, y_enc, test_size=0.25, random_state=12345)"
   ]
  },
  {
   "cell_type": "raw",
   "metadata": {
    "cellId": "49exa6h3xciqpdoy0icof"
   },
   "source": [
    "numeric = ['RegistrationYear', 'Power','RegistrationMonth', 'PostalCode']\n",
    "scaler = StandardScaler()\n",
    "scaler.fit(X_train[numeric])\n",
    "X_train[numeric] = scaler.transform(X_train[numeric])\n",
    "X_train.shape"
   ]
  },
  {
   "cell_type": "raw",
   "metadata": {
    "cellId": "jn67eqdq43jmjaq81kbjdj"
   },
   "source": [
    "numeric = ['RegistrationYear', 'Power','RegistrationMonth', 'PostalCode']\n",
    "scaler = StandardScaler()\n",
    "scaler.fit(X_train_enc[numeric])\n",
    "X_train_enc[numeric] = scaler.transform(X_train_enc[numeric])\n",
    "X_train_enc.shape"
   ]
  },
  {
   "cell_type": "markdown",
   "metadata": {
    "cellId": "f8hxzvgp91qv82qz09f1l"
   },
   "source": [
    "## Обучение моделей"
   ]
  },
  {
   "cell_type": "code",
   "execution_count": 22,
   "metadata": {
    "cellId": "gex5kpv3ltv5rwqso75nqc"
   },
   "outputs": [],
   "source": [
    "def cv_score(model):\n",
    "    #%%time\n",
    "    m = model\n",
    "    cv = RepeatedKFold(n_splits=3, n_repeats=2, random_state=12345)\n",
    "    n_scores = [math.sqrt(-i) for i in cross_val_score(model, features_train, target_train, scoring='neg_mean_squared_error', cv=cv,\n",
    "                                                       n_jobs=-1, error_score='raise')]\n",
    "    print('RMSE: %.3f (std: %.3f)' % (mean(n_scores), std(n_scores)))\n",
    "    \n",
    "    "
   ]
  },
  {
   "cell_type": "code",
   "execution_count": 23,
   "metadata": {
    "cellId": "u8itwlp80ddnjzoseaczq"
   },
   "outputs": [],
   "source": [
    "def score_ohe(model):\n",
    "    model.fit(X_train, y_train)\n",
    "    pred = model.predict(X_test)\n",
    "    return (mean_squared_error(y_test, pred)**0.5)"
   ]
  },
  {
   "cell_type": "code",
   "execution_count": 24,
   "metadata": {
    "cellId": "vp8dr5praecp5y4jauz53o"
   },
   "outputs": [],
   "source": [
    "def score_enc(model):\n",
    "    model.fit(X_train_enc, y_train_enc)\n",
    "    pred = model.predict(X_test_enc)\n",
    "    return (mean_squared_error(y_test_enc, pred)**0.5)"
   ]
  },
  {
   "cell_type": "code",
   "execution_count": 25,
   "metadata": {
    "cellId": "vwt4vot8a7j8wgdi0olk"
   },
   "outputs": [
    {
     "name": "stdout",
     "output_type": "stream",
     "text": [
      "CPU times: user 7.57 s, sys: 239 ms, total: 7.81 s\n",
      "Wall time: 7.92 s\n"
     ]
    },
    {
     "data": {
      "text/plain": [
       "1923.3083111164703"
      ]
     },
     "execution_count": 25,
     "metadata": {},
     "output_type": "execute_result"
    }
   ],
   "source": [
    "%%time\n",
    "model = DecisionTreeRegressor(random_state=12345)\n",
    "score_ohe(model)"
   ]
  },
  {
   "cell_type": "code",
   "execution_count": 26,
   "metadata": {
    "cellId": "zq9rks8ny0pwui02ysx69"
   },
   "outputs": [
    {
     "name": "stdout",
     "output_type": "stream",
     "text": [
      "CPU times: user 1.47 s, sys: 15.9 ms, total: 1.49 s\n",
      "Wall time: 1.49 s\n"
     ]
    },
    {
     "data": {
      "text/plain": [
       "1975.0392869400434"
      ]
     },
     "execution_count": 26,
     "metadata": {},
     "output_type": "execute_result"
    }
   ],
   "source": [
    "%%time\n",
    "model = DecisionTreeRegressor(random_state=12345)\n",
    "score_enc(model)"
   ]
  },
  {
   "cell_type": "code",
   "execution_count": 27,
   "metadata": {
    "cellId": "8371jqdorehhe0s4rdwrp"
   },
   "outputs": [
    {
     "name": "stdout",
     "output_type": "stream",
     "text": [
      "CPU times: user 13.7 s, sys: 3.84 s, total: 17.5 s\n",
      "Wall time: 17.5 s\n"
     ]
    },
    {
     "data": {
      "text/plain": [
       "2280.81734034233"
      ]
     },
     "execution_count": 27,
     "metadata": {},
     "output_type": "execute_result"
    }
   ],
   "source": [
    "%%time\n",
    "model = LinearRegression()\n",
    "score_ohe(model)"
   ]
  },
  {
   "cell_type": "code",
   "execution_count": 28,
   "metadata": {
    "cellId": "4l8pyq12h5b0xuqsjli4pf"
   },
   "outputs": [
    {
     "name": "stdout",
     "output_type": "stream",
     "text": [
      "CPU times: user 170 ms, sys: 76.3 ms, total: 246 ms\n",
      "Wall time: 168 ms\n"
     ]
    },
    {
     "data": {
      "text/plain": [
       "2566.725513250951"
      ]
     },
     "execution_count": 28,
     "metadata": {},
     "output_type": "execute_result"
    }
   ],
   "source": [
    "%%time\n",
    "model = LinearRegression()\n",
    "score_enc(model)"
   ]
  },
  {
   "cell_type": "code",
   "execution_count": 29,
   "metadata": {
    "cellId": "80qhzoh08rck52dmrwczt"
   },
   "outputs": [
    {
     "name": "stdout",
     "output_type": "stream",
     "text": [
      "CPU times: user 48.6 s, sys: 182 ms, total: 48.8 s\n",
      "Wall time: 49.6 s\n"
     ]
    },
    {
     "data": {
      "text/plain": [
       "1487.36102083293"
      ]
     },
     "execution_count": 29,
     "metadata": {},
     "output_type": "execute_result"
    }
   ],
   "source": [
    "%%time\n",
    "model = RandomForestRegressor(random_state=12345, criterion= 'mse', n_estimators=10, n_jobs=-1)\n",
    "score_ohe(model)"
   ]
  },
  {
   "cell_type": "code",
   "execution_count": 30,
   "metadata": {
    "cellId": "rw5er6oqdeqosbpm910ur"
   },
   "outputs": [
    {
     "name": "stdout",
     "output_type": "stream",
     "text": [
      "CPU times: user 9.6 s, sys: 69.2 ms, total: 9.67 s\n",
      "Wall time: 9.7 s\n"
     ]
    },
    {
     "data": {
      "text/plain": [
       "1505.1459774562184"
      ]
     },
     "execution_count": 30,
     "metadata": {},
     "output_type": "execute_result"
    }
   ],
   "source": [
    "%%time\n",
    "model = RandomForestRegressor(random_state=12345, criterion= 'mse', n_estimators=10, n_jobs=-1)\n",
    "score_enc(model)"
   ]
  },
  {
   "cell_type": "code",
   "execution_count": 31,
   "metadata": {
    "cellId": "lbs44zkf1uq4snmup2xgew"
   },
   "outputs": [
    {
     "name": "stdout",
     "output_type": "stream",
     "text": [
      "CPU times: user 1min 34s, sys: 929 ms, total: 1min 35s\n",
      "Wall time: 1min 36s\n"
     ]
    },
    {
     "data": {
      "text/plain": [
       "1440.9601710016825"
      ]
     },
     "execution_count": 31,
     "metadata": {},
     "output_type": "execute_result"
    }
   ],
   "source": [
    "%%time\n",
    "model = RandomForestRegressor(random_state=12345, criterion= 'mse', n_estimators=100, n_jobs=-1)\n",
    "score_enc(model)"
   ]
  },
  {
   "cell_type": "markdown",
   "metadata": {
    "cellId": "71p9fx4r79vjf149fpaym"
   },
   "source": [
    "## XGBoost"
   ]
  },
  {
   "cell_type": "code",
   "execution_count": 33,
   "metadata": {
    "cellId": "n32co6yfea06ezamhhv4jg"
   },
   "outputs": [],
   "source": [
    "def score_(model, X_train, X_test, y_train, y_test, early_stopping_rounds, metric):  \n",
    "    eval_set = [(X_test, y_test)]\n",
    "\n",
    "    model.fit(\n",
    "        X_train,\n",
    "        y_train,\n",
    "        eval_set=eval_set,\n",
    "        early_stopping_rounds=early_stopping_rounds,\n",
    "        eval_metric=metric)\n",
    "    preds = model.predict(X_test)\n",
    "    pred_labels = np.rint(preds)\n",
    "    accuracy = sklearn.metrics.mean_squared_error(y_test, pred_labels)\n",
    "    return (accuracy**0.5)"
   ]
  },
  {
   "cell_type": "code",
   "execution_count": 531,
   "metadata": {
    "cellId": "1u90ymb0y4l8zugx1nk6ea",
    "scrolled": true
   },
   "outputs": [
    {
     "name": "stdout",
     "output_type": "stream",
     "text": [
      "[19:01:58] WARNING: /workspace/src/objective/regression_obj.cu:152: reg:linear is now deprecated in favor of reg:squarederror.\n",
      "[0]\tvalidation_0-rmse:5729.46\n",
      "Will train until validation_0-rmse hasn't improved in 100 rounds.\n",
      "[1]\tvalidation_0-rmse:5286\n",
      "[2]\tvalidation_0-rmse:4892.79\n",
      "[3]\tvalidation_0-rmse:4543.66\n",
      "[4]\tvalidation_0-rmse:4236.73\n",
      "[5]\tvalidation_0-rmse:3958.2\n",
      "[6]\tvalidation_0-rmse:3716.54\n",
      "[7]\tvalidation_0-rmse:3506.74\n",
      "[8]\tvalidation_0-rmse:3321.34\n",
      "[9]\tvalidation_0-rmse:3157.72\n",
      "[10]\tvalidation_0-rmse:3009.22\n",
      "[11]\tvalidation_0-rmse:2886.96\n",
      "[12]\tvalidation_0-rmse:2775.07\n",
      "[13]\tvalidation_0-rmse:2680.57\n",
      "[14]\tvalidation_0-rmse:2602.14\n",
      "[15]\tvalidation_0-rmse:2528.16\n",
      "[16]\tvalidation_0-rmse:2459.51\n",
      "[17]\tvalidation_0-rmse:2397.89\n",
      "[18]\tvalidation_0-rmse:2347.26\n",
      "[19]\tvalidation_0-rmse:2300\n",
      "[20]\tvalidation_0-rmse:2261.9\n",
      "[21]\tvalidation_0-rmse:2230.03\n",
      "[22]\tvalidation_0-rmse:2201.23\n",
      "[23]\tvalidation_0-rmse:2173.38\n",
      "[24]\tvalidation_0-rmse:2151.3\n",
      "[25]\tvalidation_0-rmse:2129.66\n",
      "[26]\tvalidation_0-rmse:2111.18\n",
      "[27]\tvalidation_0-rmse:2096.46\n",
      "[28]\tvalidation_0-rmse:2079.24\n",
      "[29]\tvalidation_0-rmse:2065.34\n",
      "[30]\tvalidation_0-rmse:2049.85\n",
      "[31]\tvalidation_0-rmse:2039.61\n",
      "[32]\tvalidation_0-rmse:2026.79\n",
      "[33]\tvalidation_0-rmse:2013.67\n",
      "[34]\tvalidation_0-rmse:2005.09\n",
      "[35]\tvalidation_0-rmse:1996.12\n",
      "[36]\tvalidation_0-rmse:1985.13\n",
      "[37]\tvalidation_0-rmse:1977.09\n",
      "[38]\tvalidation_0-rmse:1970.33\n",
      "[39]\tvalidation_0-rmse:1963.66\n",
      "[40]\tvalidation_0-rmse:1956.84\n",
      "[41]\tvalidation_0-rmse:1949.39\n",
      "[42]\tvalidation_0-rmse:1940.24\n",
      "[43]\tvalidation_0-rmse:1933.56\n",
      "[44]\tvalidation_0-rmse:1928.01\n",
      "[45]\tvalidation_0-rmse:1921.65\n",
      "[46]\tvalidation_0-rmse:1917.34\n",
      "[47]\tvalidation_0-rmse:1912.39\n",
      "[48]\tvalidation_0-rmse:1905.08\n",
      "[49]\tvalidation_0-rmse:1900.27\n",
      "[50]\tvalidation_0-rmse:1895.28\n",
      "[51]\tvalidation_0-rmse:1889.49\n",
      "[52]\tvalidation_0-rmse:1883.75\n",
      "[53]\tvalidation_0-rmse:1879.67\n",
      "[54]\tvalidation_0-rmse:1875.55\n",
      "[55]\tvalidation_0-rmse:1869.92\n",
      "[56]\tvalidation_0-rmse:1865.44\n",
      "[57]\tvalidation_0-rmse:1861.8\n",
      "[58]\tvalidation_0-rmse:1858\n",
      "[59]\tvalidation_0-rmse:1854.9\n",
      "[60]\tvalidation_0-rmse:1851.82\n",
      "[61]\tvalidation_0-rmse:1848.48\n",
      "[62]\tvalidation_0-rmse:1844.22\n",
      "[63]\tvalidation_0-rmse:1840.72\n",
      "[64]\tvalidation_0-rmse:1836.87\n",
      "[65]\tvalidation_0-rmse:1834.72\n",
      "[66]\tvalidation_0-rmse:1831.96\n",
      "[67]\tvalidation_0-rmse:1828.2\n",
      "[68]\tvalidation_0-rmse:1825.82\n",
      "[69]\tvalidation_0-rmse:1823.78\n",
      "[70]\tvalidation_0-rmse:1820.62\n",
      "[71]\tvalidation_0-rmse:1818.24\n",
      "[72]\tvalidation_0-rmse:1814.63\n",
      "[73]\tvalidation_0-rmse:1812.21\n",
      "[74]\tvalidation_0-rmse:1809.41\n",
      "[75]\tvalidation_0-rmse:1806.76\n",
      "[76]\tvalidation_0-rmse:1804.83\n",
      "[77]\tvalidation_0-rmse:1801.51\n",
      "[78]\tvalidation_0-rmse:1799.73\n",
      "[79]\tvalidation_0-rmse:1798\n",
      "[80]\tvalidation_0-rmse:1796.26\n",
      "[81]\tvalidation_0-rmse:1795\n",
      "[82]\tvalidation_0-rmse:1792.67\n",
      "[83]\tvalidation_0-rmse:1790.62\n",
      "[84]\tvalidation_0-rmse:1788.74\n",
      "[85]\tvalidation_0-rmse:1787.16\n",
      "[86]\tvalidation_0-rmse:1785.57\n",
      "[87]\tvalidation_0-rmse:1782.74\n",
      "[88]\tvalidation_0-rmse:1780.14\n",
      "[89]\tvalidation_0-rmse:1778.24\n",
      "[90]\tvalidation_0-rmse:1777.01\n",
      "[91]\tvalidation_0-rmse:1776.01\n",
      "[92]\tvalidation_0-rmse:1773.37\n",
      "[93]\tvalidation_0-rmse:1770.91\n",
      "[94]\tvalidation_0-rmse:1769.74\n",
      "[95]\tvalidation_0-rmse:1767.69\n",
      "[96]\tvalidation_0-rmse:1765.88\n",
      "[97]\tvalidation_0-rmse:1764.85\n",
      "[98]\tvalidation_0-rmse:1763.12\n",
      "[99]\tvalidation_0-rmse:1762.13\n",
      "CPU times: user 3min 9s, sys: 3.58 s, total: 3min 13s\n",
      "Wall time: 1min 3s\n"
     ]
    },
    {
     "data": {
      "text/plain": [
       "1762.1336064856578"
      ]
     },
     "metadata": {},
     "output_type": "display_data"
    }
   ],
   "source": [
    "%%time\n",
    "model = xgb.XGBRegressor(n_estimators=100, random_state=12345, n_jobs=-1)\n",
    "score_(model, X_train, X_test, y_train, y_test, 100, 'rmse')"
   ]
  },
  {
   "cell_type": "code",
   "execution_count": 34,
   "metadata": {
    "cellId": "p0v9elwuci8cqsqbn131pk",
    "scrolled": true
   },
   "outputs": [
    {
     "name": "stdout",
     "output_type": "stream",
     "text": [
      "[05:07:38] WARNING: /workspace/src/objective/regression_obj.cu:152: reg:linear is now deprecated in favor of reg:squarederror.\n",
      "[0]\tvalidation_0-rmse:5729.5\n",
      "Will train until validation_0-rmse hasn't improved in 100 rounds.\n",
      "[1]\tvalidation_0-rmse:5286.03\n",
      "[2]\tvalidation_0-rmse:4892.93\n",
      "[3]\tvalidation_0-rmse:4543.79\n",
      "[4]\tvalidation_0-rmse:4236.71\n",
      "[5]\tvalidation_0-rmse:3958.2\n",
      "[6]\tvalidation_0-rmse:3716.6\n",
      "[7]\tvalidation_0-rmse:3507.67\n",
      "[8]\tvalidation_0-rmse:3322.36\n",
      "[9]\tvalidation_0-rmse:3159.28\n",
      "[10]\tvalidation_0-rmse:3010.64\n",
      "[11]\tvalidation_0-rmse:2888.82\n",
      "[12]\tvalidation_0-rmse:2777.61\n",
      "[13]\tvalidation_0-rmse:2682.99\n",
      "[14]\tvalidation_0-rmse:2604.07\n",
      "[15]\tvalidation_0-rmse:2530.35\n",
      "[16]\tvalidation_0-rmse:2459.03\n",
      "[17]\tvalidation_0-rmse:2399.95\n",
      "[18]\tvalidation_0-rmse:2348.66\n",
      "[19]\tvalidation_0-rmse:2305.42\n",
      "[20]\tvalidation_0-rmse:2265.85\n",
      "[21]\tvalidation_0-rmse:2231.09\n",
      "[22]\tvalidation_0-rmse:2202\n",
      "[23]\tvalidation_0-rmse:2177.34\n",
      "[24]\tvalidation_0-rmse:2154.75\n",
      "[25]\tvalidation_0-rmse:2135.73\n",
      "[26]\tvalidation_0-rmse:2118.66\n",
      "[27]\tvalidation_0-rmse:2104.25\n",
      "[28]\tvalidation_0-rmse:2088.32\n",
      "[29]\tvalidation_0-rmse:2068.98\n",
      "[30]\tvalidation_0-rmse:2056.84\n",
      "[31]\tvalidation_0-rmse:2044.82\n",
      "[32]\tvalidation_0-rmse:2032.31\n",
      "[33]\tvalidation_0-rmse:2021.58\n",
      "[34]\tvalidation_0-rmse:2010.1\n",
      "[35]\tvalidation_0-rmse:2002.47\n",
      "[36]\tvalidation_0-rmse:1993.87\n",
      "[37]\tvalidation_0-rmse:1986.55\n",
      "[38]\tvalidation_0-rmse:1980.1\n",
      "[39]\tvalidation_0-rmse:1968.17\n",
      "[40]\tvalidation_0-rmse:1962.28\n",
      "[41]\tvalidation_0-rmse:1956.11\n",
      "[42]\tvalidation_0-rmse:1946.42\n",
      "[43]\tvalidation_0-rmse:1940.95\n",
      "[44]\tvalidation_0-rmse:1936.4\n",
      "[45]\tvalidation_0-rmse:1928.79\n",
      "[46]\tvalidation_0-rmse:1921.52\n",
      "[47]\tvalidation_0-rmse:1917.31\n",
      "[48]\tvalidation_0-rmse:1913.11\n",
      "[49]\tvalidation_0-rmse:1907.12\n",
      "[50]\tvalidation_0-rmse:1903.53\n",
      "[51]\tvalidation_0-rmse:1900.19\n",
      "[52]\tvalidation_0-rmse:1895.3\n",
      "[53]\tvalidation_0-rmse:1891.66\n",
      "[54]\tvalidation_0-rmse:1888.5\n",
      "[55]\tvalidation_0-rmse:1884.84\n",
      "[56]\tvalidation_0-rmse:1881.92\n",
      "[57]\tvalidation_0-rmse:1879.04\n",
      "[58]\tvalidation_0-rmse:1873.46\n",
      "[59]\tvalidation_0-rmse:1866.32\n",
      "[60]\tvalidation_0-rmse:1862.1\n",
      "[61]\tvalidation_0-rmse:1856.99\n",
      "[62]\tvalidation_0-rmse:1854.87\n",
      "[63]\tvalidation_0-rmse:1849.99\n",
      "[64]\tvalidation_0-rmse:1847.46\n",
      "[65]\tvalidation_0-rmse:1844.38\n",
      "[66]\tvalidation_0-rmse:1842.06\n",
      "[67]\tvalidation_0-rmse:1838.37\n",
      "[68]\tvalidation_0-rmse:1835.25\n",
      "[69]\tvalidation_0-rmse:1833.6\n",
      "[70]\tvalidation_0-rmse:1830.2\n",
      "[71]\tvalidation_0-rmse:1828.01\n",
      "[72]\tvalidation_0-rmse:1820.22\n",
      "[73]\tvalidation_0-rmse:1818.45\n",
      "[74]\tvalidation_0-rmse:1815.63\n",
      "[75]\tvalidation_0-rmse:1809.28\n",
      "[76]\tvalidation_0-rmse:1805.96\n",
      "[77]\tvalidation_0-rmse:1803.86\n",
      "[78]\tvalidation_0-rmse:1802.62\n",
      "[79]\tvalidation_0-rmse:1800.75\n",
      "[80]\tvalidation_0-rmse:1799.31\n",
      "[81]\tvalidation_0-rmse:1796.77\n",
      "[82]\tvalidation_0-rmse:1791.65\n",
      "[83]\tvalidation_0-rmse:1790.13\n",
      "[84]\tvalidation_0-rmse:1788.19\n",
      "[85]\tvalidation_0-rmse:1787.12\n",
      "[86]\tvalidation_0-rmse:1784.73\n",
      "[87]\tvalidation_0-rmse:1783.78\n",
      "[88]\tvalidation_0-rmse:1781.56\n",
      "[89]\tvalidation_0-rmse:1780.11\n",
      "[90]\tvalidation_0-rmse:1778.18\n",
      "[91]\tvalidation_0-rmse:1777.31\n",
      "[92]\tvalidation_0-rmse:1775.28\n",
      "[93]\tvalidation_0-rmse:1771.64\n",
      "[94]\tvalidation_0-rmse:1770.92\n",
      "[95]\tvalidation_0-rmse:1769.39\n",
      "[96]\tvalidation_0-rmse:1768.35\n",
      "[97]\tvalidation_0-rmse:1767.52\n",
      "[98]\tvalidation_0-rmse:1766.21\n",
      "[99]\tvalidation_0-rmse:1765\n",
      "CPU times: user 30.8 s, sys: 174 ms, total: 31 s\n",
      "Wall time: 31.4 s\n"
     ]
    },
    {
     "data": {
      "text/plain": [
       "1764.9970654735318"
      ]
     },
     "execution_count": 34,
     "metadata": {},
     "output_type": "execute_result"
    }
   ],
   "source": [
    "%%time\n",
    "model = xgb.XGBRegressor(n_estimators=100, random_state=12345, n_jobs=-1)\n",
    "score_(model, X_train_enc, X_test_enc, y_train_enc, y_test_enc, 100, 'rmse')"
   ]
  },
  {
   "cell_type": "markdown",
   "metadata": {
    "cellId": "rrfjpk9c9g8rwvvtq5q7so"
   },
   "source": [
    "Качество предсказания получилось одинаковое, зато датасет с encoding обучается быстрее."
   ]
  },
  {
   "cell_type": "markdown",
   "metadata": {
    "cellId": "n5khbm6t3gam6crtg2qeyg"
   },
   "source": [
    "## LGBM"
   ]
  },
  {
   "cell_type": "code",
   "execution_count": 533,
   "metadata": {
    "cellId": "phuewfs77xjjj9ee424ib",
    "scrolled": true
   },
   "outputs": [
    {
     "name": "stdout",
     "output_type": "stream",
     "text": [
      "[1]\tvalid_0's rmse: 3957.15\tvalid_0's l2: 1.56591e+07\n",
      "Training until validation scores don't improve for 100 rounds\n",
      "[2]\tvalid_0's rmse: 3687.81\tvalid_0's l2: 1.35999e+07\n",
      "[3]\tvalid_0's rmse: 3450.07\tvalid_0's l2: 1.1903e+07\n",
      "[4]\tvalid_0's rmse: 3240\tvalid_0's l2: 1.04976e+07\n",
      "[5]\tvalid_0's rmse: 3057.35\tvalid_0's l2: 9.34738e+06\n",
      "[6]\tvalid_0's rmse: 2898.61\tvalid_0's l2: 8.40196e+06\n",
      "[7]\tvalid_0's rmse: 2758.49\tvalid_0's l2: 7.60925e+06\n",
      "[8]\tvalid_0's rmse: 2636.97\tvalid_0's l2: 6.95363e+06\n",
      "[9]\tvalid_0's rmse: 2532.36\tvalid_0's l2: 6.41283e+06\n",
      "[10]\tvalid_0's rmse: 2436.6\tvalid_0's l2: 5.93703e+06\n",
      "[11]\tvalid_0's rmse: 2353.8\tvalid_0's l2: 5.54035e+06\n",
      "[12]\tvalid_0's rmse: 2281.73\tvalid_0's l2: 5.20629e+06\n",
      "[13]\tvalid_0's rmse: 2216.82\tvalid_0's l2: 4.9143e+06\n",
      "[14]\tvalid_0's rmse: 2158.81\tvalid_0's l2: 4.66045e+06\n",
      "[15]\tvalid_0's rmse: 2109.35\tvalid_0's l2: 4.44935e+06\n",
      "[16]\tvalid_0's rmse: 2064.14\tvalid_0's l2: 4.26068e+06\n",
      "[17]\tvalid_0's rmse: 2024.78\tvalid_0's l2: 4.09972e+06\n",
      "[18]\tvalid_0's rmse: 1989.79\tvalid_0's l2: 3.95926e+06\n",
      "[19]\tvalid_0's rmse: 1956.02\tvalid_0's l2: 3.826e+06\n",
      "[20]\tvalid_0's rmse: 1926.44\tvalid_0's l2: 3.71118e+06\n",
      "[21]\tvalid_0's rmse: 1899.8\tvalid_0's l2: 3.60923e+06\n",
      "[22]\tvalid_0's rmse: 1874.44\tvalid_0's l2: 3.51354e+06\n",
      "[23]\tvalid_0's rmse: 1850.14\tvalid_0's l2: 3.42302e+06\n",
      "[24]\tvalid_0's rmse: 1829.06\tvalid_0's l2: 3.34544e+06\n",
      "[25]\tvalid_0's rmse: 1811.06\tvalid_0's l2: 3.27995e+06\n",
      "[26]\tvalid_0's rmse: 1794.83\tvalid_0's l2: 3.22141e+06\n",
      "[27]\tvalid_0's rmse: 1781.3\tvalid_0's l2: 3.17303e+06\n",
      "[28]\tvalid_0's rmse: 1769.1\tvalid_0's l2: 3.12972e+06\n",
      "[29]\tvalid_0's rmse: 1755.31\tvalid_0's l2: 3.0811e+06\n",
      "[30]\tvalid_0's rmse: 1743.52\tvalid_0's l2: 3.03987e+06\n",
      "[31]\tvalid_0's rmse: 1733.05\tvalid_0's l2: 3.00347e+06\n",
      "[32]\tvalid_0's rmse: 1722.65\tvalid_0's l2: 2.96753e+06\n",
      "[33]\tvalid_0's rmse: 1714.59\tvalid_0's l2: 2.93981e+06\n",
      "[34]\tvalid_0's rmse: 1706.9\tvalid_0's l2: 2.91352e+06\n",
      "[35]\tvalid_0's rmse: 1698.02\tvalid_0's l2: 2.88326e+06\n",
      "[36]\tvalid_0's rmse: 1690.54\tvalid_0's l2: 2.85793e+06\n",
      "[37]\tvalid_0's rmse: 1681.95\tvalid_0's l2: 2.82896e+06\n",
      "[38]\tvalid_0's rmse: 1675.78\tvalid_0's l2: 2.80822e+06\n",
      "[39]\tvalid_0's rmse: 1670.17\tvalid_0's l2: 2.78948e+06\n",
      "[40]\tvalid_0's rmse: 1665.06\tvalid_0's l2: 2.77243e+06\n",
      "[41]\tvalid_0's rmse: 1658.64\tvalid_0's l2: 2.75108e+06\n",
      "[42]\tvalid_0's rmse: 1653.98\tvalid_0's l2: 2.73564e+06\n",
      "[43]\tvalid_0's rmse: 1648.09\tvalid_0's l2: 2.7162e+06\n",
      "[44]\tvalid_0's rmse: 1642.6\tvalid_0's l2: 2.69813e+06\n",
      "[45]\tvalid_0's rmse: 1638.77\tvalid_0's l2: 2.68557e+06\n",
      "[46]\tvalid_0's rmse: 1635.5\tvalid_0's l2: 2.67485e+06\n",
      "[47]\tvalid_0's rmse: 1631.13\tvalid_0's l2: 2.66057e+06\n",
      "[48]\tvalid_0's rmse: 1627.66\tvalid_0's l2: 2.64929e+06\n",
      "[49]\tvalid_0's rmse: 1624.24\tvalid_0's l2: 2.63814e+06\n",
      "[50]\tvalid_0's rmse: 1620.47\tvalid_0's l2: 2.62591e+06\n",
      "[51]\tvalid_0's rmse: 1617.12\tvalid_0's l2: 2.61507e+06\n",
      "[52]\tvalid_0's rmse: 1613.57\tvalid_0's l2: 2.60361e+06\n",
      "[53]\tvalid_0's rmse: 1611.4\tvalid_0's l2: 2.59661e+06\n",
      "[54]\tvalid_0's rmse: 1608.34\tvalid_0's l2: 2.58677e+06\n",
      "[55]\tvalid_0's rmse: 1603.25\tvalid_0's l2: 2.57042e+06\n",
      "[56]\tvalid_0's rmse: 1601.2\tvalid_0's l2: 2.56383e+06\n",
      "[57]\tvalid_0's rmse: 1598.24\tvalid_0's l2: 2.55438e+06\n",
      "[58]\tvalid_0's rmse: 1596.08\tvalid_0's l2: 2.54748e+06\n",
      "[59]\tvalid_0's rmse: 1594.56\tvalid_0's l2: 2.54262e+06\n",
      "[60]\tvalid_0's rmse: 1592.78\tvalid_0's l2: 2.53696e+06\n",
      "[61]\tvalid_0's rmse: 1589.87\tvalid_0's l2: 2.52767e+06\n",
      "[62]\tvalid_0's rmse: 1586.46\tvalid_0's l2: 2.51687e+06\n",
      "[63]\tvalid_0's rmse: 1584.41\tvalid_0's l2: 2.51037e+06\n",
      "[64]\tvalid_0's rmse: 1581.99\tvalid_0's l2: 2.50269e+06\n",
      "[65]\tvalid_0's rmse: 1580.26\tvalid_0's l2: 2.49721e+06\n",
      "[66]\tvalid_0's rmse: 1578.41\tvalid_0's l2: 2.49138e+06\n",
      "[67]\tvalid_0's rmse: 1576.72\tvalid_0's l2: 2.48606e+06\n",
      "[68]\tvalid_0's rmse: 1573.82\tvalid_0's l2: 2.47691e+06\n",
      "[69]\tvalid_0's rmse: 1571.79\tvalid_0's l2: 2.47052e+06\n",
      "[70]\tvalid_0's rmse: 1569.85\tvalid_0's l2: 2.46444e+06\n",
      "[71]\tvalid_0's rmse: 1567.96\tvalid_0's l2: 2.45849e+06\n",
      "[72]\tvalid_0's rmse: 1566.58\tvalid_0's l2: 2.45419e+06\n",
      "[73]\tvalid_0's rmse: 1564.29\tvalid_0's l2: 2.447e+06\n",
      "[74]\tvalid_0's rmse: 1562.97\tvalid_0's l2: 2.44287e+06\n",
      "[75]\tvalid_0's rmse: 1561.38\tvalid_0's l2: 2.43792e+06\n",
      "[76]\tvalid_0's rmse: 1560\tvalid_0's l2: 2.43361e+06\n",
      "[77]\tvalid_0's rmse: 1558.13\tvalid_0's l2: 2.42777e+06\n",
      "[78]\tvalid_0's rmse: 1556.95\tvalid_0's l2: 2.42409e+06\n",
      "[79]\tvalid_0's rmse: 1555.33\tvalid_0's l2: 2.41906e+06\n",
      "[80]\tvalid_0's rmse: 1553.95\tvalid_0's l2: 2.41477e+06\n",
      "[81]\tvalid_0's rmse: 1552.96\tvalid_0's l2: 2.41168e+06\n",
      "[82]\tvalid_0's rmse: 1552\tvalid_0's l2: 2.40871e+06\n",
      "[83]\tvalid_0's rmse: 1551.01\tvalid_0's l2: 2.40563e+06\n",
      "[84]\tvalid_0's rmse: 1549.9\tvalid_0's l2: 2.40218e+06\n",
      "[85]\tvalid_0's rmse: 1549.08\tvalid_0's l2: 2.39964e+06\n",
      "[86]\tvalid_0's rmse: 1547.45\tvalid_0's l2: 2.39459e+06\n",
      "[87]\tvalid_0's rmse: 1546.58\tvalid_0's l2: 2.3919e+06\n",
      "[88]\tvalid_0's rmse: 1545.39\tvalid_0's l2: 2.38823e+06\n",
      "[89]\tvalid_0's rmse: 1544.58\tvalid_0's l2: 2.38573e+06\n",
      "[90]\tvalid_0's rmse: 1543.47\tvalid_0's l2: 2.38229e+06\n",
      "[91]\tvalid_0's rmse: 1542.52\tvalid_0's l2: 2.37937e+06\n",
      "[92]\tvalid_0's rmse: 1541.14\tvalid_0's l2: 2.3751e+06\n",
      "[93]\tvalid_0's rmse: 1540.28\tvalid_0's l2: 2.37246e+06\n",
      "[94]\tvalid_0's rmse: 1539.55\tvalid_0's l2: 2.37022e+06\n",
      "[95]\tvalid_0's rmse: 1538.4\tvalid_0's l2: 2.36667e+06\n",
      "[96]\tvalid_0's rmse: 1537.8\tvalid_0's l2: 2.36484e+06\n",
      "[97]\tvalid_0's rmse: 1536.95\tvalid_0's l2: 2.36221e+06\n",
      "[98]\tvalid_0's rmse: 1535.94\tvalid_0's l2: 2.35912e+06\n",
      "[99]\tvalid_0's rmse: 1535.19\tvalid_0's l2: 2.3568e+06\n",
      "[100]\tvalid_0's rmse: 1533.87\tvalid_0's l2: 2.35275e+06\n",
      "Did not meet early stopping. Best iteration is:\n",
      "[100]\tvalid_0's rmse: 1533.87\tvalid_0's l2: 2.35275e+06\n",
      "CPU times: user 8.06 s, sys: 872 ms, total: 8.93 s\n",
      "Wall time: 3.56 s\n"
     ]
    },
    {
     "data": {
      "text/plain": [
       "1533.8670620586126"
      ]
     },
     "metadata": {},
     "output_type": "display_data"
    }
   ],
   "source": [
    "%%time\n",
    "model = LGBMRegressor(n_estimators=100, random_state=12345, n_jobs=-1)\n",
    "score_(model, X_train, X_test, y_train, y_test, 100, 'rmse')"
   ]
  },
  {
   "cell_type": "code",
   "execution_count": 35,
   "metadata": {
    "cellId": "a7a9k6fy1hqr3rm5yncla"
   },
   "outputs": [],
   "source": [
    "def eval(model, params):\n",
    "    grid = GridSearchCV(model, param_grid=params, scoring='neg_mean_squared_error', n_jobs=-1)\n",
    "    grid.fit(X_train, y_train)\n",
    "    pred = grid.predict(X_test)                                                   \n",
    "    accuracy = sklearn.metrics.mean_squared_error(y_test, pred)\n",
    "    accuracy**0.5\n",
    "    print('RMSE', (accuracy**0.5))\n",
    "    print(grid.best_params_)"
   ]
  },
  {
   "cell_type": "code",
   "execution_count": 36,
   "metadata": {
    "cellId": "9lua251ev55ypzairaaey"
   },
   "outputs": [],
   "source": [
    "def eval_enc(model, params):\n",
    "    grid = GridSearchCV(model, param_grid=params, scoring='neg_mean_squared_error', n_jobs=-1)\n",
    "    grid.fit(X_train_enc, y_train_enc)\n",
    "    pred = grid.predict(X_test_enc)                                                   \n",
    "    accuracy = sklearn.metrics.mean_squared_error(y_test_enc, pred)\n",
    "    accuracy**0.5\n",
    "    print('RMSE', (accuracy**0.5))\n",
    "    print(grid.best_params_)"
   ]
  },
  {
   "cell_type": "markdown",
   "metadata": {
    "cellId": "g6k8juhwe9c8pvnxrotygf"
   },
   "source": [
    "### Настройка гиперпараметров LGBM"
   ]
  },
  {
   "cell_type": "code",
   "execution_count": 37,
   "metadata": {
    "cellId": "k0o8jrf2u2qvf98tjjvvtn"
   },
   "outputs": [
    {
     "name": "stdout",
     "output_type": "stream",
     "text": [
      "RMSE 1533.8670581773122\n",
      "{'max_depth': None}\n",
      "CPU times: user 1min 21s, sys: 4 s, total: 1min 25s\n",
      "Wall time: 1min 26s\n"
     ]
    }
   ],
   "source": [
    "%%time\n",
    "model = LGBMRegressor(n_estimators=100, random_state=12345, n_jobs=-1)\n",
    "eval(model, {'max_depth':[3, 5, 10, None]})"
   ]
  },
  {
   "cell_type": "code",
   "execution_count": 537,
   "metadata": {
    "cellId": "l8u7bf835ngcii8efws2o"
   },
   "outputs": [
    {
     "name": "stdout",
     "output_type": "stream",
     "text": [
      "RMSE 1482.5985127825068\n",
      "{'learning_rate': 0.30000000000000004}\n",
      "CPU times: user 5.29 s, sys: 724 ms, total: 6.01 s\n",
      "Wall time: 21.1 s\n"
     ]
    }
   ],
   "source": [
    "%%time\n",
    "model = LGBMRegressor(n_estimators=100, random_state=12345, n_jobs=-1)\n",
    "eval(model, {'learning_rate':np.arange(0.1, 1, 0.2)})"
   ]
  },
  {
   "cell_type": "code",
   "execution_count": 538,
   "metadata": {
    "cellId": "9vvdzbb30mv5phmcyfn456"
   },
   "outputs": [
    {
     "name": "stdout",
     "output_type": "stream",
     "text": [
      "RMSE 1482.5985127825068\n",
      "{'reg_lambda': 0}\n",
      "CPU times: user 5.26 s, sys: 760 ms, total: 6.02 s\n",
      "Wall time: 22 s\n"
     ]
    }
   ],
   "source": [
    "%%time\n",
    "model = LGBMRegressor(n_estimators=100, random_state=12345, learning_rate=0.3, n_jobs=-1)\n",
    "eval(model, {'reg_lambda':np.arange(0, 10, 2)})"
   ]
  },
  {
   "cell_type": "code",
   "execution_count": 539,
   "metadata": {
    "cellId": "nxa3tnw5hctj206cp2z"
   },
   "outputs": [
    {
     "name": "stdout",
     "output_type": "stream",
     "text": [
      "RMSE 1439.9481197197763\n",
      "{'num_leaves': 80}\n",
      "CPU times: user 6.6 s, sys: 764 ms, total: 7.36 s\n",
      "Wall time: 33.9 s\n"
     ]
    }
   ],
   "source": [
    "%%time\n",
    "model = LGBMRegressor(n_estimators=100, random_state=12345, learning_rate=0.3, n_jobs=-1, reg_lambda=2)\n",
    "eval(model, {'num_leaves':np.arange(20, 100, 10)})"
   ]
  },
  {
   "cell_type": "code",
   "execution_count": 540,
   "metadata": {
    "cellId": "jmbae2y9iqc6fh9kjypbzq"
   },
   "outputs": [
    {
     "name": "stdout",
     "output_type": "stream",
     "text": [
      "RMSE 1438.4968886567342\n",
      "{'reg_alpha': 12}\n",
      "CPU times: user 6.92 s, sys: 784 ms, total: 7.7 s\n",
      "Wall time: 46 s\n"
     ]
    }
   ],
   "source": [
    "%%time\n",
    "model = LGBMRegressor(random_state=12345, learning_rate=0.3, n_jobs=-1, num_leaves=90, reg_lambda=2, n_estimators=100)\n",
    "eval(model, {'reg_alpha':np.arange(0, 20, 2)})"
   ]
  },
  {
   "cell_type": "code",
   "execution_count": 541,
   "metadata": {
    "cellId": "lg0lnpwhsdp1oobwfy7d2z"
   },
   "outputs": [
    {
     "name": "stdout",
     "output_type": "stream",
     "text": [
      "RMSE 1415.4358725854431\n",
      "{'n_estimators': 300}\n",
      "CPU times: user 13.1 s, sys: 860 ms, total: 13.9 s\n",
      "Wall time: 17.1 s\n"
     ]
    }
   ],
   "source": [
    "%%time\n",
    "model = LGBMRegressor(random_state=12345, learning_rate=0.3, n_jobs=-1, num_leaves=90, reg_lambda=2, reg_alpha=18)\n",
    "eval(model, {'n_estimators':[100,300]})"
   ]
  },
  {
   "cell_type": "code",
   "execution_count": 542,
   "metadata": {
    "cellId": "alvo362i5cjdcbeptq4ykh",
    "scrolled": true
   },
   "outputs": [
    {
     "name": "stdout",
     "output_type": "stream",
     "text": [
      "[1]\tvalid_0's rmse: 3313.92\tvalid_0's l2: 1.0982e+07\n",
      "Training until validation scores don't improve for 50 rounds\n",
      "[2]\tvalid_0's rmse: 2710.28\tvalid_0's l2: 7.3456e+06\n",
      "[3]\tvalid_0's rmse: 2321.1\tvalid_0's l2: 5.38752e+06\n",
      "[4]\tvalid_0's rmse: 2076.8\tvalid_0's l2: 4.31311e+06\n",
      "[5]\tvalid_0's rmse: 1915.81\tvalid_0's l2: 3.67033e+06\n",
      "[6]\tvalid_0's rmse: 1814.94\tvalid_0's l2: 3.29402e+06\n",
      "[7]\tvalid_0's rmse: 1738.47\tvalid_0's l2: 3.02227e+06\n",
      "[8]\tvalid_0's rmse: 1687.2\tvalid_0's l2: 2.84663e+06\n",
      "[9]\tvalid_0's rmse: 1651.02\tvalid_0's l2: 2.72586e+06\n",
      "[10]\tvalid_0's rmse: 1621.09\tvalid_0's l2: 2.62794e+06\n",
      "[11]\tvalid_0's rmse: 1601.39\tvalid_0's l2: 2.56446e+06\n",
      "[12]\tvalid_0's rmse: 1586.69\tvalid_0's l2: 2.5176e+06\n",
      "[13]\tvalid_0's rmse: 1575.1\tvalid_0's l2: 2.48093e+06\n",
      "[14]\tvalid_0's rmse: 1565.7\tvalid_0's l2: 2.45141e+06\n",
      "[15]\tvalid_0's rmse: 1554.11\tvalid_0's l2: 2.41527e+06\n",
      "[16]\tvalid_0's rmse: 1544.28\tvalid_0's l2: 2.38479e+06\n",
      "[17]\tvalid_0's rmse: 1537.36\tvalid_0's l2: 2.36349e+06\n",
      "[18]\tvalid_0's rmse: 1533.75\tvalid_0's l2: 2.35238e+06\n",
      "[19]\tvalid_0's rmse: 1527.16\tvalid_0's l2: 2.33222e+06\n",
      "[20]\tvalid_0's rmse: 1522.7\tvalid_0's l2: 2.31862e+06\n",
      "[21]\tvalid_0's rmse: 1515.59\tvalid_0's l2: 2.29703e+06\n",
      "[22]\tvalid_0's rmse: 1511.56\tvalid_0's l2: 2.28481e+06\n",
      "[23]\tvalid_0's rmse: 1508.49\tvalid_0's l2: 2.27555e+06\n",
      "[24]\tvalid_0's rmse: 1503.31\tvalid_0's l2: 2.25993e+06\n",
      "[25]\tvalid_0's rmse: 1500.06\tvalid_0's l2: 2.25017e+06\n",
      "[26]\tvalid_0's rmse: 1497.37\tvalid_0's l2: 2.24212e+06\n",
      "[27]\tvalid_0's rmse: 1494.73\tvalid_0's l2: 2.23423e+06\n",
      "[28]\tvalid_0's rmse: 1491.49\tvalid_0's l2: 2.22453e+06\n",
      "[29]\tvalid_0's rmse: 1489.09\tvalid_0's l2: 2.21738e+06\n",
      "[30]\tvalid_0's rmse: 1488.04\tvalid_0's l2: 2.21425e+06\n",
      "[31]\tvalid_0's rmse: 1484.4\tvalid_0's l2: 2.20346e+06\n",
      "[32]\tvalid_0's rmse: 1483.35\tvalid_0's l2: 2.20032e+06\n",
      "[33]\tvalid_0's rmse: 1481.88\tvalid_0's l2: 2.19596e+06\n",
      "[34]\tvalid_0's rmse: 1480.24\tvalid_0's l2: 2.1911e+06\n",
      "[35]\tvalid_0's rmse: 1478.28\tvalid_0's l2: 2.1853e+06\n",
      "[36]\tvalid_0's rmse: 1476.04\tvalid_0's l2: 2.17868e+06\n",
      "[37]\tvalid_0's rmse: 1474.32\tvalid_0's l2: 2.17362e+06\n",
      "[38]\tvalid_0's rmse: 1473.58\tvalid_0's l2: 2.17143e+06\n",
      "[39]\tvalid_0's rmse: 1471.73\tvalid_0's l2: 2.16599e+06\n",
      "[40]\tvalid_0's rmse: 1469.76\tvalid_0's l2: 2.1602e+06\n",
      "[41]\tvalid_0's rmse: 1469.17\tvalid_0's l2: 2.15847e+06\n",
      "[42]\tvalid_0's rmse: 1468.55\tvalid_0's l2: 2.15664e+06\n",
      "[43]\tvalid_0's rmse: 1467.71\tvalid_0's l2: 2.15418e+06\n",
      "[44]\tvalid_0's rmse: 1466.61\tvalid_0's l2: 2.15095e+06\n",
      "[45]\tvalid_0's rmse: 1464.61\tvalid_0's l2: 2.1451e+06\n",
      "[46]\tvalid_0's rmse: 1463.6\tvalid_0's l2: 2.14211e+06\n",
      "[47]\tvalid_0's rmse: 1463.37\tvalid_0's l2: 2.14145e+06\n",
      "[48]\tvalid_0's rmse: 1462.5\tvalid_0's l2: 2.1389e+06\n",
      "[49]\tvalid_0's rmse: 1460.65\tvalid_0's l2: 2.13349e+06\n",
      "[50]\tvalid_0's rmse: 1460.08\tvalid_0's l2: 2.13184e+06\n",
      "[51]\tvalid_0's rmse: 1459.79\tvalid_0's l2: 2.13098e+06\n",
      "[52]\tvalid_0's rmse: 1459.16\tvalid_0's l2: 2.12915e+06\n",
      "[53]\tvalid_0's rmse: 1458.25\tvalid_0's l2: 2.12649e+06\n",
      "[54]\tvalid_0's rmse: 1457.86\tvalid_0's l2: 2.12536e+06\n",
      "[55]\tvalid_0's rmse: 1457.68\tvalid_0's l2: 2.12482e+06\n",
      "[56]\tvalid_0's rmse: 1456.94\tvalid_0's l2: 2.12268e+06\n",
      "[57]\tvalid_0's rmse: 1455.84\tvalid_0's l2: 2.11948e+06\n",
      "[58]\tvalid_0's rmse: 1455.17\tvalid_0's l2: 2.11751e+06\n",
      "[59]\tvalid_0's rmse: 1455.11\tvalid_0's l2: 2.11735e+06\n",
      "[60]\tvalid_0's rmse: 1453.81\tvalid_0's l2: 2.11356e+06\n",
      "[61]\tvalid_0's rmse: 1453.39\tvalid_0's l2: 2.11236e+06\n",
      "[62]\tvalid_0's rmse: 1452.16\tvalid_0's l2: 2.10876e+06\n",
      "[63]\tvalid_0's rmse: 1451.31\tvalid_0's l2: 2.10629e+06\n",
      "[64]\tvalid_0's rmse: 1450.58\tvalid_0's l2: 2.10419e+06\n",
      "[65]\tvalid_0's rmse: 1450.06\tvalid_0's l2: 2.10266e+06\n",
      "[66]\tvalid_0's rmse: 1449.94\tvalid_0's l2: 2.10232e+06\n",
      "[67]\tvalid_0's rmse: 1449.17\tvalid_0's l2: 2.1001e+06\n",
      "[68]\tvalid_0's rmse: 1448.02\tvalid_0's l2: 2.09677e+06\n",
      "[69]\tvalid_0's rmse: 1447.09\tvalid_0's l2: 2.09407e+06\n",
      "[70]\tvalid_0's rmse: 1446.83\tvalid_0's l2: 2.09332e+06\n",
      "[71]\tvalid_0's rmse: 1445.99\tvalid_0's l2: 2.09087e+06\n",
      "[72]\tvalid_0's rmse: 1445.75\tvalid_0's l2: 2.09019e+06\n",
      "[73]\tvalid_0's rmse: 1444.73\tvalid_0's l2: 2.08725e+06\n",
      "[74]\tvalid_0's rmse: 1444.64\tvalid_0's l2: 2.08699e+06\n",
      "[75]\tvalid_0's rmse: 1444.23\tvalid_0's l2: 2.0858e+06\n",
      "[76]\tvalid_0's rmse: 1443.64\tvalid_0's l2: 2.08409e+06\n",
      "[77]\tvalid_0's rmse: 1443.33\tvalid_0's l2: 2.08319e+06\n",
      "[78]\tvalid_0's rmse: 1442.65\tvalid_0's l2: 2.08123e+06\n",
      "[79]\tvalid_0's rmse: 1441.98\tvalid_0's l2: 2.07932e+06\n",
      "[80]\tvalid_0's rmse: 1441.53\tvalid_0's l2: 2.078e+06\n",
      "[81]\tvalid_0's rmse: 1441.4\tvalid_0's l2: 2.07763e+06\n",
      "[82]\tvalid_0's rmse: 1441.14\tvalid_0's l2: 2.07688e+06\n",
      "[83]\tvalid_0's rmse: 1440.95\tvalid_0's l2: 2.07633e+06\n",
      "[84]\tvalid_0's rmse: 1440.62\tvalid_0's l2: 2.07538e+06\n",
      "[85]\tvalid_0's rmse: 1440.56\tvalid_0's l2: 2.07521e+06\n",
      "[86]\tvalid_0's rmse: 1440.52\tvalid_0's l2: 2.0751e+06\n",
      "[87]\tvalid_0's rmse: 1440.34\tvalid_0's l2: 2.07457e+06\n",
      "[88]\tvalid_0's rmse: 1440.01\tvalid_0's l2: 2.07363e+06\n",
      "[89]\tvalid_0's rmse: 1439.86\tvalid_0's l2: 2.07319e+06\n",
      "[90]\tvalid_0's rmse: 1439.57\tvalid_0's l2: 2.07237e+06\n",
      "[91]\tvalid_0's rmse: 1438.85\tvalid_0's l2: 2.07029e+06\n",
      "[92]\tvalid_0's rmse: 1438.58\tvalid_0's l2: 2.06951e+06\n",
      "[93]\tvalid_0's rmse: 1438.15\tvalid_0's l2: 2.06826e+06\n",
      "[94]\tvalid_0's rmse: 1438.09\tvalid_0's l2: 2.06809e+06\n",
      "[95]\tvalid_0's rmse: 1437.59\tvalid_0's l2: 2.06666e+06\n",
      "[96]\tvalid_0's rmse: 1437.38\tvalid_0's l2: 2.06606e+06\n",
      "[97]\tvalid_0's rmse: 1437.36\tvalid_0's l2: 2.066e+06\n",
      "[98]\tvalid_0's rmse: 1437.19\tvalid_0's l2: 2.06551e+06\n",
      "[99]\tvalid_0's rmse: 1437.11\tvalid_0's l2: 2.06529e+06\n",
      "[100]\tvalid_0's rmse: 1436.9\tvalid_0's l2: 2.06469e+06\n",
      "[101]\tvalid_0's rmse: 1436.68\tvalid_0's l2: 2.06405e+06\n",
      "[102]\tvalid_0's rmse: 1436.41\tvalid_0's l2: 2.06326e+06\n",
      "[103]\tvalid_0's rmse: 1436.42\tvalid_0's l2: 2.0633e+06\n",
      "[104]\tvalid_0's rmse: 1436.1\tvalid_0's l2: 2.06238e+06\n",
      "[105]\tvalid_0's rmse: 1435.58\tvalid_0's l2: 2.06089e+06\n",
      "[106]\tvalid_0's rmse: 1435.24\tvalid_0's l2: 2.0599e+06\n",
      "[107]\tvalid_0's rmse: 1435.06\tvalid_0's l2: 2.05941e+06\n",
      "[108]\tvalid_0's rmse: 1434.78\tvalid_0's l2: 2.0586e+06\n",
      "[109]\tvalid_0's rmse: 1434.39\tvalid_0's l2: 2.05748e+06\n",
      "[110]\tvalid_0's rmse: 1434.29\tvalid_0's l2: 2.05718e+06\n",
      "[111]\tvalid_0's rmse: 1434.28\tvalid_0's l2: 2.05716e+06\n",
      "[112]\tvalid_0's rmse: 1433.86\tvalid_0's l2: 2.05596e+06\n",
      "[113]\tvalid_0's rmse: 1433.43\tvalid_0's l2: 2.05472e+06\n",
      "[114]\tvalid_0's rmse: 1433.59\tvalid_0's l2: 2.05519e+06\n",
      "[115]\tvalid_0's rmse: 1433.33\tvalid_0's l2: 2.05444e+06\n",
      "[116]\tvalid_0's rmse: 1432.59\tvalid_0's l2: 2.05232e+06\n",
      "[117]\tvalid_0's rmse: 1432.38\tvalid_0's l2: 2.05172e+06\n",
      "[118]\tvalid_0's rmse: 1432.35\tvalid_0's l2: 2.05163e+06\n",
      "[119]\tvalid_0's rmse: 1431.75\tvalid_0's l2: 2.0499e+06\n",
      "[120]\tvalid_0's rmse: 1431.46\tvalid_0's l2: 2.04907e+06\n",
      "[121]\tvalid_0's rmse: 1431.38\tvalid_0's l2: 2.04885e+06\n",
      "[122]\tvalid_0's rmse: 1431.48\tvalid_0's l2: 2.04913e+06\n",
      "[123]\tvalid_0's rmse: 1431.53\tvalid_0's l2: 2.04927e+06\n",
      "[124]\tvalid_0's rmse: 1431.39\tvalid_0's l2: 2.04887e+06\n",
      "[125]\tvalid_0's rmse: 1431.2\tvalid_0's l2: 2.04832e+06\n",
      "[126]\tvalid_0's rmse: 1430.99\tvalid_0's l2: 2.04774e+06\n",
      "[127]\tvalid_0's rmse: 1430.45\tvalid_0's l2: 2.04618e+06\n",
      "[128]\tvalid_0's rmse: 1430.56\tvalid_0's l2: 2.04649e+06\n",
      "[129]\tvalid_0's rmse: 1430.25\tvalid_0's l2: 2.0456e+06\n",
      "[130]\tvalid_0's rmse: 1429.88\tvalid_0's l2: 2.04455e+06\n",
      "[131]\tvalid_0's rmse: 1429.72\tvalid_0's l2: 2.04411e+06\n",
      "[132]\tvalid_0's rmse: 1429.6\tvalid_0's l2: 2.04376e+06\n",
      "[133]\tvalid_0's rmse: 1429.54\tvalid_0's l2: 2.04359e+06\n",
      "[134]\tvalid_0's rmse: 1429.57\tvalid_0's l2: 2.04367e+06\n",
      "[135]\tvalid_0's rmse: 1428.86\tvalid_0's l2: 2.04163e+06\n",
      "[136]\tvalid_0's rmse: 1428.71\tvalid_0's l2: 2.04122e+06\n",
      "[137]\tvalid_0's rmse: 1428.78\tvalid_0's l2: 2.04141e+06\n",
      "[138]\tvalid_0's rmse: 1428.44\tvalid_0's l2: 2.04043e+06\n",
      "[139]\tvalid_0's rmse: 1428.31\tvalid_0's l2: 2.04007e+06\n",
      "[140]\tvalid_0's rmse: 1428.05\tvalid_0's l2: 2.03932e+06\n",
      "[141]\tvalid_0's rmse: 1427.99\tvalid_0's l2: 2.03915e+06\n",
      "[142]\tvalid_0's rmse: 1427.72\tvalid_0's l2: 2.03839e+06\n",
      "[143]\tvalid_0's rmse: 1427.55\tvalid_0's l2: 2.03791e+06\n",
      "[144]\tvalid_0's rmse: 1427.84\tvalid_0's l2: 2.03872e+06\n",
      "[145]\tvalid_0's rmse: 1427.83\tvalid_0's l2: 2.0387e+06\n",
      "[146]\tvalid_0's rmse: 1427.5\tvalid_0's l2: 2.03774e+06\n",
      "[147]\tvalid_0's rmse: 1427.28\tvalid_0's l2: 2.03714e+06\n",
      "[148]\tvalid_0's rmse: 1427.1\tvalid_0's l2: 2.03661e+06\n",
      "[149]\tvalid_0's rmse: 1426.54\tvalid_0's l2: 2.03503e+06\n",
      "[150]\tvalid_0's rmse: 1426.43\tvalid_0's l2: 2.0347e+06\n",
      "[151]\tvalid_0's rmse: 1426.12\tvalid_0's l2: 2.03383e+06\n",
      "[152]\tvalid_0's rmse: 1425.97\tvalid_0's l2: 2.0334e+06\n",
      "[153]\tvalid_0's rmse: 1425.93\tvalid_0's l2: 2.03327e+06\n",
      "[154]\tvalid_0's rmse: 1425.61\tvalid_0's l2: 2.03235e+06\n",
      "[155]\tvalid_0's rmse: 1425.54\tvalid_0's l2: 2.03215e+06\n",
      "[156]\tvalid_0's rmse: 1425.48\tvalid_0's l2: 2.03199e+06\n",
      "[157]\tvalid_0's rmse: 1425.33\tvalid_0's l2: 2.03158e+06\n",
      "[158]\tvalid_0's rmse: 1425.45\tvalid_0's l2: 2.03192e+06\n",
      "[159]\tvalid_0's rmse: 1425.35\tvalid_0's l2: 2.03163e+06\n",
      "[160]\tvalid_0's rmse: 1425.29\tvalid_0's l2: 2.03145e+06\n",
      "[161]\tvalid_0's rmse: 1425.25\tvalid_0's l2: 2.03133e+06\n",
      "[162]\tvalid_0's rmse: 1425.03\tvalid_0's l2: 2.03072e+06\n",
      "[163]\tvalid_0's rmse: 1424.88\tvalid_0's l2: 2.03027e+06\n",
      "[164]\tvalid_0's rmse: 1424.59\tvalid_0's l2: 2.02946e+06\n",
      "[165]\tvalid_0's rmse: 1424.49\tvalid_0's l2: 2.02916e+06\n",
      "[166]\tvalid_0's rmse: 1424.36\tvalid_0's l2: 2.0288e+06\n",
      "[167]\tvalid_0's rmse: 1423.97\tvalid_0's l2: 2.0277e+06\n",
      "[168]\tvalid_0's rmse: 1424.19\tvalid_0's l2: 2.02832e+06\n",
      "[169]\tvalid_0's rmse: 1424.49\tvalid_0's l2: 2.02916e+06\n",
      "[170]\tvalid_0's rmse: 1424.43\tvalid_0's l2: 2.029e+06\n",
      "[171]\tvalid_0's rmse: 1424.34\tvalid_0's l2: 2.02875e+06\n",
      "[172]\tvalid_0's rmse: 1424.24\tvalid_0's l2: 2.02847e+06\n",
      "[173]\tvalid_0's rmse: 1424.15\tvalid_0's l2: 2.02819e+06\n",
      "[174]\tvalid_0's rmse: 1423.85\tvalid_0's l2: 2.02736e+06\n",
      "[175]\tvalid_0's rmse: 1423.86\tvalid_0's l2: 2.02738e+06\n",
      "[176]\tvalid_0's rmse: 1423.88\tvalid_0's l2: 2.02743e+06\n",
      "[177]\tvalid_0's rmse: 1423.73\tvalid_0's l2: 2.02701e+06\n",
      "[178]\tvalid_0's rmse: 1423.52\tvalid_0's l2: 2.02641e+06\n",
      "[179]\tvalid_0's rmse: 1423.54\tvalid_0's l2: 2.02648e+06\n",
      "[180]\tvalid_0's rmse: 1422.95\tvalid_0's l2: 2.02479e+06\n",
      "[181]\tvalid_0's rmse: 1422.98\tvalid_0's l2: 2.02486e+06\n",
      "[182]\tvalid_0's rmse: 1422.91\tvalid_0's l2: 2.02467e+06\n",
      "[183]\tvalid_0's rmse: 1422.84\tvalid_0's l2: 2.02448e+06\n",
      "[184]\tvalid_0's rmse: 1422.85\tvalid_0's l2: 2.02451e+06\n",
      "[185]\tvalid_0's rmse: 1422.6\tvalid_0's l2: 2.02379e+06\n",
      "[186]\tvalid_0's rmse: 1422.56\tvalid_0's l2: 2.02368e+06\n",
      "[187]\tvalid_0's rmse: 1422.33\tvalid_0's l2: 2.02302e+06\n",
      "[188]\tvalid_0's rmse: 1422.39\tvalid_0's l2: 2.02318e+06\n",
      "[189]\tvalid_0's rmse: 1422.3\tvalid_0's l2: 2.02293e+06\n",
      "[190]\tvalid_0's rmse: 1421.73\tvalid_0's l2: 2.02132e+06\n",
      "[191]\tvalid_0's rmse: 1421.02\tvalid_0's l2: 2.01931e+06\n",
      "[192]\tvalid_0's rmse: 1419.99\tvalid_0's l2: 2.01638e+06\n",
      "[193]\tvalid_0's rmse: 1419.93\tvalid_0's l2: 2.0162e+06\n",
      "[194]\tvalid_0's rmse: 1419.73\tvalid_0's l2: 2.01562e+06\n",
      "[195]\tvalid_0's rmse: 1419.62\tvalid_0's l2: 2.01532e+06\n",
      "[196]\tvalid_0's rmse: 1419.64\tvalid_0's l2: 2.01538e+06\n",
      "[197]\tvalid_0's rmse: 1419.8\tvalid_0's l2: 2.01583e+06\n",
      "[198]\tvalid_0's rmse: 1419.76\tvalid_0's l2: 2.01573e+06\n",
      "[199]\tvalid_0's rmse: 1419.64\tvalid_0's l2: 2.01537e+06\n",
      "[200]\tvalid_0's rmse: 1419.31\tvalid_0's l2: 2.01444e+06\n",
      "[201]\tvalid_0's rmse: 1419.18\tvalid_0's l2: 2.01408e+06\n",
      "[202]\tvalid_0's rmse: 1418.96\tvalid_0's l2: 2.01344e+06\n",
      "[203]\tvalid_0's rmse: 1418.94\tvalid_0's l2: 2.01339e+06\n",
      "[204]\tvalid_0's rmse: 1418.83\tvalid_0's l2: 2.01309e+06\n",
      "[205]\tvalid_0's rmse: 1418.94\tvalid_0's l2: 2.0134e+06\n",
      "[206]\tvalid_0's rmse: 1418.91\tvalid_0's l2: 2.0133e+06\n",
      "[207]\tvalid_0's rmse: 1418.94\tvalid_0's l2: 2.01339e+06\n",
      "[208]\tvalid_0's rmse: 1418.79\tvalid_0's l2: 2.01296e+06\n",
      "[209]\tvalid_0's rmse: 1418.91\tvalid_0's l2: 2.01331e+06\n",
      "[210]\tvalid_0's rmse: 1418.96\tvalid_0's l2: 2.01344e+06\n",
      "[211]\tvalid_0's rmse: 1418.92\tvalid_0's l2: 2.01334e+06\n",
      "[212]\tvalid_0's rmse: 1418.45\tvalid_0's l2: 2.01199e+06\n",
      "[213]\tvalid_0's rmse: 1418.53\tvalid_0's l2: 2.01223e+06\n",
      "[214]\tvalid_0's rmse: 1418.22\tvalid_0's l2: 2.01135e+06\n",
      "[215]\tvalid_0's rmse: 1418.09\tvalid_0's l2: 2.01097e+06\n",
      "[216]\tvalid_0's rmse: 1418.13\tvalid_0's l2: 2.01108e+06\n",
      "[217]\tvalid_0's rmse: 1418.09\tvalid_0's l2: 2.01098e+06\n",
      "[218]\tvalid_0's rmse: 1418.17\tvalid_0's l2: 2.0112e+06\n",
      "[219]\tvalid_0's rmse: 1418.19\tvalid_0's l2: 2.01125e+06\n",
      "[220]\tvalid_0's rmse: 1418.07\tvalid_0's l2: 2.01093e+06\n",
      "[221]\tvalid_0's rmse: 1418.03\tvalid_0's l2: 2.0108e+06\n",
      "[222]\tvalid_0's rmse: 1417.99\tvalid_0's l2: 2.0107e+06\n",
      "[223]\tvalid_0's rmse: 1417.55\tvalid_0's l2: 2.00945e+06\n",
      "[224]\tvalid_0's rmse: 1417.6\tvalid_0's l2: 2.00959e+06\n",
      "[225]\tvalid_0's rmse: 1417.58\tvalid_0's l2: 2.00953e+06\n",
      "[226]\tvalid_0's rmse: 1417.54\tvalid_0's l2: 2.00942e+06\n",
      "[227]\tvalid_0's rmse: 1417.52\tvalid_0's l2: 2.00935e+06\n",
      "[228]\tvalid_0's rmse: 1417.58\tvalid_0's l2: 2.00953e+06\n",
      "[229]\tvalid_0's rmse: 1417.5\tvalid_0's l2: 2.00932e+06\n",
      "[230]\tvalid_0's rmse: 1417.73\tvalid_0's l2: 2.00996e+06\n",
      "[231]\tvalid_0's rmse: 1417.61\tvalid_0's l2: 2.00961e+06\n",
      "[232]\tvalid_0's rmse: 1417.66\tvalid_0's l2: 2.00976e+06\n",
      "[233]\tvalid_0's rmse: 1417.53\tvalid_0's l2: 2.00939e+06\n",
      "[234]\tvalid_0's rmse: 1417.54\tvalid_0's l2: 2.00941e+06\n",
      "[235]\tvalid_0's rmse: 1417.6\tvalid_0's l2: 2.0096e+06\n",
      "[236]\tvalid_0's rmse: 1417.66\tvalid_0's l2: 2.00977e+06\n",
      "[237]\tvalid_0's rmse: 1417.74\tvalid_0's l2: 2.00999e+06\n",
      "[238]\tvalid_0's rmse: 1417.68\tvalid_0's l2: 2.0098e+06\n",
      "[239]\tvalid_0's rmse: 1417.66\tvalid_0's l2: 2.00976e+06\n",
      "[240]\tvalid_0's rmse: 1417.8\tvalid_0's l2: 2.01016e+06\n",
      "[241]\tvalid_0's rmse: 1417.74\tvalid_0's l2: 2.00999e+06\n",
      "[242]\tvalid_0's rmse: 1417.57\tvalid_0's l2: 2.0095e+06\n",
      "[243]\tvalid_0's rmse: 1417.48\tvalid_0's l2: 2.00925e+06\n",
      "[244]\tvalid_0's rmse: 1417.55\tvalid_0's l2: 2.00945e+06\n",
      "[245]\tvalid_0's rmse: 1417.56\tvalid_0's l2: 2.00948e+06\n",
      "[246]\tvalid_0's rmse: 1417.34\tvalid_0's l2: 2.00885e+06\n",
      "[247]\tvalid_0's rmse: 1417.33\tvalid_0's l2: 2.00884e+06\n",
      "[248]\tvalid_0's rmse: 1417.4\tvalid_0's l2: 2.00902e+06\n",
      "[249]\tvalid_0's rmse: 1417.4\tvalid_0's l2: 2.00903e+06\n",
      "[250]\tvalid_0's rmse: 1417.42\tvalid_0's l2: 2.00908e+06\n",
      "[251]\tvalid_0's rmse: 1417.43\tvalid_0's l2: 2.0091e+06\n",
      "[252]\tvalid_0's rmse: 1417.38\tvalid_0's l2: 2.00896e+06\n",
      "[253]\tvalid_0's rmse: 1417.21\tvalid_0's l2: 2.00847e+06\n",
      "[254]\tvalid_0's rmse: 1417.01\tvalid_0's l2: 2.00791e+06\n",
      "[255]\tvalid_0's rmse: 1417.06\tvalid_0's l2: 2.00805e+06\n",
      "[256]\tvalid_0's rmse: 1417.23\tvalid_0's l2: 2.00853e+06\n",
      "[257]\tvalid_0's rmse: 1417.27\tvalid_0's l2: 2.00865e+06\n",
      "[258]\tvalid_0's rmse: 1417.2\tvalid_0's l2: 2.00844e+06\n",
      "[259]\tvalid_0's rmse: 1416.79\tvalid_0's l2: 2.00729e+06\n",
      "[260]\tvalid_0's rmse: 1416.6\tvalid_0's l2: 2.00675e+06\n",
      "[261]\tvalid_0's rmse: 1416.55\tvalid_0's l2: 2.00662e+06\n",
      "[262]\tvalid_0's rmse: 1416.67\tvalid_0's l2: 2.00695e+06\n",
      "[263]\tvalid_0's rmse: 1416.81\tvalid_0's l2: 2.00736e+06\n",
      "[264]\tvalid_0's rmse: 1416.94\tvalid_0's l2: 2.00772e+06\n",
      "[265]\tvalid_0's rmse: 1416.7\tvalid_0's l2: 2.00704e+06\n",
      "[266]\tvalid_0's rmse: 1416.69\tvalid_0's l2: 2.00702e+06\n",
      "[267]\tvalid_0's rmse: 1416.6\tvalid_0's l2: 2.00675e+06\n",
      "[268]\tvalid_0's rmse: 1416.62\tvalid_0's l2: 2.00681e+06\n",
      "[269]\tvalid_0's rmse: 1416.56\tvalid_0's l2: 2.00663e+06\n",
      "[270]\tvalid_0's rmse: 1416.17\tvalid_0's l2: 2.00554e+06\n",
      "[271]\tvalid_0's rmse: 1416.12\tvalid_0's l2: 2.00539e+06\n",
      "[272]\tvalid_0's rmse: 1415.96\tvalid_0's l2: 2.00495e+06\n",
      "[273]\tvalid_0's rmse: 1415.99\tvalid_0's l2: 2.00504e+06\n",
      "[274]\tvalid_0's rmse: 1415.89\tvalid_0's l2: 2.00475e+06\n",
      "[275]\tvalid_0's rmse: 1415.97\tvalid_0's l2: 2.00497e+06\n",
      "[276]\tvalid_0's rmse: 1415.85\tvalid_0's l2: 2.00463e+06\n",
      "[277]\tvalid_0's rmse: 1415.82\tvalid_0's l2: 2.00456e+06\n",
      "[278]\tvalid_0's rmse: 1415.78\tvalid_0's l2: 2.00444e+06\n",
      "[279]\tvalid_0's rmse: 1415.76\tvalid_0's l2: 2.00439e+06\n",
      "[280]\tvalid_0's rmse: 1415.78\tvalid_0's l2: 2.00443e+06\n",
      "[281]\tvalid_0's rmse: 1415.77\tvalid_0's l2: 2.0044e+06\n",
      "[282]\tvalid_0's rmse: 1415.92\tvalid_0's l2: 2.00484e+06\n",
      "[283]\tvalid_0's rmse: 1415.83\tvalid_0's l2: 2.00457e+06\n",
      "[284]\tvalid_0's rmse: 1415.93\tvalid_0's l2: 2.00486e+06\n",
      "[285]\tvalid_0's rmse: 1415.99\tvalid_0's l2: 2.00502e+06\n",
      "[286]\tvalid_0's rmse: 1416.18\tvalid_0's l2: 2.00557e+06\n",
      "[287]\tvalid_0's rmse: 1416.15\tvalid_0's l2: 2.00547e+06\n",
      "[288]\tvalid_0's rmse: 1416.14\tvalid_0's l2: 2.00545e+06\n",
      "[289]\tvalid_0's rmse: 1416.12\tvalid_0's l2: 2.0054e+06\n",
      "[290]\tvalid_0's rmse: 1416.13\tvalid_0's l2: 2.00541e+06\n",
      "[291]\tvalid_0's rmse: 1416.2\tvalid_0's l2: 2.00563e+06\n",
      "[292]\tvalid_0's rmse: 1416.11\tvalid_0's l2: 2.00537e+06\n",
      "[293]\tvalid_0's rmse: 1415.98\tvalid_0's l2: 2.005e+06\n",
      "[294]\tvalid_0's rmse: 1415.77\tvalid_0's l2: 2.0044e+06\n",
      "[295]\tvalid_0's rmse: 1415.62\tvalid_0's l2: 2.00398e+06\n",
      "[296]\tvalid_0's rmse: 1415.54\tvalid_0's l2: 2.00376e+06\n",
      "[297]\tvalid_0's rmse: 1415.44\tvalid_0's l2: 2.00347e+06\n",
      "[298]\tvalid_0's rmse: 1415.48\tvalid_0's l2: 2.00359e+06\n",
      "[299]\tvalid_0's rmse: 1415.29\tvalid_0's l2: 2.00303e+06\n",
      "[300]\tvalid_0's rmse: 1415.44\tvalid_0's l2: 2.00346e+06\n",
      "Did not meet early stopping. Best iteration is:\n",
      "[299]\tvalid_0's rmse: 1415.29\tvalid_0's l2: 2.00303e+06\n",
      "CPU times: user 16.5 s, sys: 1.01 s, total: 17.5 s\n",
      "Wall time: 5.71 s\n"
     ]
    },
    {
     "data": {
      "text/plain": [
       "1415.286937264769"
      ]
     },
     "metadata": {},
     "output_type": "display_data"
    }
   ],
   "source": [
    "%%time\n",
    "model = LGBMRegressor(random_state=12345, learning_rate=0.3, n_jobs=-1, num_leaves=90, reg_lambda=2, reg_alpha=18, n_estimators=300)\n",
    "score_(model, X_train, X_test, y_train, y_test, 50, \"root_mean_squared_error\")"
   ]
  },
  {
   "cell_type": "code",
   "execution_count": 543,
   "metadata": {
    "cellId": "6l0of7qh32kwlc7susf2sj"
   },
   "outputs": [
    {
     "name": "stdout",
     "output_type": "stream",
     "text": [
      "CPU times: user 2.25 s, sys: 156 ms, total: 2.4 s\n",
      "Wall time: 847 ms\n"
     ]
    },
    {
     "data": {
      "text/plain": [
       "array([ 5001.94111718,  5045.79944061,  1184.60815004, ...,\n",
       "       13087.86610685,  6387.19307724,  1931.25398373])"
      ]
     },
     "metadata": {},
     "output_type": "display_data"
    }
   ],
   "source": [
    "%%time\n",
    "model.predict(X_test)"
   ]
  },
  {
   "cell_type": "markdown",
   "metadata": {
    "cellId": "sqnr9o45noj7csu37hypk3"
   },
   "source": [
    "### То же самое с encoding датасетом:"
   ]
  },
  {
   "cell_type": "code",
   "execution_count": 544,
   "metadata": {
    "cellId": "zasbfj2zc9gvukvlxqady"
   },
   "outputs": [
    {
     "name": "stdout",
     "output_type": "stream",
     "text": [
      "RMSE 1549.0119514551893\n",
      "{'max_depth': None}\n",
      "CPU times: user 5.1 s, sys: 64 ms, total: 5.16 s\n",
      "Wall time: 9.68 s\n"
     ]
    }
   ],
   "source": [
    "%%time\n",
    "model = LGBMRegressor(n_estimators=100, random_state=12345, n_jobs=-1)\n",
    "eval_enc(model, {'max_depth':[3, 5, 10, None]})"
   ]
  },
  {
   "cell_type": "code",
   "execution_count": 545,
   "metadata": {
    "cellId": "ckd5wqlhucw45attvfwhm"
   },
   "outputs": [
    {
     "name": "stdout",
     "output_type": "stream",
     "text": [
      "RMSE 1482.0733049495323\n",
      "{'learning_rate': 0.41000000000000003}\n",
      "CPU times: user 3.42 s, sys: 76 ms, total: 3.5 s\n",
      "Wall time: 10.3 s\n"
     ]
    }
   ],
   "source": [
    "%%time\n",
    "model = LGBMRegressor(n_estimators=100, random_state=12345, n_jobs=-1)\n",
    "eval_enc(model, {'learning_rate':np.arange(0.01, 1, 0.2)})"
   ]
  },
  {
   "cell_type": "code",
   "execution_count": 546,
   "metadata": {
    "cellId": "ru8i2xkolyg64fy7yue4aw"
   },
   "outputs": [
    {
     "name": "stdout",
     "output_type": "stream",
     "text": [
      "RMSE 1460.2638255667252\n",
      "{'num_leaves': 82}\n",
      "CPU times: user 4.2 s, sys: 84 ms, total: 4.28 s\n",
      "Wall time: 9.34 s\n"
     ]
    }
   ],
   "source": [
    "%%time\n",
    "model = LGBMRegressor(n_estimators=100, random_state=12345, learning_rate=0.41, n_jobs=-1)\n",
    "eval_enc(model, {'num_leaves':np.arange(2, 100, 20)})"
   ]
  },
  {
   "cell_type": "code",
   "execution_count": 547,
   "metadata": {
    "cellId": "lx08t7mihdyhigc1nkk5g"
   },
   "outputs": [
    {
     "name": "stdout",
     "output_type": "stream",
     "text": [
      "RMSE 1455.6787370904483\n",
      "{'reg_lambda': 6}\n",
      "CPU times: user 4.08 s, sys: 76 ms, total: 4.16 s\n",
      "Wall time: 10.5 s\n"
     ]
    }
   ],
   "source": [
    "%%time\n",
    "model = LGBMRegressor(n_estimators=100, random_state=12345, learning_rate=0.41, n_jobs=-1, num_leaves=62)\n",
    "eval_enc(model, {'reg_lambda':np.arange(0, 10, 2)})"
   ]
  },
  {
   "cell_type": "code",
   "execution_count": 548,
   "metadata": {
    "cellId": "1uir9nmrmh8zr4u09hj04f"
   },
   "outputs": [
    {
     "name": "stdout",
     "output_type": "stream",
     "text": [
      "RMSE 1442.7001537643073\n",
      "{'n_estimators': 300}\n",
      "CPU times: user 9.56 s, sys: 104 ms, total: 9.67 s\n",
      "Wall time: 9.73 s\n"
     ]
    }
   ],
   "source": [
    "%%time\n",
    "model = LGBMRegressor(random_state=12345, learning_rate=0.41, n_jobs=-1, num_leaves=62, reg_lambda=8)\n",
    "eval_enc(model, {'n_estimators':[100,300]})"
   ]
  },
  {
   "cell_type": "code",
   "execution_count": 549,
   "metadata": {
    "cellId": "1lna1tirt3yfz4phgk60ke"
   },
   "outputs": [
    {
     "name": "stdout",
     "output_type": "stream",
     "text": [
      "RMSE 1442.7001537643073\n",
      "{'reg_alpha': 0}\n",
      "CPU times: user 9.66 s, sys: 120 ms, total: 9.78 s\n",
      "Wall time: 24.5 s\n"
     ]
    }
   ],
   "source": [
    "%%time\n",
    "model = LGBMRegressor(n_estimators=300, random_state=12345, learning_rate=0.41, n_jobs=-1, num_leaves=62, reg_lambda=8)\n",
    "eval_enc(model, {'reg_alpha':np.arange(0, 10, 2)})"
   ]
  },
  {
   "cell_type": "code",
   "execution_count": 550,
   "metadata": {
    "cellId": "6k5t8trhu5tvcatil1ijd"
   },
   "outputs": [
    {
     "name": "stdout",
     "output_type": "stream",
     "text": [
      "RMSE 1420.2928072680832\n",
      "{'min_child_samples': 2}\n",
      "CPU times: user 11.2 s, sys: 788 ms, total: 12 s\n",
      "Wall time: 26.7 s\n"
     ]
    }
   ],
   "source": [
    "%%time\n",
    "model = LGBMRegressor(n_estimators=300, random_state=12345, learning_rate=0.41, n_jobs=-1, num_leaves=62, reg_lambda=8)\n",
    "eval(model, {'min_child_samples':np.arange(2, 60, 20)})"
   ]
  },
  {
   "cell_type": "code",
   "execution_count": 551,
   "metadata": {
    "cellId": "20mcmu38rk7q2llgyl4ey",
    "jupyter": {
     "outputs_hidden": true
    },
    "scrolled": true
   },
   "outputs": [
    {
     "name": "stdout",
     "output_type": "stream",
     "text": [
      "[1]\tvalid_0's rmse: 3031.4\tvalid_0's l2: 9.18941e+06\n",
      "Training until validation scores don't improve for 50 rounds\n",
      "[2]\tvalid_0's rmse: 2408.66\tvalid_0's l2: 5.80162e+06\n",
      "[3]\tvalid_0's rmse: 2094.2\tvalid_0's l2: 4.38568e+06\n",
      "[4]\tvalid_0's rmse: 1916.19\tvalid_0's l2: 3.67177e+06\n",
      "[5]\tvalid_0's rmse: 1814.75\tvalid_0's l2: 3.2933e+06\n",
      "[6]\tvalid_0's rmse: 1741.93\tvalid_0's l2: 3.0343e+06\n",
      "[7]\tvalid_0's rmse: 1703.42\tvalid_0's l2: 2.90165e+06\n",
      "[8]\tvalid_0's rmse: 1674.3\tvalid_0's l2: 2.80328e+06\n",
      "[9]\tvalid_0's rmse: 1650.47\tvalid_0's l2: 2.72406e+06\n",
      "[10]\tvalid_0's rmse: 1641.49\tvalid_0's l2: 2.6945e+06\n",
      "[11]\tvalid_0's rmse: 1627.91\tvalid_0's l2: 2.65008e+06\n",
      "[12]\tvalid_0's rmse: 1617.78\tvalid_0's l2: 2.61723e+06\n",
      "[13]\tvalid_0's rmse: 1608.35\tvalid_0's l2: 2.58677e+06\n",
      "[14]\tvalid_0's rmse: 1599.08\tvalid_0's l2: 2.55705e+06\n",
      "[15]\tvalid_0's rmse: 1590.73\tvalid_0's l2: 2.53043e+06\n",
      "[16]\tvalid_0's rmse: 1577.07\tvalid_0's l2: 2.48715e+06\n",
      "[17]\tvalid_0's rmse: 1571.43\tvalid_0's l2: 2.46938e+06\n",
      "[18]\tvalid_0's rmse: 1564.02\tvalid_0's l2: 2.44617e+06\n",
      "[19]\tvalid_0's rmse: 1560.3\tvalid_0's l2: 2.43454e+06\n",
      "[20]\tvalid_0's rmse: 1555.66\tvalid_0's l2: 2.42007e+06\n",
      "[21]\tvalid_0's rmse: 1549.62\tvalid_0's l2: 2.40131e+06\n",
      "[22]\tvalid_0's rmse: 1546.61\tvalid_0's l2: 2.39199e+06\n",
      "[23]\tvalid_0's rmse: 1544.71\tvalid_0's l2: 2.38611e+06\n",
      "[24]\tvalid_0's rmse: 1540.18\tvalid_0's l2: 2.37217e+06\n",
      "[25]\tvalid_0's rmse: 1535.94\tvalid_0's l2: 2.35912e+06\n",
      "[26]\tvalid_0's rmse: 1531.21\tvalid_0's l2: 2.3446e+06\n",
      "[27]\tvalid_0's rmse: 1527.86\tvalid_0's l2: 2.33437e+06\n",
      "[28]\tvalid_0's rmse: 1523.8\tvalid_0's l2: 2.32197e+06\n",
      "[29]\tvalid_0's rmse: 1522.24\tvalid_0's l2: 2.31721e+06\n",
      "[30]\tvalid_0's rmse: 1517.68\tvalid_0's l2: 2.30336e+06\n",
      "[31]\tvalid_0's rmse: 1517.25\tvalid_0's l2: 2.30204e+06\n",
      "[32]\tvalid_0's rmse: 1514.81\tvalid_0's l2: 2.29464e+06\n",
      "[33]\tvalid_0's rmse: 1512.53\tvalid_0's l2: 2.28773e+06\n",
      "[34]\tvalid_0's rmse: 1510.31\tvalid_0's l2: 2.28104e+06\n",
      "[35]\tvalid_0's rmse: 1509.47\tvalid_0's l2: 2.27851e+06\n",
      "[36]\tvalid_0's rmse: 1508.33\tvalid_0's l2: 2.27504e+06\n",
      "[37]\tvalid_0's rmse: 1507.92\tvalid_0's l2: 2.27383e+06\n",
      "[38]\tvalid_0's rmse: 1506.7\tvalid_0's l2: 2.27015e+06\n",
      "[39]\tvalid_0's rmse: 1505.33\tvalid_0's l2: 2.26603e+06\n",
      "[40]\tvalid_0's rmse: 1501.78\tvalid_0's l2: 2.25535e+06\n",
      "[41]\tvalid_0's rmse: 1500.04\tvalid_0's l2: 2.25011e+06\n",
      "[42]\tvalid_0's rmse: 1499.26\tvalid_0's l2: 2.24779e+06\n",
      "[43]\tvalid_0's rmse: 1498.99\tvalid_0's l2: 2.24698e+06\n",
      "[44]\tvalid_0's rmse: 1496.69\tvalid_0's l2: 2.24008e+06\n",
      "[45]\tvalid_0's rmse: 1495.98\tvalid_0's l2: 2.23794e+06\n",
      "[46]\tvalid_0's rmse: 1494.42\tvalid_0's l2: 2.23328e+06\n",
      "[47]\tvalid_0's rmse: 1492.95\tvalid_0's l2: 2.22889e+06\n",
      "[48]\tvalid_0's rmse: 1490.48\tvalid_0's l2: 2.22152e+06\n",
      "[49]\tvalid_0's rmse: 1488.59\tvalid_0's l2: 2.21591e+06\n",
      "[50]\tvalid_0's rmse: 1487.92\tvalid_0's l2: 2.21392e+06\n",
      "[51]\tvalid_0's rmse: 1485.79\tvalid_0's l2: 2.20758e+06\n",
      "[52]\tvalid_0's rmse: 1485.25\tvalid_0's l2: 2.20596e+06\n",
      "[53]\tvalid_0's rmse: 1484.56\tvalid_0's l2: 2.20393e+06\n",
      "[54]\tvalid_0's rmse: 1483.17\tvalid_0's l2: 2.1998e+06\n",
      "[55]\tvalid_0's rmse: 1479.98\tvalid_0's l2: 2.19035e+06\n",
      "[56]\tvalid_0's rmse: 1478.83\tvalid_0's l2: 2.18694e+06\n",
      "[57]\tvalid_0's rmse: 1477.69\tvalid_0's l2: 2.18356e+06\n",
      "[58]\tvalid_0's rmse: 1477.31\tvalid_0's l2: 2.18246e+06\n",
      "[59]\tvalid_0's rmse: 1476.53\tvalid_0's l2: 2.18015e+06\n",
      "[60]\tvalid_0's rmse: 1475.33\tvalid_0's l2: 2.1766e+06\n",
      "[61]\tvalid_0's rmse: 1473.72\tvalid_0's l2: 2.17185e+06\n",
      "[62]\tvalid_0's rmse: 1473.58\tvalid_0's l2: 2.17145e+06\n",
      "[63]\tvalid_0's rmse: 1473.57\tvalid_0's l2: 2.1714e+06\n",
      "[64]\tvalid_0's rmse: 1473.5\tvalid_0's l2: 2.17119e+06\n",
      "[65]\tvalid_0's rmse: 1472.81\tvalid_0's l2: 2.16918e+06\n",
      "[66]\tvalid_0's rmse: 1472.58\tvalid_0's l2: 2.1685e+06\n",
      "[67]\tvalid_0's rmse: 1471.15\tvalid_0's l2: 2.16429e+06\n",
      "[68]\tvalid_0's rmse: 1470.74\tvalid_0's l2: 2.16308e+06\n",
      "[69]\tvalid_0's rmse: 1470.39\tvalid_0's l2: 2.16205e+06\n",
      "[70]\tvalid_0's rmse: 1470.07\tvalid_0's l2: 2.1611e+06\n",
      "[71]\tvalid_0's rmse: 1469.18\tvalid_0's l2: 2.15848e+06\n",
      "[72]\tvalid_0's rmse: 1469.04\tvalid_0's l2: 2.15808e+06\n",
      "[73]\tvalid_0's rmse: 1469.31\tvalid_0's l2: 2.15888e+06\n",
      "[74]\tvalid_0's rmse: 1469.32\tvalid_0's l2: 2.15889e+06\n",
      "[75]\tvalid_0's rmse: 1468.92\tvalid_0's l2: 2.15772e+06\n",
      "[76]\tvalid_0's rmse: 1468.26\tvalid_0's l2: 2.15578e+06\n",
      "[77]\tvalid_0's rmse: 1468.26\tvalid_0's l2: 2.15579e+06\n",
      "[78]\tvalid_0's rmse: 1467.94\tvalid_0's l2: 2.15485e+06\n",
      "[79]\tvalid_0's rmse: 1467.59\tvalid_0's l2: 2.15382e+06\n",
      "[80]\tvalid_0's rmse: 1467.35\tvalid_0's l2: 2.15311e+06\n",
      "[81]\tvalid_0's rmse: 1467.48\tvalid_0's l2: 2.1535e+06\n",
      "[82]\tvalid_0's rmse: 1466.23\tvalid_0's l2: 2.14983e+06\n",
      "[83]\tvalid_0's rmse: 1465.07\tvalid_0's l2: 2.14643e+06\n",
      "[84]\tvalid_0's rmse: 1464.69\tvalid_0's l2: 2.14532e+06\n",
      "[85]\tvalid_0's rmse: 1464.04\tvalid_0's l2: 2.14341e+06\n",
      "[86]\tvalid_0's rmse: 1463.88\tvalid_0's l2: 2.14295e+06\n",
      "[87]\tvalid_0's rmse: 1462.79\tvalid_0's l2: 2.13977e+06\n",
      "[88]\tvalid_0's rmse: 1461.89\tvalid_0's l2: 2.13711e+06\n",
      "[89]\tvalid_0's rmse: 1461.35\tvalid_0's l2: 2.13554e+06\n",
      "[90]\tvalid_0's rmse: 1460.58\tvalid_0's l2: 2.13329e+06\n",
      "[91]\tvalid_0's rmse: 1460.2\tvalid_0's l2: 2.13217e+06\n",
      "[92]\tvalid_0's rmse: 1460.02\tvalid_0's l2: 2.13165e+06\n",
      "[93]\tvalid_0's rmse: 1459.57\tvalid_0's l2: 2.13035e+06\n",
      "[94]\tvalid_0's rmse: 1459.26\tvalid_0's l2: 2.12945e+06\n",
      "[95]\tvalid_0's rmse: 1459.53\tvalid_0's l2: 2.13022e+06\n",
      "[96]\tvalid_0's rmse: 1458.82\tvalid_0's l2: 2.12815e+06\n",
      "[97]\tvalid_0's rmse: 1458.53\tvalid_0's l2: 2.12731e+06\n",
      "[98]\tvalid_0's rmse: 1458.66\tvalid_0's l2: 2.1277e+06\n",
      "[99]\tvalid_0's rmse: 1458.67\tvalid_0's l2: 2.12771e+06\n",
      "[100]\tvalid_0's rmse: 1458.35\tvalid_0's l2: 2.12677e+06\n",
      "[101]\tvalid_0's rmse: 1457.8\tvalid_0's l2: 2.12518e+06\n",
      "[102]\tvalid_0's rmse: 1457.34\tvalid_0's l2: 2.12383e+06\n",
      "[103]\tvalid_0's rmse: 1457.18\tvalid_0's l2: 2.12337e+06\n",
      "[104]\tvalid_0's rmse: 1456.59\tvalid_0's l2: 2.12165e+06\n",
      "[105]\tvalid_0's rmse: 1456.26\tvalid_0's l2: 2.12069e+06\n",
      "[106]\tvalid_0's rmse: 1455.69\tvalid_0's l2: 2.11904e+06\n",
      "[107]\tvalid_0's rmse: 1455.6\tvalid_0's l2: 2.11877e+06\n",
      "[108]\tvalid_0's rmse: 1454.66\tvalid_0's l2: 2.11603e+06\n",
      "[109]\tvalid_0's rmse: 1454.46\tvalid_0's l2: 2.11546e+06\n",
      "[110]\tvalid_0's rmse: 1454\tvalid_0's l2: 2.11411e+06\n",
      "[111]\tvalid_0's rmse: 1453.76\tvalid_0's l2: 2.11343e+06\n",
      "[112]\tvalid_0's rmse: 1453.63\tvalid_0's l2: 2.11304e+06\n",
      "[113]\tvalid_0's rmse: 1453.61\tvalid_0's l2: 2.11298e+06\n",
      "[114]\tvalid_0's rmse: 1453.51\tvalid_0's l2: 2.11268e+06\n",
      "[115]\tvalid_0's rmse: 1453.44\tvalid_0's l2: 2.11249e+06\n",
      "[116]\tvalid_0's rmse: 1453.57\tvalid_0's l2: 2.11286e+06\n",
      "[117]\tvalid_0's rmse: 1453.42\tvalid_0's l2: 2.11242e+06\n",
      "[118]\tvalid_0's rmse: 1453.15\tvalid_0's l2: 2.11163e+06\n",
      "[119]\tvalid_0's rmse: 1453.08\tvalid_0's l2: 2.11144e+06\n",
      "[120]\tvalid_0's rmse: 1453.09\tvalid_0's l2: 2.11146e+06\n",
      "[121]\tvalid_0's rmse: 1452.78\tvalid_0's l2: 2.11057e+06\n",
      "[122]\tvalid_0's rmse: 1452.34\tvalid_0's l2: 2.1093e+06\n",
      "[123]\tvalid_0's rmse: 1451.99\tvalid_0's l2: 2.10829e+06\n",
      "[124]\tvalid_0's rmse: 1451.46\tvalid_0's l2: 2.10673e+06\n",
      "[125]\tvalid_0's rmse: 1450.96\tvalid_0's l2: 2.10527e+06\n",
      "[126]\tvalid_0's rmse: 1450.82\tvalid_0's l2: 2.10489e+06\n",
      "[127]\tvalid_0's rmse: 1450.94\tvalid_0's l2: 2.10521e+06\n",
      "[128]\tvalid_0's rmse: 1451.07\tvalid_0's l2: 2.1056e+06\n",
      "[129]\tvalid_0's rmse: 1451.11\tvalid_0's l2: 2.10571e+06\n",
      "[130]\tvalid_0's rmse: 1450.62\tvalid_0's l2: 2.1043e+06\n",
      "[131]\tvalid_0's rmse: 1450.26\tvalid_0's l2: 2.10326e+06\n",
      "[132]\tvalid_0's rmse: 1450.32\tvalid_0's l2: 2.10343e+06\n",
      "[133]\tvalid_0's rmse: 1449.63\tvalid_0's l2: 2.10144e+06\n",
      "[134]\tvalid_0's rmse: 1449.4\tvalid_0's l2: 2.10077e+06\n",
      "[135]\tvalid_0's rmse: 1449.37\tvalid_0's l2: 2.10068e+06\n",
      "[136]\tvalid_0's rmse: 1449.28\tvalid_0's l2: 2.1004e+06\n",
      "[137]\tvalid_0's rmse: 1449.73\tvalid_0's l2: 2.10172e+06\n",
      "[138]\tvalid_0's rmse: 1449.47\tvalid_0's l2: 2.10098e+06\n",
      "[139]\tvalid_0's rmse: 1448.9\tvalid_0's l2: 2.09932e+06\n",
      "[140]\tvalid_0's rmse: 1448.09\tvalid_0's l2: 2.09697e+06\n",
      "[141]\tvalid_0's rmse: 1448.07\tvalid_0's l2: 2.0969e+06\n",
      "[142]\tvalid_0's rmse: 1447.97\tvalid_0's l2: 2.09661e+06\n",
      "[143]\tvalid_0's rmse: 1447.94\tvalid_0's l2: 2.09654e+06\n",
      "[144]\tvalid_0's rmse: 1447.82\tvalid_0's l2: 2.09617e+06\n",
      "[145]\tvalid_0's rmse: 1447.31\tvalid_0's l2: 2.09471e+06\n",
      "[146]\tvalid_0's rmse: 1447.02\tvalid_0's l2: 2.09386e+06\n",
      "[147]\tvalid_0's rmse: 1446.55\tvalid_0's l2: 2.0925e+06\n",
      "[148]\tvalid_0's rmse: 1446.11\tvalid_0's l2: 2.09123e+06\n",
      "[149]\tvalid_0's rmse: 1446.05\tvalid_0's l2: 2.09107e+06\n",
      "[150]\tvalid_0's rmse: 1445.97\tvalid_0's l2: 2.09083e+06\n",
      "[151]\tvalid_0's rmse: 1445.33\tvalid_0's l2: 2.08898e+06\n",
      "[152]\tvalid_0's rmse: 1445.24\tvalid_0's l2: 2.08871e+06\n",
      "[153]\tvalid_0's rmse: 1445.15\tvalid_0's l2: 2.08846e+06\n",
      "[154]\tvalid_0's rmse: 1444.96\tvalid_0's l2: 2.0879e+06\n",
      "[155]\tvalid_0's rmse: 1444.77\tvalid_0's l2: 2.08735e+06\n",
      "[156]\tvalid_0's rmse: 1444.95\tvalid_0's l2: 2.08787e+06\n",
      "[157]\tvalid_0's rmse: 1444.97\tvalid_0's l2: 2.08795e+06\n",
      "[158]\tvalid_0's rmse: 1444.13\tvalid_0's l2: 2.08552e+06\n",
      "[159]\tvalid_0's rmse: 1443.63\tvalid_0's l2: 2.08408e+06\n",
      "[160]\tvalid_0's rmse: 1443.53\tvalid_0's l2: 2.08378e+06\n",
      "[161]\tvalid_0's rmse: 1443.62\tvalid_0's l2: 2.08403e+06\n",
      "[162]\tvalid_0's rmse: 1443.1\tvalid_0's l2: 2.08254e+06\n",
      "[163]\tvalid_0's rmse: 1443.1\tvalid_0's l2: 2.08255e+06\n",
      "[164]\tvalid_0's rmse: 1442.67\tvalid_0's l2: 2.0813e+06\n",
      "[165]\tvalid_0's rmse: 1442.6\tvalid_0's l2: 2.08109e+06\n",
      "[166]\tvalid_0's rmse: 1442.54\tvalid_0's l2: 2.08092e+06\n",
      "[167]\tvalid_0's rmse: 1442.34\tvalid_0's l2: 2.08034e+06\n",
      "[168]\tvalid_0's rmse: 1442.33\tvalid_0's l2: 2.08032e+06\n",
      "[169]\tvalid_0's rmse: 1442.17\tvalid_0's l2: 2.07985e+06\n",
      "[170]\tvalid_0's rmse: 1442.26\tvalid_0's l2: 2.08011e+06\n",
      "[171]\tvalid_0's rmse: 1442.21\tvalid_0's l2: 2.07998e+06\n",
      "[172]\tvalid_0's rmse: 1442.34\tvalid_0's l2: 2.08035e+06\n",
      "[173]\tvalid_0's rmse: 1442.41\tvalid_0's l2: 2.08055e+06\n",
      "[174]\tvalid_0's rmse: 1442.36\tvalid_0's l2: 2.0804e+06\n",
      "[175]\tvalid_0's rmse: 1442.43\tvalid_0's l2: 2.08061e+06\n",
      "[176]\tvalid_0's rmse: 1442.34\tvalid_0's l2: 2.08034e+06\n",
      "[177]\tvalid_0's rmse: 1442.28\tvalid_0's l2: 2.08018e+06\n",
      "[178]\tvalid_0's rmse: 1442.19\tvalid_0's l2: 2.07991e+06\n",
      "[179]\tvalid_0's rmse: 1442.17\tvalid_0's l2: 2.07986e+06\n",
      "[180]\tvalid_0's rmse: 1441.82\tvalid_0's l2: 2.07885e+06\n",
      "[181]\tvalid_0's rmse: 1441.67\tvalid_0's l2: 2.07842e+06\n",
      "[182]\tvalid_0's rmse: 1441.58\tvalid_0's l2: 2.07814e+06\n",
      "[183]\tvalid_0's rmse: 1441.61\tvalid_0's l2: 2.07823e+06\n",
      "[184]\tvalid_0's rmse: 1441.75\tvalid_0's l2: 2.07865e+06\n",
      "[185]\tvalid_0's rmse: 1441.57\tvalid_0's l2: 2.07812e+06\n",
      "[186]\tvalid_0's rmse: 1441.73\tvalid_0's l2: 2.07857e+06\n",
      "[187]\tvalid_0's rmse: 1441.69\tvalid_0's l2: 2.07848e+06\n",
      "[188]\tvalid_0's rmse: 1441.85\tvalid_0's l2: 2.07894e+06\n",
      "[189]\tvalid_0's rmse: 1441.79\tvalid_0's l2: 2.07876e+06\n",
      "[190]\tvalid_0's rmse: 1441.85\tvalid_0's l2: 2.07893e+06\n",
      "[191]\tvalid_0's rmse: 1441.62\tvalid_0's l2: 2.07827e+06\n",
      "[192]\tvalid_0's rmse: 1441.16\tvalid_0's l2: 2.07695e+06\n",
      "[193]\tvalid_0's rmse: 1440.87\tvalid_0's l2: 2.07611e+06\n",
      "[194]\tvalid_0's rmse: 1440.47\tvalid_0's l2: 2.07496e+06\n",
      "[195]\tvalid_0's rmse: 1440.31\tvalid_0's l2: 2.0745e+06\n",
      "[196]\tvalid_0's rmse: 1440.28\tvalid_0's l2: 2.07441e+06\n",
      "[197]\tvalid_0's rmse: 1440.21\tvalid_0's l2: 2.07421e+06\n",
      "[198]\tvalid_0's rmse: 1439.94\tvalid_0's l2: 2.07344e+06\n",
      "[199]\tvalid_0's rmse: 1439.96\tvalid_0's l2: 2.07349e+06\n",
      "[200]\tvalid_0's rmse: 1440.07\tvalid_0's l2: 2.07381e+06\n",
      "[201]\tvalid_0's rmse: 1439.94\tvalid_0's l2: 2.07343e+06\n",
      "[202]\tvalid_0's rmse: 1439.88\tvalid_0's l2: 2.07324e+06\n",
      "[203]\tvalid_0's rmse: 1439.87\tvalid_0's l2: 2.07322e+06\n",
      "[204]\tvalid_0's rmse: 1439.96\tvalid_0's l2: 2.07348e+06\n",
      "[205]\tvalid_0's rmse: 1439.95\tvalid_0's l2: 2.07347e+06\n",
      "[206]\tvalid_0's rmse: 1439.95\tvalid_0's l2: 2.07345e+06\n",
      "[207]\tvalid_0's rmse: 1439.99\tvalid_0's l2: 2.07358e+06\n",
      "[208]\tvalid_0's rmse: 1440\tvalid_0's l2: 2.07361e+06\n",
      "[209]\tvalid_0's rmse: 1439.98\tvalid_0's l2: 2.07354e+06\n",
      "[210]\tvalid_0's rmse: 1439.82\tvalid_0's l2: 2.07307e+06\n",
      "[211]\tvalid_0's rmse: 1439.97\tvalid_0's l2: 2.0735e+06\n",
      "[212]\tvalid_0's rmse: 1440.03\tvalid_0's l2: 2.07368e+06\n",
      "[213]\tvalid_0's rmse: 1439.96\tvalid_0's l2: 2.0735e+06\n",
      "[214]\tvalid_0's rmse: 1439.79\tvalid_0's l2: 2.07299e+06\n",
      "[215]\tvalid_0's rmse: 1439.36\tvalid_0's l2: 2.07176e+06\n",
      "[216]\tvalid_0's rmse: 1439.08\tvalid_0's l2: 2.07096e+06\n",
      "[217]\tvalid_0's rmse: 1439.18\tvalid_0's l2: 2.07125e+06\n",
      "[218]\tvalid_0's rmse: 1439\tvalid_0's l2: 2.07072e+06\n",
      "[219]\tvalid_0's rmse: 1438.8\tvalid_0's l2: 2.07014e+06\n",
      "[220]\tvalid_0's rmse: 1438.61\tvalid_0's l2: 2.06959e+06\n",
      "[221]\tvalid_0's rmse: 1438.42\tvalid_0's l2: 2.06904e+06\n",
      "[222]\tvalid_0's rmse: 1438.29\tvalid_0's l2: 2.06868e+06\n",
      "[223]\tvalid_0's rmse: 1438.03\tvalid_0's l2: 2.06792e+06\n",
      "[224]\tvalid_0's rmse: 1438.07\tvalid_0's l2: 2.06806e+06\n",
      "[225]\tvalid_0's rmse: 1437.73\tvalid_0's l2: 2.06707e+06\n",
      "[226]\tvalid_0's rmse: 1437.53\tvalid_0's l2: 2.06648e+06\n",
      "[227]\tvalid_0's rmse: 1437.49\tvalid_0's l2: 2.06636e+06\n",
      "[228]\tvalid_0's rmse: 1437.38\tvalid_0's l2: 2.06606e+06\n",
      "[229]\tvalid_0's rmse: 1437.14\tvalid_0's l2: 2.06536e+06\n",
      "[230]\tvalid_0's rmse: 1437.17\tvalid_0's l2: 2.06547e+06\n",
      "[231]\tvalid_0's rmse: 1437.25\tvalid_0's l2: 2.06568e+06\n",
      "[232]\tvalid_0's rmse: 1437.18\tvalid_0's l2: 2.06549e+06\n",
      "[233]\tvalid_0's rmse: 1436.96\tvalid_0's l2: 2.06486e+06\n",
      "[234]\tvalid_0's rmse: 1436.59\tvalid_0's l2: 2.06379e+06\n",
      "[235]\tvalid_0's rmse: 1436.36\tvalid_0's l2: 2.06314e+06\n",
      "[236]\tvalid_0's rmse: 1436.29\tvalid_0's l2: 2.06292e+06\n",
      "[237]\tvalid_0's rmse: 1436.09\tvalid_0's l2: 2.06235e+06\n",
      "[238]\tvalid_0's rmse: 1435.99\tvalid_0's l2: 2.06207e+06\n",
      "[239]\tvalid_0's rmse: 1436.12\tvalid_0's l2: 2.06244e+06\n",
      "[240]\tvalid_0's rmse: 1436.01\tvalid_0's l2: 2.06213e+06\n",
      "[241]\tvalid_0's rmse: 1435.99\tvalid_0's l2: 2.06207e+06\n",
      "[242]\tvalid_0's rmse: 1435.9\tvalid_0's l2: 2.06182e+06\n",
      "[243]\tvalid_0's rmse: 1436.03\tvalid_0's l2: 2.06217e+06\n",
      "[244]\tvalid_0's rmse: 1436\tvalid_0's l2: 2.0621e+06\n",
      "[245]\tvalid_0's rmse: 1435.74\tvalid_0's l2: 2.06135e+06\n",
      "[246]\tvalid_0's rmse: 1435.71\tvalid_0's l2: 2.06125e+06\n",
      "[247]\tvalid_0's rmse: 1435.74\tvalid_0's l2: 2.06135e+06\n",
      "[248]\tvalid_0's rmse: 1435.72\tvalid_0's l2: 2.0613e+06\n",
      "[249]\tvalid_0's rmse: 1435.59\tvalid_0's l2: 2.06091e+06\n",
      "[250]\tvalid_0's rmse: 1435.59\tvalid_0's l2: 2.06091e+06\n",
      "[251]\tvalid_0's rmse: 1435.56\tvalid_0's l2: 2.06083e+06\n",
      "[252]\tvalid_0's rmse: 1435.49\tvalid_0's l2: 2.06063e+06\n",
      "[253]\tvalid_0's rmse: 1435.12\tvalid_0's l2: 2.05957e+06\n",
      "[254]\tvalid_0's rmse: 1435.2\tvalid_0's l2: 2.0598e+06\n",
      "[255]\tvalid_0's rmse: 1435.53\tvalid_0's l2: 2.06075e+06\n",
      "[256]\tvalid_0's rmse: 1435.38\tvalid_0's l2: 2.06032e+06\n",
      "[257]\tvalid_0's rmse: 1435.16\tvalid_0's l2: 2.05968e+06\n",
      "[258]\tvalid_0's rmse: 1434.95\tvalid_0's l2: 2.05907e+06\n",
      "[259]\tvalid_0's rmse: 1434.96\tvalid_0's l2: 2.0591e+06\n",
      "[260]\tvalid_0's rmse: 1434.6\tvalid_0's l2: 2.05809e+06\n",
      "[261]\tvalid_0's rmse: 1434.55\tvalid_0's l2: 2.05794e+06\n",
      "[262]\tvalid_0's rmse: 1434.21\tvalid_0's l2: 2.05695e+06\n",
      "[263]\tvalid_0's rmse: 1434.1\tvalid_0's l2: 2.05664e+06\n",
      "[264]\tvalid_0's rmse: 1433.88\tvalid_0's l2: 2.05602e+06\n",
      "[265]\tvalid_0's rmse: 1433.68\tvalid_0's l2: 2.05543e+06\n",
      "[266]\tvalid_0's rmse: 1433.67\tvalid_0's l2: 2.0554e+06\n",
      "[267]\tvalid_0's rmse: 1433.6\tvalid_0's l2: 2.05522e+06\n",
      "[268]\tvalid_0's rmse: 1433.51\tvalid_0's l2: 2.05496e+06\n",
      "[269]\tvalid_0's rmse: 1433.58\tvalid_0's l2: 2.05514e+06\n",
      "[270]\tvalid_0's rmse: 1433.59\tvalid_0's l2: 2.05517e+06\n",
      "[271]\tvalid_0's rmse: 1433.53\tvalid_0's l2: 2.05501e+06\n",
      "[272]\tvalid_0's rmse: 1433.47\tvalid_0's l2: 2.05483e+06\n",
      "[273]\tvalid_0's rmse: 1433.64\tvalid_0's l2: 2.05534e+06\n",
      "[274]\tvalid_0's rmse: 1433.64\tvalid_0's l2: 2.05531e+06\n",
      "[275]\tvalid_0's rmse: 1433.81\tvalid_0's l2: 2.0558e+06\n",
      "[276]\tvalid_0's rmse: 1433.67\tvalid_0's l2: 2.05542e+06\n",
      "[277]\tvalid_0's rmse: 1433.51\tvalid_0's l2: 2.05494e+06\n",
      "[278]\tvalid_0's rmse: 1433.73\tvalid_0's l2: 2.05558e+06\n",
      "[279]\tvalid_0's rmse: 1433.56\tvalid_0's l2: 2.05509e+06\n",
      "[280]\tvalid_0's rmse: 1433.31\tvalid_0's l2: 2.05439e+06\n",
      "[281]\tvalid_0's rmse: 1433.34\tvalid_0's l2: 2.05445e+06\n",
      "[282]\tvalid_0's rmse: 1433.26\tvalid_0's l2: 2.05424e+06\n",
      "[283]\tvalid_0's rmse: 1433.13\tvalid_0's l2: 2.05387e+06\n",
      "[284]\tvalid_0's rmse: 1433.21\tvalid_0's l2: 2.05409e+06\n",
      "[285]\tvalid_0's rmse: 1433.21\tvalid_0's l2: 2.05409e+06\n",
      "[286]\tvalid_0's rmse: 1433.24\tvalid_0's l2: 2.05417e+06\n",
      "[287]\tvalid_0's rmse: 1433.03\tvalid_0's l2: 2.05358e+06\n",
      "[288]\tvalid_0's rmse: 1432.8\tvalid_0's l2: 2.05292e+06\n",
      "[289]\tvalid_0's rmse: 1432.64\tvalid_0's l2: 2.05247e+06\n",
      "[290]\tvalid_0's rmse: 1432.56\tvalid_0's l2: 2.05224e+06\n",
      "[291]\tvalid_0's rmse: 1431.96\tvalid_0's l2: 2.05052e+06\n",
      "[292]\tvalid_0's rmse: 1431.92\tvalid_0's l2: 2.05041e+06\n",
      "[293]\tvalid_0's rmse: 1431.98\tvalid_0's l2: 2.05055e+06\n",
      "[294]\tvalid_0's rmse: 1432.03\tvalid_0's l2: 2.05072e+06\n",
      "[295]\tvalid_0's rmse: 1432.04\tvalid_0's l2: 2.05073e+06\n",
      "[296]\tvalid_0's rmse: 1431.99\tvalid_0's l2: 2.05061e+06\n",
      "[297]\tvalid_0's rmse: 1432.23\tvalid_0's l2: 2.0513e+06\n",
      "[298]\tvalid_0's rmse: 1432.27\tvalid_0's l2: 2.05139e+06\n",
      "[299]\tvalid_0's rmse: 1432.21\tvalid_0's l2: 2.05123e+06\n",
      "[300]\tvalid_0's rmse: 1432.24\tvalid_0's l2: 2.05131e+06\n",
      "Did not meet early stopping. Best iteration is:\n",
      "[292]\tvalid_0's rmse: 1431.92\tvalid_0's l2: 2.05041e+06\n",
      "CPU times: user 11 s, sys: 80 ms, total: 11.1 s\n",
      "Wall time: 2.9 s\n"
     ]
    },
    {
     "data": {
      "text/plain": [
       "1431.9241664531037"
      ]
     },
     "metadata": {},
     "output_type": "display_data"
    }
   ],
   "source": [
    "%%time\n",
    "model = LGBMRegressor(n_estimators=300, random_state=12345, learning_rate=0.41, n_jobs=-1, num_leaves=62, reg_lambda=8, min_child_samples=2)\n",
    "score_(model, X_train_enc, X_test_enc, y_train_enc, y_test_enc, 50, \"root_mean_squared_error\")"
   ]
  },
  {
   "cell_type": "raw",
   "metadata": {
    "cellId": "q8ctg8coigi6rekn1rr5"
   },
   "source": [
    "*"
   ]
  },
  {
   "cell_type": "markdown",
   "metadata": {
    "cellId": "sfrzjhn3w3klyf3z7xeum"
   },
   "source": [
    "###  Определяем важность признаков"
   ]
  },
  {
   "cell_type": "code",
   "execution_count": 610,
   "metadata": {
    "cellId": "488166ltkawaf7eoyrs4gb"
   },
   "outputs": [
    {
     "data": {
      "text/plain": [
       "RandomForestRegressor(bootstrap=True, criterion='mse', max_depth=None,\n",
       "                      max_features='auto', max_leaf_nodes=None,\n",
       "                      min_impurity_decrease=0.0, min_impurity_split=None,\n",
       "                      min_samples_leaf=1, min_samples_split=2,\n",
       "                      min_weight_fraction_leaf=0.0, n_estimators=10, n_jobs=-1,\n",
       "                      oob_score=False, random_state=12345, verbose=0,\n",
       "                      warm_start=False)"
      ]
     },
     "metadata": {},
     "output_type": "display_data"
    }
   ],
   "source": [
    "feature_names = X_train_enc.columns\n",
    "forest = RandomForestRegressor(random_state=12345, criterion= 'mse', n_estimators=10, n_jobs=-1)\n",
    "forest.fit(X_train_enc, y_train_enc)"
   ]
  },
  {
   "cell_type": "code",
   "execution_count": 611,
   "metadata": {
    "cellId": "rx8zsucygsexzoj5et2wmq"
   },
   "outputs": [
    {
     "name": "stdout",
     "output_type": "stream",
     "text": [
      "Elapsed time to compute the importances: 0.141 seconds\n"
     ]
    }
   ],
   "source": [
    "import time\n",
    "\n",
    "start_time = time.time()\n",
    "importances = forest.feature_importances_\n",
    "std = np.std([tree.feature_importances_ for tree in forest.estimators_], axis=0)\n",
    "elapsed_time = time.time() - start_time\n",
    "\n",
    "print(f\"Elapsed time to compute the importances: {elapsed_time:.3f} seconds\")"
   ]
  },
  {
   "cell_type": "code",
   "execution_count": 612,
   "metadata": {
    "cellId": "s2joowji84efv4bcqz9tl"
   },
   "outputs": [
    {
     "data": {
      "image/png": "[encoded data removed]",
      "text/plain": [
       "<Figure size 432x288 with 1 Axes>"
      ]
     },
     "metadata": {
      "needs_background": "light"
     },
     "output_type": "display_data"
    }
   ],
   "source": [
    "forest_importances = pd.Series(importances, index=feature_names)\n",
    "\n",
    "fig, ax = plt.subplots()\n",
    "forest_importances.plot.bar(yerr=std, ax=ax)\n",
    "ax.set_title(\"Feature importances using MDI\")\n",
    "ax.set_ylabel(\"Mean decrease in impurity\")\n",
    "fig.tight_layout()"
   ]
  },
  {
   "cell_type": "markdown",
   "metadata": {},
   "source": [
    "## Градиентный бустинг с LGBM без категоризации и чистки:"
   ]
  },
  {
   "cell_type": "code",
   "execution_count": 38,
   "metadata": {
    "cellId": "jw0fgy2iroed879gxt75uj"
   },
   "outputs": [],
   "source": [
    "df = pd.read_csv('autos.csv')\n",
    "X_ = df.drop(['DateCrawled', 'DateCreated', 'LastSeen', 'NumberOfPictures', 'Price'], axis=1)\n",
    "y_ = df['Price']\n",
    "X_train, X_test, y_train, y_test = train_test_split(X_, y_, test_size=0.25, random_state=12345)"
   ]
  },
  {
   "cell_type": "raw",
   "metadata": {
    "cellId": "ol1049lpcat1uqrqg95ai"
   },
   "source": [
    "%%time\n",
    "cat_features = ['VehicleType', 'Gearbox', 'Model', 'FuelType', 'NotRepaired', 'Brand']  #(надо их перевестив category)\n",
    "\n",
    "\n",
    "model_LGBMR = LGBMRegressor(max_depth=14, \n",
    "                            n_estimators=120, \n",
    "                            random_state=12345, \n",
    "                            objective='regression',\n",
    "                            num_leaves=1400,\n",
    "                            metric='rmse')\n",
    "model_LGBMR.fit(X_train, y_train, categorical_feature=cat_features, verbose=10)\n",
    "predictions_valid = model_LGBMR.predict(X_test, num_iteration=2)\n",
    "print(mean_squared_error(predictions_valid, y_test) ** 0.5)"
   ]
  },
  {
   "cell_type": "markdown",
   "metadata": {
    "cellId": "b3i0kallg9qkale9gzakee"
   },
   "source": [
    "## Анализ моделей"
   ]
  },
  {
   "cell_type": "markdown",
   "metadata": {
    "cellId": "mofspe3hncko0fpw03mr1"
   },
   "source": [
    "#### Вывод:\n",
    "Слабые модели, такие как Линейная регрессия или дерево решений не могут адекватно произвести предсказание. Случайный лес дает плохое качество и обучается слишком долго. XGBoost и LGBM дают приемлемое качество, но LGBM обучается быстрей (предсказывает также быстро). С помощью настройки гиперпараметров удалось достичь метрики RMSE 1694."
   ]
  },
  {
   "cell_type": "markdown",
   "metadata": {
    "cellId": "weodkyyukwkkihkbhijz5"
   },
   "source": [
    "## Чек-лист проверки"
   ]
  },
  {
   "cell_type": "markdown",
   "metadata": {
    "cellId": "9kk360czi7dxyl54qp1pce"
   },
   "source": [
    "Поставьте 'x' в выполненных пунктах. Далее нажмите Shift+Enter."
   ]
  },
  {
   "cell_type": "markdown",
   "metadata": {
    "cellId": "vuzy9oujahn2cwfayaikxd"
   },
   "source": [
    "- [x]  Jupyter Notebook открыт\n",
    "- [x]  Весь код выполняется без ошибок\n",
    "- [x]  Ячейки с кодом расположены в порядке исполнения\n",
    "- [x]  Выполнена загрузка и подготовка данных\n",
    "- [x]  Выполнено обучение моделей\n",
    "- [x]  Есть анализ скорости работы и качества моделей"
   ]
  }
 ],
 "metadata": {
  "ExecuteTimeLog": [
   {
    "duration": 1943,
    "start_time": "2021-12-07T17:27:57.776Z"
   },
   {
    "duration": 4,
    "start_time": "2021-12-07T17:28:02.833Z"
   },
   {
    "duration": 2207,
    "start_time": "2021-12-07T17:28:08.516Z"
   },
   {
    "duration": 687,
    "start_time": "2021-12-07T17:28:34.168Z"
   },
   {
    "duration": 272,
    "start_time": "2021-12-07T17:29:10.399Z"
   },
   {
    "duration": 127,
    "start_time": "2021-12-07T17:29:11.414Z"
   },
   {
    "duration": 847,
    "start_time": "2021-12-07T17:29:12.127Z"
   },
   {
    "duration": 1134,
    "start_time": "2021-12-07T17:30:34.398Z"
   },
   {
    "duration": 110,
    "start_time": "2021-12-07T17:30:37.546Z"
   },
   {
    "duration": 689,
    "start_time": "2021-12-07T17:30:41.536Z"
   },
   {
    "duration": 194,
    "start_time": "2021-12-07T17:32:19.808Z"
   },
   {
    "duration": 862,
    "start_time": "2021-12-07T17:32:20.705Z"
   },
   {
    "duration": 180,
    "start_time": "2021-12-07T17:32:21.569Z"
   },
   {
    "duration": 5,
    "start_time": "2021-12-07T17:34:55.320Z"
   },
   {
    "duration": 3,
    "start_time": "2021-12-07T17:34:59.893Z"
   },
   {
    "duration": 13112,
    "start_time": "2021-12-07T17:35:00.562Z"
   },
   {
    "duration": 27022,
    "start_time": "2021-12-07T17:35:13.676Z"
   },
   {
    "duration": 191,
    "start_time": "2021-12-07T17:56:09.584Z"
   },
   {
    "duration": 1448,
    "start_time": "2021-12-07T17:56:54.664Z"
   },
   {
    "duration": 724,
    "start_time": "2021-12-07T17:57:52.767Z"
   },
   {
    "duration": 266,
    "start_time": "2021-12-07T17:57:54.638Z"
   },
   {
    "duration": 127,
    "start_time": "2021-12-07T17:57:55.112Z"
   },
   {
    "duration": 999,
    "start_time": "2021-12-07T17:57:55.307Z"
   },
   {
    "duration": 1140,
    "start_time": "2021-12-07T17:57:57.431Z"
   },
   {
    "duration": 115,
    "start_time": "2021-12-07T17:57:58.573Z"
   },
   {
    "duration": 681,
    "start_time": "2021-12-07T17:57:58.689Z"
   },
   {
    "duration": 185,
    "start_time": "2021-12-07T17:57:59.458Z"
   },
   {
    "duration": 688,
    "start_time": "2021-12-07T17:57:59.682Z"
   },
   {
    "duration": 191,
    "start_time": "2021-12-07T17:58:00.372Z"
   },
   {
    "duration": 3,
    "start_time": "2021-12-07T17:58:01.355Z"
   },
   {
    "duration": 3,
    "start_time": "2021-12-07T17:58:01.599Z"
   },
   {
    "duration": 11269,
    "start_time": "2021-12-07T17:58:01.995Z"
   },
   {
    "duration": 21924,
    "start_time": "2021-12-07T17:58:13.266Z"
   },
   {
    "duration": 316,
    "start_time": "2021-12-07T17:59:56.159Z"
   },
   {
    "duration": 3,
    "start_time": "2021-12-07T18:00:00.234Z"
   },
   {
    "duration": 224647,
    "start_time": "2021-12-07T18:00:00.757Z"
   },
   {
    "duration": 15118,
    "start_time": "2021-12-07T18:08:34.684Z"
   },
   {
    "duration": 4,
    "start_time": "2021-12-07T18:08:49.804Z"
   },
   {
    "duration": 110332,
    "start_time": "2021-12-07T18:10:39.996Z"
   },
   {
    "duration": 127664,
    "start_time": "2021-12-07T18:12:30.330Z"
   },
   {
    "duration": 182410,
    "start_time": "2021-12-07T18:14:37.996Z"
   },
   {
    "duration": 213290,
    "start_time": "2021-12-07T18:17:40.408Z"
   },
   {
    "duration": 136891,
    "start_time": "2021-12-07T18:21:13.700Z"
   },
   {
    "duration": 284703,
    "start_time": "2021-12-07T18:23:30.592Z"
   },
   {
    "duration": 16793,
    "start_time": "2021-12-07T18:28:15.297Z"
   },
   {
    "duration": 501,
    "start_time": "2021-12-07T18:28:32.092Z"
   },
   {
    "duration": 19136,
    "start_time": "2021-12-08T06:13:57.073Z"
   },
   {
    "duration": 1660,
    "start_time": "2021-12-08T06:14:16.212Z"
   },
   {
    "duration": 1375,
    "start_time": "2021-12-08T06:14:17.876Z"
   },
   {
    "duration": 543,
    "start_time": "2021-12-08T06:14:19.255Z"
   },
   {
    "duration": 217,
    "start_time": "2021-12-08T06:14:19.800Z"
   },
   {
    "duration": 1457,
    "start_time": "2021-12-08T06:14:20.020Z"
   },
   {
    "duration": 1936,
    "start_time": "2021-12-08T06:14:21.481Z"
   },
   {
    "duration": 201,
    "start_time": "2021-12-08T06:14:23.419Z"
   },
   {
    "duration": 1573,
    "start_time": "2021-12-08T06:14:23.624Z"
   },
   {
    "duration": 255,
    "start_time": "2021-12-08T06:14:25.201Z"
   },
   {
    "duration": 1242,
    "start_time": "2021-12-08T06:14:25.458Z"
   },
   {
    "duration": 308,
    "start_time": "2021-12-08T06:14:26.702Z"
   },
   {
    "duration": 5,
    "start_time": "2021-12-08T06:14:27.013Z"
   },
   {
    "duration": 8,
    "start_time": "2021-12-08T06:14:27.021Z"
   },
   {
    "duration": 17126,
    "start_time": "2021-12-08T06:14:27.032Z"
   },
   {
    "duration": 46306,
    "start_time": "2021-12-08T06:14:44.168Z"
   },
   {
    "duration": 108299,
    "start_time": "2021-12-08T06:15:30.477Z"
   },
   {
    "duration": 7,
    "start_time": "2021-12-08T06:17:18.780Z"
   },
   {
    "duration": 377983,
    "start_time": "2021-12-08T06:17:18.790Z"
   },
   {
    "duration": 21103,
    "start_time": "2021-12-08T06:23:36.776Z"
   },
   {
    "duration": 6,
    "start_time": "2021-12-08T06:23:57.882Z"
   },
   {
    "duration": 186683,
    "start_time": "2021-12-08T06:23:57.890Z"
   },
   {
    "duration": 232593,
    "start_time": "2021-12-08T06:27:04.576Z"
   },
   {
    "duration": 575998,
    "start_time": "2021-12-08T06:30:57.171Z"
   },
   {
    "duration": 375895,
    "start_time": "2021-12-08T06:40:33.172Z"
   },
   {
    "duration": 742638,
    "start_time": "2021-12-08T06:46:49.071Z"
   },
   {
    "duration": 405586,
    "start_time": "2021-12-08T06:59:11.713Z"
   },
   {
    "duration": 18484,
    "start_time": "2021-12-08T07:05:57.302Z"
   },
   {
    "duration": 791,
    "start_time": "2021-12-08T07:06:15.788Z"
   },
   {
    "duration": 131,
    "start_time": "2021-12-08T07:06:16.581Z"
   },
   {
    "duration": -37,
    "start_time": "2021-12-08T07:06:16.752Z"
   },
   {
    "duration": -37,
    "start_time": "2021-12-08T07:06:16.753Z"
   },
   {
    "duration": -38,
    "start_time": "2021-12-08T07:06:16.755Z"
   },
   {
    "duration": 10,
    "start_time": "2021-12-08T07:08:41.031Z"
   },
   {
    "duration": 324,
    "start_time": "2021-12-08T07:08:41.571Z"
   },
   {
    "duration": 3967,
    "start_time": "2021-12-08T07:08:48.669Z"
   },
   {
    "duration": 12,
    "start_time": "2021-12-08T07:08:53.184Z"
   },
   {
    "duration": 196,
    "start_time": "2021-12-08T07:08:53.633Z"
   },
   {
    "duration": 1390,
    "start_time": "2021-12-08T07:09:19.163Z"
   },
   {
    "duration": 9441,
    "start_time": "2021-12-08T07:09:37.448Z"
   },
   {
    "duration": 8,
    "start_time": "2021-12-08T07:09:46.893Z"
   },
   {
    "duration": 11,
    "start_time": "2021-12-08T07:09:50.033Z"
   },
   {
    "duration": 2393552,
    "start_time": "2021-12-08T07:09:50.348Z"
   },
   {
    "duration": 1557,
    "start_time": "2021-12-08T11:27:27.879Z"
   },
   {
    "duration": 1069,
    "start_time": "2021-12-08T11:27:40.551Z"
   },
   {
    "duration": 424,
    "start_time": "2021-12-08T11:27:44.766Z"
   },
   {
    "duration": 1781,
    "start_time": "2021-12-08T11:27:57.336Z"
   },
   {
    "duration": 10,
    "start_time": "2021-12-08T11:29:21.845Z"
   },
   {
    "duration": 27,
    "start_time": "2021-12-08T11:29:27.764Z"
   },
   {
    "duration": 5,
    "start_time": "2021-12-08T11:30:07.407Z"
   },
   {
    "duration": 5,
    "start_time": "2021-12-08T11:30:15.054Z"
   },
   {
    "duration": 16,
    "start_time": "2021-12-08T11:30:40.534Z"
   },
   {
    "duration": 1287,
    "start_time": "2021-12-08T11:30:55.495Z"
   },
   {
    "duration": 1480,
    "start_time": "2021-12-08T11:33:21.913Z"
   },
   {
    "duration": 226,
    "start_time": "2021-12-08T11:33:40.441Z"
   },
   {
    "duration": 1175,
    "start_time": "2021-12-08T11:33:41.130Z"
   },
   {
    "duration": 446,
    "start_time": "2021-12-08T11:33:42.308Z"
   },
   {
    "duration": 98,
    "start_time": "2021-12-08T11:34:09.078Z"
   },
   {
    "duration": 1524,
    "start_time": "2021-12-08T11:34:19.766Z"
   },
   {
    "duration": 230,
    "start_time": "2021-12-08T11:34:33.681Z"
   },
   {
    "duration": 1287,
    "start_time": "2021-12-08T11:34:34.184Z"
   },
   {
    "duration": 283,
    "start_time": "2021-12-08T11:34:36.301Z"
   },
   {
    "duration": 8,
    "start_time": "2021-12-08T11:34:39.593Z"
   },
   {
    "duration": 5,
    "start_time": "2021-12-08T11:34:40.914Z"
   },
   {
    "duration": 16195,
    "start_time": "2021-12-08T11:34:43.664Z"
   },
   {
    "duration": 30207,
    "start_time": "2021-12-08T11:34:59.862Z"
   },
   {
    "duration": 98864,
    "start_time": "2021-12-08T11:35:30.074Z"
   },
   {
    "duration": 12,
    "start_time": "2021-12-08T11:37:08.940Z"
   },
   {
    "duration": 297,
    "start_time": "2021-12-08T12:18:21.983Z"
   },
   {
    "duration": 395,
    "start_time": "2021-12-08T19:07:00.017Z"
   },
   {
    "duration": 1747,
    "start_time": "2021-12-08T19:07:14.092Z"
   },
   {
    "duration": 15119,
    "start_time": "2021-12-08T19:07:21.226Z"
   },
   {
    "duration": 659,
    "start_time": "2021-12-08T19:07:36.347Z"
   },
   {
    "duration": 4,
    "start_time": "2021-12-08T19:07:37.471Z"
   },
   {
    "duration": 747,
    "start_time": "2021-12-08T19:07:41.288Z"
   },
   {
    "duration": 13,
    "start_time": "2021-12-08T19:07:49.710Z"
   },
   {
    "duration": 4,
    "start_time": "2021-12-08T19:07:50.020Z"
   },
   {
    "duration": 272,
    "start_time": "2021-12-08T19:10:20.236Z"
   },
   {
    "duration": 128,
    "start_time": "2021-12-08T19:10:21.007Z"
   },
   {
    "duration": 912,
    "start_time": "2021-12-08T19:10:21.865Z"
   },
   {
    "duration": 1231,
    "start_time": "2021-12-08T19:10:29.774Z"
   },
   {
    "duration": 111,
    "start_time": "2021-12-08T19:10:31.584Z"
   },
   {
    "duration": 795,
    "start_time": "2021-12-08T19:10:31.697Z"
   },
   {
    "duration": 3,
    "start_time": "2021-12-08T19:10:34.307Z"
   },
   {
    "duration": 3,
    "start_time": "2021-12-08T19:10:44.016Z"
   },
   {
    "duration": 5,
    "start_time": "2021-12-08T19:11:14.517Z"
   },
   {
    "duration": 672,
    "start_time": "2021-12-08T19:13:12.817Z"
   },
   {
    "duration": 4,
    "start_time": "2021-12-08T19:13:46.256Z"
   },
   {
    "duration": 3,
    "start_time": "2021-12-08T19:14:57.208Z"
   },
   {
    "duration": 4128,
    "start_time": "2021-12-08T19:15:01.419Z"
   },
   {
    "duration": 9032,
    "start_time": "2021-12-08T19:16:02.130Z"
   },
   {
    "duration": 80,
    "start_time": "2021-12-08T19:16:53.160Z"
   },
   {
    "duration": 5,
    "start_time": "2021-12-08T19:17:12.337Z"
   },
   {
    "duration": 4,
    "start_time": "2021-12-08T19:17:35.730Z"
   },
   {
    "duration": 322,
    "start_time": "2021-12-08T19:18:09.255Z"
   },
   {
    "duration": 236,
    "start_time": "2021-12-08T19:18:19.546Z"
   },
   {
    "duration": 4418,
    "start_time": "2021-12-08T19:18:27.089Z"
   },
   {
    "duration": 389,
    "start_time": "2021-12-08T19:19:33.340Z"
   },
   {
    "duration": 408,
    "start_time": "2021-12-08T19:45:53.407Z"
   },
   {
    "duration": 8003,
    "start_time": "2021-12-08T19:47:09.438Z"
   },
   {
    "duration": 160,
    "start_time": "2021-12-08T19:48:24.214Z"
   },
   {
    "duration": 11,
    "start_time": "2021-12-08T19:48:43.267Z"
   },
   {
    "duration": 113,
    "start_time": "2021-12-08T19:50:00.317Z"
   },
   {
    "duration": 141,
    "start_time": "2021-12-08T19:50:28.537Z"
   },
   {
    "duration": 105,
    "start_time": "2021-12-08T19:50:48.917Z"
   },
   {
    "duration": 1913,
    "start_time": "2021-12-14T16:23:56.024Z"
   },
   {
    "duration": 16144,
    "start_time": "2021-12-14T16:24:18.464Z"
   },
   {
    "duration": 2343,
    "start_time": "2021-12-14T16:24:34.611Z"
   },
   {
    "duration": 1147,
    "start_time": "2021-12-14T16:24:36.957Z"
   },
   {
    "duration": 24,
    "start_time": "2021-12-14T16:24:38.107Z"
   },
   {
    "duration": 16,
    "start_time": "2021-12-14T16:24:38.133Z"
   },
   {
    "duration": 443,
    "start_time": "2021-12-14T16:24:38.152Z"
   },
   {
    "duration": 199,
    "start_time": "2021-12-14T16:24:38.598Z"
   },
   {
    "duration": 1295,
    "start_time": "2021-12-14T16:24:38.799Z"
   },
   {
    "duration": 1749,
    "start_time": "2021-12-14T16:24:40.098Z"
   },
   {
    "duration": 172,
    "start_time": "2021-12-14T16:24:41.850Z"
   },
   {
    "duration": 1541,
    "start_time": "2021-12-14T16:24:42.024Z"
   },
   {
    "duration": 79,
    "start_time": "2021-12-14T16:24:43.568Z"
   },
   {
    "duration": -126,
    "start_time": "2021-12-14T16:24:43.777Z"
   },
   {
    "duration": -126,
    "start_time": "2021-12-14T16:24:43.779Z"
   },
   {
    "duration": -126,
    "start_time": "2021-12-14T16:24:43.781Z"
   },
   {
    "duration": -126,
    "start_time": "2021-12-14T16:24:43.783Z"
   },
   {
    "duration": -127,
    "start_time": "2021-12-14T16:24:43.786Z"
   },
   {
    "duration": -126,
    "start_time": "2021-12-14T16:24:43.787Z"
   },
   {
    "duration": -127,
    "start_time": "2021-12-14T16:24:43.790Z"
   },
   {
    "duration": -149,
    "start_time": "2021-12-14T16:24:43.814Z"
   },
   {
    "duration": -150,
    "start_time": "2021-12-14T16:24:43.817Z"
   },
   {
    "duration": -149,
    "start_time": "2021-12-14T16:24:43.819Z"
   },
   {
    "duration": -149,
    "start_time": "2021-12-14T16:24:43.821Z"
   },
   {
    "duration": -148,
    "start_time": "2021-12-14T16:24:43.822Z"
   },
   {
    "duration": -148,
    "start_time": "2021-12-14T16:24:43.824Z"
   },
   {
    "duration": -148,
    "start_time": "2021-12-14T16:24:43.826Z"
   },
   {
    "duration": -148,
    "start_time": "2021-12-14T16:24:43.828Z"
   },
   {
    "duration": -147,
    "start_time": "2021-12-14T16:24:43.829Z"
   },
   {
    "duration": -148,
    "start_time": "2021-12-14T16:24:43.832Z"
   },
   {
    "duration": -147,
    "start_time": "2021-12-14T16:24:43.833Z"
   },
   {
    "duration": -146,
    "start_time": "2021-12-14T16:24:43.835Z"
   },
   {
    "duration": -120,
    "start_time": "2021-12-14T16:24:43.837Z"
   },
   {
    "duration": -131,
    "start_time": "2021-12-14T16:24:43.850Z"
   },
   {
    "duration": -130,
    "start_time": "2021-12-14T16:24:43.852Z"
   },
   {
    "duration": -129,
    "start_time": "2021-12-14T16:24:43.853Z"
   },
   {
    "duration": -129,
    "start_time": "2021-12-14T16:24:43.855Z"
   },
   {
    "duration": -129,
    "start_time": "2021-12-14T16:24:43.857Z"
   },
   {
    "duration": -128,
    "start_time": "2021-12-14T16:24:43.858Z"
   },
   {
    "duration": -127,
    "start_time": "2021-12-14T16:24:43.860Z"
   },
   {
    "duration": 7,
    "start_time": "2021-12-14T16:53:56.211Z"
   },
   {
    "duration": 2101,
    "start_time": "2021-12-14T17:02:07.551Z"
   },
   {
    "duration": 117,
    "start_time": "2021-12-14T17:17:58.131Z"
   },
   {
    "duration": 1153,
    "start_time": "2021-12-14T17:18:05.091Z"
   },
   {
    "duration": 322,
    "start_time": "2021-12-14T17:18:40.112Z"
   },
   {
    "duration": 28,
    "start_time": "2021-12-14T17:18:47.441Z"
   },
   {
    "duration": 54,
    "start_time": "2021-12-14T17:19:26.438Z"
   },
   {
    "duration": 258,
    "start_time": "2021-12-14T17:24:00.891Z"
   },
   {
    "duration": 242,
    "start_time": "2021-12-14T17:24:11.549Z"
   },
   {
    "duration": 12,
    "start_time": "2021-12-14T17:25:41.107Z"
   },
   {
    "duration": 11,
    "start_time": "2021-12-14T17:31:10.801Z"
   },
   {
    "duration": 1073,
    "start_time": "2021-12-14T17:31:33.518Z"
   },
   {
    "duration": 1153,
    "start_time": "2021-12-14T17:31:49.821Z"
   },
   {
    "duration": 10,
    "start_time": "2021-12-14T17:31:50.978Z"
   },
   {
    "duration": 5,
    "start_time": "2021-12-14T17:31:50.991Z"
   },
   {
    "duration": 433,
    "start_time": "2021-12-14T17:31:51.018Z"
   },
   {
    "duration": 192,
    "start_time": "2021-12-14T17:31:51.453Z"
   },
   {
    "duration": 1232,
    "start_time": "2021-12-14T17:31:51.648Z"
   },
   {
    "duration": 1598,
    "start_time": "2021-12-14T17:31:54.020Z"
   },
   {
    "duration": 160,
    "start_time": "2021-12-14T17:31:55.621Z"
   },
   {
    "duration": 1483,
    "start_time": "2021-12-14T17:31:55.784Z"
   },
   {
    "duration": 2008,
    "start_time": "2021-12-14T17:31:58.650Z"
   },
   {
    "duration": 24,
    "start_time": "2021-12-14T17:38:29.497Z"
   },
   {
    "duration": 1661,
    "start_time": "2021-12-14T17:42:00.490Z"
   },
   {
    "duration": 24,
    "start_time": "2021-12-14T17:43:54.288Z"
   },
   {
    "duration": 24,
    "start_time": "2021-12-14T17:44:12.700Z"
   },
   {
    "duration": 24,
    "start_time": "2021-12-14T17:44:51.231Z"
   },
   {
    "duration": 1083,
    "start_time": "2021-12-14T17:44:59.330Z"
   },
   {
    "duration": 10,
    "start_time": "2021-12-14T17:45:00.416Z"
   },
   {
    "duration": 5,
    "start_time": "2021-12-14T17:45:00.428Z"
   },
   {
    "duration": 439,
    "start_time": "2021-12-14T17:45:01.258Z"
   },
   {
    "duration": 179,
    "start_time": "2021-12-14T17:45:22.220Z"
   },
   {
    "duration": 1454,
    "start_time": "2021-12-14T17:45:23.640Z"
   },
   {
    "duration": 1763,
    "start_time": "2021-12-14T17:45:28.251Z"
   },
   {
    "duration": 153,
    "start_time": "2021-12-14T17:45:30.466Z"
   },
   {
    "duration": 1680,
    "start_time": "2021-12-14T17:45:31.739Z"
   },
   {
    "duration": 1817,
    "start_time": "2021-12-14T17:46:00.891Z"
   },
   {
    "duration": 382,
    "start_time": "2021-12-14T17:48:11.151Z"
   },
   {
    "duration": 1035,
    "start_time": "2021-12-14T17:49:54.760Z"
   },
   {
    "duration": 20,
    "start_time": "2021-12-14T17:49:55.797Z"
   },
   {
    "duration": 6,
    "start_time": "2021-12-14T17:49:55.819Z"
   },
   {
    "duration": 444,
    "start_time": "2021-12-14T17:49:56.041Z"
   },
   {
    "duration": 218,
    "start_time": "2021-12-14T17:49:56.489Z"
   },
   {
    "duration": 1290,
    "start_time": "2021-12-14T17:50:01.700Z"
   },
   {
    "duration": 154,
    "start_time": "2021-12-14T17:50:06.680Z"
   },
   {
    "duration": 1823,
    "start_time": "2021-12-14T17:50:07.510Z"
   },
   {
    "duration": 401,
    "start_time": "2021-12-14T17:50:18.551Z"
   },
   {
    "duration": 306,
    "start_time": "2021-12-14T17:50:46.410Z"
   },
   {
    "duration": 1070,
    "start_time": "2021-12-14T17:51:23.370Z"
   },
   {
    "duration": 10,
    "start_time": "2021-12-14T17:51:24.443Z"
   },
   {
    "duration": 5,
    "start_time": "2021-12-14T17:51:24.455Z"
   },
   {
    "duration": 424,
    "start_time": "2021-12-14T17:51:26.020Z"
   },
   {
    "duration": 1294,
    "start_time": "2021-12-14T17:51:27.610Z"
   },
   {
    "duration": 178,
    "start_time": "2021-12-14T17:51:30.861Z"
   },
   {
    "duration": 1783,
    "start_time": "2021-12-14T17:51:32.990Z"
   },
   {
    "duration": 333,
    "start_time": "2021-12-14T17:51:45.079Z"
   },
   {
    "duration": 307,
    "start_time": "2021-12-14T17:52:06.021Z"
   },
   {
    "duration": 229,
    "start_time": "2021-12-14T17:53:52.941Z"
   },
   {
    "duration": 456,
    "start_time": "2021-12-14T17:56:00.601Z"
   },
   {
    "duration": 436,
    "start_time": "2021-12-14T17:57:10.141Z"
   },
   {
    "duration": 1052,
    "start_time": "2021-12-14T17:57:21.783Z"
   },
   {
    "duration": 11,
    "start_time": "2021-12-14T17:57:22.838Z"
   },
   {
    "duration": 5,
    "start_time": "2021-12-14T17:57:22.852Z"
   },
   {
    "duration": 452,
    "start_time": "2021-12-14T17:57:22.859Z"
   },
   {
    "duration": 1240,
    "start_time": "2021-12-14T17:57:23.313Z"
   },
   {
    "duration": 169,
    "start_time": "2021-12-14T17:57:24.891Z"
   },
   {
    "duration": 1556,
    "start_time": "2021-12-14T17:57:26.420Z"
   },
   {
    "duration": 488,
    "start_time": "2021-12-14T17:57:30.482Z"
   },
   {
    "duration": 1084,
    "start_time": "2021-12-14T17:58:37.391Z"
   },
   {
    "duration": 10,
    "start_time": "2021-12-14T17:58:38.478Z"
   },
   {
    "duration": 6,
    "start_time": "2021-12-14T17:58:38.491Z"
   },
   {
    "duration": 427,
    "start_time": "2021-12-14T17:58:38.518Z"
   },
   {
    "duration": 1771,
    "start_time": "2021-12-14T17:58:38.948Z"
   },
   {
    "duration": 181,
    "start_time": "2021-12-14T17:58:41.330Z"
   },
   {
    "duration": 1703,
    "start_time": "2021-12-14T17:58:41.514Z"
   },
   {
    "duration": 439,
    "start_time": "2021-12-14T17:58:43.220Z"
   },
   {
    "duration": 1079,
    "start_time": "2021-12-14T18:01:08.401Z"
   },
   {
    "duration": 10,
    "start_time": "2021-12-14T18:01:09.482Z"
   },
   {
    "duration": 26,
    "start_time": "2021-12-14T18:01:09.494Z"
   },
   {
    "duration": 416,
    "start_time": "2021-12-14T18:01:09.552Z"
   },
   {
    "duration": 1270,
    "start_time": "2021-12-14T18:01:09.971Z"
   },
   {
    "duration": 172,
    "start_time": "2021-12-14T18:01:12.767Z"
   },
   {
    "duration": 1955,
    "start_time": "2021-12-14T18:01:13.490Z"
   },
   {
    "duration": 379,
    "start_time": "2021-12-14T18:01:15.448Z"
   },
   {
    "duration": 392,
    "start_time": "2021-12-14T18:12:48.531Z"
   },
   {
    "duration": 191,
    "start_time": "2021-12-14T18:15:11.591Z"
   },
   {
    "duration": 40,
    "start_time": "2021-12-14T18:18:15.540Z"
   },
   {
    "duration": 40,
    "start_time": "2021-12-14T18:18:32.301Z"
   },
   {
    "duration": 14739,
    "start_time": "2021-12-15T17:54:15.034Z"
   },
   {
    "duration": 1947,
    "start_time": "2021-12-15T17:54:29.776Z"
   },
   {
    "duration": 1300,
    "start_time": "2021-12-15T17:54:31.726Z"
   },
   {
    "duration": 22,
    "start_time": "2021-12-15T17:54:33.028Z"
   },
   {
    "duration": 5,
    "start_time": "2021-12-15T17:54:33.052Z"
   },
   {
    "duration": 304,
    "start_time": "2021-12-15T17:54:33.063Z"
   },
   {
    "duration": 1187,
    "start_time": "2021-12-15T17:54:33.369Z"
   },
   {
    "duration": 153,
    "start_time": "2021-12-15T17:54:34.563Z"
   },
   {
    "duration": 1432,
    "start_time": "2021-12-15T17:54:34.718Z"
   },
   {
    "duration": 325,
    "start_time": "2021-12-15T17:54:36.152Z"
   },
   {
    "duration": 157,
    "start_time": "2021-12-15T17:54:36.479Z"
   },
   {
    "duration": 846,
    "start_time": "2021-12-15T17:54:36.638Z"
   },
   {
    "duration": 32,
    "start_time": "2021-12-15T17:54:37.487Z"
   },
   {
    "duration": 777,
    "start_time": "2021-12-15T17:55:12.190Z"
   },
   {
    "duration": 8,
    "start_time": "2021-12-15T17:55:12.968Z"
   },
   {
    "duration": 4,
    "start_time": "2021-12-15T17:55:12.978Z"
   },
   {
    "duration": 281,
    "start_time": "2021-12-15T17:55:13.042Z"
   },
   {
    "duration": 1076,
    "start_time": "2021-12-15T17:55:13.325Z"
   },
   {
    "duration": 187,
    "start_time": "2021-12-15T17:55:14.791Z"
   },
   {
    "duration": 1346,
    "start_time": "2021-12-15T17:55:15.330Z"
   },
   {
    "duration": 280,
    "start_time": "2021-12-15T17:55:16.678Z"
   },
   {
    "duration": 3,
    "start_time": "2021-12-15T17:55:17.982Z"
   },
   {
    "duration": 1108,
    "start_time": "2021-12-15T17:55:19.388Z"
   },
   {
    "duration": 35,
    "start_time": "2021-12-15T17:55:20.498Z"
   },
   {
    "duration": 16,
    "start_time": "2021-12-15T17:55:28.103Z"
   },
   {
    "duration": 1358,
    "start_time": "2021-12-15T17:55:29.021Z"
   },
   {
    "duration": 1079,
    "start_time": "2021-12-15T17:56:26.803Z"
   },
   {
    "duration": 209,
    "start_time": "2021-12-15T17:56:27.884Z"
   },
   {
    "duration": 122,
    "start_time": "2021-12-15T17:56:28.218Z"
   },
   {
    "duration": 767,
    "start_time": "2021-12-15T17:56:32.882Z"
   },
   {
    "duration": 756,
    "start_time": "2021-12-15T17:57:34.403Z"
   },
   {
    "duration": 436,
    "start_time": "2021-12-15T17:58:26.403Z"
   },
   {
    "duration": 300,
    "start_time": "2021-12-15T17:58:38.393Z"
   },
   {
    "duration": 175,
    "start_time": "2021-12-15T17:58:53.689Z"
   },
   {
    "duration": 166,
    "start_time": "2021-12-15T17:59:07.577Z"
   },
   {
    "duration": 4,
    "start_time": "2021-12-15T17:59:26.191Z"
   },
   {
    "duration": 3,
    "start_time": "2021-12-15T17:59:42.828Z"
   },
   {
    "duration": 904,
    "start_time": "2021-12-15T17:59:45.653Z"
   },
   {
    "duration": 111,
    "start_time": "2021-12-15T18:09:52.349Z"
   },
   {
    "duration": 3,
    "start_time": "2021-12-15T18:09:54.108Z"
   },
   {
    "duration": 83,
    "start_time": "2021-12-15T18:09:57.992Z"
   },
   {
    "duration": 16,
    "start_time": "2021-12-15T18:10:02.063Z"
   },
   {
    "duration": 954,
    "start_time": "2021-12-15T18:10:03.323Z"
   },
   {
    "duration": 30,
    "start_time": "2021-12-15T18:10:13.600Z"
   },
   {
    "duration": 15,
    "start_time": "2021-12-15T18:10:15.787Z"
   },
   {
    "duration": 73,
    "start_time": "2021-12-15T18:10:33.823Z"
   },
   {
    "duration": 65,
    "start_time": "2021-12-15T18:10:34.278Z"
   },
   {
    "duration": 142,
    "start_time": "2021-12-15T18:10:34.956Z"
   },
   {
    "duration": 141,
    "start_time": "2021-12-15T18:10:35.398Z"
   },
   {
    "duration": 5,
    "start_time": "2021-12-15T18:10:38.688Z"
   },
   {
    "duration": 3,
    "start_time": "2021-12-15T18:10:40.231Z"
   },
   {
    "duration": 1645,
    "start_time": "2021-12-15T18:10:41.220Z"
   },
   {
    "duration": 1736,
    "start_time": "2021-12-15T18:10:48.845Z"
   },
   {
    "duration": 283,
    "start_time": "2021-12-15T18:10:50.583Z"
   },
   {
    "duration": 10629,
    "start_time": "2021-12-15T18:10:50.868Z"
   },
   {
    "duration": 217,
    "start_time": "2021-12-15T18:11:56.719Z"
   },
   {
    "duration": 3,
    "start_time": "2021-12-15T18:12:12.429Z"
   },
   {
    "duration": 1611,
    "start_time": "2021-12-15T18:12:12.632Z"
   },
   {
    "duration": 133,
    "start_time": "2021-12-15T18:12:34.081Z"
   },
   {
    "duration": 2389,
    "start_time": "2021-12-15T18:12:43.001Z"
   },
   {
    "duration": 17,
    "start_time": "2021-12-15T18:13:20.401Z"
   },
   {
    "duration": 26,
    "start_time": "2021-12-15T18:13:20.931Z"
   },
   {
    "duration": 64,
    "start_time": "2021-12-15T18:13:21.500Z"
   },
   {
    "duration": 143,
    "start_time": "2021-12-15T18:13:21.832Z"
   },
   {
    "duration": 138,
    "start_time": "2021-12-15T18:13:22.605Z"
   },
   {
    "duration": 146,
    "start_time": "2021-12-15T18:13:31.281Z"
   },
   {
    "duration": 4,
    "start_time": "2021-12-15T18:13:34.029Z"
   },
   {
    "duration": 4,
    "start_time": "2021-12-15T18:13:34.373Z"
   },
   {
    "duration": 1675,
    "start_time": "2021-12-15T18:13:34.930Z"
   },
   {
    "duration": 679,
    "start_time": "2021-12-15T18:13:37.530Z"
   },
   {
    "duration": 822,
    "start_time": "2021-12-15T18:23:57.788Z"
   },
   {
    "duration": 8,
    "start_time": "2021-12-15T18:23:58.612Z"
   },
   {
    "duration": 4,
    "start_time": "2021-12-15T18:23:58.622Z"
   },
   {
    "duration": 345,
    "start_time": "2021-12-15T18:23:58.627Z"
   },
   {
    "duration": 1140,
    "start_time": "2021-12-15T18:23:58.975Z"
   },
   {
    "duration": 144,
    "start_time": "2021-12-15T18:24:00.117Z"
   },
   {
    "duration": 1447,
    "start_time": "2021-12-15T18:24:00.264Z"
   },
   {
    "duration": 294,
    "start_time": "2021-12-15T18:24:01.713Z"
   },
   {
    "duration": 172,
    "start_time": "2021-12-15T18:24:02.009Z"
   },
   {
    "duration": 3,
    "start_time": "2021-12-15T18:24:02.183Z"
   },
   {
    "duration": 1251,
    "start_time": "2021-12-15T18:24:02.188Z"
   },
   {
    "duration": 31,
    "start_time": "2021-12-15T18:24:03.442Z"
   },
   {
    "duration": 1200,
    "start_time": "2021-12-15T18:24:03.475Z"
   },
   {
    "duration": 185,
    "start_time": "2021-12-15T18:24:04.676Z"
   },
   {
    "duration": 23,
    "start_time": "2021-12-15T18:24:04.863Z"
   },
   {
    "duration": 653,
    "start_time": "2021-12-15T18:24:04.888Z"
   },
   {
    "duration": 74,
    "start_time": "2021-12-15T18:24:05.543Z"
   },
   {
    "duration": 150,
    "start_time": "2021-12-15T18:24:05.619Z"
   },
   {
    "duration": 145,
    "start_time": "2021-12-15T18:24:05.771Z"
   },
   {
    "duration": 4,
    "start_time": "2021-12-15T18:24:05.917Z"
   },
   {
    "duration": 8,
    "start_time": "2021-12-15T18:24:05.923Z"
   },
   {
    "duration": 9930,
    "start_time": "2021-12-15T18:24:05.933Z"
   },
   {
    "duration": 2259,
    "start_time": "2021-12-15T18:24:15.865Z"
   },
   {
    "duration": 221,
    "start_time": "2021-12-15T18:24:18.126Z"
   },
   {
    "duration": 243,
    "start_time": "2021-12-15T18:24:18.349Z"
   },
   {
    "duration": 6,
    "start_time": "2021-12-15T18:24:55.984Z"
   },
   {
    "duration": 4,
    "start_time": "2021-12-15T18:24:56.253Z"
   },
   {
    "duration": 10411,
    "start_time": "2021-12-15T18:24:56.893Z"
   },
   {
    "duration": 3243,
    "start_time": "2021-12-15T18:25:07.306Z"
   },
   {
    "duration": 4,
    "start_time": "2021-12-15T18:26:16.523Z"
   },
   {
    "duration": 10229,
    "start_time": "2021-12-15T18:26:29.099Z"
   },
   {
    "duration": 2232,
    "start_time": "2021-12-15T18:26:48.513Z"
   },
   {
    "duration": 3,
    "start_time": "2021-12-15T18:28:08.682Z"
   },
   {
    "duration": 185,
    "start_time": "2021-12-15T18:28:15.633Z"
   },
   {
    "duration": 206,
    "start_time": "2021-12-15T18:33:21.067Z"
   },
   {
    "duration": 4,
    "start_time": "2021-12-15T18:34:16.210Z"
   },
   {
    "duration": 4,
    "start_time": "2021-12-15T18:34:16.443Z"
   },
   {
    "duration": 3,
    "start_time": "2021-12-15T18:34:16.684Z"
   },
   {
    "duration": 185,
    "start_time": "2021-12-15T18:34:25.474Z"
   },
   {
    "duration": 10245,
    "start_time": "2021-12-15T18:34:38.642Z"
   },
   {
    "duration": 1631,
    "start_time": "2021-12-15T18:34:48.889Z"
   },
   {
    "duration": 25104,
    "start_time": "2021-12-15T18:35:00.863Z"
   },
   {
    "duration": 298,
    "start_time": "2021-12-15T18:35:25.969Z"
   },
   {
    "duration": 64411,
    "start_time": "2021-12-15T18:35:30.634Z"
   },
   {
    "duration": 10788,
    "start_time": "2021-12-15T18:36:35.047Z"
   },
   {
    "duration": 5,
    "start_time": "2021-12-15T18:45:30.081Z"
   },
   {
    "duration": 822,
    "start_time": "2021-12-15T18:45:30.473Z"
   },
   {
    "duration": 8,
    "start_time": "2021-12-15T18:45:31.297Z"
   },
   {
    "duration": 4,
    "start_time": "2021-12-15T18:45:31.307Z"
   },
   {
    "duration": 308,
    "start_time": "2021-12-15T18:45:31.724Z"
   },
   {
    "duration": 1158,
    "start_time": "2021-12-15T18:45:32.034Z"
   },
   {
    "duration": 141,
    "start_time": "2021-12-15T18:45:33.513Z"
   },
   {
    "duration": 1531,
    "start_time": "2021-12-15T18:45:34.143Z"
   },
   {
    "duration": 277,
    "start_time": "2021-12-15T18:45:36.340Z"
   },
   {
    "duration": 162,
    "start_time": "2021-12-15T18:45:47.762Z"
   },
   {
    "duration": 3,
    "start_time": "2021-12-15T18:45:49.562Z"
   },
   {
    "duration": 874,
    "start_time": "2021-12-15T18:45:51.442Z"
   },
   {
    "duration": 15,
    "start_time": "2021-12-15T18:45:52.318Z"
   },
   {
    "duration": 1161,
    "start_time": "2021-12-15T18:45:52.724Z"
   },
   {
    "duration": 186,
    "start_time": "2021-12-15T18:45:53.887Z"
   },
   {
    "duration": 18,
    "start_time": "2021-12-15T18:45:54.075Z"
   },
   {
    "duration": 682,
    "start_time": "2021-12-15T18:45:54.095Z"
   },
   {
    "duration": 65,
    "start_time": "2021-12-15T18:45:54.779Z"
   },
   {
    "duration": 158,
    "start_time": "2021-12-15T18:45:54.847Z"
   },
   {
    "duration": 151,
    "start_time": "2021-12-15T18:45:55.008Z"
   },
   {
    "duration": 4,
    "start_time": "2021-12-15T18:45:55.273Z"
   },
   {
    "duration": 3,
    "start_time": "2021-12-15T18:45:55.835Z"
   },
   {
    "duration": 3,
    "start_time": "2021-12-15T18:45:56.383Z"
   },
   {
    "duration": 10315,
    "start_time": "2021-12-15T18:45:56.552Z"
   },
   {
    "duration": 1649,
    "start_time": "2021-12-15T18:46:06.870Z"
   },
   {
    "duration": 28745,
    "start_time": "2021-12-15T18:46:08.521Z"
   },
   {
    "duration": 298,
    "start_time": "2021-12-15T18:46:37.268Z"
   },
   {
    "duration": 66920,
    "start_time": "2021-12-15T18:46:37.571Z"
   },
   {
    "duration": 10726,
    "start_time": "2021-12-15T18:47:44.493Z"
   },
   {
    "duration": 773,
    "start_time": "2021-12-15T18:49:29.750Z"
   },
   {
    "duration": 8,
    "start_time": "2021-12-15T18:49:30.525Z"
   },
   {
    "duration": 5,
    "start_time": "2021-12-15T18:49:30.535Z"
   },
   {
    "duration": 322,
    "start_time": "2021-12-15T18:49:30.542Z"
   },
   {
    "duration": 1131,
    "start_time": "2021-12-15T18:49:30.866Z"
   },
   {
    "duration": 149,
    "start_time": "2021-12-15T18:49:31.999Z"
   },
   {
    "duration": 1404,
    "start_time": "2021-12-15T18:49:32.150Z"
   },
   {
    "duration": 285,
    "start_time": "2021-12-15T18:49:33.556Z"
   },
   {
    "duration": 172,
    "start_time": "2021-12-15T18:49:33.843Z"
   },
   {
    "duration": 2,
    "start_time": "2021-12-15T18:49:34.018Z"
   },
   {
    "duration": 733,
    "start_time": "2021-12-15T18:49:34.022Z"
   },
   {
    "duration": 13,
    "start_time": "2021-12-15T18:49:34.757Z"
   },
   {
    "duration": 1133,
    "start_time": "2021-12-15T18:49:34.772Z"
   },
   {
    "duration": 182,
    "start_time": "2021-12-15T18:49:35.907Z"
   },
   {
    "duration": 15,
    "start_time": "2021-12-15T18:49:36.090Z"
   },
   {
    "duration": 1072,
    "start_time": "2021-12-15T18:49:36.106Z"
   },
   {
    "duration": 106,
    "start_time": "2021-12-15T18:49:37.181Z"
   },
   {
    "duration": 229,
    "start_time": "2021-12-15T18:49:37.290Z"
   },
   {
    "duration": 245,
    "start_time": "2021-12-15T18:49:37.523Z"
   },
   {
    "duration": 5,
    "start_time": "2021-12-15T18:49:37.770Z"
   },
   {
    "duration": 9,
    "start_time": "2021-12-15T18:49:37.777Z"
   },
   {
    "duration": 6,
    "start_time": "2021-12-15T18:49:37.788Z"
   },
   {
    "duration": 15455,
    "start_time": "2021-12-15T18:49:37.797Z"
   },
   {
    "duration": 2073,
    "start_time": "2021-12-15T18:49:53.253Z"
   },
   {
    "duration": 27642,
    "start_time": "2021-12-15T18:49:55.328Z"
   },
   {
    "duration": 202,
    "start_time": "2021-12-15T18:50:22.973Z"
   },
   {
    "duration": 62690,
    "start_time": "2021-12-15T18:50:23.177Z"
   },
   {
    "duration": 10432,
    "start_time": "2021-12-15T18:51:25.869Z"
   },
   {
    "duration": 4,
    "start_time": "2021-12-15T18:52:34.477Z"
   },
   {
    "duration": 179,
    "start_time": "2021-12-15T18:52:36.210Z"
   },
   {
    "duration": 191,
    "start_time": "2021-12-15T18:52:53.019Z"
   },
   {
    "duration": 3,
    "start_time": "2021-12-15T18:53:07.288Z"
   },
   {
    "duration": 4,
    "start_time": "2021-12-15T18:53:07.489Z"
   },
   {
    "duration": 1487,
    "start_time": "2021-12-20T04:42:25.171Z"
   },
   {
    "duration": 20,
    "start_time": "2021-12-20T04:42:38.097Z"
   },
   {
    "duration": 997,
    "start_time": "2021-12-20T04:43:24.505Z"
   },
   {
    "duration": 13,
    "start_time": "2021-12-20T04:43:28.488Z"
   },
   {
    "duration": 4,
    "start_time": "2021-12-20T04:43:29.640Z"
   },
   {
    "duration": 272,
    "start_time": "2021-12-20T04:43:30.521Z"
   },
   {
    "duration": 911,
    "start_time": "2021-12-20T04:43:31.071Z"
   },
   {
    "duration": 128,
    "start_time": "2021-12-20T04:43:33.492Z"
   },
   {
    "duration": 1174,
    "start_time": "2021-12-20T04:43:34.150Z"
   },
   {
    "duration": 282,
    "start_time": "2021-12-20T04:43:35.326Z"
   },
   {
    "duration": 143,
    "start_time": "2021-12-20T04:43:37.381Z"
   },
   {
    "duration": 4,
    "start_time": "2021-12-20T04:43:37.525Z"
   },
   {
    "duration": 13370,
    "start_time": "2021-12-20T04:43:37.742Z"
   },
   {
    "duration": 6,
    "start_time": "2021-12-20T04:43:51.114Z"
   },
   {
    "duration": 583,
    "start_time": "2021-12-20T04:43:51.122Z"
   },
   {
    "duration": 102,
    "start_time": "2021-12-20T04:43:56.194Z"
   },
   {
    "duration": 1116,
    "start_time": "2021-12-20T04:43:58.391Z"
   },
   {
    "duration": 183,
    "start_time": "2021-12-20T04:44:00.342Z"
   },
   {
    "duration": 15,
    "start_time": "2021-12-20T04:44:01.174Z"
   },
   {
    "duration": 573,
    "start_time": "2021-12-20T04:44:02.062Z"
   },
   {
    "duration": 48,
    "start_time": "2021-12-20T04:44:02.992Z"
   },
   {
    "duration": 4,
    "start_time": "2021-12-20T04:44:10.577Z"
   },
   {
    "duration": 3,
    "start_time": "2021-12-20T04:44:12.038Z"
   },
   {
    "duration": 3,
    "start_time": "2021-12-20T04:44:12.970Z"
   },
   {
    "duration": 7924,
    "start_time": "2021-12-20T04:44:16.940Z"
   },
   {
    "duration": 1499,
    "start_time": "2021-12-20T04:44:34.188Z"
   },
   {
    "duration": 17515,
    "start_time": "2021-12-20T04:44:39.681Z"
   },
   {
    "duration": 173,
    "start_time": "2021-12-20T04:44:58.724Z"
   },
   {
    "duration": 49647,
    "start_time": "2021-12-20T04:45:02.570Z"
   },
   {
    "duration": 9704,
    "start_time": "2021-12-20T04:45:52.218Z"
   },
   {
    "duration": 96173,
    "start_time": "2021-12-20T04:46:01.924Z"
   },
   {
    "duration": 254,
    "start_time": "2021-12-20T05:07:32.099Z"
   },
   {
    "duration": 3,
    "start_time": "2021-12-20T05:07:36.112Z"
   },
   {
    "duration": 31439,
    "start_time": "2021-12-20T05:07:38.755Z"
   },
   {
    "duration": 4,
    "start_time": "2021-12-20T05:08:44.115Z"
   },
   {
    "duration": 3,
    "start_time": "2021-12-20T05:08:44.575Z"
   },
   {
    "duration": 86434,
    "start_time": "2021-12-20T05:09:01.866Z"
   },
   {
    "duration": 1558,
    "start_time": "2021-12-20T05:11:04.003Z"
   },
   {
    "duration": 4943,
    "start_time": "2021-12-20T05:11:17.918Z"
   },
   {
    "duration": 167,
    "start_time": "2021-12-20T05:18:52.084Z"
   }
  ],
  "kernelspec": {
   "display_name": "Python 3",
   "language": "python",
   "name": "python3"
  },
  "language_info": {
   "codemirror_mode": {
    "name": "ipython",
    "version": 3
   },
   "file_extension": ".py",
   "mimetype": "text/x-python",
   "name": "python",
   "nbconvert_exporter": "python",
   "pygments_lexer": "ipython3",
   "version": "3.8.5"
  },
  "notebookId": "99e36eca-1945-451e-bbb3-312314916c0a",
  "notebookPath": "578283bc-1fcc-49dd-af05-1698d71a2c7d.ipynb",
  "toc": {
   "base_numbering": 1,
   "nav_menu": {},
   "number_sections": true,
   "sideBar": true,
   "skip_h1_title": true,
   "title_cell": "Table of Contents",
   "title_sidebar": "Contents",
   "toc_cell": false,
   "toc_position": {},
   "toc_section_display": true,
   "toc_window_display": false
  }
 },
 "nbformat": 4,
 "nbformat_minor": 4
}
